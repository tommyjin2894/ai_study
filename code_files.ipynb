{
 "cells": [
  {
   "cell_type": "code",
   "execution_count": 1,
   "metadata": {},
   "outputs": [],
   "source": [
    "# import os\n",
    "\n",
    "# def replace_spaces_and_commas_in_filenames(directory):\n",
    "#     if os.path.exists(directory):\n",
    "#         print(\"디렉토리 내 파일 목록:\")\n",
    "#         for dirpath, dirnames, filenames in os.walk(directory):\n",
    "#             for filename in filenames:\n",
    "#                 # 현재 파일의 전체 경로\n",
    "#                 old_file_path = os.path.join(dirpath, filename)\n",
    "#                 new_filename = filename.replace(' ', '_').replace(',', '_')  # 공백과 쉼표를 언더스코어로 대체\n",
    "#                 new_file_path = os.path.join(dirpath, new_filename)\n",
    "\n",
    "#                 # 파일 이름 변경을 위한 조건\n",
    "#                 if old_file_path != new_file_path:\n",
    "#                     try:\n",
    "#                         os.rename(old_file_path, new_file_path)\n",
    "#                         print(f\"변경됨: {old_file_path} -> {new_file_path}\")\n",
    "#                     except Exception as e:\n",
    "#                         print(f\"{old_file_path} 이름 변경 중 오류 발생: {e}\")\n",
    "#                 else:\n",
    "#                     print(f\"변경할 필요 없음: {old_file_path}\")\n",
    "#     else:\n",
    "#         print(\"지정한 경로가 존재하지 않습니다.\")\n",
    "\n",
    "# # 사용 예\n",
    "# directory_path = 'code'  # 수정할 디렉토리 경로\n",
    "# replace_spaces_and_commas_in_filenames(directory_path)\n"
   ]
  },
  {
   "cell_type": "markdown",
   "metadata": {},
   "source": [
    "### 파일 하이라키 구조"
   ]
  },
  {
   "cell_type": "code",
   "execution_count": 2,
   "metadata": {},
   "outputs": [],
   "source": [
    "import os\n",
    "\n",
    "def list_files(curr_dir):\n",
    "    list_of_file_dir = []\n",
    "    for root, dirs, files in os.walk(curr_dir):\n",
    "        for file in files:\n",
    "            nof = os.path.join(root, file)\n",
    "            if ('code/' in nof) and ('ipynb' in nof):\n",
    "                # code 폴더 이후의 경로만 가져옴\n",
    "                relative_path = nof.split('code/')[1]\n",
    "                list_of_file_dir.append((relative_path, nof))  # (상대 경로, 전체 경로)\n",
    "    return list_of_file_dir\n",
    "\n",
    "def generate_hierarchy(files):\n",
    "    hierarchy = {}\n",
    "    for relative_path, full_path in files:\n",
    "        parts = relative_path.split('/')  # 경로를 폴더별로 분리\n",
    "        current_level = hierarchy\n",
    "        for part in parts[:-1]:  # 마지막 요소(파일명)는 제외하고 폴더만 처리\n",
    "            if part not in current_level:\n",
    "                current_level[part] = {}\n",
    "            current_level = current_level[part]\n",
    "        current_level[parts[-1]] = full_path  # 파일은 전체 경로와 함께 저장\n",
    "    return hierarchy\n",
    "\n",
    "def write_hierarchy_to_markdown(hierarchy, f, indent=0):\n",
    "    for key, value in hierarchy.items():\n",
    "        if isinstance(value, str):  # 파일 (전체 경로를 가진 경우)\n",
    "            # 파일명을 링크 형식으로 작성\n",
    "            f.write(f\"{'    ' * indent}- [{key}]({value.split('ai_study')[-1]})\\n\")\n",
    "        else:  # 폴더\n",
    "            f.write(f\"{'    ' * indent}- {key}\\n\")\n",
    "            write_hierarchy_to_markdown(value, f, indent + 1)\n",
    "\n",
    "# 현재 폴더에서 시작\n",
    "current_directory = os.getcwd()\n",
    "lof_ = list_files(current_directory)\n",
    "\n",
    "# 계층 구조 생성\n",
    "hierarchy_files = generate_hierarchy(lof_)\n",
    "\n",
    "# 결과를 Markdown 파일로 저장\n",
    "with open('markdown/00_files.md', 'w') as f:\n",
    "    f.write('### 전체 코드 파일\\n\\n')\n",
    "    write_hierarchy_to_markdown(hierarchy_files, f)\n"
   ]
  }
 ],
 "metadata": {
  "kernelspec": {
   "display_name": "p311",
   "language": "python",
   "name": "python3"
  },
  "language_info": {
   "codemirror_mode": {
    "name": "ipython",
    "version": 3
   },
   "file_extension": ".py",
   "mimetype": "text/x-python",
   "name": "python",
   "nbconvert_exporter": "python",
   "pygments_lexer": "ipython3",
   "version": "3.11.9"
  }
 },
 "nbformat": 4,
 "nbformat_minor": 2
}
