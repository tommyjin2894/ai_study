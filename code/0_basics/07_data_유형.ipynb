{
 "cells": [
  {
   "cell_type": "markdown",
   "metadata": {},
   "source": [
    "### 정량적 데이터 (Quantitative Data)\n",
    "- 연속형 (Continuous): 특정 범위 내에서 무한히 많은 값을 가질 수 있음.\n",
    "- 이산형 (Discrete): 정수 형태로 명확히 구분됨."
   ]
  },
  {
   "cell_type": "markdown",
   "metadata": {},
   "source": [
    "\n",
    "### 질적 데이터 (Qualitative Data)\n",
    "- Ordinal (서수형): 순서가 있는 데이터.\n",
    "- Nominal (명목형): 순서가 없는 데이터.\n",
    "- Binary Data (이진 데이터): 두 가지 상태 (0/1)로 표현."
   ]
  },
  {
   "cell_type": "markdown",
   "metadata": {},
   "source": [
    "\n",
    "### 시계열 및 공간 데이터 (Temporal and Spatial Data)\n",
    "- Time Series Data (시계열 데이터): 시간 순서에 따른 데이터.\n",
    "- Geospatial Data (지리 공간 데이터): 위치 정보를 포함."
   ]
  },
  {
   "cell_type": "markdown",
   "metadata": {},
   "source": [
    "\n",
    "### 미디어 및 센서 데이터 (Media and Sensor Data)\n",
    "- Text Data (텍스트 데이터): 문자열로 이루어진 데이터.\n",
    "- Image Data (이미지 데이터): 픽셀로 구성된 시각 정보.\n",
    "- Audio Data (오디오 데이터): 소리 정보를 담음.\n",
    "- Video Data (비디오 데이터): 시각 및 청각 정보를 결합.\n",
    "- Sensor Data (센서 데이터): 센서 장비에서 수집된 데이터."
   ]
  },
  {
   "cell_type": "markdown",
   "metadata": {},
   "source": [
    "\n",
    "### 구조 및 관계 데이터 (Structured and Relational Data)\n",
    "- Graph Data (그래프 데이터): 노드와 엣지로 객체 간의 관계 표현.\n",
    "- Hierarchical Data (계층적 데이터): 트리구조로 된 데이터.\n",
    "- Multidimensional Data (다차원 데이터): 여러 차원의 속성을 가진 데이터."
   ]
  },
  {
   "cell_type": "markdown",
   "metadata": {},
   "source": [
    "\n",
    "### 행동 및 활동 데이터 (Behavioral and Activity Data)\n",
    "- Behavioral Data (행동 데이터): 사용자 행동을 추적.\n",
    "- Log Data (로그 데이터): 시스템 활동을 기록."
   ]
  },
  {
   "cell_type": "markdown",
   "metadata": {},
   "source": [
    "\n",
    "### 부가 및 설명 데이터 (Supplementary and Descriptive Data)\n",
    "- Meta Data (메타데이터): 다른 데이터를 설명하는 데이터."
   ]
  },
  {
   "cell_type": "markdown",
   "metadata": {},
   "source": [
    "\n",
    "### 복합 및 실시간 데이터 (Composite and Real-time Data)\n",
    "- Mixed Data (혼합 데이터): 여러 유형을 결합한 데이터.\n",
    "- Streaming Data (스트리밍 데이터): 실시간으로 들어오는 데이터."
   ]
  },
  {
   "cell_type": "markdown",
   "metadata": {},
   "source": [
    "\n",
    "### 이상 및 특이 데이터 (Anomalous and Atypical Data)\n",
    "- Anomalous Data (이상 데이터): 정상 패턴에서 벗어난 데이터.\n",
    "- Sparse Data (희소 데이터): 많은 값이 0이거나 비어 있음."
   ]
  },
  {
   "cell_type": "markdown",
   "metadata": {},
   "source": [
    "\n",
    "### 임베디드 및 트랜잭션 데이터 (Embedded and Transactional Data)\n",
    "- Embedded Data (임베디드 데이터): 다른 데이터 구조 내에 포함.\n",
    "- Transactional Data (트랜잭션 데이터): 상거래 과정에서 발생 데이터."
   ]
  },
  {
   "cell_type": "markdown",
   "metadata": {},
   "source": [
    "\n",
    "### 횡단면 및 종단 데이터 (Cross-sectional and Longitudinal Data)\n",
    "- Cross-sectional Data (횡단면 데이터): 단일 시점에서 여러 관측치.\n",
    "- Longitudinal Data (종단 데이터): 시간에 따른 동일 관측 대상 데이터."
   ]
  }
 ],
 "metadata": {
  "language_info": {
   "name": "python"
  }
 },
 "nbformat": 4,
 "nbformat_minor": 2
}
