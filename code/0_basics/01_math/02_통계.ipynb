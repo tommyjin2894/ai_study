{
 "cells": [
  {
   "cell_type": "markdown",
   "metadata": {},
   "source": [
    "### 1. 통계와 데이터 분석의 기초 개념\n",
    "<img src=\"https://www.notion.so/signed/https%3A%2F%2Fprod-files-secure.s3.us-west-2.amazonaws.com%2F1f406a34-9833-41b3-af5a-06ebe0821494%2F417a8d2b-769c-4dfb-b742-41d98672745b%2FUntitled.png?table=block&id=110f678f-8046-8089-91a3-cd99f721ce19&spaceId=1f406a34-9833-41b3-af5a-06ebe0821494&name=Untitled.png&userId=5daebf9d-75f2-4723-87e1-8b1f72e4f87f&cache=v2\" alt=\"설명\" width=\"500\"/>\n",
    "\n",
    "- **모집단 (Population)** : 관심 집단의 **전체**를 이야기한다.\n",
    "    - **$\\mu$ (mu) 모평균 : 모집단**의 **평균**\n",
    "    - $\\sigma$ **(sigma) : 모집단의 표준편차 : $\\mu$ 와 $x$ 의 차이**\n",
    "        - $\\sigma = \\sqrt{\\frac{\\Sigma_{i=1}^N (\\mu - X_i)^2}{N}}$\n",
    "    \n",
    "- **표본 집단 (Sample) :** 일반적으로 전체를 알려고 하면 어마어마한 돈이 들기 때문에 **집단의 일부**를 뽑아 통계를 낸다.\n",
    "    - $\\bar{X}$ **(x bar) 평균 : $n$ 개 요소가 있는 단일 표본 집단**의 **평균**\n",
    "    - $s$  : 표본 집단의 표준 편차 :\n",
    "        - $s = \\sqrt{\\frac{\\Sigma_{i=1}^n (\\bar{X}- X_i)^2}{n-1}}$\n",
    "    \n",
    "    - **표본의 대표성 :** 표본의 대표성이 확보가 됐는가?\n",
    "- **탐색적 데이터 분석 (EDA)** : 표, 그래프, 평균 … 등으로 데이터를 이해하고 중요한 **특징, 패턴, 이상치 및 가설을 발견**하기 위한 과정\n",
    "- **통계 분석 (가설 검정)** : 가설이 **유 의미** 한지 **무 의미** 한지 검증 한다.\n",
    "    - 인공 지능(ML, DL, LLM) 들은 직관적이지 않다. - 즉 설명 가능해야 신뢰성이 높아진다.\n",
    "- **추론 한다 (inference)** : **표본**을 가지고 **모 집단**을 예상한다.\n",
    "    - **추정 (Estimation)** : 모르는 것을 몇 가지 정보로 특정 포인트 및 구간으로 추정\n",
    "        - **점 추정 (point estimation) 예시 :**  $\\mu$ 는 $\\bar{X}$ 이다!\n",
    "        - **구간 추정 (interval estimation) 예시 :** $\\mu$ 는 ($\\bar{X} + \\alpha$) 와 ($\\bar{X} - \\alpha$)  사이 이다!\n",
    "    - **가설 검증** : **귀무 가설**과 **대립 가설**을 설정하고 유 의미 **(놀라운!)** 인지 아닌지 검증한다.\n",
    "        - **귀무 가설 ($H_0$) :** 차이가 없다는 가설 즉 **기존의 가설이 옳다**.\n",
    "        - **대립 가설 ($H_1$ or $H_a$) :** 차이가 있다는 가설 즉 **새로운 가설이 옳다.**"
   ]
  },
  {
   "cell_type": "markdown",
   "metadata": {},
   "source": [
    "### 2. 정규 분포 (Normal Distribution)\n",
    "\n",
    "- **중요! 우선 분포를 먼저 알아야 한다. ( 어떤 분포를 따르는 지! )**\n",
    "    \n",
    "    **항상 분포를 보려고 노력해야 한다.**\n",
    "    \n",
    "- 모 집단(Population) X에 대하여\n",
    "    - 모 집단은 **정규 분포**를 따른다 의 수학식 :\n",
    "        - $X \\sim N(\\mu,\\sigma^2)$\n",
    "    \n",
    "- 표본 평균 집단 $\\bar{X}$에 대하여\n",
    "    - 표본 평균  집단은 **정규 분포**를 따른다 의 수학식\n",
    "        - $\\bar{X} \\sim N(\\mu,(\\frac{\\sigma}{\\sqrt{n}})^2)$\n",
    "- 정규 분포의 넓이\n",
    "      <img src=\"https://www.notion.so/signed/https%3A%2F%2Fprod-files-secure.s3.us-west-2.amazonaws.com%2F1f406a34-9833-41b3-af5a-06ebe0821494%2Fd1bfec62-f37c-4065-982a-71a99b17aa04%2Fimage.png?table=block&id=110f678f-8046-8047-a332-c4dbf62c85fc&spaceId=1f406a34-9833-41b3-af5a-06ebe0821494&name=image.png&userId=5daebf9d-75f2-4723-87e1-8b1f72e4f87f&cache=v2\" width=\"500\"/>\n",
    "\n",
    "    - 모든 분포의 넓이는 1 (100%) 이다.\n",
    "    - 정규 분포에서의 넓이 (확률)\n",
    "        - $\\mu \\pm 1\\sigma= 0.6826$ ( 보라색 부분의 너비)\n",
    "        - $\\mu \\pm 2\\sigma= 0.9544$ ( 초록색 부분의 너비)\n",
    "        - $\\mu \\pm 3\\sigma= 0.9974$ ( 빨간색 부분의 너비)\n",
    "\n",
    "- 예시\n",
    "      <img src=\"https://img.notionusercontent.com/s3/prod-files-secure%2F1f406a34-9833-41b3-af5a-06ebe0821494%2F43609887-2aa2-4d2e-a972-fdbcb6d4ba2c%2FUntitled.png/size/w=2000?exp=1728711104&sig=PBzHS1OrfUIyCjcq9ubKwp0MmyxnAkFAZAkDxEYCElQ\" width=\"500\"/>\n",
    "    \n",
    "    - $X\\sim N(170,10^2)$ 의 100개의 표본( $n=100$ ) 일 때 표본 100개 에 대한 평균 $\\bar{X}$ = 173 이라고 가정\n",
    "    - 이때의 분포는? ⇒ **모른다!!!**\n",
    "    - 그렇다면 모집단의 분포가 정규 분포 일 때, 표본 평균 분포는? **정규 분포**\n",
    "    - 표본 집단이 $\\bar{X}\\sim N(170,1^2)$ 일 때 $\\bar{X} = 173$ 이상이 나올 확률\n",
    "\n",
    "    <img src=\"https://www.notion.so/signed/https%3A%2F%2Fprod-files-secure.s3.us-west-2.amazonaws.com%2F1f406a34-9833-41b3-af5a-06ebe0821494%2Fea70d581-76f5-4b26-bb0a-4ec338a2727d%2Fimage.png?table=block&id=110f678f-8046-81f3-aeda-d6d2b9fac619&spaceId=1f406a34-9833-41b3-af5a-06ebe0821494&name=image.png&userId=5daebf9d-75f2-4723-87e1-8b1f72e4f87f\" width=\"500\"/>\n",
    "    \n",
    "    - $170 + 3 = 173$\n",
    "    - $\\mu \\pm 3\\sigma \\space \\text{의 넓이} = 0.9974$\n",
    "    - $\\frac{1 - 0.9974}{2} = 0.0013 \\overset{\\sim}{=} 0.13 \\%$"
   ]
  },
  {
   "cell_type": "markdown",
   "metadata": {},
   "source": [
    "### 3. 표준화 (Standardization)\n",
    "\n",
    "- 표준화: 값의 범위(scale)을 평균 0, 분산을 1 로 변환하는 것.\n",
    "- 표준화를 하는 이유\n",
    "    - 모양을 통일 시킨다\n",
    "    - 단위 간의 비교가 가능하게 한다. (kg, cm 등)\n",
    "    - 예측 성능을 높여준다.\n",
    "\n",
    "- 표준화 하기 : $z \\sim N(0,1)$\n",
    "    - $z \\sim N(0,1)$ : 평균이 0이고 표준 편차가 1인 정규 분포를 따른다.\n",
    "        - 모 집단의 정규분포의 표준화 $X \\sim N(\\mu,\\sigma^2)$\n",
    "            - $X' = \\frac{X - \\mu}{\\sigma} = z$\n",
    "            - $\\therefore \\frac{X - \\mu}{\\sigma}\\sim N(0,1^2)$\n",
    "        - 표본집단의 정규분포의 표준화 $\\bar{X} \\sim N(\\mu,(\\frac{\\sigma}{\\sqrt{n}})^2)$\n",
    "            - $X' = \\frac{\\bar{X} - \\mu}{ {\\sigma}/{\\sqrt{n}}} = z$\n",
    "            - $\\therefore \\frac{\\bar{X} - \\mu}{ {\\sigma} / {\\sqrt{n}}} \\sim N(0,1^2)$\n",
    "\n",
    "- 일 표본 t-test (one-sample t-test)\n",
    "\n",
    "    - 하지만 일반적으로 모집단의 표준 편차를 모르므로 $\\sigma$ 대신 s로 두면\n",
    "        - 즉:\n",
    "            - $\\frac{\\bar{X} - \\mu}{ {s} / {\\sqrt{n}}} \\sim N(0,1^2)$ \n",
    "            - $\\therefore s = \\sqrt{\\frac{\\Sigma_{i=1}^n (\\bar{X}- X_i)^2}{n-1}}$\n",
    "\n",
    ">**참고! 자유도($n-1)$에 관한 이야기**\n",
    ">\n",
    ">여기 에서 $(n-1)$ 은 자유도를 나타낸다. 표본의 평균을 계산하는 과정에서 표본 내의 제약 때문에 발생 즉!\n",
    ">\n",
    ">1. 표본 분산($s^2$)은 모집단의 분산을 추정한 값이기 때문에 편향되어 있다.\n",
    ">2. 표본의 분산은 모집단의 분산보다 작게 나옵니다. 이는 각 요소들을 제곱하여 더하기 때문이다.\n",
    ">3. 편향을 보정하기 위해 표본의 크기를 ($n-1$) 로 나누어 모집단의 분산을 모르기 때문에 편향 값을 수정\n",
    ">4. 표본의 크기가 커질수록 모 분산 $\\sigma^2$ 과 표본 분산 $s^2$ 차이가 줄어든다.\n",
    ">- t 분포의 기호는 $t \\sim t(n-1)$ 이고 t-value 는 t 분포를 따른다 를 의미하고 위의 표준 편차를 t 분포로 나타내면 아래와 같다.\n",
    ">\n",
    ">   - $\\frac{\\bar{X} - \\mu}{ {s} / {\\sqrt{n}}} \\sim t(n-1)$ <br>\n",
    ">\n",
    "          "
   ]
  },
  {
   "cell_type": "markdown",
   "metadata": {},
   "source": [
    "### 4. 가설(Hypothesis) 검정\n",
    "\n",
    "- 모수(parameter) : 모집단의 파라미터 ( 평균, 표준편차, 등등… )\n",
    "- 가설 : 모수 에 대한 입장\n",
    "    - **귀무 가설 $H_0$**  : 모집단에 대한 **기존의 입장**\n",
    "    - **대립 가설** $H_1$ or $H_a$ : 모집단에 대한 **새로운 입장**\n",
    "\n",
    "- **귀무 가설 ($H_0$ : Null Hypothesis) 및 대립 가설 ($H_1$ or $H_a$ : Alternative Hypothesis)**\n",
    "    || $H_0$ 결정 | $H_1$ 결정 |\n",
    "    | --- | --- | --- |\n",
    "    | $H_0$ 사실 | **OK** | $\\alpha$ Error |\n",
    "    | $H_1$ 사실 | $\\beta$ Error | **OK** |\n",
    "    - 위의 표에서 기존의 입장 이 옳고 기존의 입장대로 결정하거나, 새로운 사실이 옳고 새로운 사실대로 결정할 시에는 문제 가없다.\n",
    "    - **$\\alpha$ Error : 기존의 사실 $H_0$ 이 옳지만 새로운 입장대로 $H_1$ 결정하는 경우 ⇒ 유의 수준 (SIgnificant Level)**\n",
    "        - $\\alpha$ = 0.05 로 설정하고 새로운 표본집단의 평균 ( **$\\bar{x}$** ) 이 유의 수준인 0.05 보다 적다면 대립가설로 결정한다.\n",
    "    - **$\\beta$ Error  : 새로운 사실** $H_1$ 이 옳지만 **기존의 입장대로** $H_0$ **결정**하는 경우\n",
    "    - 일반적으로 **$\\alpha$ Error 와  $\\beta$ Error 는 반 비례 관계를 가진다.**\n",
    "\n",
    "- **유의 확률(p-value)**\n",
    "\n",
    "    - 표본에서 관찰한 값(표본 평균 $ \\bar{x} $)이 귀무 가설이 맞다는 가정 에서의 분포에서 얼마나 일어날 지 를 알려 주는 값\n",
    "    - 유의확률이 작다는 것은? **$\\alpha$ Error 가 작다**\n",
    "    표본에서 관찰한 값(표본 평균 $\\bar{x}$)이 귀무가설이 맞다는 가정하에서 일어나기 어려운 사건인데, 일어나\n",
    "        - 놀란다. 의미를 둔다. 유의미한, 의미있는 → 대립가설 $H_1$  로 감\n",
    "    - 유의확률이 크다는 것은? **$\\alpha$ Error 가 크다**\n",
    "    표본에서 관찰한 값(표본 평균 $\\bar{x}$)이 귀무가설이 맞다는 가정하에서 일어나기 쉬운 사건인데, 일어나\n",
    "        - 안 놀람, 의미를 두지 않음, 무의미한, 의미없는 → 귀무가설 $H_0$ 로 감\n",
    "    - **유의수준 : $\\alpha$ = 0.05(5%)**\n",
    "    - 즉 새로운 가설보다 기존의 가설을 좀더 무게를 둔다. 기존의 기무 가설에 오류가 발생하지 않는 한 귀무 가설을 선택한다.\n",
    "\n",
    "\n",
    "        >🗒️ 요약: 표본에서 관찰한 값에 따라 $H_0$ 또는 $H_1$ 선택 : 유의 수준(0.05)에 따라 결정!!! \n",
    "        >1. 만약 0.05 보다 작다 ⇒ $H_1$ 선택!\n",
    "        >2. 만약 0.05 보다 크다 ⇒ $H_0$ 선택!\n",
    "\n",
    "\n",
    "- p-value 와 z-score 와 t-value 그리고 그 과정\n",
    "\n",
    "    - 기존의 가설($H_0$)과 새로운 가설($H_1$)의 p-value를 통해 설정한 유의 수준을 비교하여 기각할지 채택할지 결정\n",
    "        1. 가정: $H_0$ 와 $H_1$ 을 가정한다.\n",
    "        2. 유의 수준 설정\n",
    "            - ex) $\\alpha$=0.05\n",
    "        3. 표본 조사 (z-score 및 t-test)\n",
    "        4. 결론\n",
    "\n",
    "    - 예시. z-score : 기존의 평균키 170에 대하여<br>\n",
    "        <img src = \"https://www.notion.so/signed/https%3A%2F%2Fprod-files-secure.s3.us-west-2.amazonaws.com%2F1f406a34-9833-41b3-af5a-06ebe0821494%2F246a477c-48bb-4ed7-8a7a-ec89ba76b8f9%2Fimage.png?table=block&id=110f678f-8046-815d-ba3d-d84edea5bd6a&spaceId=1f406a34-9833-41b3-af5a-06ebe0821494&name=image.png&userId=5daebf9d-75f2-4723-87e1-8b1f72e4f87f&cache=v2\" width=500/>\n",
    "        - 조건\n",
    "            - 표준편차($\\sigma$) = 10\n",
    "            - 표본 수($n$) = 100\n",
    "        - $H_0$ 및 $H_1$\n",
    "            1. $H_0$ : 기존의 사실 $\\mu$ = 170\n",
    "            2. $H_1$ : 새로운 가설 $\\bar{X}$ > 170\n",
    "        - 유의 수준은 $\\alpha$=0.05 로 설정\n",
    "            - 표준 정규 분포\n",
    "                - $z \\sim N(0,1^2)$ = $\\frac{\\bar{X} - \\mu }{ \\sigma/ \\sqrt{n}} \\sim N(0,1^2)$\n",
    "        - 표본 조사 z-score\n",
    "            - 만약 표본의 평균값($\\bar{X}$)  = 172 일 때\n",
    "            - $z = \\frac{172 - 170}{10/\\sqrt{100}}$ = 2\n",
    "            - 즉 z-score에 대한 넓이 값이 0.228 로 새로운 가설인 $H_1$ (새로운 가설 $\\mu$ > 170) 로 결정 되었다.\n",
    "            \n",
    "\n",
    "\n",
    "    - 예시. t-test : 기존의 평균키 170에 대하여<br>\n",
    "        <img src = \"https://www.notion.so/signed/https%3A%2F%2Fprod-files-secure.s3.us-west-2.amazonaws.com%2F1f406a34-9833-41b3-af5a-06ebe0821494%2F55ce854b-fce2-49c5-bd4b-dbdb00c38836%2FUntitled.png?table=block&id=110f678f-8046-81bf-b2de-c9bb5aec931c&spaceId=1f406a34-9833-41b3-af5a-06ebe0821494&name=Untitled.png&userId=5daebf9d-75f2-4723-87e1-8b1f72e4f87f&cache=v2\" width = 500>\n",
    "        - 조건\n",
    "           - **표준편차($s$) = ?**\n",
    "           - 표본 수($n$) = 100\n",
    "        - $H_0$ 및 $H_1$\n",
    "           1. $H_0$ : 기존의 사실 $\\mu$ = 170\n",
    "           2. $H_1$ : 새로운 가설 $\\bar{X}$ > 170\n",
    "        - 유의 수준은 $\\alpha$=0.05 로 설정\n",
    "           - $t \\sim t(n-1)$ = $\\frac{\\bar{X} - \\mu }{ s/ \\sqrt{n}} \\sim t(n-1)$\n",
    "        - 표본 조사 t-value\n",
    "           - 만약 표본의 평균값($\\bar{X}$)  = 172 일 때\n",
    "           - $t-\\text{value} = \\frac{172 - 170}{s/\\sqrt{100}}$ = $t*$\n",
    "           - t* 에 대한 너비 값에 따라 새로운 가설을 따를 지, 기존 가설을 주장할 지 결정한다."
   ]
  },
  {
   "cell_type": "markdown",
   "metadata": {},
   "source": [
    "### 5. 만약 정규분포를 따르지 않을 때\n",
    "\n",
    "- Wilcoxon 부호-순위 검정 (W**ilcoxon signed-rank test)**\n",
    "    - 두 집단의 중앙값이 서로 다른 지를 알 수 있다.\n",
    "        - 아래 과정의 두 집단은 모집단과 표본집단이다.\n",
    "    - 과정\n",
    "        1. $H_0$ = 귀무 가설 기존의 평균 $\\mu$ 이다.\n",
    "        $H_1$ = 새로운 대립 가설\n",
    "        2. 각 요소 $X$ 에서 $|X-\\mu|$ 즉, 절대값을 구하고 순위를 매긴다.\n",
    "        3. 오름차순으로 정렬한다.\n",
    "        4. 순위를 매긴다.\n",
    "            - 순위가 같다면 순위에 평균을 하여 각각에 부여한다.\n",
    "        5. $W^+$ : 절대값 전의 부호가 + 였던 순위들을 더한다.\n",
    "        6. $W^-$ : 절대값 전의 부호가 - 였던 순위들을 더한다.\n",
    "        7. $W^+ \\simeq W^-$ (두 집단의 중앙값이 같거나 유사)이면 귀무 가설, $W^+ > W^-$ (두 집단의 중앙값이 다르다.)이면 대립 가설로 결정한다.\n",
    "    - 예시\n",
    "        - $X = [51, 56, 48, 76]$\n",
    "            - 귀무 가설 $H_0$ ⇒ $\\mu$ = 50\n",
    "            - 대립 가설 $H_1$ ⇒ $\\mu$ > 50\n",
    "        1. $X - 50$ = $[1, 6, -2, 26]$\n",
    "        2. 계산의 절대값 = $[1, 6, 2, 26]$\n",
    "        3. 오름 차순으로 정렬 = $[1,2,6,26]$\n",
    "        4. 순위 매기기 = $[1,2,3,4]$\n",
    "        5. $W^+$ 및 $W^-$ 비교\n",
    "            - $W^+ = 1 + 3 + 4$\n",
    "            - $W^- = 2$\n",
    "            - $W^+ > W^-$ : 대립 가설"
   ]
  },
  {
   "cell_type": "markdown",
   "metadata": {},
   "source": [
    "### 6. 파이썬 코드"
   ]
  },
  {
   "cell_type": "code",
   "execution_count": 23,
   "metadata": {},
   "outputs": [],
   "source": [
    "# 패키지(Package) 로딩(Loading) 하기 : 로딩 = (패키지를 램에 올리는 기능)\n",
    "\n",
    "import scipy.stats as stats # 통계와 관련된 (science ipy)\n",
    "import pandas      as pd    # 데이터 읽어오기, 핸들링, 분석 등 등\n",
    "import seaborn     as sns   # 데이터 시각화"
   ]
  },
  {
   "cell_type": "markdown",
   "metadata": {},
   "source": [
    "- 정규분포에서 확률 구하기"
   ]
  },
  {
   "cell_type": "code",
   "execution_count": 24,
   "metadata": {},
   "outputs": [
    {
     "data": {
      "text/plain": [
       "np.float64(0.5)"
      ]
     },
     "execution_count": 24,
     "metadata": {},
     "output_type": "execute_result"
    }
   ],
   "source": [
    "# 문제 : 모집단이 평균 170, 표준 편차 10인 정규 분포를 따를때\n",
    "\n",
    "# 1. 170 이하의 면적은? loc = 평균, scale = 표준편차\n",
    "stats.norm.cdf(170, loc = 170, scale = 10) # cdf : cumulative density function : 누적 확률 밀도함수 사진"
   ]
  },
  {
   "cell_type": "code",
   "execution_count": 25,
   "metadata": {},
   "outputs": [
    {
     "data": {
      "text/plain": [
       "np.float64(0.02275013194817921)"
      ]
     },
     "execution_count": 25,
     "metadata": {},
     "output_type": "execute_result"
    }
   ],
   "source": [
    "# 2. 190 이하의 면적은?\n",
    "1 - stats.norm.cdf(190, loc = 170, scale = 10)"
   ]
  },
  {
   "cell_type": "code",
   "execution_count": 26,
   "metadata": {},
   "outputs": [
    {
     "data": {
      "text/plain": [
       "np.float64(0.9973002039367398)"
      ]
     },
     "execution_count": 26,
     "metadata": {},
     "output_type": "execute_result"
    }
   ],
   "source": [
    "# 3. 140 에서 200 사이의 면적은?\n",
    "stats.norm.cdf(200, loc = 170, scale = 10) - stats.norm.cdf(140, loc = 170, scale = 10)"
   ]
  },
  {
   "cell_type": "markdown",
   "metadata": {},
   "source": [
    "- 일표본 검정 (One sample test)\n",
    "    - 정규성 가정을 만족하면: 일표본 t 검정 (One sample t-test)\n",
    "    - 정규성 가정을 만족안함: 윌콕슨의 부호 순위 검정 (wilcoxon's signed rank test)"
   ]
  },
  {
   "cell_type": "code",
   "execution_count": 27,
   "metadata": {},
   "outputs": [
    {
     "data": {
      "text/html": [
       "<div>\n",
       "<style scoped>\n",
       "    .dataframe tbody tr th:only-of-type {\n",
       "        vertical-align: middle;\n",
       "    }\n",
       "\n",
       "    .dataframe tbody tr th {\n",
       "        vertical-align: top;\n",
       "    }\n",
       "\n",
       "    .dataframe thead th {\n",
       "        text-align: right;\n",
       "    }\n",
       "</style>\n",
       "<table border=\"1\" class=\"dataframe\">\n",
       "  <thead>\n",
       "    <tr style=\"text-align: right;\">\n",
       "      <th></th>\n",
       "      <th>id</th>\n",
       "      <th>money</th>\n",
       "    </tr>\n",
       "  </thead>\n",
       "  <tbody>\n",
       "    <tr>\n",
       "      <th>0</th>\n",
       "      <td>1</td>\n",
       "      <td>80</td>\n",
       "    </tr>\n",
       "    <tr>\n",
       "      <th>1</th>\n",
       "      <td>2</td>\n",
       "      <td>60</td>\n",
       "    </tr>\n",
       "    <tr>\n",
       "      <th>2</th>\n",
       "      <td>3</td>\n",
       "      <td>60</td>\n",
       "    </tr>\n",
       "    <tr>\n",
       "      <th>3</th>\n",
       "      <td>4</td>\n",
       "      <td>95</td>\n",
       "    </tr>\n",
       "    <tr>\n",
       "      <th>4</th>\n",
       "      <td>5</td>\n",
       "      <td>70</td>\n",
       "    </tr>\n",
       "  </tbody>\n",
       "</table>\n",
       "</div>"
      ],
      "text/plain": [
       "   id  money\n",
       "0   1     80\n",
       "1   2     60\n",
       "2   3     60\n",
       "3   4     95\n",
       "4   5     70"
      ]
     },
     "execution_count": 27,
     "metadata": {},
     "output_type": "execute_result"
    }
   ],
   "source": [
    "# 1. 가설 검정 첫번째\n",
    "# 귀무 가설: 성인들의 용돈의 평균은 50만원이다.\n",
    "# 대립 가설: 성인들의 용돈의 평균은 50만원 보다 많다.\n",
    "\n",
    "# 엑셀 데이라 읽어오기\n",
    "income = pd.read_csv(\"../../../data/income.csv\", index_col=0)\n",
    "income"
   ]
  },
  {
   "cell_type": "code",
   "execution_count": 28,
   "metadata": {},
   "outputs": [
    {
     "data": {
      "text/plain": [
       "ShapiroResult(statistic=np.float64(0.8966183895226032), pvalue=np.float64(0.3914786226333572))"
      ]
     },
     "execution_count": 28,
     "metadata": {},
     "output_type": "execute_result"
    }
   ],
   "source": [
    "# 1단계 : 정규성 검정(Normality Test)\n",
    "# 귀무 가설 : 성인들의 용돈은 정규 분포를 따른다. H_0\n",
    "# 대립 가설 : 성인들의 용돈은 정규 분포를 따르지 않는다. H_1\n",
    "\n",
    "# n(표본의 데이터 수) < 5000 : Shapiro-wilk\n",
    "# n(표본의 데이터 수) >= 5000 : Anderson-darling\n",
    "\n",
    "# n = 19 < 5000 : Shapiro-wilk\n",
    "stats.shapiro(income[\"money\"])"
   ]
  },
  {
   "cell_type": "code",
   "execution_count": 29,
   "metadata": {},
   "outputs": [],
   "source": [
    "# statistic=0.975 : 검정 통계랑 W\n",
    "# pvalue=0.866    : 유의 확률\n",
    "\n",
    "# 결론\n",
    "# p-value 가 (0.866) > 유의수준 0.05 : 귀무가설\n",
    "# 성인들의 용돈은 정규분포를 따른다. ->>>>> 원샘플 T 테스트를 한다."
   ]
  },
  {
   "cell_type": "code",
   "execution_count": 30,
   "metadata": {},
   "outputs": [
    {
     "data": {
      "text/plain": [
       "TtestResult(statistic=np.float64(3.467380462644282), pvalue=np.float64(0.012822354477845908), df=np.int64(4))"
      ]
     },
     "execution_count": 30,
     "metadata": {},
     "output_type": "execute_result"
    }
   ],
   "source": [
    "# 2단계 : 일표본 t검정 (one sample t-test)\n",
    "stats.ttest_1samp(income[\"money\"],\n",
    "                  popmean     = 50,\n",
    "                  alternative = \"greater\")\n",
    "\n",
    "# income[\"money\"] : 검정 변수\n",
    "# popmean         : 귀무가설의 모평균\n",
    "# alternative     : 대립가설 : \"greater\", \"less\", \"two-sided.\""
   ]
  },
  {
   "cell_type": "code",
   "execution_count": 31,
   "metadata": {},
   "outputs": [],
   "source": [
    "# statistic = 6.381         : t: 검정 통계 량\n",
    "# p - value = 0.000         : 유의수준 (0.05)\n",
    "# df        = 18            : 자유도 = n-1\n",
    "\n",
    "#결론\n",
    "#p-val (0.000) < 유의수준(0.05) : 대립가설\n",
    "# 성인들의 용돈은 평균은 50만원 보다 많다."
   ]
  },
  {
   "cell_type": "code",
   "execution_count": 32,
   "metadata": {},
   "outputs": [],
   "source": [
    "# 가설검정 2\n",
    "# 귀무가설 : 다이아몬드의 가격의 평균은 5000 달러이다.\n",
    "# 대립가설 : 다이아몬드의 가격의 평균은 5000 달러보다 작다."
   ]
  },
  {
   "cell_type": "code",
   "execution_count": 33,
   "metadata": {},
   "outputs": [
    {
     "data": {
      "text/html": [
       "<div>\n",
       "<style scoped>\n",
       "    .dataframe tbody tr th:only-of-type {\n",
       "        vertical-align: middle;\n",
       "    }\n",
       "\n",
       "    .dataframe tbody tr th {\n",
       "        vertical-align: top;\n",
       "    }\n",
       "\n",
       "    .dataframe thead th {\n",
       "        text-align: right;\n",
       "    }\n",
       "</style>\n",
       "<table border=\"1\" class=\"dataframe\">\n",
       "  <thead>\n",
       "    <tr style=\"text-align: right;\">\n",
       "      <th></th>\n",
       "      <th>carat</th>\n",
       "      <th>cut</th>\n",
       "      <th>color</th>\n",
       "      <th>clarity</th>\n",
       "      <th>depth</th>\n",
       "      <th>table</th>\n",
       "      <th>price</th>\n",
       "      <th>x</th>\n",
       "      <th>y</th>\n",
       "      <th>z</th>\n",
       "    </tr>\n",
       "  </thead>\n",
       "  <tbody>\n",
       "    <tr>\n",
       "      <th>0</th>\n",
       "      <td>0.23</td>\n",
       "      <td>Ideal</td>\n",
       "      <td>E</td>\n",
       "      <td>SI2</td>\n",
       "      <td>61.5</td>\n",
       "      <td>55.0</td>\n",
       "      <td>326</td>\n",
       "      <td>3.95</td>\n",
       "      <td>3.98</td>\n",
       "      <td>2.43</td>\n",
       "    </tr>\n",
       "    <tr>\n",
       "      <th>1</th>\n",
       "      <td>0.21</td>\n",
       "      <td>Premium</td>\n",
       "      <td>E</td>\n",
       "      <td>SI1</td>\n",
       "      <td>59.8</td>\n",
       "      <td>61.0</td>\n",
       "      <td>326</td>\n",
       "      <td>3.89</td>\n",
       "      <td>3.84</td>\n",
       "      <td>2.31</td>\n",
       "    </tr>\n",
       "    <tr>\n",
       "      <th>2</th>\n",
       "      <td>0.23</td>\n",
       "      <td>Good</td>\n",
       "      <td>E</td>\n",
       "      <td>VS1</td>\n",
       "      <td>56.9</td>\n",
       "      <td>65.0</td>\n",
       "      <td>327</td>\n",
       "      <td>4.05</td>\n",
       "      <td>4.07</td>\n",
       "      <td>2.31</td>\n",
       "    </tr>\n",
       "    <tr>\n",
       "      <th>3</th>\n",
       "      <td>0.29</td>\n",
       "      <td>Premium</td>\n",
       "      <td>I</td>\n",
       "      <td>VS2</td>\n",
       "      <td>62.4</td>\n",
       "      <td>58.0</td>\n",
       "      <td>334</td>\n",
       "      <td>4.20</td>\n",
       "      <td>4.23</td>\n",
       "      <td>2.63</td>\n",
       "    </tr>\n",
       "    <tr>\n",
       "      <th>4</th>\n",
       "      <td>0.31</td>\n",
       "      <td>Good</td>\n",
       "      <td>J</td>\n",
       "      <td>SI2</td>\n",
       "      <td>63.3</td>\n",
       "      <td>58.0</td>\n",
       "      <td>335</td>\n",
       "      <td>4.34</td>\n",
       "      <td>4.35</td>\n",
       "      <td>2.75</td>\n",
       "    </tr>\n",
       "  </tbody>\n",
       "</table>\n",
       "</div>"
      ],
      "text/plain": [
       "   carat      cut color clarity  depth  table  price     x     y     z\n",
       "0   0.23    Ideal     E     SI2   61.5   55.0    326  3.95  3.98  2.43\n",
       "1   0.21  Premium     E     SI1   59.8   61.0    326  3.89  3.84  2.31\n",
       "2   0.23     Good     E     VS1   56.9   65.0    327  4.05  4.07  2.31\n",
       "3   0.29  Premium     I     VS2   62.4   58.0    334  4.20  4.23  2.63\n",
       "4   0.31     Good     J     SI2   63.3   58.0    335  4.34  4.35  2.75"
      ]
     },
     "execution_count": 33,
     "metadata": {},
     "output_type": "execute_result"
    }
   ],
   "source": [
    "diamonds = sns.load_dataset(\"diamonds\")\n",
    "diamonds.head()"
   ]
  },
  {
   "cell_type": "code",
   "execution_count": 34,
   "metadata": {},
   "outputs": [],
   "source": [
    "# n = 53940 > 5000 : Anderson-Darling"
   ]
  },
  {
   "cell_type": "code",
   "execution_count": 35,
   "metadata": {},
   "outputs": [],
   "source": [
    "# 1단계: 정규성 검정 : Anderson-Darling\n",
    "# 귀무가설 : 다이아몬드 가격은 정규분포를 따른다.\n",
    "# 대립가설 : 다이아몬드 가격은 정규분포를 따르지 않는다."
   ]
  },
  {
   "cell_type": "code",
   "execution_count": 36,
   "metadata": {},
   "outputs": [
    {
     "data": {
      "text/plain": [
       "AndersonResult(statistic=np.float64(3474.0163510249404), critical_values=array([0.576, 0.656, 0.787, 0.918, 1.092]), significance_level=array([15. , 10. ,  5. ,  2.5,  1. ]), fit_result=  params: FitParams(loc=np.float64(3932.799721913237), scale=np.float64(3989.439738146379))\n",
       " success: True\n",
       " message: '`anderson` successfully fit the distribution to the data.')"
      ]
     },
     "execution_count": 36,
     "metadata": {},
     "output_type": "execute_result"
    }
   ],
   "source": [
    "stats.anderson(diamonds[\"price\"],\n",
    "               dist = \"norm\")\n",
    "\n",
    "# dist : distribution\n",
    "# \"norm\" : Normal distribution"
   ]
  },
  {
   "cell_type": "code",
   "execution_count": 37,
   "metadata": {},
   "outputs": [],
   "source": [
    "# statistic = 3474.016 : 검정통계랑\n",
    "# critical_values      : 임계값              =>, 유의 수준(0.05, 5%) : 5.: 0.787\n",
    "# significance_level   : 유의 수준(0.05, 5%) : 5.\n",
    "\n",
    "# 검정 통계량 > 임계값 : 대립가설로 간다.\n",
    "# 다이아 몬드 가격은 정규분포를 따르지 않는다.\n",
    "# 정규성 가정이 깨짐"
   ]
  },
  {
   "cell_type": "code",
   "execution_count": 38,
   "metadata": {},
   "outputs": [
    {
     "data": {
      "text/plain": [
       "WilcoxonResult(statistic=np.float64(416688559.0), pvalue=np.float64(0.0))"
      ]
     },
     "execution_count": 38,
     "metadata": {},
     "output_type": "execute_result"
    }
   ],
   "source": [
    "# 2단계 : 윌콬슨 부호 순위 검정 (wilcoxon's singend rank test)\n",
    "stats.wilcoxon(diamonds[\"price\"] - 5000, # 이 함수는 뮤값을 0으로 지정하기 때문에 diamonds[\"price\"] - 5000\n",
    "               alternative = \"less\"\n",
    "               )"
   ]
  },
  {
   "cell_type": "code",
   "execution_count": 39,
   "metadata": {},
   "outputs": [],
   "source": [
    "# statistic = 416688559.0 : 검정 통계량 : W+\n",
    "# p-value   = 0.0         : 유의 확률 (0.000)\n",
    "\n",
    "# 결론\n",
    "# p-value(0.000) < 유의 수준 (0.05) : 대립가설\n",
    "# 다이아몬드의 가격의 평균은 5000 달러보다 작다."
   ]
  }
 ],
 "metadata": {
  "kernelspec": {
   "display_name": "p311",
   "language": "python",
   "name": "python3"
  },
  "language_info": {
   "codemirror_mode": {
    "name": "ipython",
    "version": 3
   },
   "file_extension": ".py",
   "mimetype": "text/x-python",
   "name": "python",
   "nbconvert_exporter": "python",
   "pygments_lexer": "ipython3",
   "version": "3.11.9"
  }
 },
 "nbformat": 4,
 "nbformat_minor": 2
}
