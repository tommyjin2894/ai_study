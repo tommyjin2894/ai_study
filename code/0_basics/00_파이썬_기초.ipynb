{
 "cells": [
  {
   "cell_type": "markdown",
   "metadata": {},
   "source": [
    "### 파이썬으로 할 수 있는 일\n",
    "- 데이터 분석 (tensorflow, pytorch)\n",
    "- 인공지능 딥러닝\n",
    "- 웹 프로그래밍 (백 엔드 등)\n",
    "- 수치연산 (C언어가 더욱 좋다, numpy 가 C로 구성 되어 있다.)\n",
    "- DB 프로그래밍\n",
    "- 시스템 유틸리티\n",
    "- 사물 인터넷 (IOT)\n",
    "\n",
    "### 파이썬 에 적합하지 않은 일\n",
    "- 시스템 밀접한 영역\n",
    "- 모바일 프로그래밍"
   ]
  },
  {
   "cell_type": "markdown",
   "metadata": {},
   "source": [
    "### 스네이크 케이스와, 캐멀 케이스\n",
    "- 변수 명 지정할 때 이용한다.\n",
    "    - 스네이크 케이스: 언더바 이용, 파이썬 에서는 보통 **변수** 또는 **함수명** 지정할 때\n",
    "        - itemlist → item_list\n",
    "        - loginstatus → login_status\n",
    "    - 캐멀 케이스: 대문자 이용, 파이썬 에서는 보통 을 **클래스** 지정할 때\n",
    "        - itemlist  → ItemList or itemList\n",
    "        - loginstatus → LoginStatus or loginStatus"
   ]
  },
  {
   "cell_type": "code",
   "execution_count": 5,
   "metadata": {},
   "outputs": [
    {
     "name": "stdout",
     "output_type": "stream",
     "text": [
      "시동을 겁니다.\n",
      "자동차가 달립니다.\n",
      "자동차가 멈춥니다.\n"
     ]
    }
   ],
   "source": [
    "# 절차지향: 함수로 자동차 동작 처리\n",
    "def start_car():\n",
    "    print(\"시동을 겁니다.\")\n",
    "\n",
    "def drive_car():\n",
    "    print(\"자동차가 달립니다.\")\n",
    "\n",
    "def stop_car():\n",
    "    print(\"자동차가 멈춥니다.\")\n",
    "\n",
    "start_car()\n",
    "drive_car()\n",
    "stop_car()\n"
   ]
  },
  {
   "cell_type": "code",
   "execution_count": 6,
   "metadata": {},
   "outputs": [
    {
     "name": "stdout",
     "output_type": "stream",
     "text": [
      "시동을 겁니다.\n",
      "자동차가 달립니다.\n",
      "자동차가 멈춥니다.\n"
     ]
    }
   ],
   "source": [
    "# 객체지향: 자동차 객체 생성 후 동작 처리\n",
    "class Car:\n",
    "    def start(self):\n",
    "        print(\"시동을 겁니다.\")\n",
    "        \n",
    "    def drive(self):\n",
    "        print(\"자동차가 달립니다.\")\n",
    "        \n",
    "    def stop(self):\n",
    "        print(\"자동차가 멈춥니다.\")\n",
    "\n",
    "my_car = Car()\n",
    "my_car.start()\n",
    "my_car.drive()\n",
    "my_car.stop()\n"
   ]
  },
  {
   "cell_type": "markdown",
   "metadata": {},
   "source": [
    "### 리스트와 배열의 차이\n",
    "  - | **List** | **Array** |\n",
    "    | --- | --- |\n",
    "    | 여러 데이터 타입이 동시에 들어있을 수 있다. | 한종류의 데이터 타입만 가능하다 |\n",
    "    | 추가적인 외부 모듈이 필요 없다. | 배열의 추가적인 모듈이 필요하다. |\n",
    "    | 직접적인 수학 계산이 불가능하다. | 직접적인 수학 계산이 가능하다. |\n",
    "    | 짧은 시퀀스 데이터에 유리하다. | 긴 시퀀스 데이터에 유리하다 |\n",
    "    | 추가와 삭제 및 데이터에 유연하다. | 추가와 삭제 및 데이터에 유연하지 않다. |\n",
    "    | 메모리 차지가 크다 | 메모리 차지가 적다 |\n",
    "    | 배열 안의 각 요소의 길이는 달라도 된다.. | 배열 안의 각 요소의 길이는 모두 같아야 한다. |"
   ]
  },
  {
   "cell_type": "code",
   "execution_count": 7,
   "metadata": {},
   "outputs": [
    {
     "name": "stdout",
     "output_type": "stream",
     "text": [
      "[[1 2 3]\n",
      " [4 5 6]\n",
      " [7 8 9]]\n"
     ]
    }
   ],
   "source": [
    "# 배열 안의 각 요소의 길이는 모두 같아야 한다\n",
    "\n",
    "import numpy as np\n",
    "\n",
    "list_sample = [[1,2,3],[4,5,6],[7,8,9]]\n",
    "np_array = np.array(list_sample)\n",
    "print(np_array)"
   ]
  },
  {
   "cell_type": "code",
   "execution_count": 8,
   "metadata": {},
   "outputs": [
    {
     "ename": "ValueError",
     "evalue": "setting an array element with a sequence. The requested array has an inhomogeneous shape after 1 dimensions. The detected shape was (3,) + inhomogeneous part.",
     "output_type": "error",
     "traceback": [
      "\u001b[0;31m---------------------------------------------------------------------------\u001b[0m",
      "\u001b[0;31mValueError\u001b[0m                                Traceback (most recent call last)",
      "Cell \u001b[0;32mIn[8], line 2\u001b[0m\n\u001b[1;32m      1\u001b[0m list_sample \u001b[38;5;241m=\u001b[39m [[\u001b[38;5;241m1\u001b[39m,\u001b[38;5;241m2\u001b[39m,\u001b[38;5;241m3\u001b[39m],[\u001b[38;5;241m4\u001b[39m,\u001b[38;5;241m5\u001b[39m,\u001b[38;5;241m6\u001b[39m],[\u001b[38;5;241m7\u001b[39m,\u001b[38;5;241m8\u001b[39m,\u001b[38;5;241m9\u001b[39m,\u001b[38;5;241m10\u001b[39m]] \u001b[38;5;66;03m#배열 안의 각 요소의 길이는 모두 같아야 한다.\u001b[39;00m\n\u001b[0;32m----> 2\u001b[0m np_array \u001b[38;5;241m=\u001b[39m \u001b[43mnp\u001b[49m\u001b[38;5;241;43m.\u001b[39;49m\u001b[43marray\u001b[49m\u001b[43m(\u001b[49m\u001b[43mlist_sample\u001b[49m\u001b[43m)\u001b[49m\n",
      "\u001b[0;31mValueError\u001b[0m: setting an array element with a sequence. The requested array has an inhomogeneous shape after 1 dimensions. The detected shape was (3,) + inhomogeneous part."
     ]
    }
   ],
   "source": [
    "list_sample = [[1,2,3],[4,5,6],[7,8,9,10]] #배열 안의 각 요소의 길이는 모두 같아야 한다.\n",
    "np_array = np.array(list_sample)"
   ]
  }
 ],
 "metadata": {
  "kernelspec": {
   "display_name": "p311",
   "language": "python",
   "name": "python3"
  },
  "language_info": {
   "codemirror_mode": {
    "name": "ipython",
    "version": 3
   },
   "file_extension": ".py",
   "mimetype": "text/x-python",
   "name": "python",
   "nbconvert_exporter": "python",
   "pygments_lexer": "ipython3",
   "version": "3.11.9"
  }
 },
 "nbformat": 4,
 "nbformat_minor": 2
}
