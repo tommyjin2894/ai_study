{
  "cells": [
    {
      "cell_type": "code",
      "execution_count": 9,
      "metadata": {
        "id": "QPehei5E4KXb"
      },
      "outputs": [],
      "source": [
        "# 필요한 패키지 import\n",
        "from bs4 import BeautifulSoup\n",
        "import requests\n",
        "import pandas as pd\n",
        "\n",
        "import re"
      ]
    },
    {
      "cell_type": "code",
      "execution_count": 10,
      "metadata": {
        "id": "MHZHnTQH4ZhE"
      },
      "outputs": [],
      "source": [
        "book_df = pd.DataFrame(columns=['ID', 'Title', 'Rating', 'Author', 'Price', 'Pdate', 'Publisher', 'Btype', 'Salseindex'])\n",
        "\n"
      ]
    },
    {
      "cell_type": "code",
      "execution_count": 11,
      "metadata": {
        "id": "uWzpGdQiFOj8"
      },
      "outputs": [],
      "source": [
        "# 가져올 책 범위,ID.. 값 정의\n",
        "start_id = 97043285 # 125190808\n",
        "end_id = 97046595\n",
        "\n"
      ]
    },
    {
      "cell_type": "code",
      "execution_count": 12,
      "metadata": {
        "id": "q8m9FNx8FXCK"
      },
      "outputs": [
        {
          "name": "stdout",
          "output_type": "stream",
          "text": [
            "에러발생2\n"
          ]
        }
      ],
      "source": [
        "# ID를 증가시키며 책 정보 크롤링\n",
        "for book_id in range(start_id, end_id + 1):\n",
        "    url = f'http://www.yes24.com/Product/Goods/{book_id}'\n",
        "    try:\n",
        "        r = requests.get (url)\n",
        "        if r.status_code == 200:\n",
        "            html=r.text\n",
        "            soup=BeautifulSoup(html, 'lxml') #  BeautifulSoup 클래스의 인스턴스 생성\n",
        "\n",
        "            # title = soup.select_one('#yDetailTopWrap > div.topColRgt > div.gd_infoTop > div > h2').get_text()\n",
        "            try:\n",
        "                title = soup.select_one('#yDetailTopWrap > div.topColRgt > div.gd_infoTop > div > h2').get_text()\n",
        "            except AttributeError:\n",
        "                title = None # 선택한 요소가 없어서 발생하는 AttributeError 처리\n",
        "\n",
        "            try:\n",
        "                rating = soup.select_one('#spanGdRating > a > em').get_text() # .get_text().strip()\n",
        "            except AttributeError:\n",
        "                rating = None\n",
        "\n",
        "            try:\n",
        "                author = soup.select_one('#yDetailTopWrap > div.topColRgt > div.gd_infoTop > span.gd_pubArea > span.gd_auth > a').get_text()\n",
        "            except AttributeError:\n",
        "                author = None\n",
        "\n",
        "            btype = 'new'\n",
        "            try:\n",
        "                # if soup.select_one('#yDetailTopWrap > div.topColRgt > div.gd_infoTop > div > strong > em').get_text() == \"중고도서\":\n",
        "                if \"중고도서\" in soup.select_one('#yDetailTopWrap > div.topColRgt > div.gd_infoTop > div > strong > em').get_text().lower():\n",
        "                    price = soup.select_one('#yDetailTopWrap > div.topColRgt > div.gd_infoBot > div.gd_infoTbArea > div:nth-child(1) > table > tbody > tr.accentRow > td > span > em').get_text()  # 판매가격\n",
        "                    btype = 'old'\n",
        "                else:\n",
        "                    price = soup.select_one('#yDetailTopWrap > div.topColRgt > div.gd_infoBot > div.gd_infoTbArea > div:nth-child(3) > table > tbody > tr:nth-child(2) > td > span > em').get_text()  # 판매가격\n",
        "            except AttributeError:\n",
        "                price = None\n",
        "\n",
        "            try:\n",
        "                pdate = soup.select_one('#yDetailTopWrap > div.topColRgt > div.gd_infoTop > span.gd_pubArea > span.gd_date').get_text()   # 발행일\n",
        "            except AttributeError:\n",
        "                pdate = None\n",
        "\n",
        "            try:\n",
        "                publisher = soup.select_one('#yDetailTopWrap > div.topColRgt > div.gd_infoTop > span.gd_pubArea > span.gd_pub > a').get_text()  # 출판사\n",
        "            except AttributeError:\n",
        "                publisher = None\n",
        "\n",
        "            try:\n",
        "                numbers = re.findall(r'\\d+', soup.select_one('#yDetailTopWrap > div.topColRgt > div.gd_infoTop > span.gd_ratingArea > span.gd_sellNum').get_text().replace(',', ''))\n",
        "                number = int(numbers[0]) if numbers else None\n",
        "                salseindex = number # soup.select_one('#yDetailTopWrap > div.topColRgt > div.gd_infoTop > span.gd_ratingArea > span.gd_sellNum').get_text()  # 판매지수\n",
        "            except AttributeError:\n",
        "                salseindex = None\n",
        "\n",
        "\n",
        "\n",
        "            # book_df = book_df.append({'ID':book_id, 'Title':title, 'Author':author, 'Rating':rating, 'Price':price, 'Pdate':pdate, 'Publisher':publisher, 'Btype':btype}, ignore_index=True)\n",
        "            new_row = pd.DataFrame({'ID': [book_id], 'Title': [title], 'Author': [author], 'Rating': [rating], 'Price': [price], 'Pdate': [pdate], 'Publisher': [publisher], 'Btype': [btype], 'Salseindex': [salseindex]})\n",
        "            book_df = pd.concat([book_df, new_row], ignore_index=True)\n",
        "\n",
        "        else:\n",
        "            print('에러발생1')\n",
        "    except requests.RequestException as e:\n",
        "        # 에러 발생시....\n",
        "        print('에러발생2')\n",
        "# book_df\n",
        "book_df.to_csv('book.csv', encoding='euc-kr')\n"
      ]
    },
    {
      "cell_type": "code",
      "execution_count": 13,
      "metadata": {},
      "outputs": [],
      "source": [
        "book_df.to_csv('book.csv', encoding='euc-kr')"
      ]
    }
  ],
  "metadata": {
    "colab": {
      "provenance": []
    },
    "kernelspec": {
      "display_name": "Python 3",
      "name": "python3"
    },
    "language_info": {
      "codemirror_mode": {
        "name": "ipython",
        "version": 3
      },
      "file_extension": ".py",
      "mimetype": "text/x-python",
      "name": "python",
      "nbconvert_exporter": "python",
      "pygments_lexer": "ipython3",
      "version": "3.8.15"
    }
  },
  "nbformat": 4,
  "nbformat_minor": 0
}
