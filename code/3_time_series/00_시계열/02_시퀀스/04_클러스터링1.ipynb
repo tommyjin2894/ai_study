{
  "cells": [
    {
      "cell_type": "markdown",
      "metadata": {
        "id": "XUeB-JMPq4N9"
      },
      "source": [
        "# **워드 임베딩 + 클러스터링**"
      ]
    },
    {
      "cell_type": "code",
      "execution_count": 1,
      "metadata": {
        "id": "5EJcLm3HZPUn"
      },
      "outputs": [],
      "source": [
        "# 기본 패키지 불러오기\n",
        "import pandas as pd\n",
        "import numpy as np\n",
        "import matplotlib.pyplot as plt\n",
        "import seaborn as sns"
      ]
    },
    {
      "cell_type": "code",
      "execution_count": 2,
      "metadata": {
        "id": "4vvaLUSXaQER"
      },
      "outputs": [],
      "source": [
        "# 데이터 파일 불러오기\n",
        "df_1 = pd.read_csv('book.csv', encoding='euc-kr')\n",
        "# df_1.head()"
      ]
    },
    {
      "cell_type": "code",
      "execution_count": 3,
      "metadata": {
        "id": "gd3aV8noalpq"
      },
      "outputs": [
        {
          "data": {
            "text/html": [
              "<div>\n",
              "<style scoped>\n",
              "    .dataframe tbody tr th:only-of-type {\n",
              "        vertical-align: middle;\n",
              "    }\n",
              "\n",
              "    .dataframe tbody tr th {\n",
              "        vertical-align: top;\n",
              "    }\n",
              "\n",
              "    .dataframe thead th {\n",
              "        text-align: right;\n",
              "    }\n",
              "</style>\n",
              "<table border=\"1\" class=\"dataframe\">\n",
              "  <thead>\n",
              "    <tr style=\"text-align: right;\">\n",
              "      <th></th>\n",
              "      <th>Unnamed: 0</th>\n",
              "      <th>ID</th>\n",
              "      <th>Title</th>\n",
              "      <th>Rating</th>\n",
              "      <th>Author</th>\n",
              "      <th>Price</th>\n",
              "      <th>Pdate</th>\n",
              "      <th>Publisher</th>\n",
              "      <th>Btype</th>\n",
              "      <th>Salseindex</th>\n",
              "    </tr>\n",
              "  </thead>\n",
              "  <tbody>\n",
              "    <tr>\n",
              "      <th>33298</th>\n",
              "      <td>33298</td>\n",
              "      <td>97039591</td>\n",
              "      <td>뇌 1</td>\n",
              "      <td>NaN</td>\n",
              "      <td>베르나르 베르베르</td>\n",
              "      <td>4,950</td>\n",
              "      <td>2006년 04월 10일</td>\n",
              "      <td>열린책들</td>\n",
              "      <td>old</td>\n",
              "      <td>NaN</td>\n",
              "    </tr>\n",
              "    <tr>\n",
              "      <th>33299</th>\n",
              "      <td>33299</td>\n",
              "      <td>97039592</td>\n",
              "      <td>나의 문화유산답사기 6</td>\n",
              "      <td>NaN</td>\n",
              "      <td>유홍준</td>\n",
              "      <td>6,930</td>\n",
              "      <td>2011년 05월 11일</td>\n",
              "      <td>창비</td>\n",
              "      <td>old</td>\n",
              "      <td>NaN</td>\n",
              "    </tr>\n",
              "    <tr>\n",
              "      <th>33300</th>\n",
              "      <td>33300</td>\n",
              "      <td>97039593</td>\n",
              "      <td>말테의 수기</td>\n",
              "      <td>NaN</td>\n",
              "      <td>라이너 마리아 릴케</td>\n",
              "      <td>3,780</td>\n",
              "      <td>2005년 01월 15일</td>\n",
              "      <td>민음사</td>\n",
              "      <td>old</td>\n",
              "      <td>NaN</td>\n",
              "    </tr>\n",
              "    <tr>\n",
              "      <th>33301</th>\n",
              "      <td>33301</td>\n",
              "      <td>97039594</td>\n",
              "      <td>다빈치 코드 1</td>\n",
              "      <td>NaN</td>\n",
              "      <td>댄 브라운</td>\n",
              "      <td>5,040</td>\n",
              "      <td>2013년 12월 11일</td>\n",
              "      <td>문학수첩</td>\n",
              "      <td>old</td>\n",
              "      <td>NaN</td>\n",
              "    </tr>\n",
              "    <tr>\n",
              "      <th>33302</th>\n",
              "      <td>33302</td>\n",
              "      <td>97039595</td>\n",
              "      <td>밥상에 오른 과학</td>\n",
              "      <td>NaN</td>\n",
              "      <td>이성규</td>\n",
              "      <td>3,990</td>\n",
              "      <td>2007년 05월 20일</td>\n",
              "      <td>봄나무</td>\n",
              "      <td>old</td>\n",
              "      <td>NaN</td>\n",
              "    </tr>\n",
              "  </tbody>\n",
              "</table>\n",
              "</div>"
            ],
            "text/plain": [
              "       Unnamed: 0        ID         Title  Rating      Author  Price  \\\n",
              "33298       33298  97039591           뇌 1     NaN   베르나르 베르베르  4,950   \n",
              "33299       33299  97039592  나의 문화유산답사기 6     NaN         유홍준  6,930   \n",
              "33300       33300  97039593        말테의 수기     NaN  라이너 마리아 릴케  3,780   \n",
              "33301       33301  97039594      다빈치 코드 1     NaN       댄 브라운  5,040   \n",
              "33302       33302  97039595     밥상에 오른 과학     NaN         이성규  3,990   \n",
              "\n",
              "               Pdate Publisher Btype  Salseindex  \n",
              "33298  2006년 04월 10일      열린책들   old         NaN  \n",
              "33299  2011년 05월 11일        창비   old         NaN  \n",
              "33300  2005년 01월 15일       민음사   old         NaN  \n",
              "33301  2013년 12월 11일      문학수첩   old         NaN  \n",
              "33302  2007년 05월 20일       봄나무   old         NaN  "
            ]
          },
          "execution_count": 3,
          "metadata": {},
          "output_type": "execute_result"
        }
      ],
      "source": [
        "df_1.tail()"
      ]
    },
    {
      "cell_type": "code",
      "execution_count": 4,
      "metadata": {
        "id": "mhbUTwTgboXH"
      },
      "outputs": [],
      "source": [
        "# 전처리 - price  object => 수치형\n",
        "# df['Price'] = pd.to_numeric(df['Price'].str.replace('[^\\d.]', ''), errors='coerce')\n",
        "\n",
        "# 'Pdate' 컬럼을 날짜 타입으로 변환 (한국어 날짜 형식에 맞춤)\n",
        "# df['Pdate'] = pd.to_datetime(df['Pdate'], format='%Y년 %m월 %d일', errors='coerce')\n"
      ]
    },
    {
      "cell_type": "code",
      "execution_count": 5,
      "metadata": {
        "id": "p1XIt2FAavk9"
      },
      "outputs": [],
      "source": [
        "# 전처리 - 공백 제거\n",
        "df_1 = df_1.dropna(subset=['Title'])\n",
        "df_1 = df_1[df_1['Title'].str.strip() != '']\n",
        "\n",
        "# df_2 = df_1.dropna(subset=['Publisher'])\n",
        "# df_2 = df_2[df_2['Publisher'].str.strip() != '']"
      ]
    },
    {
      "cell_type": "code",
      "execution_count": 6,
      "metadata": {
        "id": "sCu5psNtbeQz"
      },
      "outputs": [],
      "source": [
        "# 전처리 - 언어별 구분\n",
        "# df = df_2[df_1['Title'].str.contains('[A-Za-z]', regex=True)]\n",
        "# 한국어 [가-힣]\n",
        "# 영어[A-Za-z]\n",
        "# 일본어 [ぁ-んァ-ン]\n"
      ]
    },
    {
      "cell_type": "code",
      "execution_count": 7,
      "metadata": {
        "id": "7b1G0rUgu7eL"
      },
      "outputs": [],
      "source": [
        "# 전처리 - 언어별 구분\n",
        "import re\n",
        "\n",
        "# 영어 제목만\n",
        "def is_english_title(text):\n",
        "    # 영어 알파벳, 공백, 일부 특수문자(예: ',!?.)만 허용\n",
        "    return bool(re.match(r'^[a-zA-Z0-9 .,\\-\\'!?]+$', text))\n",
        "\n",
        "# 영어로만 구성된 책 제목만 가져옴\n",
        "df_e = df_1[df_1['Title'].apply(is_english_title)]\n",
        "\n",
        "# 한국 제목만\n",
        "def is_korean_title(text):\n",
        "    # 영어 알파벳, 공백, 일부 특수문자(예: ',!?.)만 허용\n",
        "    return bool(re.match(r'^[가-힣0-9 .,\\-\\'!?]+$', text))\n",
        "\n",
        "# 한국어로만 구성된 책 제목만 가져옴\n",
        "df_k = df_1[df_1['Title'].apply(is_korean_title)]\n",
        "\n",
        "\n",
        "## df_k,   df_e  변수명 변경 시... 관련된 부분 모두 수정해 주어야 함"
      ]
    },
    {
      "cell_type": "code",
      "execution_count": 48,
      "metadata": {},
      "outputs": [
        {
          "data": {
            "text/html": [
              "<div>\n",
              "<style scoped>\n",
              "    .dataframe tbody tr th:only-of-type {\n",
              "        vertical-align: middle;\n",
              "    }\n",
              "\n",
              "    .dataframe tbody tr th {\n",
              "        vertical-align: top;\n",
              "    }\n",
              "\n",
              "    .dataframe thead th {\n",
              "        text-align: right;\n",
              "    }\n",
              "</style>\n",
              "<table border=\"1\" class=\"dataframe\">\n",
              "  <thead>\n",
              "    <tr style=\"text-align: right;\">\n",
              "      <th></th>\n",
              "      <th>Unnamed: 0</th>\n",
              "      <th>ID</th>\n",
              "      <th>Title</th>\n",
              "      <th>Rating</th>\n",
              "      <th>Author</th>\n",
              "      <th>Price</th>\n",
              "      <th>Pdate</th>\n",
              "      <th>Publisher</th>\n",
              "      <th>Btype</th>\n",
              "      <th>Salseindex</th>\n",
              "      <th>Cluster</th>\n",
              "    </tr>\n",
              "  </thead>\n",
              "  <tbody>\n",
              "    <tr>\n",
              "      <th>12</th>\n",
              "      <td>12</td>\n",
              "      <td>97006297</td>\n",
              "      <td>강철왕국 프로이센</td>\n",
              "      <td>NaN</td>\n",
              "      <td>크리스토퍼 클라크</td>\n",
              "      <td>41,150</td>\n",
              "      <td>2020년 07월 20일</td>\n",
              "      <td>마티</td>\n",
              "      <td>old</td>\n",
              "      <td>NaN</td>\n",
              "      <td>0</td>\n",
              "    </tr>\n",
              "    <tr>\n",
              "      <th>24</th>\n",
              "      <td>24</td>\n",
              "      <td>97006309</td>\n",
              "      <td>로마인 이야기 1-15권 세트</td>\n",
              "      <td>NaN</td>\n",
              "      <td>시오노 나나미</td>\n",
              "      <td>138,800</td>\n",
              "      <td>2007년 02월 05일</td>\n",
              "      <td>한길사</td>\n",
              "      <td>old</td>\n",
              "      <td>NaN</td>\n",
              "      <td>8</td>\n",
              "    </tr>\n",
              "    <tr>\n",
              "      <th>25</th>\n",
              "      <td>25</td>\n",
              "      <td>97006310</td>\n",
              "      <td>이화림 회고록</td>\n",
              "      <td>NaN</td>\n",
              "      <td>이화림</td>\n",
              "      <td>80,000</td>\n",
              "      <td>2015년 03월 26일</td>\n",
              "      <td>차이나하우스</td>\n",
              "      <td>old</td>\n",
              "      <td>NaN</td>\n",
              "      <td>9</td>\n",
              "    </tr>\n",
              "    <tr>\n",
              "      <th>66</th>\n",
              "      <td>66</td>\n",
              "      <td>97006351</td>\n",
              "      <td>쓰레기에 관한 모든 것</td>\n",
              "      <td>NaN</td>\n",
              "      <td>피에로 마르틴</td>\n",
              "      <td>17,090</td>\n",
              "      <td>2020년 07월 15일</td>\n",
              "      <td>북스힐</td>\n",
              "      <td>old</td>\n",
              "      <td>NaN</td>\n",
              "      <td>9</td>\n",
              "    </tr>\n",
              "    <tr>\n",
              "      <th>90</th>\n",
              "      <td>90</td>\n",
              "      <td>97006375</td>\n",
              "      <td>고전 기하학과 현대 기하학</td>\n",
              "      <td>NaN</td>\n",
              "      <td>김의철</td>\n",
              "      <td>20,890</td>\n",
              "      <td>2020년 07월 30일</td>\n",
              "      <td>미지현</td>\n",
              "      <td>old</td>\n",
              "      <td>NaN</td>\n",
              "      <td>4</td>\n",
              "    </tr>\n",
              "    <tr>\n",
              "      <th>...</th>\n",
              "      <td>...</td>\n",
              "      <td>...</td>\n",
              "      <td>...</td>\n",
              "      <td>...</td>\n",
              "      <td>...</td>\n",
              "      <td>...</td>\n",
              "      <td>...</td>\n",
              "      <td>...</td>\n",
              "      <td>...</td>\n",
              "      <td>...</td>\n",
              "      <td>...</td>\n",
              "    </tr>\n",
              "    <tr>\n",
              "      <th>33298</th>\n",
              "      <td>33298</td>\n",
              "      <td>97039591</td>\n",
              "      <td>뇌 1</td>\n",
              "      <td>NaN</td>\n",
              "      <td>베르나르 베르베르</td>\n",
              "      <td>4,950</td>\n",
              "      <td>2006년 04월 10일</td>\n",
              "      <td>열린책들</td>\n",
              "      <td>old</td>\n",
              "      <td>NaN</td>\n",
              "      <td>5</td>\n",
              "    </tr>\n",
              "    <tr>\n",
              "      <th>33299</th>\n",
              "      <td>33299</td>\n",
              "      <td>97039592</td>\n",
              "      <td>나의 문화유산답사기 6</td>\n",
              "      <td>NaN</td>\n",
              "      <td>유홍준</td>\n",
              "      <td>6,930</td>\n",
              "      <td>2011년 05월 11일</td>\n",
              "      <td>창비</td>\n",
              "      <td>old</td>\n",
              "      <td>NaN</td>\n",
              "      <td>8</td>\n",
              "    </tr>\n",
              "    <tr>\n",
              "      <th>33300</th>\n",
              "      <td>33300</td>\n",
              "      <td>97039593</td>\n",
              "      <td>말테의 수기</td>\n",
              "      <td>NaN</td>\n",
              "      <td>라이너 마리아 릴케</td>\n",
              "      <td>3,780</td>\n",
              "      <td>2005년 01월 15일</td>\n",
              "      <td>민음사</td>\n",
              "      <td>old</td>\n",
              "      <td>NaN</td>\n",
              "      <td>9</td>\n",
              "    </tr>\n",
              "    <tr>\n",
              "      <th>33301</th>\n",
              "      <td>33301</td>\n",
              "      <td>97039594</td>\n",
              "      <td>다빈치 코드 1</td>\n",
              "      <td>NaN</td>\n",
              "      <td>댄 브라운</td>\n",
              "      <td>5,040</td>\n",
              "      <td>2013년 12월 11일</td>\n",
              "      <td>문학수첩</td>\n",
              "      <td>old</td>\n",
              "      <td>NaN</td>\n",
              "      <td>5</td>\n",
              "    </tr>\n",
              "    <tr>\n",
              "      <th>33302</th>\n",
              "      <td>33302</td>\n",
              "      <td>97039595</td>\n",
              "      <td>밥상에 오른 과학</td>\n",
              "      <td>NaN</td>\n",
              "      <td>이성규</td>\n",
              "      <td>3,990</td>\n",
              "      <td>2007년 05월 20일</td>\n",
              "      <td>봄나무</td>\n",
              "      <td>old</td>\n",
              "      <td>NaN</td>\n",
              "      <td>8</td>\n",
              "    </tr>\n",
              "  </tbody>\n",
              "</table>\n",
              "<p>18228 rows × 11 columns</p>\n",
              "</div>"
            ],
            "text/plain": [
              "       Unnamed: 0        ID             Title  Rating      Author    Price  \\\n",
              "12             12  97006297         강철왕국 프로이센     NaN   크리스토퍼 클라크   41,150   \n",
              "24             24  97006309  로마인 이야기 1-15권 세트     NaN     시오노 나나미  138,800   \n",
              "25             25  97006310           이화림 회고록     NaN         이화림   80,000   \n",
              "66             66  97006351      쓰레기에 관한 모든 것     NaN     피에로 마르틴   17,090   \n",
              "90             90  97006375    고전 기하학과 현대 기하학     NaN         김의철   20,890   \n",
              "...           ...       ...               ...     ...         ...      ...   \n",
              "33298       33298  97039591               뇌 1     NaN   베르나르 베르베르    4,950   \n",
              "33299       33299  97039592      나의 문화유산답사기 6     NaN         유홍준    6,930   \n",
              "33300       33300  97039593            말테의 수기     NaN  라이너 마리아 릴케    3,780   \n",
              "33301       33301  97039594          다빈치 코드 1     NaN       댄 브라운    5,040   \n",
              "33302       33302  97039595         밥상에 오른 과학     NaN         이성규    3,990   \n",
              "\n",
              "               Pdate Publisher Btype  Salseindex  Cluster  \n",
              "12     2020년 07월 20일        마티   old         NaN        0  \n",
              "24     2007년 02월 05일       한길사   old         NaN        8  \n",
              "25     2015년 03월 26일    차이나하우스   old         NaN        9  \n",
              "66     2020년 07월 15일       북스힐   old         NaN        9  \n",
              "90     2020년 07월 30일       미지현   old         NaN        4  \n",
              "...              ...       ...   ...         ...      ...  \n",
              "33298  2006년 04월 10일      열린책들   old         NaN        5  \n",
              "33299  2011년 05월 11일        창비   old         NaN        8  \n",
              "33300  2005년 01월 15일       민음사   old         NaN        9  \n",
              "33301  2013년 12월 11일      문학수첩   old         NaN        5  \n",
              "33302  2007년 05월 20일       봄나무   old         NaN        8  \n",
              "\n",
              "[18228 rows x 11 columns]"
            ]
          },
          "execution_count": 48,
          "metadata": {},
          "output_type": "execute_result"
        }
      ],
      "source": [
        "df_k"
      ]
    },
    {
      "cell_type": "code",
      "execution_count": 8,
      "metadata": {
        "id": "NyFZs01CtjJa"
      },
      "outputs": [],
      "source": [
        "# 벡터화 + 클러스터링을 위한 패키지\n",
        "from sklearn.feature_extraction.text import TfidfVectorizer\n",
        "from sklearn.cluster import KMeans\n"
      ]
    },
    {
      "cell_type": "markdown",
      "metadata": {
        "id": "ZDDS9Cv_iABI"
      },
      "source": [
        "**Tf-idf** <br>\n",
        "단어의 출현 빈도 및 상대 빈도 활용"
      ]
    },
    {
      "cell_type": "code",
      "execution_count": 47,
      "metadata": {
        "id": "uPfj1clMiGjI"
      },
      "outputs": [],
      "source": [
        "tfidf_vectorizer = TfidfVectorizer(max_features=100) # 전체 단어 집합에서 TF-IDF 값이 가장 높은 상위 n개의 단어만을 선택하여 특성 벡터를 생성\n",
        "X_tfidf = tfidf_vectorizer.fit_transform(df_k)"
      ]
    },
    {
      "cell_type": "code",
      "execution_count": 10,
      "metadata": {
        "colab": {
          "base_uri": "https://localhost:8080/",
          "height": 74
        },
        "id": "tJRmthZsjCtw",
        "outputId": "de9b5f4e-9f5b-47dd-c0e9-972afac4715e"
      },
      "outputs": [
        {
          "data": {
            "text/html": [
              "<style>#sk-container-id-1 {color: black;background-color: white;}#sk-container-id-1 pre{padding: 0;}#sk-container-id-1 div.sk-toggleable {background-color: white;}#sk-container-id-1 label.sk-toggleable__label {cursor: pointer;display: block;width: 100%;margin-bottom: 0;padding: 0.3em;box-sizing: border-box;text-align: center;}#sk-container-id-1 label.sk-toggleable__label-arrow:before {content: \"▸\";float: left;margin-right: 0.25em;color: #696969;}#sk-container-id-1 label.sk-toggleable__label-arrow:hover:before {color: black;}#sk-container-id-1 div.sk-estimator:hover label.sk-toggleable__label-arrow:before {color: black;}#sk-container-id-1 div.sk-toggleable__content {max-height: 0;max-width: 0;overflow: hidden;text-align: left;background-color: #f0f8ff;}#sk-container-id-1 div.sk-toggleable__content pre {margin: 0.2em;color: black;border-radius: 0.25em;background-color: #f0f8ff;}#sk-container-id-1 input.sk-toggleable__control:checked~div.sk-toggleable__content {max-height: 200px;max-width: 100%;overflow: auto;}#sk-container-id-1 input.sk-toggleable__control:checked~label.sk-toggleable__label-arrow:before {content: \"▾\";}#sk-container-id-1 div.sk-estimator input.sk-toggleable__control:checked~label.sk-toggleable__label {background-color: #d4ebff;}#sk-container-id-1 div.sk-label input.sk-toggleable__control:checked~label.sk-toggleable__label {background-color: #d4ebff;}#sk-container-id-1 input.sk-hidden--visually {border: 0;clip: rect(1px 1px 1px 1px);clip: rect(1px, 1px, 1px, 1px);height: 1px;margin: -1px;overflow: hidden;padding: 0;position: absolute;width: 1px;}#sk-container-id-1 div.sk-estimator {font-family: monospace;background-color: #f0f8ff;border: 1px dotted black;border-radius: 0.25em;box-sizing: border-box;margin-bottom: 0.5em;}#sk-container-id-1 div.sk-estimator:hover {background-color: #d4ebff;}#sk-container-id-1 div.sk-parallel-item::after {content: \"\";width: 100%;border-bottom: 1px solid gray;flex-grow: 1;}#sk-container-id-1 div.sk-label:hover label.sk-toggleable__label {background-color: #d4ebff;}#sk-container-id-1 div.sk-serial::before {content: \"\";position: absolute;border-left: 1px solid gray;box-sizing: border-box;top: 0;bottom: 0;left: 50%;z-index: 0;}#sk-container-id-1 div.sk-serial {display: flex;flex-direction: column;align-items: center;background-color: white;padding-right: 0.2em;padding-left: 0.2em;position: relative;}#sk-container-id-1 div.sk-item {position: relative;z-index: 1;}#sk-container-id-1 div.sk-parallel {display: flex;align-items: stretch;justify-content: center;background-color: white;position: relative;}#sk-container-id-1 div.sk-item::before, #sk-container-id-1 div.sk-parallel-item::before {content: \"\";position: absolute;border-left: 1px solid gray;box-sizing: border-box;top: 0;bottom: 0;left: 50%;z-index: -1;}#sk-container-id-1 div.sk-parallel-item {display: flex;flex-direction: column;z-index: 1;position: relative;background-color: white;}#sk-container-id-1 div.sk-parallel-item:first-child::after {align-self: flex-end;width: 50%;}#sk-container-id-1 div.sk-parallel-item:last-child::after {align-self: flex-start;width: 50%;}#sk-container-id-1 div.sk-parallel-item:only-child::after {width: 0;}#sk-container-id-1 div.sk-dashed-wrapped {border: 1px dashed gray;margin: 0 0.4em 0.5em 0.4em;box-sizing: border-box;padding-bottom: 0.4em;background-color: white;}#sk-container-id-1 div.sk-label label {font-family: monospace;font-weight: bold;display: inline-block;line-height: 1.2em;}#sk-container-id-1 div.sk-label-container {text-align: center;}#sk-container-id-1 div.sk-container {/* jupyter's `normalize.less` sets `[hidden] { display: none; }` but bootstrap.min.css set `[hidden] { display: none !important; }` so we also need the `!important` here to be able to override the default hidden behavior on the sphinx rendered scikit-learn.org. See: https://github.com/scikit-learn/scikit-learn/issues/21755 */display: inline-block !important;position: relative;}#sk-container-id-1 div.sk-text-repr-fallback {display: none;}</style><div id=\"sk-container-id-1\" class=\"sk-top-container\"><div class=\"sk-text-repr-fallback\"><pre>KMeans(n_clusters=10, random_state=42)</pre><b>In a Jupyter environment, please rerun this cell to show the HTML representation or trust the notebook. <br />On GitHub, the HTML representation is unable to render, please try loading this page with nbviewer.org.</b></div><div class=\"sk-container\" hidden><div class=\"sk-item\"><div class=\"sk-estimator sk-toggleable\"><input class=\"sk-toggleable__control sk-hidden--visually\" id=\"sk-estimator-id-1\" type=\"checkbox\" checked><label for=\"sk-estimator-id-1\" class=\"sk-toggleable__label sk-toggleable__label-arrow\">KMeans</label><div class=\"sk-toggleable__content\"><pre>KMeans(n_clusters=10, random_state=42)</pre></div></div></div></div></div>"
            ],
            "text/plain": [
              "KMeans(n_clusters=10, random_state=42)"
            ]
          },
          "execution_count": 10,
          "metadata": {},
          "output_type": "execute_result"
        }
      ],
      "source": [
        "# 클러스터링 수행\n",
        "kmeans = KMeans(n_clusters=10, random_state=42)\n",
        "kmeans.fit(X_tfidf)\n",
        "\n",
        "### 이후 아래 #123 코드 셀로 이동하여 코드 실행"
      ]
    },
    {
      "cell_type": "markdown",
      "metadata": {
        "id": "OgkONuaOf0C_"
      },
      "source": [
        "**Word2Vec** <br>\n",
        "주변단어들을 학습에 사용 <br> <br>\n",
        "CBOW<br>\n",
        "주변 단어들(문맥)-타겟 단어의 앞뒤에 위치한 단어들-을 기반으로 타겟 단어 예측<br>\n",
        "ex \"The cat sits on the ___\" 빈칸에 들어갈 단어(타겟 단어) 예측<br><br>\n",
        "Skip-gram<br>\n",
        "특정 단어를 입력으로 받아, 그 단어 주변의 문맥 단어를 예측<br>\n",
        "ex \"cat\"이라는 단어가 주어졌을 때, 이 단어 주변에 위치할 가능성이 높은 단어(\"The\", \"sits\", \"on\") 예측"
      ]
    },
    {
      "cell_type": "code",
      "execution_count": 11,
      "metadata": {
        "id": "ueP8q6Tsgi79"
      },
      "outputs": [],
      "source": [
        "################# Word2Vec  #################\n",
        "from gensim.models import Word2Vec\n",
        "import pandas as pd\n",
        "import numpy as np\n",
        "\n",
        "# 책 제목을 단어 리스트로 변환\n",
        "sentences = [title.split() for title in df_k['Title']]\n",
        "\n",
        "# Word2Vec 모델 학습\n",
        "word2vec_model = Word2Vec(sentences, vector_size=64, window=5, min_count=1)\n",
        "   # 책 제목에서 각 단어의 벡터 표현 학습\n",
        "   # 학습을 통해 책 제목을 구성하는 단어들 간의 관계와 문맥을 바탕으로 각 단어의 의미를 반영하는 벡터 생성\n"
      ]
    },
    {
      "cell_type": "code",
      "execution_count": 12,
      "metadata": {
        "id": "7DQIQdbHhNYS"
      },
      "outputs": [],
      "source": [
        "# 책 제목 -> 벡터값 조회 및 제목단위 평균값 산출\n",
        "# 학습된 word2vec 모델을 사용하여 각 책 제목을 구성하는 단어들의 벡터 값 조회\n",
        "def vectorize_w_word2vec(text):\n",
        "    words = text.split()\n",
        "    word_vectors = [word2vec_model.wv[word] for word in words if word in word2vec_model.wv]\n",
        "    if len(word_vectors) == 0:\n",
        "        return np.zeros(word2vec_model.vector_size)\n",
        "    return np.mean(word_vectors, axis=0)\n",
        "\n",
        "# 각 책 제목을 벡터화\n",
        "title_vectors_k = np.array([vectorize_w_word2vec(title) for title in df_k['Title']])\n",
        "\n",
        "### 이 후 아래 클러스터링 코드 실행하여 결과 확인"
      ]
    },
    {
      "cell_type": "markdown",
      "metadata": {
        "id": "S-_-s7mofYiJ"
      },
      "source": [
        "**FastText** <br>\n",
        "주변 단어들을 학습에 사용 =  word2vec <br>\n",
        "서브 워드 사용 <br>"
      ]
    },
    {
      "cell_type": "code",
      "execution_count": 13,
      "metadata": {
        "id": "sL_mN7CEJ4YA"
      },
      "outputs": [],
      "source": [
        "################# FastText  #################\n",
        "from gensim.models import FastText\n",
        "from sklearn.cluster import KMeans\n",
        "import pandas as pd\n",
        "import numpy as np\n",
        "\n",
        "# FastText 모델 학습 (로컬 데이터)\n",
        "# sentences = [title.split() for title in df_e['Title']]\n",
        "sentences = [title.split() for title in df_k['Title']]\n",
        "fasttext_model = FastText(sentences, vector_size=64, window=5, min_count=1)\n",
        "   # 책 제목에서 각 단어와 서브워드(subword)의 벡터 표현 학습\n",
        "   # 학습을 통해 책 제목을 구성하는 단어들 간의 관계와 문맥을 바탕으로 각 단어의 의미를 반영하는 벡터 생성"
      ]
    },
    {
      "cell_type": "code",
      "execution_count": 14,
      "metadata": {
        "id": "cnD5lm9oemEL"
      },
      "outputs": [],
      "source": [
        "# 책 제목 -> 벡터값 조회 및 제목단위 평균값 산출\n",
        "# 학습된 FastText 모델을 사용하여 각 책 제목을 구성하는 단어들의 벡터 값 조회\n",
        "def vectorize_w_fasttext(text):\n",
        "    words = text.split()\n",
        "    word_vectors = [fasttext_model.wv[word] for word in words if word in fasttext_model.wv]\n",
        "    if len(word_vectors) == 0:\n",
        "        return np.zeros(fasttext_model.vector_size)\n",
        "    return np.mean(word_vectors, axis=0)\n",
        "\n",
        "# 제목 벡터화\n",
        "title_vectors_k = np.array([vectorize_w_fasttext(title) for title in df_k['Title']])"
      ]
    },
    {
      "cell_type": "code",
      "execution_count": null,
      "metadata": {
        "id": "w-eOgjB3hXWR"
      },
      "outputs": [],
      "source": []
    },
    {
      "cell_type": "markdown",
      "metadata": {
        "id": "mAMUaOaYhQ4T"
      },
      "source": [
        "**아래 클러스터링 과정은 동일**"
      ]
    },
    {
      "cell_type": "code",
      "execution_count": null,
      "metadata": {
        "id": "t2v91e8vhXsw"
      },
      "outputs": [],
      "source": []
    },
    {
      "cell_type": "code",
      "execution_count": 15,
      "metadata": {
        "id": "CzUNlIsDIkqF"
      },
      "outputs": [
        {
          "name": "stderr",
          "output_type": "stream",
          "text": [
            "C:\\Users\\crazy\\AppData\\Local\\Temp\\ipykernel_8756\\4099749918.py:6: SettingWithCopyWarning: \n",
            "A value is trying to be set on a copy of a slice from a DataFrame.\n",
            "Try using .loc[row_indexer,col_indexer] = value instead\n",
            "\n",
            "See the caveats in the documentation: https://pandas.pydata.org/pandas-docs/stable/user_guide/indexing.html#returning-a-view-versus-a-copy\n",
            "  df_k['Cluster'] = kmeans.labels_\n"
          ]
        }
      ],
      "source": [
        "# K-평균 클러스터링 수행\n",
        "kmeans = KMeans(n_clusters=10, random_state=42)\n",
        "kmeans.fit(title_vectors_k)\n",
        "\n",
        "# 클러스터 할당 결과\n",
        "df_k['Cluster'] = kmeans.labels_"
      ]
    },
    {
      "cell_type": "code",
      "execution_count": 16,
      "metadata": {
        "colab": {
          "base_uri": "https://localhost:8080/"
        },
        "id": "pYQULHLbKFb7",
        "outputId": "6c30dd9e-a702-478b-f266-f20c2ff5867a"
      },
      "outputs": [
        {
          "name": "stdout",
          "output_type": "stream",
          "text": [
            "Cluster 0:\n",
            "12               강철왕국 프로이센\n",
            "126                 경영의 명의\n",
            "262            가족신탁 이론과 실무\n",
            "278    스피킹 매트릭스 30초 영어 말하기\n",
            "344        생각하는 아이 기다리는 엄마\n",
            "Name: Title, dtype: object \n",
            "\n",
            "Cluster 1:\n",
            "1024           한국사 편지 세트\n",
            "1724      설민석의 한국사 대모험 5\n",
            "1819    특종! 70명으로 읽는 한국사\n",
            "1948      설민석의 한국사 대모험 4\n",
            "3719      이두호의 머털이 한국사 9\n",
            "Name: Title, dtype: object \n",
            "\n",
            "Cluster 2:\n",
            "1719     쿠키런 서바이벌 대작전 7\n",
            "1738     쿠키런 서바이벌 대작전 2\n",
            "1739     쿠키런 서바이벌 대작전 1\n",
            "1740     쿠키런 서바이벌 대작전 3\n",
            "1768    쿠키런 서바이벌 대작전 16\n",
            "Name: Title, dtype: object \n",
            "\n",
            "Cluster 3:\n",
            "1711         쿠키런 한자런 7\n",
            "1733      쿠키런 개그 과학 상식\n",
            "1743         쿠키런 한자런 8\n",
            "1837    쿠키런 신대륙에서 찾아라!\n",
            "1898         쿠키런 한자런 6\n",
            "Name: Title, dtype: object \n",
            "\n",
            "Cluster 4:\n",
            "90     고전 기하학과 현대 기하학\n",
            "98           창의적 공학설계\n",
            "153     응용이 보이는 선형대수학\n",
            "173         알기쉬운 해부생리\n",
            "266          내부감사 매뉴얼\n",
            "Name: Title, dtype: object \n",
            "\n",
            "Cluster 5:\n",
            "409    묻고 답하는 한국사카페 1\n",
            "442        두근두근 중국어 1\n",
            "476         런웨이의 연인 1\n",
            "518     우리에게는 벽이 있다 1\n",
            "529          비밀의 아이 4\n",
            "Name: Title, dtype: object \n",
            "\n",
            "Cluster 6:\n",
            "93         건축견적이야기 2 \n",
            "357         예수님의 사람 2\n",
            "371    나, 지금 죽어도 좋아 2\n",
            "422           밤의 양들 2\n",
            "426             핫라인 2\n",
            "Name: Title, dtype: object \n",
            "\n",
            "Cluster 7:\n",
            "94      건축견적이야기 3 \n",
            "461       엉터리 릴리 4\n",
            "467           마기 3\n",
            "469    주문배달의 왕자님 3\n",
            "471           스승 5\n",
            "Name: Title, dtype: object \n",
            "\n",
            "Cluster 8:\n",
            "24        로마인 이야기 1-15권 세트\n",
            "192            건축견적이야기 세트 \n",
            "218    주류 창업을 위한 주류면허 길라잡이\n",
            "342              프랑스 엄마 수업\n",
            "351       맛있는 햄버거의 무서운 이야기\n",
            "Name: Title, dtype: object \n",
            "\n",
            "Cluster 9:\n",
            "25                          이화림 회고록\n",
            "66                     쓰레기에 관한 모든 것\n",
            "165              4차 산업혁명 시대의 운영관리혁신\n",
            "191                          척추영상진단\n",
            "277    유패스 지텔프 최신 기출유형 공식 기본서 문법 독해\n",
            "Name: Title, dtype: object \n",
            "\n"
          ]
        }
      ],
      "source": [
        "# 123 코드 셀\n",
        "# 클러스터 별로 데이터 확인\n",
        "for cluster in range(10): # 클러스터의 수에 따라 범위 조정\n",
        "    print(f\"Cluster {cluster}:\")\n",
        "    print(df_k[df_k['Cluster'] == cluster]['Title'].head(), '\\n') # 각 클러스터에 속한 책 제목 출력\n"
      ]
    },
    {
      "cell_type": "markdown",
      "metadata": {
        "id": "ZNgIwPrcvYTA"
      },
      "source": []
    },
    {
      "cell_type": "code",
      "execution_count": 46,
      "metadata": {
        "colab": {
          "base_uri": "https://localhost:8080/"
        },
        "id": "hKn4b3l0UBwY",
        "outputId": "4d7601ba-6f7b-4c62-a61b-3136f46b2420"
      },
      "outputs": [
        {
          "name": "stdout",
          "output_type": "stream",
          "text": [
            "Word: 공황장애, similarity : 0.44372034072875977\n",
            "Word: 동작교육과, similarity : 0.4418831169605255\n",
            "Word: 일본, similarity : 0.4391671121120453\n",
            "Word: 뉴노멀, similarity : 0.42190107703208923\n",
            "Word: 레퍼런스, similarity : 0.42059946060180664\n",
            "Word: 무너지지, similarity : 0.41250964999198914\n",
            "Word: 좋았다, similarity : 0.4073355197906494\n",
            "Word: 국민대차대조표, similarity : 0.40582984685897827\n",
            "Word: 유럽만사, similarity : 0.40318357944488525\n",
            "Word: 끼고, similarity : 0.4021202027797699\n"
          ]
        }
      ],
      "source": [
        "similar_words = fasttext_model.wv.most_similar('국민')\n",
        "\n",
        "for word, similarity in similar_words:\n",
        "    print(f\"Word: {word}, similarity : {similarity}\")"
      ]
    },
    {
      "cell_type": "code",
      "execution_count": 41,
      "metadata": {
        "colab": {
          "base_uri": "https://localhost:8080/"
        },
        "id": "9nWW_jDum9bK",
        "outputId": "507122af-aa70-4a66-8142-477685fbf259"
      },
      "outputs": [
        {
          "data": {
            "text/plain": [
              "[('공주와', 0.5141741037368774),\n",
              " ('딥펜으로', 0.46176180243492126),\n",
              " ('문학,', 0.4553402066230774),\n",
              " ('수라도', 0.43647220730781555),\n",
              " ('맥의', 0.4217603802680969),\n",
              " ('있어야지', 0.4063689410686493),\n",
              " ('충동', 0.40417006611824036),\n",
              " ('24', 0.4018411934375763),\n",
              " ('거짓된', 0.3994196951389313),\n",
              " ('어디', 0.39838743209838867)]"
            ]
          },
          "execution_count": 41,
          "metadata": {},
          "output_type": "execute_result"
        }
      ],
      "source": [
        "# 유사한 단어\n",
        "fasttext_model.wv.most_similar('바바')"
      ]
    }
  ],
  "metadata": {
    "colab": {
      "provenance": []
    },
    "kernelspec": {
      "display_name": "Python 3",
      "name": "python3"
    },
    "language_info": {
      "codemirror_mode": {
        "name": "ipython",
        "version": 3
      },
      "file_extension": ".py",
      "mimetype": "text/x-python",
      "name": "python",
      "nbconvert_exporter": "python",
      "pygments_lexer": "ipython3",
      "version": "3.8.15"
    }
  },
  "nbformat": 4,
  "nbformat_minor": 0
}
