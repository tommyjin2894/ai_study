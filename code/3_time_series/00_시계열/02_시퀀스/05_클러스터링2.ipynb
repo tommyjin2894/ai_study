{
  "cells": [
    {
      "cell_type": "code",
      "execution_count": null,
      "metadata": {
        "id": "5EJcLm3HZPUn"
      },
      "outputs": [],
      "source": [
        "# 필요한 패키지 불러오지\n",
        "import pandas as pd\n",
        "import numpy as np\n",
        "import matplotlib.pyplot as plt\n",
        "import seaborn as sns"
      ]
    },
    {
      "cell_type": "code",
      "execution_count": null,
      "metadata": {
        "id": "4vvaLUSXaQER"
      },
      "outputs": [],
      "source": [
        "df_1 = pd.read_csv('book.csv', encoding='euc-kr')\n",
        "\n",
        "# df_1.head()"
      ]
    },
    {
      "cell_type": "code",
      "execution_count": null,
      "metadata": {
        "id": "gd3aV8noalpq"
      },
      "outputs": [],
      "source": [
        "df_1.tail()"
      ]
    },
    {
      "cell_type": "code",
      "execution_count": null,
      "metadata": {
        "id": "p1XIt2FAavk9"
      },
      "outputs": [],
      "source": [
        "df_1 = df_1.dropna(subset=['Title'])\n",
        "df_1 = df_1[df_1['Title'].str.strip() != '']\n",
        "\n",
        "df_2 = df_1.dropna(subset=['Publisher'])\n",
        "df_2 = df_2[df_2['Publisher'].str.strip() != '']\n"
      ]
    },
    {
      "cell_type": "code",
      "execution_count": null,
      "metadata": {
        "colab": {
          "base_uri": "https://localhost:8080/"
        },
        "id": "sCu5psNtbeQz",
        "outputId": "430f78e3-3ed7-4c85-e22f-13fb06dae30a"
      },
      "outputs": [],
      "source": [
        "# 한국어 타이틀 레코드만 가져옴\n",
        "df = df_2[df_1['Title'].str.contains('[가-힣]', regex=True)]\n",
        "# 한국어 [가-힣]\n",
        "# 영어[A-Za-z]\n",
        "# 일본어 [ぁ-んァ-ン]\n"
      ]
    },
    {
      "cell_type": "code",
      "execution_count": null,
      "metadata": {
        "id": "mhbUTwTgboXH"
      },
      "outputs": [],
      "source": [
        "# price  object => 수치형\n",
        "df['Price'] = pd.to_numeric(df['Price'].str.replace('[^\\d.]', ''), errors='coerce')\n",
        "\n",
        "# 'Pdate' 컬럼을 날짜 타입으로 변환 (한국어 날짜 형식에 맞춤)\n",
        "df['Pdate'] = pd.to_datetime(df['Pdate'], format='%Y년 %m월 %d일', errors='coerce')\n"
      ]
    },
    {
      "cell_type": "code",
      "execution_count": null,
      "metadata": {
        "id": "oSdf38iTb0_n"
      },
      "outputs": [],
      "source": [
        "# 클러스터링을 위한 패키지\n",
        "from sklearn.feature_extraction.text import TfidfVectorizer\n",
        "from sklearn.cluster import KMeans\n"
      ]
    },
    {
      "cell_type": "code",
      "execution_count": null,
      "metadata": {
        "colab": {
          "base_uri": "https://localhost:8080/"
        },
        "id": "e07LwnredPMA",
        "outputId": "97eb0371-103c-454e-add8-98338baf09ff"
      },
      "outputs": [],
      "source": [
        "# 벡터화\n",
        "df['t_p'] = df['Publisher'] + \"_\" + df['Title']\n",
        "\n",
        "tfidf_vectorizer = TfidfVectorizer(max_features=100) # 전체 단어 집합에서 TF-IDF 값이 가장 높은 상위 n개의 단어만을 선택하여 특성 벡터를 생성\n",
        "X_tfidf = tfidf_vectorizer.fit_transform(df['t_p'])"
      ]
    },
    {
      "cell_type": "code",
      "execution_count": null,
      "metadata": {
        "colab": {
          "base_uri": "https://localhost:8080/",
          "height": 131
        },
        "id": "e4RiY1-oeprm",
        "outputId": "76c91847-9b9c-4a3f-b0bf-b057476f4cde"
      },
      "outputs": [],
      "source": [
        "# 클러스터링 수행\n",
        "kmeans = KMeans(n_clusters=20, random_state=42)\n",
        "kmeans.fit(X_tfidf)"
      ]
    },
    {
      "cell_type": "code",
      "execution_count": null,
      "metadata": {
        "colab": {
          "base_uri": "https://localhost:8080/"
        },
        "id": "YEJWVjgGe6Sh",
        "outputId": "45d6752a-eeb7-40cb-de4e-f7e737fb8ea8"
      },
      "outputs": [],
      "source": [
        "# 결과 할당\n",
        "df['Cluster']=kmeans.labels_"
      ]
    },
    {
      "cell_type": "code",
      "execution_count": null,
      "metadata": {
        "colab": {
          "base_uri": "https://localhost:8080/"
        },
        "id": "cW6TqhcVfKXt",
        "outputId": "1fd0c84e-77f2-4cf6-cb00-fe5034d11999"
      },
      "outputs": [],
      "source": [
        "# 클러스터 별로 데이터 확인\n",
        "for cluster in range(20): # 클러스터의 수에 따라 범위 조정\n",
        "    print(f\"Cluster {cluster}:\")\n",
        "    print(df[df['Cluster'] == cluster]['Title'], '\\n') # 각 클러스터에 속한 책 제목 예시 출력"
      ]
    },
    {
      "cell_type": "code",
      "execution_count": null,
      "metadata": {
        "id": "PTyd3QzWjYDA"
      },
      "outputs": [],
      "source": [
        "# 클러스터 결과 시각화\n",
        "# T-SNE  차원 축소 방법 사용\n",
        "# 고차원의 TF-IDF 벡터를 2차원으로 매핑한 후 클러스터링 결과를 시각화\n",
        "from sklearn.manifold import TSNE\n",
        "tsne = TSNE(n_components=2, random_state=42)\n",
        "X_tsne = tsne.fit_transform(X_tfidf.toarray())\n",
        "plt.scatter(X_tsne[:, 0], X_tsne[:, 1], c=kmeans.labels_)\n",
        "plt.show()"
      ]
    },
    {
      "cell_type": "markdown",
      "metadata": {
        "id": "Tq8X7FVm9bXG"
      },
      "source": [
        "Word2Vec 모델"
      ]
    },
    {
      "cell_type": "code",
      "execution_count": null,
      "metadata": {
        "colab": {
          "base_uri": "https://localhost:8080/"
        },
        "id": "tSqfEf7m8_tj",
        "outputId": "cca0d0fb-9d6d-4cf7-893f-f4e2981a7e54"
      },
      "outputs": [],
      "source": [
        "df['t_p'] = df['Title']\n",
        "# df['t_p'] = df['Publisher'] + \"_\" + df['Title']"
      ]
    },
    {
      "cell_type": "code",
      "execution_count": null,
      "metadata": {
        "id": "qqNr-2xr9L74"
      },
      "outputs": [],
      "source": [
        "from gensim.models import Word2Vec\n",
        "from sklearn.cluster import KMeans\n",
        "\n",
        "# 텍스트 전처리\n",
        "\n",
        "# 문서를 단어 리스트로 변환\n",
        "documents = [text.split() for text in df['t_p']]\n"
      ]
    },
    {
      "cell_type": "code",
      "execution_count": null,
      "metadata": {
        "colab": {
          "base_uri": "https://localhost:8080/"
        },
        "id": "mOkVjKlY9g3P",
        "outputId": "53fd75a8-55d5-47dd-f76c-64812d304ca5"
      },
      "outputs": [],
      "source": [
        "documents[0]"
      ]
    },
    {
      "cell_type": "code",
      "execution_count": null,
      "metadata": {
        "id": "Leq4zTeA9n64"
      },
      "outputs": [],
      "source": [
        "# Word2Vec: 단어의 벡터 변환 모델 중 하나, 비슷한 의미를 가진 단어들이 벡터 공간에서 서로 가까이 위치하도록 학습\n",
        "model = Word2Vec(sentences=documents, vector_size=100, window=5, min_count=1, workers=4)\n",
        "\n",
        "# sentences=documents: 학습에 사용될 데이터(문서) 리스트 포맷(각 문서 내 단어들을 리스트)\n",
        "# vector_size=100: 생성될 단어 벡터 차원 수\n",
        "# window=5: 단어 예측을 위해 고려하는 주변 단어의 범위. 5:타겟 단어의 앞뒤로 5개의 단어를 컨텍스트로 사용\n",
        "# min_count=1: 학습에 포함될 최소 단어 빈도수\n",
        "# workers=4: 스레드의 수(병렬 처리)\n",
        "\n",
        "\n",
        "#  문서 벡터 생성(<- 단어 벡터 평균)\n",
        "def document_vector(word2vec_model, doc):\n",
        "    vector_size = word2vec_model.vector_size   # 단어 벡터 차원 수\n",
        "\n",
        "    doc_vector = np.zeros(vector_size) # 문서 벡터(초기값 0) 문서 내 각 단어의 벡터를 더함\n",
        "    num_words = 0\n",
        "    for word in doc:\n",
        "        try:\n",
        "            doc_vector += word2vec_model.wv[word]\n",
        "            num_words += 1\n",
        "        except KeyError: # 문서 내 단어의 수\n",
        "            continue\n",
        "    if num_words == 0:\n",
        "        return np.zeros(vector_size)\n",
        "    else:\n",
        "        return doc_vector / num_words  # 각 단어 벡터를 더해서 구해진 doc_vector를 num_words로 나누어 평균 계산 (단어 벡터 평균)\n",
        "                                       # 클러스터링의 input 으로 사용\n",
        "\n",
        "# 각 문서 벡터 생성\n",
        "doc_vectors = np.array([document_vector(model, doc) for doc in documents])\n"
      ]
    },
    {
      "cell_type": "code",
      "execution_count": null,
      "metadata": {
        "colab": {
          "base_uri": "https://localhost:8080/"
        },
        "id": "5bulVBBGEe5p",
        "outputId": "5da59b1d-804a-4c0f-d075-73762951a480"
      },
      "outputs": [],
      "source": [
        "vector = model.wv['강철왕국']\n",
        "vector"
      ]
    },
    {
      "cell_type": "code",
      "execution_count": null,
      "metadata": {
        "colab": {
          "base_uri": "https://localhost:8080/"
        },
        "id": "phauAe0R9tID",
        "outputId": "2931557b-49d1-4d05-eb7a-4a0c6eaee63c"
      },
      "outputs": [],
      "source": [
        "# K-평균 클러스터링 모델 생성 및 학습\n",
        "kmeans = KMeans(n_clusters=5, random_state=42)\n",
        "kmeans.fit(doc_vectors)\n",
        "\n",
        "# 클러스터 할당 결과\n",
        "df['Cluster'] = kmeans.labels_\n"
      ]
    },
    {
      "cell_type": "code",
      "execution_count": null,
      "metadata": {
        "colab": {
          "base_uri": "https://localhost:8080/"
        },
        "id": "TgBfCl_l90M_",
        "outputId": "5d572023-76b6-40fc-8d8b-c4d71a39982a"
      },
      "outputs": [],
      "source": [
        "# 클러스터 별로 데이터 확인\n",
        "for cluster in range(5): # 클러스터의 수에 따라 범위 조정\n",
        "    print(f\"Cluster {cluster}:\")\n",
        "    print(df[df['Cluster'] == cluster]['Title'].head(), '\\n') # 각 클러스터에 속한 책 제목 예시 출력"
      ]
    },
    {
      "cell_type": "code",
      "execution_count": null,
      "metadata": {
        "id": "cYFPlfyYoF7R"
      },
      "outputs": [],
      "source": [
        "from tensorflow.keras.preprocessing.text import Tokenizer\n",
        "from tensorflow.keras.preprocessing.sequence import pad_sequences\n",
        "\n",
        "# 텍스트 토큰화 및 시퀀스 변환\n",
        "tokenizer = Tokenizer()\n",
        "# Tokenizer 객체를 사용하여 텍스트를 토큰화, 각 토큰(단어)에 고유한 정수 인덱스 할당\n",
        "tokenizer.fit_on_texts(df['Title'])\n",
        "X_seq = tokenizer.texts_to_sequences(df['Title'])"
      ]
    },
    {
      "cell_type": "code",
      "execution_count": null,
      "metadata": {
        "colab": {
          "base_uri": "https://localhost:8080/"
        },
        "id": "E_NomLNpIQtN",
        "outputId": "abc42c9c-90e4-433d-8928-2e549f33ea70"
      },
      "outputs": [],
      "source": [
        "################# FastText  #################\n",
        "from gensim.models import FastText\n",
        "\n",
        "# 예제 문장들\n",
        "sentences = [['cat', 'say', 'meow'], ['dog', 'say', 'woof']]\n",
        "\n",
        "# FastText 모델 훈련\n",
        "model = FastText(sentences, vector_size=100, window=5, min_count=1, workers=4)\n",
        "\n",
        "# 'cat' 단어의 벡터 조회\n",
        "print(model.wv['cat'])"
      ]
    },
    {
      "cell_type": "code",
      "execution_count": null,
      "metadata": {
        "id": "sL_mN7CEJ4YA"
      },
      "outputs": [],
      "source": [
        "################# FastText  #################\n",
        "from gensim.models import FastText\n",
        "from sklearn.cluster import KMeans\n",
        "import pandas as pd\n",
        "import numpy as np\n",
        "\n",
        "# FastText 모델 학습 (로컬 데이터에서)\n",
        "# sentences = [title.split() for title in df['Title']]\n",
        "sentences = [title.split() for title in df['Title']]\n",
        "fasttext_model = FastText(X_seq, vector_size=64, window=5, min_count=1)\n",
        "\n",
        "# 책 제목 -> 벡터화\n",
        "def vectorize_w_fasttext(text):\n",
        "    words = text.split()\n",
        "    word_vectors = [fasttext_model.wv[word] for word in words if word in fasttext_model.wv]\n",
        "    if len(word_vectors) == 0:\n",
        "        return np.zeros(fasttext_model.vector_size)\n",
        "    return np.mean(word_vectors, axis=0)\n",
        "\n",
        "# 제목 벡터화\n",
        "title_vectors = np.array([vectorize_w_fasttext(title) for title in df['Title']])\n",
        "\n"
      ]
    },
    {
      "cell_type": "code",
      "execution_count": null,
      "metadata": {
        "colab": {
          "base_uri": "https://localhost:8080/"
        },
        "id": "9nWW_jDum9bK",
        "outputId": "f93462d6-d60f-4b6e-864f-0fd843bc28db"
      },
      "outputs": [],
      "source": [
        "# 유사한 단어\n",
        "model.wv.most_similar('영어')"
      ]
    },
    {
      "cell_type": "code",
      "execution_count": null,
      "metadata": {
        "colab": {
          "base_uri": "https://localhost:8080/"
        },
        "id": "xK9Q75upnNqB",
        "outputId": "c2c438d4-f656-471c-ab0f-e35694dae90d"
      },
      "outputs": [],
      "source": [
        "# 두 단어간 유사도 확인\n",
        "model.wv.similarity('수학', '영어')"
      ]
    },
    {
      "cell_type": "code",
      "execution_count": null,
      "metadata": {
        "colab": {
          "base_uri": "https://localhost:8080/"
        },
        "id": "CzUNlIsDIkqF",
        "outputId": "2257320e-33fa-4c0e-fa41-8fe55868a3f0"
      },
      "outputs": [],
      "source": [
        "# K-평균 클러스터링 모델 생성 및 학습\n",
        "kmeans = KMeans(n_clusters=10, random_state=42)\n",
        "kmeans.fit(title_vectors)\n",
        "\n",
        "# 클러스터 할당 결과\n",
        "df['Cluster'] = kmeans.labels_"
      ]
    },
    {
      "cell_type": "code",
      "execution_count": null,
      "metadata": {
        "colab": {
          "base_uri": "https://localhost:8080/"
        },
        "id": "pYQULHLbKFb7",
        "outputId": "59cf1abf-75b2-4b30-c9a0-64160125fc77"
      },
      "outputs": [],
      "source": [
        "# 클러스터 별로 데이터 확인\n",
        "for cluster in range(10): # 클러스터의 수에 따라 범위 조정\n",
        "    print(f\"Cluster {cluster}:\")\n",
        "    print(df[df['Cluster'] == cluster]['Title'].head(), '\\n') # 각 클러스터에 속한 책 제목 예시 출력\n"
      ]
    }
  ],
  "metadata": {
    "colab": {
      "provenance": []
    },
    "kernelspec": {
      "display_name": "Python 3",
      "name": "python3"
    },
    "language_info": {
      "codemirror_mode": {
        "name": "ipython",
        "version": 3
      },
      "file_extension": ".py",
      "mimetype": "text/x-python",
      "name": "python",
      "nbconvert_exporter": "python",
      "pygments_lexer": "ipython3",
      "version": "3.8.15"
    }
  },
  "nbformat": 4,
  "nbformat_minor": 0
}
