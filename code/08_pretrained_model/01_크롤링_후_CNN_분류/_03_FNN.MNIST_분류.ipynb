{
  "cells": [
    {
      "cell_type": "code",
      "execution_count": 1,
      "metadata": {
        "id": "gGhEWZF6LBjV"
      },
      "outputs": [],
      "source": [
        "import tensorflow as tf\n",
        "from tensorflow import keras"
      ]
    },
    {
      "cell_type": "code",
      "execution_count": 2,
      "metadata": {
        "id": "nSITn_BrLBjW"
      },
      "outputs": [],
      "source": [
        "# 데이터 로드\n",
        "(train_images, train_labels), (test_images, test_labels) = keras.datasets.mnist.load_data()"
      ]
    },
    {
      "cell_type": "code",
      "execution_count": 3,
      "metadata": {
        "colab": {
          "base_uri": "https://localhost:8080/"
        },
        "id": "WCnd7Z7cLBjW",
        "outputId": "1759c27c-828c-423d-a71a-6d0ffaa067e4"
      },
      "outputs": [
        {
          "data": {
            "text/plain": [
              "(60000, 28, 28)"
            ]
          },
          "execution_count": 3,
          "metadata": {},
          "output_type": "execute_result"
        }
      ],
      "source": [
        "train_images.shape\n",
        "\n",
        "# 60000:이미지 갯수\n",
        "# 28x28:이미지 Size (28x28개의 pixels로 구성)"
      ]
    },
    {
      "cell_type": "code",
      "execution_count": 4,
      "metadata": {
        "colab": {
          "base_uri": "https://localhost:8080/",
          "height": 67
        },
        "id": "KaCguPqsLBjX",
        "outputId": "31f641c2-2d9d-44cc-d63a-cea4818fa014",
        "scrolled": true
      },
      "outputs": [
        {
          "data": {
            "text/plain": [
              "array([[  0,   0,   0,   0,   0,   0,   0,   0,   0,   0,   0,   0,   0,\n",
              "          0,   0,   0,   0,   0,   0,   0,   0,   0,   0,   0,   0,   0,\n",
              "          0,   0],\n",
              "       [  0,   0,   0,   0,   0,   0,   0,   0,   0,   0,   0,   0,   0,\n",
              "          0,   0,   0,   0,   0,   0,   0,   0,   0,   0,   0,   0,   0,\n",
              "          0,   0],\n",
              "       [  0,   0,   0,   0,   0,   0,   0,   0,   0,   0,   0,   0,   0,\n",
              "          0,   0,   0,   0,   0,   0,   0,   0,   0,   0,   0,   0,   0,\n",
              "          0,   0],\n",
              "       [  0,   0,   0,   0,   0,   0,   0,   0,   0,   0,   0,   0,   0,\n",
              "          0,   0,   0,   0,   0,   0,   0,   0,   0,   0,   0,   0,   0,\n",
              "          0,   0],\n",
              "       [  0,   0,   0,   0,   0,   0,   0,   0,   0,   0,   0,   0,   0,\n",
              "          0,   0,   0,   0,   0,   0,   0,   0,   0,   0,   0,   0,   0,\n",
              "          0,   0],\n",
              "       [  0,   0,   0,   0,   0,   0,   0,   0,   0,   0,   0,   0,   3,\n",
              "         18,  18,  18, 126, 136, 175,  26, 166, 255, 247, 127,   0,   0,\n",
              "          0,   0],\n",
              "       [  0,   0,   0,   0,   0,   0,   0,   0,  30,  36,  94, 154, 170,\n",
              "        253, 253, 253, 253, 253, 225, 172, 253, 242, 195,  64,   0,   0,\n",
              "          0,   0],\n",
              "       [  0,   0,   0,   0,   0,   0,   0,  49, 238, 253, 253, 253, 253,\n",
              "        253, 253, 253, 253, 251,  93,  82,  82,  56,  39,   0,   0,   0,\n",
              "          0,   0],\n",
              "       [  0,   0,   0,   0,   0,   0,   0,  18, 219, 253, 253, 253, 253,\n",
              "        253, 198, 182, 247, 241,   0,   0,   0,   0,   0,   0,   0,   0,\n",
              "          0,   0],\n",
              "       [  0,   0,   0,   0,   0,   0,   0,   0,  80, 156, 107, 253, 253,\n",
              "        205,  11,   0,  43, 154,   0,   0,   0,   0,   0,   0,   0,   0,\n",
              "          0,   0],\n",
              "       [  0,   0,   0,   0,   0,   0,   0,   0,   0,  14,   1, 154, 253,\n",
              "         90,   0,   0,   0,   0,   0,   0,   0,   0,   0,   0,   0,   0,\n",
              "          0,   0],\n",
              "       [  0,   0,   0,   0,   0,   0,   0,   0,   0,   0,   0, 139, 253,\n",
              "        190,   2,   0,   0,   0,   0,   0,   0,   0,   0,   0,   0,   0,\n",
              "          0,   0],\n",
              "       [  0,   0,   0,   0,   0,   0,   0,   0,   0,   0,   0,  11, 190,\n",
              "        253,  70,   0,   0,   0,   0,   0,   0,   0,   0,   0,   0,   0,\n",
              "          0,   0],\n",
              "       [  0,   0,   0,   0,   0,   0,   0,   0,   0,   0,   0,   0,  35,\n",
              "        241, 225, 160, 108,   1,   0,   0,   0,   0,   0,   0,   0,   0,\n",
              "          0,   0],\n",
              "       [  0,   0,   0,   0,   0,   0,   0,   0,   0,   0,   0,   0,   0,\n",
              "         81, 240, 253, 253, 119,  25,   0,   0,   0,   0,   0,   0,   0,\n",
              "          0,   0],\n",
              "       [  0,   0,   0,   0,   0,   0,   0,   0,   0,   0,   0,   0,   0,\n",
              "          0,  45, 186, 253, 253, 150,  27,   0,   0,   0,   0,   0,   0,\n",
              "          0,   0],\n",
              "       [  0,   0,   0,   0,   0,   0,   0,   0,   0,   0,   0,   0,   0,\n",
              "          0,   0,  16,  93, 252, 253, 187,   0,   0,   0,   0,   0,   0,\n",
              "          0,   0],\n",
              "       [  0,   0,   0,   0,   0,   0,   0,   0,   0,   0,   0,   0,   0,\n",
              "          0,   0,   0,   0, 249, 253, 249,  64,   0,   0,   0,   0,   0,\n",
              "          0,   0],\n",
              "       [  0,   0,   0,   0,   0,   0,   0,   0,   0,   0,   0,   0,   0,\n",
              "          0,  46, 130, 183, 253, 253, 207,   2,   0,   0,   0,   0,   0,\n",
              "          0,   0],\n",
              "       [  0,   0,   0,   0,   0,   0,   0,   0,   0,   0,   0,   0,  39,\n",
              "        148, 229, 253, 253, 253, 250, 182,   0,   0,   0,   0,   0,   0,\n",
              "          0,   0],\n",
              "       [  0,   0,   0,   0,   0,   0,   0,   0,   0,   0,  24, 114, 221,\n",
              "        253, 253, 253, 253, 201,  78,   0,   0,   0,   0,   0,   0,   0,\n",
              "          0,   0],\n",
              "       [  0,   0,   0,   0,   0,   0,   0,   0,  23,  66, 213, 253, 253,\n",
              "        253, 253, 198,  81,   2,   0,   0,   0,   0,   0,   0,   0,   0,\n",
              "          0,   0],\n",
              "       [  0,   0,   0,   0,   0,   0,  18, 171, 219, 253, 253, 253, 253,\n",
              "        195,  80,   9,   0,   0,   0,   0,   0,   0,   0,   0,   0,   0,\n",
              "          0,   0],\n",
              "       [  0,   0,   0,   0,  55, 172, 226, 253, 253, 253, 253, 244, 133,\n",
              "         11,   0,   0,   0,   0,   0,   0,   0,   0,   0,   0,   0,   0,\n",
              "          0,   0],\n",
              "       [  0,   0,   0,   0, 136, 253, 253, 253, 212, 135, 132,  16,   0,\n",
              "          0,   0,   0,   0,   0,   0,   0,   0,   0,   0,   0,   0,   0,\n",
              "          0,   0],\n",
              "       [  0,   0,   0,   0,   0,   0,   0,   0,   0,   0,   0,   0,   0,\n",
              "          0,   0,   0,   0,   0,   0,   0,   0,   0,   0,   0,   0,   0,\n",
              "          0,   0],\n",
              "       [  0,   0,   0,   0,   0,   0,   0,   0,   0,   0,   0,   0,   0,\n",
              "          0,   0,   0,   0,   0,   0,   0,   0,   0,   0,   0,   0,   0,\n",
              "          0,   0],\n",
              "       [  0,   0,   0,   0,   0,   0,   0,   0,   0,   0,   0,   0,   0,\n",
              "          0,   0,   0,   0,   0,   0,   0,   0,   0,   0,   0,   0,   0,\n",
              "          0,   0]], dtype=uint8)"
            ]
          },
          "execution_count": 4,
          "metadata": {},
          "output_type": "execute_result"
        }
      ],
      "source": [
        "train_images[0] # 첫번째 이미지, 255 =  white"
      ]
    },
    {
      "cell_type": "code",
      "execution_count": 5,
      "metadata": {
        "id": "rRHaVY2WLBjX"
      },
      "outputs": [],
      "source": [
        "# 시각화를 위한 패키지\n",
        "import matplotlib.pyplot as plt"
      ]
    },
    {
      "cell_type": "code",
      "execution_count": 6,
      "metadata": {
        "id": "GSXPk76MLBjX"
      },
      "outputs": [
        {
          "data": {
            "image/png": "[encoded data removed]",
            "text/plain": [
              "<Figure size 640x480 with 1 Axes>"
            ]
          },
          "metadata": {},
          "output_type": "display_data"
        }
      ],
      "source": [
        "plt.imshow(train_images[0], cmap='gray') # cmap='gray' cmap = Color Map,   'gray' = 그레이스케일(흑백)\n",
        "       # 픽셀 값이 낮을수록(vmin=0) 검은색, 높을수록(vmax=255) 밝은색(흰색)으로 매핑(표시)\n",
        "plt.show()"
      ]
    },
    {
      "cell_type": "code",
      "execution_count": 7,
      "metadata": {
        "id": "zlGL7T0hLBjX"
      },
      "outputs": [
        {
          "data": {
            "image/png": "[encoded data removed]",
            "text/plain": [
              "<Figure size 640x480 with 1 Axes>"
            ]
          },
          "metadata": {},
          "output_type": "display_data"
        }
      ],
      "source": [
        "plt.imshow(train_images[0], cmap='gray_r') # cmap='gray_r', vmin=0, vmax=255  # r \"reverse\", 색상 맵의 색상 순서 반전\n",
        "plt.show()"
      ]
    },
    {
      "cell_type": "code",
      "execution_count": 8,
      "metadata": {
        "colab": {
          "base_uri": "https://localhost:8080/"
        },
        "id": "cxvyWTQ4LBjX",
        "outputId": "441b31f3-8dc4-4afa-c701-440ca6c8ec82"
      },
      "outputs": [
        {
          "data": {
            "text/plain": [
              "5"
            ]
          },
          "execution_count": 8,
          "metadata": {},
          "output_type": "execute_result"
        }
      ],
      "source": [
        "train_labels[0]\n",
        "# 레이블 확인 -> 5"
      ]
    },
    {
      "cell_type": "markdown",
      "metadata": {
        "id": "FXEkr274ToS9"
      },
      "source": [
        "# 신경망 설계"
      ]
    },
    {
      "cell_type": "code",
      "execution_count": 9,
      "metadata": {
        "id": "_y54EHAwLBjY"
      },
      "outputs": [],
      "source": [
        "from tensorflow.keras import models\n",
        "from tensorflow.keras import layers"
      ]
    },
    {
      "cell_type": "code",
      "execution_count": 10,
      "metadata": {
        "id": "Mm7voFHELBjY"
      },
      "outputs": [],
      "source": [
        "model = models.Sequential()\n",
        "# Sequential 클래스 생성자를 통해 객체(객체명 model) 생성\n",
        "# 이 기본 network안에 layer 추가"
      ]
    },
    {
      "cell_type": "code",
      "execution_count": 11,
      "metadata": {
        "id": "cCOzCGsiLBjY"
      },
      "outputs": [],
      "source": [
        "# 신경망 구조\n",
        "# hidden layer 수 =1\n",
        "# hidden layer의 node 수 = 512\n",
        "# relu 활성화 함수\n",
        "# 28x28개의 input ....... (input_shape <- 입력 node의 수)\n",
        "\n",
        "model.add(layers.Dense(512, activation = 'relu', input_shape=(28*28,)))"
      ]
    },
    {
      "cell_type": "code",
      "execution_count": 12,
      "metadata": {
        "id": "aWwl75tHLBjY"
      },
      "outputs": [],
      "source": [
        "# Output layer\n",
        "# 노드수: 10개( = class 수)\n",
        "# 활성화함수: softmax\n",
        "\n",
        "model.add(layers.Dense(10, activation = 'softmax'))"
      ]
    },
    {
      "cell_type": "code",
      "execution_count": 13,
      "metadata": {
        "id": "wRxJbb9hLBjY"
      },
      "outputs": [
        {
          "name": "stdout",
          "output_type": "stream",
          "text": [
            "Model: \"sequential\"\n",
            "_________________________________________________________________\n",
            " Layer (type)                Output Shape              Param #   \n",
            "=================================================================\n",
            " dense (Dense)               (None, 512)               401920    \n",
            "                                                                 \n",
            " dense_1 (Dense)             (None, 10)                5130      \n",
            "                                                                 \n",
            "=================================================================\n",
            "Total params: 407,050\n",
            "Trainable params: 407,050\n",
            "Non-trainable params: 0\n",
            "_________________________________________________________________\n"
          ]
        }
      ],
      "source": [
        "model.summary()\n",
        "# (512*28*28) + 512\n",
        "# 513 * 10\n"
      ]
    },
    {
      "cell_type": "code",
      "execution_count": 14,
      "metadata": {
        "colab": {
          "base_uri": "https://localhost:8080/"
        },
        "id": "U_W4FhHDVpS8",
        "outputId": "d46bfa80-89fa-4dcb-ba6e-8ca228aad1af"
      },
      "outputs": [
        {
          "data": {
            "text/plain": [
              "(60000, 28, 28)"
            ]
          },
          "execution_count": 14,
          "metadata": {},
          "output_type": "execute_result"
        }
      ],
      "source": [
        "train_images.shape"
      ]
    },
    {
      "cell_type": "code",
      "execution_count": 15,
      "metadata": {
        "id": "AcL1eoesLBjY"
      },
      "outputs": [],
      "source": [
        "#### flatten\n",
        "# input data의 형태를 3D array에서 2D array (즉, matrix) 형태로 변경\n",
        "train_images = train_images.reshape((60000, 28*28))\n",
        "test_images = test_images.reshape((10000, 28*28))"
      ]
    },
    {
      "cell_type": "code",
      "execution_count": 16,
      "metadata": {
        "colab": {
          "base_uri": "https://localhost:8080/"
        },
        "id": "zY1Rcy_SLBjY",
        "outputId": "ec8325fa-5897-4116-c9a8-07b19f3412b2"
      },
      "outputs": [
        {
          "data": {
            "text/plain": [
              "(60000, 784)"
            ]
          },
          "execution_count": 16,
          "metadata": {},
          "output_type": "execute_result"
        }
      ],
      "source": [
        "train_images.shape"
      ]
    },
    {
      "cell_type": "code",
      "execution_count": 17,
      "metadata": {
        "id": "7UkKO3ZhLBjZ"
      },
      "outputs": [],
      "source": [
        "# Input scaling\n",
        "train_images = train_images.astype('float32')/255\n",
        "test_images = test_images.astype('float32')/255"
      ]
    },
    {
      "cell_type": "code",
      "execution_count": 18,
      "metadata": {
        "id": "CK9TT-eoLBjZ"
      },
      "outputs": [],
      "source": [
        "from tensorflow.keras.utils import to_categorical\n",
        "\n",
        "# 종속변수값 0~9\n",
        "# one-hot 인코딩\n",
        "train_labels_one_hot = to_categorical(train_labels)\n",
        "test_labels_one_hot = to_categorical(test_labels)"
      ]
    },
    {
      "cell_type": "code",
      "execution_count": 19,
      "metadata": {
        "colab": {
          "base_uri": "https://localhost:8080/"
        },
        "id": "yzI3zPrSYCEu",
        "outputId": "3cdce7be-bec0-4c6c-8855-f02d396191c8"
      },
      "outputs": [
        {
          "data": {
            "text/plain": [
              "array([0., 0., 0., 0., 0., 1., 0., 0., 0., 0.], dtype=float32)"
            ]
          },
          "execution_count": 19,
          "metadata": {},
          "output_type": "execute_result"
        }
      ],
      "source": [
        "train_labels_one_hot[0]"
      ]
    },
    {
      "cell_type": "code",
      "execution_count": 20,
      "metadata": {
        "colab": {
          "base_uri": "https://localhost:8080/"
        },
        "id": "uqS5WL4oLBjZ",
        "outputId": "16725337-c9a9-478e-81f0-e8f24e20fb43"
      },
      "outputs": [
        {
          "data": {
            "text/plain": [
              "(10000,)"
            ]
          },
          "execution_count": 20,
          "metadata": {},
          "output_type": "execute_result"
        }
      ],
      "source": [
        "test_labels.shape"
      ]
    },
    {
      "cell_type": "markdown",
      "metadata": {
        "id": "R9kdlwlALBjZ"
      },
      "source": []
    },
    {
      "cell_type": "code",
      "execution_count": 21,
      "metadata": {
        "colab": {
          "base_uri": "https://localhost:8080/"
        },
        "id": "8tLEcoerLBjZ",
        "outputId": "8c3c8609-29d8-400c-9193-b6c1606fbf8b"
      },
      "outputs": [
        {
          "data": {
            "text/plain": [
              "(10000, 10)"
            ]
          },
          "execution_count": 21,
          "metadata": {},
          "output_type": "execute_result"
        }
      ],
      "source": [
        "test_labels_one_hot.shape"
      ]
    },
    {
      "cell_type": "code",
      "execution_count": 22,
      "metadata": {
        "colab": {
          "base_uri": "https://localhost:8080/"
        },
        "id": "m8O6QeCpLBjZ",
        "outputId": "f429e1d9-0c17-45eb-c730-8aa936b74fba"
      },
      "outputs": [
        {
          "data": {
            "text/plain": [
              "5"
            ]
          },
          "execution_count": 22,
          "metadata": {},
          "output_type": "execute_result"
        }
      ],
      "source": [
        "train_labels[0]"
      ]
    },
    {
      "cell_type": "code",
      "execution_count": 23,
      "metadata": {
        "colab": {
          "base_uri": "https://localhost:8080/"
        },
        "id": "mj_xW3JaLBjZ",
        "outputId": "ee8c95ba-28ca-412d-e3d2-875c054f474c"
      },
      "outputs": [
        {
          "data": {
            "text/plain": [
              "array([0., 0., 0., 0., 0., 1., 0., 0., 0., 0.], dtype=float32)"
            ]
          },
          "execution_count": 23,
          "metadata": {},
          "output_type": "execute_result"
        }
      ],
      "source": [
        "train_labels_one_hot[0] # one-hot vector ... 6번째 값(즉 5)만 1"
      ]
    },
    {
      "cell_type": "markdown",
      "metadata": {
        "id": "SAFu4p-pLBjY"
      },
      "source": [
        "옵티마이져: rmsprop <br>\n",
        "비용함수: categorical_crossentropy"
      ]
    },
    {
      "cell_type": "code",
      "execution_count": 24,
      "metadata": {
        "id": "aQ0eNrlwLBjZ"
      },
      "outputs": [],
      "source": [
        "from tensorflow.keras import optimizers\n",
        "rmsprop = optimizers.RMSprop(learning_rate=0.001) # lr값.. 0.001"
      ]
    },
    {
      "cell_type": "code",
      "execution_count": 25,
      "metadata": {
        "id": "33ebMNcpLBjZ"
      },
      "outputs": [],
      "source": [
        "model.compile(optimizer=rmsprop,\n",
        "               loss='categorical_crossentropy',   # cf binary_crossentropy\n",
        "               metrics=['accuracy']) # 모형의 성능을 'accuracy'로 판단\n",
        "                                     # accuracy : 전체 중 정확히 예측한 값의 비율"
      ]
    },
    {
      "cell_type": "code",
      "execution_count": 26,
      "metadata": {
        "colab": {
          "base_uri": "https://localhost:8080/"
        },
        "id": "h_obNRCULBjZ",
        "outputId": "72ff7230-848f-4456-a3c8-65cf69032b42",
        "scrolled": true
      },
      "outputs": [
        {
          "name": "stdout",
          "output_type": "stream",
          "text": [
            "Epoch 1/10\n",
            "469/469 [==============================] - 4s 5ms/step - loss: 0.2530 - accuracy: 0.9263\n",
            "Epoch 2/10\n",
            "469/469 [==============================] - 2s 5ms/step - loss: 0.1029 - accuracy: 0.9707\n",
            "Epoch 3/10\n",
            "469/469 [==============================] - 2s 5ms/step - loss: 0.0677 - accuracy: 0.9795\n",
            "Epoch 4/10\n",
            "469/469 [==============================] - 2s 5ms/step - loss: 0.0496 - accuracy: 0.9851\n",
            "Epoch 5/10\n",
            "469/469 [==============================] - 2s 5ms/step - loss: 0.0370 - accuracy: 0.9895\n",
            "Epoch 6/10\n",
            "469/469 [==============================] - 2s 4ms/step - loss: 0.0288 - accuracy: 0.9916\n",
            "Epoch 7/10\n",
            "469/469 [==============================] - 2s 4ms/step - loss: 0.0222 - accuracy: 0.9936\n",
            "Epoch 8/10\n",
            "469/469 [==============================] - 2s 5ms/step - loss: 0.0174 - accuracy: 0.9946\n",
            "Epoch 9/10\n",
            "469/469 [==============================] - 2s 5ms/step - loss: 0.0132 - accuracy: 0.9960\n",
            "Epoch 10/10\n",
            "469/469 [==============================] - 2s 4ms/step - loss: 0.0102 - accuracy: 0.9971\n"
          ]
        }
      ],
      "source": [
        "# 모델 학습 and 내용 history에 저장\n",
        "history = model.fit(train_images, train_labels_one_hot, epochs=10, batch_size=128)\n",
        "  # fit() 함수를 통해서 학습\n",
        "  # epochs: 전체의 학습 데이터의 사용 횟수 지정\n",
        "  # batch_size: 한번의 학습에 사용되는 data record 갯수 (weight 업데이트)\n"
      ]
    },
    {
      "cell_type": "code",
      "execution_count": 27,
      "metadata": {
        "colab": {
          "base_uri": "https://localhost:8080/"
        },
        "id": "wbUdePXgLBjZ",
        "outputId": "af2de1eb-2574-4cc5-bed7-316ffb5d4a8e"
      },
      "outputs": [
        {
          "name": "stdout",
          "output_type": "stream",
          "text": [
            "313/313 [==============================] - 1s 3ms/step - loss: 0.0715 - accuracy: 0.9821\n"
          ]
        },
        {
          "data": {
            "text/plain": [
              "[0.07153905928134918, 0.9821000099182129]"
            ]
          },
          "execution_count": 27,
          "metadata": {},
          "output_type": "execute_result"
        }
      ],
      "source": [
        "# 모델 평가\n",
        "model.evaluate(test_images, test_labels_one_hot)"
      ]
    },
    {
      "cell_type": "markdown",
      "metadata": {
        "id": "f0I7lMjtLBjZ"
      },
      "source": [
        "## 예측하기"
      ]
    },
    {
      "cell_type": "code",
      "execution_count": 28,
      "metadata": {
        "colab": {
          "base_uri": "https://localhost:8080/"
        },
        "id": "0u4uSFeELBja",
        "outputId": "b97f0a76-88c3-4c93-c4ce-879d92abed06"
      },
      "outputs": [
        {
          "name": "stdout",
          "output_type": "stream",
          "text": [
            "1/1 [==============================] - 0s 80ms/step\n"
          ]
        },
        {
          "data": {
            "text/plain": [
              "array([[7.4181786e-11, 2.8287190e-15, 1.0122647e-08, 1.4115208e-06,\n",
              "        8.0469009e-16, 3.1156414e-11, 3.1017621e-18, 9.9999857e-01,\n",
              "        1.3994473e-11, 4.5215035e-08]], dtype=float32)"
            ]
          },
          "execution_count": 28,
          "metadata": {},
          "output_type": "execute_result"
        }
      ],
      "source": [
        "model.predict(test_images[0:1])\n",
        "  # 모델이 input 타입으로 요청하는 배치 차원을 가진 데이터 형식((1, 28, 28) 형태의 3차원 배열)으로 파라메터 전달\n",
        "    # 1: 배치 크기,  처리할 이미지의 수\n",
        "    # 28 : 높이(rows), 이미지 세로 픽셀\n",
        "    # 28 : 너비(cols), 이미지의 가로 픽셀"
      ]
    },
    {
      "cell_type": "code",
      "execution_count": 29,
      "metadata": {
        "colab": {
          "base_uri": "https://localhost:8080/"
        },
        "id": "8snmFzhjLBjd",
        "outputId": "52123075-0512-4c52-e414-a0f4b215a0bc"
      },
      "outputs": [
        {
          "name": "stdout",
          "output_type": "stream",
          "text": [
            "1/1 [==============================] - 0s 25ms/step\n"
          ]
        },
        {
          "data": {
            "text/plain": [
              "array([[0.0000000001, 0.          , 0.0000000101, 0.0000014115,\n",
              "        0.          , 0.          , 0.          , 0.99999857  ,\n",
              "        0.          , 0.0000000452]], dtype=float32)"
            ]
          },
          "execution_count": 29,
          "metadata": {},
          "output_type": "execute_result"
        }
      ],
      "source": [
        "import numpy as np\n",
        "np.set_printoptions(suppress=True, precision=10)\n",
        "model.predict(test_images[0:1])"
      ]
    },
    {
      "cell_type": "code",
      "execution_count": 30,
      "metadata": {
        "colab": {
          "base_uri": "https://localhost:8080/"
        },
        "id": "SMrbgd2NLBjd",
        "outputId": "572549d6-af1e-4f6f-88fe-f5b86d7483dd"
      },
      "outputs": [
        {
          "data": {
            "text/plain": [
              "7"
            ]
          },
          "execution_count": 30,
          "metadata": {},
          "output_type": "execute_result"
        }
      ],
      "source": [
        "test_labels[0]"
      ]
    },
    {
      "cell_type": "code",
      "execution_count": 31,
      "metadata": {
        "id": "IhCoKtA2LBjd"
      },
      "outputs": [
        {
          "data": {
            "image/png": "[encoded data removed]",
            "text/plain": [
              "<Figure size 640x480 with 1 Axes>"
            ]
          },
          "metadata": {},
          "output_type": "display_data"
        }
      ],
      "source": [
        "plt.imshow(test_images[0].reshape(28, 28), cmap='gray')\n",
        "plt.show()"
      ]
    },
    {
      "cell_type": "markdown",
      "metadata": {
        "id": "gUKlwPt9LBjd"
      },
      "source": [
        "## Confusion matrix 확인하기"
      ]
    },
    {
      "cell_type": "code",
      "execution_count": 32,
      "metadata": {
        "colab": {
          "base_uri": "https://localhost:8080/"
        },
        "id": "BOjolUAdLBjd",
        "outputId": "182e06c0-f963-4742-8e26-45f07cb19374"
      },
      "outputs": [
        {
          "name": "stdout",
          "output_type": "stream",
          "text": [
            "313/313 [==============================] - 0s 1ms/step\n"
          ]
        }
      ],
      "source": [
        "y_preds_prob = model.predict(test_images)"
      ]
    },
    {
      "cell_type": "code",
      "execution_count": 33,
      "metadata": {
        "colab": {
          "base_uri": "https://localhost:8080/"
        },
        "id": "Tr8Uj7eILBjd",
        "outputId": "acd7e979-641d-47a8-c0d6-16b161396712"
      },
      "outputs": [
        {
          "data": {
            "text/plain": [
              "(10000, 10)"
            ]
          },
          "execution_count": 33,
          "metadata": {},
          "output_type": "execute_result"
        }
      ],
      "source": [
        "y_preds_prob.shape"
      ]
    },
    {
      "cell_type": "code",
      "execution_count": 34,
      "metadata": {
        "id": "rUrx9Nv2LBjd"
      },
      "outputs": [],
      "source": [
        "y_preds = np.argmax(y_preds_prob, axis=1)"
      ]
    },
    {
      "cell_type": "code",
      "execution_count": 35,
      "metadata": {
        "colab": {
          "base_uri": "https://localhost:8080/"
        },
        "id": "HNAklbKOLBjd",
        "outputId": "9b1db912-10ae-4338-a21e-1945d8b93d09"
      },
      "outputs": [
        {
          "data": {
            "text/plain": [
              "(10000,)"
            ]
          },
          "execution_count": 35,
          "metadata": {},
          "output_type": "execute_result"
        }
      ],
      "source": [
        "y_preds.shape"
      ]
    },
    {
      "cell_type": "code",
      "execution_count": 36,
      "metadata": {
        "colab": {
          "base_uri": "https://localhost:8080/"
        },
        "id": "gL3bELgSLBjd",
        "outputId": "b8670b3d-c121-4322-9df5-9f8b5fc0c6cb"
      },
      "outputs": [
        {
          "data": {
            "text/plain": [
              "array([7, 2, 1, 0, 4, 1, 4, 9, 5, 9], dtype=int64)"
            ]
          },
          "execution_count": 36,
          "metadata": {},
          "output_type": "execute_result"
        }
      ],
      "source": [
        "y_preds[:10]"
      ]
    },
    {
      "cell_type": "code",
      "execution_count": 37,
      "metadata": {
        "id": "NIraK_tELBje"
      },
      "outputs": [],
      "source": [
        "from sklearn.metrics import classification_report, confusion_matrix"
      ]
    },
    {
      "cell_type": "code",
      "execution_count": 38,
      "metadata": {
        "id": "mhpbHEWALBje"
      },
      "outputs": [
        {
          "data": {
            "text/plain": [
              "array([[ 973,    0,    0,    1,    1,    0,    2,    1,    2,    0],\n",
              "       [   0, 1129,    1,    1,    0,    1,    1,    1,    1,    0],\n",
              "       [   1,    4, 1011,    0,    1,    0,    3,    5,    6,    1],\n",
              "       [   0,    0,    3,  992,    0,    3,    0,    4,    1,    7],\n",
              "       [   3,    0,    3,    1,  959,    0,    4,    3,    1,    8],\n",
              "       [   2,    0,    0,    8,    1,  871,    2,    2,    3,    3],\n",
              "       [   4,    3,    0,    1,    2,    7,  941,    0,    0,    0],\n",
              "       [   0,    6,    8,    1,    0,    0,    0, 1004,    1,    8],\n",
              "       [   2,    0,    3,    4,    4,    4,    2,    3,  947,    5],\n",
              "       [   0,    2,    0,    4,    3,    0,    1,    5,    0,  994]],\n",
              "      dtype=int64)"
            ]
          },
          "execution_count": 38,
          "metadata": {},
          "output_type": "execute_result"
        }
      ],
      "source": [
        "confusion_matrix(test_labels, y_preds)"
      ]
    },
    {
      "cell_type": "code",
      "execution_count": 39,
      "metadata": {
        "colab": {
          "base_uri": "https://localhost:8080/"
        },
        "id": "Xv38_rwcLBje",
        "outputId": "ad615b6a-88bc-4cf2-d3ea-cf5c4e7fcc04"
      },
      "outputs": [
        {
          "name": "stdout",
          "output_type": "stream",
          "text": [
            "              precision    recall  f1-score   support\n",
            "\n",
            "           0       0.99      0.99      0.99       980\n",
            "           1       0.99      0.99      0.99      1135\n",
            "           2       0.98      0.98      0.98      1032\n",
            "           3       0.98      0.98      0.98      1010\n",
            "           4       0.99      0.98      0.98       982\n",
            "           5       0.98      0.98      0.98       892\n",
            "           6       0.98      0.98      0.98       958\n",
            "           7       0.98      0.98      0.98      1028\n",
            "           8       0.98      0.97      0.98       974\n",
            "           9       0.97      0.99      0.98      1009\n",
            "\n",
            "    accuracy                           0.98     10000\n",
            "   macro avg       0.98      0.98      0.98     10000\n",
            "weighted avg       0.98      0.98      0.98     10000\n",
            "\n"
          ]
        }
      ],
      "source": [
        "print(classification_report(test_labels, y_preds))"
      ]
    },
    {
      "cell_type": "markdown",
      "metadata": {
        "id": "UKlpKGnrLBje"
      },
      "source": [
        "# 비용함수값 확인하기"
      ]
    },
    {
      "cell_type": "code",
      "execution_count": 40,
      "metadata": {
        "id": "h0eQjE58LBje"
      },
      "outputs": [],
      "source": [
        "import matplotlib.pyplot as plt"
      ]
    },
    {
      "cell_type": "code",
      "execution_count": 41,
      "metadata": {
        "id": "kXjmVQNULBje"
      },
      "outputs": [
        {
          "data": {
            "image/png": "[encoded data removed]",
            "text/plain": [
              "<Figure size 640x480 with 1 Axes>"
            ]
          },
          "metadata": {},
          "output_type": "display_data"
        }
      ],
      "source": [
        "plt.plot(history.history['loss'])\n",
        "plt.xlabel('epoch')\n",
        "plt.ylabel('loss')\n",
        "plt.legend(['train'])\n",
        "plt.show()"
      ]
    },
    {
      "cell_type": "markdown",
      "metadata": {
        "id": "ENH6WJXVLBje"
      },
      "source": [
        "# Accuracy 확인하기"
      ]
    },
    {
      "cell_type": "code",
      "execution_count": 42,
      "metadata": {
        "id": "pRuSJPP3LBje"
      },
      "outputs": [
        {
          "data": {
            "image/png": "[encoded data removed]",
            "text/plain": [
              "<Figure size 640x480 with 1 Axes>"
            ]
          },
          "metadata": {},
          "output_type": "display_data"
        }
      ],
      "source": [
        "plt.plot(history.history['accuracy'])\n",
        "plt.xlabel('epoch')\n",
        "plt.ylabel('accuracy')\n",
        "plt.legend(['train'])\n",
        "plt.show()"
      ]
    },
    {
      "cell_type": "markdown",
      "metadata": {
        "id": "4suT7TH7nQlC"
      },
      "source": [
        "# 새로운 입력데이터(다운로드 받은 이미지)를 통해 예측 수행"
      ]
    },
    {
      "cell_type": "code",
      "execution_count": null,
      "metadata": {
        "id": "VjZwkfXxnP3V"
      },
      "outputs": [],
      "source": []
    },
    {
      "cell_type": "code",
      "execution_count": 43,
      "metadata": {
        "id": "rSNgi1Ehm4_4"
      },
      "outputs": [],
      "source": [
        "from tensorflow.keras.preprocessing import image\n",
        "import numpy as np\n",
        "\n",
        "def predict_new_image(img_path):\n",
        "    # 사이즈 조정 (모델 훈련 인풋에 맞춤)\n",
        "    img = image.load_img(img_path, target_size=(28, 28), color_mode='grayscale')\n",
        "    # numpy 배열로 변환.\n",
        "    img_tensor = image.img_to_array(img)\n",
        "    # 정규화(0-1)\n",
        "    img_tensor = img_tensor.astype('float32') / 255.0\n",
        "    # flattening(평탄화)\n",
        "    img_tensor = img_tensor.reshape((1, 28*28))\n",
        "\n",
        "    # 모델을 이용, 입력이미지의 숫자 예측\n",
        "    prediction = model.predict(img_tensor)\n",
        "    # 예측된(가장 높은 확률을 가진 클래스) 숫자반환\n",
        "    digit = np.argmax(prediction)\n",
        "    return digit\n",
        "\n"
      ]
    },
    {
      "cell_type": "code",
      "execution_count": 45,
      "metadata": {
        "colab": {
          "base_uri": "https://localhost:8080/"
        },
        "id": "DOQ8riB1m6c7",
        "outputId": "31d1c97b-b825-4737-fe12-3625de008c27"
      },
      "outputs": [
        {
          "name": "stdout",
          "output_type": "stream",
          "text": [
            "1/1 [==============================] - 0s 22ms/step\n",
            "Predicted digit: 2\n"
          ]
        }
      ],
      "source": [
        "# 새로운 이미지 파일 경로\n",
        "img_path ='classification/4.PNG'\n",
        "predicted_digit = predict_new_image(img_path)\n",
        "print(f'Predicted digit: {predicted_digit}')"
      ]
    },
    {
      "cell_type": "markdown",
      "metadata": {
        "id": "VcHzl8D5LBje"
      },
      "source": [
        "##  model 확장"
      ]
    },
    {
      "cell_type": "code",
      "execution_count": 46,
      "metadata": {
        "id": "uXM5Ehn8LBje"
      },
      "outputs": [],
      "source": [
        "model_ext = models.Sequential()\n",
        "model_ext.add(layers.Dense(512, activation = 'relu', input_shape=(28*28,)))\n",
        "model_ext.add(layers.Dense(128, activation = 'relu'))\n",
        "model_ext.add(layers.Dense(10, activation = 'softmax'))"
      ]
    },
    {
      "cell_type": "code",
      "execution_count": 47,
      "metadata": {
        "colab": {
          "base_uri": "https://localhost:8080/"
        },
        "id": "NTbpu-t0LBje",
        "outputId": "66932355-a990-4ed6-8e58-e0b9aba68022"
      },
      "outputs": [
        {
          "name": "stdout",
          "output_type": "stream",
          "text": [
            "Model: \"sequential_1\"\n",
            "_________________________________________________________________\n",
            " Layer (type)                Output Shape              Param #   \n",
            "=================================================================\n",
            " dense_2 (Dense)             (None, 512)               401920    \n",
            "                                                                 \n",
            " dense_3 (Dense)             (None, 128)               65664     \n",
            "                                                                 \n",
            " dense_4 (Dense)             (None, 10)                1290      \n",
            "                                                                 \n",
            "=================================================================\n",
            "Total params: 468,874\n",
            "Trainable params: 468,874\n",
            "Non-trainable params: 0\n",
            "_________________________________________________________________\n"
          ]
        }
      ],
      "source": [
        "model_ext.summary()"
      ]
    },
    {
      "cell_type": "code",
      "execution_count": 48,
      "metadata": {
        "colab": {
          "base_uri": "https://localhost:8080/"
        },
        "id": "P0aW4YaHLBje",
        "outputId": "42166f9e-e57a-49ad-fad3-f0f69eb23005"
      },
      "outputs": [
        {
          "name": "stderr",
          "output_type": "stream",
          "text": [
            "c:\\Users\\crazy\\miniconda3\\envs\\tf-gpu\\lib\\site-packages\\keras\\optimizers\\optimizer_v2\\rmsprop.py:140: UserWarning: The `lr` argument is deprecated, use `learning_rate` instead.\n",
            "  super().__init__(name, **kwargs)\n"
          ]
        }
      ],
      "source": [
        "rmsprop = optimizers.RMSprop(lr=0.001)\n",
        "model_ext.compile(optimizer=rmsprop,\n",
        "               loss='categorical_crossentropy',\n",
        "               metrics=['accuracy'])"
      ]
    },
    {
      "cell_type": "code",
      "execution_count": 49,
      "metadata": {
        "colab": {
          "base_uri": "https://localhost:8080/"
        },
        "id": "ercxO76dLBje",
        "outputId": "ab42c048-999e-449f-8861-208d9ca0728b"
      },
      "outputs": [
        {
          "name": "stdout",
          "output_type": "stream",
          "text": [
            "Epoch 1/10\n",
            "469/469 [==============================] - 4s 8ms/step - loss: 0.2367 - accuracy: 0.9287\n",
            "Epoch 2/10\n",
            "469/469 [==============================] - 3s 7ms/step - loss: 0.0879 - accuracy: 0.9734\n",
            "Epoch 3/10\n",
            "469/469 [==============================] - 4s 8ms/step - loss: 0.0572 - accuracy: 0.9822\n",
            "Epoch 4/10\n",
            "469/469 [==============================] - 4s 8ms/step - loss: 0.0414 - accuracy: 0.9870\n",
            "Epoch 5/10\n",
            "469/469 [==============================] - 4s 9ms/step - loss: 0.0299 - accuracy: 0.9905\n",
            "Epoch 6/10\n",
            "469/469 [==============================] - 4s 8ms/step - loss: 0.0223 - accuracy: 0.9928\n",
            "Epoch 7/10\n",
            "469/469 [==============================] - 4s 9ms/step - loss: 0.0177 - accuracy: 0.9942\n",
            "Epoch 8/10\n",
            "469/469 [==============================] - 4s 8ms/step - loss: 0.0138 - accuracy: 0.9954\n",
            "Epoch 9/10\n",
            "469/469 [==============================] - 4s 8ms/step - loss: 0.0117 - accuracy: 0.9963\n",
            "Epoch 10/10\n",
            "469/469 [==============================] - 4s 9ms/step - loss: 0.0098 - accuracy: 0.9970\n"
          ]
        },
        {
          "data": {
            "text/plain": [
              "<keras.callbacks.History at 0x2d5000393a0>"
            ]
          },
          "execution_count": 49,
          "metadata": {},
          "output_type": "execute_result"
        }
      ],
      "source": [
        "model_ext.fit(train_images, train_labels_one_hot, epochs=10, batch_size=128)"
      ]
    },
    {
      "cell_type": "code",
      "execution_count": 50,
      "metadata": {
        "id": "r5gO_uRTLBje",
        "outputId": "3e938db5-b76e-4b73-98fd-d65381ede740"
      },
      "outputs": [
        {
          "name": "stdout",
          "output_type": "stream",
          "text": [
            "313/313 [==============================] - 1s 4ms/step - loss: 0.1167 - accuracy: 0.9804\n"
          ]
        },
        {
          "data": {
            "text/plain": [
              "[0.11671138554811478, 0.980400025844574]"
            ]
          },
          "execution_count": 50,
          "metadata": {},
          "output_type": "execute_result"
        }
      ],
      "source": [
        "model_ext.evaluate(test_images, test_labels_one_hot)"
      ]
    },
    {
      "cell_type": "code",
      "execution_count": 51,
      "metadata": {
        "id": "M8Cpc8RRowGb"
      },
      "outputs": [],
      "source": [
        "from tensorflow.keras.preprocessing import image\n",
        "import numpy as np\n",
        "\n",
        "def predict_new_image_ext(img_path):\n",
        "    # 이미지 파일을 로드\n",
        "    # 사이즈를 조정 (모델 훈련 인풋에 맞춤)\n",
        "    img = image.load_img(img_path, target_size=(28, 28), color_mode='grayscale')\n",
        "    # 이미지를 numpy 배열로 변환.\n",
        "    img_tensor = image.img_to_array(img)\n",
        "    # 값의 범위를 0-1 사이로 정규화.\n",
        "    img_tensor = img_tensor.astype('float32') / 255.0\n",
        "    # 이미지를 모델의 입력 형태에 맞게 평탄화.\n",
        "    img_tensor = img_tensor.reshape((1, 28*28))\n",
        "\n",
        "    # 모델을 사용하여 이미지의 숫자 예측.\n",
        "    prediction = model_ext.predict(img_tensor)\n",
        "    # 가장 높은 확률을 가진 클래스(숫자)를 반환.\n",
        "    digit = np.argmax(prediction)\n",
        "    return digit\n"
      ]
    },
    {
      "cell_type": "code",
      "execution_count": 54,
      "metadata": {
        "colab": {
          "base_uri": "https://localhost:8080/"
        },
        "id": "f2BMds2goypk",
        "outputId": "6b6c5050-d211-4c60-8ab9-c78b5b564a67"
      },
      "outputs": [
        {
          "name": "stdout",
          "output_type": "stream",
          "text": [
            "1/1 [==============================] - 0s 21ms/step\n",
            "Predicted digit: 6\n"
          ]
        }
      ],
      "source": [
        "# 새로운 이미지 파일 경로\n",
        "img_path ='classification/5_1.JPG'\n",
        "predicted_digit = predict_new_image_ext(img_path)\n",
        "print(f'Predicted digit: {predicted_digit}')"
      ]
    }
  ],
  "metadata": {
    "colab": {
      "provenance": []
    },
    "kernelspec": {
      "display_name": "Python 3 (ipykernel)",
      "language": "python",
      "name": "python3"
    },
    "language_info": {
      "codemirror_mode": {
        "name": "ipython",
        "version": 3
      },
      "file_extension": ".py",
      "mimetype": "text/x-python",
      "name": "python",
      "nbconvert_exporter": "python",
      "pygments_lexer": "ipython3",
      "version": "3.8.19"
    }
  },
  "nbformat": 4,
  "nbformat_minor": 0
}
