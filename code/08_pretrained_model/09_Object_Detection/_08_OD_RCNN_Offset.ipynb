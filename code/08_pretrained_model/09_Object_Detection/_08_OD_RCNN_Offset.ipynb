{
  "cells": [
    {
      "cell_type": "code",
      "execution_count": 1,
      "metadata": {
        "id": "QovjflR8G_NF"
      },
      "outputs": [],
      "source": [
        "import numpy as np"
      ]
    },
    {
      "cell_type": "code",
      "execution_count": 2,
      "metadata": {
        "id": "jNHDt5FPHF1v"
      },
      "outputs": [],
      "source": [
        "def calculate_offsets(pred_box, gt_box):\n",
        "    px, py, pw, ph = pred_box\n",
        "    gx, gy, gw, gh = gt_box\n",
        "\n",
        "    dx = (gx - px) / pw\n",
        "    dy = (gy - py) / ph\n",
        "    dw = np.log(gw / pw)\n",
        "    dh = np.log(gh / ph)\n",
        "\n",
        "    return np.array([dx, dy, dw, dh])\n",
        "\n",
        "def apply_offsets(pred_box, offsets):\n",
        "    px, py, pw, ph = pred_box\n",
        "    dx, dy, dw, dh = offsets\n",
        "\n",
        "    gx = px + dx * pw\n",
        "    gy = py + dy * ph\n",
        "    gw = pw * np.exp(dw)\n",
        "    gh = ph * np.exp(dh)\n",
        "\n",
        "    return np.array([gx, gy, gw, gh])"
      ]
    },
    {
      "cell_type": "code",
      "execution_count": 3,
      "metadata": {
        "id": "Jx1o-W9pHL4R"
      },
      "outputs": [
        {
          "name": "stdout",
          "output_type": "stream",
          "text": [
            "Calculated Offsets: [0.2        0.4        0.18232156 0.47000363]\n"
          ]
        }
      ],
      "source": [
        "# exam 예측 박스와 실제 박스 좌표 (x_center, y_center, width, height)\n",
        "pred_box = [100, 100, 50, 50]\n",
        "gt_box = [110, 120, 60, 80]\n",
        "\n",
        "# 오프셋 계산\n",
        "offsets = calculate_offsets(pred_box, gt_box)\n",
        "print(\"Calculated Offsets:\", offsets)\n"
      ]
    },
    {
      "cell_type": "code",
      "execution_count": 4,
      "metadata": {
        "colab": {
          "base_uri": "https://localhost:8080/"
        },
        "id": "RTYRnXYRG2CE",
        "outputId": "12c9b055-c6a1-4c24-b068-c6698d633abc"
      },
      "outputs": [
        {
          "name": "stdout",
          "output_type": "stream",
          "text": [
            "Restored Bounding Box: [110. 120.  60.  80.]\n"
          ]
        }
      ],
      "source": [
        "\n",
        "# 오프셋을 이용해 실제 바운딩 박스 복원\n",
        "restored_box = apply_offsets(pred_box, offsets)\n",
        "print(\"Restored Bounding Box:\", restored_box)\n"
      ]
    }
  ],
  "metadata": {
    "colab": {
      "provenance": []
    },
    "kernelspec": {
      "display_name": "Python 3 (ipykernel)",
      "language": "python",
      "name": "python3"
    },
    "language_info": {
      "codemirror_mode": {
        "name": "ipython",
        "version": 3
      },
      "file_extension": ".py",
      "mimetype": "text/x-python",
      "name": "python",
      "nbconvert_exporter": "python",
      "pygments_lexer": "ipython3",
      "version": "3.11.0"
    }
  },
  "nbformat": 4,
  "nbformat_minor": 0
}
