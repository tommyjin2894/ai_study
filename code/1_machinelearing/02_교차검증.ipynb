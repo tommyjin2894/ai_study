{
 "cells": [
  {
   "cell_type": "markdown",
   "id": "edeb4332",
   "metadata": {},
   "source": [
    "### 교차검증(cross validation)\n",
    "\n",
    "* 검증 데이터: 훈련데이터에서 모델을 검증하기 위해 떼어 놓는 데이터\n",
    "    * 실전에서 테스트는 모델을 성능 평가에 사용할 수 없기 때문에\n",
    "* 교차 검증: 데이터가 적을 때 모델을 그나마(?) 안정적으로 평가할 수 있는 방법\n",
    "    * 훈련 데이터로 모델을 학습 시키고\n",
    "    * 검증 데이터로 모델을 평가\n",
    "    * 모델의 최종 평가는 검증 데이터의 평균으로!\n",
    "        |||||||\n",
    "        |:---:|:---:|:---:|:---:|:---:|:---:|\n",
    "        |실험1|**검증**|훈련|훈련|훈련|훈련|\n",
    "        |실험2|훈련|**검증**|훈련|훈련|훈련|\n",
    "        |실험3|훈련|훈련|**검증**|훈련|훈련|\n",
    "        |실험4|훈련|훈련|훈련|**검증**|훈련|\n",
    "        |실험5|훈련|훈련|훈련|훈련|**검증**|\n",
    "\n",
    "* $k$-fold cross validation: 훈련 데이터를 $k$등분 하여 교차 검증하는 방법\n",
    "    * $k$가 5(20%) 혹은 10(10%)일때를 많이 사용\n",
    "    \n",
    "**주의! `cross_validate()`는 훈련 데이터를 섞어주지는 않는다!**\n",
    "\n",
    "**따라서 분류 모델을 만들 때는 `cv=StratifiedKFold()`를 지정해 주는 것이 좋다.**"
   ]
  },
  {
   "cell_type": "code",
   "execution_count": 1,
   "id": "5bb08adb",
   "metadata": {},
   "outputs": [],
   "source": [
    "import numpy as np\n",
    "import pandas as pd\n",
    "import seaborn as sns\n",
    "import matplotlib as mpl\n",
    "import matplotlib.pyplot as plt\n",
    "import matplotlib_inline.backend_inline\n",
    "\n",
    "matplotlib_inline.backend_inline.set_matplotlib_formats(\"png2x\") # svg, retina, png2x ...\n",
    "mpl.style.use(\"seaborn-v0_8\")\n",
    "mpl.rcParams.update({\"figure.constrained_layout.use\": True})\n",
    "sns.set_context(\"paper\") \n",
    "sns.set_palette(\"Set2\") \n",
    "sns.set_style(\"whitegrid\") \n",
    "\n",
    "# 시스템 폰트패밀리에 따라 변경\n",
    "plt.rc(\"font\", family = \"NanumSquareRound\")\n",
    "plt.rcParams[\"axes.unicode_minus\"] = False"
   ]
  },
  {
   "cell_type": "code",
   "execution_count": 50,
   "id": "48ccb799",
   "metadata": {},
   "outputs": [],
   "source": [
    "heart = pd.read_csv(\"../../data/heart.csv\")\n",
    "\n",
    "X = heart[[i for i in heart.columns if i != \"age\"]]\n",
    "y = heart[\"age\"]"
   ]
  },
  {
   "cell_type": "code",
   "execution_count": 51,
   "id": "837dc584",
   "metadata": {},
   "outputs": [],
   "source": [
    "from sklearn.model_selection import train_test_split\n",
    "\n",
    "\n",
    "x_train, x_test, y_train, y_test = train_test_split(X, \n",
    "                                                    y, \n",
    "                                                    test_size=0.20,\n",
    "                                                    random_state = 42)"
   ]
  },
  {
   "cell_type": "code",
   "execution_count": 52,
   "id": "1a89ef0a",
   "metadata": {},
   "outputs": [],
   "source": [
    "from sklearn.tree import DecisionTreeClassifier\n",
    "from sklearn.model_selection import cross_validate\n",
    "from sklearn.model_selection import StratifiedKFold\n",
    "from sklearn.metrics import accuracy_score\n",
    "from sklearn.model_selection import GridSearchCV\n",
    "\n",
    "model = DecisionTreeClassifier(max_depth = 6, random_state=42) "
   ]
  },
  {
   "cell_type": "code",
   "execution_count": 53,
   "id": "1c493524",
   "metadata": {},
   "outputs": [
    {
     "name": "stderr",
     "output_type": "stream",
     "text": [
      "/home/tommy/miniconda3/envs/p311/lib/python3.11/site-packages/sklearn/model_selection/_split.py:776: UserWarning: The least populated class in y has only 1 members, which is less than n_splits=5.\n",
      "  warnings.warn(\n"
     ]
    },
    {
     "data": {
      "text/plain": [
       "{'fit_time': array([0.00219345, 0.00246954, 0.0020268 , 0.00324678, 0.00295925]),\n",
       " 'score_time': array([0.00104856, 0.00120163, 0.000947  , 0.00168705, 0.00173974]),\n",
       " 'test_score': array([0.06122449, 0.10204082, 0.02083333, 0.02083333, 0.04166667])}"
      ]
     },
     "execution_count": 53,
     "metadata": {},
     "output_type": "execute_result"
    }
   ],
   "source": [
    "splitter = StratifiedKFold(n_splits = 5, shuffle=True, random_state = 42)\n",
    "\n",
    "score_strat = cross_validate(estimator = model, \n",
    "                             X = x_train, \n",
    "                             y = y_train, \n",
    "                             cv = splitter)# or StratifiedKFold()\n",
    "np.mean(score_strat[\"test_score\"])\n",
    "score_strat"
   ]
  },
  {
   "cell_type": "code",
   "execution_count": 54,
   "id": "6eba0274",
   "metadata": {},
   "outputs": [
    {
     "name": "stdout",
     "output_type": "stream",
     "text": [
      "The accuracy of the DT is 0.06557377049180328\n"
     ]
    }
   ],
   "source": [
    "model.fit(x_train.values, y_train.values)\n",
    "prediction = model.predict(x_test.values)\n",
    "print('The accuracy of the DT is', \n",
    "      accuracy_score(prediction, y_test))"
   ]
  }
 ],
 "metadata": {
  "kernelspec": {
   "display_name": "p311",
   "language": "python",
   "name": "python3"
  },
  "language_info": {
   "codemirror_mode": {
    "name": "ipython",
    "version": 3
   },
   "file_extension": ".py",
   "mimetype": "text/x-python",
   "name": "python",
   "nbconvert_exporter": "python",
   "pygments_lexer": "ipython3",
   "version": "3.11.9"
  }
 },
 "nbformat": 4,
 "nbformat_minor": 5
}
