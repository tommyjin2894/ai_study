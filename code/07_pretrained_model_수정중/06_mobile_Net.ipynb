{
 "cells": [
  {
   "cell_type": "markdown",
   "metadata": {},
   "source": [
    "### Mobile Net\n",
    "\n",
    "![Untitled](https://viso.ai/wp-content/uploads/2024/04/depthwise.jpg)\n",
    "\n",
    "Google 의 Howard 의 딥 러닝 아키텍쳐\n",
    "\n",
    "- Depthwise Separable Convolution 사용\n",
    "    - 성능 크게 줄지 않고, 속도 빠르고 파러미터 감소\n",
    "    - 이전 층의 Depth 에 대하여 하나 씩 하나의 필터만 적용하여\n",
    "\n",
    "- Pointwise Convolution 사용\n",
    "\n",
    "- 통합 결합\n",
    "    - 뎁스 와이즈의 필터 적용 결과에서는 모든 채널 정보가 분리되어있어 통합하는 과정이 필요하다.\n",
    "- 모바일 디바이서 등에서 활용\n",
    "- 메모리 연산 자원을 적게 이용\n",
    "    - ResNet 25636712 vs MoblieNet 4253864"
   ]
  },
  {
   "cell_type": "code",
   "execution_count": null,
   "metadata": {},
   "outputs": [],
   "source": [
    "from tensorflow.keras.layers import Input, Conv2D, DepthwiseConv2D, BatchNormalization, ReLU\n",
    "from tensorflow.keras.models import Model\n",
    "\n",
    "input_tensor = Input(shape=(128, 128, 64))"
   ]
  },
  {
   "cell_type": "markdown",
   "metadata": {},
   "source": [
    "### Depthwise Separable Convolution"
   ]
  },
  {
   "cell_type": "markdown",
   "metadata": {},
   "source": [
    "- x = Conv2D(1,kernel_size=(3, 3), padding='same')(input_tensor)\n",
    "- 각 입력 채널에 대해 3x3 크기의 필터를 독립적으로 적용.\n",
    "- 필터 크기 3x3\n",
    "- padding='same': 패딩 추가 -> 입력과 출력의 크기를 동일하게 유지 \n",
    "- depth_multiplier=1: 각 입력 채널에 대해 하나의 필터 적용"
   ]
  },
  {
   "cell_type": "code",
   "execution_count": 6,
   "metadata": {},
   "outputs": [
    {
     "name": "stderr",
     "output_type": "stream",
     "text": [
      "I0000 00:00:1730445518.625873    3544 gpu_device.cc:2022] Created device /job:localhost/replica:0/task:0/device:GPU:0 with 9711 MB memory:  -> device: 0, name: NVIDIA GeForce RTX 3060, pci bus id: 0000:07:00.0, compute capability: 8.6\n"
     ]
    }
   ],
   "source": [
    "# Depthwise Convulution\n",
    "x = DepthwiseConv2D(kernel_size=(3, 3), padding='same', depth_multiplier=1)(input_tensor)\n",
    "x = BatchNormalization()(x)\n",
    "x = ReLU()(x)"
   ]
  },
  {
   "cell_type": "markdown",
   "metadata": {},
   "source": [
    "### PointWise Convolution"
   ]
  },
  {
   "cell_type": "code",
   "execution_count": 7,
   "metadata": {},
   "outputs": [],
   "source": [
    "# Pointwise Convolution\n",
    "x = Conv2D(filters=16, kernel_size=(1, 1), padding='same')(x)\n",
    "# 출력 채널 수 32로 줄이기\n",
    "\n",
    "x = BatchNormalization()(x)\n",
    "x = ReLU()(x)"
   ]
  },
  {
   "cell_type": "code",
   "execution_count": null,
   "metadata": {},
   "outputs": [],
   "source": []
  }
 ],
 "metadata": {
  "kernelspec": {
   "display_name": "p311",
   "language": "python",
   "name": "python3"
  },
  "language_info": {
   "codemirror_mode": {
    "name": "ipython",
    "version": 3
   },
   "file_extension": ".py",
   "mimetype": "text/x-python",
   "name": "python",
   "nbconvert_exporter": "python",
   "pygments_lexer": "ipython3",
   "version": "3.11.10"
  }
 },
 "nbformat": 4,
 "nbformat_minor": 2
}
