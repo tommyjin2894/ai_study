{
 "cells": [
  {
   "cell_type": "markdown",
   "id": "6c66e311",
   "metadata": {},
   "source": [
    "### 사분위 값"
   ]
  },
  {
   "cell_type": "code",
   "execution_count": 2,
   "id": "76b086c9",
   "metadata": {},
   "outputs": [],
   "source": [
    "import numpy as np\n",
    "import pandas as pd\n",
    "import matplotlib.pyplot as plt\n",
    "import seaborn as sns"
   ]
  },
  {
   "cell_type": "code",
   "execution_count": 3,
   "id": "15682e4e",
   "metadata": {},
   "outputs": [],
   "source": [
    "sample = np.array([1,3,4,7,10,19,20,22,25])"
   ]
  },
  {
   "cell_type": "code",
   "execution_count": 4,
   "id": "2dfb25e9",
   "metadata": {},
   "outputs": [
    {
     "name": "stdout",
     "output_type": "stream",
     "text": [
      "1사분위:  4.0\n",
      "2사분위:  10.0\n",
      "3사분위:  20.0\n"
     ]
    }
   ],
   "source": [
    "print(\"1사분위: \", np.quantile(sample, 0.25))\n",
    "print(\"2사분위: \", np.quantile(sample, 0.5))\n",
    "print(\"3사분위: \", np.quantile(sample, 0.75))"
   ]
  },
  {
   "cell_type": "markdown",
   "id": "c086ee1d",
   "metadata": {},
   "source": [
    "* 1사분위와 3사분위 값이 이상한데?\n",
    "\n",
    "* [사분위값](https://numpy.org/doc/stable/reference/generated/numpy.quantile.html)"
   ]
  },
  {
   "cell_type": "markdown",
   "id": "791746ea",
   "metadata": {},
   "source": [
    "* 사분위 값은 method 옵션을 어떻게 정하느냐에 따라 값이 달라질 수 있다. \n",
    "* default는 `linear`!"
   ]
  },
  {
   "cell_type": "markdown",
   "id": "cfd88d17",
   "metadata": {},
   "source": [
    "* $n$ = 벡터 길이\n",
    "* $q$ = $q$% 지점\n",
    "* method = linear\n",
    "    * $\\alpha = 1$, $\\beta = 1$"
   ]
  },
  {
   "cell_type": "markdown",
   "id": "d0dac8d9",
   "metadata": {},
   "source": [
    "* $q = 0.25$라면\n",
    "\n",
    "\\begin{equation}\n",
    "i+g = q(n-1)+1 = \\frac{25}{100}n+0.75\n",
    "\\end{equation}\n",
    "\n",
    "* $q = 0.5$라면\n",
    "\n",
    "\\begin{equation}\n",
    "i+g = q(n-1)+1 = \\frac{50}{100}n+0.5\n",
    "\\end{equation}\n",
    "\n",
    "* $q = 0.75$라면\n",
    "\n",
    "\\begin{equation}\n",
    "i+g = q(n-1)+1 = \\frac{75}{100}n+0.25\n",
    "\\end{equation}"
   ]
  },
  {
   "cell_type": "code",
   "execution_count": 5,
   "id": "286c4636",
   "metadata": {},
   "outputs": [
    {
     "data": {
      "image/png": "[encoded data removed]",
      "text/plain": [
       "<Figure size 640x480 with 1 Axes>"
      ]
     },
     "metadata": {},
     "output_type": "display_data"
    }
   ],
   "source": [
    "fig, ax = plt.subplots()\n",
    "ax.bar(x = [str(i) for i in range(1, len(sample)+1)],\n",
    "       height = sample)\n",
    "ax.set(xlabel = \"index\",\n",
    "       ylabel = \"value\");"
   ]
  },
  {
   "cell_type": "markdown",
   "id": "7fd93e54",
   "metadata": {},
   "source": [
    "* `method = \"midpoint\"`"
   ]
  },
  {
   "cell_type": "code",
   "execution_count": 6,
   "id": "ef515706",
   "metadata": {},
   "outputs": [],
   "source": [
    "sample = np.array([1,3,4,7,10,19,20,22,25,30])"
   ]
  },
  {
   "cell_type": "code",
   "execution_count": 7,
   "id": "1d99dbc2",
   "metadata": {},
   "outputs": [
    {
     "name": "stdout",
     "output_type": "stream",
     "text": [
      "1사분위:  5.5\n",
      "2사분위:  14.5\n",
      "3사분위:  21.0\n"
     ]
    }
   ],
   "source": [
    "print(\"1사분위: \", np.quantile(sample, 0.25, method = \"midpoint\"))\n",
    "print(\"2사분위: \", np.quantile(sample, 0.5, method = \"midpoint\"))\n",
    "print(\"3사분위: \", np.quantile(sample, 0.75, method = \"midpoint\"))"
   ]
  },
  {
   "cell_type": "code",
   "execution_count": 8,
   "id": "e19ad113",
   "metadata": {},
   "outputs": [],
   "source": [
    "sample_01 = np.array([1,3,4,7,10,19,20,22,25,30,35])"
   ]
  },
  {
   "cell_type": "code",
   "execution_count": 9,
   "id": "9346c08c",
   "metadata": {},
   "outputs": [
    {
     "name": "stdout",
     "output_type": "stream",
     "text": [
      "1사분위:  5.5\n",
      "2사분위:  19.0\n",
      "3사분위:  23.5\n"
     ]
    }
   ],
   "source": [
    "print(\"1사분위: \", np.quantile(sample_01, 0.25))\n",
    "print(\"2사분위: \", np.quantile(sample_01, 0.5))\n",
    "print(\"3사분위: \", np.quantile(sample_01, 0.75))"
   ]
  },
  {
   "cell_type": "code",
   "execution_count": 10,
   "id": "d94e19a9",
   "metadata": {},
   "outputs": [],
   "source": [
    "sample_02 = np.array([1,1,3,3,7,19,20,20,25,30])"
   ]
  },
  {
   "cell_type": "code",
   "execution_count": 11,
   "id": "cedd45c4",
   "metadata": {},
   "outputs": [
    {
     "name": "stdout",
     "output_type": "stream",
     "text": [
      "1사분위:  3.0\n",
      "2사분위:  13.0\n",
      "3사분위:  20.0\n"
     ]
    }
   ],
   "source": [
    "print(\"1사분위: \", np.quantile(sample_02, 0.25))\n",
    "print(\"2사분위: \", np.quantile(sample_02, 0.5))\n",
    "print(\"3사분위: \", np.quantile(sample_02, 0.75))"
   ]
  },
  {
   "cell_type": "markdown",
   "id": "a48ba491",
   "metadata": {},
   "source": [
    "### IQR 계산하기\n",
    "    \n",
    "$$\n",
    "x = [x_1, x_2, x_3, x_4 … x_i , x_{i+g}, x_n]\n",
    "$$``\n",
    "\n",
    "- $q_1 = 0.25$, $q_2 = 0.5$,$q_3 = 0.75$ 이고 여기서  $n$ = 데이터의 총 개수\n",
    "    \n",
    "$$\n",
    "i + g = q(n - \\alpha - \\beta + 1) + \\alpha\n",
    "$$\n",
    "\n",
    "- 선형일때의 $\\alpha=1, \\beta=1$ 이다.\n",
    "    \n",
    "$$\n",
    "i+g = q(n - 1) + 1\n",
    "$$\n",
    "    \n",
    "또한 $IQR = Q_3 - Q_1$\n",
    "\n",
    "- ex) 만약 $x = [1, 2, 4, 6, 8, 12,13,15,26,37,69,85]$ 일 때\n",
    "\n",
    "\n",
    "- $q_1 = 0.25$ \n",
    "    - $i+g = 0.25 ( 12 - 1 ) + 1$\n",
    "    - $i+g = 3.75$ =  $3 + 0.75$\n",
    "    - 선형 보간 시 ⇒ $Q_1 =4 + (6 - 4) *0.75 = 5.5$\n",
    "- $q_2 = 0.5$\n",
    "    - $i+g = 0.5 ( 12 - 1 ) + 1$\n",
    "    - $i+g = 6.5$ =  $6 + 0.5$\n",
    "    - 선형 보간 시 ⇒ $Q_2 = 12 + (13 - 12) * 0.5 = 12.5$\n",
    "- $q_3 = 0.75$\n",
    "    - $i+g = 0.75 ( 12 - 1 ) + 1$\n",
    "    - $i+g = 9.25$ = $9+ 0.25$\n",
    "    - 선형 보간 시 ⇒ $Q_3 = 26 + (37 - 26) * 0.25 = 28.75$\n",
    "- $IQR = 23.25$\n",
    "    - 최소 허용치 = $Q_1 - 1.5 \\times IQR = 5.5 - 1.5 \\times 23.75 = -29.375$\n",
    "    - 최대 허용치 =  $Q_3 + 1.5 \\times IQR = 28.75 + 1.5 \\times 23.75 = 64.375$\n",
    "\n",
    "```text\n",
    "     Q1-1.5IQR   Q1   median  Q3   Q3+1.5IQR\n",
    "                  |-----:-----|\n",
    "  o      |--------|     :     |--------|    o  o\n",
    "                  |-----:-----|\n",
    "flier             <----------->            fliers\n",
    "                       IQR\n",
    "```\n",
    "\n",
    "1. 수염의 길이는 데이터의 범위 안에서 정해진다.\n",
    "2. q_1 - IQR 보다 큰 가장 가까운 데이터 안의 값으로 최저 한계선이 정해진다.\n",
    "3. q_3 + IQR 보다 작안 가장 가까운 데이터 안의 값으로 최대 한계선이 정해진다.\n",
    "    - (min / max value if there are no outliers)"
   ]
  },
  {
   "cell_type": "code",
   "execution_count": 12,
   "id": "61f1cc5d",
   "metadata": {},
   "outputs": [
    {
     "name": "stdout",
     "output_type": "stream",
     "text": [
      "[0.   0.   0.15 0.22 0.28 0.3  0.34 1.49 1.53 1.64]\n"
     ]
    },
    {
     "data": {
      "text/plain": [
       "array([0.  , 0.34, 1.53, 1.49, 1.64, 0.15, 0.28, 0.3 , 0.  , 0.22])"
      ]
     },
     "execution_count": 12,
     "metadata": {},
     "output_type": "execute_result"
    },
    {
     "data": {
      "image/png": "[encoded data removed]",
      "text/plain": [
       "<Figure size 1200x300 with 1 Axes>"
      ]
     },
     "metadata": {},
     "output_type": "display_data"
    }
   ],
   "source": [
    "import matplotlib.pyplot as plt\n",
    "import numpy as np\n",
    "\n",
    "def boxplot_checking(x):\n",
    "    x = np.sort(x)\n",
    "    print(x)\n",
    "    q_1 = np.quantile(x, 0.25) \n",
    "    q_2 = np.quantile(x, 0.50) \n",
    "    q_3 = np.quantile(x, 0.75) \n",
    "\n",
    "    iqr = q_3 - q_1\n",
    "    min_, max_  = (q_1 - 1.5 * iqr, q_3 + 1.5 * iqr)\n",
    "\n",
    "    fig, ax = plt.subplots(1,1, figsize=(12, 3))\n",
    "\n",
    "    ax.boxplot(x, vert=False, whis=1.5 );\n",
    "    ax.scatter([x],[1.05]*len(x))\n",
    "# plt.scatter([seven_num_sum],[1.1]*len(seven_num_sum))\n",
    "    ax.scatter([max_],[1])\n",
    "    ax.scatter([min_],[1])\n",
    "\n",
    "\n",
    "x = np.round(np.abs(np.random.randn(10) ** 2),2)\n",
    "boxplot_checking(x)\n",
    "x"
   ]
  },
  {
   "cell_type": "markdown",
   "id": "02d018c5",
   "metadata": {},
   "source": [
    "### boxplots"
   ]
  },
  {
   "cell_type": "code",
   "execution_count": 13,
   "id": "14ab0b68",
   "metadata": {},
   "outputs": [],
   "source": [
    "import numpy as np\n",
    "import pandas as pd\n",
    "import seaborn as sns\n",
    "import matplotlib.pyplot as plt"
   ]
  },
  {
   "cell_type": "code",
   "execution_count": 14,
   "id": "c620024d",
   "metadata": {},
   "outputs": [
    {
     "data": {
      "text/html": [
       "<div>\n",
       "<style scoped>\n",
       "    .dataframe tbody tr th:only-of-type {\n",
       "        vertical-align: middle;\n",
       "    }\n",
       "\n",
       "    .dataframe tbody tr th {\n",
       "        vertical-align: top;\n",
       "    }\n",
       "\n",
       "    .dataframe thead th {\n",
       "        text-align: right;\n",
       "    }\n",
       "</style>\n",
       "<table border=\"1\" class=\"dataframe\">\n",
       "  <thead>\n",
       "    <tr style=\"text-align: right;\">\n",
       "      <th></th>\n",
       "      <th>species</th>\n",
       "      <th>island</th>\n",
       "      <th>bill_length_mm</th>\n",
       "      <th>bill_depth_mm</th>\n",
       "      <th>flipper_length_mm</th>\n",
       "      <th>body_mass_g</th>\n",
       "      <th>sex</th>\n",
       "    </tr>\n",
       "  </thead>\n",
       "  <tbody>\n",
       "    <tr>\n",
       "      <th>0</th>\n",
       "      <td>Adelie</td>\n",
       "      <td>Torgersen</td>\n",
       "      <td>39.1</td>\n",
       "      <td>18.7</td>\n",
       "      <td>181.0</td>\n",
       "      <td>3750.0</td>\n",
       "      <td>Male</td>\n",
       "    </tr>\n",
       "    <tr>\n",
       "      <th>1</th>\n",
       "      <td>Adelie</td>\n",
       "      <td>Torgersen</td>\n",
       "      <td>39.5</td>\n",
       "      <td>17.4</td>\n",
       "      <td>186.0</td>\n",
       "      <td>3800.0</td>\n",
       "      <td>Female</td>\n",
       "    </tr>\n",
       "    <tr>\n",
       "      <th>2</th>\n",
       "      <td>Adelie</td>\n",
       "      <td>Torgersen</td>\n",
       "      <td>40.3</td>\n",
       "      <td>18.0</td>\n",
       "      <td>195.0</td>\n",
       "      <td>3250.0</td>\n",
       "      <td>Female</td>\n",
       "    </tr>\n",
       "    <tr>\n",
       "      <th>3</th>\n",
       "      <td>Adelie</td>\n",
       "      <td>Torgersen</td>\n",
       "      <td>NaN</td>\n",
       "      <td>NaN</td>\n",
       "      <td>NaN</td>\n",
       "      <td>NaN</td>\n",
       "      <td>NaN</td>\n",
       "    </tr>\n",
       "    <tr>\n",
       "      <th>4</th>\n",
       "      <td>Adelie</td>\n",
       "      <td>Torgersen</td>\n",
       "      <td>36.7</td>\n",
       "      <td>19.3</td>\n",
       "      <td>193.0</td>\n",
       "      <td>3450.0</td>\n",
       "      <td>Female</td>\n",
       "    </tr>\n",
       "    <tr>\n",
       "      <th>...</th>\n",
       "      <td>...</td>\n",
       "      <td>...</td>\n",
       "      <td>...</td>\n",
       "      <td>...</td>\n",
       "      <td>...</td>\n",
       "      <td>...</td>\n",
       "      <td>...</td>\n",
       "    </tr>\n",
       "    <tr>\n",
       "      <th>339</th>\n",
       "      <td>Gentoo</td>\n",
       "      <td>Biscoe</td>\n",
       "      <td>NaN</td>\n",
       "      <td>NaN</td>\n",
       "      <td>NaN</td>\n",
       "      <td>NaN</td>\n",
       "      <td>NaN</td>\n",
       "    </tr>\n",
       "    <tr>\n",
       "      <th>340</th>\n",
       "      <td>Gentoo</td>\n",
       "      <td>Biscoe</td>\n",
       "      <td>46.8</td>\n",
       "      <td>14.3</td>\n",
       "      <td>215.0</td>\n",
       "      <td>4850.0</td>\n",
       "      <td>Female</td>\n",
       "    </tr>\n",
       "    <tr>\n",
       "      <th>341</th>\n",
       "      <td>Gentoo</td>\n",
       "      <td>Biscoe</td>\n",
       "      <td>50.4</td>\n",
       "      <td>15.7</td>\n",
       "      <td>222.0</td>\n",
       "      <td>5750.0</td>\n",
       "      <td>Male</td>\n",
       "    </tr>\n",
       "    <tr>\n",
       "      <th>342</th>\n",
       "      <td>Gentoo</td>\n",
       "      <td>Biscoe</td>\n",
       "      <td>45.2</td>\n",
       "      <td>14.8</td>\n",
       "      <td>212.0</td>\n",
       "      <td>5200.0</td>\n",
       "      <td>Female</td>\n",
       "    </tr>\n",
       "    <tr>\n",
       "      <th>343</th>\n",
       "      <td>Gentoo</td>\n",
       "      <td>Biscoe</td>\n",
       "      <td>49.9</td>\n",
       "      <td>16.1</td>\n",
       "      <td>213.0</td>\n",
       "      <td>5400.0</td>\n",
       "      <td>Male</td>\n",
       "    </tr>\n",
       "  </tbody>\n",
       "</table>\n",
       "<p>344 rows × 7 columns</p>\n",
       "</div>"
      ],
      "text/plain": [
       "    species     island  bill_length_mm  bill_depth_mm  flipper_length_mm  \\\n",
       "0    Adelie  Torgersen            39.1           18.7              181.0   \n",
       "1    Adelie  Torgersen            39.5           17.4              186.0   \n",
       "2    Adelie  Torgersen            40.3           18.0              195.0   \n",
       "3    Adelie  Torgersen             NaN            NaN                NaN   \n",
       "4    Adelie  Torgersen            36.7           19.3              193.0   \n",
       "..      ...        ...             ...            ...                ...   \n",
       "339  Gentoo     Biscoe             NaN            NaN                NaN   \n",
       "340  Gentoo     Biscoe            46.8           14.3              215.0   \n",
       "341  Gentoo     Biscoe            50.4           15.7              222.0   \n",
       "342  Gentoo     Biscoe            45.2           14.8              212.0   \n",
       "343  Gentoo     Biscoe            49.9           16.1              213.0   \n",
       "\n",
       "     body_mass_g     sex  \n",
       "0         3750.0    Male  \n",
       "1         3800.0  Female  \n",
       "2         3250.0  Female  \n",
       "3            NaN     NaN  \n",
       "4         3450.0  Female  \n",
       "..           ...     ...  \n",
       "339          NaN     NaN  \n",
       "340       4850.0  Female  \n",
       "341       5750.0    Male  \n",
       "342       5200.0  Female  \n",
       "343       5400.0    Male  \n",
       "\n",
       "[344 rows x 7 columns]"
      ]
     },
     "execution_count": 14,
     "metadata": {},
     "output_type": "execute_result"
    }
   ],
   "source": [
    "peng = sns.load_dataset(\"penguins\")\n",
    "peng"
   ]
  },
  {
   "cell_type": "code",
   "execution_count": 15,
   "id": "24cb9197",
   "metadata": {},
   "outputs": [
    {
     "name": "stderr",
     "output_type": "stream",
     "text": [
      "/tmp/ipykernel_8624/3824726361.py:6: FutureWarning: A value is trying to be set on a copy of a DataFrame or Series through chained assignment using an inplace method.\n",
      "The behavior will change in pandas 3.0. This inplace method will never work because the intermediate object on which we are setting values always behaves as a copy.\n",
      "\n",
      "For example, when doing 'df[col].method(value, inplace=True)', try using 'df.method({col: value}, inplace=True)' or df[col] = df[col].method(value) instead, to perform the operation inplace on the original object.\n",
      "\n",
      "\n",
      "  peng[target_feature].fillna(20, inplace=True)\n",
      "/tmp/ipykernel_8624/3824726361.py:10: MatplotlibDeprecationWarning: The 'labels' parameter of boxplot() has been renamed 'tick_labels' since Matplotlib 3.9; support for the old name will be dropped in 3.11.\n",
      "  ax.boxplot(data,\n"
     ]
    },
    {
     "data": {
      "image/png": "[encoded data removed]",
      "text/plain": [
       "<Figure size 640x480 with 1 Axes>"
      ]
     },
     "metadata": {},
     "output_type": "display_data"
    }
   ],
   "source": [
    "fig, ax = plt.subplots()\n",
    "\n",
    "target_species = \"Gentoo\"\n",
    "target_feature = \"bill_depth_mm\"\n",
    "\n",
    "peng[target_feature].fillna(20, inplace=True)\n",
    "\n",
    "data = peng[peng[\"species\"] == target_species][target_feature]\n",
    "\n",
    "ax.boxplot(data, \n",
    "           labels=[target_species])\n",
    "ax.set(\n",
    "    ylabel=target_feature,\n",
    ")\n",
    "ax.spines[[\"top\", \"right\", \"left\"]].set_visible(False)\n",
    "ax.grid(axis=\"y\");\n",
    "\n",
    "\n",
    "annotation_options = {\n",
    "    \"va\": \"center\",\n",
    "    \"arrowprops\": {\"arrowstyle\": \"->\"},\n",
    "    \"bbox\": {\"fc\": \"whitesmoke\", \"ec\": \"gray\"},\n",
    "}\n",
    "quantiles = np.quantile(data, [0, 0.25, 0.5, 0.75, 1])\n",
    "for name, q in zip([\"min\", \"Q1\", \"median\", \"Q3\", \"max\"], quantiles):\n",
    "    ax.annotate(\n",
    "        f\"{name}: {q:.3f}\",\n",
    "        xy=(0.9, q),\n",
    "        xytext=(0.75, q),\n",
    "        **annotation_options,\n",
    "        ha=\"right\",\n",
    "    )\n",
    "\n",
    "iqr = quantiles[3] - quantiles[1]\n",
    "for name, q in [\n",
    "    [\"mean\", data.mean().item()],\n",
    "    [\"Q3 + 1.5 × IQR\", quantiles[3] + 1.5 * iqr],\n",
    "    [\"Q1 - 1.5 × IQR\", quantiles[1] - 1.5 * iqr],\n",
    "    [\"inner_max\", data[data < (quantiles[3] + 1.5 * iqr)].max()]\n",
    "]:\n",
    "    ax.annotate(\n",
    "        f\"{name}: {q:.3f}\",\n",
    "        xy=(1.1, q),\n",
    "        xytext=(1.25, q),\n",
    "        **annotation_options,\n",
    "        ha=\"left\",\n",
    "    )\n",
    "pass"
   ]
  }
 ],
 "metadata": {
  "kernelspec": {
   "display_name": "311",
   "language": "python",
   "name": "python3"
  },
  "language_info": {
   "codemirror_mode": {
    "name": "ipython",
    "version": 3
   },
   "file_extension": ".py",
   "mimetype": "text/x-python",
   "name": "python",
   "nbconvert_exporter": "python",
   "pygments_lexer": "ipython3",
   "version": "3.11.10"
  }
 },
 "nbformat": 4,
 "nbformat_minor": 5
}
