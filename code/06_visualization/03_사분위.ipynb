{
 "cells": [
  {
   "cell_type": "markdown",
   "id": "62e22b14",
   "metadata": {},
   "source": [
    "### 사분위"
   ]
  },
  {
   "cell_type": "code",
   "execution_count": 1,
   "id": "fdc5bfa7",
   "metadata": {},
   "outputs": [],
   "source": [
    "import numpy as np\n",
    "import pandas as pd\n",
    "import matplotlib.pyplot as plt\n",
    "import seaborn as sns"
   ]
  },
  {
   "cell_type": "code",
   "execution_count": 2,
   "id": "eaa4c1e7",
   "metadata": {},
   "outputs": [],
   "source": [
    "sample = np.array([1,3,4,7,10,19,20,22,25])"
   ]
  },
  {
   "cell_type": "code",
   "execution_count": 3,
   "id": "bfbe4f21",
   "metadata": {},
   "outputs": [
    {
     "name": "stdout",
     "output_type": "stream",
     "text": [
      "1사분위:  4.0\n",
      "2사분위:  10.0\n",
      "3사분위:  20.0\n"
     ]
    }
   ],
   "source": [
    "print(\"1사분위: \", np.quantile(sample, 0.25))\n",
    "print(\"2사분위: \", np.quantile(sample, 0.5))\n",
    "print(\"3사분위: \", np.quantile(sample, 0.75))"
   ]
  },
  {
   "cell_type": "markdown",
   "id": "33d4d63c",
   "metadata": {},
   "source": [
    "* 1사분위와 3사분위 값이 이상한데?\n",
    "\n",
    "* [사분위값](https://numpy.org/doc/stable/reference/generated/numpy.quantile.html)"
   ]
  },
  {
   "cell_type": "markdown",
   "id": "ee73a7e5",
   "metadata": {},
   "source": [
    "* 사분위 값은 method 옵션을 어떻게 정하느냐에 따라 값이 달라질 수 있다. \n",
    "* default는 `linear`!"
   ]
  },
  {
   "cell_type": "markdown",
   "id": "71e0761b",
   "metadata": {},
   "source": [
    "* $n$ = 벡터 길이\n",
    "* $q$ = $q$% 지점\n",
    "* method = linear\n",
    "    * $\\alpha = 1$, $\\beta = 1$"
   ]
  },
  {
   "cell_type": "markdown",
   "id": "f3195d04",
   "metadata": {},
   "source": [
    "* $q = 0.25$라면\n",
    "\n",
    "\\begin{equation}\n",
    "i+g = q(n-1)+1 = \\frac{25}{100}n+0.75\n",
    "\\end{equation}\n",
    "\n",
    "* $q = 0.5$라면\n",
    "\n",
    "\\begin{equation}\n",
    "i+g = q(n-1)+1 = \\frac{50}{100}n+0.5\n",
    "\\end{equation}\n",
    "\n",
    "* $q = 0.75$라면\n",
    "\n",
    "\\begin{equation}\n",
    "i+g = q(n-1)+1 = \\frac{75}{100}n+0.25\n",
    "\\end{equation}"
   ]
  },
  {
   "cell_type": "code",
   "execution_count": 4,
   "id": "0644deb1",
   "metadata": {},
   "outputs": [
    {
     "data": {
      "image/png": "[encoded data removed]",
      "text/plain": [
       "<Figure size 640x480 with 1 Axes>"
      ]
     },
     "metadata": {},
     "output_type": "display_data"
    }
   ],
   "source": [
    "fig, ax = plt.subplots()\n",
    "ax.bar(x = [str(i) for i in range(1, len(sample)+1)],\n",
    "       height = sample)\n",
    "ax.set(xlabel = \"index\",\n",
    "       ylabel = \"value\");"
   ]
  },
  {
   "cell_type": "markdown",
   "id": "a17bc355",
   "metadata": {},
   "source": [
    "* `method = \"midpoint\"`"
   ]
  },
  {
   "cell_type": "code",
   "execution_count": 5,
   "id": "a66680dd",
   "metadata": {},
   "outputs": [],
   "source": [
    "sample = np.array([1,3,4,7,10,19,20,22,25,30])"
   ]
  },
  {
   "cell_type": "code",
   "execution_count": 6,
   "id": "5172e039",
   "metadata": {},
   "outputs": [
    {
     "name": "stdout",
     "output_type": "stream",
     "text": [
      "1사분위:  5.5\n",
      "2사분위:  14.5\n",
      "3사분위:  21.0\n"
     ]
    }
   ],
   "source": [
    "print(\"1사분위: \", np.quantile(sample, 0.25, method = \"midpoint\"))\n",
    "print(\"2사분위: \", np.quantile(sample, 0.5, method = \"midpoint\"))\n",
    "print(\"3사분위: \", np.quantile(sample, 0.75, method = \"midpoint\"))"
   ]
  },
  {
   "cell_type": "code",
   "execution_count": 7,
   "id": "563ae60a",
   "metadata": {},
   "outputs": [],
   "source": [
    "sample_01 = np.array([1,3,4,7,10,19,20,22,25,30,35])"
   ]
  },
  {
   "cell_type": "code",
   "execution_count": 8,
   "id": "759a7bf5",
   "metadata": {},
   "outputs": [
    {
     "name": "stdout",
     "output_type": "stream",
     "text": [
      "1사분위:  5.5\n",
      "2사분위:  19.0\n",
      "3사분위:  23.5\n"
     ]
    }
   ],
   "source": [
    "print(\"1사분위: \", np.quantile(sample_01, 0.25))\n",
    "print(\"2사분위: \", np.quantile(sample_01, 0.5))\n",
    "print(\"3사분위: \", np.quantile(sample_01, 0.75))"
   ]
  },
  {
   "cell_type": "code",
   "execution_count": 9,
   "id": "a21e54f1",
   "metadata": {},
   "outputs": [],
   "source": [
    "sample_02 = np.array([1,1,3,3,7,19,20,20,25,30])"
   ]
  },
  {
   "cell_type": "code",
   "execution_count": 10,
   "id": "9b9a47ee",
   "metadata": {},
   "outputs": [
    {
     "name": "stdout",
     "output_type": "stream",
     "text": [
      "1사분위:  3.0\n",
      "2사분위:  13.0\n",
      "3사분위:  20.0\n"
     ]
    }
   ],
   "source": [
    "print(\"1사분위: \", np.quantile(sample_02, 0.25))\n",
    "print(\"2사분위: \", np.quantile(sample_02, 0.5))\n",
    "print(\"3사분위: \", np.quantile(sample_02, 0.75))"
   ]
  }
 ],
 "metadata": {
  "kernelspec": {
   "display_name": "Python 3 (ipykernel)",
   "language": "python",
   "name": "python3"
  },
  "language_info": {
   "codemirror_mode": {
    "name": "ipython",
    "version": 3
   },
   "file_extension": ".py",
   "mimetype": "text/x-python",
   "name": "python",
   "nbconvert_exporter": "python",
   "pygments_lexer": "ipython3",
   "version": "3.8.15"
  }
 },
 "nbformat": 4,
 "nbformat_minor": 5
}
