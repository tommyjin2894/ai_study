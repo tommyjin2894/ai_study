{
 "cells": [
  {
   "cell_type": "markdown",
   "metadata": {},
   "source": [
    "# Tensor 자료형\n",
    "\n",
    "Numpy의 ndarray 와 유사, 배열 이나 행렬과 유사한 자료구조(자료형)\n",
    "\n",
    "## 텐서 차원별 명명법\n",
    "\n",
    "- 0 차원 : 스칼라 점\n",
    "- 1 차원 : 벡터 선\n",
    "- 2 차원 : 행렬 면\n",
    "- 3 차원 : 3차원 텐서 입체\n",
    "- n 차원 : n차원 텐서\n",
    "\n",
    "## 파이 토치 에서의 사용"
   ]
  },
  {
   "cell_type": "code",
   "execution_count": 18,
   "metadata": {},
   "outputs": [
    {
     "name": "stdout",
     "output_type": "stream",
     "text": [
      "tensor([[0., 1., 2.],\n",
      "        [3., 4., 5.]])\n",
      "\n",
      "차원: 2\n",
      "쉐입: torch.Size([2, 3])\n"
     ]
    }
   ],
   "source": [
    "import torch\n",
    "\n",
    "t = torch.FloatTensor([[0.,1.,2.],[3.,4.,5.]])\n",
    "print(t,end = \"\\n\\n\")\n",
    "print(\"차원:\",t.dim())\n",
    "print(\"쉐입:\",t.shape)"
   ]
  }
 ],
 "metadata": {
  "kernelspec": {
   "display_name": "kdt",
   "language": "python",
   "name": "python3"
  },
  "language_info": {
   "codemirror_mode": {
    "name": "ipython",
    "version": 3
   },
   "file_extension": ".py",
   "mimetype": "text/x-python",
   "name": "python",
   "nbconvert_exporter": "python",
   "pygments_lexer": "ipython3",
   "version": "3.8.15"
  }
 },
 "nbformat": 4,
 "nbformat_minor": 2
}
