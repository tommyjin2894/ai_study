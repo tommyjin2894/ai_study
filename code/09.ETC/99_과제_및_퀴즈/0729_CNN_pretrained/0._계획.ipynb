{
 "cells": [
  {
   "cell_type": "markdown",
   "metadata": {},
   "source": [
    "# 남, 여 이진분류 문제"
   ]
  },
  {
   "cell_type": "markdown",
   "metadata": {},
   "source": [
    "### 계획\n",
    "\n",
    "1. ResNet, InceptionNet, MobileNet, ML_transfer learning\n",
    "2. NN_transfer learning\n",
    "3. Fine_tunning\n",
    "    - 가벼운 MobileNet 이용\n",
    "4. 직접 모델 구축 : CNN의 encoder을 이용하여 예측해보기\n",
    "5. Pre trained model"
   ]
  },
  {
   "cell_type": "markdown",
   "metadata": {},
   "source": [
    "### 1. ML 전이 학습 결과\n",
    "- 모바일 넷의 로지스틱 회귀 우승!\n",
    "    - test 정확도 : 0.9118\n",
    "    - test f1_score : 0.8929"
   ]
  },
  {
   "cell_type": "markdown",
   "metadata": {},
   "source": [
    "### 2. NN 전이 학습 결과 (다양하게 많이 돌려 보진 못함)\n",
    "- 특징 : 로지스틱회귀 보다 좋지 않은 f1 스코어\n",
    "    1. 정확도 : 0.8529, f1_score : 0.8275\n",
    "    2. 정확도 : 0.8382, f1_socre : 0.6041\n",
    "    3. 정확도 : 0.8235, f1_socre : 0.6237"
   ]
  },
  {
   "cell_type": "markdown",
   "metadata": {},
   "source": [
    "### 3. NN 파인 튜닝 결과\n",
    "- 특징 : 로지스틱회귀 보다 나은 f1 스코어\n",
    "    1. 정확도 : 0.9118, f1_score : 0.9\n",
    "    2. 정확도 : 0.9559, f1_socre : 0.0\n",
    "    3. 정확도 : 0.9118, f1_socre : 0.36"
   ]
  },
  {
   "cell_type": "markdown",
   "metadata": {
    "vscode": {
     "languageId": "plaintext"
    }
   },
   "source": [
    "### 4. 직접 설계\n",
    "- 특징 : 가장 좋지 않은 결과\n",
    "\n",
    "    정확도 : 0.5735, f1_socre: 0.0"
   ]
  },
  {
   "cell_type": "markdown",
   "metadata": {},
   "source": [
    "### 5. pre trained model\n",
    "- 원하는 정답라벨과 다른 결과 이므로 metrics 의 의미가 없다."
   ]
  },
  {
   "cell_type": "markdown",
   "metadata": {},
   "source": [
    "### 5. 고찰\n",
    "- 일반 훈련데이터 쓰다가, 어느정도 모델 다듬은 다음에 증강 데이터 쓰면 일반적인 훈련 데이터 만 사용한 방법 보다 좋은 성능을 보인다.\n",
    "\n",
    "- 아무리 많이 학습한다고 해서 수렴하지 않는다."
   ]
  }
 ],
 "metadata": {
  "language_info": {
   "name": "python"
  }
 },
 "nbformat": 4,
 "nbformat_minor": 2
}
