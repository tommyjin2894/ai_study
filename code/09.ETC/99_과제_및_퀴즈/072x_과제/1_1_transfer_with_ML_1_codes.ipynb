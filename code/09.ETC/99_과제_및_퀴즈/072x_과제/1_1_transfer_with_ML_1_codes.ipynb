{
 "cells": [
  {
   "cell_type": "code",
   "execution_count": 1,
   "metadata": {},
   "outputs": [],
   "source": [
    "import tensorflow as tf\n",
    "from tensorflow import keras\n",
    "\n",
    "from tensorflow.keras.applications.resnet50 import ResNet50\n",
    "from tensorflow.keras.applications import resnet50 # preprocess_input, decode_predictions\n",
    "\n",
    "from tensorflow.keras.applications.mobilenet import MobileNet\n",
    "from tensorflow.keras.applications import mobilenet # preprocess_input, decode_predictions\n",
    "\n",
    "from tensorflow.keras.models import Model\n",
    "from tensorflow.keras.layers import Flatten\n",
    "from tensorflow.keras.applications.inception_v3 import InceptionV3\n",
    "from tensorflow.keras.applications import inception_v3 # preprocess_input, decode_predictions\n",
    "from tensorflow.keras.preprocessing import image\n",
    "from matplotlib.pyplot import imshow\n",
    "import math\n",
    "import numpy as np\n",
    "from glob import glob"
   ]
  },
  {
   "cell_type": "markdown",
   "metadata": {},
   "source": [
    "### 각 모델 불러오기"
   ]
  },
  {
   "cell_type": "code",
   "execution_count": 2,
   "metadata": {},
   "outputs": [],
   "source": [
    "base_inception = InceptionV3(weights='imagenet', include_top=True)\n",
    "model_inception = Model(inputs=base_inception.input, outputs=base_inception.get_layer('avg_pool').output)"
   ]
  },
  {
   "cell_type": "code",
   "execution_count": 3,
   "metadata": {},
   "outputs": [],
   "source": [
    "base_res = ResNet50(weights='imagenet', include_top=True)\n",
    "model_res = Model(inputs=base_res.input, outputs=base_res.get_layer('avg_pool').output)"
   ]
  },
  {
   "cell_type": "code",
   "execution_count": 4,
   "metadata": {},
   "outputs": [],
   "source": [
    "base_mobile = MobileNet(weights='imagenet', include_top=True)\n",
    "flatten_layer = Flatten()(base_mobile.get_layer('global_average_pooling2d').output)\n",
    "model_mobile = Model(inputs=base_mobile.input, outputs=flatten_layer)"
   ]
  },
  {
   "cell_type": "code",
   "execution_count": 5,
   "metadata": {},
   "outputs": [
    {
     "name": "stdout",
     "output_type": "stream",
     "text": [
      "KerasTensor(type_spec=TensorSpec(shape=(None, 299, 299, 3), dtype=tf.float32, name='input_1'), name='input_1', description=\"created by layer 'input_1'\") KerasTensor(type_spec=TensorSpec(shape=(None, 2048), dtype=tf.float32, name=None), name='avg_pool/Mean:0', description=\"created by layer 'avg_pool'\")\n",
      "KerasTensor(type_spec=TensorSpec(shape=(None, 224, 224, 3), dtype=tf.float32, name='input_2'), name='input_2', description=\"created by layer 'input_2'\") KerasTensor(type_spec=TensorSpec(shape=(None, 2048), dtype=tf.float32, name=None), name='avg_pool/Mean:0', description=\"created by layer 'avg_pool'\")\n",
      "KerasTensor(type_spec=TensorSpec(shape=(None, 224, 224, 3), dtype=tf.float32, name='input_3'), name='input_3', description=\"created by layer 'input_3'\") KerasTensor(type_spec=TensorSpec(shape=(None, 1024), dtype=tf.float32, name=None), name='flatten/Reshape:0', description=\"created by layer 'flatten'\")\n"
     ]
    }
   ],
   "source": [
    "print(model_inception.input, model_inception.output) # input = 299,299 out : 2048\n",
    "print(model_res.input, model_res.output)             # input = 224,224 out : 2048\n",
    "print(model_mobile.input, model_mobile.output)       # input = 224,224 out : 1024"
   ]
  },
  {
   "cell_type": "markdown",
   "metadata": {},
   "source": [
    "### 데이터 준비"
   ]
  },
  {
   "cell_type": "code",
   "execution_count": 2,
   "metadata": {},
   "outputs": [],
   "source": [
    "def load_images_and_labels(files, label, size):\n",
    "    images = [image.load_img(p, target_size=(size, size)) for p in files]  # warping\n",
    "    labels = [label] * len(files)\n",
    "    print(files)\n",
    "    return images, labels"
   ]
  },
  {
   "cell_type": "code",
   "execution_count": 3,
   "metadata": {},
   "outputs": [],
   "source": [
    "# 파일 경로에 지정, 이미지 로드\n",
    "man_file= glob('../data/imgs/data_mw/man/*jpg')\n",
    "wom_file= glob('../data/imgs/data_mw/woman/*jpg')"
   ]
  },
  {
   "cell_type": "code",
   "execution_count": 4,
   "metadata": {},
   "outputs": [
    {
     "name": "stdout",
     "output_type": "stream",
     "text": [
      "['../data/imgs/data_mw/man\\\\ma_1.jpg', '../data/imgs/data_mw/man\\\\ma_10.jpg', '../data/imgs/data_mw/man\\\\ma_100.jpg', '../data/imgs/data_mw/man\\\\ma_101.jpg', '../data/imgs/data_mw/man\\\\ma_102.jpg', '../data/imgs/data_mw/man\\\\ma_103.jpg', '../data/imgs/data_mw/man\\\\ma_104.jpg', '../data/imgs/data_mw/man\\\\ma_105.jpg', '../data/imgs/data_mw/man\\\\ma_106.jpg', '../data/imgs/data_mw/man\\\\ma_107.jpg', '../data/imgs/data_mw/man\\\\ma_108.jpg', '../data/imgs/data_mw/man\\\\ma_109.jpg', '../data/imgs/data_mw/man\\\\ma_11.jpg', '../data/imgs/data_mw/man\\\\ma_110.jpg', '../data/imgs/data_mw/man\\\\ma_111.jpg', '../data/imgs/data_mw/man\\\\ma_113.jpg', '../data/imgs/data_mw/man\\\\ma_114.jpg', '../data/imgs/data_mw/man\\\\ma_115.jpg', '../data/imgs/data_mw/man\\\\ma_116.jpg', '../data/imgs/data_mw/man\\\\ma_117.jpg', '../data/imgs/data_mw/man\\\\ma_118.jpg', '../data/imgs/data_mw/man\\\\ma_119.jpg', '../data/imgs/data_mw/man\\\\ma_12.jpg', '../data/imgs/data_mw/man\\\\ma_121.jpg', '../data/imgs/data_mw/man\\\\ma_122.jpg', '../data/imgs/data_mw/man\\\\ma_123.jpg', '../data/imgs/data_mw/man\\\\ma_124.jpg', '../data/imgs/data_mw/man\\\\ma_125.jpg', '../data/imgs/data_mw/man\\\\ma_126.jpg', '../data/imgs/data_mw/man\\\\ma_127.jpg', '../data/imgs/data_mw/man\\\\ma_128.jpg', '../data/imgs/data_mw/man\\\\ma_129.jpg', '../data/imgs/data_mw/man\\\\ma_13.jpg', '../data/imgs/data_mw/man\\\\ma_130.jpg', '../data/imgs/data_mw/man\\\\ma_131.jpg', '../data/imgs/data_mw/man\\\\ma_132.jpg', '../data/imgs/data_mw/man\\\\ma_133.jpg', '../data/imgs/data_mw/man\\\\ma_134.jpg', '../data/imgs/data_mw/man\\\\ma_135.jpg', '../data/imgs/data_mw/man\\\\ma_136.jpg', '../data/imgs/data_mw/man\\\\ma_137.jpg', '../data/imgs/data_mw/man\\\\ma_138.jpg', '../data/imgs/data_mw/man\\\\ma_139.jpg', '../data/imgs/data_mw/man\\\\ma_14.jpg', '../data/imgs/data_mw/man\\\\ma_140.jpg', '../data/imgs/data_mw/man\\\\ma_141.jpg', '../data/imgs/data_mw/man\\\\ma_142.jpg', '../data/imgs/data_mw/man\\\\ma_143.jpg', '../data/imgs/data_mw/man\\\\ma_144.jpg', '../data/imgs/data_mw/man\\\\ma_145.jpg', '../data/imgs/data_mw/man\\\\ma_146.jpg', '../data/imgs/data_mw/man\\\\ma_147.jpg', '../data/imgs/data_mw/man\\\\ma_148.jpg', '../data/imgs/data_mw/man\\\\ma_149.jpg', '../data/imgs/data_mw/man\\\\ma_15.jpg', '../data/imgs/data_mw/man\\\\ma_150.jpg', '../data/imgs/data_mw/man\\\\ma_151.jpg', '../data/imgs/data_mw/man\\\\ma_152.jpg', '../data/imgs/data_mw/man\\\\ma_153.jpg', '../data/imgs/data_mw/man\\\\ma_155.jpg', '../data/imgs/data_mw/man\\\\ma_156.jpg', '../data/imgs/data_mw/man\\\\ma_157.jpg', '../data/imgs/data_mw/man\\\\ma_158.jpg', '../data/imgs/data_mw/man\\\\ma_159.jpg', '../data/imgs/data_mw/man\\\\ma_16.jpg', '../data/imgs/data_mw/man\\\\ma_160.jpg', '../data/imgs/data_mw/man\\\\ma_161.jpg', '../data/imgs/data_mw/man\\\\ma_162.jpg', '../data/imgs/data_mw/man\\\\ma_163.jpg', '../data/imgs/data_mw/man\\\\ma_164.jpg', '../data/imgs/data_mw/man\\\\ma_165.jpg', '../data/imgs/data_mw/man\\\\ma_166.jpg', '../data/imgs/data_mw/man\\\\ma_169.jpg', '../data/imgs/data_mw/man\\\\ma_17.jpg', '../data/imgs/data_mw/man\\\\ma_170.jpg', '../data/imgs/data_mw/man\\\\ma_171.jpg', '../data/imgs/data_mw/man\\\\ma_172.jpg', '../data/imgs/data_mw/man\\\\ma_173.jpg', '../data/imgs/data_mw/man\\\\ma_174.jpg', '../data/imgs/data_mw/man\\\\ma_175.jpg', '../data/imgs/data_mw/man\\\\ma_176.jpg', '../data/imgs/data_mw/man\\\\ma_177.jpg', '../data/imgs/data_mw/man\\\\ma_178.jpg', '../data/imgs/data_mw/man\\\\ma_179.jpg', '../data/imgs/data_mw/man\\\\ma_18.jpg', '../data/imgs/data_mw/man\\\\ma_180.jpg', '../data/imgs/data_mw/man\\\\ma_181.jpg', '../data/imgs/data_mw/man\\\\ma_182.jpg', '../data/imgs/data_mw/man\\\\ma_183.jpg', '../data/imgs/data_mw/man\\\\ma_184.jpg', '../data/imgs/data_mw/man\\\\ma_185.jpg', '../data/imgs/data_mw/man\\\\ma_186.jpg', '../data/imgs/data_mw/man\\\\ma_187.jpg', '../data/imgs/data_mw/man\\\\ma_188.jpg', '../data/imgs/data_mw/man\\\\ma_189.jpg', '../data/imgs/data_mw/man\\\\ma_19.jpg', '../data/imgs/data_mw/man\\\\ma_190.jpg', '../data/imgs/data_mw/man\\\\ma_191.jpg', '../data/imgs/data_mw/man\\\\ma_192.jpg', '../data/imgs/data_mw/man\\\\ma_193.jpg', '../data/imgs/data_mw/man\\\\ma_194.jpg', '../data/imgs/data_mw/man\\\\ma_195.jpg', '../data/imgs/data_mw/man\\\\ma_196.jpg', '../data/imgs/data_mw/man\\\\ma_2.jpg', '../data/imgs/data_mw/man\\\\ma_20.jpg', '../data/imgs/data_mw/man\\\\ma_21.jpg', '../data/imgs/data_mw/man\\\\ma_22.jpg', '../data/imgs/data_mw/man\\\\ma_23.jpg', '../data/imgs/data_mw/man\\\\ma_24.jpg', '../data/imgs/data_mw/man\\\\ma_25.jpg', '../data/imgs/data_mw/man\\\\ma_26.jpg', '../data/imgs/data_mw/man\\\\ma_27.jpg', '../data/imgs/data_mw/man\\\\ma_28.jpg', '../data/imgs/data_mw/man\\\\ma_29.jpg', '../data/imgs/data_mw/man\\\\ma_3.jpg', '../data/imgs/data_mw/man\\\\ma_30.jpg', '../data/imgs/data_mw/man\\\\ma_31.jpg', '../data/imgs/data_mw/man\\\\ma_32.jpg', '../data/imgs/data_mw/man\\\\ma_34.jpg', '../data/imgs/data_mw/man\\\\ma_35.jpg', '../data/imgs/data_mw/man\\\\ma_36.jpg', '../data/imgs/data_mw/man\\\\ma_37.jpg', '../data/imgs/data_mw/man\\\\ma_38.jpg', '../data/imgs/data_mw/man\\\\ma_39.jpg', '../data/imgs/data_mw/man\\\\ma_4.jpg', '../data/imgs/data_mw/man\\\\ma_40.jpg', '../data/imgs/data_mw/man\\\\ma_41.jpg', '../data/imgs/data_mw/man\\\\ma_42.jpg', '../data/imgs/data_mw/man\\\\ma_43.jpg', '../data/imgs/data_mw/man\\\\ma_44.jpg', '../data/imgs/data_mw/man\\\\ma_45.jpg', '../data/imgs/data_mw/man\\\\ma_46.jpg', '../data/imgs/data_mw/man\\\\ma_47.jpg', '../data/imgs/data_mw/man\\\\ma_48.jpg', '../data/imgs/data_mw/man\\\\ma_49.jpg', '../data/imgs/data_mw/man\\\\ma_5.jpg', '../data/imgs/data_mw/man\\\\ma_50.jpg', '../data/imgs/data_mw/man\\\\ma_51.jpg', '../data/imgs/data_mw/man\\\\ma_53.jpg', '../data/imgs/data_mw/man\\\\ma_54.jpg', '../data/imgs/data_mw/man\\\\ma_55.jpg', '../data/imgs/data_mw/man\\\\ma_56.jpg', '../data/imgs/data_mw/man\\\\ma_57.jpg', '../data/imgs/data_mw/man\\\\ma_59.jpg', '../data/imgs/data_mw/man\\\\ma_6.jpg', '../data/imgs/data_mw/man\\\\ma_60.jpg', '../data/imgs/data_mw/man\\\\ma_61.jpg', '../data/imgs/data_mw/man\\\\ma_63.jpg', '../data/imgs/data_mw/man\\\\ma_64.jpg', '../data/imgs/data_mw/man\\\\ma_65.jpg', '../data/imgs/data_mw/man\\\\ma_66.jpg', '../data/imgs/data_mw/man\\\\ma_68.jpg', '../data/imgs/data_mw/man\\\\ma_69.jpg', '../data/imgs/data_mw/man\\\\ma_7.jpg', '../data/imgs/data_mw/man\\\\ma_70.jpg', '../data/imgs/data_mw/man\\\\ma_71.jpg', '../data/imgs/data_mw/man\\\\ma_72.jpg', '../data/imgs/data_mw/man\\\\ma_73.jpg', '../data/imgs/data_mw/man\\\\ma_74.jpg', '../data/imgs/data_mw/man\\\\ma_75.jpg', '../data/imgs/data_mw/man\\\\ma_77.jpg', '../data/imgs/data_mw/man\\\\ma_78.jpg', '../data/imgs/data_mw/man\\\\ma_79.jpg', '../data/imgs/data_mw/man\\\\ma_8.jpg', '../data/imgs/data_mw/man\\\\ma_80.jpg', '../data/imgs/data_mw/man\\\\ma_81.jpg', '../data/imgs/data_mw/man\\\\ma_82.jpg', '../data/imgs/data_mw/man\\\\ma_83.jpg', '../data/imgs/data_mw/man\\\\ma_84.jpg', '../data/imgs/data_mw/man\\\\ma_85.jpg', '../data/imgs/data_mw/man\\\\ma_86.jpg', '../data/imgs/data_mw/man\\\\ma_87.jpg', '../data/imgs/data_mw/man\\\\ma_88.jpg', '../data/imgs/data_mw/man\\\\ma_89.jpg', '../data/imgs/data_mw/man\\\\ma_9.jpg', '../data/imgs/data_mw/man\\\\ma_90.jpg', '../data/imgs/data_mw/man\\\\ma_91.jpg', '../data/imgs/data_mw/man\\\\ma_92.jpg', '../data/imgs/data_mw/man\\\\ma_93.jpg', '../data/imgs/data_mw/man\\\\ma_94.jpg', '../data/imgs/data_mw/man\\\\ma_95.jpg', '../data/imgs/data_mw/man\\\\ma_96.jpg', '../data/imgs/data_mw/man\\\\ma_97.jpg', '../data/imgs/data_mw/man\\\\ma_98.jpg', '../data/imgs/data_mw/man\\\\ma_99.jpg']\n",
      "['../data/imgs/data_mw/woman\\\\w_1.jpg', '../data/imgs/data_mw/woman\\\\w_10.jpg', '../data/imgs/data_mw/woman\\\\w_101.jpg', '../data/imgs/data_mw/woman\\\\w_102.jpg', '../data/imgs/data_mw/woman\\\\w_103.jpg', '../data/imgs/data_mw/woman\\\\w_104.jpg', '../data/imgs/data_mw/woman\\\\w_105.jpg', '../data/imgs/data_mw/woman\\\\w_106.jpg', '../data/imgs/data_mw/woman\\\\w_107.jpg', '../data/imgs/data_mw/woman\\\\w_108.jpg', '../data/imgs/data_mw/woman\\\\w_109.jpg', '../data/imgs/data_mw/woman\\\\w_11.jpg', '../data/imgs/data_mw/woman\\\\w_110.jpg', '../data/imgs/data_mw/woman\\\\w_111.jpg', '../data/imgs/data_mw/woman\\\\w_113.jpg', '../data/imgs/data_mw/woman\\\\w_114.jpg', '../data/imgs/data_mw/woman\\\\w_115.jpg', '../data/imgs/data_mw/woman\\\\w_116.jpg', '../data/imgs/data_mw/woman\\\\w_117.jpg', '../data/imgs/data_mw/woman\\\\w_118.jpg', '../data/imgs/data_mw/woman\\\\w_119.jpg', '../data/imgs/data_mw/woman\\\\w_12.jpg', '../data/imgs/data_mw/woman\\\\w_120.jpg', '../data/imgs/data_mw/woman\\\\w_121.jpg', '../data/imgs/data_mw/woman\\\\w_122.jpg', '../data/imgs/data_mw/woman\\\\w_123.jpg', '../data/imgs/data_mw/woman\\\\w_124.jpg', '../data/imgs/data_mw/woman\\\\w_125.jpg', '../data/imgs/data_mw/woman\\\\w_126.jpg', '../data/imgs/data_mw/woman\\\\w_127.jpg', '../data/imgs/data_mw/woman\\\\w_128.jpg', '../data/imgs/data_mw/woman\\\\w_129.jpg', '../data/imgs/data_mw/woman\\\\w_13.jpg', '../data/imgs/data_mw/woman\\\\w_130.jpg', '../data/imgs/data_mw/woman\\\\w_132.jpg', '../data/imgs/data_mw/woman\\\\w_133.jpg', '../data/imgs/data_mw/woman\\\\w_136.jpg', '../data/imgs/data_mw/woman\\\\w_137.jpg', '../data/imgs/data_mw/woman\\\\w_138.jpg', '../data/imgs/data_mw/woman\\\\w_139.jpg', '../data/imgs/data_mw/woman\\\\w_14.jpg', '../data/imgs/data_mw/woman\\\\w_140.jpg', '../data/imgs/data_mw/woman\\\\w_141.jpg', '../data/imgs/data_mw/woman\\\\w_142.jpg', '../data/imgs/data_mw/woman\\\\w_143.jpg', '../data/imgs/data_mw/woman\\\\w_146.jpg', '../data/imgs/data_mw/woman\\\\w_147.jpg', '../data/imgs/data_mw/woman\\\\w_15.jpg', '../data/imgs/data_mw/woman\\\\w_150.jpg', '../data/imgs/data_mw/woman\\\\w_151.jpg', '../data/imgs/data_mw/woman\\\\w_152.jpg', '../data/imgs/data_mw/woman\\\\w_153.jpg', '../data/imgs/data_mw/woman\\\\w_154.jpg', '../data/imgs/data_mw/woman\\\\w_155.jpg', '../data/imgs/data_mw/woman\\\\w_156.jpg', '../data/imgs/data_mw/woman\\\\w_157.jpg', '../data/imgs/data_mw/woman\\\\w_158.jpg', '../data/imgs/data_mw/woman\\\\w_159.jpg', '../data/imgs/data_mw/woman\\\\w_16.jpg', '../data/imgs/data_mw/woman\\\\w_160.jpg', '../data/imgs/data_mw/woman\\\\w_161.jpg', '../data/imgs/data_mw/woman\\\\w_162.jpg', '../data/imgs/data_mw/woman\\\\w_164.jpg', '../data/imgs/data_mw/woman\\\\w_165.jpg', '../data/imgs/data_mw/woman\\\\w_166.jpg', '../data/imgs/data_mw/woman\\\\w_168.jpg', '../data/imgs/data_mw/woman\\\\w_169.jpg', '../data/imgs/data_mw/woman\\\\w_17.jpg', '../data/imgs/data_mw/woman\\\\w_173.jpg', '../data/imgs/data_mw/woman\\\\w_176.jpg', '../data/imgs/data_mw/woman\\\\w_177.jpg', '../data/imgs/data_mw/woman\\\\w_179.jpg', '../data/imgs/data_mw/woman\\\\w_18.jpg', '../data/imgs/data_mw/woman\\\\w_181.jpg', '../data/imgs/data_mw/woman\\\\w_183.jpg', '../data/imgs/data_mw/woman\\\\w_184.jpg', '../data/imgs/data_mw/woman\\\\w_185.jpg', '../data/imgs/data_mw/woman\\\\w_186.jpg', '../data/imgs/data_mw/woman\\\\w_187.jpg', '../data/imgs/data_mw/woman\\\\w_189.jpg', '../data/imgs/data_mw/woman\\\\w_19.jpg', '../data/imgs/data_mw/woman\\\\w_191.jpg', '../data/imgs/data_mw/woman\\\\w_192.jpg', '../data/imgs/data_mw/woman\\\\w_193.jpg', '../data/imgs/data_mw/woman\\\\w_194.jpg', '../data/imgs/data_mw/woman\\\\w_2.jpg', '../data/imgs/data_mw/woman\\\\w_20.jpg', '../data/imgs/data_mw/woman\\\\w_21.jpg', '../data/imgs/data_mw/woman\\\\w_24.jpg', '../data/imgs/data_mw/woman\\\\w_26.jpg', '../data/imgs/data_mw/woman\\\\w_27.jpg', '../data/imgs/data_mw/woman\\\\w_3.jpg', '../data/imgs/data_mw/woman\\\\w_30.jpg', '../data/imgs/data_mw/woman\\\\w_32.jpg', '../data/imgs/data_mw/woman\\\\w_33.jpg', '../data/imgs/data_mw/woman\\\\w_34.jpg', '../data/imgs/data_mw/woman\\\\w_35.jpg', '../data/imgs/data_mw/woman\\\\w_36.jpg', '../data/imgs/data_mw/woman\\\\w_37.jpg', '../data/imgs/data_mw/woman\\\\w_38.jpg', '../data/imgs/data_mw/woman\\\\w_39.jpg', '../data/imgs/data_mw/woman\\\\w_40.jpg', '../data/imgs/data_mw/woman\\\\w_41.jpg', '../data/imgs/data_mw/woman\\\\w_43.jpg', '../data/imgs/data_mw/woman\\\\w_45.jpg', '../data/imgs/data_mw/woman\\\\w_46.jpg', '../data/imgs/data_mw/woman\\\\w_49.jpg', '../data/imgs/data_mw/woman\\\\w_50.jpg', '../data/imgs/data_mw/woman\\\\w_51.jpg', '../data/imgs/data_mw/woman\\\\w_52.jpg', '../data/imgs/data_mw/woman\\\\w_54.jpg', '../data/imgs/data_mw/woman\\\\w_55.jpg', '../data/imgs/data_mw/woman\\\\w_56.jpg', '../data/imgs/data_mw/woman\\\\w_57.jpg', '../data/imgs/data_mw/woman\\\\w_58.jpg', '../data/imgs/data_mw/woman\\\\w_59.jpg', '../data/imgs/data_mw/woman\\\\w_60.jpg', '../data/imgs/data_mw/woman\\\\w_61.jpg', '../data/imgs/data_mw/woman\\\\w_62.jpg', '../data/imgs/data_mw/woman\\\\w_63.jpg', '../data/imgs/data_mw/woman\\\\w_64.jpg', '../data/imgs/data_mw/woman\\\\w_65.jpg', '../data/imgs/data_mw/woman\\\\w_66.jpg', '../data/imgs/data_mw/woman\\\\w_67.jpg', '../data/imgs/data_mw/woman\\\\w_69.jpg', '../data/imgs/data_mw/woman\\\\w_70.jpg', '../data/imgs/data_mw/woman\\\\w_71.jpg', '../data/imgs/data_mw/woman\\\\w_72.jpg', '../data/imgs/data_mw/woman\\\\w_73.jpg', '../data/imgs/data_mw/woman\\\\w_74.jpg', '../data/imgs/data_mw/woman\\\\w_75.jpg', '../data/imgs/data_mw/woman\\\\w_76.jpg', '../data/imgs/data_mw/woman\\\\w_77.jpg', '../data/imgs/data_mw/woman\\\\w_78.jpg', '../data/imgs/data_mw/woman\\\\w_80.jpg', '../data/imgs/data_mw/woman\\\\w_81.jpg', '../data/imgs/data_mw/woman\\\\w_83.jpg', '../data/imgs/data_mw/woman\\\\w_84.jpg', '../data/imgs/data_mw/woman\\\\w_85.jpg', '../data/imgs/data_mw/woman\\\\w_88.jpg', '../data/imgs/data_mw/woman\\\\w_89.jpg', '../data/imgs/data_mw/woman\\\\w_9.jpg', '../data/imgs/data_mw/woman\\\\w_90.jpg', '../data/imgs/data_mw/woman\\\\w_91.jpg', '../data/imgs/data_mw/woman\\\\w_92.jpg', '../data/imgs/data_mw/woman\\\\w_93.jpg', '../data/imgs/data_mw/woman\\\\w_94.jpg', '../data/imgs/data_mw/woman\\\\w_95.jpg', '../data/imgs/data_mw/woman\\\\w_96.jpg', '../data/imgs/data_mw/woman\\\\w_97.jpg', '../data/imgs/data_mw/woman\\\\w_98.jpg', '../data/imgs/data_mw/woman\\\\w_99.jpg']\n",
      "['../data/imgs/data_mw/man\\\\ma_1.jpg', '../data/imgs/data_mw/man\\\\ma_10.jpg', '../data/imgs/data_mw/man\\\\ma_100.jpg', '../data/imgs/data_mw/man\\\\ma_101.jpg', '../data/imgs/data_mw/man\\\\ma_102.jpg', '../data/imgs/data_mw/man\\\\ma_103.jpg', '../data/imgs/data_mw/man\\\\ma_104.jpg', '../data/imgs/data_mw/man\\\\ma_105.jpg', '../data/imgs/data_mw/man\\\\ma_106.jpg', '../data/imgs/data_mw/man\\\\ma_107.jpg', '../data/imgs/data_mw/man\\\\ma_108.jpg', '../data/imgs/data_mw/man\\\\ma_109.jpg', '../data/imgs/data_mw/man\\\\ma_11.jpg', '../data/imgs/data_mw/man\\\\ma_110.jpg', '../data/imgs/data_mw/man\\\\ma_111.jpg', '../data/imgs/data_mw/man\\\\ma_113.jpg', '../data/imgs/data_mw/man\\\\ma_114.jpg', '../data/imgs/data_mw/man\\\\ma_115.jpg', '../data/imgs/data_mw/man\\\\ma_116.jpg', '../data/imgs/data_mw/man\\\\ma_117.jpg', '../data/imgs/data_mw/man\\\\ma_118.jpg', '../data/imgs/data_mw/man\\\\ma_119.jpg', '../data/imgs/data_mw/man\\\\ma_12.jpg', '../data/imgs/data_mw/man\\\\ma_121.jpg', '../data/imgs/data_mw/man\\\\ma_122.jpg', '../data/imgs/data_mw/man\\\\ma_123.jpg', '../data/imgs/data_mw/man\\\\ma_124.jpg', '../data/imgs/data_mw/man\\\\ma_125.jpg', '../data/imgs/data_mw/man\\\\ma_126.jpg', '../data/imgs/data_mw/man\\\\ma_127.jpg', '../data/imgs/data_mw/man\\\\ma_128.jpg', '../data/imgs/data_mw/man\\\\ma_129.jpg', '../data/imgs/data_mw/man\\\\ma_13.jpg', '../data/imgs/data_mw/man\\\\ma_130.jpg', '../data/imgs/data_mw/man\\\\ma_131.jpg', '../data/imgs/data_mw/man\\\\ma_132.jpg', '../data/imgs/data_mw/man\\\\ma_133.jpg', '../data/imgs/data_mw/man\\\\ma_134.jpg', '../data/imgs/data_mw/man\\\\ma_135.jpg', '../data/imgs/data_mw/man\\\\ma_136.jpg', '../data/imgs/data_mw/man\\\\ma_137.jpg', '../data/imgs/data_mw/man\\\\ma_138.jpg', '../data/imgs/data_mw/man\\\\ma_139.jpg', '../data/imgs/data_mw/man\\\\ma_14.jpg', '../data/imgs/data_mw/man\\\\ma_140.jpg', '../data/imgs/data_mw/man\\\\ma_141.jpg', '../data/imgs/data_mw/man\\\\ma_142.jpg', '../data/imgs/data_mw/man\\\\ma_143.jpg', '../data/imgs/data_mw/man\\\\ma_144.jpg', '../data/imgs/data_mw/man\\\\ma_145.jpg', '../data/imgs/data_mw/man\\\\ma_146.jpg', '../data/imgs/data_mw/man\\\\ma_147.jpg', '../data/imgs/data_mw/man\\\\ma_148.jpg', '../data/imgs/data_mw/man\\\\ma_149.jpg', '../data/imgs/data_mw/man\\\\ma_15.jpg', '../data/imgs/data_mw/man\\\\ma_150.jpg', '../data/imgs/data_mw/man\\\\ma_151.jpg', '../data/imgs/data_mw/man\\\\ma_152.jpg', '../data/imgs/data_mw/man\\\\ma_153.jpg', '../data/imgs/data_mw/man\\\\ma_155.jpg', '../data/imgs/data_mw/man\\\\ma_156.jpg', '../data/imgs/data_mw/man\\\\ma_157.jpg', '../data/imgs/data_mw/man\\\\ma_158.jpg', '../data/imgs/data_mw/man\\\\ma_159.jpg', '../data/imgs/data_mw/man\\\\ma_16.jpg', '../data/imgs/data_mw/man\\\\ma_160.jpg', '../data/imgs/data_mw/man\\\\ma_161.jpg', '../data/imgs/data_mw/man\\\\ma_162.jpg', '../data/imgs/data_mw/man\\\\ma_163.jpg', '../data/imgs/data_mw/man\\\\ma_164.jpg', '../data/imgs/data_mw/man\\\\ma_165.jpg', '../data/imgs/data_mw/man\\\\ma_166.jpg', '../data/imgs/data_mw/man\\\\ma_169.jpg', '../data/imgs/data_mw/man\\\\ma_17.jpg', '../data/imgs/data_mw/man\\\\ma_170.jpg', '../data/imgs/data_mw/man\\\\ma_171.jpg', '../data/imgs/data_mw/man\\\\ma_172.jpg', '../data/imgs/data_mw/man\\\\ma_173.jpg', '../data/imgs/data_mw/man\\\\ma_174.jpg', '../data/imgs/data_mw/man\\\\ma_175.jpg', '../data/imgs/data_mw/man\\\\ma_176.jpg', '../data/imgs/data_mw/man\\\\ma_177.jpg', '../data/imgs/data_mw/man\\\\ma_178.jpg', '../data/imgs/data_mw/man\\\\ma_179.jpg', '../data/imgs/data_mw/man\\\\ma_18.jpg', '../data/imgs/data_mw/man\\\\ma_180.jpg', '../data/imgs/data_mw/man\\\\ma_181.jpg', '../data/imgs/data_mw/man\\\\ma_182.jpg', '../data/imgs/data_mw/man\\\\ma_183.jpg', '../data/imgs/data_mw/man\\\\ma_184.jpg', '../data/imgs/data_mw/man\\\\ma_185.jpg', '../data/imgs/data_mw/man\\\\ma_186.jpg', '../data/imgs/data_mw/man\\\\ma_187.jpg', '../data/imgs/data_mw/man\\\\ma_188.jpg', '../data/imgs/data_mw/man\\\\ma_189.jpg', '../data/imgs/data_mw/man\\\\ma_19.jpg', '../data/imgs/data_mw/man\\\\ma_190.jpg', '../data/imgs/data_mw/man\\\\ma_191.jpg', '../data/imgs/data_mw/man\\\\ma_192.jpg', '../data/imgs/data_mw/man\\\\ma_193.jpg', '../data/imgs/data_mw/man\\\\ma_194.jpg', '../data/imgs/data_mw/man\\\\ma_195.jpg', '../data/imgs/data_mw/man\\\\ma_196.jpg', '../data/imgs/data_mw/man\\\\ma_2.jpg', '../data/imgs/data_mw/man\\\\ma_20.jpg', '../data/imgs/data_mw/man\\\\ma_21.jpg', '../data/imgs/data_mw/man\\\\ma_22.jpg', '../data/imgs/data_mw/man\\\\ma_23.jpg', '../data/imgs/data_mw/man\\\\ma_24.jpg', '../data/imgs/data_mw/man\\\\ma_25.jpg', '../data/imgs/data_mw/man\\\\ma_26.jpg', '../data/imgs/data_mw/man\\\\ma_27.jpg', '../data/imgs/data_mw/man\\\\ma_28.jpg', '../data/imgs/data_mw/man\\\\ma_29.jpg', '../data/imgs/data_mw/man\\\\ma_3.jpg', '../data/imgs/data_mw/man\\\\ma_30.jpg', '../data/imgs/data_mw/man\\\\ma_31.jpg', '../data/imgs/data_mw/man\\\\ma_32.jpg', '../data/imgs/data_mw/man\\\\ma_34.jpg', '../data/imgs/data_mw/man\\\\ma_35.jpg', '../data/imgs/data_mw/man\\\\ma_36.jpg', '../data/imgs/data_mw/man\\\\ma_37.jpg', '../data/imgs/data_mw/man\\\\ma_38.jpg', '../data/imgs/data_mw/man\\\\ma_39.jpg', '../data/imgs/data_mw/man\\\\ma_4.jpg', '../data/imgs/data_mw/man\\\\ma_40.jpg', '../data/imgs/data_mw/man\\\\ma_41.jpg', '../data/imgs/data_mw/man\\\\ma_42.jpg', '../data/imgs/data_mw/man\\\\ma_43.jpg', '../data/imgs/data_mw/man\\\\ma_44.jpg', '../data/imgs/data_mw/man\\\\ma_45.jpg', '../data/imgs/data_mw/man\\\\ma_46.jpg', '../data/imgs/data_mw/man\\\\ma_47.jpg', '../data/imgs/data_mw/man\\\\ma_48.jpg', '../data/imgs/data_mw/man\\\\ma_49.jpg', '../data/imgs/data_mw/man\\\\ma_5.jpg', '../data/imgs/data_mw/man\\\\ma_50.jpg', '../data/imgs/data_mw/man\\\\ma_51.jpg', '../data/imgs/data_mw/man\\\\ma_53.jpg', '../data/imgs/data_mw/man\\\\ma_54.jpg', '../data/imgs/data_mw/man\\\\ma_55.jpg', '../data/imgs/data_mw/man\\\\ma_56.jpg', '../data/imgs/data_mw/man\\\\ma_57.jpg', '../data/imgs/data_mw/man\\\\ma_59.jpg', '../data/imgs/data_mw/man\\\\ma_6.jpg', '../data/imgs/data_mw/man\\\\ma_60.jpg', '../data/imgs/data_mw/man\\\\ma_61.jpg', '../data/imgs/data_mw/man\\\\ma_63.jpg', '../data/imgs/data_mw/man\\\\ma_64.jpg', '../data/imgs/data_mw/man\\\\ma_65.jpg', '../data/imgs/data_mw/man\\\\ma_66.jpg', '../data/imgs/data_mw/man\\\\ma_68.jpg', '../data/imgs/data_mw/man\\\\ma_69.jpg', '../data/imgs/data_mw/man\\\\ma_7.jpg', '../data/imgs/data_mw/man\\\\ma_70.jpg', '../data/imgs/data_mw/man\\\\ma_71.jpg', '../data/imgs/data_mw/man\\\\ma_72.jpg', '../data/imgs/data_mw/man\\\\ma_73.jpg', '../data/imgs/data_mw/man\\\\ma_74.jpg', '../data/imgs/data_mw/man\\\\ma_75.jpg', '../data/imgs/data_mw/man\\\\ma_77.jpg', '../data/imgs/data_mw/man\\\\ma_78.jpg', '../data/imgs/data_mw/man\\\\ma_79.jpg', '../data/imgs/data_mw/man\\\\ma_8.jpg', '../data/imgs/data_mw/man\\\\ma_80.jpg', '../data/imgs/data_mw/man\\\\ma_81.jpg', '../data/imgs/data_mw/man\\\\ma_82.jpg', '../data/imgs/data_mw/man\\\\ma_83.jpg', '../data/imgs/data_mw/man\\\\ma_84.jpg', '../data/imgs/data_mw/man\\\\ma_85.jpg', '../data/imgs/data_mw/man\\\\ma_86.jpg', '../data/imgs/data_mw/man\\\\ma_87.jpg', '../data/imgs/data_mw/man\\\\ma_88.jpg', '../data/imgs/data_mw/man\\\\ma_89.jpg', '../data/imgs/data_mw/man\\\\ma_9.jpg', '../data/imgs/data_mw/man\\\\ma_90.jpg', '../data/imgs/data_mw/man\\\\ma_91.jpg', '../data/imgs/data_mw/man\\\\ma_92.jpg', '../data/imgs/data_mw/man\\\\ma_93.jpg', '../data/imgs/data_mw/man\\\\ma_94.jpg', '../data/imgs/data_mw/man\\\\ma_95.jpg', '../data/imgs/data_mw/man\\\\ma_96.jpg', '../data/imgs/data_mw/man\\\\ma_97.jpg', '../data/imgs/data_mw/man\\\\ma_98.jpg', '../data/imgs/data_mw/man\\\\ma_99.jpg']\n",
      "['../data/imgs/data_mw/woman\\\\w_1.jpg', '../data/imgs/data_mw/woman\\\\w_10.jpg', '../data/imgs/data_mw/woman\\\\w_101.jpg', '../data/imgs/data_mw/woman\\\\w_102.jpg', '../data/imgs/data_mw/woman\\\\w_103.jpg', '../data/imgs/data_mw/woman\\\\w_104.jpg', '../data/imgs/data_mw/woman\\\\w_105.jpg', '../data/imgs/data_mw/woman\\\\w_106.jpg', '../data/imgs/data_mw/woman\\\\w_107.jpg', '../data/imgs/data_mw/woman\\\\w_108.jpg', '../data/imgs/data_mw/woman\\\\w_109.jpg', '../data/imgs/data_mw/woman\\\\w_11.jpg', '../data/imgs/data_mw/woman\\\\w_110.jpg', '../data/imgs/data_mw/woman\\\\w_111.jpg', '../data/imgs/data_mw/woman\\\\w_113.jpg', '../data/imgs/data_mw/woman\\\\w_114.jpg', '../data/imgs/data_mw/woman\\\\w_115.jpg', '../data/imgs/data_mw/woman\\\\w_116.jpg', '../data/imgs/data_mw/woman\\\\w_117.jpg', '../data/imgs/data_mw/woman\\\\w_118.jpg', '../data/imgs/data_mw/woman\\\\w_119.jpg', '../data/imgs/data_mw/woman\\\\w_12.jpg', '../data/imgs/data_mw/woman\\\\w_120.jpg', '../data/imgs/data_mw/woman\\\\w_121.jpg', '../data/imgs/data_mw/woman\\\\w_122.jpg', '../data/imgs/data_mw/woman\\\\w_123.jpg', '../data/imgs/data_mw/woman\\\\w_124.jpg', '../data/imgs/data_mw/woman\\\\w_125.jpg', '../data/imgs/data_mw/woman\\\\w_126.jpg', '../data/imgs/data_mw/woman\\\\w_127.jpg', '../data/imgs/data_mw/woman\\\\w_128.jpg', '../data/imgs/data_mw/woman\\\\w_129.jpg', '../data/imgs/data_mw/woman\\\\w_13.jpg', '../data/imgs/data_mw/woman\\\\w_130.jpg', '../data/imgs/data_mw/woman\\\\w_132.jpg', '../data/imgs/data_mw/woman\\\\w_133.jpg', '../data/imgs/data_mw/woman\\\\w_136.jpg', '../data/imgs/data_mw/woman\\\\w_137.jpg', '../data/imgs/data_mw/woman\\\\w_138.jpg', '../data/imgs/data_mw/woman\\\\w_139.jpg', '../data/imgs/data_mw/woman\\\\w_14.jpg', '../data/imgs/data_mw/woman\\\\w_140.jpg', '../data/imgs/data_mw/woman\\\\w_141.jpg', '../data/imgs/data_mw/woman\\\\w_142.jpg', '../data/imgs/data_mw/woman\\\\w_143.jpg', '../data/imgs/data_mw/woman\\\\w_146.jpg', '../data/imgs/data_mw/woman\\\\w_147.jpg', '../data/imgs/data_mw/woman\\\\w_15.jpg', '../data/imgs/data_mw/woman\\\\w_150.jpg', '../data/imgs/data_mw/woman\\\\w_151.jpg', '../data/imgs/data_mw/woman\\\\w_152.jpg', '../data/imgs/data_mw/woman\\\\w_153.jpg', '../data/imgs/data_mw/woman\\\\w_154.jpg', '../data/imgs/data_mw/woman\\\\w_155.jpg', '../data/imgs/data_mw/woman\\\\w_156.jpg', '../data/imgs/data_mw/woman\\\\w_157.jpg', '../data/imgs/data_mw/woman\\\\w_158.jpg', '../data/imgs/data_mw/woman\\\\w_159.jpg', '../data/imgs/data_mw/woman\\\\w_16.jpg', '../data/imgs/data_mw/woman\\\\w_160.jpg', '../data/imgs/data_mw/woman\\\\w_161.jpg', '../data/imgs/data_mw/woman\\\\w_162.jpg', '../data/imgs/data_mw/woman\\\\w_164.jpg', '../data/imgs/data_mw/woman\\\\w_165.jpg', '../data/imgs/data_mw/woman\\\\w_166.jpg', '../data/imgs/data_mw/woman\\\\w_168.jpg', '../data/imgs/data_mw/woman\\\\w_169.jpg', '../data/imgs/data_mw/woman\\\\w_17.jpg', '../data/imgs/data_mw/woman\\\\w_173.jpg', '../data/imgs/data_mw/woman\\\\w_176.jpg', '../data/imgs/data_mw/woman\\\\w_177.jpg', '../data/imgs/data_mw/woman\\\\w_179.jpg', '../data/imgs/data_mw/woman\\\\w_18.jpg', '../data/imgs/data_mw/woman\\\\w_181.jpg', '../data/imgs/data_mw/woman\\\\w_183.jpg', '../data/imgs/data_mw/woman\\\\w_184.jpg', '../data/imgs/data_mw/woman\\\\w_185.jpg', '../data/imgs/data_mw/woman\\\\w_186.jpg', '../data/imgs/data_mw/woman\\\\w_187.jpg', '../data/imgs/data_mw/woman\\\\w_189.jpg', '../data/imgs/data_mw/woman\\\\w_19.jpg', '../data/imgs/data_mw/woman\\\\w_191.jpg', '../data/imgs/data_mw/woman\\\\w_192.jpg', '../data/imgs/data_mw/woman\\\\w_193.jpg', '../data/imgs/data_mw/woman\\\\w_194.jpg', '../data/imgs/data_mw/woman\\\\w_2.jpg', '../data/imgs/data_mw/woman\\\\w_20.jpg', '../data/imgs/data_mw/woman\\\\w_21.jpg', '../data/imgs/data_mw/woman\\\\w_24.jpg', '../data/imgs/data_mw/woman\\\\w_26.jpg', '../data/imgs/data_mw/woman\\\\w_27.jpg', '../data/imgs/data_mw/woman\\\\w_3.jpg', '../data/imgs/data_mw/woman\\\\w_30.jpg', '../data/imgs/data_mw/woman\\\\w_32.jpg', '../data/imgs/data_mw/woman\\\\w_33.jpg', '../data/imgs/data_mw/woman\\\\w_34.jpg', '../data/imgs/data_mw/woman\\\\w_35.jpg', '../data/imgs/data_mw/woman\\\\w_36.jpg', '../data/imgs/data_mw/woman\\\\w_37.jpg', '../data/imgs/data_mw/woman\\\\w_38.jpg', '../data/imgs/data_mw/woman\\\\w_39.jpg', '../data/imgs/data_mw/woman\\\\w_40.jpg', '../data/imgs/data_mw/woman\\\\w_41.jpg', '../data/imgs/data_mw/woman\\\\w_43.jpg', '../data/imgs/data_mw/woman\\\\w_45.jpg', '../data/imgs/data_mw/woman\\\\w_46.jpg', '../data/imgs/data_mw/woman\\\\w_49.jpg', '../data/imgs/data_mw/woman\\\\w_50.jpg', '../data/imgs/data_mw/woman\\\\w_51.jpg', '../data/imgs/data_mw/woman\\\\w_52.jpg', '../data/imgs/data_mw/woman\\\\w_54.jpg', '../data/imgs/data_mw/woman\\\\w_55.jpg', '../data/imgs/data_mw/woman\\\\w_56.jpg', '../data/imgs/data_mw/woman\\\\w_57.jpg', '../data/imgs/data_mw/woman\\\\w_58.jpg', '../data/imgs/data_mw/woman\\\\w_59.jpg', '../data/imgs/data_mw/woman\\\\w_60.jpg', '../data/imgs/data_mw/woman\\\\w_61.jpg', '../data/imgs/data_mw/woman\\\\w_62.jpg', '../data/imgs/data_mw/woman\\\\w_63.jpg', '../data/imgs/data_mw/woman\\\\w_64.jpg', '../data/imgs/data_mw/woman\\\\w_65.jpg', '../data/imgs/data_mw/woman\\\\w_66.jpg', '../data/imgs/data_mw/woman\\\\w_67.jpg', '../data/imgs/data_mw/woman\\\\w_69.jpg', '../data/imgs/data_mw/woman\\\\w_70.jpg', '../data/imgs/data_mw/woman\\\\w_71.jpg', '../data/imgs/data_mw/woman\\\\w_72.jpg', '../data/imgs/data_mw/woman\\\\w_73.jpg', '../data/imgs/data_mw/woman\\\\w_74.jpg', '../data/imgs/data_mw/woman\\\\w_75.jpg', '../data/imgs/data_mw/woman\\\\w_76.jpg', '../data/imgs/data_mw/woman\\\\w_77.jpg', '../data/imgs/data_mw/woman\\\\w_78.jpg', '../data/imgs/data_mw/woman\\\\w_80.jpg', '../data/imgs/data_mw/woman\\\\w_81.jpg', '../data/imgs/data_mw/woman\\\\w_83.jpg', '../data/imgs/data_mw/woman\\\\w_84.jpg', '../data/imgs/data_mw/woman\\\\w_85.jpg', '../data/imgs/data_mw/woman\\\\w_88.jpg', '../data/imgs/data_mw/woman\\\\w_89.jpg', '../data/imgs/data_mw/woman\\\\w_9.jpg', '../data/imgs/data_mw/woman\\\\w_90.jpg', '../data/imgs/data_mw/woman\\\\w_91.jpg', '../data/imgs/data_mw/woman\\\\w_92.jpg', '../data/imgs/data_mw/woman\\\\w_93.jpg', '../data/imgs/data_mw/woman\\\\w_94.jpg', '../data/imgs/data_mw/woman\\\\w_95.jpg', '../data/imgs/data_mw/woman\\\\w_96.jpg', '../data/imgs/data_mw/woman\\\\w_97.jpg', '../data/imgs/data_mw/woman\\\\w_98.jpg', '../data/imgs/data_mw/woman\\\\w_99.jpg']\n"
     ]
    }
   ],
   "source": [
    "man_file_299_x, man_file_299_y = load_images_and_labels(man_file, 0, 299)\n",
    "wom_file_299_x, wom_file_299_y = load_images_and_labels(wom_file, 1, 299)\n",
    "man_file_224_x, man_file_224_y = load_images_and_labels(man_file, 0, 224)\n",
    "wom_file_224_x, wom_file_224_y = load_images_and_labels(wom_file, 1, 224)"
   ]
  },
  {
   "cell_type": "code",
   "execution_count": 5,
   "metadata": {},
   "outputs": [],
   "source": [
    "images_299 = man_file_299_x + wom_file_299_x\n",
    "labels = man_file_299_y + wom_file_299_y\n",
    "vector_299 = np.asarray([image.img_to_array(img) for img in images_299])\n",
    "\n",
    "images_224 = man_file_224_x + wom_file_224_x\n",
    "vector_224 = np.asarray([image.img_to_array(img) for img in images_224])"
   ]
  },
  {
   "cell_type": "code",
   "execution_count": 6,
   "metadata": {},
   "outputs": [
    {
     "name": "stdout",
     "output_type": "stream",
     "text": [
      "(337, 299, 299, 3)\n",
      "(337, 224, 224, 3)\n"
     ]
    }
   ],
   "source": [
    "print(vector_299.shape)\n",
    "print(vector_224.shape)"
   ]
  },
  {
   "cell_type": "markdown",
   "metadata": {},
   "source": [
    "### 머신러닝을 위한 각 모델별 예측"
   ]
  },
  {
   "cell_type": "code",
   "execution_count": 11,
   "metadata": {},
   "outputs": [],
   "source": [
    "input_for_inception_v3 = (inception_v3.preprocess_input(vector_299))\n",
    "input_for_resnet50 = (resnet50.preprocess_input(vector_224))\n",
    "input_for_mobilenet = (mobilenet.preprocess_input(vector_224))"
   ]
  },
  {
   "cell_type": "code",
   "execution_count": 12,
   "metadata": {},
   "outputs": [
    {
     "name": "stdout",
     "output_type": "stream",
     "text": [
      "11/11 [==============================] - 5s 119ms/step\n",
      "11/11 [==============================] - 2s 59ms/step\n",
      "11/11 [==============================] - 1s 20ms/step\n"
     ]
    }
   ],
   "source": [
    "model_inception_ml_input = model_inception.predict(input_for_inception_v3)\n",
    "model_res_ml_input = model_res.predict(input_for_resnet50)\n",
    "model_mobile_ml_input = model_mobile.predict(input_for_mobilenet)"
   ]
  },
  {
   "cell_type": "code",
   "execution_count": 13,
   "metadata": {},
   "outputs": [],
   "source": [
    "pretrained_inputs = [model_inception_ml_input, model_res_ml_input, model_mobile_ml_input]"
   ]
  },
  {
   "cell_type": "markdown",
   "metadata": {},
   "source": [
    "### 각 머신러닝 모델 돌려보고 결과 확인"
   ]
  },
  {
   "cell_type": "code",
   "execution_count": 14,
   "metadata": {},
   "outputs": [],
   "source": [
    "import warnings\n",
    "\n",
    "from sklearn.tree import DecisionTreeClassifier\n",
    "from sklearn.ensemble import AdaBoostClassifier, RandomForestClassifier\n",
    "from sklearn.linear_model import LogisticRegression\n",
    "from sklearn.svm import SVC\n",
    "from sklearn.naive_bayes import GaussianNB\n",
    "from sklearn.tree import DecisionTreeClassifier\n",
    "from sklearn.ensemble import RandomForestClassifier\n",
    "from sklearn.neighbors import KNeighborsClassifier\n",
    "from sklearn.ensemble import GradientBoostingClassifier\n",
    "from sklearn.ensemble import AdaBoostClassifier\n",
    "from sklearn.ensemble import ExtraTreesClassifier\n",
    "from sklearn.ensemble import HistGradientBoostingClassifier\n",
    "from sklearn.discriminant_analysis import LinearDiscriminantAnalysis\n",
    "from sklearn.discriminant_analysis import QuadraticDiscriminantAnalysis\n",
    "from sklearn.ensemble import BaggingClassifier\n",
    "from sklearn.linear_model import RidgeClassifier\n",
    "from sklearn.linear_model import Perceptron\n",
    "from sklearn.neural_network import MLPClassifier\n",
    "from sklearn.gaussian_process import GaussianProcessClassifier\n",
    "from sklearn.naive_bayes import ComplementNB\n",
    "from sklearn.naive_bayes import BernoulliNB\n",
    "from sklearn.svm import NuSVC\n",
    "from sklearn.gaussian_process import GaussianProcessClassifier\n",
    "from sklearn.neural_network import MLPClassifier\n",
    "from sklearn.svm import LinearSVC\n",
    "import xgboost as xgb\n",
    "\n",
    "from sklearn.metrics import f1_score\n",
    "import matplotlib.pyplot as plt\n",
    "\n",
    "warnings.filterwarnings(\"ignore\", category=FutureWarning)\n",
    "warnings.filterwarnings(\"ignore\", category=UserWarning)"
   ]
  },
  {
   "cell_type": "code",
   "execution_count": 15,
   "metadata": {},
   "outputs": [],
   "source": [
    "from sklearn.model_selection import train_test_split"
   ]
  },
  {
   "cell_type": "code",
   "execution_count": 16,
   "metadata": {},
   "outputs": [
    {
     "name": "stdout",
     "output_type": "stream",
     "text": [
      "incepti,LinearSVC()              ,0.8088,0.7636\n",
      "\n",
      "incepti,MLPClassifier()          ,0.8382,0.8000\n",
      "\n",
      "incepti,GaussianProcessClassifier,0.7500,0.6792\n",
      "\n",
      "incepti,LogisticRegression()     ,0.8382,0.8070\n",
      "\n",
      "incepti,SVC(probability=True)    ,0.8529,0.8214\n",
      "\n",
      "incepti,GaussianNB()             ,0.8088,0.7719\n",
      "\n",
      "incepti,DecisionTreeClassifier() ,0.7794,0.7273\n",
      "\n",
      "incepti,RandomForestClassifier() ,0.8382,0.8000\n",
      "\n",
      "incepti,KNeighborsClassifier()   ,0.7500,0.6531\n",
      "\n",
      "incepti,GradientBoostingClassifie,0.8382,0.8000\n",
      "\n",
      "incepti,AdaBoostClassifier()     ,0.8382,0.7925\n",
      "\n",
      "incepti,ExtraTreesClassifier()   ,0.8971,0.8727\n",
      "\n",
      "incepti,HistGradientBoostingClass,0.8824,0.8519\n",
      "\n",
      "incepti,LinearDiscriminantAnalysi,0.8676,0.8525\n",
      "\n",
      "incepti,QuadraticDiscriminantAnal,0.5735,0.4912\n",
      "\n",
      "incepti,BaggingClassifier()      ,0.8382,0.7843\n",
      "\n",
      "incepti,RidgeClassifier()        ,0.7941,0.7407\n",
      "\n",
      "incepti,Perceptron()             ,0.8824,0.8519\n",
      "\n",
      "incepti,MLPClassifier()          ,0.8529,0.8148\n",
      "\n",
      "incepti,GaussianProcessClassifier,0.7500,0.6792\n",
      "\n",
      "incepti,ComplementNB()           ,0.8235,0.7931\n",
      "\n",
      "incepti,BernoulliNB()            ,0.6618,0.6761\n",
      "\n",
      "incepti,NuSVC()                  ,0.8382,0.8070\n",
      "\n",
      "incepti,XGBClassifier(base_score=,0.8529,0.8214\n",
      "\n",
      "res50  ,LinearSVC()              ,0.7353,0.7273\n",
      "\n",
      "res50  ,MLPClassifier()          ,0.6324,0.5763\n",
      "\n",
      "res50  ,GaussianProcessClassifier,0.5735,0.5538\n",
      "\n",
      "res50  ,LogisticRegression()     ,0.6912,0.6769\n",
      "\n",
      "res50  ,SVC(probability=True)    ,0.6324,0.2424\n",
      "\n",
      "res50  ,GaussianNB()             ,0.5441,0.5373\n",
      "\n",
      "res50  ,DecisionTreeClassifier() ,0.5735,0.5397\n",
      "\n",
      "res50  ,RandomForestClassifier() ,0.7059,0.6667\n",
      "\n",
      "res50  ,KNeighborsClassifier()   ,0.5882,0.5625\n",
      "\n",
      "res50  ,GradientBoostingClassifie,0.6618,0.6462\n",
      "\n",
      "res50  ,AdaBoostClassifier()     ,0.5882,0.5172\n",
      "\n",
      "res50  ,ExtraTreesClassifier()   ,0.6765,0.6452\n",
      "\n",
      "res50  ,HistGradientBoostingClass,0.6912,0.6769\n",
      "\n",
      "res50  ,LinearDiscriminantAnalysi,0.5000,0.4138\n",
      "\n",
      "res50  ,QuadraticDiscriminantAnal,0.6176,0.5806\n",
      "\n",
      "res50  ,BaggingClassifier()      ,0.6471,0.5556\n",
      "\n",
      "res50  ,RidgeClassifier()        ,0.7059,0.6774\n",
      "\n",
      "res50  ,Perceptron()             ,0.5735,0.0000\n",
      "\n",
      "res50  ,MLPClassifier()          ,0.6029,0.5263\n",
      "\n",
      "res50  ,GaussianProcessClassifier,0.5735,0.5538\n",
      "\n",
      "res50  ,ComplementNB()           ,0.6029,0.6197\n",
      "\n",
      "res50  ,BernoulliNB()            ,0.5882,0.5882\n",
      "\n",
      "res50  ,NuSVC()                  ,0.7206,0.7077\n",
      "\n",
      "res50  ,XGBClassifier(base_score=,0.7059,0.6875\n",
      "\n",
      "mobile ,LinearSVC()              ,0.8529,0.8214\n",
      "\n",
      "mobile ,MLPClassifier()          ,0.8824,0.8571\n",
      "\n",
      "mobile ,GaussianProcessClassifier,0.7647,0.7037\n",
      "\n",
      "mobile ,LogisticRegression()     ,0.9118,0.8929\n",
      "\n",
      "mobile ,SVC(probability=True)    ,0.8824,0.8519\n",
      "\n",
      "mobile ,GaussianNB()             ,0.8235,0.7778\n",
      "\n",
      "mobile ,DecisionTreeClassifier() ,0.6912,0.6441\n",
      "\n",
      "mobile ,RandomForestClassifier() ,0.8088,0.7234\n",
      "\n",
      "mobile ,KNeighborsClassifier()   ,0.6765,0.5417\n",
      "\n",
      "mobile ,GradientBoostingClassifie,0.7206,0.6545\n",
      "\n",
      "mobile ,AdaBoostClassifier()     ,0.7500,0.7213\n",
      "\n",
      "mobile ,ExtraTreesClassifier()   ,0.8382,0.7843\n",
      "\n",
      "mobile ,HistGradientBoostingClass,0.7941,0.7667\n",
      "\n",
      "mobile ,LinearDiscriminantAnalysi,0.8382,0.8136\n",
      "\n",
      "mobile ,QuadraticDiscriminantAnal,0.5882,0.5333\n",
      "\n",
      "mobile ,BaggingClassifier()      ,0.6471,0.5000\n",
      "\n",
      "mobile ,RidgeClassifier()        ,0.8088,0.7797\n",
      "\n",
      "mobile ,Perceptron()             ,0.8382,0.7843\n",
      "\n",
      "mobile ,MLPClassifier()          ,0.8824,0.8519\n",
      "\n",
      "mobile ,GaussianProcessClassifier,0.7647,0.7037\n",
      "\n",
      "mobile ,ComplementNB()           ,0.8676,0.8302\n",
      "\n",
      "mobile ,BernoulliNB()            ,0.8529,0.8276\n",
      "\n",
      "mobile ,NuSVC()                  ,0.8824,0.8462\n",
      "\n",
      "mobile ,XGBClassifier(base_score=,0.7647,0.7241\n",
      "\n"
     ]
    }
   ],
   "source": [
    "models = [LinearSVC() ,MLPClassifier() ,GaussianProcessClassifier() ,LogisticRegression(), SVC(probability=True), GaussianNB(), DecisionTreeClassifier(),\n",
    "          RandomForestClassifier(), KNeighborsClassifier(), GradientBoostingClassifier(),\n",
    "          AdaBoostClassifier(), ExtraTreesClassifier(), HistGradientBoostingClassifier(),\n",
    "          LinearDiscriminantAnalysis(), QuadraticDiscriminantAnalysis(), BaggingClassifier(),\n",
    "          RidgeClassifier(), Perceptron(), MLPClassifier(), GaussianProcessClassifier(),\n",
    "          ComplementNB(), BernoulliNB(), NuSVC(), xgb.XGBClassifier()]\n",
    "\n",
    "best_model_score = 0\n",
    "\n",
    "with open('1.transfer_with_ML_result.csv', 'a') as f:  # 'a' 모드는 append 모드입니다.\n",
    "            f.write('pretrain_name,ml_name,정확도,f1_score')\n",
    "\n",
    "for name, X in zip(['inception','res50','mobile'],pretrained_inputs):\n",
    "    x_train, x_test, y_train, y_test = train_test_split(X, labels,\n",
    "                                                        test_size=0.2, random_state=42)\n",
    "    for model in models:\n",
    "        model.fit(x_train,y_train)\n",
    "        model_score = model.score(x_test,y_test)\n",
    "        model_name = str(model)[:25].ljust(25)\n",
    "        f1 = f1_score(y_test, model.predict(x_test))\n",
    "        result_save = f'{name[:7].ljust(7)},{model_name},{model_score:0.4f},{f1:0.4f}\\n'\n",
    "        print(result_save)\n",
    "\n",
    "        with open('1.transfer_with_ML_result.csv', 'a') as f:  # 'a' 모드는 append 모드입니다.\n",
    "            f.write(result_save)"
   ]
  },
  {
   "cell_type": "markdown",
   "metadata": {},
   "source": [
    "### 전이 학습 with 머신러닝"
   ]
  },
  {
   "cell_type": "code",
   "execution_count": 2,
   "metadata": {},
   "outputs": [],
   "source": [
    "import pandas as pd\n",
    "\n",
    "metrics_pandas = pd.read_csv('1_2_transfer_with_ML_2_result.csv')"
   ]
  },
  {
   "cell_type": "code",
   "execution_count": 3,
   "metadata": {},
   "outputs": [
    {
     "data": {
      "text/html": [
       "<div>\n",
       "<style scoped>\n",
       "    .dataframe tbody tr th:only-of-type {\n",
       "        vertical-align: middle;\n",
       "    }\n",
       "\n",
       "    .dataframe tbody tr th {\n",
       "        vertical-align: top;\n",
       "    }\n",
       "\n",
       "    .dataframe thead th {\n",
       "        text-align: right;\n",
       "    }\n",
       "</style>\n",
       "<table border=\"1\" class=\"dataframe\">\n",
       "  <thead>\n",
       "    <tr style=\"text-align: right;\">\n",
       "      <th></th>\n",
       "      <th>pretrain_name</th>\n",
       "      <th>ml_name</th>\n",
       "      <th>정확도</th>\n",
       "      <th>f1_score</th>\n",
       "    </tr>\n",
       "  </thead>\n",
       "  <tbody>\n",
       "    <tr>\n",
       "      <th>0</th>\n",
       "      <td>incepti</td>\n",
       "      <td>LinearSVC()</td>\n",
       "      <td>0.8088</td>\n",
       "      <td>0.7636</td>\n",
       "    </tr>\n",
       "    <tr>\n",
       "      <th>1</th>\n",
       "      <td>incepti</td>\n",
       "      <td>MLPClassifier()</td>\n",
       "      <td>0.8382</td>\n",
       "      <td>0.8000</td>\n",
       "    </tr>\n",
       "    <tr>\n",
       "      <th>2</th>\n",
       "      <td>incepti</td>\n",
       "      <td>GaussianProcessClassifier</td>\n",
       "      <td>0.7500</td>\n",
       "      <td>0.6792</td>\n",
       "    </tr>\n",
       "    <tr>\n",
       "      <th>3</th>\n",
       "      <td>incepti</td>\n",
       "      <td>LogisticRegression()</td>\n",
       "      <td>0.8382</td>\n",
       "      <td>0.8070</td>\n",
       "    </tr>\n",
       "    <tr>\n",
       "      <th>4</th>\n",
       "      <td>incepti</td>\n",
       "      <td>SVC(probability=True)</td>\n",
       "      <td>0.8529</td>\n",
       "      <td>0.8214</td>\n",
       "    </tr>\n",
       "    <tr>\n",
       "      <th>...</th>\n",
       "      <td>...</td>\n",
       "      <td>...</td>\n",
       "      <td>...</td>\n",
       "      <td>...</td>\n",
       "    </tr>\n",
       "    <tr>\n",
       "      <th>67</th>\n",
       "      <td>mobile</td>\n",
       "      <td>GaussianProcessClassifier</td>\n",
       "      <td>0.7647</td>\n",
       "      <td>0.7037</td>\n",
       "    </tr>\n",
       "    <tr>\n",
       "      <th>68</th>\n",
       "      <td>mobile</td>\n",
       "      <td>ComplementNB()</td>\n",
       "      <td>0.8676</td>\n",
       "      <td>0.8302</td>\n",
       "    </tr>\n",
       "    <tr>\n",
       "      <th>69</th>\n",
       "      <td>mobile</td>\n",
       "      <td>BernoulliNB()</td>\n",
       "      <td>0.8529</td>\n",
       "      <td>0.8276</td>\n",
       "    </tr>\n",
       "    <tr>\n",
       "      <th>70</th>\n",
       "      <td>mobile</td>\n",
       "      <td>NuSVC()</td>\n",
       "      <td>0.8824</td>\n",
       "      <td>0.8462</td>\n",
       "    </tr>\n",
       "    <tr>\n",
       "      <th>71</th>\n",
       "      <td>mobile</td>\n",
       "      <td>XGBClassifier(base_score=</td>\n",
       "      <td>0.7647</td>\n",
       "      <td>0.7241</td>\n",
       "    </tr>\n",
       "  </tbody>\n",
       "</table>\n",
       "<p>72 rows × 4 columns</p>\n",
       "</div>"
      ],
      "text/plain": [
       "   pretrain_name                    ml_name     정확도  f1_score\n",
       "0        incepti  LinearSVC()                0.8088    0.7636\n",
       "1        incepti  MLPClassifier()            0.8382    0.8000\n",
       "2        incepti  GaussianProcessClassifier  0.7500    0.6792\n",
       "3        incepti  LogisticRegression()       0.8382    0.8070\n",
       "4        incepti  SVC(probability=True)      0.8529    0.8214\n",
       "..           ...                        ...     ...       ...\n",
       "67       mobile   GaussianProcessClassifier  0.7647    0.7037\n",
       "68       mobile   ComplementNB()             0.8676    0.8302\n",
       "69       mobile   BernoulliNB()              0.8529    0.8276\n",
       "70       mobile   NuSVC()                    0.8824    0.8462\n",
       "71       mobile   XGBClassifier(base_score=  0.7647    0.7241\n",
       "\n",
       "[72 rows x 4 columns]"
      ]
     },
     "execution_count": 3,
     "metadata": {},
     "output_type": "execute_result"
    }
   ],
   "source": [
    "metrics_pandas"
   ]
  },
  {
   "cell_type": "code",
   "execution_count": 42,
   "metadata": {},
   "outputs": [
    {
     "name": "stdout",
     "output_type": "stream",
     "text": [
      "최고의 정확도의 인덱스 51\n",
      "최고의 f1 스코어 인덱스 51\n",
      "\n",
      "최고 성능\n",
      " pretrain_name                      mobile \n",
      "ml_name          LogisticRegression()     \n",
      "정확도                                 0.9118\n",
      "f1_score                            0.8929\n",
      "Name: 51, dtype: object\n"
     ]
    }
   ],
   "source": [
    "print('최고의 정확도의 인덱스',metrics_pandas.iloc[metrics_pandas['정확도'].argmax()].name)\n",
    "print('최고의 f1 스코어 인덱스',metrics_pandas.iloc[metrics_pandas['f1_score'].argmax()].name)\n",
    "print('\\n최고 성능\\n',metrics_pandas.iloc[metrics_pandas['f1_score'].argmax()])\n",
    "\n",
    "### 모바일 넷의 로지스틱 회귀 우승! ###"
   ]
  },
  {
   "cell_type": "markdown",
   "metadata": {},
   "source": [
    "# 모바일 넷의 로지스틱 회귀 우승! #"
   ]
  }
 ],
 "metadata": {
  "kernelspec": {
   "display_name": "tensor-gpu",
   "language": "python",
   "name": "python3"
  },
  "language_info": {
   "codemirror_mode": {
    "name": "ipython",
    "version": 3
   },
   "file_extension": ".py",
   "mimetype": "text/x-python",
   "name": "python",
   "nbconvert_exporter": "python",
   "pygments_lexer": "ipython3",
   "version": "3.10.14"
  }
 },
 "nbformat": 4,
 "nbformat_minor": 2
}
