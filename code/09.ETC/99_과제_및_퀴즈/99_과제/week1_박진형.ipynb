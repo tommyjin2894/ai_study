{
  "nbformat": 4,
  "nbformat_minor": 0,
  "metadata": {
    "colab": {
      "provenance": []
    },
    "kernelspec": {
      "name": "python3",
      "display_name": "Python 3"
    },
    "language_info": {
      "name": "python"
    }
  },
  "cells": [
    {
      "cell_type": "markdown",
      "source": [
        "WEEKLY QUIZ WEEK1 위클리퀴즈 1주차입니다.\n",
        "\n",
        "좌측상단에 파일->Drive에 사본저장->구글 드라이브에 있는 사본으로 문제푸신후 실행 제출부탁드립니다.\n",
        "\n",
        "제출시 상단의 노트제목은 \"week1_이름\"으로 변경하시고 우측상단에 공유 눌러서 링크복사 후에 링크올리시면됩니다."
      ],
      "metadata": {
        "id": "9g8mYPwDCeAa"
      }
    },
    {
      "cell_type": "markdown",
      "source": [
        "1.다음 문장에 자신의 이름을 넣어서출력해주세요 \"안녕하세요 제이름은 '...' 입니다.\""
      ],
      "metadata": {
        "id": "dJEb5G6pDMDw"
      }
    },
    {
      "cell_type": "code",
      "execution_count": null,
      "metadata": {
        "id": "qnw__m56_tZx",
        "colab": {
          "base_uri": "https://localhost:8080/"
        },
        "outputId": "b9c4008f-2fd9-4735-fac5-0bec4a6f01a1"
      },
      "outputs": [
        {
          "output_type": "stream",
          "name": "stdout",
          "text": [
            "안녕하세요 제이름은 '박진형' 입니다.\n"
          ]
        }
      ],
      "source": [
        "my_name = \"박진형\"\n",
        "print(f'안녕하세요 제이름은 \\'{my_name}\\' 입니다.')"
      ]
    },
    {
      "cell_type": "markdown",
      "source": [
        "2.if문을 이용해 숫자를 입력받아, 해당 숫자가 짝수인지 홀수인지 판별하여 출력하는 프로그램을 작성해보세요."
      ],
      "metadata": {
        "id": "9R8Zh9bJCdj0"
      }
    },
    {
      "cell_type": "code",
      "source": [
        "in_num = int(input('숫자를 입력하시오>:'))\n",
        "\n",
        "if in_num % 2 != 0:\n",
        "  print('홀수 입니다.')\n",
        "else:\n",
        "  print('짝수 입니다.')"
      ],
      "metadata": {
        "id": "fu5qz_XhCekz",
        "colab": {
          "base_uri": "https://localhost:8080/"
        },
        "outputId": "fbf5dd19-0d14-4466-8a6d-175b48a416ba"
      },
      "execution_count": null,
      "outputs": [
        {
          "output_type": "stream",
          "name": "stdout",
          "text": [
            "숫자를 입력하시오>:55\n",
            "홀수 입니다.\n"
          ]
        }
      ]
    },
    {
      "cell_type": "markdown",
      "source": [
        "3.for문을 이용해 숫자를 입력받아서 해당 숫자의 구구단을 출력하는 프로그램을 작성해보세요.\n"
      ],
      "metadata": {
        "id": "FHeSpWHqCvZo"
      }
    },
    {
      "cell_type": "code",
      "source": [
        "in_gugu = int(input('구구단을 외워 볼까요? 몇단을 외워 볼까요?: '))\n",
        "for i in range(1,10):\n",
        "  print(f'{in_gugu} x {i} = {in_gugu * i}')"
      ],
      "metadata": {
        "id": "UBCaaqQiCvH5",
        "colab": {
          "base_uri": "https://localhost:8080/"
        },
        "outputId": "ca3d3dc7-ed8f-405c-ae5d-30e820631e94"
      },
      "execution_count": null,
      "outputs": [
        {
          "output_type": "stream",
          "name": "stdout",
          "text": [
            "구구단을 외워 볼까요? 몇단을 외워 볼까요?: 3\n",
            "3 x 1 = 3\n",
            "3 x 2 = 6\n",
            "3 x 3 = 9\n",
            "3 x 4 = 12\n",
            "3 x 5 = 15\n",
            "3 x 6 = 18\n",
            "3 x 7 = 21\n",
            "3 x 8 = 24\n",
            "3 x 9 = 27\n"
          ]
        }
      ]
    },
    {
      "cell_type": "markdown",
      "source": [
        "4.list안 점수중 가장 높은 점수를 출력해주세요 \"가장 높은 점수는'...'입니다.\""
      ],
      "metadata": {
        "id": "972-LNN_CwtB"
      }
    },
    {
      "cell_type": "code",
      "source": [
        "scores = [85, 90, 75, 95, 80]\n",
        "print(f'가장 높은 점수는\\'{max(scores)}\\'입니다.')"
      ],
      "metadata": {
        "id": "D66ayM8sCwdV",
        "colab": {
          "base_uri": "https://localhost:8080/"
        },
        "outputId": "a8a04f12-970d-48fb-baee-2758a9c16b34"
      },
      "execution_count": null,
      "outputs": [
        {
          "output_type": "stream",
          "name": "stdout",
          "text": [
            "가장 높은 점수는'95'입니다.\n"
          ]
        }
      ]
    },
    {
      "cell_type": "markdown",
      "source": [
        "5.1부터 10까지의 숫자 중에서 짝수의 합을 구하는 프로그램을 while문을 이용하여 작성해보세요."
      ],
      "metadata": {
        "id": "FWFIuA_QCwEE"
      }
    },
    {
      "cell_type": "code",
      "source": [
        "i = 1\n",
        "sum = 0\n",
        "while i <= 10:\n",
        "  if i % 2 == 0:\n",
        "    sum += i\n",
        "  i += 1\n",
        "print(f'1부터 10까지의 숫자 중에서 짝수의 합 : {sum}')"
      ],
      "metadata": {
        "id": "y8CyV5ePKfU-",
        "colab": {
          "base_uri": "https://localhost:8080/"
        },
        "outputId": "d68fe186-dd4e-49b7-9c66-ccf41a7a47de"
      },
      "execution_count": null,
      "outputs": [
        {
          "output_type": "stream",
          "name": "stdout",
          "text": [
            "1부터 10까지의 숫자 중에서 짝수의 합 :30\n"
          ]
        }
      ]
    }
  ]
}