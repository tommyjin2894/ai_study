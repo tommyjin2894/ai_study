{
  "nbformat": 4,
  "nbformat_minor": 0,
  "metadata": {
    "colab": {
      "provenance": []
    },
    "kernelspec": {
      "name": "python3",
      "display_name": "Python 3"
    },
    "language_info": {
      "name": "python"
    }
  },
  "cells": [
    {
      "cell_type": "markdown",
      "source": [
        "WEEKLY QUIZ WEEK4 위클리퀴즈 4주차입니다.\n",
        "\n",
        "좌측상단에 파일->Drive에 사본저장->구글 드라이브에 있는 사본으로 문제푸신후 실행 제출부탁드립니다.\n",
        "\n",
        "제출시 상단의 노트제목은 \"week3_이름\"으로 변경하시고 우측상단에 공유 눌러서 링크복사 후에 링크올리시면됩니다.\n",
        "![image.png](data:image/png;base64,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)\n",
        "\n",
        "금일 11시 59분까지 제출해주세요"
      ],
      "metadata": {
        "id": "lrDAwPwIGwF6"
      }
    },
    {
      "cell_type": "markdown",
      "source": [
        "1.다음 조건에 맞게 출력해주세요\n",
        "\n",
        "    scikit-learn 라이브러리를 사용하여 붓꽃(Iris) 데이터셋을 불러오기\n",
        "    데이터셋을 학습용과 테스트용으로 나누기(테스트데이터셋 20%)"
      ],
      "metadata": {
        "id": "q863wwXPG3Pk"
      }
    },
    {
      "cell_type": "code",
      "source": [
        "from sklearn.datasets import load_iris\n",
        "from sklearn.model_selection import train_test_split"
      ],
      "metadata": {
        "id": "vldhfnvxiAO1"
      },
      "execution_count": null,
      "outputs": []
    },
    {
      "cell_type": "code",
      "source": [
        "iris = load_iris()\n",
        "iris.keys()"
      ],
      "metadata": {
        "colab": {
          "base_uri": "https://localhost:8080/"
        },
        "id": "QD1E1v3piB-g",
        "outputId": "bd379a32-3e43-4e8f-b128-2d759f4e3b86"
      },
      "execution_count": null,
      "outputs": [
        {
          "output_type": "execute_result",
          "data": {
            "text/plain": [
              "dict_keys(['data', 'target', 'frame', 'target_names', 'DESCR', 'feature_names', 'filename', 'data_module'])"
            ]
          },
          "metadata": {},
          "execution_count": 2
        }
      ]
    },
    {
      "cell_type": "code",
      "execution_count": null,
      "metadata": {
        "id": "QUb0Y8mlGcHq",
        "outputId": "5535c57f-826f-4a56-9153-66e09e62f8a7",
        "colab": {
          "base_uri": "https://localhost:8080/"
        }
      },
      "outputs": [
        {
          "output_type": "stream",
          "name": "stdout",
          "text": [
            "x_train:  (120, 4)\n",
            "x_test :  (30, 4)\n",
            "y_train:  (120,)\n",
            "y_test :  (30,)\n"
          ]
        }
      ],
      "source": [
        "X = iris[\"data\"]\n",
        "y = iris[\"target\"]\n",
        "x_train,x_test,y_train,y_test = train_test_split(X,y,\n",
        "                                                 test_size=0.2,\n",
        "                                                 random_state=42,\n",
        "                                                 stratify=y)\n",
        "\n",
        "print(\"x_train: \", x_train.shape)\n",
        "print(\"x_test : \", x_test.shape)\n",
        "print(\"y_train: \", y_train.shape)\n",
        "print(\"y_test : \", y_test.shape)"
      ]
    },
    {
      "cell_type": "markdown",
      "source": [
        "2,다음 조건에 맞게 출력해주세요\n",
        "\n",
        "    문제 1에서 만든 학습데이터를 사용하여 랜덤포레스트 분류기를 학습\n",
        "    테스트데이터로 모델의 정확도를 평가 출력"
      ],
      "metadata": {
        "id": "81Hv-J-hG4la"
      }
    },
    {
      "cell_type": "code",
      "source": [
        "from sklearn.ensemble import RandomForestClassifier\n",
        "from sklearn.metrics import accuracy_score\n",
        "\n",
        "RFC = RandomForestClassifier()\n",
        "RFC.fit(x_train,y_train)\n",
        "pred_RFC = RFC.predict(x_test)\n",
        "\n",
        "print(\"랜덤 포레스트 분류기에 대한 iris 데이터의 정확도는 :\",accuracy_score(pred_RFC, y_test))"
      ],
      "metadata": {
        "id": "EwkR1W7dG43V",
        "colab": {
          "base_uri": "https://localhost:8080/"
        },
        "outputId": "20bcd16e-1afa-471b-cc1d-4473984c5fc8"
      },
      "execution_count": null,
      "outputs": [
        {
          "output_type": "stream",
          "name": "stdout",
          "text": [
            "랜덤 포레스트 분류기에 대한 iris 데이터의 정확도는 : 0.9\n"
          ]
        }
      ]
    },
    {
      "cell_type": "markdown",
      "source": [
        "3.다음 조건에 맞게 출력해주세요\n",
        "\n",
        "    GridSearchCV를 사용하여 랜덤포레스트의 하이퍼파라미터 튜닝을 수행\n",
        "    튜닝할 하이퍼파라미터는 n_estimators (10, 50, 100), max_depth (None, 10, 20)\n",
        "\n",
        "    "
      ],
      "metadata": {
        "id": "c5g0ofALG5Ck"
      }
    },
    {
      "cell_type": "code",
      "source": [
        "from sklearn.model_selection import GridSearchCV\n",
        "\n",
        "def grid_search(params,model_base = RandomForestClassifier(random_state=42)):\n",
        "    model_base = GridSearchCV(RFC,\n",
        "                              params,\n",
        "                              cv = 5,\n",
        "                              return_train_score=True,\n",
        "                              n_jobs = -1)\n",
        "\n",
        "    model_base.fit(x_train, y_train)\n",
        "    return model_base\n",
        "\n",
        "params = {\"n_estimators\" : [10, 50, 100],\n",
        "          \"max_depth\" : [None, 10, 20]}\n",
        "\n",
        "grid_model = grid_search(params)"
      ],
      "metadata": {
        "id": "SKOSPl-_G5YI"
      },
      "execution_count": null,
      "outputs": []
    },
    {
      "cell_type": "code",
      "source": [
        "grid_model.best_score_"
      ],
      "metadata": {
        "colab": {
          "base_uri": "https://localhost:8080/"
        },
        "id": "GOI8MHKvkp5w",
        "outputId": "a0ba2486-4d54-4c2d-f1f3-17ca04259ea3"
      },
      "execution_count": null,
      "outputs": [
        {
          "output_type": "execute_result",
          "data": {
            "text/plain": [
              "0.9583333333333334"
            ]
          },
          "metadata": {},
          "execution_count": 6
        }
      ]
    },
    {
      "cell_type": "markdown",
      "source": [
        "4.다음조건에 맞게 출력해주세요\n",
        "\n",
        "    문제 3에서 최적의 하이퍼파라미터로 학습된 모델을 사용하여 각 특성(feature)의 중요도 계산\n",
        "    특성 중요도를 시각화\n"
      ],
      "metadata": {
        "id": "vm1xt07RG6uX"
      }
    },
    {
      "cell_type": "code",
      "source": [
        "grid_model.best_estimator_"
      ],
      "metadata": {
        "colab": {
          "base_uri": "https://localhost:8080/",
          "height": 75
        },
        "id": "8oN57L6TlRG3",
        "outputId": "c088c940-ee98-4bbc-b4eb-d2491eb52411"
      },
      "execution_count": null,
      "outputs": [
        {
          "output_type": "execute_result",
          "data": {
            "text/plain": [
              "RandomForestClassifier(max_depth=20, n_estimators=10)"
            ],
            "text/html": [
              "<style>#sk-container-id-1 {color: black;background-color: white;}#sk-container-id-1 pre{padding: 0;}#sk-container-id-1 div.sk-toggleable {background-color: white;}#sk-container-id-1 label.sk-toggleable__label {cursor: pointer;display: block;width: 100%;margin-bottom: 0;padding: 0.3em;box-sizing: border-box;text-align: center;}#sk-container-id-1 label.sk-toggleable__label-arrow:before {content: \"▸\";float: left;margin-right: 0.25em;color: #696969;}#sk-container-id-1 label.sk-toggleable__label-arrow:hover:before {color: black;}#sk-container-id-1 div.sk-estimator:hover label.sk-toggleable__label-arrow:before {color: black;}#sk-container-id-1 div.sk-toggleable__content {max-height: 0;max-width: 0;overflow: hidden;text-align: left;background-color: #f0f8ff;}#sk-container-id-1 div.sk-toggleable__content pre {margin: 0.2em;color: black;border-radius: 0.25em;background-color: #f0f8ff;}#sk-container-id-1 input.sk-toggleable__control:checked~div.sk-toggleable__content {max-height: 200px;max-width: 100%;overflow: auto;}#sk-container-id-1 input.sk-toggleable__control:checked~label.sk-toggleable__label-arrow:before {content: \"▾\";}#sk-container-id-1 div.sk-estimator input.sk-toggleable__control:checked~label.sk-toggleable__label {background-color: #d4ebff;}#sk-container-id-1 div.sk-label input.sk-toggleable__control:checked~label.sk-toggleable__label {background-color: #d4ebff;}#sk-container-id-1 input.sk-hidden--visually {border: 0;clip: rect(1px 1px 1px 1px);clip: rect(1px, 1px, 1px, 1px);height: 1px;margin: -1px;overflow: hidden;padding: 0;position: absolute;width: 1px;}#sk-container-id-1 div.sk-estimator {font-family: monospace;background-color: #f0f8ff;border: 1px dotted black;border-radius: 0.25em;box-sizing: border-box;margin-bottom: 0.5em;}#sk-container-id-1 div.sk-estimator:hover {background-color: #d4ebff;}#sk-container-id-1 div.sk-parallel-item::after {content: \"\";width: 100%;border-bottom: 1px solid gray;flex-grow: 1;}#sk-container-id-1 div.sk-label:hover label.sk-toggleable__label {background-color: #d4ebff;}#sk-container-id-1 div.sk-serial::before {content: \"\";position: absolute;border-left: 1px solid gray;box-sizing: border-box;top: 0;bottom: 0;left: 50%;z-index: 0;}#sk-container-id-1 div.sk-serial {display: flex;flex-direction: column;align-items: center;background-color: white;padding-right: 0.2em;padding-left: 0.2em;position: relative;}#sk-container-id-1 div.sk-item {position: relative;z-index: 1;}#sk-container-id-1 div.sk-parallel {display: flex;align-items: stretch;justify-content: center;background-color: white;position: relative;}#sk-container-id-1 div.sk-item::before, #sk-container-id-1 div.sk-parallel-item::before {content: \"\";position: absolute;border-left: 1px solid gray;box-sizing: border-box;top: 0;bottom: 0;left: 50%;z-index: -1;}#sk-container-id-1 div.sk-parallel-item {display: flex;flex-direction: column;z-index: 1;position: relative;background-color: white;}#sk-container-id-1 div.sk-parallel-item:first-child::after {align-self: flex-end;width: 50%;}#sk-container-id-1 div.sk-parallel-item:last-child::after {align-self: flex-start;width: 50%;}#sk-container-id-1 div.sk-parallel-item:only-child::after {width: 0;}#sk-container-id-1 div.sk-dashed-wrapped {border: 1px dashed gray;margin: 0 0.4em 0.5em 0.4em;box-sizing: border-box;padding-bottom: 0.4em;background-color: white;}#sk-container-id-1 div.sk-label label {font-family: monospace;font-weight: bold;display: inline-block;line-height: 1.2em;}#sk-container-id-1 div.sk-label-container {text-align: center;}#sk-container-id-1 div.sk-container {/* jupyter's `normalize.less` sets `[hidden] { display: none; }` but bootstrap.min.css set `[hidden] { display: none !important; }` so we also need the `!important` here to be able to override the default hidden behavior on the sphinx rendered scikit-learn.org. See: https://github.com/scikit-learn/scikit-learn/issues/21755 */display: inline-block !important;position: relative;}#sk-container-id-1 div.sk-text-repr-fallback {display: none;}</style><div id=\"sk-container-id-1\" class=\"sk-top-container\"><div class=\"sk-text-repr-fallback\"><pre>RandomForestClassifier(max_depth=20, n_estimators=10)</pre><b>In a Jupyter environment, please rerun this cell to show the HTML representation or trust the notebook. <br />On GitHub, the HTML representation is unable to render, please try loading this page with nbviewer.org.</b></div><div class=\"sk-container\" hidden><div class=\"sk-item\"><div class=\"sk-estimator sk-toggleable\"><input class=\"sk-toggleable__control sk-hidden--visually\" id=\"sk-estimator-id-1\" type=\"checkbox\" checked><label for=\"sk-estimator-id-1\" class=\"sk-toggleable__label sk-toggleable__label-arrow\">RandomForestClassifier</label><div class=\"sk-toggleable__content\"><pre>RandomForestClassifier(max_depth=20, n_estimators=10)</pre></div></div></div></div></div>"
            ]
          },
          "metadata": {},
          "execution_count": 7
        }
      ]
    },
    {
      "cell_type": "code",
      "source": [
        "best_model = grid_model.best_estimator_\n",
        "# 각 피쳐의 중요도\n",
        "\n",
        "for feature, importance in zip(iris[\"feature_names\"], \\\n",
        "                               best_model.feature_importances_):\n",
        "  print(f\"{feature} 의 중요도는 {importance * 100:0.2f} %\")\n"
      ],
      "metadata": {
        "colab": {
          "base_uri": "https://localhost:8080/"
        },
        "id": "3Kh8EXVbmC1E",
        "outputId": "3e8a8fac-b372-42f7-930f-04a57076f8ed"
      },
      "execution_count": null,
      "outputs": [
        {
          "output_type": "stream",
          "name": "stdout",
          "text": [
            "sepal length (cm) 의 중요도는 22.38 %\n",
            "sepal width (cm) 의 중요도는 3.62 %\n",
            "petal length (cm) 의 중요도는 38.42 %\n",
            "petal width (cm) 의 중요도는 35.58 %\n"
          ]
        }
      ]
    },
    {
      "cell_type": "code",
      "source": [
        "import numpy as np\n",
        "import matplotlib.pyplot as plt\n",
        "\n",
        "\n",
        "\n",
        "importances = {}\n",
        "for i in range(len(iris[\"feature_names\"])):\n",
        "    importances[iris[\"feature_names\"][i]] = best_model.feature_importances_[i]\n",
        "\n",
        "sorted_keys = sorted(importances, key=importances.get ,reverse=True)\n",
        "sorted_values = [importances[key] for key in sorted_keys]\n",
        "\n",
        "fig, ax = plt.subplots(1,1,figsize = (10,5))\n",
        "\n",
        "ax.bar(sorted_keys, sorted_values)\n",
        "plt.setp(ax.get_xticklabels(), ha = \"right\", rotation = 45);"
      ],
      "metadata": {
        "id": "aFZER97cG5zN",
        "colab": {
          "base_uri": "https://localhost:8080/",
          "height": 530
        },
        "outputId": "842d62e1-cdb6-48b1-b80c-e32bb868caf2"
      },
      "execution_count": null,
      "outputs": [
        {
          "output_type": "display_data",
          "data": {
            "text/plain": [
              "<Figure size 1000x500 with 1 Axes>"
            ],
            "image/png": "[encoded data removed]"
          },
          "metadata": {}
        }
      ]
    },
    {
      "cell_type": "markdown",
      "source": [],
      "metadata": {
        "id": "SB53TvATG5jQ"
      }
    }
  ]
}