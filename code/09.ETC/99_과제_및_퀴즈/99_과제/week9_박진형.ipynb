{
  "nbformat": 4,
  "nbformat_minor": 0,
  "metadata": {
    "colab": {
      "provenance": []
    },
    "kernelspec": {
      "name": "python3",
      "display_name": "Python 3"
    },
    "language_info": {
      "name": "python"
    }
  },
  "cells": [
    {
      "cell_type": "markdown",
      "source": [
        "WEEKLY QUIZ WEEK 9위클리퀴즈 9주차입니다.\n",
        "\n",
        "좌측상단에 파일->Drive에 사본저장->구글 드라이브에 있는 사본으로 문제푸신후 실행 제출부탁드립니다.\n",
        "\n",
        "제출시 상단의 노트제목은 \"week9_이름\"으로 변경하시고 우측상단에 공유 눌러서 링크복사 후에 링크올리시면됩니다.\n",
        "\n",
        "![image.png](data:image/png;base64,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)\n",
        "\n",
        "#머핀과 치와와 예측(캐글 데이터)\n",
        "##링크 : https://drive.google.com/drive/folders/1NY27YOKeWkrTuNanLl9STyAT5eo2m2o7?usp=sharing"
      ],
      "metadata": {
        "id": "LSaLuW1r7EF7"
      }
    },
    {
      "cell_type": "markdown",
      "source": [
        "### 라이브러리 Improt 및 데이터 불러오기"
      ],
      "metadata": {
        "id": "mk69l5R_7H4H"
      }
    },
    {
      "cell_type": "code",
      "source": [
        "import tensorflow as tf\n",
        "from tensorflow.keras import datasets, layers, models, optimizers, callbacks\n",
        "\n",
        "# 구글 드라이브 마운트\n",
        "from google.colab import drive\n",
        "drive.mount('/content/drive')"
      ],
      "metadata": {
        "colab": {
          "base_uri": "https://localhost:8080/"
        },
        "id": "gDEcunASuRT0",
        "outputId": "baf6e370-b264-4a69-a3f1-32698ca27c98"
      },
      "execution_count": null,
      "outputs": [
        {
          "output_type": "stream",
          "name": "stdout",
          "text": [
            "Drive already mounted at /content/drive; to attempt to forcibly remount, call drive.mount(\"/content/drive\", force_remount=True).\n"
          ]
        }
      ]
    },
    {
      "cell_type": "code",
      "source": [
        "import numpy as np\n",
        "from glob import glob\n",
        "from tensorflow.keras.preprocessing import image\n",
        "import matplotlib.pyplot as plt\n",
        "\n"
      ],
      "metadata": {
        "id": "JyVM-Amj7Wf6"
      },
      "execution_count": null,
      "outputs": []
    },
    {
      "cell_type": "code",
      "source": [
        "IMG_CHANNELS = 3\n",
        "IMG_ROWS = 150\n",
        "IMG_COLS = 150\n",
        "\n",
        "CLASSES = 2  # 치와와 또는 머핀"
      ],
      "metadata": {
        "id": "YfcE-UCKuz-h"
      },
      "execution_count": null,
      "outputs": []
    },
    {
      "cell_type": "markdown",
      "source": [
        "### 이미지 사이즈 150,150으로 바꾸기"
      ],
      "metadata": {
        "id": "pLRyxTJJ7W5j"
      }
    },
    {
      "cell_type": "code",
      "source": [
        "# 각 폴더에서 이미지 100개씩 불러오기\n",
        "chi_images_train = glob('/content/drive/MyDrive/data/train/chihuahua/*.jpg')\n",
        "chi_images_test = glob('/content/drive/MyDrive/data/test/chihuahua/*.jpg')\n",
        "muf_images_train = glob('/content/drive/MyDrive/data/train/muffin/*.jpg')\n",
        "muf_images_test = glob('/content/drive/MyDrive/data/test/muffin/*.jpg')\n",
        "\n",
        "# 전체 이미지 경로 목록\n",
        "all_images_train = chi_images_train + muf_images_train\n",
        "all_images_test = chi_images_test + muf_images_test"
      ],
      "metadata": {
        "id": "cy3h8GHQvKov"
      },
      "execution_count": null,
      "outputs": []
    },
    {
      "cell_type": "markdown",
      "source": [
        "### 문제 2"
      ],
      "metadata": {
        "id": "tk-6CwtZAN26"
      }
    },
    {
      "cell_type": "markdown",
      "source": [
        "    train_generator = train_datagen.flow_from_directory(\n",
        "            train_dir,\n",
        "            target_size=(150, 150),\n",
        "            batch_size=20,\n",
        "            class_mode='binary'\n",
        "        )\n",
        "\n",
        "    train_dir: 트레이닝 이미지가 포함된 디렉토리 경로입니다\n",
        "    target_size: 모든 이미지를 (150, 150) 크기로 리사이즈합니다.\n",
        "    batch_size: 한 번에 생성되는 이미지의 배치 크기입니다.\n",
        "    class_mode: 'binary'로 설정하면, 이진 분류를 위해 라벨이 0과 1로 지정됩니다.\n",
        "\n",
        "    test_generator = test_datagen.flow_from_directory(\n",
        "        test_dir,\n",
        "        target_size=(150, 150),\n",
        "        batch_size=20,\n",
        "        class_mode='binary'\n",
        "    )\n",
        "    Test도 동일\n",
        "    이 코드를 오늘 수업시간에 배운 5.04.CNN_b_e.ipynb를 참고하여 배운대로 코드를 바꿔주세요.\n"
      ],
      "metadata": {
        "id": "iHULyOjsAQVx"
      }
    },
    {
      "cell_type": "code",
      "source": [
        "c_tr_l,m_tr_l ,c_te_l, m_te_l = len(chi_images_train), len(muf_images_train), len(muf_images_test), len(chi_images_test)\n",
        "\n",
        "# 정답 라벨 부여\n",
        "y_tr=[1] * c_tr_l + [0] * m_tr_l\n",
        "y_te=[1] * c_te_l + [0] * m_te_l\n",
        "\n",
        "# 이미지 불러오기 및 사이즈 조정\n",
        "images_train = [image.load_img(p, target_size=(IMG_ROWS, IMG_COLS)) for p in all_images_train]\n",
        "images_test = [image.load_img(p, target_size=(IMG_ROWS, IMG_COLS)) for p in all_images_test]\n",
        "\n",
        "#  numpy 배열로 변환\n",
        "image_vector_train = np.asarray([image.img_to_array(img) for img in images_train])\n",
        "image_vector_test = np.asarray([image.img_to_array(img) for img in images_test])\n"
      ],
      "metadata": {
        "id": "Em0fR-mKwS-S"
      },
      "execution_count": null,
      "outputs": []
    },
    {
      "cell_type": "code",
      "source": [
        "len(y_tr)"
      ],
      "metadata": {
        "colab": {
          "base_uri": "https://localhost:8080/"
        },
        "id": "GWYd6oYUx4oI",
        "outputId": "e7dc037e-ba46-4a69-bddd-fe1afe706754"
      },
      "execution_count": null,
      "outputs": [
        {
          "output_type": "execute_result",
          "data": {
            "text/plain": [
              "4733"
            ]
          },
          "metadata": {},
          "execution_count": 33
        }
      ]
    },
    {
      "cell_type": "code",
      "source": [
        "from sklearn.model_selection import train_test_split\n",
        "X_train, X_test, y_train, y_test = train_test_split(image_vector_train, y_tr, test_size=0.20, random_state=0)"
      ],
      "metadata": {
        "id": "X02r1L_3xhF5"
      },
      "execution_count": null,
      "outputs": []
    },
    {
      "cell_type": "markdown",
      "source": [
        "### 문제 1"
      ],
      "metadata": {
        "id": "WqITpGDgAK5_"
      }
    },
    {
      "cell_type": "markdown",
      "source": [
        "    train_datagen = ImageDataGenerator(rescale=1.0/255)\n",
        "    test_datagen = ImageDataGenerator(rescale=1.0/255)\n",
        "    이 코드는 이미지 데이터의 각 픽셀 값을 1/255로 스케일링하여 0에서 1 사이의 값으로 변환하는 코드입니다.\n",
        "    이 코드를 오늘 수업시간에 배운 5.04.CNN_b_e.ipynb를 참고하여 배운대로 코드를 바꿔주세요."
      ],
      "metadata": {
        "id": "hAworj1w_g08"
      }
    },
    {
      "cell_type": "code",
      "source": [
        "X_train, X_test = X_train / 255, X_test / 255\n",
        "image_vector_test = image_vector_test / 255"
      ],
      "metadata": {
        "id": "hW5OEuABySUS"
      },
      "execution_count": null,
      "outputs": []
    },
    {
      "cell_type": "markdown",
      "source": [
        "CNN 모델 구성하기"
      ],
      "metadata": {
        "id": "MRAyeu9A8lMK"
      }
    },
    {
      "cell_type": "markdown",
      "source": [
        "        1. 첫 번째 컨볼루션 레이어\n",
        "        32개의 필터\n",
        "        필터 크기: 3x3\n",
        "        활성화 함수: ReLU\n",
        "        입력 형태: (150, 150, 3)\n",
        "\n",
        "        2. 첫 번째 MaxPooling 레이어\n",
        "        풀링 크기: 2x2\n",
        "\n",
        "        3. 두 번째 컨볼루션 레이어\n",
        "        64개의 필터\n",
        "        필터 크기: 3x3\n",
        "        활성화 함수: ReLU\n",
        "        \n",
        "        4.두 번째 MaxPooling 레이어\n",
        "        풀링 크기: 2x2\n",
        "        \n",
        "        5.세 번째 컨볼루션 레이어\n",
        "        128개의 필터\n",
        "        필터 크기: 3x3\n",
        "        활성화 함수: ReLU\n",
        "        \n",
        "        6. 세 번째 MaxPooling 레이어\n",
        "        풀링 크기: 2x2\n",
        "        \n",
        "        7.네 번째 컨볼루션 레이어\n",
        "        128개의 필터\n",
        "        필터 크기: 3x3\n",
        "        활성화 함수: ReLU\n",
        "        \n",
        "        8. 네 번째 MaxPooling 레이어\n",
        "        풀링 크기: 2x2\n",
        "        \n",
        "        9. Flatten 레이어\n",
        "        다차원 배열을 1차원 배열로 변환\n",
        "        \n",
        "        10.첫 번째 Dense 레이어\n",
        "        512개의 뉴런\n",
        "        활성화 함수: ReLU\n",
        "        \n",
        "        11.출력 Dense 레이어\n",
        "        1개의 뉴런\n",
        "        활성화 함수: Sigmoid"
      ],
      "metadata": {
        "id": "Ned4dwTZ8rkC"
      }
    },
    {
      "cell_type": "code",
      "source": [
        "def build(input_shape, classes):\n",
        "    model = models.Sequential()\n",
        "    # 첫번째 컨볼루션 및 맥스풀링\n",
        "    model.add(layers.Convolution2D(32, (3, 3), activation='relu',  # 컨볼루션 층\n",
        "                        input_shape=input_shape))\n",
        "    model.add(layers.MaxPooling2D(pool_size=(2, 2))) # 맥스 풀링층\n",
        "    # 두번째 컨볼루션 및 맥스 풀링\n",
        "    model.add(layers.Convolution2D(64, (3, 3), activation='relu'))\n",
        "    model.add(layers.MaxPooling2D(pool_size=(2, 2))) # 맥스 풀링층\n",
        "\n",
        "    # 세번째 컨볼루션 밑 맥스 풀링\n",
        "    model.add(layers.Convolution2D(128, (3, 3), activation='relu'))\n",
        "    model.add(layers.MaxPooling2D(pool_size=(2, 2))) # 맥스 풀링층\n",
        "\n",
        "    # 네번째 컨볼루션 밑 맥스 풀링\n",
        "    model.add(layers.Convolution2D(128, (3, 3), activation='relu'))\n",
        "    model.add(layers.MaxPooling2D(pool_size=(2, 2))) # 맥스 풀링층\n",
        "\n",
        "    model.add(layers.Flatten())\n",
        "    model.add(layers.Dense(512, activation='relu')) # Fully connected 층\n",
        "    model.add(layers.Dense(classes, activation='sigmoid')) # 이진 분류의 시그모이드\n",
        "    return model"
      ],
      "metadata": {
        "id": "fQWpRDXJ3vCx"
      },
      "execution_count": null,
      "outputs": []
    },
    {
      "cell_type": "code",
      "source": [
        "model = build((IMG_ROWS, IMG_COLS, IMG_CHANNELS), 1)"
      ],
      "metadata": {
        "id": "Rb3EjujY5YuG"
      },
      "execution_count": null,
      "outputs": []
    },
    {
      "cell_type": "markdown",
      "source": [
        "### 모델 summary 확인할것"
      ],
      "metadata": {
        "id": "ZcqWDQlZ9oks"
      }
    },
    {
      "cell_type": "code",
      "source": [
        "model.summary()"
      ],
      "metadata": {
        "id": "tL45wtLO8q1f",
        "colab": {
          "base_uri": "https://localhost:8080/"
        },
        "outputId": "0533c890-0340-4ee1-d744-1a3673b2eeed"
      },
      "execution_count": null,
      "outputs": [
        {
          "output_type": "stream",
          "name": "stdout",
          "text": [
            "Model: \"sequential_2\"\n",
            "_________________________________________________________________\n",
            " Layer (type)                Output Shape              Param #   \n",
            "=================================================================\n",
            " conv2d_8 (Conv2D)           (None, 148, 148, 32)      896       \n",
            "                                                                 \n",
            " max_pooling2d_8 (MaxPoolin  (None, 74, 74, 32)        0         \n",
            " g2D)                                                            \n",
            "                                                                 \n",
            " conv2d_9 (Conv2D)           (None, 72, 72, 64)        18496     \n",
            "                                                                 \n",
            " max_pooling2d_9 (MaxPoolin  (None, 36, 36, 64)        0         \n",
            " g2D)                                                            \n",
            "                                                                 \n",
            " conv2d_10 (Conv2D)          (None, 34, 34, 128)       73856     \n",
            "                                                                 \n",
            " max_pooling2d_10 (MaxPooli  (None, 17, 17, 128)       0         \n",
            " ng2D)                                                           \n",
            "                                                                 \n",
            " conv2d_11 (Conv2D)          (None, 15, 15, 128)       147584    \n",
            "                                                                 \n",
            " max_pooling2d_11 (MaxPooli  (None, 7, 7, 128)         0         \n",
            " ng2D)                                                           \n",
            "                                                                 \n",
            " flatten_2 (Flatten)         (None, 6272)              0         \n",
            "                                                                 \n",
            " dense_4 (Dense)             (None, 512)               3211776   \n",
            "                                                                 \n",
            " dense_5 (Dense)             (None, 1)                 513       \n",
            "                                                                 \n",
            "=================================================================\n",
            "Total params: 3453121 (13.17 MB)\n",
            "Trainable params: 3453121 (13.17 MB)\n",
            "Non-trainable params: 0 (0.00 Byte)\n",
            "_________________________________________________________________\n"
          ]
        }
      ]
    },
    {
      "cell_type": "markdown",
      "source": [
        "### Model compile"
      ],
      "metadata": {
        "id": "X5v4bY-4-H7R"
      }
    },
    {
      "cell_type": "markdown",
      "source": [
        "    1) loss='binary_crossentropy'\n",
        "    2) optimizer=tf.keras.optimizers.RMSprop\n",
        "    3) learning rate = 0.001,\n",
        "    4) metrics = accuracy\n",
        ")"
      ],
      "metadata": {
        "id": "DZHoJnOU9ue8"
      }
    },
    {
      "cell_type": "code",
      "source": [
        "model.compile(loss='binary_crossentropy',\n",
        "              optimizer=tf.keras.optimizers.RMSprop(learning_rate=0.001),\n",
        "              metrics=['accuracy'])"
      ],
      "metadata": {
        "id": "Ji3HF1C6-GE3"
      },
      "execution_count": null,
      "outputs": []
    },
    {
      "cell_type": "markdown",
      "source": [
        "### 모델 훈련"
      ],
      "metadata": {
        "id": "9Qev4ISG-K6T"
      }
    },
    {
      "cell_type": "markdown",
      "source": [
        "        1. epoch = 10\n",
        "        2. steps_per_epoch=10\n",
        "        (학습시간이 오래걸릴 거같아 작게 세팅하였습니다. 성능을 좋게 뽑아보실거면 수정하셔도됩니다.)"
      ],
      "metadata": {
        "id": "ytOyz7UJ-Q3D"
      }
    },
    {
      "cell_type": "code",
      "source": [
        "y_train = np.array(y_train)\n",
        "y_test = np.array(y_test)"
      ],
      "metadata": {
        "id": "4ZJHkz3l6DyK"
      },
      "execution_count": null,
      "outputs": []
    },
    {
      "cell_type": "code",
      "source": [
        "history = model.fit(X_train, y_train, epochs=10, steps_per_epoch=10)"
      ],
      "metadata": {
        "id": "VQu4_eZ5CP8_"
      },
      "execution_count": null,
      "outputs": []
    },
    {
      "cell_type": "code",
      "source": [
        "model.fit(X_train, y_train, epochs=10, steps_per_epoch=10)"
      ],
      "metadata": {
        "id": "MtTrgwWz-QH7",
        "colab": {
          "base_uri": "https://localhost:8080/"
        },
        "outputId": "71bd80ad-3c46-4099-f897-bbcb910acc62"
      },
      "execution_count": null,
      "outputs": [
        {
          "output_type": "stream",
          "name": "stdout",
          "text": [
            "Epoch 1/10\n",
            "10/10 [==============================] - 205s 20s/step - loss: 0.7731 - accuracy: 0.5219\n",
            "Epoch 2/10\n",
            "10/10 [==============================] - 205s 21s/step - loss: 0.6910 - accuracy: 0.5563\n",
            "Epoch 3/10\n",
            "10/10 [==============================] - 199s 20s/step - loss: 0.6931 - accuracy: 0.5681\n",
            "Epoch 4/10\n",
            "10/10 [==============================] - 230s 23s/step - loss: 0.6655 - accuracy: 0.5803\n",
            "Epoch 5/10\n",
            "10/10 [==============================] - 202s 20s/step - loss: 0.7133 - accuracy: 0.6009\n",
            "Epoch 6/10\n",
            "10/10 [==============================] - 203s 20s/step - loss: 0.6815 - accuracy: 0.5932\n",
            "Epoch 7/10\n",
            "10/10 [==============================] - 198s 20s/step - loss: 0.5989 - accuracy: 0.6846\n",
            "Epoch 8/10\n",
            "10/10 [==============================] - 197s 20s/step - loss: 0.6121 - accuracy: 0.6957\n",
            "Epoch 9/10\n",
            "10/10 [==============================] - 199s 20s/step - loss: 0.6615 - accuracy: 0.6675\n",
            "Epoch 10/10\n",
            "10/10 [==============================] - 198s 20s/step - loss: 0.6017 - accuracy: 0.7258\n"
          ]
        },
        {
          "output_type": "execute_result",
          "data": {
            "text/plain": [
              "<keras.src.callbacks.History at 0x7fdfb976fee0>"
            ]
          },
          "metadata": {},
          "execution_count": 52
        }
      ]
    },
    {
      "cell_type": "markdown",
      "source": [
        "### Test Data set 평가"
      ],
      "metadata": {
        "id": "yIpruPzI-YsX"
      }
    },
    {
      "cell_type": "markdown",
      "source": [
        "        훈련한 모델을 불러와  steps=10으로 세팅하여 Test Data Set 평가할것"
      ],
      "metadata": {
        "id": "yA7KJed3-c2H"
      }
    },
    {
      "cell_type": "code",
      "source": [
        "model.evaluate(X_test, y_test, steps=10)"
      ],
      "metadata": {
        "id": "ifurxPH9-cVR",
        "colab": {
          "base_uri": "https://localhost:8080/"
        },
        "outputId": "24fe9812-8c88-4f6e-838a-d3a1a1f5d0a8"
      },
      "execution_count": null,
      "outputs": [
        {
          "output_type": "stream",
          "name": "stdout",
          "text": [
            "10/10 [==============================] - 16s 2s/step - loss: 0.5262 - accuracy: 0.7508\n"
          ]
        },
        {
          "output_type": "execute_result",
          "data": {
            "text/plain": [
              "[0.5262375473976135, 0.7507919669151306]"
            ]
          },
          "metadata": {},
          "execution_count": 53
        }
      ]
    },
    {
      "cell_type": "markdown",
      "source": [
        "### 훈련 모델 plot 그리기"
      ],
      "metadata": {
        "id": "11JN44gM-jsd"
      }
    },
    {
      "cell_type": "code",
      "source": [
        "# history 를 저장하지 않아서...\n",
        "# 모델을 다시 돌리다\n",
        "# 세션 다운 문제로 수기로 작성\n",
        "loss = [0.7731,0.6910 ,0.6931 ,0.6655 ,0.7133 ,0.6815 ,0.5989 ,0.6121 ,0.6615 ,0.6017 ]\n",
        "accuracy = [ 0.5219,0.5563,0.5681,0.5803,0.6009,0.5932,0.6846,0.6957,0.6675,0.7258 ]"
      ],
      "metadata": {
        "id": "WjFRJBTADziE"
      },
      "execution_count": null,
      "outputs": []
    },
    {
      "cell_type": "markdown",
      "source": [
        "        Matplot lib를 이용하여 Training accuracy와 Training loss 에폭당 변화하는 그래프를 그릴것"
      ],
      "metadata": {
        "id": "GvdLp9yL-oTq"
      }
    },
    {
      "cell_type": "code",
      "source": [
        "import matplotlib.pyplot as plt\n",
        "import seaborn as sns\n",
        "\n",
        "fig, ax = plt.subplots(1, 2, figsize=(15, 5))\n",
        "sns.lineplot(x=range(1,11), y=loss, ax=ax[0])\n",
        "sns.lineplot(x=range(1,11), y=accuracy, ax=ax[1])\n",
        "\n",
        "ax[0].set_title('Training loss')\n",
        "ax[1].set_title('Training accuracy');\n",
        "ax[0].set_xlabel('Epochs')\n",
        "ax[1].set_xlabel('Epochs');"
      ],
      "metadata": {
        "id": "ELcDz2K--n06",
        "colab": {
          "base_uri": "https://localhost:8080/",
          "height": 353
        },
        "outputId": "d58629f9-02b8-442b-a9c2-dfc1bc2afef8"
      },
      "execution_count": null,
      "outputs": [
        {
          "output_type": "display_data",
          "data": {
            "text/plain": [
              "<Figure size 1500x500 with 2 Axes>"
            ],
            "image/png": "[encoded data removed]"
          },
          "metadata": {}
        }
      ]
    }
  ]
}