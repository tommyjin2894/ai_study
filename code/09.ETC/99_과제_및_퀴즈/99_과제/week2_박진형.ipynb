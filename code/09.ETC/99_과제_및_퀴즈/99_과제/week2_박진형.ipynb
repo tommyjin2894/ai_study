{
  "nbformat": 4,
  "nbformat_minor": 0,
  "metadata": {
    "colab": {
      "provenance": []
    },
    "kernelspec": {
      "name": "python3",
      "display_name": "Python 3"
    },
    "language_info": {
      "name": "python"
    }
  },
  "cells": [
    {
      "cell_type": "markdown",
      "source": [
        "WEEKLY QUIZ WEEK2 위클리퀴즈 2주차입니다.\n",
        "\n",
        "좌측상단에 파일->Drive에 사본저장->구글 드라이브에 있는 사본으로 문제푸신후 실행 제출부탁드립니다.\n",
        "\n",
        "제출시 상단의 노트제목은 \"week2_이름\"으로 변경하시고 우측상단에 공유 눌러서 링크복사 후에 링크올리시면됩니다."
      ],
      "metadata": {
        "id": "HDW7fSJ8QbUE"
      }
    },
    {
      "cell_type": "markdown",
      "source": [
        "1.다음 구문에 대해 설명해주세요"
      ],
      "metadata": {
        "id": "ytddK9yeQbLi"
      }
    },
    {
      "cell_type": "code",
      "source": [
        "if __name__ == \"__main__\":\n",
        "  main()"
      ],
      "metadata": {
        "id": "BUyc_PxkZWMw"
      },
      "execution_count": null,
      "outputs": []
    },
    {
      "cell_type": "code",
      "execution_count": null,
      "metadata": {
        "id": "T1dbMvE-QWbV"
      },
      "outputs": [],
      "source": [
        "# 위의 구문은 위구문이 포함된 py 파일을 실행시켰을때 main() 함수가 실행 되는 구문입니다.\n",
        "# 또한 주피터 노트북이나 모듈로서 위 구문이 포함되어 있는 py 파일을 import를 할 때는 main() 함수가 실행 되지 않게 됩니다."
      ]
    },
    {
      "cell_type": "markdown",
      "source": [
        "2.Numpy 라이브러리를 활용해 5x5 정수형 배열 생성 및 출력 해주세요"
      ],
      "metadata": {
        "id": "FRuZgC0oQb1n"
      }
    },
    {
      "cell_type": "code",
      "source": [
        "import numpy as np\n",
        "\n",
        "int_arr = np.random.randint(0,10,size=(5,5))\n",
        "int_arr"
      ],
      "metadata": {
        "id": "Dz-2okP_QcIn",
        "colab": {
          "base_uri": "https://localhost:8080/"
        },
        "outputId": "6d2e7e53-b3dd-4e45-9ba2-e3af7d9deb25"
      },
      "execution_count": null,
      "outputs": [
        {
          "output_type": "execute_result",
          "data": {
            "text/plain": [
              "array([[4, 7, 5, 9, 8],\n",
              "       [0, 6, 2, 0, 0],\n",
              "       [5, 9, 0, 0, 1],\n",
              "       [8, 7, 8, 7, 5],\n",
              "       [7, 6, 9, 7, 3]])"
            ]
          },
          "metadata": {},
          "execution_count": 13
        }
      ]
    },
    {
      "cell_type": "markdown",
      "source": [
        "3.다음데이터를 Pandas를 사용하여 다음 데이터를 포함하는 데이터 프레임을 생성하고 점수의 평균을 계산하여 출력하세요.\n",
        "\n",
        "    이름: 'Alice', 'Bob', 'Charlie'\n",
        "    나이: 24, 27, 22\n",
        "    점수: 85, 90, 88\n"
      ],
      "metadata": {
        "id": "LqG-f4hDQcS2"
      }
    },
    {
      "cell_type": "code",
      "source": [
        "import pandas as pd\n",
        "\n",
        "# 1. 데이터 프레임을 생성한다.\n",
        "df = pd.DataFrame({\n",
        "    '이름': ['Alice', 'Bob', 'Charlie'],\n",
        "    '나이': [24, 27, 22],\n",
        "    '점수': [85, 90, 88],\n",
        "})\n",
        "\n",
        "# 2. 평균을 계산한다. 소수자리에서 반올림\n",
        "print(\"모든 사람의 점수의 평균은 : {:0.3f} 입니다.\".format(df['점수'].mean()))"
      ],
      "metadata": {
        "id": "uGpTp_bIQcrc",
        "colab": {
          "base_uri": "https://localhost:8080/"
        },
        "outputId": "8898e020-e64e-46a4-e781-8c16fd400cf2"
      },
      "execution_count": null,
      "outputs": [
        {
          "output_type": "stream",
          "name": "stdout",
          "text": [
            "모든 사람의 점수의 평균은 : 87.667 입니다.\n"
          ]
        }
      ]
    },
    {
      "cell_type": "markdown",
      "source": [
        "4.openCV 라이브러리를 이용해 다음 도형을 그려주세요\n",
        "  1. 검은색 배경의 400x400 크기 빈 이미지 만들기\n",
        "  2. 중앙에 빨간색 사각형 그리기\n",
        "  3. 중앙에 초록색 원 그리기\n",
        "  4. 이미지 화면에 출력\n",
        "  "
      ],
      "metadata": {
        "id": "yivows3sQcz1"
      }
    },
    {
      "cell_type": "code",
      "source": [
        "import cv2\n",
        "import numpy as np\n",
        "import matplotlib.pyplot as plt\n",
        "\n",
        "#1. 검정 배경의 400 x 400 x (R,G,B)만들기\n",
        "black_img = np.zeros((400,400,3) , dtype=np.uint8)\n",
        "\n",
        "#2. 중앙에 빨간색 사각형 그리기\n",
        "cv2.rectangle(black_img, pt1 = (100, 100), pt2 =(300,300), color= (255,0,0), thickness= 3)\n",
        "\n",
        "#3. 중앙에 초록색 원 그리기\n",
        "cv2.circle(black_img, center = (200, 200), radius = 100, color= (0,255,0), thickness= 3)\n",
        "\n",
        "plt.imshow(black_img); # <matplotlib.image.AxesImage at 0x7d3e0990bc70> 라는 문구를 없애기 위해 ; 을 사용"
      ],
      "metadata": {
        "id": "ZjsALTzAQdKc",
        "colab": {
          "base_uri": "https://localhost:8080/",
          "height": 452
        },
        "outputId": "d1081230-3b62-4845-e4ee-1bb713194df2"
      },
      "execution_count": null,
      "outputs": [
        {
          "output_type": "execute_result",
          "data": {
            "text/plain": [
              "<matplotlib.image.AxesImage at 0x7d3e0990bc70>"
            ]
          },
          "metadata": {},
          "execution_count": 91
        },
        {
          "output_type": "display_data",
          "data": {
            "text/plain": [
              "<Figure size 640x480 with 1 Axes>"
            ],
            "image/png": "[encoded data removed]"
          },
          "metadata": {}
        }
      ]
    },
    {
      "cell_type": "markdown",
      "source": [
        "5.matplotlib 라이브러리를 활용해 다음 그래프를 그려주세요\n",
        "  1. Matplotlib를 사용하여 점 그래프를 그립니다.\n",
        "  2. x축은 [1, 2, 3, 4, 5]로, y축은 [10, 20, 25, 30, 35]로 설정합니다.\n",
        "  3. 점 그래프의 마커(marker)는 동그라미로, 색상은 빨간색으로 설정합니다.\n",
        "  4. 그래프의 제목을 \"Point Graph\" 로 설정합니다.\n",
        "  "
      ],
      "metadata": {
        "id": "u1KAXc_Qdn4C"
      }
    },
    {
      "cell_type": "code",
      "source": [
        "from os import name\n",
        "import matplotlib.pyplot as plt\n",
        "\n",
        "x = np.arange(1,6)\n",
        "y = np.array([10,20,25,30,35])\n",
        "\n",
        "plt.scatter(x, y,\n",
        "            marker = 'o', # 마커 지정, 기본값은 동그라미지만 더확실하게 하기위해\n",
        "            color = 'red' # 색깔 지정하기.\n",
        "            )\n",
        "\n",
        "plt.xlabel('x') # x 라벨 지정하기\n",
        "plt.ylabel('y') # y 라벨 지정하기\n",
        "plt.title(\"Point Graph\") # 그래프 이름 지정하기\n",
        "plt.show()"
      ],
      "metadata": {
        "id": "nc394Z7Ado7M",
        "colab": {
          "base_uri": "https://localhost:8080/",
          "height": 472
        },
        "outputId": "1ac64835-9c35-4959-e6f3-f8fa28aeeae4"
      },
      "execution_count": null,
      "outputs": [
        {
          "output_type": "display_data",
          "data": {
            "text/plain": [
              "<Figure size 640x480 with 1 Axes>"
            ],
            "image/png": "[encoded data removed]"
          },
          "metadata": {}
        }
      ]
    }
  ]
}