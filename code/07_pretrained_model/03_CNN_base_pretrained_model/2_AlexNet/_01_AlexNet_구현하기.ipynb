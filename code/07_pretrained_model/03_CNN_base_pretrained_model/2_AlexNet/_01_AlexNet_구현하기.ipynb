{
  "cells": [
    {
      "cell_type": "code",
      "execution_count": 42,
      "metadata": {
        "id": "CYXCHyLvimTh"
      },
      "outputs": [],
      "source": [
        "import tensorflow as tf\n",
        "from tensorflow.keras import datasets, layers, models, optimizers"
      ]
    },
    {
      "cell_type": "code",
      "execution_count": 43,
      "metadata": {
        "id": "-iW3P-JTimTi"
      },
      "outputs": [],
      "source": [
        "IMG_ROWS, IMG_COLS = 227, 227 # input image dimensions\n",
        "INPUT_SHAPE = (IMG_ROWS, IMG_COLS, 3)\n",
        "CLASSES = 1000  # number of outputs = number of digits"
      ]
    },
    {
      "cell_type": "code",
      "execution_count": 56,
      "metadata": {
        "id": "rgUQgU_jimTi"
      },
      "outputs": [],
      "source": [
        "def Alex_custum(input_shape, classes):\n",
        "    model = models.Sequential()\n",
        "    # 시작 층\n",
        "    model.add(layers.Conv2D(filters = 96, kernel_size = 11, activation='ReLU',\n",
        "                                   strides=(4,4), input_shape=input_shape))\n",
        "    model.add(layers.MaxPool2D((3,3), strides = 2))\n",
        "    # 두번 째 필터층\n",
        "    model.add(layers.Convolution2D(filters = 256, kernel_size = 5, activation='ReLU',\n",
        "                                   padding='same'))\n",
        "    model.add(layers.MaxPool2D((3,3), strides = 2))\n",
        "    # 이후 필터층\n",
        "    model.add(layers.Convolution2D(filters = 384, kernel_size = 3, activation='ReLU',padding='same'))\n",
        "    model.add(layers.Convolution2D(filters = 384, kernel_size = 3, activation='ReLU',padding='same'))\n",
        "    model.add(layers.Convolution2D(filters = 256, kernel_size = 3, activation='ReLU',padding='same'))\n",
        "\n",
        "    model.add(layers.MaxPool2D((3,3), strides = 2))\n",
        "\n",
        "    # Flatten\n",
        "    model.add(layers.Flatten())\n",
        "\n",
        "    # 완전 연결 층 (실제로 각 층 사이에 드랍아웃이 있다.)\n",
        "    model.add(layers.Dense(4096, activation='ReLU'))\n",
        "    model.add(layers.Dense(4096, activation='ReLU'))\n",
        "    model.add(layers.Dense(classes, activation='softmax'))\n",
        "\n",
        "    return model"
      ]
    },
    {
      "cell_type": "code",
      "execution_count": 57,
      "metadata": {},
      "outputs": [
        {
          "name": "stdout",
          "output_type": "stream",
          "text": [
            "Model: \"sequential_18\"\n",
            "_________________________________________________________________\n",
            " Layer (type)                Output Shape              Param #   \n",
            "=================================================================\n",
            " conv2d_59 (Conv2D)          (None, 55, 55, 96)        34944     \n",
            "                                                                 \n",
            " max_pooling2d_33 (MaxPoolin  (None, 27, 27, 96)       0         \n",
            " g2D)                                                            \n",
            "                                                                 \n",
            " conv2d_60 (Conv2D)          (None, 27, 27, 256)       614656    \n",
            "                                                                 \n",
            " max_pooling2d_34 (MaxPoolin  (None, 13, 13, 256)      0         \n",
            " g2D)                                                            \n",
            "                                                                 \n",
            " conv2d_61 (Conv2D)          (None, 13, 13, 384)       885120    \n",
            "                                                                 \n",
            " conv2d_62 (Conv2D)          (None, 13, 13, 384)       1327488   \n",
            "                                                                 \n",
            " conv2d_63 (Conv2D)          (None, 13, 13, 256)       884992    \n",
            "                                                                 \n",
            " max_pooling2d_35 (MaxPoolin  (None, 6, 6, 256)        0         \n",
            " g2D)                                                            \n",
            "                                                                 \n",
            " flatten_9 (Flatten)         (None, 9216)              0         \n",
            "                                                                 \n",
            " dense_27 (Dense)            (None, 4096)              37752832  \n",
            "                                                                 \n",
            " dense_28 (Dense)            (None, 4096)              16781312  \n",
            "                                                                 \n",
            " dense_29 (Dense)            (None, 1000)              4097000   \n",
            "                                                                 \n",
            "=================================================================\n",
            "Total params: 62,378,344\n",
            "Trainable params: 62,378,344\n",
            "Non-trainable params: 0\n",
            "_________________________________________________________________\n"
          ]
        }
      ],
      "source": [
        "model = Alex_custum(INPUT_SHAPE, CLASSES)\n",
        "model.summary()"
      ]
    }
  ],
  "metadata": {
    "colab": {
      "provenance": []
    },
    "kernelspec": {
      "display_name": "Python 3 (ipykernel)",
      "language": "python",
      "name": "python3"
    },
    "language_info": {
      "codemirror_mode": {
        "name": "ipython",
        "version": 3
      },
      "file_extension": ".py",
      "mimetype": "text/x-python",
      "name": "python",
      "nbconvert_exporter": "python",
      "pygments_lexer": "ipython3",
      "version": "3.8.19"
    }
  },
  "nbformat": 4,
  "nbformat_minor": 0
}
