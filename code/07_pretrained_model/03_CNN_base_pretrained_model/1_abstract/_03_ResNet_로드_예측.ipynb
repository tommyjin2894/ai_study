{
  "cells": [
    {
      "cell_type": "code",
      "execution_count": 1,
      "metadata": {
        "id": "8QNubp2o0xh0"
      },
      "outputs": [],
      "source": [
        "import numpy as np\n",
        "import tensorflow as tf\n",
        "from tensorflow.keras.applications.resnet50 import ResNet50, preprocess_input, decode_predictions\n",
        "from tensorflow.keras.preprocessing import image\n",
        "\n",
        "\n"
      ]
    },
    {
      "cell_type": "code",
      "execution_count": 2,
      "metadata": {
        "id": "ddRNk79I3WCQ"
      },
      "outputs": [],
      "source": [
        "# 사전 학습된 ResNet50 모델 불러오기\n",
        "model = ResNet50(weights='imagenet')\n",
        "\n"
      ]
    },
    {
      "cell_type": "code",
      "execution_count": 8,
      "metadata": {
        "id": "lLjue1-w3V_z"
      },
      "outputs": [],
      "source": [
        "# 이미지 로드 및 전처리\n",
        "img_path = '../_01_1_CNN_및_크롤링\\classification\\ship1.PNG'  # 이미지 파일 경로\n",
        "img = image.load_img(img_path, target_size=(224, 224))  # ResNet50 기본 입력 크기에 맞게 조정\n",
        "x = image.img_to_array(img)\n",
        "x = np.expand_dims(x, axis=0)\n",
        "x = preprocess_input(x)"
      ]
    },
    {
      "cell_type": "code",
      "execution_count": 9,
      "metadata": {
        "id": "mjRsq5pe3V8o"
      },
      "outputs": [
        {
          "name": "stdout",
          "output_type": "stream",
          "text": [
            "1/1 [==============================] - 0s 22ms/step\n"
          ]
        }
      ],
      "source": [
        "# 이미지에 대한 예측 생성\n",
        "predictions = model.predict(x)"
      ]
    },
    {
      "cell_type": "code",
      "execution_count": 10,
      "metadata": {
        "id": "MN69J6CS3V5W"
      },
      "outputs": [
        {
          "name": "stdout",
          "output_type": "stream",
          "text": [
            "Predicted: [('n04347754', 'submarine', 0.25977224), ('n04273569', 'speedboat', 0.15433092), ('n03673027', 'liner', 0.14445753)]\n"
          ]
        }
      ],
      "source": [
        "# 예측 결과 디코드\n",
        "# decode_predictions은 상위 3개의 예측 결과를 반환합니다.\n",
        "print('Predicted:', decode_predictions(predictions, top=3)[0])"
      ]
    }
  ],
  "metadata": {
    "colab": {
      "provenance": []
    },
    "kernelspec": {
      "display_name": "Python 3",
      "name": "python3"
    },
    "language_info": {
      "codemirror_mode": {
        "name": "ipython",
        "version": 3
      },
      "file_extension": ".py",
      "mimetype": "text/x-python",
      "name": "python",
      "nbconvert_exporter": "python",
      "pygments_lexer": "ipython3",
      "version": "3.8.19"
    }
  },
  "nbformat": 4,
  "nbformat_minor": 0
}
