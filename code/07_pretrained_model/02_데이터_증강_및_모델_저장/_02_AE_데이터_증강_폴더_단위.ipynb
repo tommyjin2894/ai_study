{
 "cells": [
  {
   "cell_type": "markdown",
   "metadata": {},
   "source": [
    "### data augementation(데이터 증강)\n",
    "\n",
    "- 데이터가 없으면 pretrained 이용\n",
    "- 부족한 데이터에 대한 해법 => augmentation\n",
    "\n",
    "- 일반화 성능 향상"
   ]
  },
  {
   "cell_type": "code",
   "execution_count": null,
   "metadata": {},
   "outputs": [],
   "source": [
    "# 증강전 모델학습\n",
    "import os\n",
    "import tensorflow as tf\n",
    "from tensorflow.keras import datasets, layers, models, optimizers\n",
    "\n",
    "import math\n",
    "import numpy as np\n",
    "from glob import glob\n",
    "from tensorflow.keras.preprocessing import image\n",
    "import matplotlib.pyplot as plt\n",
    "\n",
    "IMG_CHANNELS = 3\n",
    "IMG_ROWS = 256\n",
    "IMG_COLS = 256\n",
    "\n",
    "#define the convnet\n",
    "def build(input_shape, classes):\n",
    "    model = models.Sequential()\n",
    "    model.add(layers.Convolution2D(256, (3, 3), activation='relu',\n",
    "                        input_shape=input_shape))\n",
    "    model.add(layers.MaxPooling2D(pool_size=(3, 3)))\n",
    "    model.add(layers.Dropout(0.3))\n",
    "\n",
    "    model.add(layers.Convolution2D(128, (6, 6), activation='relu'))\n",
    "    model.add(layers.MaxPooling2D(pool_size=(3, 3)))\n",
    "    model.add(layers.Dropout(0.3))\n",
    "\n",
    "    model.add(layers.Convolution2D(64, (6, 6), activation='relu'))\n",
    "    model.add(layers.MaxPooling2D(pool_size=(3, 3)))\n",
    "    model.add(layers.Dropout(0.3))\n",
    "\n",
    "    model.add(layers.Flatten())\n",
    "    model.add(layers.Dense(32, activation='relu'))\n",
    "    model.add(layers.Dense(classes, activation='softmax'))\n",
    "    return model"
   ]
  },
  {
   "cell_type": "code",
   "execution_count": null,
   "metadata": {},
   "outputs": [],
   "source": [
    "folder_name = '../data/data_mw/'\n",
    "all_folders = os.listdir(folder_name)\n",
    "\n",
    "CLASSES = len(all_folders)  # 폴더 안의 폴더들\n",
    "\n",
    "image_vector = []\n",
    "labels_vector = []\n",
    "for foldername in all_folders:\n",
    "    forder_list = os.listdir(folder_name + foldername)\n",
    "    for filename in forder_list:\n",
    "        try:\n",
    "            file_path = folder_name + foldername +'/'+ filename\n",
    "            print(file_path)\n",
    "            img = image.load_img(file_path, target_size=(IMG_ROWS, IMG_COLS))\n",
    "            img_array = image.img_to_array(img)\n",
    "            image_vector.append(img_array)\n",
    "            labels_vector.append(all_folders.index(foldername))\n",
    "        except:\n",
    "            pass\n",
    "\n",
    "# numpy 배열로 변환\n",
    "image_vector = np.array(image_vector)\n",
    "labels_vector = np.array(labels_vector)\n",
    "\n",
    "y = labels_vector"
   ]
  },
  {
   "cell_type": "code",
   "execution_count": null,
   "metadata": {},
   "outputs": [],
   "source": [
    "from sklearn.model_selection import train_test_split\n",
    "X_train, X_test, y_train, y_test = train_test_split(image_vector, y, test_size=0.20, random_state=0)"
   ]
  },
  {
   "cell_type": "code",
   "execution_count": null,
   "metadata": {},
   "outputs": [],
   "source": [
    "X_train, X_test = X_train / 255, X_test / 255\n",
    "# convert to categorical\n",
    "# convert class vectors to binary class matrices\n",
    "y_train = tf.keras.utils.to_categorical(y_train, CLASSES)\n",
    "y_test = tf.keras.utils.to_categorical(y_test, CLASSES)"
   ]
  },
  {
   "cell_type": "code",
   "execution_count": null,
   "metadata": {},
   "outputs": [],
   "source": [
    "model=build((IMG_ROWS, IMG_COLS, IMG_CHANNELS), CLASSES)\n",
    "model.summary()"
   ]
  },
  {
   "cell_type": "code",
   "execution_count": null,
   "metadata": {},
   "outputs": [],
   "source": [
    "from tensorflow.keras.callbacks import EarlyStopping\n",
    "\n",
    "early_stopping = EarlyStopping(\n",
    "monitor='val_loss', # 검증 손실을 기준으로 min_delta=0.001, # 0.001보다 작은 변화는 무시 \n",
    "patience=10, # 10 에포크 동안 개선 없으면 중지 \n",
    "verbose=1, # 진행 상황 출력 \n",
    "mode='auto' # 자동으로 최소/최대를 결정 )\n",
    ")\n",
    "\n",
    "model.compile(loss='categorical_crossentropy', optimizer=optimizers.RMSprop(learning_rate=0.001), metrics=['accuracy'])\n",
    "\n",
    "history = model.fit(X_train, y_train, batch_size=32, epochs=100, validation_split=0.1, callbacks=[early_stopping])"
   ]
  },
  {
   "cell_type": "code",
   "execution_count": null,
   "metadata": {},
   "outputs": [],
   "source": [
    "import matplotlib.pyplot as plt\n",
    "plt.plot(history.history['loss'])\n",
    "plt.plot(history.history['val_loss'])\n",
    "plt.xlabel('epoch')\n",
    "plt.ylabel('loss')\n",
    "plt.legend(['train', 'val'])\n",
    "plt.show()"
   ]
  },
  {
   "cell_type": "code",
   "execution_count": null,
   "metadata": {},
   "outputs": [],
   "source": [
    "plt.plot(history.history['accuracy'])\n",
    "plt.plot(history.history['val_accuracy'])\n",
    "plt.xlabel('epoch')\n",
    "plt.ylabel('accuracy')\n",
    "plt.legend(['train','val'])\n",
    "plt.show()"
   ]
  },
  {
   "cell_type": "code",
   "execution_count": null,
   "metadata": {},
   "outputs": [],
   "source": [
    "model.save('model_man_woman.h5')  # H5 파일 포맷으로 저장"
   ]
  },
  {
   "cell_type": "code",
   "execution_count": null,
   "metadata": {},
   "outputs": [],
   "source": [
    "from tensorflow.keras.models import load_model\n",
    "\n",
    "# 저장된 모델 파일 로드\n",
    "model_saved = load_model('model_man_woman.h5')"
   ]
  },
  {
   "cell_type": "code",
   "execution_count": null,
   "metadata": {},
   "outputs": [],
   "source": [
    "folder_name = '../data/data_mw_add/'\n",
    "all_folders = os.listdir(folder_name)\n",
    "\n",
    "CLASSES = len(all_folders)  # 폴더 안의 폴더들\n",
    "\n",
    "image_vector_2 = []\n",
    "labels_vector_2= []\n",
    "for foldername in all_folders:\n",
    "    forder_list = os.listdir(folder_name + foldername)\n",
    "    for filename in forder_list:\n",
    "        try:\n",
    "            file_path = folder_name + foldername +'/'+ filename\n",
    "            print(file_path)\n",
    "            img = image.load_img(file_path, target_size=(IMG_ROWS, IMG_COLS))\n",
    "            img_array = image.img_to_array(img)\n",
    "            image_vector_2.append(img_array)\n",
    "            labels_vector_2.append(all_folders.index(foldername))\n",
    "        except:\n",
    "            pass\n",
    "\n",
    "# numpy 배열로 변환\n",
    "image_vector_2 = np.array(image_vector_2)\n",
    "labels_vector_2 = np.array(labels_vector_2)\n",
    "\n",
    "y_2 = labels_vector_2"
   ]
  },
  {
   "cell_type": "code",
   "execution_count": null,
   "metadata": {},
   "outputs": [],
   "source": [
    "from sklearn.model_selection import train_test_split\n",
    "X_train_2, X_test_2, y_train_2, y_test_2 = train_test_split(image_vector_2, y_2, test_size=0.20, random_state=0)"
   ]
  },
  {
   "cell_type": "code",
   "execution_count": null,
   "metadata": {},
   "outputs": [],
   "source": [
    "X_train_2, X_test_2 = X_train_2 / 255, X_test_2 / 255\n",
    "# convert to categorical\n",
    "# convert class vectors to binary class matrices\n",
    "y_train_2 = tf.keras.utils.to_categorical(y_train_2, CLASSES)\n",
    "y_test_2 = tf.keras.utils.to_categorical(y_test_2, CLASSES)"
   ]
  },
  {
   "cell_type": "code",
   "execution_count": null,
   "metadata": {},
   "outputs": [],
   "source": [
    "plt.imshow(X_train[0])"
   ]
  },
  {
   "cell_type": "code",
   "execution_count": null,
   "metadata": {},
   "outputs": [],
   "source": [
    "plt.imshow(X_train_2[0])"
   ]
  },
  {
   "cell_type": "code",
   "execution_count": null,
   "metadata": {},
   "outputs": [],
   "source": [
    "# model_saved.compile(loss='categorical_crossentropy', optimizer=optimizers.RMSprop(learning_rate=0.001), metrics=['accuracy'])\n",
    "history = model_saved.fit(X_train_2, y_train_2, batch_size=32, epochs=1000, validation_split=0.1, callbacks=[early_stopping])"
   ]
  },
  {
   "cell_type": "code",
   "execution_count": null,
   "metadata": {},
   "outputs": [],
   "source": [
    "print(f'''\\\n",
    "# 증강 전\n",
    "원본 데이터에 대한   기본 모델의 loss: {model.evaluate(X_test,y_test, verbose=0)[0]:0.3f}\\\n",
    ", accu: {model.evaluate(X_test,y_test, verbose=0)[1]:0.3f}\n",
    "증강된 데이터에      기본 모델의 loss: {model.evaluate(X_test_2,y_test_2, verbose=0)[0]:0.3f}\\\n",
    ", accu: {model.evaluate(X_test_2,y_test_2, verbose=0)[1]:0.3f}\n",
    "\n",
    "# 증강 후\n",
    "원본 데이터에 대한/증강 훈련 모델의 loss: {model_saved.evaluate(X_test,y_test, verbose=0)[0]:0.3f}\\\n",
    ", accu: {model_saved.evaluate(X_test,y_test, verbose=0)[1]:0.3f}\n",
    "증강된 데이터에   /증강 훈련 모델의 loss: {model_saved.evaluate(X_test_2,y_test_2, verbose=0)[0]:0.3f}\\\n",
    ", accu: {model_saved.evaluate(X_test_2,y_test_2, verbose=0)[1]:0.3f}\\\n",
    "''')"
   ]
  }
 ],
 "metadata": {
  "kernelspec": {
   "display_name": "tf-gpu",
   "language": "python",
   "name": "python3"
  },
  "language_info": {
   "codemirror_mode": {
    "name": "ipython",
    "version": 3
   },
   "file_extension": ".py",
   "mimetype": "text/x-python",
   "name": "python",
   "nbconvert_exporter": "python",
   "pygments_lexer": "ipython3",
   "version": "3.8.19"
  }
 },
 "nbformat": 4,
 "nbformat_minor": 2
}
