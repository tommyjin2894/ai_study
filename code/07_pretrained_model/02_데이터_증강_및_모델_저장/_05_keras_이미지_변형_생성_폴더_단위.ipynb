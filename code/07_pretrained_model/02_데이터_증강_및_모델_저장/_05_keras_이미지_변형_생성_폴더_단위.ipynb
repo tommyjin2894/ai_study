{
  "cells": [
    {
      "cell_type": "code",
      "execution_count": 1,
      "metadata": {
        "id": "DCkdqUgB8iXk"
      },
      "outputs": [],
      "source": [
        "import os\n",
        "import numpy as np\n",
        "from tensorflow.keras.preprocessing.image import ImageDataGenerator, load_img, img_to_array, array_to_img\n",
        "import matplotlib.pyplot as plt"
      ]
    },
    {
      "cell_type": "code",
      "execution_count": 2,
      "metadata": {
        "id": "t4_GVNBD9BEY"
      },
      "outputs": [],
      "source": [
        "# 데이터 증강을 위한 설정\n",
        "datagen = ImageDataGenerator(\n",
        "    rotation_range=30,\n",
        "    width_shift_range=0.1,\n",
        "    height_shift_range=0.1,\n",
        "    zoom_range=0.1,\n",
        "    horizontal_flip=True,\n",
        "    fill_mode='nearest'\n",
        ")\n"
      ]
    },
    {
      "cell_type": "code",
      "execution_count": 3,
      "metadata": {
        "id": "d-AdjtDu-g6L"
      },
      "outputs": [],
      "source": [
        "# # 데이터 증강, 저장 함수\n",
        "def load_and_augment_images(folder_path, save_to_folder=None, target_size=(128, 128), num_augmented_images=5):\n",
        "    filenames = [f for f in os.listdir(folder_path) if os.path.isfile(os.path.join(folder_path, f))] # Filter out directories\n",
        "    for filename in filenames:\n",
        "        try:\n",
        "            img_path = os.path.join(folder_path, filename)\n",
        "            img = load_img(img_path, target_size=target_size)\n",
        "            x = img_to_array(img)  # Convert image to array\n",
        "            x = x.reshape((1,) + x.shape)  # Reshape image\n",
        "\n",
        "            i = 0\n",
        "            for batch in datagen.flow(x, batch_size=1, save_to_dir=save_to_folder, save_prefix='aug_', save_format='jpeg'):\n",
        "                plt.figure(i)\n",
        "                # plt.imshow(array_to_img(batch[0]))\n",
        "                # plt.show()\n",
        "                i += 1\n",
        "                if i >= num_augmented_images:\n",
        "                    break  # Stop after generating a certain number of images\n",
        "        except:\n",
        "            pass"
      ]
    },
    {
      "cell_type": "code",
      "execution_count": 4,
      "metadata": {
        "colab": {
          "base_uri": "https://localhost:8080/",
          "height": 109
        },
        "id": "CUdQBQz589Ps",
        "outputId": "0de703ad-424a-460a-ea9d-d8fa16da46ce"
      },
      "outputs": [
        {
          "data": {
            "text/plain": [
              "<Figure size 640x480 with 0 Axes>"
            ]
          },
          "metadata": {},
          "output_type": "display_data"
        }
      ],
      "source": [
        "# Example usage\n",
        "folder_path = '../data/data_mw/man/'\n",
        "save_to_folder = '../data/data_mw_add_2/man' \n",
        "load_and_augment_images(folder_path, save_to_folder,(128,128),1)"
      ]
    },
    {
      "cell_type": "code",
      "execution_count": 5,
      "metadata": {},
      "outputs": [
        {
          "data": {
            "text/plain": [
              "<Figure size 640x480 with 0 Axes>"
            ]
          },
          "metadata": {},
          "output_type": "display_data"
        }
      ],
      "source": [
        "# Example usage\n",
        "folder_path = '../data/data_mw/woman/'\n",
        "save_to_folder = '../data/data_mw_add_2/woman' \n",
        "load_and_augment_images(folder_path, save_to_folder,(128,128),1)"
      ]
    }
  ],
  "metadata": {
    "colab": {
      "provenance": []
    },
    "kernelspec": {
      "display_name": "Python 3",
      "name": "python3"
    },
    "language_info": {
      "codemirror_mode": {
        "name": "ipython",
        "version": 3
      },
      "file_extension": ".py",
      "mimetype": "text/x-python",
      "name": "python",
      "nbconvert_exporter": "python",
      "pygments_lexer": "ipython3",
      "version": "3.8.19"
    }
  },
  "nbformat": 4,
  "nbformat_minor": 0
}
