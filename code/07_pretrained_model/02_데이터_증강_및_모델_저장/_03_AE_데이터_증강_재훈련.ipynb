{
  "cells": [
    {
      "cell_type": "markdown",
      "metadata": {
        "id": "Ho3BQDs0LUZa"
      },
      "source": [
        "<b>이미지 라벨링</b><br>\n",
        "파일명에 라벨 포함<br>\n",
        "파일명에서 클래스 정보 추출 <br>\n",
        "산과 바다 구분"
      ]
    },
    {
      "cell_type": "code",
      "execution_count": 88,
      "metadata": {
        "id": "aixXOiopPCS0"
      },
      "outputs": [],
      "source": [
        "import os\n",
        "import tensorflow as tf\n",
        "from tensorflow.keras import datasets, layers, models, optimizers"
      ]
    },
    {
      "cell_type": "code",
      "execution_count": 89,
      "metadata": {
        "id": "Pr7myloePCS1"
      },
      "outputs": [],
      "source": [
        "import math\n",
        "import numpy as np\n",
        "from glob import glob\n",
        "from tensorflow.keras.preprocessing import image\n",
        "import matplotlib.pyplot as plt"
      ]
    },
    {
      "cell_type": "code",
      "execution_count": 90,
      "metadata": {
        "id": "PAVRlotePCS1"
      },
      "outputs": [],
      "source": [
        "IMG_CHANNELS = 3\n",
        "IMG_ROWS = 64\n",
        "IMG_COLS = 64\n",
        "CLASSES = 2  # 산, 바다"
      ]
    },
    {
      "cell_type": "code",
      "execution_count": 91,
      "metadata": {
        "colab": {
          "base_uri": "https://localhost:8080/"
        },
        "id": "aCK-HTJlsWfy",
        "outputId": "8f51a150-4d32-46ab-f6e6-ead7f511ac8f"
      },
      "outputs": [],
      "source": [
        "# 파일 경로에 대한 glob 패턴을 수정하세요.\n",
        "mountain_files = glob('..\\..\\data\\multi\\m_산\\*jpg')\n",
        "sea_files = glob('..\\..\\data\\multi\\s_바다\\*jpg')\n",
        "\n",
        "# 이미지와 라벨을 불러오는 함수 정의\n",
        "def load_images_and_labels(files, label):\n",
        "    images = [image.load_img(p, target_size=(IMG_ROWS, IMG_COLS)) for p in files]\n",
        "    labels = [label] * len(files)\n",
        "    return images, labels\n",
        "\n",
        "# 산과 바다 이미지 및 라벨 불러오기\n",
        "mountain_images, mountain_labels = load_images_and_labels(mountain_files, 0)  # 산을 0으로 라벨링\n",
        "sea_images, sea_labels = load_images_and_labels(sea_files, 1)  # 바다를 1로 라벨링\n",
        "\n",
        "# 이미지와 라벨 병합\n",
        "images = mountain_images + sea_images\n",
        "y = mountain_labels + sea_labels"
      ]
    },
    {
      "cell_type": "code",
      "execution_count": 92,
      "metadata": {
        "id": "nB0Tuk0aPCS1"
      },
      "outputs": [],
      "source": [
        "#define the convnet\n",
        "def build(input_shape, classes):\n",
        "    model = models.Sequential()\n",
        "    model.add(layers.Convolution2D(32, (3, 3), activation='relu',\n",
        "                        input_shape=input_shape))\n",
        "    model.add(layers.MaxPooling2D(pool_size=(2, 2)))\n",
        "    model.add(layers.Dropout(0.25))\n",
        "\n",
        "    model.add(layers.Flatten())\n",
        "    model.add(layers.Dense(32, activation='relu'))\n",
        "    model.add(layers.Dense(classes, activation='softmax'))\n",
        "    return model"
      ]
    },
    {
      "cell_type": "code",
      "execution_count": 93,
      "metadata": {
        "id": "dHmdkEJns_UQ"
      },
      "outputs": [],
      "source": [
        "# 이미지 벡터화\n",
        "image_vector = np.asarray([image.img_to_array(img) for img in images])"
      ]
    },
    {
      "cell_type": "code",
      "execution_count": 94,
      "metadata": {
        "id": "ejXdFVJU7xuu"
      },
      "outputs": [
        {
          "data": {
            "text/plain": [
              "array([[[254., 254., 254.],\n",
              "        [  0.,   0.,   0.],\n",
              "        [ 95.,  95.,  95.],\n",
              "        ...,\n",
              "        [133., 133., 133.],\n",
              "        [  1.,   1.,   1.],\n",
              "        [ 70.,  70.,  70.]],\n",
              "\n",
              "       [[255., 255., 255.],\n",
              "        [ 21.,  21.,  21.],\n",
              "        [148., 148., 148.],\n",
              "        ...,\n",
              "        [ 42.,  42.,  42.],\n",
              "        [ 26.,  26.,  26.],\n",
              "        [ 18.,  18.,  18.]],\n",
              "\n",
              "       [[179., 179., 179.],\n",
              "        [108., 108., 108.],\n",
              "        [251., 251., 251.],\n",
              "        ...,\n",
              "        [ 62.,  62.,  62.],\n",
              "        [ 59.,  59.,  59.],\n",
              "        [ 76.,  76.,  76.]],\n",
              "\n",
              "       ...,\n",
              "\n",
              "       [[ 17.,  17.,  17.],\n",
              "        [149., 149., 149.],\n",
              "        [ 14.,  14.,  14.],\n",
              "        ...,\n",
              "        [201., 201., 201.],\n",
              "        [161., 161., 161.],\n",
              "        [153., 153., 153.]],\n",
              "\n",
              "       [[  9.,   9.,   9.],\n",
              "        [ 69.,  69.,  69.],\n",
              "        [ 14.,  14.,  14.],\n",
              "        ...,\n",
              "        [151., 151., 151.],\n",
              "        [147., 147., 147.],\n",
              "        [126., 126., 126.]],\n",
              "\n",
              "       [[  1.,   1.,   1.],\n",
              "        [ 32.,  32.,  32.],\n",
              "        [  6.,   6.,   6.],\n",
              "        ...,\n",
              "        [ 29.,  29.,  29.],\n",
              "        [183., 183., 183.],\n",
              "        [199., 199., 199.]]], dtype=float32)"
            ]
          },
          "execution_count": 94,
          "metadata": {},
          "output_type": "execute_result"
        }
      ],
      "source": [
        "image_vector[0]"
      ]
    },
    {
      "cell_type": "code",
      "execution_count": 95,
      "metadata": {
        "colab": {
          "base_uri": "https://localhost:8080/"
        },
        "id": "MhFaL9MxPCS1",
        "outputId": "4fa834fa-ccce-48f0-8859-4754c7313069"
      },
      "outputs": [
        {
          "data": {
            "text/plain": [
              "(290, 64, 64, 3)"
            ]
          },
          "execution_count": 95,
          "metadata": {},
          "output_type": "execute_result"
        }
      ],
      "source": [
        "image_vector.shape"
      ]
    },
    {
      "cell_type": "code",
      "execution_count": 96,
      "metadata": {
        "colab": {
          "base_uri": "https://localhost:8080/"
        },
        "id": "M_QZ6YIyPCS1",
        "outputId": "abd8d17c-61f0-4684-9048-f8cda69fd6e7"
      },
      "outputs": [
        {
          "data": {
            "text/plain": [
              "(64, 64, 3)"
            ]
          },
          "execution_count": 96,
          "metadata": {},
          "output_type": "execute_result"
        }
      ],
      "source": [
        "image_vector[0].shape"
      ]
    },
    {
      "cell_type": "code",
      "execution_count": 97,
      "metadata": {
        "colab": {
          "base_uri": "https://localhost:8080/",
          "height": 450
        },
        "id": "gPuyuxFXPCS1",
        "outputId": "33c397cc-d9f9-4f71-a2dc-9abd313d0a54"
      },
      "outputs": [
        {
          "data": {
            "text/plain": [
              "<matplotlib.image.AxesImage at 0x1996a47d8b0>"
            ]
          },
          "execution_count": 97,
          "metadata": {},
          "output_type": "execute_result"
        },
        {
          "data": {
            "image/png": "[encoded data removed]",
            "text/plain": [
              "<Figure size 640x480 with 1 Axes>"
            ]
          },
          "metadata": {},
          "output_type": "display_data"
        }
      ],
      "source": [
        "plt.imshow(image_vector[0]/255)"
      ]
    },
    {
      "cell_type": "code",
      "execution_count": 98,
      "metadata": {
        "id": "285CtWvoPCS1"
      },
      "outputs": [],
      "source": [
        "# y=[1] * 1000 + [0] * 1000"
      ]
    },
    {
      "cell_type": "code",
      "execution_count": 99,
      "metadata": {
        "collapsed": true,
        "id": "LWz26A4LPCS1"
      },
      "outputs": [
        {
          "data": {
            "text/plain": [
              "[0,\n",
              " 0,\n",
              " 0,\n",
              " 0,\n",
              " 0,\n",
              " 0,\n",
              " 0,\n",
              " 0,\n",
              " 0,\n",
              " 0,\n",
              " 0,\n",
              " 0,\n",
              " 0,\n",
              " 0,\n",
              " 0,\n",
              " 0,\n",
              " 0,\n",
              " 0,\n",
              " 0,\n",
              " 0,\n",
              " 0,\n",
              " 0,\n",
              " 0,\n",
              " 0,\n",
              " 0,\n",
              " 0,\n",
              " 0,\n",
              " 0,\n",
              " 0,\n",
              " 0,\n",
              " 0,\n",
              " 0,\n",
              " 0,\n",
              " 0,\n",
              " 0,\n",
              " 0,\n",
              " 0,\n",
              " 0,\n",
              " 0,\n",
              " 0,\n",
              " 0,\n",
              " 0,\n",
              " 0,\n",
              " 0,\n",
              " 0,\n",
              " 0,\n",
              " 0,\n",
              " 0,\n",
              " 0,\n",
              " 0,\n",
              " 0,\n",
              " 0,\n",
              " 0,\n",
              " 0,\n",
              " 0,\n",
              " 0,\n",
              " 0,\n",
              " 0,\n",
              " 0,\n",
              " 0,\n",
              " 0,\n",
              " 0,\n",
              " 0,\n",
              " 0,\n",
              " 0,\n",
              " 0,\n",
              " 0,\n",
              " 0,\n",
              " 0,\n",
              " 0,\n",
              " 0,\n",
              " 0,\n",
              " 0,\n",
              " 0,\n",
              " 0,\n",
              " 0,\n",
              " 0,\n",
              " 0,\n",
              " 0,\n",
              " 0,\n",
              " 0,\n",
              " 0,\n",
              " 0,\n",
              " 0,\n",
              " 0,\n",
              " 0,\n",
              " 0,\n",
              " 0,\n",
              " 0,\n",
              " 0,\n",
              " 0,\n",
              " 0,\n",
              " 0,\n",
              " 0,\n",
              " 0,\n",
              " 0,\n",
              " 0,\n",
              " 0,\n",
              " 0,\n",
              " 1,\n",
              " 1,\n",
              " 1,\n",
              " 1,\n",
              " 1,\n",
              " 1,\n",
              " 1,\n",
              " 1,\n",
              " 1,\n",
              " 1,\n",
              " 1,\n",
              " 1,\n",
              " 1,\n",
              " 1,\n",
              " 1,\n",
              " 1,\n",
              " 1,\n",
              " 1,\n",
              " 1,\n",
              " 1,\n",
              " 1,\n",
              " 1,\n",
              " 1,\n",
              " 1,\n",
              " 1,\n",
              " 1,\n",
              " 1,\n",
              " 1,\n",
              " 1,\n",
              " 1,\n",
              " 1,\n",
              " 1,\n",
              " 1,\n",
              " 1,\n",
              " 1,\n",
              " 1,\n",
              " 1,\n",
              " 1,\n",
              " 1,\n",
              " 1,\n",
              " 1,\n",
              " 1,\n",
              " 1,\n",
              " 1,\n",
              " 1,\n",
              " 1,\n",
              " 1,\n",
              " 1,\n",
              " 1,\n",
              " 1,\n",
              " 1,\n",
              " 1,\n",
              " 1,\n",
              " 1,\n",
              " 1,\n",
              " 1,\n",
              " 1,\n",
              " 1,\n",
              " 1,\n",
              " 1,\n",
              " 1,\n",
              " 1,\n",
              " 1,\n",
              " 1,\n",
              " 1,\n",
              " 1,\n",
              " 1,\n",
              " 1,\n",
              " 1,\n",
              " 1,\n",
              " 1,\n",
              " 1,\n",
              " 1,\n",
              " 1,\n",
              " 1,\n",
              " 1,\n",
              " 1,\n",
              " 1,\n",
              " 1,\n",
              " 1,\n",
              " 1,\n",
              " 1,\n",
              " 1,\n",
              " 1,\n",
              " 1,\n",
              " 1,\n",
              " 1,\n",
              " 1,\n",
              " 1,\n",
              " 1,\n",
              " 1,\n",
              " 1,\n",
              " 1,\n",
              " 1,\n",
              " 1,\n",
              " 1,\n",
              " 1,\n",
              " 1,\n",
              " 1,\n",
              " 1,\n",
              " 1,\n",
              " 1,\n",
              " 1,\n",
              " 1,\n",
              " 1,\n",
              " 1,\n",
              " 1,\n",
              " 1,\n",
              " 1,\n",
              " 1,\n",
              " 1,\n",
              " 1,\n",
              " 1,\n",
              " 1,\n",
              " 1,\n",
              " 1,\n",
              " 1,\n",
              " 1,\n",
              " 1,\n",
              " 1,\n",
              " 1,\n",
              " 1,\n",
              " 1,\n",
              " 1,\n",
              " 1,\n",
              " 1,\n",
              " 1,\n",
              " 1,\n",
              " 1,\n",
              " 1,\n",
              " 1,\n",
              " 1,\n",
              " 1,\n",
              " 1,\n",
              " 1,\n",
              " 1,\n",
              " 1,\n",
              " 1,\n",
              " 1,\n",
              " 1,\n",
              " 1,\n",
              " 1,\n",
              " 1,\n",
              " 1,\n",
              " 1,\n",
              " 1,\n",
              " 1,\n",
              " 1,\n",
              " 1,\n",
              " 1,\n",
              " 1,\n",
              " 1,\n",
              " 1,\n",
              " 1,\n",
              " 1,\n",
              " 1,\n",
              " 1,\n",
              " 1,\n",
              " 1,\n",
              " 1,\n",
              " 1,\n",
              " 1,\n",
              " 1,\n",
              " 1,\n",
              " 1,\n",
              " 1,\n",
              " 1,\n",
              " 1,\n",
              " 1,\n",
              " 1,\n",
              " 1,\n",
              " 1,\n",
              " 1,\n",
              " 1,\n",
              " 1,\n",
              " 1,\n",
              " 1,\n",
              " 1,\n",
              " 1,\n",
              " 1,\n",
              " 1,\n",
              " 1,\n",
              " 1,\n",
              " 1,\n",
              " 1,\n",
              " 1,\n",
              " 1,\n",
              " 1,\n",
              " 1,\n",
              " 1,\n",
              " 1]"
            ]
          },
          "execution_count": 99,
          "metadata": {},
          "output_type": "execute_result"
        }
      ],
      "source": [
        "y"
      ]
    },
    {
      "cell_type": "code",
      "execution_count": 100,
      "metadata": {
        "id": "kMWxOoP_PCS2"
      },
      "outputs": [],
      "source": [
        "from sklearn.model_selection import train_test_split\n",
        "X_train, X_test, y_train, y_test = train_test_split(image_vector, y, test_size=0.20, random_state=0)"
      ]
    },
    {
      "cell_type": "code",
      "execution_count": 101,
      "metadata": {
        "colab": {
          "base_uri": "https://localhost:8080/"
        },
        "id": "DLA6A7UWPCS2",
        "outputId": "537ee560-261d-48e1-aef0-0a66887696c4"
      },
      "outputs": [
        {
          "data": {
            "text/plain": [
              "(232, 64, 64, 3)"
            ]
          },
          "execution_count": 101,
          "metadata": {},
          "output_type": "execute_result"
        }
      ],
      "source": [
        "X_train.shape"
      ]
    },
    {
      "cell_type": "code",
      "execution_count": 102,
      "metadata": {
        "id": "iKa3tBY2PCS2"
      },
      "outputs": [],
      "source": [
        "X_train, X_test = X_train / 255, X_test / 255\n",
        "# convert to categorical\n",
        "# convert class vectors to binary class matrices\n",
        "y_train = tf.keras.utils.to_categorical(y_train, 2)\n",
        "y_test = tf.keras.utils.to_categorical(y_test, 2)"
      ]
    },
    {
      "cell_type": "code",
      "execution_count": 103,
      "metadata": {
        "colab": {
          "base_uri": "https://localhost:8080/"
        },
        "id": "G_ajx3RSPCS2",
        "outputId": "36b2833a-d6e8-49e2-b05b-cc16c131e38a"
      },
      "outputs": [
        {
          "data": {
            "text/plain": [
              "array([0., 1.], dtype=float32)"
            ]
          },
          "execution_count": 103,
          "metadata": {},
          "output_type": "execute_result"
        }
      ],
      "source": [
        "y_train[200]"
      ]
    },
    {
      "cell_type": "code",
      "execution_count": 104,
      "metadata": {
        "colab": {
          "base_uri": "https://localhost:8080/"
        },
        "id": "1qcQGKAAPCS2",
        "outputId": "697f4d86-1d36-49ba-984a-958106b34035"
      },
      "outputs": [
        {
          "name": "stdout",
          "output_type": "stream",
          "text": [
            "Model: \"sequential_3\"\n",
            "_________________________________________________________________\n",
            " Layer (type)                Output Shape              Param #   \n",
            "=================================================================\n",
            " conv2d_3 (Conv2D)           (None, 62, 62, 32)        896       \n",
            "                                                                 \n",
            " max_pooling2d_3 (MaxPooling  (None, 31, 31, 32)       0         \n",
            " 2D)                                                             \n",
            "                                                                 \n",
            " dropout_3 (Dropout)         (None, 31, 31, 32)        0         \n",
            "                                                                 \n",
            " flatten_3 (Flatten)         (None, 30752)             0         \n",
            "                                                                 \n",
            " dense_6 (Dense)             (None, 32)                984096    \n",
            "                                                                 \n",
            " dense_7 (Dense)             (None, 2)                 66        \n",
            "                                                                 \n",
            "=================================================================\n",
            "Total params: 985,058\n",
            "Trainable params: 985,058\n",
            "Non-trainable params: 0\n",
            "_________________________________________________________________\n"
          ]
        }
      ],
      "source": [
        "model=build((IMG_ROWS, IMG_COLS, IMG_CHANNELS), CLASSES)\n",
        "model.summary()"
      ]
    },
    {
      "cell_type": "code",
      "execution_count": 105,
      "metadata": {
        "colab": {
          "base_uri": "https://localhost:8080/"
        },
        "id": "YnH7hmgxPCS2",
        "outputId": "5af41ee8-c55d-4bd8-98d2-50c83df0283e"
      },
      "outputs": [
        {
          "name": "stdout",
          "output_type": "stream",
          "text": [
            "Epoch 1/50\n",
            "2/2 [==============================] - 1s 246ms/step - loss: 2.2765 - accuracy: 0.6346 - val_loss: 3.2415 - val_accuracy: 0.6667\n",
            "Epoch 2/50\n",
            "2/2 [==============================] - 0s 121ms/step - loss: 2.7722 - accuracy: 0.6394 - val_loss: 0.6419 - val_accuracy: 0.6667\n",
            "Epoch 3/50\n",
            "2/2 [==============================] - 0s 118ms/step - loss: 0.6502 - accuracy: 0.6394 - val_loss: 0.6286 - val_accuracy: 0.6667\n",
            "Epoch 4/50\n",
            "2/2 [==============================] - 0s 108ms/step - loss: 0.6140 - accuracy: 0.6538 - val_loss: 0.6061 - val_accuracy: 0.6667\n",
            "Epoch 5/50\n",
            "2/2 [==============================] - 0s 121ms/step - loss: 0.5937 - accuracy: 0.6731 - val_loss: 0.6302 - val_accuracy: 0.6667\n",
            "Epoch 6/50\n",
            "2/2 [==============================] - 0s 113ms/step - loss: 0.6609 - accuracy: 0.6731 - val_loss: 0.6074 - val_accuracy: 0.6667\n",
            "Epoch 7/50\n",
            "2/2 [==============================] - 0s 113ms/step - loss: 0.6394 - accuracy: 0.6779 - val_loss: 0.6043 - val_accuracy: 0.6667\n",
            "Epoch 8/50\n",
            "2/2 [==============================] - 0s 110ms/step - loss: 0.5979 - accuracy: 0.6394 - val_loss: 0.5954 - val_accuracy: 0.6667\n",
            "Epoch 9/50\n",
            "2/2 [==============================] - 0s 112ms/step - loss: 0.5543 - accuracy: 0.6587 - val_loss: 0.6260 - val_accuracy: 0.6667\n",
            "Epoch 10/50\n",
            "2/2 [==============================] - 0s 111ms/step - loss: 0.6341 - accuracy: 0.5817 - val_loss: 0.6277 - val_accuracy: 0.6667\n",
            "Epoch 11/50\n",
            "2/2 [==============================] - 0s 113ms/step - loss: 0.6102 - accuracy: 0.6971 - val_loss: 0.6109 - val_accuracy: 0.6667\n",
            "Epoch 12/50\n",
            "2/2 [==============================] - 0s 113ms/step - loss: 0.5902 - accuracy: 0.7163 - val_loss: 0.6648 - val_accuracy: 0.5833\n",
            "Epoch 13/50\n",
            "2/2 [==============================] - 0s 119ms/step - loss: 0.6214 - accuracy: 0.7356 - val_loss: 0.5929 - val_accuracy: 0.6667\n",
            "Epoch 14/50\n",
            "2/2 [==============================] - 0s 119ms/step - loss: 0.5593 - accuracy: 0.7260 - val_loss: 0.6043 - val_accuracy: 0.7083\n",
            "Epoch 15/50\n",
            "2/2 [==============================] - 0s 111ms/step - loss: 0.5512 - accuracy: 0.7404 - val_loss: 0.6206 - val_accuracy: 0.6667\n",
            "Epoch 16/50\n",
            "2/2 [==============================] - 0s 113ms/step - loss: 0.5335 - accuracy: 0.7019 - val_loss: 0.5767 - val_accuracy: 0.6667\n",
            "Epoch 17/50\n",
            "2/2 [==============================] - 0s 113ms/step - loss: 0.5279 - accuracy: 0.6875 - val_loss: 0.7505 - val_accuracy: 0.6667\n",
            "Epoch 18/50\n",
            "2/2 [==============================] - 0s 111ms/step - loss: 0.6233 - accuracy: 0.7404 - val_loss: 0.6248 - val_accuracy: 0.6667\n",
            "Epoch 19/50\n",
            "2/2 [==============================] - 0s 112ms/step - loss: 0.5557 - accuracy: 0.7260 - val_loss: 0.6486 - val_accuracy: 0.6667\n",
            "Epoch 20/50\n",
            "2/2 [==============================] - 0s 112ms/step - loss: 0.5741 - accuracy: 0.7596 - val_loss: 0.6449 - val_accuracy: 0.6667\n",
            "Epoch 21/50\n",
            "2/2 [==============================] - 0s 114ms/step - loss: 0.5709 - accuracy: 0.7356 - val_loss: 0.5948 - val_accuracy: 0.6667\n",
            "Epoch 22/50\n",
            "2/2 [==============================] - 0s 144ms/step - loss: 0.5218 - accuracy: 0.7308 - val_loss: 0.5955 - val_accuracy: 0.6667\n",
            "Epoch 23/50\n",
            "2/2 [==============================] - 0s 112ms/step - loss: 0.4958 - accuracy: 0.7452 - val_loss: 0.5869 - val_accuracy: 0.6667\n",
            "Epoch 24/50\n",
            "2/2 [==============================] - 0s 110ms/step - loss: 0.4689 - accuracy: 0.7452 - val_loss: 0.5587 - val_accuracy: 0.6667\n",
            "Epoch 25/50\n",
            "2/2 [==============================] - 0s 114ms/step - loss: 0.4654 - accuracy: 0.7500 - val_loss: 0.6131 - val_accuracy: 0.6667\n",
            "Epoch 26/50\n",
            "2/2 [==============================] - 0s 108ms/step - loss: 0.6211 - accuracy: 0.8125 - val_loss: 0.6683 - val_accuracy: 0.5417\n",
            "Epoch 27/50\n",
            "2/2 [==============================] - 0s 119ms/step - loss: 0.5913 - accuracy: 0.7933 - val_loss: 0.5679 - val_accuracy: 0.6667\n",
            "Epoch 28/50\n",
            "2/2 [==============================] - 0s 114ms/step - loss: 0.4599 - accuracy: 0.7163 - val_loss: 0.5578 - val_accuracy: 0.7083\n",
            "Epoch 29/50\n",
            "2/2 [==============================] - 0s 110ms/step - loss: 0.4608 - accuracy: 0.8077 - val_loss: 0.5601 - val_accuracy: 0.6667\n",
            "Epoch 30/50\n",
            "2/2 [==============================] - 0s 114ms/step - loss: 0.4387 - accuracy: 0.7692 - val_loss: 0.5506 - val_accuracy: 0.6667\n",
            "Epoch 31/50\n",
            "2/2 [==============================] - 0s 111ms/step - loss: 0.4438 - accuracy: 0.7933 - val_loss: 0.5965 - val_accuracy: 0.7083\n",
            "Epoch 32/50\n",
            "2/2 [==============================] - 0s 122ms/step - loss: 0.5050 - accuracy: 0.8221 - val_loss: 0.5869 - val_accuracy: 0.7500\n",
            "Epoch 33/50\n",
            "2/2 [==============================] - 0s 117ms/step - loss: 0.5034 - accuracy: 0.8317 - val_loss: 0.5622 - val_accuracy: 0.7500\n",
            "Epoch 34/50\n",
            "2/2 [==============================] - 0s 163ms/step - loss: 0.4580 - accuracy: 0.8413 - val_loss: 0.5446 - val_accuracy: 0.7500\n",
            "Epoch 35/50\n",
            "2/2 [==============================] - 0s 119ms/step - loss: 0.4496 - accuracy: 0.8221 - val_loss: 0.6036 - val_accuracy: 0.7083\n",
            "Epoch 36/50\n",
            "2/2 [==============================] - 0s 113ms/step - loss: 0.4975 - accuracy: 0.8413 - val_loss: 0.5396 - val_accuracy: 0.6667\n",
            "Epoch 37/50\n",
            "2/2 [==============================] - 0s 112ms/step - loss: 0.4295 - accuracy: 0.8606 - val_loss: 0.6227 - val_accuracy: 0.6667\n",
            "Epoch 38/50\n",
            "2/2 [==============================] - 0s 117ms/step - loss: 0.4121 - accuracy: 0.7981 - val_loss: 0.5773 - val_accuracy: 0.7083\n",
            "Epoch 39/50\n",
            "2/2 [==============================] - 0s 112ms/step - loss: 0.3968 - accuracy: 0.8077 - val_loss: 0.5656 - val_accuracy: 0.7500\n",
            "Epoch 40/50\n",
            "2/2 [==============================] - 0s 131ms/step - loss: 0.4314 - accuracy: 0.8654 - val_loss: 0.5728 - val_accuracy: 0.7500\n",
            "Epoch 41/50\n",
            "2/2 [==============================] - 0s 114ms/step - loss: 0.4552 - accuracy: 0.8750 - val_loss: 0.5385 - val_accuracy: 0.6667\n",
            "Epoch 42/50\n",
            "2/2 [==============================] - 0s 122ms/step - loss: 0.4002 - accuracy: 0.8365 - val_loss: 0.5499 - val_accuracy: 0.7083\n",
            "Epoch 43/50\n",
            "2/2 [==============================] - 0s 117ms/step - loss: 0.4524 - accuracy: 0.8462 - val_loss: 0.5860 - val_accuracy: 0.7917\n",
            "Epoch 44/50\n",
            "2/2 [==============================] - 0s 107ms/step - loss: 0.4752 - accuracy: 0.9038 - val_loss: 0.6189 - val_accuracy: 0.6667\n",
            "Epoch 45/50\n",
            "2/2 [==============================] - 0s 115ms/step - loss: 0.4281 - accuracy: 0.8029 - val_loss: 0.6344 - val_accuracy: 0.6667\n",
            "Epoch 46/50\n",
            "2/2 [==============================] - 0s 114ms/step - loss: 0.4162 - accuracy: 0.8125 - val_loss: 0.6567 - val_accuracy: 0.6667\n",
            "Epoch 47/50\n",
            "2/2 [==============================] - 0s 117ms/step - loss: 0.4187 - accuracy: 0.8269 - val_loss: 0.6579 - val_accuracy: 0.6667\n",
            "Epoch 48/50\n",
            "2/2 [==============================] - 0s 65ms/step - loss: 0.3844 - accuracy: 0.8173 - val_loss: 0.6108 - val_accuracy: 0.7083\n",
            "Epoch 49/50\n",
            "2/2 [==============================] - 0s 62ms/step - loss: 0.3750 - accuracy: 0.8750 - val_loss: 0.6446 - val_accuracy: 0.6667\n",
            "Epoch 50/50\n",
            "2/2 [==============================] - 0s 72ms/step - loss: 0.3702 - accuracy: 0.8654 - val_loss: 0.6504 - val_accuracy: 0.6667\n"
          ]
        }
      ],
      "source": [
        "model.compile(loss='binary_crossentropy', optimizer=optimizers.RMSprop(learning_rate=0.001), metrics=['accuracy'])\n",
        "\n",
        "history = model.fit(X_train, y_train, batch_size=128, epochs=50, validation_split=0.1)"
      ]
    },
    {
      "cell_type": "code",
      "execution_count": 106,
      "metadata": {
        "colab": {
          "base_uri": "https://localhost:8080/",
          "height": 449
        },
        "id": "z0K0__h1PCS2",
        "outputId": "03ee398a-fef3-4f7f-f117-fee3f22ef22a"
      },
      "outputs": [
        {
          "data": {
            "image/png": "[encoded data removed]",
            "text/plain": [
              "<Figure size 640x480 with 1 Axes>"
            ]
          },
          "metadata": {},
          "output_type": "display_data"
        }
      ],
      "source": [
        "import matplotlib.pyplot as plt\n",
        "plt.plot(history.history['loss'])\n",
        "plt.plot(history.history['val_loss'])\n",
        "plt.xlabel('epoch')\n",
        "plt.ylabel('loss')\n",
        "plt.legend(['train', 'val'])\n",
        "plt.show()"
      ]
    },
    {
      "cell_type": "code",
      "execution_count": 107,
      "metadata": {
        "colab": {
          "base_uri": "https://localhost:8080/",
          "height": 449
        },
        "id": "CCPHrJhwPCS2",
        "outputId": "410cc8b8-aadf-4f16-b18b-4373d91fe9d1"
      },
      "outputs": [
        {
          "data": {
            "image/png": "[encoded data removed]",
            "text/plain": [
              "<Figure size 640x480 with 1 Axes>"
            ]
          },
          "metadata": {},
          "output_type": "display_data"
        }
      ],
      "source": [
        "plt.plot(history.history['accuracy'])\n",
        "plt.plot(history.history['val_accuracy'])\n",
        "plt.xlabel('epoch')\n",
        "plt.ylabel('accuracy')\n",
        "plt.legend(['train','val'])\n",
        "plt.show()"
      ]
    },
    {
      "cell_type": "markdown",
      "metadata": {},
      "source": [
        "### 재훈련 전"
      ]
    },
    {
      "cell_type": "code",
      "execution_count": 108,
      "metadata": {
        "colab": {
          "base_uri": "https://localhost:8080/"
        },
        "id": "19tsxPYzPCS2",
        "outputId": "2327eb5d-23a9-42ac-94a0-95fe58280ad8"
      },
      "outputs": [
        {
          "name": "stdout",
          "output_type": "stream",
          "text": [
            "2/2 [==============================] - 0s 7ms/step - loss: 0.6448 - accuracy: 0.7414\n",
            "\n",
            "Test loss: 0.6447800993919373\n",
            "Test accuracy: 0.7413793206214905\n"
          ]
        }
      ],
      "source": [
        "score = model.evaluate(X_test, y_test)\n",
        "print(\"\\nTest loss:\", score[0])\n",
        "print('Test accuracy:', score[1])"
      ]
    },
    {
      "cell_type": "code",
      "execution_count": 109,
      "metadata": {
        "id": "82GpO3CSPCS2"
      },
      "outputs": [],
      "source": [
        "# 모델 저장\n",
        "\n",
        "model.save('model_m,s.h5')  # H5 파일 포맷으로 저장"
      ]
    },
    {
      "cell_type": "code",
      "execution_count": 110,
      "metadata": {},
      "outputs": [],
      "source": [
        "#추가 이미지 학습\n",
        "# 파일 경로에 대한 glob 패턴을 수정하세요.\n",
        "mountain_files_added = glob('..\\..\\data\\multi\\m_added\\*jpg')\n",
        "seas_files_added = glob('..\\..\\data\\multi\\s_added\\*jpg')\n",
        "# 이미지와 라벨을 불러오는 함수 정의\n",
        "def load_images_and_labels(files, label):\n",
        "    images = [image.load_img(p, target_size=(IMG_ROWS, IMG_COLS)) for p in files]\n",
        "    labels = [label] * len(files)\n",
        "    return images, labels\n",
        "\n",
        "# 산과 바다 이미지 및 라벨 불러오기\n",
        "mountain_files_added_images, mountain_files_added_labels = load_images_and_labels(mountain_files_added, 0)  # 산을 0으로 라벨링\n",
        "seas_files_added_images, seas_files_added_labels = load_images_and_labels(seas_files_added, 1)  \n",
        "\n",
        "# 이미지와 라벨 병합\n",
        "images_added = mountain_files_added_images + seas_files_added_images\n",
        "y_added = mountain_files_added_labels + seas_files_added_labels"
      ]
    },
    {
      "cell_type": "code",
      "execution_count": 111,
      "metadata": {},
      "outputs": [],
      "source": [
        "# 이미지 벡터화\n",
        "image_vector_ = np.asarray([image.img_to_array(img) for img in images_added])"
      ]
    },
    {
      "cell_type": "code",
      "execution_count": 112,
      "metadata": {},
      "outputs": [],
      "source": [
        "from sklearn.model_selection import train_test_split\n",
        "X_train_2, X_test_2, y_train_2, y_test_2 = train_test_split(image_vector_, y_added, test_size=0.20, random_state=0)"
      ]
    },
    {
      "cell_type": "code",
      "execution_count": 113,
      "metadata": {},
      "outputs": [],
      "source": [
        "X_train_2, X_test_2 = X_train_2 / 255, X_test_2 / 255\n",
        "# convert to categorical\n",
        "# convert class vectors to binary class matrices\n",
        "y_train_2 = tf.keras.utils.to_categorical(y_train_2, 2)\n",
        "y_test_2 = tf.keras.utils.to_categorical(y_test_2, 2)"
      ]
    },
    {
      "cell_type": "code",
      "execution_count": 114,
      "metadata": {},
      "outputs": [],
      "source": [
        "##############################  모델 불러오기\n",
        "from tensorflow.keras.models import load_model\n",
        "\n",
        "# 저장된 모델 파일 로드\n",
        "model_saved = load_model('model_m,s.h5')"
      ]
    },
    {
      "cell_type": "code",
      "execution_count": 117,
      "metadata": {},
      "outputs": [
        {
          "name": "stdout",
          "output_type": "stream",
          "text": [
            "Epoch 1/50\n",
            "1/1 [==============================] - 1s 592ms/step - loss: 1.0335 - accuracy: 0.5000 - val_loss: 0.7034 - val_accuracy: 0.5000\n",
            "Epoch 2/50\n",
            "1/1 [==============================] - 0s 96ms/step - loss: 0.7010 - accuracy: 0.7143 - val_loss: 0.4623 - val_accuracy: 1.0000\n",
            "Epoch 3/50\n",
            "1/1 [==============================] - 0s 138ms/step - loss: 0.5918 - accuracy: 0.8571 - val_loss: 0.4357 - val_accuracy: 1.0000\n",
            "Epoch 4/50\n",
            "1/1 [==============================] - 0s 87ms/step - loss: 0.5654 - accuracy: 0.8571 - val_loss: 0.3471 - val_accuracy: 1.0000\n",
            "Epoch 5/50\n",
            "1/1 [==============================] - 0s 52ms/step - loss: 0.5385 - accuracy: 0.7857 - val_loss: 0.4122 - val_accuracy: 1.0000\n",
            "Epoch 6/50\n",
            "1/1 [==============================] - 0s 62ms/step - loss: 0.5287 - accuracy: 0.9286 - val_loss: 0.2402 - val_accuracy: 1.0000\n",
            "Epoch 7/50\n",
            "1/1 [==============================] - 0s 48ms/step - loss: 0.5081 - accuracy: 0.7857 - val_loss: 0.3455 - val_accuracy: 1.0000\n",
            "Epoch 8/50\n",
            "1/1 [==============================] - 0s 60ms/step - loss: 0.4919 - accuracy: 0.9286 - val_loss: 0.1781 - val_accuracy: 1.0000\n",
            "Epoch 9/50\n",
            "1/1 [==============================] - 0s 45ms/step - loss: 0.4854 - accuracy: 0.7857 - val_loss: 0.2840 - val_accuracy: 1.0000\n",
            "Epoch 10/50\n",
            "1/1 [==============================] - 0s 57ms/step - loss: 0.4616 - accuracy: 1.0000 - val_loss: 0.1356 - val_accuracy: 1.0000\n",
            "Epoch 11/50\n",
            "1/1 [==============================] - 0s 49ms/step - loss: 0.4550 - accuracy: 0.7857 - val_loss: 0.3458 - val_accuracy: 1.0000\n",
            "Epoch 12/50\n",
            "1/1 [==============================] - 0s 107ms/step - loss: 0.4588 - accuracy: 1.0000 - val_loss: 0.1302 - val_accuracy: 1.0000\n",
            "Epoch 13/50\n",
            "1/1 [==============================] - 0s 48ms/step - loss: 0.4260 - accuracy: 0.9286 - val_loss: 0.2273 - val_accuracy: 1.0000\n",
            "Epoch 14/50\n",
            "1/1 [==============================] - 0s 60ms/step - loss: 0.4155 - accuracy: 1.0000 - val_loss: 0.1003 - val_accuracy: 1.0000\n",
            "Epoch 15/50\n",
            "1/1 [==============================] - 0s 50ms/step - loss: 0.4087 - accuracy: 0.9286 - val_loss: 0.2955 - val_accuracy: 1.0000\n",
            "Epoch 16/50\n",
            "1/1 [==============================] - 0s 60ms/step - loss: 0.4185 - accuracy: 1.0000 - val_loss: 0.1033 - val_accuracy: 1.0000\n",
            "Epoch 17/50\n",
            "1/1 [==============================] - 0s 55ms/step - loss: 0.3983 - accuracy: 0.9286 - val_loss: 0.2098 - val_accuracy: 1.0000\n",
            "Epoch 18/50\n",
            "1/1 [==============================] - 0s 69ms/step - loss: 0.3897 - accuracy: 1.0000 - val_loss: 0.0932 - val_accuracy: 1.0000\n",
            "Epoch 19/50\n",
            "1/1 [==============================] - 0s 52ms/step - loss: 0.3664 - accuracy: 1.0000 - val_loss: 0.1353 - val_accuracy: 1.0000\n",
            "Epoch 20/50\n",
            "1/1 [==============================] - 0s 122ms/step - loss: 0.3681 - accuracy: 1.0000 - val_loss: 0.0908 - val_accuracy: 1.0000\n",
            "Epoch 21/50\n",
            "1/1 [==============================] - 0s 47ms/step - loss: 0.3595 - accuracy: 1.0000 - val_loss: 0.1185 - val_accuracy: 1.0000\n",
            "Epoch 22/50\n",
            "1/1 [==============================] - 0s 59ms/step - loss: 0.3550 - accuracy: 1.0000 - val_loss: 0.0541 - val_accuracy: 1.0000\n",
            "Epoch 23/50\n",
            "1/1 [==============================] - 0s 52ms/step - loss: 0.3655 - accuracy: 1.0000 - val_loss: 0.3787 - val_accuracy: 1.0000\n",
            "Epoch 24/50\n",
            "1/1 [==============================] - 0s 77ms/step - loss: 0.4018 - accuracy: 1.0000 - val_loss: 0.0848 - val_accuracy: 1.0000\n",
            "Epoch 25/50\n",
            "1/1 [==============================] - 0s 62ms/step - loss: 0.3595 - accuracy: 1.0000 - val_loss: 0.1224 - val_accuracy: 1.0000\n",
            "Epoch 26/50\n",
            "1/1 [==============================] - 0s 66ms/step - loss: 0.3448 - accuracy: 1.0000 - val_loss: 0.0653 - val_accuracy: 1.0000\n",
            "Epoch 27/50\n",
            "1/1 [==============================] - 0s 72ms/step - loss: 0.3348 - accuracy: 1.0000 - val_loss: 0.0704 - val_accuracy: 1.0000\n",
            "Epoch 28/50\n",
            "1/1 [==============================] - 0s 162ms/step - loss: 0.3361 - accuracy: 1.0000 - val_loss: 0.1027 - val_accuracy: 1.0000\n",
            "Epoch 29/50\n",
            "1/1 [==============================] - 0s 71ms/step - loss: 0.3376 - accuracy: 1.0000 - val_loss: 0.0553 - val_accuracy: 1.0000\n",
            "Epoch 30/50\n",
            "1/1 [==============================] - 0s 54ms/step - loss: 0.3317 - accuracy: 1.0000 - val_loss: 0.0848 - val_accuracy: 1.0000\n",
            "Epoch 31/50\n",
            "1/1 [==============================] - 0s 65ms/step - loss: 0.3326 - accuracy: 1.0000 - val_loss: 0.0623 - val_accuracy: 1.0000\n",
            "Epoch 32/50\n",
            "1/1 [==============================] - 0s 47ms/step - loss: 0.3256 - accuracy: 1.0000 - val_loss: 0.0436 - val_accuracy: 1.0000\n",
            "Epoch 33/50\n",
            "1/1 [==============================] - 0s 63ms/step - loss: 0.3265 - accuracy: 1.0000 - val_loss: 0.0898 - val_accuracy: 1.0000\n",
            "Epoch 34/50\n",
            "1/1 [==============================] - 0s 62ms/step - loss: 0.3266 - accuracy: 1.0000 - val_loss: 0.0708 - val_accuracy: 1.0000\n",
            "Epoch 35/50\n",
            "1/1 [==============================] - 0s 59ms/step - loss: 0.3223 - accuracy: 1.0000 - val_loss: 0.0451 - val_accuracy: 1.0000\n",
            "Epoch 36/50\n",
            "1/1 [==============================] - 0s 56ms/step - loss: 0.3203 - accuracy: 1.0000 - val_loss: 0.0762 - val_accuracy: 1.0000\n",
            "Epoch 37/50\n",
            "1/1 [==============================] - 0s 131ms/step - loss: 0.3195 - accuracy: 1.0000 - val_loss: 0.0408 - val_accuracy: 1.0000\n",
            "Epoch 38/50\n",
            "1/1 [==============================] - 0s 66ms/step - loss: 0.3186 - accuracy: 1.0000 - val_loss: 0.0671 - val_accuracy: 1.0000\n",
            "Epoch 39/50\n",
            "1/1 [==============================] - 0s 55ms/step - loss: 0.3176 - accuracy: 1.0000 - val_loss: 0.0321 - val_accuracy: 1.0000\n",
            "Epoch 40/50\n",
            "1/1 [==============================] - 0s 68ms/step - loss: 0.3206 - accuracy: 1.0000 - val_loss: 0.2302 - val_accuracy: 1.0000\n",
            "Epoch 41/50\n",
            "1/1 [==============================] - 0s 51ms/step - loss: 0.3359 - accuracy: 1.0000 - val_loss: 0.0477 - val_accuracy: 1.0000\n",
            "Epoch 42/50\n",
            "1/1 [==============================] - 0s 65ms/step - loss: 0.3259 - accuracy: 1.0000 - val_loss: 0.0845 - val_accuracy: 1.0000\n",
            "Epoch 43/50\n",
            "1/1 [==============================] - 0s 64ms/step - loss: 0.3142 - accuracy: 1.0000 - val_loss: 0.0685 - val_accuracy: 1.0000\n",
            "Epoch 44/50\n",
            "1/1 [==============================] - 0s 66ms/step - loss: 0.3098 - accuracy: 1.0000 - val_loss: 0.0569 - val_accuracy: 1.0000\n",
            "Epoch 45/50\n",
            "1/1 [==============================] - 0s 55ms/step - loss: 0.3068 - accuracy: 1.0000 - val_loss: 0.0414 - val_accuracy: 1.0000\n",
            "Epoch 46/50\n",
            "1/1 [==============================] - 0s 61ms/step - loss: 0.3089 - accuracy: 1.0000 - val_loss: 0.2036 - val_accuracy: 1.0000\n",
            "Epoch 47/50\n",
            "1/1 [==============================] - 0s 100ms/step - loss: 0.3180 - accuracy: 1.0000 - val_loss: 0.0525 - val_accuracy: 1.0000\n",
            "Epoch 48/50\n",
            "1/1 [==============================] - 0s 60ms/step - loss: 0.3053 - accuracy: 1.0000 - val_loss: 0.0463 - val_accuracy: 1.0000\n",
            "Epoch 49/50\n",
            "1/1 [==============================] - 0s 59ms/step - loss: 0.3024 - accuracy: 1.0000 - val_loss: 0.0331 - val_accuracy: 1.0000\n",
            "Epoch 50/50\n",
            "1/1 [==============================] - 0s 66ms/step - loss: 0.3034 - accuracy: 1.0000 - val_loss: 0.0755 - val_accuracy: 1.0000\n"
          ]
        },
        {
          "data": {
            "text/plain": [
              "<keras.callbacks.History at 0x1996ad36610>"
            ]
          },
          "execution_count": 117,
          "metadata": {},
          "output_type": "execute_result"
        }
      ],
      "source": [
        "model_saved.fit(X_train_2, y_train_2, batch_size=128, epochs=50, validation_split=0.1)"
      ]
    },
    {
      "cell_type": "code",
      "execution_count": 118,
      "metadata": {},
      "outputs": [
        {
          "data": {
            "image/png": "[encoded data removed]",
            "text/plain": [
              "<Figure size 640x480 with 1 Axes>"
            ]
          },
          "metadata": {},
          "output_type": "display_data"
        }
      ],
      "source": [
        "import matplotlib.pyplot as plt\n",
        "plt.plot(history.history['loss'])\n",
        "plt.plot(history.history['val_loss'])\n",
        "plt.xlabel('epoch')\n",
        "plt.ylabel('loss')\n",
        "plt.legend(['train', 'val'])\n",
        "plt.show()"
      ]
    },
    {
      "cell_type": "code",
      "execution_count": 119,
      "metadata": {},
      "outputs": [
        {
          "data": {
            "image/png": "[encoded data removed]",
            "text/plain": [
              "<Figure size 640x480 with 1 Axes>"
            ]
          },
          "metadata": {},
          "output_type": "display_data"
        }
      ],
      "source": [
        "plt.plot(history.history['accuracy'])\n",
        "plt.plot(history.history['val_accuracy'])\n",
        "plt.xlabel('epoch')\n",
        "plt.ylabel('accuracy')\n",
        "plt.legend(['train','val'])\n",
        "plt.show()"
      ]
    },
    {
      "cell_type": "code",
      "execution_count": 123,
      "metadata": {},
      "outputs": [
        {
          "name": "stdout",
          "output_type": "stream",
          "text": [
            "2/2 [==============================] - 0s 5ms/step - loss: 0.6448 - accuracy: 0.7414\n",
            "1/1 [==============================] - 0s 28ms/step - loss: 1.1068 - accuracy: 0.7500\n",
            "\n",
            "Test loss: 0.6447800993919373\n",
            "기존의 데이터에 대한 Test accuracy: 0.7413793206214905\n",
            "\n",
            "Test loss: 1.106763482093811\n",
            "새로운 데이터에 대한 Test accuracy: 0.75\n"
          ]
        }
      ],
      "source": [
        "# 재훈련 전\n",
        "score1 = model.evaluate(X_test, y_test)\n",
        "score2 = model.evaluate(X_test_2, y_test_2)\n",
        "print(\"\\nTest loss:\", score1[0])\n",
        "print('기존의 데이터에 대한 Test accuracy:', score1[1])\n",
        "\n",
        "print(\"\\nTest loss:\", score2[0])\n",
        "print('새로운 데이터에 대한 Test accuracy:', score2[1])"
      ]
    },
    {
      "cell_type": "code",
      "execution_count": 124,
      "metadata": {},
      "outputs": [
        {
          "name": "stdout",
          "output_type": "stream",
          "text": [
            "2/2 [==============================] - 0s 6ms/step - loss: 0.7472 - accuracy: 0.7241\n",
            "1/1 [==============================] - 0s 28ms/step - loss: 0.6341 - accuracy: 0.7500\n",
            "\n",
            "Test loss: 0.7471521496772766\n",
            "기존의 데이터에 대한 Test accuracy: 0.7241379022598267\n",
            "\n",
            "Test loss: 0.6340574622154236\n",
            "새로운 데이터에 대한 Test accuracy: 0.75\n"
          ]
        }
      ],
      "source": [
        "# 재훈련 후\n",
        "score1 = model_saved.evaluate(X_test, y_test)\n",
        "score2 = model_saved.evaluate(X_test_2, y_test_2)\n",
        "print(\"\\nTest loss:\", score1[0])\n",
        "print('기존의 데이터에 대한 Test accuracy:', score1[1])\n",
        "\n",
        "print(\"\\nTest loss:\", score2[0])\n",
        "print('새로운 데이터에 대한 Test accuracy:', score2[1])"
      ]
    }
  ],
  "metadata": {
    "colab": {
      "provenance": []
    },
    "kernelspec": {
      "display_name": "Python 3 (ipykernel)",
      "language": "python",
      "name": "python3"
    },
    "language_info": {
      "codemirror_mode": {
        "name": "ipython",
        "version": 3
      },
      "file_extension": ".py",
      "mimetype": "text/x-python",
      "name": "python",
      "nbconvert_exporter": "python",
      "pygments_lexer": "ipython3",
      "version": "3.8.19"
    }
  },
  "nbformat": 4,
  "nbformat_minor": 0
}
