{
  "cells": [
    {
      "cell_type": "code",
      "execution_count": 13,
      "metadata": {
        "id": "d27DyQQy39DR"
      },
      "outputs": [],
      "source": [
        "#1. 라이브러리 호출\n",
        "\n",
        "from bs4 import BeautifulSoup\n",
        "import requests\n",
        "import re\n",
        "import datetime\n",
        "from tqdm import tqdm\n",
        "import sys"
      ]
    },
    {
      "cell_type": "markdown",
      "metadata": {
        "id": "uwxGajGO6cYF"
      },
      "source": [
        "# 2. 크롤링 시 필요한 함수 정의"
      ]
    },
    {
      "cell_type": "code",
      "execution_count": 14,
      "metadata": {
        "id": "KHUS60bC6bI3"
      },
      "outputs": [],
      "source": [
        "\n",
        "# 페이지 url 형식에 맞게 바꾸어 주는 함수 만들기\n",
        "  # 입력된 수를 1, 11, 21, 31 ...로 변환\n",
        "def makePgNum(num):\n",
        "    if num == 1:\n",
        "        return num\n",
        "    elif num == 0:\n",
        "        return num+1\n",
        "    else:\n",
        "        return num+9*(num-1)"
      ]
    },
    {
      "cell_type": "code",
      "execution_count": 15,
      "metadata": {
        "id": "tBZGsniv39sL"
      },
      "outputs": [],
      "source": [
        "\n",
        "# url 생성 함수 (검색어, 크롤링 시작 페이지, 크롤링 종료 페이지)\n",
        "def makeUrl(search, start_pg, end_pg):\n",
        "    if start_pg == end_pg:\n",
        "        start_page = makePgNum(start_pg)\n",
        "        url = \"https://search.naver.com/search.naver?where=news&sm=tab_pge&query=\" + search + \"&start=\" + str(start_page)\n",
        "        print(\"생성url: \", url)\n",
        "        return url\n",
        "    else:\n",
        "        urls = []\n",
        "        for i in range(start_pg, end_pg + 1):\n",
        "            page = makePgNum(i)\n",
        "            url = \"https://search.naver.com/search.naver?where=news&sm=tab_pge&query=\" + search + \"&start=\" + str(page)\n",
        "            urls.append(url)\n",
        "        print(\"생성url: \", urls)\n",
        "        return urls\n",
        "\n"
      ]
    },
    {
      "cell_type": "code",
      "execution_count": 16,
      "metadata": {
        "id": "UGFQGjLZ6g0B"
      },
      "outputs": [],
      "source": [
        "# html에서 원하는 속성 추출하는 함수 만들기 (기사, 추출하려는 속성값)\n",
        "def news_attrs_crawler(articles,attrs):\n",
        "    attrs_content=[]\n",
        "    for i in articles:\n",
        "        attrs_content.append(i.attrs[attrs])\n",
        "    return attrs_content\n",
        "\n",
        "# ConnectionError방지\n",
        "headers = {\"User-Agent\": \"Mozilla/5.0 (Windows NT 10.0; Win64; x64) Chrome/98.0.4758.102\"}\n",
        "\n",
        "#html생성해서 기사크롤링하는 함수 만들기(url): 링크를 반환\n",
        "def articles_crawler(url):\n",
        "    #html 불러오기\n",
        "    original_html = requests.get(i,headers=headers)\n",
        "    html = BeautifulSoup(original_html.text, \"html.parser\")\n",
        "\n",
        "    url_naver = html.select(\"div.group_news > ul.list_news > li div.news_area > div.news_info > div.info_group > a.info\")\n",
        "    url = news_attrs_crawler(url_naver,'href')\n",
        "    return url"
      ]
    },
    {
      "cell_type": "markdown",
      "metadata": {
        "id": "SCeXiWbw6hma"
      },
      "source": [
        "# 3. 크롤링할 네이버 뉴스 URL 추출"
      ]
    },
    {
      "cell_type": "code",
      "execution_count": 17,
      "metadata": {
        "id": "DtB7VpdZ6pxT"
      },
      "outputs": [
        {
          "name": "stdout",
          "output_type": "stream",
          "text": [
            "\n",
            "크롤링할 시작 페이지:  1 페이지\n",
            "\n",
            "크롤링할 종료 페이지:  1000 페이지\n"
          ]
        }
      ],
      "source": [
        "#####뉴스크롤링 시작#####\n",
        "\n",
        "#검색어 입력\n",
        "search = input(\"검색할 키워드를 입력해주세요:\")\n",
        "#검색 시작할 페이지 입력\n",
        "page = int(input(\"\\n크롤링할 시작 페이지를 입력해주세요. ex)1(숫자만입력):\")) # ex)1 =1페이지,2=2페이지...\n",
        "print(\"\\n크롤링할 시작 페이지: \",page,\"페이지\")\n",
        "#검색 종료할 페이지 입력\n",
        "page2 = int(input(\"\\n크롤링할 종료 페이지를 입력해주세요. ex)1(숫자만입력):\")) # ex)1 =1페이지,2=2페이지...\n",
        "print(\"\\n크롤링할 종료 페이지: \",page2,\"페이지\")\n"
      ]
    },
    {
      "cell_type": "code",
      "execution_count": 18,
      "metadata": {
        "id": "mHtruJzB6rgT"
      },
      "outputs": [
        {
          "name": "stdout",
          "output_type": "stream",
          "text": [
            "생성url:  ['https://search.naver.com/search.naver?where=news&sm=tab_pge&query=서핑&start=1', 'https://search.naver.com/search.naver?where=news&sm=tab_pge&query=서핑&start=11', 'https://search.naver.com/search.naver?where=news&sm=tab_pge&query=서핑&start=21', 'https://search.naver.com/search.naver?where=news&sm=tab_pge&query=서핑&start=31', 'https://search.naver.com/search.naver?where=news&sm=tab_pge&query=서핑&start=41', 'https://search.naver.com/search.naver?where=news&sm=tab_pge&query=서핑&start=51', 'https://search.naver.com/search.naver?where=news&sm=tab_pge&query=서핑&start=61', 'https://search.naver.com/search.naver?where=news&sm=tab_pge&query=서핑&start=71', 'https://search.naver.com/search.naver?where=news&sm=tab_pge&query=서핑&start=81', 'https://search.naver.com/search.naver?where=news&sm=tab_pge&query=서핑&start=91', 'https://search.naver.com/search.naver?where=news&sm=tab_pge&query=서핑&start=101', 'https://search.naver.com/search.naver?where=news&sm=tab_pge&query=서핑&start=111', 'https://search.naver.com/search.naver?where=news&sm=tab_pge&query=서핑&start=121', 'https://search.naver.com/search.naver?where=news&sm=tab_pge&query=서핑&start=131', 'https://search.naver.com/search.naver?where=news&sm=tab_pge&query=서핑&start=141', 'https://search.naver.com/search.naver?where=news&sm=tab_pge&query=서핑&start=151', 'https://search.naver.com/search.naver?where=news&sm=tab_pge&query=서핑&start=161', 'https://search.naver.com/search.naver?where=news&sm=tab_pge&query=서핑&start=171', 'https://search.naver.com/search.naver?where=news&sm=tab_pge&query=서핑&start=181', 'https://search.naver.com/search.naver?where=news&sm=tab_pge&query=서핑&start=191', 'https://search.naver.com/search.naver?where=news&sm=tab_pge&query=서핑&start=201', 'https://search.naver.com/search.naver?where=news&sm=tab_pge&query=서핑&start=211', 'https://search.naver.com/search.naver?where=news&sm=tab_pge&query=서핑&start=221', 'https://search.naver.com/search.naver?where=news&sm=tab_pge&query=서핑&start=231', 'https://search.naver.com/search.naver?where=news&sm=tab_pge&query=서핑&start=241', 'https://search.naver.com/search.naver?where=news&sm=tab_pge&query=서핑&start=251', 'https://search.naver.com/search.naver?where=news&sm=tab_pge&query=서핑&start=261', 'https://search.naver.com/search.naver?where=news&sm=tab_pge&query=서핑&start=271', 'https://search.naver.com/search.naver?where=news&sm=tab_pge&query=서핑&start=281', 'https://search.naver.com/search.naver?where=news&sm=tab_pge&query=서핑&start=291', 'https://search.naver.com/search.naver?where=news&sm=tab_pge&query=서핑&start=301', 'https://search.naver.com/search.naver?where=news&sm=tab_pge&query=서핑&start=311', 'https://search.naver.com/search.naver?where=news&sm=tab_pge&query=서핑&start=321', 'https://search.naver.com/search.naver?where=news&sm=tab_pge&query=서핑&start=331', 'https://search.naver.com/search.naver?where=news&sm=tab_pge&query=서핑&start=341', 'https://search.naver.com/search.naver?where=news&sm=tab_pge&query=서핑&start=351', 'https://search.naver.com/search.naver?where=news&sm=tab_pge&query=서핑&start=361', 'https://search.naver.com/search.naver?where=news&sm=tab_pge&query=서핑&start=371', 'https://search.naver.com/search.naver?where=news&sm=tab_pge&query=서핑&start=381', 'https://search.naver.com/search.naver?where=news&sm=tab_pge&query=서핑&start=391', 'https://search.naver.com/search.naver?where=news&sm=tab_pge&query=서핑&start=401', 'https://search.naver.com/search.naver?where=news&sm=tab_pge&query=서핑&start=411', 'https://search.naver.com/search.naver?where=news&sm=tab_pge&query=서핑&start=421', 'https://search.naver.com/search.naver?where=news&sm=tab_pge&query=서핑&start=431', 'https://search.naver.com/search.naver?where=news&sm=tab_pge&query=서핑&start=441', 'https://search.naver.com/search.naver?where=news&sm=tab_pge&query=서핑&start=451', 'https://search.naver.com/search.naver?where=news&sm=tab_pge&query=서핑&start=461', 'https://search.naver.com/search.naver?where=news&sm=tab_pge&query=서핑&start=471', 'https://search.naver.com/search.naver?where=news&sm=tab_pge&query=서핑&start=481', 'https://search.naver.com/search.naver?where=news&sm=tab_pge&query=서핑&start=491', 'https://search.naver.com/search.naver?where=news&sm=tab_pge&query=서핑&start=501', 'https://search.naver.com/search.naver?where=news&sm=tab_pge&query=서핑&start=511', 'https://search.naver.com/search.naver?where=news&sm=tab_pge&query=서핑&start=521', 'https://search.naver.com/search.naver?where=news&sm=tab_pge&query=서핑&start=531', 'https://search.naver.com/search.naver?where=news&sm=tab_pge&query=서핑&start=541', 'https://search.naver.com/search.naver?where=news&sm=tab_pge&query=서핑&start=551', 'https://search.naver.com/search.naver?where=news&sm=tab_pge&query=서핑&start=561', 'https://search.naver.com/search.naver?where=news&sm=tab_pge&query=서핑&start=571', 'https://search.naver.com/search.naver?where=news&sm=tab_pge&query=서핑&start=581', 'https://search.naver.com/search.naver?where=news&sm=tab_pge&query=서핑&start=591', 'https://search.naver.com/search.naver?where=news&sm=tab_pge&query=서핑&start=601', 'https://search.naver.com/search.naver?where=news&sm=tab_pge&query=서핑&start=611', 'https://search.naver.com/search.naver?where=news&sm=tab_pge&query=서핑&start=621', 'https://search.naver.com/search.naver?where=news&sm=tab_pge&query=서핑&start=631', 'https://search.naver.com/search.naver?where=news&sm=tab_pge&query=서핑&start=641', 'https://search.naver.com/search.naver?where=news&sm=tab_pge&query=서핑&start=651', 'https://search.naver.com/search.naver?where=news&sm=tab_pge&query=서핑&start=661', 'https://search.naver.com/search.naver?where=news&sm=tab_pge&query=서핑&start=671', 'https://search.naver.com/search.naver?where=news&sm=tab_pge&query=서핑&start=681', 'https://search.naver.com/search.naver?where=news&sm=tab_pge&query=서핑&start=691', 'https://search.naver.com/search.naver?where=news&sm=tab_pge&query=서핑&start=701', 'https://search.naver.com/search.naver?where=news&sm=tab_pge&query=서핑&start=711', 'https://search.naver.com/search.naver?where=news&sm=tab_pge&query=서핑&start=721', 'https://search.naver.com/search.naver?where=news&sm=tab_pge&query=서핑&start=731', 'https://search.naver.com/search.naver?where=news&sm=tab_pge&query=서핑&start=741', 'https://search.naver.com/search.naver?where=news&sm=tab_pge&query=서핑&start=751', 'https://search.naver.com/search.naver?where=news&sm=tab_pge&query=서핑&start=761', 'https://search.naver.com/search.naver?where=news&sm=tab_pge&query=서핑&start=771', 'https://search.naver.com/search.naver?where=news&sm=tab_pge&query=서핑&start=781', 'https://search.naver.com/search.naver?where=news&sm=tab_pge&query=서핑&start=791', 'https://search.naver.com/search.naver?where=news&sm=tab_pge&query=서핑&start=801', 'https://search.naver.com/search.naver?where=news&sm=tab_pge&query=서핑&start=811', 'https://search.naver.com/search.naver?where=news&sm=tab_pge&query=서핑&start=821', 'https://search.naver.com/search.naver?where=news&sm=tab_pge&query=서핑&start=831', 'https://search.naver.com/search.naver?where=news&sm=tab_pge&query=서핑&start=841', 'https://search.naver.com/search.naver?where=news&sm=tab_pge&query=서핑&start=851', 'https://search.naver.com/search.naver?where=news&sm=tab_pge&query=서핑&start=861', 'https://search.naver.com/search.naver?where=news&sm=tab_pge&query=서핑&start=871', 'https://search.naver.com/search.naver?where=news&sm=tab_pge&query=서핑&start=881', 'https://search.naver.com/search.naver?where=news&sm=tab_pge&query=서핑&start=891', 'https://search.naver.com/search.naver?where=news&sm=tab_pge&query=서핑&start=901', 'https://search.naver.com/search.naver?where=news&sm=tab_pge&query=서핑&start=911', 'https://search.naver.com/search.naver?where=news&sm=tab_pge&query=서핑&start=921', 'https://search.naver.com/search.naver?where=news&sm=tab_pge&query=서핑&start=931', 'https://search.naver.com/search.naver?where=news&sm=tab_pge&query=서핑&start=941', 'https://search.naver.com/search.naver?where=news&sm=tab_pge&query=서핑&start=951', 'https://search.naver.com/search.naver?where=news&sm=tab_pge&query=서핑&start=961', 'https://search.naver.com/search.naver?where=news&sm=tab_pge&query=서핑&start=971', 'https://search.naver.com/search.naver?where=news&sm=tab_pge&query=서핑&start=981', 'https://search.naver.com/search.naver?where=news&sm=tab_pge&query=서핑&start=991', 'https://search.naver.com/search.naver?where=news&sm=tab_pge&query=서핑&start=1001', 'https://search.naver.com/search.naver?where=news&sm=tab_pge&query=서핑&start=1011', 'https://search.naver.com/search.naver?where=news&sm=tab_pge&query=서핑&start=1021', 'https://search.naver.com/search.naver?where=news&sm=tab_pge&query=서핑&start=1031', 'https://search.naver.com/search.naver?where=news&sm=tab_pge&query=서핑&start=1041', 'https://search.naver.com/search.naver?where=news&sm=tab_pge&query=서핑&start=1051', 'https://search.naver.com/search.naver?where=news&sm=tab_pge&query=서핑&start=1061', 'https://search.naver.com/search.naver?where=news&sm=tab_pge&query=서핑&start=1071', 'https://search.naver.com/search.naver?where=news&sm=tab_pge&query=서핑&start=1081', 'https://search.naver.com/search.naver?where=news&sm=tab_pge&query=서핑&start=1091', 'https://search.naver.com/search.naver?where=news&sm=tab_pge&query=서핑&start=1101', 'https://search.naver.com/search.naver?where=news&sm=tab_pge&query=서핑&start=1111', 'https://search.naver.com/search.naver?where=news&sm=tab_pge&query=서핑&start=1121', 'https://search.naver.com/search.naver?where=news&sm=tab_pge&query=서핑&start=1131', 'https://search.naver.com/search.naver?where=news&sm=tab_pge&query=서핑&start=1141', 'https://search.naver.com/search.naver?where=news&sm=tab_pge&query=서핑&start=1151', 'https://search.naver.com/search.naver?where=news&sm=tab_pge&query=서핑&start=1161', 'https://search.naver.com/search.naver?where=news&sm=tab_pge&query=서핑&start=1171', 'https://search.naver.com/search.naver?where=news&sm=tab_pge&query=서핑&start=1181', 'https://search.naver.com/search.naver?where=news&sm=tab_pge&query=서핑&start=1191', 'https://search.naver.com/search.naver?where=news&sm=tab_pge&query=서핑&start=1201', 'https://search.naver.com/search.naver?where=news&sm=tab_pge&query=서핑&start=1211', 'https://search.naver.com/search.naver?where=news&sm=tab_pge&query=서핑&start=1221', 'https://search.naver.com/search.naver?where=news&sm=tab_pge&query=서핑&start=1231', 'https://search.naver.com/search.naver?where=news&sm=tab_pge&query=서핑&start=1241', 'https://search.naver.com/search.naver?where=news&sm=tab_pge&query=서핑&start=1251', 'https://search.naver.com/search.naver?where=news&sm=tab_pge&query=서핑&start=1261', 'https://search.naver.com/search.naver?where=news&sm=tab_pge&query=서핑&start=1271', 'https://search.naver.com/search.naver?where=news&sm=tab_pge&query=서핑&start=1281', 'https://search.naver.com/search.naver?where=news&sm=tab_pge&query=서핑&start=1291', 'https://search.naver.com/search.naver?where=news&sm=tab_pge&query=서핑&start=1301', 'https://search.naver.com/search.naver?where=news&sm=tab_pge&query=서핑&start=1311', 'https://search.naver.com/search.naver?where=news&sm=tab_pge&query=서핑&start=1321', 'https://search.naver.com/search.naver?where=news&sm=tab_pge&query=서핑&start=1331', 'https://search.naver.com/search.naver?where=news&sm=tab_pge&query=서핑&start=1341', 'https://search.naver.com/search.naver?where=news&sm=tab_pge&query=서핑&start=1351', 'https://search.naver.com/search.naver?where=news&sm=tab_pge&query=서핑&start=1361', 'https://search.naver.com/search.naver?where=news&sm=tab_pge&query=서핑&start=1371', 'https://search.naver.com/search.naver?where=news&sm=tab_pge&query=서핑&start=1381', 'https://search.naver.com/search.naver?where=news&sm=tab_pge&query=서핑&start=1391', 'https://search.naver.com/search.naver?where=news&sm=tab_pge&query=서핑&start=1401', 'https://search.naver.com/search.naver?where=news&sm=tab_pge&query=서핑&start=1411', 'https://search.naver.com/search.naver?where=news&sm=tab_pge&query=서핑&start=1421', 'https://search.naver.com/search.naver?where=news&sm=tab_pge&query=서핑&start=1431', 'https://search.naver.com/search.naver?where=news&sm=tab_pge&query=서핑&start=1441', 'https://search.naver.com/search.naver?where=news&sm=tab_pge&query=서핑&start=1451', 'https://search.naver.com/search.naver?where=news&sm=tab_pge&query=서핑&start=1461', 'https://search.naver.com/search.naver?where=news&sm=tab_pge&query=서핑&start=1471', 'https://search.naver.com/search.naver?where=news&sm=tab_pge&query=서핑&start=1481', 'https://search.naver.com/search.naver?where=news&sm=tab_pge&query=서핑&start=1491', 'https://search.naver.com/search.naver?where=news&sm=tab_pge&query=서핑&start=1501', 'https://search.naver.com/search.naver?where=news&sm=tab_pge&query=서핑&start=1511', 'https://search.naver.com/search.naver?where=news&sm=tab_pge&query=서핑&start=1521', 'https://search.naver.com/search.naver?where=news&sm=tab_pge&query=서핑&start=1531', 'https://search.naver.com/search.naver?where=news&sm=tab_pge&query=서핑&start=1541', 'https://search.naver.com/search.naver?where=news&sm=tab_pge&query=서핑&start=1551', 'https://search.naver.com/search.naver?where=news&sm=tab_pge&query=서핑&start=1561', 'https://search.naver.com/search.naver?where=news&sm=tab_pge&query=서핑&start=1571', 'https://search.naver.com/search.naver?where=news&sm=tab_pge&query=서핑&start=1581', 'https://search.naver.com/search.naver?where=news&sm=tab_pge&query=서핑&start=1591', 'https://search.naver.com/search.naver?where=news&sm=tab_pge&query=서핑&start=1601', 'https://search.naver.com/search.naver?where=news&sm=tab_pge&query=서핑&start=1611', 'https://search.naver.com/search.naver?where=news&sm=tab_pge&query=서핑&start=1621', 'https://search.naver.com/search.naver?where=news&sm=tab_pge&query=서핑&start=1631', 'https://search.naver.com/search.naver?where=news&sm=tab_pge&query=서핑&start=1641', 'https://search.naver.com/search.naver?where=news&sm=tab_pge&query=서핑&start=1651', 'https://search.naver.com/search.naver?where=news&sm=tab_pge&query=서핑&start=1661', 'https://search.naver.com/search.naver?where=news&sm=tab_pge&query=서핑&start=1671', 'https://search.naver.com/search.naver?where=news&sm=tab_pge&query=서핑&start=1681', 'https://search.naver.com/search.naver?where=news&sm=tab_pge&query=서핑&start=1691', 'https://search.naver.com/search.naver?where=news&sm=tab_pge&query=서핑&start=1701', 'https://search.naver.com/search.naver?where=news&sm=tab_pge&query=서핑&start=1711', 'https://search.naver.com/search.naver?where=news&sm=tab_pge&query=서핑&start=1721', 'https://search.naver.com/search.naver?where=news&sm=tab_pge&query=서핑&start=1731', 'https://search.naver.com/search.naver?where=news&sm=tab_pge&query=서핑&start=1741', 'https://search.naver.com/search.naver?where=news&sm=tab_pge&query=서핑&start=1751', 'https://search.naver.com/search.naver?where=news&sm=tab_pge&query=서핑&start=1761', 'https://search.naver.com/search.naver?where=news&sm=tab_pge&query=서핑&start=1771', 'https://search.naver.com/search.naver?where=news&sm=tab_pge&query=서핑&start=1781', 'https://search.naver.com/search.naver?where=news&sm=tab_pge&query=서핑&start=1791', 'https://search.naver.com/search.naver?where=news&sm=tab_pge&query=서핑&start=1801', 'https://search.naver.com/search.naver?where=news&sm=tab_pge&query=서핑&start=1811', 'https://search.naver.com/search.naver?where=news&sm=tab_pge&query=서핑&start=1821', 'https://search.naver.com/search.naver?where=news&sm=tab_pge&query=서핑&start=1831', 'https://search.naver.com/search.naver?where=news&sm=tab_pge&query=서핑&start=1841', 'https://search.naver.com/search.naver?where=news&sm=tab_pge&query=서핑&start=1851', 'https://search.naver.com/search.naver?where=news&sm=tab_pge&query=서핑&start=1861', 'https://search.naver.com/search.naver?where=news&sm=tab_pge&query=서핑&start=1871', 'https://search.naver.com/search.naver?where=news&sm=tab_pge&query=서핑&start=1881', 'https://search.naver.com/search.naver?where=news&sm=tab_pge&query=서핑&start=1891', 'https://search.naver.com/search.naver?where=news&sm=tab_pge&query=서핑&start=1901', 'https://search.naver.com/search.naver?where=news&sm=tab_pge&query=서핑&start=1911', 'https://search.naver.com/search.naver?where=news&sm=tab_pge&query=서핑&start=1921', 'https://search.naver.com/search.naver?where=news&sm=tab_pge&query=서핑&start=1931', 'https://search.naver.com/search.naver?where=news&sm=tab_pge&query=서핑&start=1941', 'https://search.naver.com/search.naver?where=news&sm=tab_pge&query=서핑&start=1951', 'https://search.naver.com/search.naver?where=news&sm=tab_pge&query=서핑&start=1961', 'https://search.naver.com/search.naver?where=news&sm=tab_pge&query=서핑&start=1971', 'https://search.naver.com/search.naver?where=news&sm=tab_pge&query=서핑&start=1981', 'https://search.naver.com/search.naver?where=news&sm=tab_pge&query=서핑&start=1991', 'https://search.naver.com/search.naver?where=news&sm=tab_pge&query=서핑&start=2001', 'https://search.naver.com/search.naver?where=news&sm=tab_pge&query=서핑&start=2011', 'https://search.naver.com/search.naver?where=news&sm=tab_pge&query=서핑&start=2021', 'https://search.naver.com/search.naver?where=news&sm=tab_pge&query=서핑&start=2031', 'https://search.naver.com/search.naver?where=news&sm=tab_pge&query=서핑&start=2041', 'https://search.naver.com/search.naver?where=news&sm=tab_pge&query=서핑&start=2051', 'https://search.naver.com/search.naver?where=news&sm=tab_pge&query=서핑&start=2061', 'https://search.naver.com/search.naver?where=news&sm=tab_pge&query=서핑&start=2071', 'https://search.naver.com/search.naver?where=news&sm=tab_pge&query=서핑&start=2081', 'https://search.naver.com/search.naver?where=news&sm=tab_pge&query=서핑&start=2091', 'https://search.naver.com/search.naver?where=news&sm=tab_pge&query=서핑&start=2101', 'https://search.naver.com/search.naver?where=news&sm=tab_pge&query=서핑&start=2111', 'https://search.naver.com/search.naver?where=news&sm=tab_pge&query=서핑&start=2121', 'https://search.naver.com/search.naver?where=news&sm=tab_pge&query=서핑&start=2131', 'https://search.naver.com/search.naver?where=news&sm=tab_pge&query=서핑&start=2141', 'https://search.naver.com/search.naver?where=news&sm=tab_pge&query=서핑&start=2151', 'https://search.naver.com/search.naver?where=news&sm=tab_pge&query=서핑&start=2161', 'https://search.naver.com/search.naver?where=news&sm=tab_pge&query=서핑&start=2171', 'https://search.naver.com/search.naver?where=news&sm=tab_pge&query=서핑&start=2181', 'https://search.naver.com/search.naver?where=news&sm=tab_pge&query=서핑&start=2191', 'https://search.naver.com/search.naver?where=news&sm=tab_pge&query=서핑&start=2201', 'https://search.naver.com/search.naver?where=news&sm=tab_pge&query=서핑&start=2211', 'https://search.naver.com/search.naver?where=news&sm=tab_pge&query=서핑&start=2221', 'https://search.naver.com/search.naver?where=news&sm=tab_pge&query=서핑&start=2231', 'https://search.naver.com/search.naver?where=news&sm=tab_pge&query=서핑&start=2241', 'https://search.naver.com/search.naver?where=news&sm=tab_pge&query=서핑&start=2251', 'https://search.naver.com/search.naver?where=news&sm=tab_pge&query=서핑&start=2261', 'https://search.naver.com/search.naver?where=news&sm=tab_pge&query=서핑&start=2271', 'https://search.naver.com/search.naver?where=news&sm=tab_pge&query=서핑&start=2281', 'https://search.naver.com/search.naver?where=news&sm=tab_pge&query=서핑&start=2291', 'https://search.naver.com/search.naver?where=news&sm=tab_pge&query=서핑&start=2301', 'https://search.naver.com/search.naver?where=news&sm=tab_pge&query=서핑&start=2311', 'https://search.naver.com/search.naver?where=news&sm=tab_pge&query=서핑&start=2321', 'https://search.naver.com/search.naver?where=news&sm=tab_pge&query=서핑&start=2331', 'https://search.naver.com/search.naver?where=news&sm=tab_pge&query=서핑&start=2341', 'https://search.naver.com/search.naver?where=news&sm=tab_pge&query=서핑&start=2351', 'https://search.naver.com/search.naver?where=news&sm=tab_pge&query=서핑&start=2361', 'https://search.naver.com/search.naver?where=news&sm=tab_pge&query=서핑&start=2371', 'https://search.naver.com/search.naver?where=news&sm=tab_pge&query=서핑&start=2381', 'https://search.naver.com/search.naver?where=news&sm=tab_pge&query=서핑&start=2391', 'https://search.naver.com/search.naver?where=news&sm=tab_pge&query=서핑&start=2401', 'https://search.naver.com/search.naver?where=news&sm=tab_pge&query=서핑&start=2411', 'https://search.naver.com/search.naver?where=news&sm=tab_pge&query=서핑&start=2421', 'https://search.naver.com/search.naver?where=news&sm=tab_pge&query=서핑&start=2431', 'https://search.naver.com/search.naver?where=news&sm=tab_pge&query=서핑&start=2441', 'https://search.naver.com/search.naver?where=news&sm=tab_pge&query=서핑&start=2451', 'https://search.naver.com/search.naver?where=news&sm=tab_pge&query=서핑&start=2461', 'https://search.naver.com/search.naver?where=news&sm=tab_pge&query=서핑&start=2471', 'https://search.naver.com/search.naver?where=news&sm=tab_pge&query=서핑&start=2481', 'https://search.naver.com/search.naver?where=news&sm=tab_pge&query=서핑&start=2491', 'https://search.naver.com/search.naver?where=news&sm=tab_pge&query=서핑&start=2501', 'https://search.naver.com/search.naver?where=news&sm=tab_pge&query=서핑&start=2511', 'https://search.naver.com/search.naver?where=news&sm=tab_pge&query=서핑&start=2521', 'https://search.naver.com/search.naver?where=news&sm=tab_pge&query=서핑&start=2531', 'https://search.naver.com/search.naver?where=news&sm=tab_pge&query=서핑&start=2541', 'https://search.naver.com/search.naver?where=news&sm=tab_pge&query=서핑&start=2551', 'https://search.naver.com/search.naver?where=news&sm=tab_pge&query=서핑&start=2561', 'https://search.naver.com/search.naver?where=news&sm=tab_pge&query=서핑&start=2571', 'https://search.naver.com/search.naver?where=news&sm=tab_pge&query=서핑&start=2581', 'https://search.naver.com/search.naver?where=news&sm=tab_pge&query=서핑&start=2591', 'https://search.naver.com/search.naver?where=news&sm=tab_pge&query=서핑&start=2601', 'https://search.naver.com/search.naver?where=news&sm=tab_pge&query=서핑&start=2611', 'https://search.naver.com/search.naver?where=news&sm=tab_pge&query=서핑&start=2621', 'https://search.naver.com/search.naver?where=news&sm=tab_pge&query=서핑&start=2631', 'https://search.naver.com/search.naver?where=news&sm=tab_pge&query=서핑&start=2641', 'https://search.naver.com/search.naver?where=news&sm=tab_pge&query=서핑&start=2651', 'https://search.naver.com/search.naver?where=news&sm=tab_pge&query=서핑&start=2661', 'https://search.naver.com/search.naver?where=news&sm=tab_pge&query=서핑&start=2671', 'https://search.naver.com/search.naver?where=news&sm=tab_pge&query=서핑&start=2681', 'https://search.naver.com/search.naver?where=news&sm=tab_pge&query=서핑&start=2691', 'https://search.naver.com/search.naver?where=news&sm=tab_pge&query=서핑&start=2701', 'https://search.naver.com/search.naver?where=news&sm=tab_pge&query=서핑&start=2711', 'https://search.naver.com/search.naver?where=news&sm=tab_pge&query=서핑&start=2721', 'https://search.naver.com/search.naver?where=news&sm=tab_pge&query=서핑&start=2731', 'https://search.naver.com/search.naver?where=news&sm=tab_pge&query=서핑&start=2741', 'https://search.naver.com/search.naver?where=news&sm=tab_pge&query=서핑&start=2751', 'https://search.naver.com/search.naver?where=news&sm=tab_pge&query=서핑&start=2761', 'https://search.naver.com/search.naver?where=news&sm=tab_pge&query=서핑&start=2771', 'https://search.naver.com/search.naver?where=news&sm=tab_pge&query=서핑&start=2781', 'https://search.naver.com/search.naver?where=news&sm=tab_pge&query=서핑&start=2791', 'https://search.naver.com/search.naver?where=news&sm=tab_pge&query=서핑&start=2801', 'https://search.naver.com/search.naver?where=news&sm=tab_pge&query=서핑&start=2811', 'https://search.naver.com/search.naver?where=news&sm=tab_pge&query=서핑&start=2821', 'https://search.naver.com/search.naver?where=news&sm=tab_pge&query=서핑&start=2831', 'https://search.naver.com/search.naver?where=news&sm=tab_pge&query=서핑&start=2841', 'https://search.naver.com/search.naver?where=news&sm=tab_pge&query=서핑&start=2851', 'https://search.naver.com/search.naver?where=news&sm=tab_pge&query=서핑&start=2861', 'https://search.naver.com/search.naver?where=news&sm=tab_pge&query=서핑&start=2871', 'https://search.naver.com/search.naver?where=news&sm=tab_pge&query=서핑&start=2881', 'https://search.naver.com/search.naver?where=news&sm=tab_pge&query=서핑&start=2891', 'https://search.naver.com/search.naver?where=news&sm=tab_pge&query=서핑&start=2901', 'https://search.naver.com/search.naver?where=news&sm=tab_pge&query=서핑&start=2911', 'https://search.naver.com/search.naver?where=news&sm=tab_pge&query=서핑&start=2921', 'https://search.naver.com/search.naver?where=news&sm=tab_pge&query=서핑&start=2931', 'https://search.naver.com/search.naver?where=news&sm=tab_pge&query=서핑&start=2941', 'https://search.naver.com/search.naver?where=news&sm=tab_pge&query=서핑&start=2951', 'https://search.naver.com/search.naver?where=news&sm=tab_pge&query=서핑&start=2961', 'https://search.naver.com/search.naver?where=news&sm=tab_pge&query=서핑&start=2971', 'https://search.naver.com/search.naver?where=news&sm=tab_pge&query=서핑&start=2981', 'https://search.naver.com/search.naver?where=news&sm=tab_pge&query=서핑&start=2991', 'https://search.naver.com/search.naver?where=news&sm=tab_pge&query=서핑&start=3001', 'https://search.naver.com/search.naver?where=news&sm=tab_pge&query=서핑&start=3011', 'https://search.naver.com/search.naver?where=news&sm=tab_pge&query=서핑&start=3021', 'https://search.naver.com/search.naver?where=news&sm=tab_pge&query=서핑&start=3031', 'https://search.naver.com/search.naver?where=news&sm=tab_pge&query=서핑&start=3041', 'https://search.naver.com/search.naver?where=news&sm=tab_pge&query=서핑&start=3051', 'https://search.naver.com/search.naver?where=news&sm=tab_pge&query=서핑&start=3061', 'https://search.naver.com/search.naver?where=news&sm=tab_pge&query=서핑&start=3071', 'https://search.naver.com/search.naver?where=news&sm=tab_pge&query=서핑&start=3081', 'https://search.naver.com/search.naver?where=news&sm=tab_pge&query=서핑&start=3091', 'https://search.naver.com/search.naver?where=news&sm=tab_pge&query=서핑&start=3101', 'https://search.naver.com/search.naver?where=news&sm=tab_pge&query=서핑&start=3111', 'https://search.naver.com/search.naver?where=news&sm=tab_pge&query=서핑&start=3121', 'https://search.naver.com/search.naver?where=news&sm=tab_pge&query=서핑&start=3131', 'https://search.naver.com/search.naver?where=news&sm=tab_pge&query=서핑&start=3141', 'https://search.naver.com/search.naver?where=news&sm=tab_pge&query=서핑&start=3151', 'https://search.naver.com/search.naver?where=news&sm=tab_pge&query=서핑&start=3161', 'https://search.naver.com/search.naver?where=news&sm=tab_pge&query=서핑&start=3171', 'https://search.naver.com/search.naver?where=news&sm=tab_pge&query=서핑&start=3181', 'https://search.naver.com/search.naver?where=news&sm=tab_pge&query=서핑&start=3191', 'https://search.naver.com/search.naver?where=news&sm=tab_pge&query=서핑&start=3201', 'https://search.naver.com/search.naver?where=news&sm=tab_pge&query=서핑&start=3211', 'https://search.naver.com/search.naver?where=news&sm=tab_pge&query=서핑&start=3221', 'https://search.naver.com/search.naver?where=news&sm=tab_pge&query=서핑&start=3231', 'https://search.naver.com/search.naver?where=news&sm=tab_pge&query=서핑&start=3241', 'https://search.naver.com/search.naver?where=news&sm=tab_pge&query=서핑&start=3251', 'https://search.naver.com/search.naver?where=news&sm=tab_pge&query=서핑&start=3261', 'https://search.naver.com/search.naver?where=news&sm=tab_pge&query=서핑&start=3271', 'https://search.naver.com/search.naver?where=news&sm=tab_pge&query=서핑&start=3281', 'https://search.naver.com/search.naver?where=news&sm=tab_pge&query=서핑&start=3291', 'https://search.naver.com/search.naver?where=news&sm=tab_pge&query=서핑&start=3301', 'https://search.naver.com/search.naver?where=news&sm=tab_pge&query=서핑&start=3311', 'https://search.naver.com/search.naver?where=news&sm=tab_pge&query=서핑&start=3321', 'https://search.naver.com/search.naver?where=news&sm=tab_pge&query=서핑&start=3331', 'https://search.naver.com/search.naver?where=news&sm=tab_pge&query=서핑&start=3341', 'https://search.naver.com/search.naver?where=news&sm=tab_pge&query=서핑&start=3351', 'https://search.naver.com/search.naver?where=news&sm=tab_pge&query=서핑&start=3361', 'https://search.naver.com/search.naver?where=news&sm=tab_pge&query=서핑&start=3371', 'https://search.naver.com/search.naver?where=news&sm=tab_pge&query=서핑&start=3381', 'https://search.naver.com/search.naver?where=news&sm=tab_pge&query=서핑&start=3391', 'https://search.naver.com/search.naver?where=news&sm=tab_pge&query=서핑&start=3401', 'https://search.naver.com/search.naver?where=news&sm=tab_pge&query=서핑&start=3411', 'https://search.naver.com/search.naver?where=news&sm=tab_pge&query=서핑&start=3421', 'https://search.naver.com/search.naver?where=news&sm=tab_pge&query=서핑&start=3431', 'https://search.naver.com/search.naver?where=news&sm=tab_pge&query=서핑&start=3441', 'https://search.naver.com/search.naver?where=news&sm=tab_pge&query=서핑&start=3451', 'https://search.naver.com/search.naver?where=news&sm=tab_pge&query=서핑&start=3461', 'https://search.naver.com/search.naver?where=news&sm=tab_pge&query=서핑&start=3471', 'https://search.naver.com/search.naver?where=news&sm=tab_pge&query=서핑&start=3481', 'https://search.naver.com/search.naver?where=news&sm=tab_pge&query=서핑&start=3491', 'https://search.naver.com/search.naver?where=news&sm=tab_pge&query=서핑&start=3501', 'https://search.naver.com/search.naver?where=news&sm=tab_pge&query=서핑&start=3511', 'https://search.naver.com/search.naver?where=news&sm=tab_pge&query=서핑&start=3521', 'https://search.naver.com/search.naver?where=news&sm=tab_pge&query=서핑&start=3531', 'https://search.naver.com/search.naver?where=news&sm=tab_pge&query=서핑&start=3541', 'https://search.naver.com/search.naver?where=news&sm=tab_pge&query=서핑&start=3551', 'https://search.naver.com/search.naver?where=news&sm=tab_pge&query=서핑&start=3561', 'https://search.naver.com/search.naver?where=news&sm=tab_pge&query=서핑&start=3571', 'https://search.naver.com/search.naver?where=news&sm=tab_pge&query=서핑&start=3581', 'https://search.naver.com/search.naver?where=news&sm=tab_pge&query=서핑&start=3591', 'https://search.naver.com/search.naver?where=news&sm=tab_pge&query=서핑&start=3601', 'https://search.naver.com/search.naver?where=news&sm=tab_pge&query=서핑&start=3611', 'https://search.naver.com/search.naver?where=news&sm=tab_pge&query=서핑&start=3621', 'https://search.naver.com/search.naver?where=news&sm=tab_pge&query=서핑&start=3631', 'https://search.naver.com/search.naver?where=news&sm=tab_pge&query=서핑&start=3641', 'https://search.naver.com/search.naver?where=news&sm=tab_pge&query=서핑&start=3651', 'https://search.naver.com/search.naver?where=news&sm=tab_pge&query=서핑&start=3661', 'https://search.naver.com/search.naver?where=news&sm=tab_pge&query=서핑&start=3671', 'https://search.naver.com/search.naver?where=news&sm=tab_pge&query=서핑&start=3681', 'https://search.naver.com/search.naver?where=news&sm=tab_pge&query=서핑&start=3691', 'https://search.naver.com/search.naver?where=news&sm=tab_pge&query=서핑&start=3701', 'https://search.naver.com/search.naver?where=news&sm=tab_pge&query=서핑&start=3711', 'https://search.naver.com/search.naver?where=news&sm=tab_pge&query=서핑&start=3721', 'https://search.naver.com/search.naver?where=news&sm=tab_pge&query=서핑&start=3731', 'https://search.naver.com/search.naver?where=news&sm=tab_pge&query=서핑&start=3741', 'https://search.naver.com/search.naver?where=news&sm=tab_pge&query=서핑&start=3751', 'https://search.naver.com/search.naver?where=news&sm=tab_pge&query=서핑&start=3761', 'https://search.naver.com/search.naver?where=news&sm=tab_pge&query=서핑&start=3771', 'https://search.naver.com/search.naver?where=news&sm=tab_pge&query=서핑&start=3781', 'https://search.naver.com/search.naver?where=news&sm=tab_pge&query=서핑&start=3791', 'https://search.naver.com/search.naver?where=news&sm=tab_pge&query=서핑&start=3801', 'https://search.naver.com/search.naver?where=news&sm=tab_pge&query=서핑&start=3811', 'https://search.naver.com/search.naver?where=news&sm=tab_pge&query=서핑&start=3821', 'https://search.naver.com/search.naver?where=news&sm=tab_pge&query=서핑&start=3831', 'https://search.naver.com/search.naver?where=news&sm=tab_pge&query=서핑&start=3841', 'https://search.naver.com/search.naver?where=news&sm=tab_pge&query=서핑&start=3851', 'https://search.naver.com/search.naver?where=news&sm=tab_pge&query=서핑&start=3861', 'https://search.naver.com/search.naver?where=news&sm=tab_pge&query=서핑&start=3871', 'https://search.naver.com/search.naver?where=news&sm=tab_pge&query=서핑&start=3881', 'https://search.naver.com/search.naver?where=news&sm=tab_pge&query=서핑&start=3891', 'https://search.naver.com/search.naver?where=news&sm=tab_pge&query=서핑&start=3901', 'https://search.naver.com/search.naver?where=news&sm=tab_pge&query=서핑&start=3911', 'https://search.naver.com/search.naver?where=news&sm=tab_pge&query=서핑&start=3921', 'https://search.naver.com/search.naver?where=news&sm=tab_pge&query=서핑&start=3931', 'https://search.naver.com/search.naver?where=news&sm=tab_pge&query=서핑&start=3941', 'https://search.naver.com/search.naver?where=news&sm=tab_pge&query=서핑&start=3951', 'https://search.naver.com/search.naver?where=news&sm=tab_pge&query=서핑&start=3961', 'https://search.naver.com/search.naver?where=news&sm=tab_pge&query=서핑&start=3971', 'https://search.naver.com/search.naver?where=news&sm=tab_pge&query=서핑&start=3981', 'https://search.naver.com/search.naver?where=news&sm=tab_pge&query=서핑&start=3991', 'https://search.naver.com/search.naver?where=news&sm=tab_pge&query=서핑&start=4001', 'https://search.naver.com/search.naver?where=news&sm=tab_pge&query=서핑&start=4011', 'https://search.naver.com/search.naver?where=news&sm=tab_pge&query=서핑&start=4021', 'https://search.naver.com/search.naver?where=news&sm=tab_pge&query=서핑&start=4031', 'https://search.naver.com/search.naver?where=news&sm=tab_pge&query=서핑&start=4041', 'https://search.naver.com/search.naver?where=news&sm=tab_pge&query=서핑&start=4051', 'https://search.naver.com/search.naver?where=news&sm=tab_pge&query=서핑&start=4061', 'https://search.naver.com/search.naver?where=news&sm=tab_pge&query=서핑&start=4071', 'https://search.naver.com/search.naver?where=news&sm=tab_pge&query=서핑&start=4081', 'https://search.naver.com/search.naver?where=news&sm=tab_pge&query=서핑&start=4091', 'https://search.naver.com/search.naver?where=news&sm=tab_pge&query=서핑&start=4101', 'https://search.naver.com/search.naver?where=news&sm=tab_pge&query=서핑&start=4111', 'https://search.naver.com/search.naver?where=news&sm=tab_pge&query=서핑&start=4121', 'https://search.naver.com/search.naver?where=news&sm=tab_pge&query=서핑&start=4131', 'https://search.naver.com/search.naver?where=news&sm=tab_pge&query=서핑&start=4141', 'https://search.naver.com/search.naver?where=news&sm=tab_pge&query=서핑&start=4151', 'https://search.naver.com/search.naver?where=news&sm=tab_pge&query=서핑&start=4161', 'https://search.naver.com/search.naver?where=news&sm=tab_pge&query=서핑&start=4171', 'https://search.naver.com/search.naver?where=news&sm=tab_pge&query=서핑&start=4181', 'https://search.naver.com/search.naver?where=news&sm=tab_pge&query=서핑&start=4191', 'https://search.naver.com/search.naver?where=news&sm=tab_pge&query=서핑&start=4201', 'https://search.naver.com/search.naver?where=news&sm=tab_pge&query=서핑&start=4211', 'https://search.naver.com/search.naver?where=news&sm=tab_pge&query=서핑&start=4221', 'https://search.naver.com/search.naver?where=news&sm=tab_pge&query=서핑&start=4231', 'https://search.naver.com/search.naver?where=news&sm=tab_pge&query=서핑&start=4241', 'https://search.naver.com/search.naver?where=news&sm=tab_pge&query=서핑&start=4251', 'https://search.naver.com/search.naver?where=news&sm=tab_pge&query=서핑&start=4261', 'https://search.naver.com/search.naver?where=news&sm=tab_pge&query=서핑&start=4271', 'https://search.naver.com/search.naver?where=news&sm=tab_pge&query=서핑&start=4281', 'https://search.naver.com/search.naver?where=news&sm=tab_pge&query=서핑&start=4291', 'https://search.naver.com/search.naver?where=news&sm=tab_pge&query=서핑&start=4301', 'https://search.naver.com/search.naver?where=news&sm=tab_pge&query=서핑&start=4311', 'https://search.naver.com/search.naver?where=news&sm=tab_pge&query=서핑&start=4321', 'https://search.naver.com/search.naver?where=news&sm=tab_pge&query=서핑&start=4331', 'https://search.naver.com/search.naver?where=news&sm=tab_pge&query=서핑&start=4341', 'https://search.naver.com/search.naver?where=news&sm=tab_pge&query=서핑&start=4351', 'https://search.naver.com/search.naver?where=news&sm=tab_pge&query=서핑&start=4361', 'https://search.naver.com/search.naver?where=news&sm=tab_pge&query=서핑&start=4371', 'https://search.naver.com/search.naver?where=news&sm=tab_pge&query=서핑&start=4381', 'https://search.naver.com/search.naver?where=news&sm=tab_pge&query=서핑&start=4391', 'https://search.naver.com/search.naver?where=news&sm=tab_pge&query=서핑&start=4401', 'https://search.naver.com/search.naver?where=news&sm=tab_pge&query=서핑&start=4411', 'https://search.naver.com/search.naver?where=news&sm=tab_pge&query=서핑&start=4421', 'https://search.naver.com/search.naver?where=news&sm=tab_pge&query=서핑&start=4431', 'https://search.naver.com/search.naver?where=news&sm=tab_pge&query=서핑&start=4441', 'https://search.naver.com/search.naver?where=news&sm=tab_pge&query=서핑&start=4451', 'https://search.naver.com/search.naver?where=news&sm=tab_pge&query=서핑&start=4461', 'https://search.naver.com/search.naver?where=news&sm=tab_pge&query=서핑&start=4471', 'https://search.naver.com/search.naver?where=news&sm=tab_pge&query=서핑&start=4481', 'https://search.naver.com/search.naver?where=news&sm=tab_pge&query=서핑&start=4491', 'https://search.naver.com/search.naver?where=news&sm=tab_pge&query=서핑&start=4501', 'https://search.naver.com/search.naver?where=news&sm=tab_pge&query=서핑&start=4511', 'https://search.naver.com/search.naver?where=news&sm=tab_pge&query=서핑&start=4521', 'https://search.naver.com/search.naver?where=news&sm=tab_pge&query=서핑&start=4531', 'https://search.naver.com/search.naver?where=news&sm=tab_pge&query=서핑&start=4541', 'https://search.naver.com/search.naver?where=news&sm=tab_pge&query=서핑&start=4551', 'https://search.naver.com/search.naver?where=news&sm=tab_pge&query=서핑&start=4561', 'https://search.naver.com/search.naver?where=news&sm=tab_pge&query=서핑&start=4571', 'https://search.naver.com/search.naver?where=news&sm=tab_pge&query=서핑&start=4581', 'https://search.naver.com/search.naver?where=news&sm=tab_pge&query=서핑&start=4591', 'https://search.naver.com/search.naver?where=news&sm=tab_pge&query=서핑&start=4601', 'https://search.naver.com/search.naver?where=news&sm=tab_pge&query=서핑&start=4611', 'https://search.naver.com/search.naver?where=news&sm=tab_pge&query=서핑&start=4621', 'https://search.naver.com/search.naver?where=news&sm=tab_pge&query=서핑&start=4631', 'https://search.naver.com/search.naver?where=news&sm=tab_pge&query=서핑&start=4641', 'https://search.naver.com/search.naver?where=news&sm=tab_pge&query=서핑&start=4651', 'https://search.naver.com/search.naver?where=news&sm=tab_pge&query=서핑&start=4661', 'https://search.naver.com/search.naver?where=news&sm=tab_pge&query=서핑&start=4671', 'https://search.naver.com/search.naver?where=news&sm=tab_pge&query=서핑&start=4681', 'https://search.naver.com/search.naver?where=news&sm=tab_pge&query=서핑&start=4691', 'https://search.naver.com/search.naver?where=news&sm=tab_pge&query=서핑&start=4701', 'https://search.naver.com/search.naver?where=news&sm=tab_pge&query=서핑&start=4711', 'https://search.naver.com/search.naver?where=news&sm=tab_pge&query=서핑&start=4721', 'https://search.naver.com/search.naver?where=news&sm=tab_pge&query=서핑&start=4731', 'https://search.naver.com/search.naver?where=news&sm=tab_pge&query=서핑&start=4741', 'https://search.naver.com/search.naver?where=news&sm=tab_pge&query=서핑&start=4751', 'https://search.naver.com/search.naver?where=news&sm=tab_pge&query=서핑&start=4761', 'https://search.naver.com/search.naver?where=news&sm=tab_pge&query=서핑&start=4771', 'https://search.naver.com/search.naver?where=news&sm=tab_pge&query=서핑&start=4781', 'https://search.naver.com/search.naver?where=news&sm=tab_pge&query=서핑&start=4791', 'https://search.naver.com/search.naver?where=news&sm=tab_pge&query=서핑&start=4801', 'https://search.naver.com/search.naver?where=news&sm=tab_pge&query=서핑&start=4811', 'https://search.naver.com/search.naver?where=news&sm=tab_pge&query=서핑&start=4821', 'https://search.naver.com/search.naver?where=news&sm=tab_pge&query=서핑&start=4831', 'https://search.naver.com/search.naver?where=news&sm=tab_pge&query=서핑&start=4841', 'https://search.naver.com/search.naver?where=news&sm=tab_pge&query=서핑&start=4851', 'https://search.naver.com/search.naver?where=news&sm=tab_pge&query=서핑&start=4861', 'https://search.naver.com/search.naver?where=news&sm=tab_pge&query=서핑&start=4871', 'https://search.naver.com/search.naver?where=news&sm=tab_pge&query=서핑&start=4881', 'https://search.naver.com/search.naver?where=news&sm=tab_pge&query=서핑&start=4891', 'https://search.naver.com/search.naver?where=news&sm=tab_pge&query=서핑&start=4901', 'https://search.naver.com/search.naver?where=news&sm=tab_pge&query=서핑&start=4911', 'https://search.naver.com/search.naver?where=news&sm=tab_pge&query=서핑&start=4921', 'https://search.naver.com/search.naver?where=news&sm=tab_pge&query=서핑&start=4931', 'https://search.naver.com/search.naver?where=news&sm=tab_pge&query=서핑&start=4941', 'https://search.naver.com/search.naver?where=news&sm=tab_pge&query=서핑&start=4951', 'https://search.naver.com/search.naver?where=news&sm=tab_pge&query=서핑&start=4961', 'https://search.naver.com/search.naver?where=news&sm=tab_pge&query=서핑&start=4971', 'https://search.naver.com/search.naver?where=news&sm=tab_pge&query=서핑&start=4981', 'https://search.naver.com/search.naver?where=news&sm=tab_pge&query=서핑&start=4991', 'https://search.naver.com/search.naver?where=news&sm=tab_pge&query=서핑&start=5001', 'https://search.naver.com/search.naver?where=news&sm=tab_pge&query=서핑&start=5011', 'https://search.naver.com/search.naver?where=news&sm=tab_pge&query=서핑&start=5021', 'https://search.naver.com/search.naver?where=news&sm=tab_pge&query=서핑&start=5031', 'https://search.naver.com/search.naver?where=news&sm=tab_pge&query=서핑&start=5041', 'https://search.naver.com/search.naver?where=news&sm=tab_pge&query=서핑&start=5051', 'https://search.naver.com/search.naver?where=news&sm=tab_pge&query=서핑&start=5061', 'https://search.naver.com/search.naver?where=news&sm=tab_pge&query=서핑&start=5071', 'https://search.naver.com/search.naver?where=news&sm=tab_pge&query=서핑&start=5081', 'https://search.naver.com/search.naver?where=news&sm=tab_pge&query=서핑&start=5091', 'https://search.naver.com/search.naver?where=news&sm=tab_pge&query=서핑&start=5101', 'https://search.naver.com/search.naver?where=news&sm=tab_pge&query=서핑&start=5111', 'https://search.naver.com/search.naver?where=news&sm=tab_pge&query=서핑&start=5121', 'https://search.naver.com/search.naver?where=news&sm=tab_pge&query=서핑&start=5131', 'https://search.naver.com/search.naver?where=news&sm=tab_pge&query=서핑&start=5141', 'https://search.naver.com/search.naver?where=news&sm=tab_pge&query=서핑&start=5151', 'https://search.naver.com/search.naver?where=news&sm=tab_pge&query=서핑&start=5161', 'https://search.naver.com/search.naver?where=news&sm=tab_pge&query=서핑&start=5171', 'https://search.naver.com/search.naver?where=news&sm=tab_pge&query=서핑&start=5181', 'https://search.naver.com/search.naver?where=news&sm=tab_pge&query=서핑&start=5191', 'https://search.naver.com/search.naver?where=news&sm=tab_pge&query=서핑&start=5201', 'https://search.naver.com/search.naver?where=news&sm=tab_pge&query=서핑&start=5211', 'https://search.naver.com/search.naver?where=news&sm=tab_pge&query=서핑&start=5221', 'https://search.naver.com/search.naver?where=news&sm=tab_pge&query=서핑&start=5231', 'https://search.naver.com/search.naver?where=news&sm=tab_pge&query=서핑&start=5241', 'https://search.naver.com/search.naver?where=news&sm=tab_pge&query=서핑&start=5251', 'https://search.naver.com/search.naver?where=news&sm=tab_pge&query=서핑&start=5261', 'https://search.naver.com/search.naver?where=news&sm=tab_pge&query=서핑&start=5271', 'https://search.naver.com/search.naver?where=news&sm=tab_pge&query=서핑&start=5281', 'https://search.naver.com/search.naver?where=news&sm=tab_pge&query=서핑&start=5291', 'https://search.naver.com/search.naver?where=news&sm=tab_pge&query=서핑&start=5301', 'https://search.naver.com/search.naver?where=news&sm=tab_pge&query=서핑&start=5311', 'https://search.naver.com/search.naver?where=news&sm=tab_pge&query=서핑&start=5321', 'https://search.naver.com/search.naver?where=news&sm=tab_pge&query=서핑&start=5331', 'https://search.naver.com/search.naver?where=news&sm=tab_pge&query=서핑&start=5341', 'https://search.naver.com/search.naver?where=news&sm=tab_pge&query=서핑&start=5351', 'https://search.naver.com/search.naver?where=news&sm=tab_pge&query=서핑&start=5361', 'https://search.naver.com/search.naver?where=news&sm=tab_pge&query=서핑&start=5371', 'https://search.naver.com/search.naver?where=news&sm=tab_pge&query=서핑&start=5381', 'https://search.naver.com/search.naver?where=news&sm=tab_pge&query=서핑&start=5391', 'https://search.naver.com/search.naver?where=news&sm=tab_pge&query=서핑&start=5401', 'https://search.naver.com/search.naver?where=news&sm=tab_pge&query=서핑&start=5411', 'https://search.naver.com/search.naver?where=news&sm=tab_pge&query=서핑&start=5421', 'https://search.naver.com/search.naver?where=news&sm=tab_pge&query=서핑&start=5431', 'https://search.naver.com/search.naver?where=news&sm=tab_pge&query=서핑&start=5441', 'https://search.naver.com/search.naver?where=news&sm=tab_pge&query=서핑&start=5451', 'https://search.naver.com/search.naver?where=news&sm=tab_pge&query=서핑&start=5461', 'https://search.naver.com/search.naver?where=news&sm=tab_pge&query=서핑&start=5471', 'https://search.naver.com/search.naver?where=news&sm=tab_pge&query=서핑&start=5481', 'https://search.naver.com/search.naver?where=news&sm=tab_pge&query=서핑&start=5491', 'https://search.naver.com/search.naver?where=news&sm=tab_pge&query=서핑&start=5501', 'https://search.naver.com/search.naver?where=news&sm=tab_pge&query=서핑&start=5511', 'https://search.naver.com/search.naver?where=news&sm=tab_pge&query=서핑&start=5521', 'https://search.naver.com/search.naver?where=news&sm=tab_pge&query=서핑&start=5531', 'https://search.naver.com/search.naver?where=news&sm=tab_pge&query=서핑&start=5541', 'https://search.naver.com/search.naver?where=news&sm=tab_pge&query=서핑&start=5551', 'https://search.naver.com/search.naver?where=news&sm=tab_pge&query=서핑&start=5561', 'https://search.naver.com/search.naver?where=news&sm=tab_pge&query=서핑&start=5571', 'https://search.naver.com/search.naver?where=news&sm=tab_pge&query=서핑&start=5581', 'https://search.naver.com/search.naver?where=news&sm=tab_pge&query=서핑&start=5591', 'https://search.naver.com/search.naver?where=news&sm=tab_pge&query=서핑&start=5601', 'https://search.naver.com/search.naver?where=news&sm=tab_pge&query=서핑&start=5611', 'https://search.naver.com/search.naver?where=news&sm=tab_pge&query=서핑&start=5621', 'https://search.naver.com/search.naver?where=news&sm=tab_pge&query=서핑&start=5631', 'https://search.naver.com/search.naver?where=news&sm=tab_pge&query=서핑&start=5641', 'https://search.naver.com/search.naver?where=news&sm=tab_pge&query=서핑&start=5651', 'https://search.naver.com/search.naver?where=news&sm=tab_pge&query=서핑&start=5661', 'https://search.naver.com/search.naver?where=news&sm=tab_pge&query=서핑&start=5671', 'https://search.naver.com/search.naver?where=news&sm=tab_pge&query=서핑&start=5681', 'https://search.naver.com/search.naver?where=news&sm=tab_pge&query=서핑&start=5691', 'https://search.naver.com/search.naver?where=news&sm=tab_pge&query=서핑&start=5701', 'https://search.naver.com/search.naver?where=news&sm=tab_pge&query=서핑&start=5711', 'https://search.naver.com/search.naver?where=news&sm=tab_pge&query=서핑&start=5721', 'https://search.naver.com/search.naver?where=news&sm=tab_pge&query=서핑&start=5731', 'https://search.naver.com/search.naver?where=news&sm=tab_pge&query=서핑&start=5741', 'https://search.naver.com/search.naver?where=news&sm=tab_pge&query=서핑&start=5751', 'https://search.naver.com/search.naver?where=news&sm=tab_pge&query=서핑&start=5761', 'https://search.naver.com/search.naver?where=news&sm=tab_pge&query=서핑&start=5771', 'https://search.naver.com/search.naver?where=news&sm=tab_pge&query=서핑&start=5781', 'https://search.naver.com/search.naver?where=news&sm=tab_pge&query=서핑&start=5791', 'https://search.naver.com/search.naver?where=news&sm=tab_pge&query=서핑&start=5801', 'https://search.naver.com/search.naver?where=news&sm=tab_pge&query=서핑&start=5811', 'https://search.naver.com/search.naver?where=news&sm=tab_pge&query=서핑&start=5821', 'https://search.naver.com/search.naver?where=news&sm=tab_pge&query=서핑&start=5831', 'https://search.naver.com/search.naver?where=news&sm=tab_pge&query=서핑&start=5841', 'https://search.naver.com/search.naver?where=news&sm=tab_pge&query=서핑&start=5851', 'https://search.naver.com/search.naver?where=news&sm=tab_pge&query=서핑&start=5861', 'https://search.naver.com/search.naver?where=news&sm=tab_pge&query=서핑&start=5871', 'https://search.naver.com/search.naver?where=news&sm=tab_pge&query=서핑&start=5881', 'https://search.naver.com/search.naver?where=news&sm=tab_pge&query=서핑&start=5891', 'https://search.naver.com/search.naver?where=news&sm=tab_pge&query=서핑&start=5901', 'https://search.naver.com/search.naver?where=news&sm=tab_pge&query=서핑&start=5911', 'https://search.naver.com/search.naver?where=news&sm=tab_pge&query=서핑&start=5921', 'https://search.naver.com/search.naver?where=news&sm=tab_pge&query=서핑&start=5931', 'https://search.naver.com/search.naver?where=news&sm=tab_pge&query=서핑&start=5941', 'https://search.naver.com/search.naver?where=news&sm=tab_pge&query=서핑&start=5951', 'https://search.naver.com/search.naver?where=news&sm=tab_pge&query=서핑&start=5961', 'https://search.naver.com/search.naver?where=news&sm=tab_pge&query=서핑&start=5971', 'https://search.naver.com/search.naver?where=news&sm=tab_pge&query=서핑&start=5981', 'https://search.naver.com/search.naver?where=news&sm=tab_pge&query=서핑&start=5991', 'https://search.naver.com/search.naver?where=news&sm=tab_pge&query=서핑&start=6001', 'https://search.naver.com/search.naver?where=news&sm=tab_pge&query=서핑&start=6011', 'https://search.naver.com/search.naver?where=news&sm=tab_pge&query=서핑&start=6021', 'https://search.naver.com/search.naver?where=news&sm=tab_pge&query=서핑&start=6031', 'https://search.naver.com/search.naver?where=news&sm=tab_pge&query=서핑&start=6041', 'https://search.naver.com/search.naver?where=news&sm=tab_pge&query=서핑&start=6051', 'https://search.naver.com/search.naver?where=news&sm=tab_pge&query=서핑&start=6061', 'https://search.naver.com/search.naver?where=news&sm=tab_pge&query=서핑&start=6071', 'https://search.naver.com/search.naver?where=news&sm=tab_pge&query=서핑&start=6081', 'https://search.naver.com/search.naver?where=news&sm=tab_pge&query=서핑&start=6091', 'https://search.naver.com/search.naver?where=news&sm=tab_pge&query=서핑&start=6101', 'https://search.naver.com/search.naver?where=news&sm=tab_pge&query=서핑&start=6111', 'https://search.naver.com/search.naver?where=news&sm=tab_pge&query=서핑&start=6121', 'https://search.naver.com/search.naver?where=news&sm=tab_pge&query=서핑&start=6131', 'https://search.naver.com/search.naver?where=news&sm=tab_pge&query=서핑&start=6141', 'https://search.naver.com/search.naver?where=news&sm=tab_pge&query=서핑&start=6151', 'https://search.naver.com/search.naver?where=news&sm=tab_pge&query=서핑&start=6161', 'https://search.naver.com/search.naver?where=news&sm=tab_pge&query=서핑&start=6171', 'https://search.naver.com/search.naver?where=news&sm=tab_pge&query=서핑&start=6181', 'https://search.naver.com/search.naver?where=news&sm=tab_pge&query=서핑&start=6191', 'https://search.naver.com/search.naver?where=news&sm=tab_pge&query=서핑&start=6201', 'https://search.naver.com/search.naver?where=news&sm=tab_pge&query=서핑&start=6211', 'https://search.naver.com/search.naver?where=news&sm=tab_pge&query=서핑&start=6221', 'https://search.naver.com/search.naver?where=news&sm=tab_pge&query=서핑&start=6231', 'https://search.naver.com/search.naver?where=news&sm=tab_pge&query=서핑&start=6241', 'https://search.naver.com/search.naver?where=news&sm=tab_pge&query=서핑&start=6251', 'https://search.naver.com/search.naver?where=news&sm=tab_pge&query=서핑&start=6261', 'https://search.naver.com/search.naver?where=news&sm=tab_pge&query=서핑&start=6271', 'https://search.naver.com/search.naver?where=news&sm=tab_pge&query=서핑&start=6281', 'https://search.naver.com/search.naver?where=news&sm=tab_pge&query=서핑&start=6291', 'https://search.naver.com/search.naver?where=news&sm=tab_pge&query=서핑&start=6301', 'https://search.naver.com/search.naver?where=news&sm=tab_pge&query=서핑&start=6311', 'https://search.naver.com/search.naver?where=news&sm=tab_pge&query=서핑&start=6321', 'https://search.naver.com/search.naver?where=news&sm=tab_pge&query=서핑&start=6331', 'https://search.naver.com/search.naver?where=news&sm=tab_pge&query=서핑&start=6341', 'https://search.naver.com/search.naver?where=news&sm=tab_pge&query=서핑&start=6351', 'https://search.naver.com/search.naver?where=news&sm=tab_pge&query=서핑&start=6361', 'https://search.naver.com/search.naver?where=news&sm=tab_pge&query=서핑&start=6371', 'https://search.naver.com/search.naver?where=news&sm=tab_pge&query=서핑&start=6381', 'https://search.naver.com/search.naver?where=news&sm=tab_pge&query=서핑&start=6391', 'https://search.naver.com/search.naver?where=news&sm=tab_pge&query=서핑&start=6401', 'https://search.naver.com/search.naver?where=news&sm=tab_pge&query=서핑&start=6411', 'https://search.naver.com/search.naver?where=news&sm=tab_pge&query=서핑&start=6421', 'https://search.naver.com/search.naver?where=news&sm=tab_pge&query=서핑&start=6431', 'https://search.naver.com/search.naver?where=news&sm=tab_pge&query=서핑&start=6441', 'https://search.naver.com/search.naver?where=news&sm=tab_pge&query=서핑&start=6451', 'https://search.naver.com/search.naver?where=news&sm=tab_pge&query=서핑&start=6461', 'https://search.naver.com/search.naver?where=news&sm=tab_pge&query=서핑&start=6471', 'https://search.naver.com/search.naver?where=news&sm=tab_pge&query=서핑&start=6481', 'https://search.naver.com/search.naver?where=news&sm=tab_pge&query=서핑&start=6491', 'https://search.naver.com/search.naver?where=news&sm=tab_pge&query=서핑&start=6501', 'https://search.naver.com/search.naver?where=news&sm=tab_pge&query=서핑&start=6511', 'https://search.naver.com/search.naver?where=news&sm=tab_pge&query=서핑&start=6521', 'https://search.naver.com/search.naver?where=news&sm=tab_pge&query=서핑&start=6531', 'https://search.naver.com/search.naver?where=news&sm=tab_pge&query=서핑&start=6541', 'https://search.naver.com/search.naver?where=news&sm=tab_pge&query=서핑&start=6551', 'https://search.naver.com/search.naver?where=news&sm=tab_pge&query=서핑&start=6561', 'https://search.naver.com/search.naver?where=news&sm=tab_pge&query=서핑&start=6571', 'https://search.naver.com/search.naver?where=news&sm=tab_pge&query=서핑&start=6581', 'https://search.naver.com/search.naver?where=news&sm=tab_pge&query=서핑&start=6591', 'https://search.naver.com/search.naver?where=news&sm=tab_pge&query=서핑&start=6601', 'https://search.naver.com/search.naver?where=news&sm=tab_pge&query=서핑&start=6611', 'https://search.naver.com/search.naver?where=news&sm=tab_pge&query=서핑&start=6621', 'https://search.naver.com/search.naver?where=news&sm=tab_pge&query=서핑&start=6631', 'https://search.naver.com/search.naver?where=news&sm=tab_pge&query=서핑&start=6641', 'https://search.naver.com/search.naver?where=news&sm=tab_pge&query=서핑&start=6651', 'https://search.naver.com/search.naver?where=news&sm=tab_pge&query=서핑&start=6661', 'https://search.naver.com/search.naver?where=news&sm=tab_pge&query=서핑&start=6671', 'https://search.naver.com/search.naver?where=news&sm=tab_pge&query=서핑&start=6681', 'https://search.naver.com/search.naver?where=news&sm=tab_pge&query=서핑&start=6691', 'https://search.naver.com/search.naver?where=news&sm=tab_pge&query=서핑&start=6701', 'https://search.naver.com/search.naver?where=news&sm=tab_pge&query=서핑&start=6711', 'https://search.naver.com/search.naver?where=news&sm=tab_pge&query=서핑&start=6721', 'https://search.naver.com/search.naver?where=news&sm=tab_pge&query=서핑&start=6731', 'https://search.naver.com/search.naver?where=news&sm=tab_pge&query=서핑&start=6741', 'https://search.naver.com/search.naver?where=news&sm=tab_pge&query=서핑&start=6751', 'https://search.naver.com/search.naver?where=news&sm=tab_pge&query=서핑&start=6761', 'https://search.naver.com/search.naver?where=news&sm=tab_pge&query=서핑&start=6771', 'https://search.naver.com/search.naver?where=news&sm=tab_pge&query=서핑&start=6781', 'https://search.naver.com/search.naver?where=news&sm=tab_pge&query=서핑&start=6791', 'https://search.naver.com/search.naver?where=news&sm=tab_pge&query=서핑&start=6801', 'https://search.naver.com/search.naver?where=news&sm=tab_pge&query=서핑&start=6811', 'https://search.naver.com/search.naver?where=news&sm=tab_pge&query=서핑&start=6821', 'https://search.naver.com/search.naver?where=news&sm=tab_pge&query=서핑&start=6831', 'https://search.naver.com/search.naver?where=news&sm=tab_pge&query=서핑&start=6841', 'https://search.naver.com/search.naver?where=news&sm=tab_pge&query=서핑&start=6851', 'https://search.naver.com/search.naver?where=news&sm=tab_pge&query=서핑&start=6861', 'https://search.naver.com/search.naver?where=news&sm=tab_pge&query=서핑&start=6871', 'https://search.naver.com/search.naver?where=news&sm=tab_pge&query=서핑&start=6881', 'https://search.naver.com/search.naver?where=news&sm=tab_pge&query=서핑&start=6891', 'https://search.naver.com/search.naver?where=news&sm=tab_pge&query=서핑&start=6901', 'https://search.naver.com/search.naver?where=news&sm=tab_pge&query=서핑&start=6911', 'https://search.naver.com/search.naver?where=news&sm=tab_pge&query=서핑&start=6921', 'https://search.naver.com/search.naver?where=news&sm=tab_pge&query=서핑&start=6931', 'https://search.naver.com/search.naver?where=news&sm=tab_pge&query=서핑&start=6941', 'https://search.naver.com/search.naver?where=news&sm=tab_pge&query=서핑&start=6951', 'https://search.naver.com/search.naver?where=news&sm=tab_pge&query=서핑&start=6961', 'https://search.naver.com/search.naver?where=news&sm=tab_pge&query=서핑&start=6971', 'https://search.naver.com/search.naver?where=news&sm=tab_pge&query=서핑&start=6981', 'https://search.naver.com/search.naver?where=news&sm=tab_pge&query=서핑&start=6991', 'https://search.naver.com/search.naver?where=news&sm=tab_pge&query=서핑&start=7001', 'https://search.naver.com/search.naver?where=news&sm=tab_pge&query=서핑&start=7011', 'https://search.naver.com/search.naver?where=news&sm=tab_pge&query=서핑&start=7021', 'https://search.naver.com/search.naver?where=news&sm=tab_pge&query=서핑&start=7031', 'https://search.naver.com/search.naver?where=news&sm=tab_pge&query=서핑&start=7041', 'https://search.naver.com/search.naver?where=news&sm=tab_pge&query=서핑&start=7051', 'https://search.naver.com/search.naver?where=news&sm=tab_pge&query=서핑&start=7061', 'https://search.naver.com/search.naver?where=news&sm=tab_pge&query=서핑&start=7071', 'https://search.naver.com/search.naver?where=news&sm=tab_pge&query=서핑&start=7081', 'https://search.naver.com/search.naver?where=news&sm=tab_pge&query=서핑&start=7091', 'https://search.naver.com/search.naver?where=news&sm=tab_pge&query=서핑&start=7101', 'https://search.naver.com/search.naver?where=news&sm=tab_pge&query=서핑&start=7111', 'https://search.naver.com/search.naver?where=news&sm=tab_pge&query=서핑&start=7121', 'https://search.naver.com/search.naver?where=news&sm=tab_pge&query=서핑&start=7131', 'https://search.naver.com/search.naver?where=news&sm=tab_pge&query=서핑&start=7141', 'https://search.naver.com/search.naver?where=news&sm=tab_pge&query=서핑&start=7151', 'https://search.naver.com/search.naver?where=news&sm=tab_pge&query=서핑&start=7161', 'https://search.naver.com/search.naver?where=news&sm=tab_pge&query=서핑&start=7171', 'https://search.naver.com/search.naver?where=news&sm=tab_pge&query=서핑&start=7181', 'https://search.naver.com/search.naver?where=news&sm=tab_pge&query=서핑&start=7191', 'https://search.naver.com/search.naver?where=news&sm=tab_pge&query=서핑&start=7201', 'https://search.naver.com/search.naver?where=news&sm=tab_pge&query=서핑&start=7211', 'https://search.naver.com/search.naver?where=news&sm=tab_pge&query=서핑&start=7221', 'https://search.naver.com/search.naver?where=news&sm=tab_pge&query=서핑&start=7231', 'https://search.naver.com/search.naver?where=news&sm=tab_pge&query=서핑&start=7241', 'https://search.naver.com/search.naver?where=news&sm=tab_pge&query=서핑&start=7251', 'https://search.naver.com/search.naver?where=news&sm=tab_pge&query=서핑&start=7261', 'https://search.naver.com/search.naver?where=news&sm=tab_pge&query=서핑&start=7271', 'https://search.naver.com/search.naver?where=news&sm=tab_pge&query=서핑&start=7281', 'https://search.naver.com/search.naver?where=news&sm=tab_pge&query=서핑&start=7291', 'https://search.naver.com/search.naver?where=news&sm=tab_pge&query=서핑&start=7301', 'https://search.naver.com/search.naver?where=news&sm=tab_pge&query=서핑&start=7311', 'https://search.naver.com/search.naver?where=news&sm=tab_pge&query=서핑&start=7321', 'https://search.naver.com/search.naver?where=news&sm=tab_pge&query=서핑&start=7331', 'https://search.naver.com/search.naver?where=news&sm=tab_pge&query=서핑&start=7341', 'https://search.naver.com/search.naver?where=news&sm=tab_pge&query=서핑&start=7351', 'https://search.naver.com/search.naver?where=news&sm=tab_pge&query=서핑&start=7361', 'https://search.naver.com/search.naver?where=news&sm=tab_pge&query=서핑&start=7371', 'https://search.naver.com/search.naver?where=news&sm=tab_pge&query=서핑&start=7381', 'https://search.naver.com/search.naver?where=news&sm=tab_pge&query=서핑&start=7391', 'https://search.naver.com/search.naver?where=news&sm=tab_pge&query=서핑&start=7401', 'https://search.naver.com/search.naver?where=news&sm=tab_pge&query=서핑&start=7411', 'https://search.naver.com/search.naver?where=news&sm=tab_pge&query=서핑&start=7421', 'https://search.naver.com/search.naver?where=news&sm=tab_pge&query=서핑&start=7431', 'https://search.naver.com/search.naver?where=news&sm=tab_pge&query=서핑&start=7441', 'https://search.naver.com/search.naver?where=news&sm=tab_pge&query=서핑&start=7451', 'https://search.naver.com/search.naver?where=news&sm=tab_pge&query=서핑&start=7461', 'https://search.naver.com/search.naver?where=news&sm=tab_pge&query=서핑&start=7471', 'https://search.naver.com/search.naver?where=news&sm=tab_pge&query=서핑&start=7481', 'https://search.naver.com/search.naver?where=news&sm=tab_pge&query=서핑&start=7491', 'https://search.naver.com/search.naver?where=news&sm=tab_pge&query=서핑&start=7501', 'https://search.naver.com/search.naver?where=news&sm=tab_pge&query=서핑&start=7511', 'https://search.naver.com/search.naver?where=news&sm=tab_pge&query=서핑&start=7521', 'https://search.naver.com/search.naver?where=news&sm=tab_pge&query=서핑&start=7531', 'https://search.naver.com/search.naver?where=news&sm=tab_pge&query=서핑&start=7541', 'https://search.naver.com/search.naver?where=news&sm=tab_pge&query=서핑&start=7551', 'https://search.naver.com/search.naver?where=news&sm=tab_pge&query=서핑&start=7561', 'https://search.naver.com/search.naver?where=news&sm=tab_pge&query=서핑&start=7571', 'https://search.naver.com/search.naver?where=news&sm=tab_pge&query=서핑&start=7581', 'https://search.naver.com/search.naver?where=news&sm=tab_pge&query=서핑&start=7591', 'https://search.naver.com/search.naver?where=news&sm=tab_pge&query=서핑&start=7601', 'https://search.naver.com/search.naver?where=news&sm=tab_pge&query=서핑&start=7611', 'https://search.naver.com/search.naver?where=news&sm=tab_pge&query=서핑&start=7621', 'https://search.naver.com/search.naver?where=news&sm=tab_pge&query=서핑&start=7631', 'https://search.naver.com/search.naver?where=news&sm=tab_pge&query=서핑&start=7641', 'https://search.naver.com/search.naver?where=news&sm=tab_pge&query=서핑&start=7651', 'https://search.naver.com/search.naver?where=news&sm=tab_pge&query=서핑&start=7661', 'https://search.naver.com/search.naver?where=news&sm=tab_pge&query=서핑&start=7671', 'https://search.naver.com/search.naver?where=news&sm=tab_pge&query=서핑&start=7681', 'https://search.naver.com/search.naver?where=news&sm=tab_pge&query=서핑&start=7691', 'https://search.naver.com/search.naver?where=news&sm=tab_pge&query=서핑&start=7701', 'https://search.naver.com/search.naver?where=news&sm=tab_pge&query=서핑&start=7711', 'https://search.naver.com/search.naver?where=news&sm=tab_pge&query=서핑&start=7721', 'https://search.naver.com/search.naver?where=news&sm=tab_pge&query=서핑&start=7731', 'https://search.naver.com/search.naver?where=news&sm=tab_pge&query=서핑&start=7741', 'https://search.naver.com/search.naver?where=news&sm=tab_pge&query=서핑&start=7751', 'https://search.naver.com/search.naver?where=news&sm=tab_pge&query=서핑&start=7761', 'https://search.naver.com/search.naver?where=news&sm=tab_pge&query=서핑&start=7771', 'https://search.naver.com/search.naver?where=news&sm=tab_pge&query=서핑&start=7781', 'https://search.naver.com/search.naver?where=news&sm=tab_pge&query=서핑&start=7791', 'https://search.naver.com/search.naver?where=news&sm=tab_pge&query=서핑&start=7801', 'https://search.naver.com/search.naver?where=news&sm=tab_pge&query=서핑&start=7811', 'https://search.naver.com/search.naver?where=news&sm=tab_pge&query=서핑&start=7821', 'https://search.naver.com/search.naver?where=news&sm=tab_pge&query=서핑&start=7831', 'https://search.naver.com/search.naver?where=news&sm=tab_pge&query=서핑&start=7841', 'https://search.naver.com/search.naver?where=news&sm=tab_pge&query=서핑&start=7851', 'https://search.naver.com/search.naver?where=news&sm=tab_pge&query=서핑&start=7861', 'https://search.naver.com/search.naver?where=news&sm=tab_pge&query=서핑&start=7871', 'https://search.naver.com/search.naver?where=news&sm=tab_pge&query=서핑&start=7881', 'https://search.naver.com/search.naver?where=news&sm=tab_pge&query=서핑&start=7891', 'https://search.naver.com/search.naver?where=news&sm=tab_pge&query=서핑&start=7901', 'https://search.naver.com/search.naver?where=news&sm=tab_pge&query=서핑&start=7911', 'https://search.naver.com/search.naver?where=news&sm=tab_pge&query=서핑&start=7921', 'https://search.naver.com/search.naver?where=news&sm=tab_pge&query=서핑&start=7931', 'https://search.naver.com/search.naver?where=news&sm=tab_pge&query=서핑&start=7941', 'https://search.naver.com/search.naver?where=news&sm=tab_pge&query=서핑&start=7951', 'https://search.naver.com/search.naver?where=news&sm=tab_pge&query=서핑&start=7961', 'https://search.naver.com/search.naver?where=news&sm=tab_pge&query=서핑&start=7971', 'https://search.naver.com/search.naver?where=news&sm=tab_pge&query=서핑&start=7981', 'https://search.naver.com/search.naver?where=news&sm=tab_pge&query=서핑&start=7991', 'https://search.naver.com/search.naver?where=news&sm=tab_pge&query=서핑&start=8001', 'https://search.naver.com/search.naver?where=news&sm=tab_pge&query=서핑&start=8011', 'https://search.naver.com/search.naver?where=news&sm=tab_pge&query=서핑&start=8021', 'https://search.naver.com/search.naver?where=news&sm=tab_pge&query=서핑&start=8031', 'https://search.naver.com/search.naver?where=news&sm=tab_pge&query=서핑&start=8041', 'https://search.naver.com/search.naver?where=news&sm=tab_pge&query=서핑&start=8051', 'https://search.naver.com/search.naver?where=news&sm=tab_pge&query=서핑&start=8061', 'https://search.naver.com/search.naver?where=news&sm=tab_pge&query=서핑&start=8071', 'https://search.naver.com/search.naver?where=news&sm=tab_pge&query=서핑&start=8081', 'https://search.naver.com/search.naver?where=news&sm=tab_pge&query=서핑&start=8091', 'https://search.naver.com/search.naver?where=news&sm=tab_pge&query=서핑&start=8101', 'https://search.naver.com/search.naver?where=news&sm=tab_pge&query=서핑&start=8111', 'https://search.naver.com/search.naver?where=news&sm=tab_pge&query=서핑&start=8121', 'https://search.naver.com/search.naver?where=news&sm=tab_pge&query=서핑&start=8131', 'https://search.naver.com/search.naver?where=news&sm=tab_pge&query=서핑&start=8141', 'https://search.naver.com/search.naver?where=news&sm=tab_pge&query=서핑&start=8151', 'https://search.naver.com/search.naver?where=news&sm=tab_pge&query=서핑&start=8161', 'https://search.naver.com/search.naver?where=news&sm=tab_pge&query=서핑&start=8171', 'https://search.naver.com/search.naver?where=news&sm=tab_pge&query=서핑&start=8181', 'https://search.naver.com/search.naver?where=news&sm=tab_pge&query=서핑&start=8191', 'https://search.naver.com/search.naver?where=news&sm=tab_pge&query=서핑&start=8201', 'https://search.naver.com/search.naver?where=news&sm=tab_pge&query=서핑&start=8211', 'https://search.naver.com/search.naver?where=news&sm=tab_pge&query=서핑&start=8221', 'https://search.naver.com/search.naver?where=news&sm=tab_pge&query=서핑&start=8231', 'https://search.naver.com/search.naver?where=news&sm=tab_pge&query=서핑&start=8241', 'https://search.naver.com/search.naver?where=news&sm=tab_pge&query=서핑&start=8251', 'https://search.naver.com/search.naver?where=news&sm=tab_pge&query=서핑&start=8261', 'https://search.naver.com/search.naver?where=news&sm=tab_pge&query=서핑&start=8271', 'https://search.naver.com/search.naver?where=news&sm=tab_pge&query=서핑&start=8281', 'https://search.naver.com/search.naver?where=news&sm=tab_pge&query=서핑&start=8291', 'https://search.naver.com/search.naver?where=news&sm=tab_pge&query=서핑&start=8301', 'https://search.naver.com/search.naver?where=news&sm=tab_pge&query=서핑&start=8311', 'https://search.naver.com/search.naver?where=news&sm=tab_pge&query=서핑&start=8321', 'https://search.naver.com/search.naver?where=news&sm=tab_pge&query=서핑&start=8331', 'https://search.naver.com/search.naver?where=news&sm=tab_pge&query=서핑&start=8341', 'https://search.naver.com/search.naver?where=news&sm=tab_pge&query=서핑&start=8351', 'https://search.naver.com/search.naver?where=news&sm=tab_pge&query=서핑&start=8361', 'https://search.naver.com/search.naver?where=news&sm=tab_pge&query=서핑&start=8371', 'https://search.naver.com/search.naver?where=news&sm=tab_pge&query=서핑&start=8381', 'https://search.naver.com/search.naver?where=news&sm=tab_pge&query=서핑&start=8391', 'https://search.naver.com/search.naver?where=news&sm=tab_pge&query=서핑&start=8401', 'https://search.naver.com/search.naver?where=news&sm=tab_pge&query=서핑&start=8411', 'https://search.naver.com/search.naver?where=news&sm=tab_pge&query=서핑&start=8421', 'https://search.naver.com/search.naver?where=news&sm=tab_pge&query=서핑&start=8431', 'https://search.naver.com/search.naver?where=news&sm=tab_pge&query=서핑&start=8441', 'https://search.naver.com/search.naver?where=news&sm=tab_pge&query=서핑&start=8451', 'https://search.naver.com/search.naver?where=news&sm=tab_pge&query=서핑&start=8461', 'https://search.naver.com/search.naver?where=news&sm=tab_pge&query=서핑&start=8471', 'https://search.naver.com/search.naver?where=news&sm=tab_pge&query=서핑&start=8481', 'https://search.naver.com/search.naver?where=news&sm=tab_pge&query=서핑&start=8491', 'https://search.naver.com/search.naver?where=news&sm=tab_pge&query=서핑&start=8501', 'https://search.naver.com/search.naver?where=news&sm=tab_pge&query=서핑&start=8511', 'https://search.naver.com/search.naver?where=news&sm=tab_pge&query=서핑&start=8521', 'https://search.naver.com/search.naver?where=news&sm=tab_pge&query=서핑&start=8531', 'https://search.naver.com/search.naver?where=news&sm=tab_pge&query=서핑&start=8541', 'https://search.naver.com/search.naver?where=news&sm=tab_pge&query=서핑&start=8551', 'https://search.naver.com/search.naver?where=news&sm=tab_pge&query=서핑&start=8561', 'https://search.naver.com/search.naver?where=news&sm=tab_pge&query=서핑&start=8571', 'https://search.naver.com/search.naver?where=news&sm=tab_pge&query=서핑&start=8581', 'https://search.naver.com/search.naver?where=news&sm=tab_pge&query=서핑&start=8591', 'https://search.naver.com/search.naver?where=news&sm=tab_pge&query=서핑&start=8601', 'https://search.naver.com/search.naver?where=news&sm=tab_pge&query=서핑&start=8611', 'https://search.naver.com/search.naver?where=news&sm=tab_pge&query=서핑&start=8621', 'https://search.naver.com/search.naver?where=news&sm=tab_pge&query=서핑&start=8631', 'https://search.naver.com/search.naver?where=news&sm=tab_pge&query=서핑&start=8641', 'https://search.naver.com/search.naver?where=news&sm=tab_pge&query=서핑&start=8651', 'https://search.naver.com/search.naver?where=news&sm=tab_pge&query=서핑&start=8661', 'https://search.naver.com/search.naver?where=news&sm=tab_pge&query=서핑&start=8671', 'https://search.naver.com/search.naver?where=news&sm=tab_pge&query=서핑&start=8681', 'https://search.naver.com/search.naver?where=news&sm=tab_pge&query=서핑&start=8691', 'https://search.naver.com/search.naver?where=news&sm=tab_pge&query=서핑&start=8701', 'https://search.naver.com/search.naver?where=news&sm=tab_pge&query=서핑&start=8711', 'https://search.naver.com/search.naver?where=news&sm=tab_pge&query=서핑&start=8721', 'https://search.naver.com/search.naver?where=news&sm=tab_pge&query=서핑&start=8731', 'https://search.naver.com/search.naver?where=news&sm=tab_pge&query=서핑&start=8741', 'https://search.naver.com/search.naver?where=news&sm=tab_pge&query=서핑&start=8751', 'https://search.naver.com/search.naver?where=news&sm=tab_pge&query=서핑&start=8761', 'https://search.naver.com/search.naver?where=news&sm=tab_pge&query=서핑&start=8771', 'https://search.naver.com/search.naver?where=news&sm=tab_pge&query=서핑&start=8781', 'https://search.naver.com/search.naver?where=news&sm=tab_pge&query=서핑&start=8791', 'https://search.naver.com/search.naver?where=news&sm=tab_pge&query=서핑&start=8801', 'https://search.naver.com/search.naver?where=news&sm=tab_pge&query=서핑&start=8811', 'https://search.naver.com/search.naver?where=news&sm=tab_pge&query=서핑&start=8821', 'https://search.naver.com/search.naver?where=news&sm=tab_pge&query=서핑&start=8831', 'https://search.naver.com/search.naver?where=news&sm=tab_pge&query=서핑&start=8841', 'https://search.naver.com/search.naver?where=news&sm=tab_pge&query=서핑&start=8851', 'https://search.naver.com/search.naver?where=news&sm=tab_pge&query=서핑&start=8861', 'https://search.naver.com/search.naver?where=news&sm=tab_pge&query=서핑&start=8871', 'https://search.naver.com/search.naver?where=news&sm=tab_pge&query=서핑&start=8881', 'https://search.naver.com/search.naver?where=news&sm=tab_pge&query=서핑&start=8891', 'https://search.naver.com/search.naver?where=news&sm=tab_pge&query=서핑&start=8901', 'https://search.naver.com/search.naver?where=news&sm=tab_pge&query=서핑&start=8911', 'https://search.naver.com/search.naver?where=news&sm=tab_pge&query=서핑&start=8921', 'https://search.naver.com/search.naver?where=news&sm=tab_pge&query=서핑&start=8931', 'https://search.naver.com/search.naver?where=news&sm=tab_pge&query=서핑&start=8941', 'https://search.naver.com/search.naver?where=news&sm=tab_pge&query=서핑&start=8951', 'https://search.naver.com/search.naver?where=news&sm=tab_pge&query=서핑&start=8961', 'https://search.naver.com/search.naver?where=news&sm=tab_pge&query=서핑&start=8971', 'https://search.naver.com/search.naver?where=news&sm=tab_pge&query=서핑&start=8981', 'https://search.naver.com/search.naver?where=news&sm=tab_pge&query=서핑&start=8991', 'https://search.naver.com/search.naver?where=news&sm=tab_pge&query=서핑&start=9001', 'https://search.naver.com/search.naver?where=news&sm=tab_pge&query=서핑&start=9011', 'https://search.naver.com/search.naver?where=news&sm=tab_pge&query=서핑&start=9021', 'https://search.naver.com/search.naver?where=news&sm=tab_pge&query=서핑&start=9031', 'https://search.naver.com/search.naver?where=news&sm=tab_pge&query=서핑&start=9041', 'https://search.naver.com/search.naver?where=news&sm=tab_pge&query=서핑&start=9051', 'https://search.naver.com/search.naver?where=news&sm=tab_pge&query=서핑&start=9061', 'https://search.naver.com/search.naver?where=news&sm=tab_pge&query=서핑&start=9071', 'https://search.naver.com/search.naver?where=news&sm=tab_pge&query=서핑&start=9081', 'https://search.naver.com/search.naver?where=news&sm=tab_pge&query=서핑&start=9091', 'https://search.naver.com/search.naver?where=news&sm=tab_pge&query=서핑&start=9101', 'https://search.naver.com/search.naver?where=news&sm=tab_pge&query=서핑&start=9111', 'https://search.naver.com/search.naver?where=news&sm=tab_pge&query=서핑&start=9121', 'https://search.naver.com/search.naver?where=news&sm=tab_pge&query=서핑&start=9131', 'https://search.naver.com/search.naver?where=news&sm=tab_pge&query=서핑&start=9141', 'https://search.naver.com/search.naver?where=news&sm=tab_pge&query=서핑&start=9151', 'https://search.naver.com/search.naver?where=news&sm=tab_pge&query=서핑&start=9161', 'https://search.naver.com/search.naver?where=news&sm=tab_pge&query=서핑&start=9171', 'https://search.naver.com/search.naver?where=news&sm=tab_pge&query=서핑&start=9181', 'https://search.naver.com/search.naver?where=news&sm=tab_pge&query=서핑&start=9191', 'https://search.naver.com/search.naver?where=news&sm=tab_pge&query=서핑&start=9201', 'https://search.naver.com/search.naver?where=news&sm=tab_pge&query=서핑&start=9211', 'https://search.naver.com/search.naver?where=news&sm=tab_pge&query=서핑&start=9221', 'https://search.naver.com/search.naver?where=news&sm=tab_pge&query=서핑&start=9231', 'https://search.naver.com/search.naver?where=news&sm=tab_pge&query=서핑&start=9241', 'https://search.naver.com/search.naver?where=news&sm=tab_pge&query=서핑&start=9251', 'https://search.naver.com/search.naver?where=news&sm=tab_pge&query=서핑&start=9261', 'https://search.naver.com/search.naver?where=news&sm=tab_pge&query=서핑&start=9271', 'https://search.naver.com/search.naver?where=news&sm=tab_pge&query=서핑&start=9281', 'https://search.naver.com/search.naver?where=news&sm=tab_pge&query=서핑&start=9291', 'https://search.naver.com/search.naver?where=news&sm=tab_pge&query=서핑&start=9301', 'https://search.naver.com/search.naver?where=news&sm=tab_pge&query=서핑&start=9311', 'https://search.naver.com/search.naver?where=news&sm=tab_pge&query=서핑&start=9321', 'https://search.naver.com/search.naver?where=news&sm=tab_pge&query=서핑&start=9331', 'https://search.naver.com/search.naver?where=news&sm=tab_pge&query=서핑&start=9341', 'https://search.naver.com/search.naver?where=news&sm=tab_pge&query=서핑&start=9351', 'https://search.naver.com/search.naver?where=news&sm=tab_pge&query=서핑&start=9361', 'https://search.naver.com/search.naver?where=news&sm=tab_pge&query=서핑&start=9371', 'https://search.naver.com/search.naver?where=news&sm=tab_pge&query=서핑&start=9381', 'https://search.naver.com/search.naver?where=news&sm=tab_pge&query=서핑&start=9391', 'https://search.naver.com/search.naver?where=news&sm=tab_pge&query=서핑&start=9401', 'https://search.naver.com/search.naver?where=news&sm=tab_pge&query=서핑&start=9411', 'https://search.naver.com/search.naver?where=news&sm=tab_pge&query=서핑&start=9421', 'https://search.naver.com/search.naver?where=news&sm=tab_pge&query=서핑&start=9431', 'https://search.naver.com/search.naver?where=news&sm=tab_pge&query=서핑&start=9441', 'https://search.naver.com/search.naver?where=news&sm=tab_pge&query=서핑&start=9451', 'https://search.naver.com/search.naver?where=news&sm=tab_pge&query=서핑&start=9461', 'https://search.naver.com/search.naver?where=news&sm=tab_pge&query=서핑&start=9471', 'https://search.naver.com/search.naver?where=news&sm=tab_pge&query=서핑&start=9481', 'https://search.naver.com/search.naver?where=news&sm=tab_pge&query=서핑&start=9491', 'https://search.naver.com/search.naver?where=news&sm=tab_pge&query=서핑&start=9501', 'https://search.naver.com/search.naver?where=news&sm=tab_pge&query=서핑&start=9511', 'https://search.naver.com/search.naver?where=news&sm=tab_pge&query=서핑&start=9521', 'https://search.naver.com/search.naver?where=news&sm=tab_pge&query=서핑&start=9531', 'https://search.naver.com/search.naver?where=news&sm=tab_pge&query=서핑&start=9541', 'https://search.naver.com/search.naver?where=news&sm=tab_pge&query=서핑&start=9551', 'https://search.naver.com/search.naver?where=news&sm=tab_pge&query=서핑&start=9561', 'https://search.naver.com/search.naver?where=news&sm=tab_pge&query=서핑&start=9571', 'https://search.naver.com/search.naver?where=news&sm=tab_pge&query=서핑&start=9581', 'https://search.naver.com/search.naver?where=news&sm=tab_pge&query=서핑&start=9591', 'https://search.naver.com/search.naver?where=news&sm=tab_pge&query=서핑&start=9601', 'https://search.naver.com/search.naver?where=news&sm=tab_pge&query=서핑&start=9611', 'https://search.naver.com/search.naver?where=news&sm=tab_pge&query=서핑&start=9621', 'https://search.naver.com/search.naver?where=news&sm=tab_pge&query=서핑&start=9631', 'https://search.naver.com/search.naver?where=news&sm=tab_pge&query=서핑&start=9641', 'https://search.naver.com/search.naver?where=news&sm=tab_pge&query=서핑&start=9651', 'https://search.naver.com/search.naver?where=news&sm=tab_pge&query=서핑&start=9661', 'https://search.naver.com/search.naver?where=news&sm=tab_pge&query=서핑&start=9671', 'https://search.naver.com/search.naver?where=news&sm=tab_pge&query=서핑&start=9681', 'https://search.naver.com/search.naver?where=news&sm=tab_pge&query=서핑&start=9691', 'https://search.naver.com/search.naver?where=news&sm=tab_pge&query=서핑&start=9701', 'https://search.naver.com/search.naver?where=news&sm=tab_pge&query=서핑&start=9711', 'https://search.naver.com/search.naver?where=news&sm=tab_pge&query=서핑&start=9721', 'https://search.naver.com/search.naver?where=news&sm=tab_pge&query=서핑&start=9731', 'https://search.naver.com/search.naver?where=news&sm=tab_pge&query=서핑&start=9741', 'https://search.naver.com/search.naver?where=news&sm=tab_pge&query=서핑&start=9751', 'https://search.naver.com/search.naver?where=news&sm=tab_pge&query=서핑&start=9761', 'https://search.naver.com/search.naver?where=news&sm=tab_pge&query=서핑&start=9771', 'https://search.naver.com/search.naver?where=news&sm=tab_pge&query=서핑&start=9781', 'https://search.naver.com/search.naver?where=news&sm=tab_pge&query=서핑&start=9791', 'https://search.naver.com/search.naver?where=news&sm=tab_pge&query=서핑&start=9801', 'https://search.naver.com/search.naver?where=news&sm=tab_pge&query=서핑&start=9811', 'https://search.naver.com/search.naver?where=news&sm=tab_pge&query=서핑&start=9821', 'https://search.naver.com/search.naver?where=news&sm=tab_pge&query=서핑&start=9831', 'https://search.naver.com/search.naver?where=news&sm=tab_pge&query=서핑&start=9841', 'https://search.naver.com/search.naver?where=news&sm=tab_pge&query=서핑&start=9851', 'https://search.naver.com/search.naver?where=news&sm=tab_pge&query=서핑&start=9861', 'https://search.naver.com/search.naver?where=news&sm=tab_pge&query=서핑&start=9871', 'https://search.naver.com/search.naver?where=news&sm=tab_pge&query=서핑&start=9881', 'https://search.naver.com/search.naver?where=news&sm=tab_pge&query=서핑&start=9891', 'https://search.naver.com/search.naver?where=news&sm=tab_pge&query=서핑&start=9901', 'https://search.naver.com/search.naver?where=news&sm=tab_pge&query=서핑&start=9911', 'https://search.naver.com/search.naver?where=news&sm=tab_pge&query=서핑&start=9921', 'https://search.naver.com/search.naver?where=news&sm=tab_pge&query=서핑&start=9931', 'https://search.naver.com/search.naver?where=news&sm=tab_pge&query=서핑&start=9941', 'https://search.naver.com/search.naver?where=news&sm=tab_pge&query=서핑&start=9951', 'https://search.naver.com/search.naver?where=news&sm=tab_pge&query=서핑&start=9961', 'https://search.naver.com/search.naver?where=news&sm=tab_pge&query=서핑&start=9971', 'https://search.naver.com/search.naver?where=news&sm=tab_pge&query=서핑&start=9981', 'https://search.naver.com/search.naver?where=news&sm=tab_pge&query=서핑&start=9991']\n"
          ]
        }
      ],
      "source": [
        "# naver url 생성\n",
        "url = makeUrl(search,page,page2)"
      ]
    },
    {
      "cell_type": "code",
      "execution_count": 19,
      "metadata": {
        "id": "TB4q-6316tdf"
      },
      "outputs": [],
      "source": [
        "#뉴스 크롤러 실행\n",
        "news_titles = []\n",
        "news_url =[]\n",
        "news_contents =[]\n",
        "news_dates = []\n",
        "for i in url:\n",
        "    url = articles_crawler(url)\n",
        "    news_url.append(url)"
      ]
    },
    {
      "cell_type": "code",
      "execution_count": 20,
      "metadata": {
        "id": "eLl63Ae16ux7"
      },
      "outputs": [],
      "source": [
        "#제목, 링크, 내용 1차원 리스트로 꺼내는 함수 생성\n",
        "def makeList(newlist, content):\n",
        "    for i in content:\n",
        "        for j in i:\n",
        "            newlist.append(j)\n",
        "    return newlist"
      ]
    },
    {
      "cell_type": "code",
      "execution_count": 21,
      "metadata": {
        "id": "Xtfo81JC6w74"
      },
      "outputs": [
        {
          "data": {
            "text/plain": [
              "[]"
            ]
          },
          "execution_count": 21,
          "metadata": {},
          "output_type": "execute_result"
        }
      ],
      "source": [
        "#제목, 링크, 내용 담을 리스트 생성\n",
        "news_url_1 = []\n",
        "\n",
        "#1차원 리스트로 만들기(내용 제외)\n",
        "makeList(news_url_1,news_url)"
      ]
    },
    {
      "cell_type": "code",
      "execution_count": 22,
      "metadata": {
        "colab": {
          "base_uri": "https://localhost:8080/"
        },
        "id": "-xH8COM139vN",
        "outputId": "a3361a79-77a7-47c9-bc42-39c7860f6c66"
      },
      "outputs": [
        {
          "name": "stderr",
          "output_type": "stream",
          "text": [
            "0it [00:00, ?it/s]\n"
          ]
        }
      ],
      "source": [
        "\n",
        "\n",
        "#NAVER 뉴스만 남기기\n",
        "final_urls = []\n",
        "for i in tqdm(range(len(news_url_1))):\n",
        "    if \"news.naver.com\" in news_url_1[i]:\n",
        "        final_urls.append(news_url_1[i])\n",
        "    else:\n",
        "        pass"
      ]
    },
    {
      "cell_type": "markdown",
      "metadata": {
        "id": "tON9NCSs60rZ"
      },
      "source": [
        "# 4.뉴스 본문 및 날짜 크롤링"
      ]
    },
    {
      "cell_type": "code",
      "execution_count": 23,
      "metadata": {
        "id": "U_5KAV7R64ln"
      },
      "outputs": [
        {
          "name": "stderr",
          "output_type": "stream",
          "text": [
            "0it [00:00, ?it/s]\n"
          ]
        }
      ],
      "source": [
        "for i in tqdm(final_urls):\n",
        "    #각 기사 html get하기\n",
        "    news = requests.get(i,headers=headers)\n",
        "    news_html = BeautifulSoup(news.text,\"html.parser\")\n",
        "    # 뉴스 제목 가져오기\n",
        "    title = news_html.select_one(\"#ct > div.media_end_head.go_trans > div.media_end_head_title > h2\")\n",
        "    if title == None:\n",
        "        title = news_html.select_one(\"#content > div.end_ct > div > h2\")\n",
        "\n",
        "    # 뉴스 본문 가져오기\n",
        "    content = news_html.select(\"article#dic_area\")\n",
        "    if content == []:\n",
        "        content = news_html.select(\"#articeBody\")\n",
        "\n",
        "    # 기사 텍스트만 가져오기\n",
        "    # list합치기\n",
        "    content = ''.join(str(content))\n",
        "\n",
        "    # html태그제거 및 텍스트 다듬기\n",
        "    pattern1 = '<[^>]*>'\n",
        "    title = re.sub(pattern=pattern1, repl='', string=str(title))\n",
        "    content = re.sub(pattern=pattern1, repl='', string=content)\n",
        "    pattern2 = \"\"\"[\\n\\n\\n\\n\\n// flash 오류를 우회하기 위한 함수 추가\\nfunction _flash_removeCallback() {}\"\"\"\n",
        "    content = content.replace(pattern2, '')\n",
        "\n",
        "    news_titles.append(title)\n",
        "    news_contents.append(content)\n",
        "\n",
        "    try:\n",
        "        html_date = news_html.select_one(\"div#ct> div.media_end_head.go_trans > div.media_end_head_info.nv_notrans > div.media_end_head_info_datestamp > div > span\")\n",
        "        news_date = html_date.attrs['data-date-time']\n",
        "    except AttributeError:\n",
        "        news_date = news_html.select_one(\"#content > div.end_ct > div > div.article_info > span > em\")\n",
        "        news_date = re.sub(pattern=pattern1,repl='',string=str(news_date)) # Indentation fixed here\n",
        "    # 날짜 가져오기\n",
        "    news_dates.append(news_date)"
      ]
    },
    {
      "cell_type": "code",
      "execution_count": 24,
      "metadata": {
        "colab": {
          "base_uri": "https://localhost:8080/"
        },
        "id": "N-Jl5k8N391M",
        "outputId": "9addccce-c873-4341-e453-31ba83c1c5c0"
      },
      "outputs": [
        {
          "name": "stdout",
          "output_type": "stream",
          "text": [
            "검색된 기사 갯수: 총  10000 개\n",
            "\n",
            "[뉴스 제목]\n",
            "[]\n",
            "\n",
            "[뉴스 링크]\n",
            "[]\n",
            "\n",
            "[뉴스 내용]\n",
            "[]\n",
            "news_title:  0\n",
            "news_url:  0\n",
            "news_contents:  0\n",
            "news_dates:  0\n"
          ]
        }
      ],
      "source": [
        "print(\"검색된 기사 갯수: 총 \",(page2+1-page)*10,'개')\n",
        "print(\"\\n[뉴스 제목]\")\n",
        "print(news_titles)\n",
        "print(\"\\n[뉴스 링크]\")\n",
        "print(final_urls)\n",
        "print(\"\\n[뉴스 내용]\")\n",
        "print(news_contents)\n",
        "\n",
        "print('news_title: ',len(news_titles))\n",
        "print('news_url: ',len(final_urls))\n",
        "print('news_contents: ',len(news_contents))\n",
        "print('news_dates: ',len(news_dates))"
      ]
    },
    {
      "cell_type": "markdown",
      "metadata": {
        "id": "9gA1g9Jl694T"
      },
      "source": [
        "# 5. CSV 파일로 저장"
      ]
    },
    {
      "cell_type": "code",
      "execution_count": 25,
      "metadata": {
        "id": "Mnw3k7X77C7I"
      },
      "outputs": [],
      "source": [
        "\n",
        "import pandas as pd\n"
      ]
    },
    {
      "cell_type": "code",
      "execution_count": 26,
      "metadata": {
        "id": "VJxb7u0F7Fb8"
      },
      "outputs": [
        {
          "data": {
            "text/html": [
              "<div>\n",
              "<style scoped>\n",
              "    .dataframe tbody tr th:only-of-type {\n",
              "        vertical-align: middle;\n",
              "    }\n",
              "\n",
              "    .dataframe tbody tr th {\n",
              "        vertical-align: top;\n",
              "    }\n",
              "\n",
              "    .dataframe thead th {\n",
              "        text-align: right;\n",
              "    }\n",
              "</style>\n",
              "<table border=\"1\" class=\"dataframe\">\n",
              "  <thead>\n",
              "    <tr style=\"text-align: right;\">\n",
              "      <th></th>\n",
              "      <th>date</th>\n",
              "      <th>title</th>\n",
              "      <th>link</th>\n",
              "      <th>content</th>\n",
              "    </tr>\n",
              "  </thead>\n",
              "  <tbody>\n",
              "  </tbody>\n",
              "</table>\n",
              "</div>"
            ],
            "text/plain": [
              "Empty DataFrame\n",
              "Columns: [date, title, link, content]\n",
              "Index: []"
            ]
          },
          "execution_count": 26,
          "metadata": {},
          "output_type": "execute_result"
        }
      ],
      "source": [
        "#DF 변환\n",
        "news_df = pd.DataFrame({'date':news_dates,'title':news_titles,'link':final_urls,'content':news_contents})\n",
        "news_df"
      ]
    },
    {
      "cell_type": "code",
      "execution_count": 27,
      "metadata": {
        "id": "hEn7ph1B7HLA"
      },
      "outputs": [
        {
          "name": "stdout",
          "output_type": "stream",
          "text": [
            "중복 제거 후 행 개수:  0\n"
          ]
        }
      ],
      "source": [
        "#중복 행 지우기\n",
        "news_df = news_df.drop_duplicates(keep='first',ignore_index=True)\n",
        "print(\"중복 제거 후 행 개수: \",len(news_df))\n"
      ]
    },
    {
      "cell_type": "code",
      "execution_count": 28,
      "metadata": {
        "colab": {
          "base_uri": "https://localhost:8080/"
        },
        "id": "m323o0Bp4qBE",
        "outputId": "e3b3d2c1-4fc7-4b3e-dcfc-d48148ce3aca"
      },
      "outputs": [],
      "source": [
        "# 저장\n",
        "now = datetime.datetime.now()\n",
        "news_df.to_csv('{}_{}.csv'.format(search,now.strftime('%Y%m%d_%H시%M분%S초')),encoding='utf-8-sig',index=False)"
      ]
    }
  ],
  "metadata": {
    "colab": {
      "provenance": []
    },
    "kernelspec": {
      "display_name": "Python 3 (ipykernel)",
      "language": "python",
      "name": "python3"
    }
  },
  "nbformat": 4,
  "nbformat_minor": 0
}
