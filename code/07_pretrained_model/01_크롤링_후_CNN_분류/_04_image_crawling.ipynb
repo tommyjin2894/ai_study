{
  "cells": [
    {
      "cell_type": "markdown",
      "metadata": {},
      "source": [
        "# 크롤링의 3 가지 방법"
      ]
    },
    {
      "cell_type": "markdown",
      "metadata": {},
      "source": [
        "https://drive.google.com/drive/folders/1IyR_kN3OlqRrJuM_nucY3oUQvmxJTOlS?usp=sharing"
      ]
    },
    {
      "cell_type": "code",
      "execution_count": null,
      "metadata": {},
      "outputs": [],
      "source": [
        "!pip install bs4"
      ]
    },
    {
      "cell_type": "code",
      "execution_count": null,
      "metadata": {
        "id": "dev9xZpR0m9e"
      },
      "outputs": [],
      "source": [
        "import requests\n",
        "from bs4 import BeautifulSoup\n"
      ]
    },
    {
      "cell_type": "code",
      "execution_count": null,
      "metadata": {
        "id": "KZbQRh7M0u3n"
      },
      "outputs": [],
      "source": [
        "# 이미지 저장 디렉터리 생성\n",
        "import os\n",
        "os.makedirs('downloaded', exist_ok=True)\n"
      ]
    },
    {
      "cell_type": "code",
      "execution_count": null,
      "metadata": {
        "id": "oexY27Zu0u0d"
      },
      "outputs": [],
      "source": [
        "# 위키미디어 공용의 특정 카테고리 URL\n",
        "img_url = 'https://commons.wikimedia.org/wiki/Category:Mountains'\n",
        "# img_url = 'https://commons.wikimedia.org/wiki/Category:Bicycles'\n"
      ]
    },
    {
      "cell_type": "code",
      "execution_count": null,
      "metadata": {
        "id": "ShbBLSFP0ux4"
      },
      "outputs": [],
      "source": [
        "response = requests.get(img_url)\n",
        "soup = BeautifulSoup(response.text, 'html.parser')\n"
      ]
    },
    {
      "cell_type": "code",
      "execution_count": null,
      "metadata": {
        "id": "szKB7TMiZDDg"
      },
      "outputs": [],
      "source": [
        "########################################################################\n",
        "### Crawling & Labelling\n",
        "### 1. 폴더 구분"
      ]
    },
    {
      "cell_type": "code",
      "execution_count": null,
      "metadata": {
        "colab": {
          "base_uri": "https://localhost:8080/"
        },
        "id": "DrhB7lrF0uu1",
        "outputId": "738ec56e-9d0c-46f3-8daf-000e1d0e709f"
      },
      "outputs": [],
      "source": [
        "# #### 크롤링을 통한 이미지 수집\n",
        "# # 다운로드된 이미지 수\n",
        "# downloaded_images = 0\n",
        "\n",
        "# for item in soup.find_all('div', class_='gallerytext'):\n",
        "#     if downloaded_images >= 2000:  # 다운로드 이미지 갯수한정\n",
        "#         break\n",
        "\n",
        "#     a_tag = item.find('a')\n",
        "#     if a_tag:\n",
        "#         img_page_url = 'https://commons.wikimedia.org' + a_tag.get('href')\n",
        "\n",
        "#         img_page_response = requests.get(img_page_url)\n",
        "#         img_page_soup = BeautifulSoup(img_page_response.text, 'html.parser')\n",
        "#         img_tag = img_page_soup.find('div', class_='fullImageLink').find('a')\n",
        "#         img_url = img_tag.get('href')\n",
        "#         print(img_url)\n",
        "#         # 파일 확장자 검사\n",
        "#         if img_url.lower().endswith(('.png', '.jpg', '.jpeg', '.gif')):\n",
        "#             try:\n",
        "#                 headers = {'User-Agent': 'Mozilla/5.0 (Windows NT 10.0; Win64; x64) AppleWebKit/537.36 (KHTML, like Gecko) Chrome/58.0.3029.110 Safari/537.3'}\n",
        "#                   # (일부)웹 서버에서 User-Agent 헤더를 검사, 브라우저가 아닌 클라이언트의 요청 차단\n",
        "#                   # requests.get() 함수에 웹 브라우저의 User-Agent 값을 포함하는 헤더를 추가하여 다운로드 시도\n",
        "#                 img_data = requests.get(img_url, headers=headers).content\n",
        "\n",
        "#                 # Colab 루트 디렉토리에 'downloaded_images' 폴더를 생성하고 이미지 저장\n",
        "#                 # filename = os.path.join('/content/downloaded_images', img_url.split('/')[-1])\n",
        "#                 filename = img_url.split('/')[-1]\n",
        "\n",
        "#                 with open('downloaded_images/' + filename, 'wb') as f:\n",
        "#                     f.write(img_data)\n",
        "#                 print(f'이미지가 저장되었습니다: {filename}')\n",
        "#                 downloaded_images += 1\n",
        "#             except Exception as e:\n",
        "#                 print(f\"이미지 다운로드 중 오류 발생: {e}\")\n",
        "#         else:\n",
        "#             print(f'지원되지 않는 파일 형식: {img_url}')"
      ]
    },
    {
      "cell_type": "code",
      "execution_count": null,
      "metadata": {
        "id": "yrCUaqAF0ur5"
      },
      "outputs": [],
      "source": [
        "########################################################################\n",
        "### Crawling & Labelling\n",
        "### 2. 파일명에 라벨 포함\n",
        "\n",
        "# filename = f'{category_prefix}_{downloaded_images+1}{file_extension}'"
      ]
    },
    {
      "cell_type": "code",
      "execution_count": null,
      "metadata": {
        "id": "MKhZKcLn8EQ1"
      },
      "outputs": [],
      "source": [
        "# 이미지 저장 함수\n",
        "def download_images1(url, category_prefix):\n",
        "    # 이미지를 저장할 디렉터리 생성\n",
        "    # os.makedirs('downloaded_images/s', exist_ok=True)\n",
        "\n",
        "    response = requests.get(url)\n",
        "    soup = BeautifulSoup(response.text, 'html.parser')\n",
        "\n",
        "    # 다운로드된 이미지 수\n",
        "    downloaded_images = 0\n",
        "\n",
        "    for item in soup.find_all('div', class_='gallerytext'):\n",
        "        if downloaded_images >= 2000:\n",
        "            break\n",
        "\n",
        "        a_tag = item.find('a')\n",
        "        if a_tag:\n",
        "            img_page_url = 'https://commons.wikimedia.org' + a_tag.get('href')\n",
        "\n",
        "            img_page_response = requests.get(img_page_url)\n",
        "            img_page_soup = BeautifulSoup(img_page_response.text, 'html.parser')\n",
        "            img_tag = img_page_soup.find('div', class_='fullImageLink').find('a')\n",
        "            try:\n",
        "                img_url = img_tag.get('href')\n",
        "                            # 파일 확장자 검사 및 파일 이름 생성\n",
        "                # file_extension = os.path.splitext(img_url)[1]\n",
        "                file_extension = img_url.split('.')[-1]\n",
        "                # print(file_extension.lower())\n",
        "                \n",
        "                filename = f'{category_prefix}_{downloaded_images+1}.{file_extension}'\n",
        "                # filepath = os.path.join('downloaded_images/s', filename)\n",
        "                filepath = filename\n",
        "                \n",
        "                if file_extension.lower() in ('png', 'jpg', 'jpeg', 'gif'):\n",
        "                    try:\n",
        "                        headers = {'User-Agent': 'Mozilla/5.0 (Windows NT 10.0; Win64; x64) AppleWebKit/537.36 (KHTML, like Gecko) Chrome/58.0.3029.110 Safari/537.3'}\n",
        "                        img_data = requests.get(img_url, headers=headers).content\n",
        "                        with open('downloaded/' + filepath, 'wb') as f:\n",
        "                            f.write(img_data)\n",
        "                        print(f'이미지가 저장되었습니다: {filepath}')\n",
        "                        downloaded_images += 1\n",
        "                    except Exception as e:\n",
        "                        print(f\"이미지 다운로드 중 오류 발생: {e}\")\n",
        "                else:\n",
        "                    print(f'지원되지 않는 파일 형식: {img_url}')\n",
        "            except:\n",
        "                pass\n",
        "            # print(img_url)\n",
        "\n"
      ]
    },
    {
      "cell_type": "code",
      "execution_count": null,
      "metadata": {
        "id": "1v1kvePS8IKb"
      },
      "outputs": [],
      "source": [
        "url_m = 'https://commons.wikimedia.org/wiki/Category:Mountains'\n",
        "\n",
        "download_images1(url_m, 'm')  # 산 이미지에 'm' 접두사 추가"
      ]
    },
    {
      "cell_type": "code",
      "execution_count": 30,
      "metadata": {},
      "outputs": [
        {
          "name": "stdout",
          "output_type": "stream",
          "text": [
            "이미지가 저장되었습니다: ma_99.jpg\n",
            "이미지가 저장되었습니다: ma_100.jpg\n",
            "이미지가 저장되었습니다: ma_101.jpg\n",
            "이미지가 저장되었습니다: ma_102.jpg\n",
            "이미지가 저장되었습니다: ma_103.jpg\n",
            "이미지가 저장되었습니다: ma_104.jpg\n",
            "이미지가 저장되었습니다: ma_105.jpg\n",
            "이미지가 저장되었습니다: ma_106.jpg\n",
            "이미지가 저장되었습니다: ma_107.jpg\n",
            "이미지가 저장되었습니다: ma_108.jpg\n",
            "이미지가 저장되었습니다: ma_109.jpg\n",
            "이미지가 저장되었습니다: ma_110.jpg\n",
            "이미지가 저장되었습니다: ma_111.jpg\n",
            "이미지가 저장되었습니다: ma_112.png\n",
            "지원되지 않는 파일 형식: https://upload.wikimedia.org/wikipedia/commons/6/65/AFMiguel.tif\n",
            "이미지가 저장되었습니다: ma_113.jpg\n",
            "이미지가 저장되었습니다: ma_114.jpg\n",
            "이미지가 저장되었습니다: ma_115.jpg\n",
            "이미지가 저장되었습니다: ma_116.jpg\n",
            "이미지가 저장되었습니다: ma_117.jpg\n",
            "이미지가 저장되었습니다: ma_118.jpg\n",
            "이미지가 저장되었습니다: ma_119.jpg\n",
            "이미지가 저장되었습니다: ma_120.png\n",
            "이미지가 저장되었습니다: ma_121.jpg\n",
            "이미지가 저장되었습니다: ma_122.jpg\n",
            "이미지가 저장되었습니다: ma_123.jpg\n",
            "이미지가 저장되었습니다: ma_124.jpg\n",
            "이미지가 저장되었습니다: ma_125.jpg\n",
            "이미지가 저장되었습니다: ma_126.jpg\n",
            "이미지가 저장되었습니다: ma_127.jpg\n",
            "이미지가 저장되었습니다: ma_128.jpg\n",
            "이미지가 저장되었습니다: ma_129.jpg\n",
            "이미지가 저장되었습니다: ma_130.jpg\n",
            "이미지가 저장되었습니다: ma_131.jpg\n",
            "이미지가 저장되었습니다: ma_132.jpg\n",
            "이미지가 저장되었습니다: ma_133.jpg\n",
            "이미지가 저장되었습니다: ma_134.jpg\n",
            "이미지가 저장되었습니다: ma_135.jpg\n",
            "이미지가 저장되었습니다: ma_136.jpg\n",
            "이미지가 저장되었습니다: ma_137.jpg\n",
            "이미지가 저장되었습니다: ma_138.jpg\n",
            "이미지가 저장되었습니다: ma_139.jpg\n",
            "이미지가 저장되었습니다: ma_140.jpg\n",
            "이미지가 저장되었습니다: ma_141.jpg\n",
            "이미지가 저장되었습니다: ma_142.jpg\n",
            "이미지가 저장되었습니다: ma_143.jpg\n",
            "이미지가 저장되었습니다: ma_144.jpg\n",
            "이미지가 저장되었습니다: ma_145.jpg\n",
            "이미지가 저장되었습니다: ma_146.jpg\n",
            "이미지가 저장되었습니다: ma_147.jpg\n",
            "이미지가 저장되었습니다: ma_148.jpg\n",
            "이미지가 저장되었습니다: ma_149.jpg\n",
            "이미지가 저장되었습니다: ma_150.jpg\n",
            "이미지가 저장되었습니다: ma_151.jpg\n",
            "이미지가 저장되었습니다: ma_152.jpg\n",
            "이미지가 저장되었습니다: ma_153.jpg\n",
            "이미지가 저장되었습니다: ma_154.png\n",
            "이미지가 저장되었습니다: ma_155.jpg\n",
            "이미지가 저장되었습니다: ma_156.jpg\n",
            "이미지가 저장되었습니다: ma_157.jpg\n",
            "이미지가 저장되었습니다: ma_158.jpg\n",
            "이미지가 저장되었습니다: ma_159.jpg\n",
            "이미지가 저장되었습니다: ma_160.jpg\n",
            "이미지가 저장되었습니다: ma_161.jpg\n",
            "이미지가 저장되었습니다: ma_162.jpg\n",
            "이미지가 저장되었습니다: ma_163.jpg\n",
            "이미지가 저장되었습니다: ma_164.jpg\n",
            "이미지가 저장되었습니다: ma_165.jpg\n",
            "이미지가 저장되었습니다: ma_166.jpg\n",
            "이미지가 저장되었습니다: ma_167.png\n",
            "이미지가 저장되었습니다: ma_168.png\n",
            "이미지가 저장되었습니다: ma_169.jpg\n",
            "이미지가 저장되었습니다: ma_170.jpg\n",
            "이미지가 저장되었습니다: ma_171.jpg\n",
            "이미지가 저장되었습니다: ma_172.jpg\n",
            "이미지가 저장되었습니다: ma_173.jpg\n",
            "이미지가 저장되었습니다: ma_174.jpg\n",
            "이미지가 저장되었습니다: ma_175.jpg\n",
            "이미지가 저장되었습니다: ma_176.jpg\n",
            "이미지가 저장되었습니다: ma_177.jpg\n",
            "이미지가 저장되었습니다: ma_178.jpg\n",
            "이미지가 저장되었습니다: ma_179.jpg\n",
            "이미지가 저장되었습니다: ma_180.jpg\n",
            "이미지가 저장되었습니다: ma_181.jpg\n",
            "이미지가 저장되었습니다: ma_182.jpg\n",
            "이미지가 저장되었습니다: ma_183.jpg\n",
            "이미지가 저장되었습니다: ma_184.jpg\n",
            "이미지가 저장되었습니다: ma_185.jpg\n",
            "이미지가 저장되었습니다: ma_186.jpg\n",
            "이미지가 저장되었습니다: ma_187.jpg\n",
            "이미지가 저장되었습니다: ma_188.jpg\n",
            "이미지가 저장되었습니다: ma_189.jpg\n",
            "이미지가 저장되었습니다: ma_190.jpg\n",
            "이미지가 저장되었습니다: ma_191.jpg\n",
            "이미지가 저장되었습니다: ma_192.jpg\n",
            "이미지가 저장되었습니다: ma_193.jpg\n",
            "이미지가 저장되었습니다: ma_194.jpg\n",
            "이미지가 저장되었습니다: ma_195.jpg\n",
            "이미지가 저장되었습니다: ma_196.jpg\n"
          ]
        }
      ],
      "source": [
        "url_ma = 'https://commons.wikimedia.org/wiki/Category:Men'\n",
        "download_images1(url_ma, 'ma')"
      ]
    },
    {
      "cell_type": "code",
      "execution_count": null,
      "metadata": {},
      "outputs": [],
      "source": [
        "url_wo = 'https://commons.wikimedia.org/wiki/Category:Women'\n",
        "download_images1(url_wo, 'w')"
      ]
    },
    {
      "cell_type": "code",
      "execution_count": null,
      "metadata": {
        "id": "MefRxmJxAMGk"
      },
      "outputs": [],
      "source": [
        "########################################################################\n",
        "### Crawling & Labelling\n",
        "### 3. 라벨 파일을 별도로 작업 -> index로 매칭\n",
        "\n",
        "# filename = f'{category_prefix}_{downloaded_images+1}{file_extension}'"
      ]
    },
    {
      "cell_type": "code",
      "execution_count": null,
      "metadata": {
        "id": "3pup0id1AyQx"
      },
      "outputs": [],
      "source": [
        "import requests\n",
        "from bs4 import BeautifulSoup\n",
        "import os\n",
        "import csv\n"
      ]
    },
    {
      "cell_type": "code",
      "execution_count": null,
      "metadata": {
        "id": "uLy4KByKAMqa"
      },
      "outputs": [],
      "source": [
        "# 이미지 저장 함수\n",
        "def download_images3(url, category_prefix):\n",
        "\n",
        "    # 클래스 정보가 포함된 CSV 파일 생성\n",
        "    with open('image_labels.b.csv', 'w', newline='', encoding='utf-8') as file:\n",
        "        writer = csv.writer(file)\n",
        "        writer.writerow(['image_name', 'class'])  # CSV 파일 헤더\n",
        "\n",
        "        response = requests.get(url)\n",
        "        soup = BeautifulSoup(response.text, 'html.parser')\n",
        "\n",
        "        # 다운로드된 이미지 수\n",
        "        downloaded_images = 0\n",
        "\n",
        "        for item in soup.find_all('div', class_='gallerytext'):\n",
        "            if downloaded_images >= 10:\n",
        "                break\n",
        "\n",
        "            a_tag = item.find('a')\n",
        "            if a_tag:\n",
        "                img_page_url = 'https://commons.wikimedia.org' + a_tag.get('href')\n",
        "                img_page_response = requests.get(img_page_url)\n",
        "                img_page_soup = BeautifulSoup(img_page_response.text, 'html.parser')\n",
        "                img_tag = img_page_soup.find('div', class_='fullImageLink').find('a')\n",
        "                img_url = img_tag.get('href')\n",
        "\n",
        "                # 파일 확장자 검사 및 파일 이름 생성\n",
        "                file_extension = img_url.split('.')[-1]\n",
        "                filename = f'{category_prefix}_{downloaded_images+1}{file_extension}'\n",
        "                # filepath = '/content/aaa/'+filename\n",
        "                filepath = filename\n",
        "\n",
        "                # HEAD 요청을 보내어 파일 사이즈 확인\n",
        "                head_response = requests.head(img_url)\n",
        "                size_bytes = int(head_response.headers.get('content-length', 0))\n",
        "\n",
        "                # 파일 사이즈가 max_size_bytes 이하인 경우에만 다운로드\n",
        "                max_size_bytes = 100000\n",
        "                if size_bytes <= max_size_bytes:\n",
        "                    if file_extension.lower() in ('jpg'): # ('.png', '.jpg', '.jpeg', '.gif'):\n",
        "                        try:\n",
        "                            headers = {\n",
        "                                'User-Agent': 'Mozilla/5.0 (Windows NT 10.0; Win64; x64) AppleWebKit/537.36 (KHTML, like Gecko) Chrome/58.0.3029.110 Safari/537.3'\n",
        "                            }\n",
        "                            print(size_bytes)\n",
        "                            img_data = requests.get(img_url, headers=headers).content\n",
        "                            with open(filepath, 'wb') as f:\n",
        "                                f.write(img_data)\n",
        "                            print(f'이미지가 저장되었습니다: {filepath}')\n",
        "                            downloaded_images += 1\n",
        "\n",
        "                            # 이미지 이름과 클래스 정보를 CSV 파일에 기록\n",
        "                            writer.writerow([filename, category_prefix])\n",
        "                        except Exception as e:\n",
        "                            print(f\"이미지 다운로드 중 오류 발생: {e}\")\n",
        "                    else:\n",
        "                        print(f'지원되지 않는 파일 형식: {img_url}')\n",
        "                else:\n",
        "                    print(f'파일이 너무 큽니다 (사이즈: {size_bytes} 바이트)')"
      ]
    },
    {
      "cell_type": "code",
      "execution_count": null,
      "metadata": {
        "colab": {
          "base_uri": "https://localhost:8080/"
        },
        "id": "pnWIk4PFAnNL",
        "outputId": "e6b77c7c-936d-4f51-f312-a550a22b3f1d"
      },
      "outputs": [],
      "source": [
        "url_b = 'https://commons.wikimedia.org/wiki/Category:Bicycles'\n",
        "download_images3(url_b, 'b')  # 자전거 이미지에 'b' 접두사 추가\n"
      ]
    }
  ],
  "metadata": {
    "colab": {
      "provenance": []
    },
    "kernelspec": {
      "display_name": "Python 3",
      "name": "python3"
    },
    "language_info": {
      "codemirror_mode": {
        "name": "ipython",
        "version": 3
      },
      "file_extension": ".py",
      "mimetype": "text/x-python",
      "name": "python",
      "nbconvert_exporter": "python",
      "pygments_lexer": "ipython3",
      "version": "3.8.19"
    }
  },
  "nbformat": 4,
  "nbformat_minor": 0
}
