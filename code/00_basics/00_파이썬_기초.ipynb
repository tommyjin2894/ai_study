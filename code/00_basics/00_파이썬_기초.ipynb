{
 "cells": [
  {
   "cell_type": "markdown",
   "metadata": {},
   "source": [
    "### 파이썬으로 할 수 있는 일\n",
    "- 데이터 분석 (tensorflow, pytorch)\n",
    "- 인공지능 딥러닝\n",
    "- 웹 프로그래밍 (백 엔드 등)\n",
    "- 수치연산 (C언어가 더욱 좋다, numpy 가 C로 구성 되어 있다.)\n",
    "- DB 프로그래밍\n",
    "- 시스템 유틸리티\n",
    "- 사물 인터넷 (IOT)\n",
    "\n",
    "### 파이썬 에 적합하지 않은 일\n",
    "- 시스템 밀접한 영역\n",
    "- 모바일 프로그래밍"
   ]
  },
  {
   "cell_type": "markdown",
   "metadata": {},
   "source": [
    "### 스네이크 케이스와, 캐멀 케이스\n",
    "- 변수 명 지정할 때 이용한다.\n",
    "    - 스네이크 케이스: 언더바 이용, 파이썬 에서는 보통 **변수** 또는 **함수명** 지정할 때\n",
    "        - itemlist → item_list\n",
    "        - loginstatus → login_status\n",
    "    - 캐멀 케이스: 대문자 이용, 파이썬 에서는 보통 을 **클래스** 지정할 때\n",
    "        - itemlist  → ItemList or itemList\n",
    "        - loginstatus → LoginStatus or loginStatus"
   ]
  },
  {
   "cell_type": "code",
   "execution_count": 17,
   "metadata": {},
   "outputs": [
    {
     "name": "stdout",
     "output_type": "stream",
     "text": [
      "시동을 겁니다.\n",
      "자동차가 달립니다.\n",
      "자동차가 멈춥니다.\n"
     ]
    }
   ],
   "source": [
    "# 절차지향: 함수로 자동차 동작 처리\n",
    "def start_car():\n",
    "    print(\"시동을 겁니다.\")\n",
    "\n",
    "def drive_car():\n",
    "    print(\"자동차가 달립니다.\")\n",
    "\n",
    "def stop_car():\n",
    "    print(\"자동차가 멈춥니다.\")\n",
    "\n",
    "start_car()\n",
    "drive_car()\n",
    "stop_car()\n"
   ]
  },
  {
   "cell_type": "code",
   "execution_count": 18,
   "metadata": {},
   "outputs": [
    {
     "name": "stdout",
     "output_type": "stream",
     "text": [
      "시동을 겁니다.\n",
      "자동차가 달립니다.\n",
      "자동차가 멈춥니다.\n"
     ]
    }
   ],
   "source": [
    "# 객체지향: 자동차 객체 생성 후 동작 처리\n",
    "class Car:\n",
    "    def start(self):\n",
    "        print(\"시동을 겁니다.\")\n",
    "        \n",
    "    def drive(self):\n",
    "        print(\"자동차가 달립니다.\")\n",
    "        \n",
    "    def stop(self):\n",
    "        print(\"자동차가 멈춥니다.\")\n",
    "\n",
    "my_car = Car()\n",
    "my_car.start()\n",
    "my_car.drive()\n",
    "my_car.stop()\n"
   ]
  },
  {
   "cell_type": "markdown",
   "metadata": {},
   "source": [
    "### 리스트와 배열의 차이\n",
    "  - | **List** | **Array** |\n",
    "    | --- | --- |\n",
    "    | 여러 데이터 타입이 동시에 들어있을 수 있다. | 한종류의 데이터 타입만 가능하다 |\n",
    "    | 추가적인 외부 모듈이 필요 없다. | 배열의 추가적인 모듈이 필요하다. |\n",
    "    | 직접적인 수학 계산이 불가능하다. | 직접적인 수학 계산이 가능하다. |\n",
    "    | 짧은 시퀀스 데이터에 유리하다. | 긴 시퀀스 데이터에 유리하다 |\n",
    "    | 추가와 삭제 및 데이터에 유연하다. | 추가와 삭제 및 데이터에 유연하지 않다. |\n",
    "    | 메모리 차지가 크다 | 메모리 차지가 적다 |\n",
    "    | 배열 안의 각 요소의 길이는 달라도 된다.. | 배열 안의 각 요소의 길이는 모두 같아야 한다. |"
   ]
  },
  {
   "cell_type": "code",
   "execution_count": 19,
   "metadata": {},
   "outputs": [
    {
     "name": "stdout",
     "output_type": "stream",
     "text": [
      "[[1 2 3]\n",
      " [4 5 6]\n",
      " [7 8 9]]\n"
     ]
    }
   ],
   "source": [
    "# 배열 안의 각 요소의 길이는 모두 같아야 한다\n",
    "\n",
    "import numpy as np\n",
    "\n",
    "list_sample = [[1,2,3],[4,5,6],[7,8,9]]\n",
    "np_array = np.array(list_sample)\n",
    "print(np_array)"
   ]
  },
  {
   "cell_type": "code",
   "execution_count": 20,
   "metadata": {},
   "outputs": [
    {
     "ename": "ValueError",
     "evalue": "setting an array element with a sequence. The requested array has an inhomogeneous shape after 1 dimensions. The detected shape was (3,) + inhomogeneous part.",
     "output_type": "error",
     "traceback": [
      "\u001b[0;31m---------------------------------------------------------------------------\u001b[0m",
      "\u001b[0;31mValueError\u001b[0m                                Traceback (most recent call last)",
      "Cell \u001b[0;32mIn[20], line 2\u001b[0m\n\u001b[1;32m      1\u001b[0m list_sample \u001b[38;5;241m=\u001b[39m [[\u001b[38;5;241m1\u001b[39m,\u001b[38;5;241m2\u001b[39m,\u001b[38;5;241m3\u001b[39m],[\u001b[38;5;241m4\u001b[39m,\u001b[38;5;241m5\u001b[39m,\u001b[38;5;241m6\u001b[39m],[\u001b[38;5;241m7\u001b[39m,\u001b[38;5;241m8\u001b[39m,\u001b[38;5;241m9\u001b[39m,\u001b[38;5;241m10\u001b[39m]] \u001b[38;5;66;03m#배열 안의 각 요소의 길이는 모두 같아야 한다.\u001b[39;00m\n\u001b[0;32m----> 2\u001b[0m np_array \u001b[38;5;241m=\u001b[39m \u001b[43mnp\u001b[49m\u001b[38;5;241;43m.\u001b[39;49m\u001b[43marray\u001b[49m\u001b[43m(\u001b[49m\u001b[43mlist_sample\u001b[49m\u001b[43m)\u001b[49m\n",
      "\u001b[0;31mValueError\u001b[0m: setting an array element with a sequence. The requested array has an inhomogeneous shape after 1 dimensions. The detected shape was (3,) + inhomogeneous part."
     ]
    }
   ],
   "source": [
    "list_sample = [[1,2,3],[4,5,6],[7,8,9,10]] #배열 안의 각 요소의 길이는 모두 같아야 한다.\n",
    "np_array = np.array(list_sample)"
   ]
  },
  {
   "cell_type": "markdown",
   "metadata": {},
   "source": [
    "### 실수와 정수의 난수 생성 with numpy\n",
    "\n",
    ">* 실수 난수 생성: [np.random.uniform](https://numpy.org/doc/stable/reference/random/generated/numpy.random.uniform.html)\n",
    ">* 정수 난수 생성: [np.ramdom.randint](https://numpy.org/doc/stable/reference/random/generated/numpy.random.randint.html)"
   ]
  },
  {
   "cell_type": "code",
   "execution_count": 22,
   "metadata": {},
   "outputs": [],
   "source": [
    "import numpy as np\n",
    "import seaborn as sns\n",
    "import matplotlib as mpl\n",
    "import matplotlib.pyplot as plt\n",
    "import matplotlib_inline.backend_inline\n",
    "\n",
    "matplotlib_inline.backend_inline.set_matplotlib_formats(\"png2x\") # svg, retina, png2x ...\n",
    "mpl.style.use(\"seaborn-v0_8\")\n",
    "mpl.rcParams.update({\"figure.constrained_layout.use\": True})\n",
    "sns.set_context(\"paper\") \n",
    "sns.set_palette(\"Set2\") \n",
    "sns.set_style(\"whitegrid\") \n",
    "\n",
    "# 시스템 폰트패밀리에 따라 변경\n",
    "plt.rc(\"font\", family = \"NanumGothicCoding\")\n",
    "plt.rcParams[\"axes.unicode_minus\"] = False"
   ]
  },
  {
   "cell_type": "code",
   "execution_count": 23,
   "metadata": {},
   "outputs": [
    {
     "name": "stdout",
     "output_type": "stream",
     "text": [
      "['DejaVu Math TeX Gyre', 'DejaVu Sans', 'DejaVu Sans Mono', 'DejaVu Serif', 'Liberation Mono', 'Liberation Sans', 'Liberation Sans Narrow', 'Liberation Serif', 'NanumBarunGothic', 'NanumGothic', 'NanumGothicCoding', 'NanumMyeongjo', 'NanumSquare', 'NanumSquareRound', 'Ubuntu', 'Ubuntu Condensed', 'Ubuntu Mono']\n"
     ]
    }
   ],
   "source": [
    "from matplotlib import font_manager\n",
    "\n",
    "# 시스템에 설치된 모든 폰트를 가져옵니다.\n",
    "font_list = font_manager.findSystemFonts(fontpaths=None, fontext='ttf')\n",
    "\n",
    "# 폰트 파일에서 폰트 이름 추출\n",
    "font_names = set()\n",
    "for font in font_list:\n",
    "    font_properties = font_manager.FontProperties(fname=font)\n",
    "    font_names.add(font_properties.get_name())\n",
    "\n",
    "# 사용 가능한 폰트 이름 출력\n",
    "print(sorted(font_names))"
   ]
  },
  {
   "cell_type": "code",
   "execution_count": 24,
   "metadata": {},
   "outputs": [
    {
     "name": "stderr",
     "output_type": "stream",
     "text": [
      "findfont: Font family 'NanumGothicCoding' not found.\n",
      "findfont: Font family 'NanumGothicCoding' not found.\n",
      "findfont: Font family 'NanumGothicCoding' not found.\n",
      "findfont: Font family 'NanumGothicCoding' not found.\n",
      "findfont: Font family 'NanumGothicCoding' not found.\n",
      "findfont: Font family 'NanumGothicCoding' not found.\n",
      "findfont: Font family 'NanumGothicCoding' not found.\n",
      "findfont: Font family 'NanumGothicCoding' not found.\n",
      "findfont: Font family 'NanumGothicCoding' not found.\n",
      "findfont: Font family 'NanumGothicCoding' not found.\n",
      "findfont: Font family 'NanumGothicCoding' not found.\n",
      "findfont: Font family 'NanumGothicCoding' not found.\n",
      "findfont: Font family 'NanumGothicCoding' not found.\n",
      "findfont: Font family 'NanumGothicCoding' not found.\n",
      "findfont: Font family 'NanumGothicCoding' not found.\n",
      "findfont: Font family 'NanumGothicCoding' not found.\n",
      "findfont: Font family 'NanumGothicCoding' not found.\n",
      "findfont: Font family 'NanumGothicCoding' not found.\n",
      "findfont: Font family 'NanumGothicCoding' not found.\n",
      "/home/tommy/anaconda3/envs/p311/lib/python3.11/site-packages/IPython/core/events.py:82: UserWarning: Glyph 54616 (\\N{HANGUL SYLLABLE HA}) missing from font(s) DejaVu Sans.\n",
      "  func(*args, **kwargs)\n",
      "findfont: Font family 'NanumGothicCoding' not found.\n",
      "findfont: Font family 'NanumGothicCoding' not found.\n",
      "findfont: Font family 'NanumGothicCoding' not found.\n",
      "findfont: Font family 'NanumGothicCoding' not found.\n",
      "findfont: Font family 'NanumGothicCoding' not found.\n",
      "findfont: Font family 'NanumGothicCoding' not found.\n",
      "findfont: Font family 'NanumGothicCoding' not found.\n",
      "findfont: Font family 'NanumGothicCoding' not found.\n",
      "findfont: Font family 'NanumGothicCoding' not found.\n",
      "findfont: Font family 'NanumGothicCoding' not found.\n",
      "findfont: Font family 'NanumGothicCoding' not found.\n",
      "findfont: Font family 'NanumGothicCoding' not found.\n",
      "findfont: Font family 'NanumGothicCoding' not found.\n",
      "findfont: Font family 'NanumGothicCoding' not found.\n",
      "findfont: Font family 'NanumGothicCoding' not found.\n",
      "findfont: Font family 'NanumGothicCoding' not found.\n",
      "findfont: Font family 'NanumGothicCoding' not found.\n",
      "findfont: Font family 'NanumGothicCoding' not found.\n",
      "findfont: Font family 'NanumGothicCoding' not found.\n",
      "findfont: Font family 'NanumGothicCoding' not found.\n",
      "findfont: Font family 'NanumGothicCoding' not found.\n",
      "findfont: Font family 'NanumGothicCoding' not found.\n",
      "findfont: Font family 'NanumGothicCoding' not found.\n",
      "findfont: Font family 'NanumGothicCoding' not found.\n",
      "findfont: Font family 'NanumGothicCoding' not found.\n",
      "findfont: Font family 'NanumGothicCoding' not found.\n",
      "findfont: Font family 'NanumGothicCoding' not found.\n",
      "findfont: Font family 'NanumGothicCoding' not found.\n",
      "findfont: Font family 'NanumGothicCoding' not found.\n",
      "findfont: Font family 'NanumGothicCoding' not found.\n",
      "findfont: Font family 'NanumGothicCoding' not found.\n",
      "findfont: Font family 'NanumGothicCoding' not found.\n",
      "findfont: Font family 'NanumGothicCoding' not found.\n",
      "findfont: Font family 'NanumGothicCoding' not found.\n",
      "findfont: Font family 'NanumGothicCoding' not found.\n",
      "findfont: Font family 'NanumGothicCoding' not found.\n",
      "findfont: Font family 'NanumGothicCoding' not found.\n",
      "findfont: Font family 'NanumGothicCoding' not found.\n",
      "findfont: Font family 'NanumGothicCoding' not found.\n",
      "findfont: Font family 'NanumGothicCoding' not found.\n",
      "findfont: Font family 'NanumGothicCoding' not found.\n",
      "findfont: Font family 'NanumGothicCoding' not found.\n",
      "findfont: Font family 'NanumGothicCoding' not found.\n",
      "/home/tommy/anaconda3/envs/p311/lib/python3.11/site-packages/IPython/core/pylabtools.py:170: UserWarning: Glyph 54616 (\\N{HANGUL SYLLABLE HA}) missing from font(s) DejaVu Sans.\n",
      "  fig.canvas.print_figure(bytes_io, **kw)\n",
      "findfont: Font family 'NanumGothicCoding' not found.\n",
      "findfont: Font family 'NanumGothicCoding' not found.\n",
      "findfont: Font family 'NanumGothicCoding' not found.\n",
      "findfont: Font family 'NanumGothicCoding' not found.\n",
      "findfont: Font family 'NanumGothicCoding' not found.\n",
      "findfont: Font family 'NanumGothicCoding' not found.\n",
      "findfont: Font family 'NanumGothicCoding' not found.\n",
      "findfont: Font family 'NanumGothicCoding' not found.\n",
      "findfont: Font family 'NanumGothicCoding' not found.\n",
      "findfont: Font family 'NanumGothicCoding' not found.\n",
      "findfont: Font family 'NanumGothicCoding' not found.\n",
      "findfont: Font family 'NanumGothicCoding' not found.\n",
      "findfont: Font family 'NanumGothicCoding' not found.\n",
      "findfont: Font family 'NanumGothicCoding' not found.\n",
      "findfont: Font family 'NanumGothicCoding' not found.\n",
      "findfont: Font family 'NanumGothicCoding' not found.\n",
      "findfont: Font family 'NanumGothicCoding' not found.\n",
      "findfont: Font family 'NanumGothicCoding' not found.\n",
      "findfont: Font family 'NanumGothicCoding' not found.\n",
      "findfont: Font family 'NanumGothicCoding' not found.\n",
      "findfont: Font family 'NanumGothicCoding' not found.\n",
      "findfont: Font family 'NanumGothicCoding' not found.\n",
      "findfont: Font family 'NanumGothicCoding' not found.\n",
      "findfont: Font family 'NanumGothicCoding' not found.\n",
      "findfont: Font family 'NanumGothicCoding' not found.\n",
      "findfont: Font family 'NanumGothicCoding' not found.\n",
      "findfont: Font family 'NanumGothicCoding' not found.\n",
      "findfont: Font family 'NanumGothicCoding' not found.\n",
      "findfont: Font family 'NanumGothicCoding' not found.\n",
      "findfont: Font family 'NanumGothicCoding' not found.\n",
      "findfont: Font family 'NanumGothicCoding' not found.\n",
      "findfont: Font family 'NanumGothicCoding' not found.\n",
      "findfont: Font family 'NanumGothicCoding' not found.\n",
      "findfont: Font family 'NanumGothicCoding' not found.\n",
      "findfont: Font family 'NanumGothicCoding' not found.\n",
      "findfont: Font family 'NanumGothicCoding' not found.\n",
      "findfont: Font family 'NanumGothicCoding' not found.\n",
      "findfont: Font family 'NanumGothicCoding' not found.\n",
      "findfont: Font family 'NanumGothicCoding' not found.\n",
      "findfont: Font family 'NanumGothicCoding' not found.\n",
      "findfont: Font family 'NanumGothicCoding' not found.\n",
      "findfont: Font family 'NanumGothicCoding' not found.\n",
      "findfont: Font family 'NanumGothicCoding' not found.\n"
     ]
    },
    {
     "data": {
      "image/png": "[encoded data removed]",
      "text/plain": [
       "<Figure size 800x400 with 2 Axes>"
      ]
     },
     "metadata": {
      "image/png": {
       "height": 411,
       "width": 811
      }
     },
     "output_type": "display_data"
    }
   ],
   "source": [
    "fig, (ax_uni, ax_int) = plt.subplots(1, 2, figsize = (8,4))\n",
    "\n",
    "size = 10_000\n",
    "bins = 10\n",
    "\n",
    "ax_uni.hist(np.random.uniform(0, 1, size), bins = bins)\n",
    "ax_int.hist(np.random.randint(0, 10, size), bins = bins)\n",
    "fig.supylabel(\"하\");"
   ]
  },
  {
   "cell_type": "markdown",
   "metadata": {},
   "source": [
    "### `np.where(a, b, c)`"
   ]
  },
  {
   "cell_type": "markdown",
   "metadata": {},
   "source": [
    "- np.where(a, b, c)는 조건에 해당하는 배열 a의 값이 0이 아닌 경우, 배열 b의 값을 선택하고\n",
    "- 0인 경우에는 배열 c의 값을 선택하는 방식입니다.\n",
    "- a는 조건 배열,\n",
    "- b와 c는 각각 조건이 True일 때와 False일 때 선택될 값을 제공."
   ]
  },
  {
   "cell_type": "code",
   "execution_count": 25,
   "metadata": {},
   "outputs": [
    {
     "name": "stdout",
     "output_type": "stream",
     "text": [
      "[0 3]\n",
      "[2 3]\n",
      "[0 6]\n",
      "[2 6]\n"
     ]
    }
   ],
   "source": [
    "import numpy as np\n",
    "\n",
    "a1 = np.array([0, 0]) # 조건 배열\n",
    "a2 = np.array([1, 0]) # 조건 배열\n",
    "a3 = np.array([0, 1]) # 조건 배열\n",
    "a4 = np.array([1, 1]) # 조건 배열\n",
    "b = np.array([2, 6]) # 조건이 True일 때 선택할 배열\n",
    "c = np.array([0, 3]) # 조건이 False일 때 선택할 배열\n",
    "\n",
    "result1 = np.where(a1, b, c)\n",
    "result2 = np.where(a2, b, c)\n",
    "result3 = np.where(a3, b, c)\n",
    "result4 = np.where(a4, b, c)\n",
    "print(result1)\n",
    "print(result2)\n",
    "print(result3)\n",
    "print(result4)\n"
   ]
  }
 ],
 "metadata": {
  "kernelspec": {
   "display_name": "p311",
   "language": "python",
   "name": "python3"
  },
  "language_info": {
   "codemirror_mode": {
    "name": "ipython",
    "version": 3
   },
   "file_extension": ".py",
   "mimetype": "text/x-python",
   "name": "python",
   "nbconvert_exporter": "python",
   "pygments_lexer": "ipython3",
   "version": "3.11.10"
  }
 },
 "nbformat": 4,
 "nbformat_minor": 2
}
