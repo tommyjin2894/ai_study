{
 "cells": [
  {
   "cell_type": "markdown",
   "metadata": {},
   "source": [
    "# EarlyStopping"
   ]
  },
  {
   "cell_type": "code",
   "execution_count": 2,
   "metadata": {},
   "outputs": [],
   "source": [
    "import tensorflow as tf\n",
    "from tensorflow.keras.callbacks import EarlyStopping, Callback"
   ]
  },
  {
   "cell_type": "code",
   "execution_count": 4,
   "metadata": {},
   "outputs": [],
   "source": [
    "early_stopping = EarlyStopping( \n",
    "monitor='val_loss', # 검증 손실을 기준으로 min_delta=0.001, # 0.001보다 작은 변화는 무시 \n",
    "patience=10, # 10 에포크 동안 개선 없으면 중지 \n",
    "verbose=1, # 진행 상황 출력 \n",
    "mode='auto' # 자동으로 최소/최대를 결정\n",
    ")\n",
    "\n",
    "\n",
    "#history = model.fit( x_train, y_train, epochs=100, validation_data=(x_val, y_val), callbacks=[early_stopping] # 콜백 추가 )"
   ]
  }
 ],
 "metadata": {
  "kernelspec": {
   "display_name": "tf-gpu",
   "language": "python",
   "name": "python3"
  },
  "language_info": {
   "codemirror_mode": {
    "name": "ipython",
    "version": 3
   },
   "file_extension": ".py",
   "mimetype": "text/x-python",
   "name": "python",
   "nbconvert_exporter": "python",
   "pygments_lexer": "ipython3",
   "version": "3.8.19"
  }
 },
 "nbformat": 4,
 "nbformat_minor": 2
}
