{
 "cells": [
  {
   "cell_type": "code",
   "execution_count": 11,
   "metadata": {},
   "outputs": [],
   "source": [
    "import numpy as np\n",
    "import matplotlib.pyplot as plt\n",
    "from tensorflow import keras\n",
    "\n",
    "(x_train, y_train),(x_test, y_test) = keras.datasets.cifar10.load_data()\n",
    "\n",
    "# how many claasses\n",
    "NUM_CLASSES = 10\n",
    "\n",
    "# Normalizing\n",
    "x_train = x_train.astype('float32') / 255.0\n",
    "x_test = x_test.astype('float32') / 255.0\n",
    "\n",
    "# Make labels to one hot\n",
    "y_train = keras.utils.to_categorical(y_train, NUM_CLASSES)\n",
    "y_test = keras.utils.to_categorical(y_test, NUM_CLASSES)"
   ]
  },
  {
   "cell_type": "code",
   "execution_count": 12,
   "metadata": {},
   "outputs": [
    {
     "name": "stdout",
     "output_type": "stream",
     "text": [
      "Model: \"model_6\"\n",
      "_________________________________________________________________\n",
      " Layer (type)                Output Shape              Param #   \n",
      "=================================================================\n",
      " input_8 (InputLayer)        [(None, 32, 32, 3)]       0         \n",
      "                                                                 \n",
      " conv2d_22 (Conv2D)          (None, 32, 32, 32)        896       \n",
      "                                                                 \n",
      " batch_normalization_19 (Ba  (None, 32, 32, 32)        128       \n",
      " tchNormalization)                                               \n",
      "                                                                 \n",
      " leaky_re_lu_19 (LeakyReLU)  (None, 32, 32, 32)        0         \n",
      "                                                                 \n",
      " conv2d_23 (Conv2D)          (None, 16, 16, 32)        9248      \n",
      "                                                                 \n",
      " batch_normalization_20 (Ba  (None, 16, 16, 32)        128       \n",
      " tchNormalization)                                               \n",
      "                                                                 \n",
      " leaky_re_lu_20 (LeakyReLU)  (None, 16, 16, 32)        0         \n",
      "                                                                 \n",
      " conv2d_24 (Conv2D)          (None, 16, 16, 64)        18496     \n",
      "                                                                 \n",
      " batch_normalization_21 (Ba  (None, 16, 16, 64)        256       \n",
      " tchNormalization)                                               \n",
      "                                                                 \n",
      " leaky_re_lu_21 (LeakyReLU)  (None, 16, 16, 64)        0         \n",
      "                                                                 \n",
      " conv2d_25 (Conv2D)          (None, 8, 8, 64)          36928     \n",
      "                                                                 \n",
      " batch_normalization_22 (Ba  (None, 8, 8, 64)          256       \n",
      " tchNormalization)                                               \n",
      "                                                                 \n",
      " leaky_re_lu_22 (LeakyReLU)  (None, 8, 8, 64)          0         \n",
      "                                                                 \n",
      " flatten_7 (Flatten)         (None, 4096)              0         \n",
      "                                                                 \n",
      " dense_10 (Dense)            (None, 128)               524416    \n",
      "                                                                 \n",
      " batch_normalization_23 (Ba  (None, 128)               512       \n",
      " tchNormalization)                                               \n",
      "                                                                 \n",
      " leaky_re_lu_23 (LeakyReLU)  (None, 128)               0         \n",
      "                                                                 \n",
      " dense_11 (Dense)            (None, 10)                1290      \n",
      "                                                                 \n",
      "=================================================================\n",
      "Total params: 592554 (2.26 MB)\n",
      "Trainable params: 591914 (2.26 MB)\n",
      "Non-trainable params: 640 (2.50 KB)\n",
      "_________________________________________________________________\n"
     ]
    }
   ],
   "source": [
    "from tensorflow import keras\n",
    "\n",
    "input_layer = keras.layers.Input(shape=(32,32,3))\n",
    "\n",
    "x = keras.layers.Conv2D(filters=32, kernel_size=3, strides=1, padding='same')(input_layer)\n",
    "x = keras.layers.BatchNormalization()(x)\n",
    "x = keras.layers.LeakyReLU()(x)\n",
    "\n",
    "x = keras.layers.Conv2D(filters=32, kernel_size=3, strides=2, padding='same')(x)\n",
    "x = keras.layers.BatchNormalization()(x)\n",
    "x = keras.layers.LeakyReLU()(x)\n",
    "\n",
    "x = keras.layers.Conv2D(filters=64, kernel_size=3, strides=1, padding='same')(x)\n",
    "x = keras.layers.BatchNormalization()(x)\n",
    "x = keras.layers.LeakyReLU()(x)\n",
    "\n",
    "x = keras.layers.Conv2D(filters=64, kernel_size=3, strides=2, padding='same')(x)\n",
    "x = keras.layers.BatchNormalization()(x)\n",
    "x = keras.layers.LeakyReLU()(x)\n",
    "\n",
    "x = keras.layers.Flatten()(x)\n",
    "\n",
    "x = keras.layers.Dense(128)(x)\n",
    "x = keras.layers.BatchNormalization()(x)\n",
    "x = keras.layers.LeakyReLU()(x)\n",
    "output_layer = keras.layers.Dense(10, activation='softmax')(x)\n",
    "\n",
    "model = keras.models.Model(input_layer,output_layer)\n",
    "model.summary()\n"
   ]
  },
  {
   "cell_type": "code",
   "execution_count": 13,
   "metadata": {},
   "outputs": [
    {
     "name": "stdout",
     "output_type": "stream",
     "text": [
      "Epoch 1/10\n",
      "1563/1563 [==============================] - 59s 37ms/step - loss: 1.3617 - accuracy: 0.5145\n",
      "Epoch 2/10\n",
      "1563/1563 [==============================] - 56s 36ms/step - loss: 0.9916 - accuracy: 0.6492\n",
      "Epoch 3/10\n",
      "1563/1563 [==============================] - 56s 36ms/step - loss: 0.8411 - accuracy: 0.7053\n",
      "Epoch 4/10\n",
      "1563/1563 [==============================] - 56s 36ms/step - loss: 0.7455 - accuracy: 0.7382\n",
      "Epoch 5/10\n",
      "1563/1563 [==============================] - 58s 37ms/step - loss: 0.6730 - accuracy: 0.7653\n",
      "Epoch 6/10\n",
      "1563/1563 [==============================] - 55s 35ms/step - loss: 0.6036 - accuracy: 0.7864\n",
      "Epoch 7/10\n",
      "1563/1563 [==============================] - 56s 36ms/step - loss: 0.5426 - accuracy: 0.8089\n",
      "Epoch 8/10\n",
      "1563/1563 [==============================] - 55s 35ms/step - loss: 0.4881 - accuracy: 0.8285\n",
      "Epoch 9/10\n",
      "1563/1563 [==============================] - 56s 36ms/step - loss: 0.4393 - accuracy: 0.8459\n",
      "Epoch 10/10\n",
      "1563/1563 [==============================] - 56s 36ms/step - loss: 0.3942 - accuracy: 0.8603\n"
     ]
    },
    {
     "data": {
      "text/plain": [
       "<keras.src.callbacks.History at 0x13186469540>"
      ]
     },
     "execution_count": 13,
     "metadata": {},
     "output_type": "execute_result"
    }
   ],
   "source": [
    "# 모델 준비(컴파일)\n",
    "model.compile(optimizer='adam',\n",
    "              loss='categorical_crossentropy',\n",
    "              metrics=['accuracy'])\n",
    "\n",
    "# 모델 훈련 이코드부분을 다시 실행시켜도 이어서 학습이 됨.\n",
    "model.fit(x_train,\n",
    "          y_train,\n",
    "          batch_size=32,\n",
    "          epochs=10,\n",
    "          shuffle=True)"
   ]
  },
  {
   "cell_type": "code",
   "execution_count": 14,
   "metadata": {},
   "outputs": [
    {
     "name": "stdout",
     "output_type": "stream",
     "text": [
      "313/313 [==============================] - 3s 10ms/step - loss: 0.8637 - accuracy: 0.7286\n"
     ]
    },
    {
     "data": {
      "text/plain": [
       "[0.8636611104011536, 0.728600025177002]"
      ]
     },
     "execution_count": 14,
     "metadata": {},
     "output_type": "execute_result"
    }
   ],
   "source": [
    "model.evaluate(x_test, y_test)"
   ]
  }
 ],
 "metadata": {
  "kernelspec": {
   "display_name": "Python 3",
   "language": "python",
   "name": "python3"
  },
  "language_info": {
   "codemirror_mode": {
    "name": "ipython",
    "version": 3
   },
   "file_extension": ".py",
   "mimetype": "text/x-python",
   "name": "python",
   "nbconvert_exporter": "python",
   "pygments_lexer": "ipython3",
   "version": "3.10.13"
  },
  "orig_nbformat": 4
 },
 "nbformat": 4,
 "nbformat_minor": 2
}
