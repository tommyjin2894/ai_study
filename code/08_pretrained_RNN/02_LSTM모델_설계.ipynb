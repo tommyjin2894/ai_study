{
 "cells": [
  {
   "cell_type": "markdown",
   "metadata": {},
   "source": [
    "### LSTM 모델 설계"
   ]
  },
  {
   "cell_type": "code",
   "execution_count": 9,
   "metadata": {},
   "outputs": [],
   "source": [
    "import numpy as np\n",
    "import tensorflow as tf\n",
    "from tensorflow.keras.models import Model\n",
    "from tensorflow.keras.layers import Input, LSTM, Dense\n"
   ]
  },
  {
   "cell_type": "code",
   "execution_count": 11,
   "metadata": {},
   "outputs": [
    {
     "name": "stdout",
     "output_type": "stream",
     "text": [
      "2.17.0\n",
      "사용 가능한 GPU:\n",
      "PhysicalDevice(name='/physical_device:GPU:0', device_type='GPU')\n"
     ]
    }
   ],
   "source": [
    "print(tf.__version__)\n",
    "### GPU 사용 가능 여부 확인\n",
    "gpus = tf.config.list_physical_devices('GPU')\n",
    "if gpus:\n",
    "    print(\"사용 가능한 GPU:\")\n",
    "    for gpu in gpus:\n",
    "        print(gpu)\n",
    "else:\n",
    "    print(\"GPU가 인식되지 않았습니다.\")"
   ]
  },
  {
   "cell_type": "markdown",
   "metadata": {
    "id": "zRL9dR7YFe0q"
   },
   "source": [
    "- 모델설계"
   ]
  },
  {
   "cell_type": "code",
   "execution_count": 12,
   "metadata": {
    "id": "WnYP_ICLFaHB"
   },
   "outputs": [
    {
     "name": "stderr",
     "output_type": "stream",
     "text": [
      "I0000 00:00:1722833049.372281    1550 cuda_executor.cc:1001] could not open file to read NUMA node: /sys/bus/pci/devices/0000:07:00.0/numa_node\n",
      "Your kernel may have been built without NUMA support.\n",
      "I0000 00:00:1722833049.372414    1550 cuda_executor.cc:1001] could not open file to read NUMA node: /sys/bus/pci/devices/0000:07:00.0/numa_node\n",
      "Your kernel may have been built without NUMA support.\n",
      "I0000 00:00:1722833049.372464    1550 cuda_executor.cc:1001] could not open file to read NUMA node: /sys/bus/pci/devices/0000:07:00.0/numa_node\n",
      "Your kernel may have been built without NUMA support.\n",
      "I0000 00:00:1722833049.655631    1550 cuda_executor.cc:1001] could not open file to read NUMA node: /sys/bus/pci/devices/0000:07:00.0/numa_node\n",
      "Your kernel may have been built without NUMA support.\n",
      "I0000 00:00:1722833049.655737    1550 cuda_executor.cc:1001] could not open file to read NUMA node: /sys/bus/pci/devices/0000:07:00.0/numa_node\n",
      "Your kernel may have been built without NUMA support.\n",
      "2024-08-05 13:44:09.655756: I tensorflow/core/common_runtime/gpu/gpu_device.cc:2112] Could not identify NUMA node of platform GPU id 0, defaulting to 0.  Your kernel may not have been built with NUMA support.\n",
      "I0000 00:00:1722833049.655835    1550 cuda_executor.cc:1001] could not open file to read NUMA node: /sys/bus/pci/devices/0000:07:00.0/numa_node\n",
      "Your kernel may have been built without NUMA support.\n",
      "2024-08-05 13:44:09.655871: I tensorflow/core/common_runtime/gpu/gpu_device.cc:2021] Created device /job:localhost/replica:0/task:0/device:GPU:0 with 9725 MB memory:  -> device: 0, name: NVIDIA GeForce RTX 3060, pci bus id: 0000:07:00.0, compute capability: 8.6\n"
     ]
    }
   ],
   "source": [
    "# 인코더\n",
    "encoder_inputs = Input(shape=(None, 50))\n",
    "encoder_lstm = LSTM(256, return_state=True) # LSTM 레이어 사용\n",
    "\n",
    "encoder_outputs, state_h, state_c = encoder_lstm(encoder_inputs)\n",
    "# encoder_outputs: 층의 타임 스텝에서의 출력 정보(출력 상태)\n",
    "# state_h, state_c: hidden state, cell state\n",
    "\n",
    "encoder_states = [state_h, state_c]\n",
    " # 디코더에 전달될 인코더 정보(최종 상태) state_h , state_c\n",
    "\n",
    "\n",
    "\n",
    "# 인코더\n",
    "# 입력 시퀀스 -> hidden state (고정된 크기의 컨텍스트 벡터)  변환\n",
    "# hidden state 벡터 : 입력 데이터의 전체 정보 압축 표현(일정 크기)\n",
    "# RNN, LSTM, GRU 구조 사용"
   ]
  },
  {
   "cell_type": "code",
   "execution_count": 13,
   "metadata": {
    "id": "2OPDmzUFFeOd"
   },
   "outputs": [],
   "source": [
    "# 디코더\n",
    "decoder_inputs = Input(shape=(None, 50))\n",
    "decoder_lstm = LSTM(256, return_sequences=True, return_state=True)\n",
    "\n",
    "decoder_outputs, _, _ = decoder_lstm(decoder_inputs, initial_state=encoder_states)\n",
    "   # 인코더로부터 전달받은 정보를 (encoder_states : [state_h, state_c])를 초기 state로 사용\n",
    "decoder_dense = Dense(50, activation='softmax')\n",
    "   # 출력 클래스(50개 ex, 다음 단어)에 대한 확률 분포 생성\n",
    "decoder_outputs = decoder_dense(decoder_outputs)"
   ]
  },
  {
   "cell_type": "code",
   "execution_count": 14,
   "metadata": {
    "id": "hVeOdG25Fi_o"
   },
   "outputs": [],
   "source": [
    "# 모델 컴파일\n",
    "model = Model([encoder_inputs, decoder_inputs], decoder_outputs)\n",
    "model.compile(optimizer='adam', loss='categorical_crossentropy', metrics=['accuracy'])"
   ]
  },
  {
   "cell_type": "code",
   "execution_count": 15,
   "metadata": {
    "colab": {
     "base_uri": "https://localhost:8080/"
    },
    "id": "MwLHqeyRFlEK",
    "outputId": "b4fb04ab-9bb7-4f69-dc3c-371e36647dbd"
   },
   "outputs": [
    {
     "data": {
      "text/html": [
       "<pre style=\"white-space:pre;overflow-x:auto;line-height:normal;font-family:Menlo,'DejaVu Sans Mono',consolas,'Courier New',monospace\"><span style=\"font-weight: bold\">Model: \"functional\"</span>\n",
       "</pre>\n"
      ],
      "text/plain": [
       "\u001b[1mModel: \"functional\"\u001b[0m\n"
      ]
     },
     "metadata": {},
     "output_type": "display_data"
    },
    {
     "data": {
      "text/html": [
       "<pre style=\"white-space:pre;overflow-x:auto;line-height:normal;font-family:Menlo,'DejaVu Sans Mono',consolas,'Courier New',monospace\">┏━━━━━━━━━━━━━━━━━━━━━┳━━━━━━━━━━━━━━━━━━━┳━━━━━━━━━━━━┳━━━━━━━━━━━━━━━━━━━┓\n",
       "┃<span style=\"font-weight: bold\"> Layer (type)        </span>┃<span style=\"font-weight: bold\"> Output Shape      </span>┃<span style=\"font-weight: bold\">    Param # </span>┃<span style=\"font-weight: bold\"> Connected to      </span>┃\n",
       "┡━━━━━━━━━━━━━━━━━━━━━╇━━━━━━━━━━━━━━━━━━━╇━━━━━━━━━━━━╇━━━━━━━━━━━━━━━━━━━┩\n",
       "│ input_layer         │ (<span style=\"color: #00d7ff; text-decoration-color: #00d7ff\">None</span>, <span style=\"color: #00d7ff; text-decoration-color: #00d7ff\">None</span>, <span style=\"color: #00af00; text-decoration-color: #00af00\">50</span>)  │          <span style=\"color: #00af00; text-decoration-color: #00af00\">0</span> │ -                 │\n",
       "│ (<span style=\"color: #0087ff; text-decoration-color: #0087ff\">InputLayer</span>)        │                   │            │                   │\n",
       "├─────────────────────┼───────────────────┼────────────┼───────────────────┤\n",
       "│ input_layer_1       │ (<span style=\"color: #00d7ff; text-decoration-color: #00d7ff\">None</span>, <span style=\"color: #00d7ff; text-decoration-color: #00d7ff\">None</span>, <span style=\"color: #00af00; text-decoration-color: #00af00\">50</span>)  │          <span style=\"color: #00af00; text-decoration-color: #00af00\">0</span> │ -                 │\n",
       "│ (<span style=\"color: #0087ff; text-decoration-color: #0087ff\">InputLayer</span>)        │                   │            │                   │\n",
       "├─────────────────────┼───────────────────┼────────────┼───────────────────┤\n",
       "│ lstm (<span style=\"color: #0087ff; text-decoration-color: #0087ff\">LSTM</span>)         │ [(<span style=\"color: #00d7ff; text-decoration-color: #00d7ff\">None</span>, <span style=\"color: #00af00; text-decoration-color: #00af00\">256</span>),     │    <span style=\"color: #00af00; text-decoration-color: #00af00\">314,368</span> │ input_layer[<span style=\"color: #00af00; text-decoration-color: #00af00\">0</span>][<span style=\"color: #00af00; text-decoration-color: #00af00\">0</span>] │\n",
       "│                     │ (<span style=\"color: #00d7ff; text-decoration-color: #00d7ff\">None</span>, <span style=\"color: #00af00; text-decoration-color: #00af00\">256</span>),      │            │                   │\n",
       "│                     │ (<span style=\"color: #00d7ff; text-decoration-color: #00d7ff\">None</span>, <span style=\"color: #00af00; text-decoration-color: #00af00\">256</span>)]      │            │                   │\n",
       "├─────────────────────┼───────────────────┼────────────┼───────────────────┤\n",
       "│ lstm_1 (<span style=\"color: #0087ff; text-decoration-color: #0087ff\">LSTM</span>)       │ [(<span style=\"color: #00d7ff; text-decoration-color: #00d7ff\">None</span>, <span style=\"color: #00d7ff; text-decoration-color: #00d7ff\">None</span>,     │    <span style=\"color: #00af00; text-decoration-color: #00af00\">314,368</span> │ input_layer_1[<span style=\"color: #00af00; text-decoration-color: #00af00\">0</span>]… │\n",
       "│                     │ <span style=\"color: #00af00; text-decoration-color: #00af00\">256</span>), (<span style=\"color: #00d7ff; text-decoration-color: #00d7ff\">None</span>,      │            │ lstm[<span style=\"color: #00af00; text-decoration-color: #00af00\">0</span>][<span style=\"color: #00af00; text-decoration-color: #00af00\">1</span>],       │\n",
       "│                     │ <span style=\"color: #00af00; text-decoration-color: #00af00\">256</span>), (<span style=\"color: #00d7ff; text-decoration-color: #00d7ff\">None</span>,      │            │ lstm[<span style=\"color: #00af00; text-decoration-color: #00af00\">0</span>][<span style=\"color: #00af00; text-decoration-color: #00af00\">2</span>]        │\n",
       "│                     │ <span style=\"color: #00af00; text-decoration-color: #00af00\">256</span>)]             │            │                   │\n",
       "├─────────────────────┼───────────────────┼────────────┼───────────────────┤\n",
       "│ dense (<span style=\"color: #0087ff; text-decoration-color: #0087ff\">Dense</span>)       │ (<span style=\"color: #00d7ff; text-decoration-color: #00d7ff\">None</span>, <span style=\"color: #00d7ff; text-decoration-color: #00d7ff\">None</span>, <span style=\"color: #00af00; text-decoration-color: #00af00\">50</span>)  │     <span style=\"color: #00af00; text-decoration-color: #00af00\">12,850</span> │ lstm_1[<span style=\"color: #00af00; text-decoration-color: #00af00\">0</span>][<span style=\"color: #00af00; text-decoration-color: #00af00\">0</span>]      │\n",
       "└─────────────────────┴───────────────────┴────────────┴───────────────────┘\n",
       "</pre>\n"
      ],
      "text/plain": [
       "┏━━━━━━━━━━━━━━━━━━━━━┳━━━━━━━━━━━━━━━━━━━┳━━━━━━━━━━━━┳━━━━━━━━━━━━━━━━━━━┓\n",
       "┃\u001b[1m \u001b[0m\u001b[1mLayer (type)       \u001b[0m\u001b[1m \u001b[0m┃\u001b[1m \u001b[0m\u001b[1mOutput Shape     \u001b[0m\u001b[1m \u001b[0m┃\u001b[1m \u001b[0m\u001b[1m   Param #\u001b[0m\u001b[1m \u001b[0m┃\u001b[1m \u001b[0m\u001b[1mConnected to     \u001b[0m\u001b[1m \u001b[0m┃\n",
       "┡━━━━━━━━━━━━━━━━━━━━━╇━━━━━━━━━━━━━━━━━━━╇━━━━━━━━━━━━╇━━━━━━━━━━━━━━━━━━━┩\n",
       "│ input_layer         │ (\u001b[38;5;45mNone\u001b[0m, \u001b[38;5;45mNone\u001b[0m, \u001b[38;5;34m50\u001b[0m)  │          \u001b[38;5;34m0\u001b[0m │ -                 │\n",
       "│ (\u001b[38;5;33mInputLayer\u001b[0m)        │                   │            │                   │\n",
       "├─────────────────────┼───────────────────┼────────────┼───────────────────┤\n",
       "│ input_layer_1       │ (\u001b[38;5;45mNone\u001b[0m, \u001b[38;5;45mNone\u001b[0m, \u001b[38;5;34m50\u001b[0m)  │          \u001b[38;5;34m0\u001b[0m │ -                 │\n",
       "│ (\u001b[38;5;33mInputLayer\u001b[0m)        │                   │            │                   │\n",
       "├─────────────────────┼───────────────────┼────────────┼───────────────────┤\n",
       "│ lstm (\u001b[38;5;33mLSTM\u001b[0m)         │ [(\u001b[38;5;45mNone\u001b[0m, \u001b[38;5;34m256\u001b[0m),     │    \u001b[38;5;34m314,368\u001b[0m │ input_layer[\u001b[38;5;34m0\u001b[0m][\u001b[38;5;34m0\u001b[0m] │\n",
       "│                     │ (\u001b[38;5;45mNone\u001b[0m, \u001b[38;5;34m256\u001b[0m),      │            │                   │\n",
       "│                     │ (\u001b[38;5;45mNone\u001b[0m, \u001b[38;5;34m256\u001b[0m)]      │            │                   │\n",
       "├─────────────────────┼───────────────────┼────────────┼───────────────────┤\n",
       "│ lstm_1 (\u001b[38;5;33mLSTM\u001b[0m)       │ [(\u001b[38;5;45mNone\u001b[0m, \u001b[38;5;45mNone\u001b[0m,     │    \u001b[38;5;34m314,368\u001b[0m │ input_layer_1[\u001b[38;5;34m0\u001b[0m]… │\n",
       "│                     │ \u001b[38;5;34m256\u001b[0m), (\u001b[38;5;45mNone\u001b[0m,      │            │ lstm[\u001b[38;5;34m0\u001b[0m][\u001b[38;5;34m1\u001b[0m],       │\n",
       "│                     │ \u001b[38;5;34m256\u001b[0m), (\u001b[38;5;45mNone\u001b[0m,      │            │ lstm[\u001b[38;5;34m0\u001b[0m][\u001b[38;5;34m2\u001b[0m]        │\n",
       "│                     │ \u001b[38;5;34m256\u001b[0m)]             │            │                   │\n",
       "├─────────────────────┼───────────────────┼────────────┼───────────────────┤\n",
       "│ dense (\u001b[38;5;33mDense\u001b[0m)       │ (\u001b[38;5;45mNone\u001b[0m, \u001b[38;5;45mNone\u001b[0m, \u001b[38;5;34m50\u001b[0m)  │     \u001b[38;5;34m12,850\u001b[0m │ lstm_1[\u001b[38;5;34m0\u001b[0m][\u001b[38;5;34m0\u001b[0m]      │\n",
       "└─────────────────────┴───────────────────┴────────────┴───────────────────┘\n"
      ]
     },
     "metadata": {},
     "output_type": "display_data"
    },
    {
     "data": {
      "text/html": [
       "<pre style=\"white-space:pre;overflow-x:auto;line-height:normal;font-family:Menlo,'DejaVu Sans Mono',consolas,'Courier New',monospace\"><span style=\"font-weight: bold\"> Total params: </span><span style=\"color: #00af00; text-decoration-color: #00af00\">641,586</span> (2.45 MB)\n",
       "</pre>\n"
      ],
      "text/plain": [
       "\u001b[1m Total params: \u001b[0m\u001b[38;5;34m641,586\u001b[0m (2.45 MB)\n"
      ]
     },
     "metadata": {},
     "output_type": "display_data"
    },
    {
     "data": {
      "text/html": [
       "<pre style=\"white-space:pre;overflow-x:auto;line-height:normal;font-family:Menlo,'DejaVu Sans Mono',consolas,'Courier New',monospace\"><span style=\"font-weight: bold\"> Trainable params: </span><span style=\"color: #00af00; text-decoration-color: #00af00\">641,586</span> (2.45 MB)\n",
       "</pre>\n"
      ],
      "text/plain": [
       "\u001b[1m Trainable params: \u001b[0m\u001b[38;5;34m641,586\u001b[0m (2.45 MB)\n"
      ]
     },
     "metadata": {},
     "output_type": "display_data"
    },
    {
     "data": {
      "text/html": [
       "<pre style=\"white-space:pre;overflow-x:auto;line-height:normal;font-family:Menlo,'DejaVu Sans Mono',consolas,'Courier New',monospace\"><span style=\"font-weight: bold\"> Non-trainable params: </span><span style=\"color: #00af00; text-decoration-color: #00af00\">0</span> (0.00 B)\n",
       "</pre>\n"
      ],
      "text/plain": [
       "\u001b[1m Non-trainable params: \u001b[0m\u001b[38;5;34m0\u001b[0m (0.00 B)\n"
      ]
     },
     "metadata": {},
     "output_type": "display_data"
    }
   ],
   "source": [
    "# 모델 요약\n",
    "model.summary()"
   ]
  },
  {
   "cell_type": "markdown",
   "metadata": {
    "id": "G9lTDp7mFtC2"
   },
   "source": [
    "모델학습"
   ]
  },
  {
   "cell_type": "code",
   "execution_count": 16,
   "metadata": {
    "id": "kGbMMmWEFvxl"
   },
   "outputs": [],
   "source": [
    "# 입력, 출력 데이터 생성 (예시 데이터)\n",
    "encoder_input_data = np.random.rand(10000, 10, 50)  # 10000개 데이터(길이 10의 시퀀스, 각 시퀀스는 50차원 벡터)\n",
    "decoder_input_data = np.random.rand(10000, 10, 50)\n",
    "decoder_target_data = np.random.rand(10000, 10, 50)\n"
   ]
  },
  {
   "cell_type": "code",
   "execution_count": 17,
   "metadata": {
    "id": "d0coZCIuF8f9"
   },
   "outputs": [
    {
     "data": {
      "text/plain": [
       "array([[2.51962024e-01, 1.25604244e-01, 4.14824071e-01, 1.42420975e-01,\n",
       "        8.57392738e-01, 5.55390520e-01, 2.77898415e-02, 6.53554872e-02,\n",
       "        2.53479479e-01, 7.24342871e-01, 3.90843485e-01, 1.12741140e-01,\n",
       "        5.50275526e-02, 7.88168870e-01, 6.32535958e-01, 3.29046181e-01,\n",
       "        6.72676752e-01, 1.17457140e-01, 7.39902385e-01, 3.76611729e-01,\n",
       "        7.45029361e-01, 7.01010253e-01, 3.30519438e-01, 9.70808202e-01,\n",
       "        8.92432758e-01, 7.94259650e-01, 4.35205055e-01, 5.31310240e-01,\n",
       "        2.18669236e-01, 1.13594047e-01, 1.60185108e-01, 7.80288076e-01,\n",
       "        1.29118850e-01, 6.03275966e-02, 5.24032488e-01, 2.75181068e-01,\n",
       "        3.89346725e-01, 9.90357220e-01, 8.19072500e-01, 1.87111157e-01,\n",
       "        6.89753104e-01, 6.25656144e-01, 6.58256333e-02, 2.11670653e-01,\n",
       "        2.44329407e-01, 8.56518599e-01, 2.04192213e-01, 9.63982572e-01,\n",
       "        1.71592442e-01, 5.86103393e-01],\n",
       "       [9.38521108e-01, 7.46432847e-01, 8.57412827e-01, 8.78090822e-01,\n",
       "        9.64966560e-01, 8.77227102e-01, 6.23972110e-01, 1.11816544e-01,\n",
       "        8.63641418e-02, 9.41577696e-01, 9.09237074e-01, 3.24145965e-01,\n",
       "        4.28725153e-02, 8.53744207e-03, 1.43730341e-01, 9.38413376e-02,\n",
       "        3.24091841e-01, 1.59923754e-03, 6.36097722e-01, 9.48265248e-01,\n",
       "        7.00366078e-01, 9.07846611e-01, 1.61318635e-01, 4.79347144e-01,\n",
       "        3.14162886e-02, 8.29852093e-01, 5.75220844e-01, 5.17123143e-01,\n",
       "        5.03728041e-01, 6.26151041e-01, 2.85266442e-01, 9.78504116e-01,\n",
       "        1.11853190e-01, 7.37509135e-01, 1.93005435e-01, 8.84420095e-01,\n",
       "        8.69303271e-01, 2.47224221e-03, 3.82565574e-02, 5.81204142e-01,\n",
       "        7.07603643e-01, 8.72855968e-01, 4.29922999e-02, 6.12282995e-01,\n",
       "        5.64365962e-01, 1.23767608e-01, 1.25715727e-01, 9.49900946e-01,\n",
       "        5.00534169e-01, 4.48914003e-01],\n",
       "       [5.08815786e-03, 9.10140578e-01, 5.38668496e-01, 4.65066365e-01,\n",
       "        7.07375435e-01, 9.58950497e-01, 3.49677733e-01, 1.03438839e-02,\n",
       "        5.61275263e-01, 8.97687718e-01, 4.78116709e-01, 2.39140065e-01,\n",
       "        8.67962809e-01, 1.67305983e-01, 9.17395939e-01, 2.41520970e-02,\n",
       "        1.39501880e-01, 7.03212194e-02, 1.09835362e-01, 7.35062948e-01,\n",
       "        4.17381286e-01, 3.27887062e-01, 5.43200430e-01, 6.72680785e-01,\n",
       "        4.98710987e-01, 8.75593600e-01, 9.64251750e-01, 3.46892531e-01,\n",
       "        6.69066200e-01, 5.98067965e-01, 4.73852499e-01, 2.31264763e-01,\n",
       "        2.70546571e-01, 6.83931387e-01, 5.41075220e-01, 3.60470387e-01,\n",
       "        2.53409945e-01, 6.31099803e-01, 1.93050423e-01, 2.47950739e-01,\n",
       "        6.41379026e-02, 6.21324738e-01, 9.12223114e-01, 5.85248911e-01,\n",
       "        6.31815207e-01, 7.15003251e-01, 6.50013814e-02, 5.54631665e-03,\n",
       "        1.99514762e-01, 4.84183385e-01],\n",
       "       [7.22255650e-01, 2.29116011e-01, 1.67878903e-01, 2.65365270e-02,\n",
       "        6.77255660e-01, 5.03445394e-01, 2.21989433e-01, 5.16988626e-01,\n",
       "        5.49164807e-01, 8.16705378e-01, 6.61004771e-02, 4.97582205e-02,\n",
       "        4.71544602e-01, 1.24697202e-01, 9.25481520e-01, 8.24814507e-01,\n",
       "        8.94300203e-01, 9.35665401e-01, 2.69107961e-01, 4.15440613e-01,\n",
       "        2.91236529e-01, 5.76873651e-01, 7.90777875e-01, 1.87396305e-01,\n",
       "        3.99500583e-01, 3.39754294e-01, 4.51671887e-01, 2.76967419e-01,\n",
       "        8.31640378e-02, 6.56775394e-02, 3.19271318e-02, 9.87035462e-01,\n",
       "        8.19534491e-02, 5.58306258e-01, 1.13048589e-02, 3.00797056e-01,\n",
       "        9.34366599e-01, 8.53054806e-01, 2.58526282e-01, 6.67955356e-01,\n",
       "        3.47302100e-01, 9.47317312e-01, 4.18508473e-01, 4.55058056e-01,\n",
       "        5.89646884e-01, 3.39577619e-01, 6.54375701e-01, 4.61395868e-01,\n",
       "        9.64524478e-01, 2.56288150e-01],\n",
       "       [8.29934456e-01, 4.97842426e-01, 8.13357087e-02, 1.25921213e-01,\n",
       "        3.79600509e-01, 3.88374288e-01, 8.28203031e-01, 2.21975213e-01,\n",
       "        1.32860130e-01, 4.72175421e-02, 3.69536431e-01, 4.85295422e-01,\n",
       "        6.16203066e-01, 3.28756631e-01, 8.79122899e-01, 4.68313370e-01,\n",
       "        4.54266312e-01, 3.75628866e-01, 4.76065199e-01, 6.15161563e-01,\n",
       "        6.48016909e-01, 5.75672907e-01, 1.75470718e-01, 1.59513854e-01,\n",
       "        7.02887979e-01, 7.84273064e-01, 3.28006786e-01, 4.12342139e-01,\n",
       "        8.26657117e-01, 7.43676001e-01, 1.29929014e-01, 6.26635792e-01,\n",
       "        7.86203956e-01, 7.43509390e-01, 3.67312553e-01, 6.05286913e-01,\n",
       "        9.22129426e-01, 5.11286080e-01, 2.79469549e-01, 2.38697817e-02,\n",
       "        2.63698462e-01, 4.37078408e-02, 5.68344057e-01, 5.87525378e-01,\n",
       "        1.40113956e-01, 4.61920117e-01, 8.11516009e-01, 2.45085230e-01,\n",
       "        6.57483425e-01, 9.30888572e-01],\n",
       "       [5.81174287e-01, 4.41741463e-01, 8.35788304e-01, 9.62317309e-01,\n",
       "        4.11800047e-01, 5.93104129e-01, 3.85208311e-01, 4.27731329e-02,\n",
       "        1.00488570e-01, 2.17232251e-01, 2.19532050e-01, 9.36451572e-01,\n",
       "        4.87840295e-01, 1.27924715e-01, 1.23081655e-01, 4.66182899e-01,\n",
       "        5.58753093e-01, 4.80505814e-01, 3.65147768e-01, 3.07202807e-01,\n",
       "        1.04580963e-01, 7.95809598e-01, 1.31334830e-01, 1.70041201e-01,\n",
       "        3.13026809e-02, 3.27801570e-01, 9.27916200e-01, 3.09917674e-01,\n",
       "        4.06139987e-01, 9.55259242e-01, 1.22919280e-01, 2.31178568e-01,\n",
       "        7.75677016e-01, 9.58031612e-01, 3.24120541e-01, 4.85741730e-01,\n",
       "        1.57023991e-01, 7.32358988e-02, 6.18450909e-01, 4.27850973e-01,\n",
       "        8.50666634e-01, 9.61351300e-01, 2.60059186e-01, 5.41308088e-01,\n",
       "        4.68995387e-01, 1.46572191e-02, 6.49927497e-01, 3.63065805e-01,\n",
       "        7.09958352e-01, 6.70335164e-01],\n",
       "       [2.20253398e-01, 2.31922209e-01, 9.05083162e-02, 7.12876815e-01,\n",
       "        9.75609997e-01, 4.81598517e-01, 3.76602185e-01, 1.17988654e-01,\n",
       "        1.76007037e-01, 4.39063542e-02, 7.74085543e-01, 5.47127921e-01,\n",
       "        5.70032475e-02, 5.09528758e-01, 8.62398617e-01, 8.72008608e-01,\n",
       "        8.55572670e-01, 7.80502762e-01, 5.70934603e-01, 5.41283430e-01,\n",
       "        9.76378028e-01, 1.06338441e-01, 3.26831925e-01, 2.91596868e-01,\n",
       "        9.94831381e-01, 7.52616468e-01, 3.80206226e-01, 4.32428422e-01,\n",
       "        5.12703679e-01, 8.12971850e-01, 9.28479144e-01, 3.82700762e-01,\n",
       "        3.22539757e-01, 6.04148971e-01, 5.87283326e-01, 6.49141714e-02,\n",
       "        7.28396141e-02, 8.09753174e-01, 6.60134222e-02, 1.11557788e-04,\n",
       "        4.45278622e-01, 6.28734016e-01, 8.21449432e-01, 6.71515526e-01,\n",
       "        6.60088309e-01, 8.82171886e-01, 9.80166281e-01, 6.43002780e-01,\n",
       "        7.96711148e-01, 2.90199693e-01],\n",
       "       [6.89104142e-01, 8.26831909e-02, 4.66749975e-01, 2.05846579e-01,\n",
       "        7.98378984e-01, 5.08331206e-02, 9.91051444e-01, 2.53735384e-01,\n",
       "        6.58151745e-01, 1.44137972e-02, 4.20906468e-02, 1.00765006e-01,\n",
       "        8.97709641e-01, 8.76669693e-01, 6.28513687e-01, 8.02334385e-01,\n",
       "        1.38964560e-01, 9.92785897e-02, 4.55373846e-01, 6.99189363e-02,\n",
       "        3.80773366e-01, 6.57749821e-01, 3.32436211e-01, 4.11399537e-01,\n",
       "        8.35308920e-01, 7.20795114e-01, 7.55578529e-01, 3.79400835e-01,\n",
       "        6.66700870e-01, 9.45294981e-01, 5.11873785e-01, 6.99614597e-02,\n",
       "        1.00251265e-01, 3.30968585e-01, 9.28662737e-01, 3.68710622e-01,\n",
       "        3.73927625e-01, 1.81813903e-01, 2.64618216e-01, 6.81501531e-01,\n",
       "        5.46030764e-01, 5.02732170e-01, 7.67479685e-01, 5.56031808e-01,\n",
       "        2.40587987e-01, 3.75967624e-01, 4.19736484e-01, 3.60843495e-01,\n",
       "        7.79378636e-01, 4.65499628e-01],\n",
       "       [7.63925885e-01, 6.28927581e-01, 4.00208001e-01, 8.12034835e-01,\n",
       "        8.25039700e-01, 9.58592721e-02, 8.90295129e-01, 5.38345273e-01,\n",
       "        8.86285709e-01, 5.65600771e-01, 9.74423442e-01, 4.24758472e-01,\n",
       "        8.54295783e-01, 3.20591969e-02, 7.52627830e-01, 4.28733929e-01,\n",
       "        9.89773865e-01, 1.61798529e-01, 3.81592028e-01, 8.27955884e-01,\n",
       "        1.62427489e-01, 5.59383423e-01, 6.17018195e-01, 2.73155090e-01,\n",
       "        5.75722512e-01, 3.90156419e-01, 8.80820606e-04, 2.80657499e-01,\n",
       "        2.29208577e-01, 9.82005929e-01, 6.45828310e-01, 9.78222057e-01,\n",
       "        4.25745556e-01, 7.01987097e-01, 6.14921252e-01, 6.43477130e-01,\n",
       "        7.52645980e-01, 5.17209665e-01, 4.19659956e-01, 8.21100997e-01,\n",
       "        9.24340241e-01, 9.03872090e-01, 3.21214542e-01, 4.26473852e-01,\n",
       "        7.98696739e-01, 2.39586379e-01, 2.73241299e-01, 7.56142077e-01,\n",
       "        8.25824795e-01, 4.60937537e-01],\n",
       "       [9.31976426e-02, 7.49923801e-01, 2.91674671e-01, 7.76191776e-01,\n",
       "        2.32699561e-02, 1.90175030e-01, 2.16584771e-01, 3.82150730e-01,\n",
       "        8.16462866e-01, 6.45418973e-01, 7.64644620e-01, 6.99331931e-01,\n",
       "        9.91887216e-01, 4.04641720e-01, 2.87501785e-01, 1.56869168e-01,\n",
       "        6.19883619e-01, 7.53866436e-01, 7.10525426e-01, 5.27016885e-01,\n",
       "        2.12902881e-01, 7.29333376e-01, 4.56387256e-01, 3.35025154e-01,\n",
       "        6.29380816e-01, 2.82451255e-01, 3.85403052e-01, 7.22677088e-01,\n",
       "        5.57192291e-01, 1.32938348e-01, 3.56327844e-01, 2.90829045e-01,\n",
       "        1.14309695e-01, 3.94034822e-01, 3.19987058e-01, 2.54307387e-01,\n",
       "        6.53753129e-01, 3.09826974e-01, 8.66612985e-01, 1.75761200e-01,\n",
       "        9.66620615e-02, 1.12761280e-01, 1.76465168e-01, 5.67872963e-01,\n",
       "        7.84921798e-01, 7.62835620e-01, 2.81479800e-01, 7.28893766e-01,\n",
       "        2.22092999e-01, 9.48204777e-02]])"
      ]
     },
     "execution_count": 17,
     "metadata": {},
     "output_type": "execute_result"
    }
   ],
   "source": [
    "encoder_input_data[0]"
   ]
  },
  {
   "cell_type": "code",
   "execution_count": 18,
   "metadata": {
    "colab": {
     "base_uri": "https://localhost:8080/"
    },
    "id": "2ztfGMwFGDtU",
    "outputId": "28aaa591-574b-4782-fe78-605c74050097"
   },
   "outputs": [
    {
     "name": "stdout",
     "output_type": "stream",
     "text": [
      "Epoch 1/10\n"
     ]
    },
    {
     "name": "stderr",
     "output_type": "stream",
     "text": [
      "2024-08-05 13:44:12.210204: I external/local_xla/xla/stream_executor/cuda/cuda_dnn.cc:531] Loaded cuDNN version 8907\n"
     ]
    },
    {
     "name": "stdout",
     "output_type": "stream",
     "text": [
      "\u001b[1m125/125\u001b[0m \u001b[32m━━━━━━━━━━━━━━━━━━━━\u001b[0m\u001b[37m\u001b[0m \u001b[1m4s\u001b[0m 19ms/step - accuracy: 0.0206 - loss: 107.8989 - val_accuracy: 0.0191 - val_loss: 111.4423\n",
      "Epoch 2/10\n",
      "\u001b[1m125/125\u001b[0m \u001b[32m━━━━━━━━━━━━━━━━━━━━\u001b[0m\u001b[37m\u001b[0m \u001b[1m2s\u001b[0m 18ms/step - accuracy: 0.0200 - loss: 111.3419 - val_accuracy: 0.0191 - val_loss: 111.3463\n",
      "Epoch 3/10\n",
      "\u001b[1m125/125\u001b[0m \u001b[32m━━━━━━━━━━━━━━━━━━━━\u001b[0m\u001b[37m\u001b[0m \u001b[1m2s\u001b[0m 17ms/step - accuracy: 0.0200 - loss: 111.3022 - val_accuracy: 0.0191 - val_loss: 111.3417\n",
      "Epoch 4/10\n",
      "\u001b[1m125/125\u001b[0m \u001b[32m━━━━━━━━━━━━━━━━━━━━\u001b[0m\u001b[37m\u001b[0m \u001b[1m2s\u001b[0m 17ms/step - accuracy: 0.0206 - loss: 111.2684 - val_accuracy: 0.0191 - val_loss: 111.2410\n",
      "Epoch 5/10\n",
      "\u001b[1m125/125\u001b[0m \u001b[32m━━━━━━━━━━━━━━━━━━━━\u001b[0m\u001b[37m\u001b[0m \u001b[1m2s\u001b[0m 16ms/step - accuracy: 0.0196 - loss: 111.2197 - val_accuracy: 0.0191 - val_loss: 111.3790\n",
      "Epoch 6/10\n",
      "\u001b[1m125/125\u001b[0m \u001b[32m━━━━━━━━━━━━━━━━━━━━\u001b[0m\u001b[37m\u001b[0m \u001b[1m2s\u001b[0m 16ms/step - accuracy: 0.0197 - loss: 111.3246 - val_accuracy: 0.0191 - val_loss: 111.2716\n",
      "Epoch 7/10\n",
      "\u001b[1m125/125\u001b[0m \u001b[32m━━━━━━━━━━━━━━━━━━━━\u001b[0m\u001b[37m\u001b[0m \u001b[1m2s\u001b[0m 17ms/step - accuracy: 0.0202 - loss: 111.2173 - val_accuracy: 0.0191 - val_loss: 111.2967\n",
      "Epoch 8/10\n",
      "\u001b[1m125/125\u001b[0m \u001b[32m━━━━━━━━━━━━━━━━━━━━\u001b[0m\u001b[37m\u001b[0m \u001b[1m2s\u001b[0m 16ms/step - accuracy: 0.0204 - loss: 111.2146 - val_accuracy: 0.0191 - val_loss: 111.2838\n",
      "Epoch 9/10\n",
      "\u001b[1m125/125\u001b[0m \u001b[32m━━━━━━━━━━━━━━━━━━━━\u001b[0m\u001b[37m\u001b[0m \u001b[1m2s\u001b[0m 17ms/step - accuracy: 0.0208 - loss: 111.1972 - val_accuracy: 0.0191 - val_loss: 111.2041\n",
      "Epoch 10/10\n",
      "\u001b[1m125/125\u001b[0m \u001b[32m━━━━━━━━━━━━━━━━━━━━\u001b[0m\u001b[37m\u001b[0m \u001b[1m2s\u001b[0m 16ms/step - accuracy: 0.0196 - loss: 111.1824 - val_accuracy: 0.0191 - val_loss: 111.2675\n"
     ]
    },
    {
     "data": {
      "text/plain": [
       "<keras.src.callbacks.history.History at 0x714b20ff6a50>"
      ]
     },
     "execution_count": 18,
     "metadata": {},
     "output_type": "execute_result"
    }
   ],
   "source": [
    "# 모델 학습\n",
    "model.fit([encoder_input_data, decoder_input_data], decoder_target_data, batch_size=64, epochs=10, validation_split=0.2)"
   ]
  },
  {
   "cell_type": "code",
   "execution_count": 19,
   "metadata": {
    "colab": {
     "base_uri": "https://localhost:8080/"
    },
    "id": "hT-LoWQiGGYE",
    "outputId": "9d248636-4d92-4ea8-8e9f-6479fd487e64"
   },
   "outputs": [
    {
     "name": "stdout",
     "output_type": "stream",
     "text": [
      "\u001b[1m63/63\u001b[0m \u001b[32m━━━━━━━━━━━━━━━━━━━━\u001b[0m\u001b[37m\u001b[0m \u001b[1m0s\u001b[0m 7ms/step - accuracy: 0.0201 - loss: 111.2100\n",
      "Test Loss: 111.2199478149414, Test Accuracy: 0.01994999684393406\n"
     ]
    }
   ],
   "source": [
    "# 모델 평가\n",
    "# 학습된 모델을 평가하기 위해 테스트 데이터를 사용\n",
    "encoder_input_test = np.random.rand(2000, 10, 50)\n",
    "decoder_input_test = np.random.rand(2000, 10, 50)\n",
    "decoder_target_test = np.random.rand(2000, 10, 50)\n",
    "\n",
    "loss, accuracy = model.evaluate([encoder_input_test, decoder_input_test], decoder_target_test)\n",
    "print(f'Test Loss: {loss}, Test Accuracy: {accuracy}')\n"
   ]
  },
  {
   "cell_type": "markdown",
   "metadata": {
    "id": "nYJ-h_koINSI"
   },
   "source": [
    "예측 수행(모델 적용)"
   ]
  },
  {
   "cell_type": "code",
   "execution_count": 20,
   "metadata": {
    "id": "aiqey9S0i5lN"
   },
   "outputs": [],
   "source": [
    "# 인코더 - 새로운 입력 시퀀스를 받아 hidden state 계산\n",
    "encoder_model = Model(encoder_inputs, encoder_states)\n",
    " # encoder_inputs: 이전에 정의된, 훈련된 모델 (변수명 model)의 입력층\n",
    " # encoder_states: hidden state, cell state (LSTM)\n",
    "\n",
    "# 원본 model에서 LSTM 등의 레이어를 통해 학습된 가중치를 새로운 모델의 구성 요소로 재사용\n",
    "# 학습 단계에서 얻은 데이터의 표현(특징)을 추론 단계에서 활용"
   ]
  },
  {
   "cell_type": "code",
   "execution_count": 21,
   "metadata": {
    "id": "WfREPjqhjphz"
   },
   "outputs": [],
   "source": [
    "# 디코더 입력\n",
    "decoder_state_input_h = Input(shape=(256,))\n",
    "decoder_state_input_c = Input(shape=(256,))\n",
    "decoder_states_inputs = [decoder_state_input_h, decoder_state_input_c]"
   ]
  },
  {
   "cell_type": "code",
   "execution_count": 22,
   "metadata": {
    "id": "as5o7AjhnPMt"
   },
   "outputs": [],
   "source": [
    "# 디코더 출력\n",
    "decoder_outputs, state_h, state_c = decoder_lstm(\n",
    "    decoder_inputs, initial_state=decoder_states_inputs)\n",
    "decoder_states = [state_h, state_c]\n",
    "decoder_outputs = decoder_dense(decoder_outputs)"
   ]
  },
  {
   "cell_type": "code",
   "execution_count": 23,
   "metadata": {
    "id": "LMT_wnO4GMAx"
   },
   "outputs": [],
   "source": [
    "\n",
    "\n",
    "# 디코더 모델 정의\n",
    "decoder_model = Model(\n",
    "    [decoder_inputs] + decoder_states_inputs,\n",
    "    [decoder_outputs] + decoder_states)\n",
    "\n",
    "# 시퀀스 종료 토큰과 최대 디코딩 시퀀스 길이 정의\n",
    "eos_token_index = 0  # 예시로 0번 인덱스를 종료 토큰으로 사용\n",
    "max_decoder_seq_length = 10"
   ]
  },
  {
   "cell_type": "code",
   "execution_count": 24,
   "metadata": {
    "id": "yZGI_rWUpiUk"
   },
   "outputs": [],
   "source": [
    "\n",
    "def decode_sequence(input_seq):\n",
    "    # 인코더에서 상태 벡터 얻기\n",
    "    states_value = encoder_model.predict(input_seq)\n",
    "\n",
    "    # 디코더 입력 준비 (시퀀스 시작 토큰)\n",
    "    target_seq = np.zeros((1, 1, 50))\n",
    "\n",
    "    # 시퀀스 종료 조건\n",
    "    stop_condition = False\n",
    "    decoded_sentence = []\n",
    "\n",
    "    while not stop_condition:\n",
    "        output_tokens, h, c = decoder_model.predict(\n",
    "            [target_seq] + states_value)\n",
    "            # 타겟 시퀀스 + 히든스테이트 와 셀스테이트\n",
    "\n",
    "        # 예측된 토큰을 디코딩하여 출력 시퀀스에 추가\n",
    "        sampled_token_index = np.argmax(output_tokens[0, -1, :])\n",
    "        sampled_token = sampled_token_index  # 예시에서는 인덱스 자체를 토큰으로 사용\n",
    "\n",
    "        decoded_sentence.append(sampled_token)\n",
    "\n",
    "        # 시퀀스 종료 조건\n",
    "        if (sampled_token == eos_token_index or\n",
    "           len(decoded_sentence) > max_decoder_seq_length):\n",
    "            stop_condition = True\n",
    "\n",
    "        # 디코더 입력 업데이트 (다음 입력 토큰)\n",
    "        target_seq = np.zeros((1, 1, 50))\n",
    "        target_seq[0, 0, sampled_token] = 1.0\n",
    "\n",
    "        # 상태 업데이트\n",
    "        states_value = [h, c]\n",
    "\n",
    "    return decoded_sentence\n",
    "\n"
   ]
  },
  {
   "cell_type": "code",
   "execution_count": 25,
   "metadata": {
    "id": "Ci9cnAM4GPVx"
   },
   "outputs": [],
   "source": [
    "# 새로운 입력 시퀀스 (예시 데이터)\n",
    "new_encoder_input = np.random.rand(1, 10, 50)\n",
    "\n",
    "\n"
   ]
  },
  {
   "cell_type": "code",
   "execution_count": 26,
   "metadata": {
    "id": "jTZJBzwxGQgk"
   },
   "outputs": [
    {
     "name": "stdout",
     "output_type": "stream",
     "text": [
      "\u001b[1m1/1\u001b[0m \u001b[32m━━━━━━━━━━━━━━━━━━━━\u001b[0m\u001b[37m\u001b[0m \u001b[1m0s\u001b[0m 87ms/step\n",
      "\u001b[1m1/1\u001b[0m \u001b[32m━━━━━━━━━━━━━━━━━━━━\u001b[0m\u001b[37m\u001b[0m \u001b[1m0s\u001b[0m 90ms/step\n",
      "\u001b[1m1/1\u001b[0m \u001b[32m━━━━━━━━━━━━━━━━━━━━\u001b[0m\u001b[37m\u001b[0m \u001b[1m0s\u001b[0m 19ms/step\n",
      "\u001b[1m1/1\u001b[0m \u001b[32m━━━━━━━━━━━━━━━━━━━━\u001b[0m\u001b[37m\u001b[0m \u001b[1m0s\u001b[0m 17ms/step\n",
      "\u001b[1m1/1\u001b[0m \u001b[32m━━━━━━━━━━━━━━━━━━━━\u001b[0m\u001b[37m\u001b[0m \u001b[1m0s\u001b[0m 18ms/step\n",
      "\u001b[1m1/1\u001b[0m \u001b[32m━━━━━━━━━━━━━━━━━━━━\u001b[0m\u001b[37m\u001b[0m \u001b[1m0s\u001b[0m 20ms/step\n",
      "\u001b[1m1/1\u001b[0m \u001b[32m━━━━━━━━━━━━━━━━━━━━\u001b[0m\u001b[37m\u001b[0m \u001b[1m0s\u001b[0m 17ms/step\n",
      "\u001b[1m1/1\u001b[0m \u001b[32m━━━━━━━━━━━━━━━━━━━━\u001b[0m\u001b[37m\u001b[0m \u001b[1m0s\u001b[0m 19ms/step\n",
      "\u001b[1m1/1\u001b[0m \u001b[32m━━━━━━━━━━━━━━━━━━━━\u001b[0m\u001b[37m\u001b[0m \u001b[1m0s\u001b[0m 18ms/step\n",
      "\u001b[1m1/1\u001b[0m \u001b[32m━━━━━━━━━━━━━━━━━━━━\u001b[0m\u001b[37m\u001b[0m \u001b[1m0s\u001b[0m 17ms/step\n",
      "\u001b[1m1/1\u001b[0m \u001b[32m━━━━━━━━━━━━━━━━━━━━\u001b[0m\u001b[37m\u001b[0m \u001b[1m0s\u001b[0m 19ms/step\n",
      "\u001b[1m1/1\u001b[0m \u001b[32m━━━━━━━━━━━━━━━━━━━━\u001b[0m\u001b[37m\u001b[0m \u001b[1m0s\u001b[0m 18ms/step\n",
      "Predicted sequence: [34, 34, 34, 34, 34, 34, 34, 34, 34, 34, 34]\n"
     ]
    }
   ],
   "source": [
    "# 예측된 출력 시퀀스\n",
    "decoded_sentence = decode_sequence(new_encoder_input)\n",
    "print('Predicted sequence:', decoded_sentence)"
   ]
  }
 ],
 "metadata": {
  "colab": {
   "provenance": []
  },
  "kernelspec": {
   "display_name": "Python 3 (ipykernel)",
   "language": "python",
   "name": "python3"
  },
  "language_info": {
   "name": "python",
   "version": "3.12.4"
  }
 },
 "nbformat": 4,
 "nbformat_minor": 0
}
