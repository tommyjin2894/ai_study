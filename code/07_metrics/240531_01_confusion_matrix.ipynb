{
 "cells": [
  {
   "cell_type": "markdown",
   "id": "943567ba",
   "metadata": {},
   "source": [
    "# Confusion Matrix\n",
    "\n",
    "* 이름처럼 설명도 혼란하다!\n",
    "* Predict를 기준으로 생각하자!"
   ]
  },
  {
   "cell_type": "markdown",
   "id": "45af098a",
   "metadata": {},
   "source": [
    "<img src=\"../img/240531_01.png\" width = \"900\">"
   ]
  },
  {
   "cell_type": "markdown",
   "id": "a4d1cecd",
   "metadata": {},
   "source": [
    "* accuracy: 전체 데이터에서 모델이 얼마나 맞췄는가"
   ]
  },
  {
   "cell_type": "markdown",
   "id": "9cd8f4cc",
   "metadata": {},
   "source": [
    "<img src=\"../img/240531_02.png\" width = \"900\">"
   ]
  },
  {
   "cell_type": "markdown",
   "id": "87fdc210",
   "metadata": {},
   "source": [
    "* precision: 모델이 예측한 한 클래스 중 얼마나 맞췄는가\n",
    "* recall: 어떤 한 클래스의 정답을 모델이 얼마나 맞췄는가\n",
    "* precision과 recall은 0과 1사이의 값을 가짐\n",
    "* precision과 recall이 높을수록 좋은 모델이라고 할 수 있음"
   ]
  },
  {
   "cell_type": "markdown",
   "id": "c8cfc1f5",
   "metadata": {},
   "source": [
    "<img src=\"../img/240531_03.png\" width =\"500\">"
   ]
  },
  {
   "cell_type": "markdown",
   "id": "ffcc3ce4",
   "metadata": {},
   "source": [
    "* 문제에 따라 precision이 중요할 수도 있고, recall이 중요할 수도 있음"
   ]
  },
  {
   "cell_type": "markdown",
   "id": "2859d94b",
   "metadata": {},
   "source": [
    "**precision이 중요한 예**\n",
    "* 어떤 카드회사에서 신용카드의 이상감지를 하는 인공지능 모델을 서비스하고 있다고 가정해 보자. (즉, 카드 사용자의 사용 패턴이 정상인지, 아닌지 이진분류하는 모델) \n",
    "* 모델이 카드 사용에 대해 비정상이라고 분류하면 사용자에게 카드가 도용되었을 수도 있다고 알림을 주는 서비스\n",
    "* 이 모델에서 만약 precision값이 낮으면? 즉, FP값이 높으면\n",
    "    * 정상 사용임에도 불구하고, 모델이 비정상으로 분류하여 사용자에게 불필요한 알람이 계속 사용자에게 전달되게 됨. \n",
    "    * 사용자가 알림을 신뢰할 수 없고, 정작 정말 비정상 사용일 때 대응하지 못함\n",
    "  \n",
    "**recall이 중요한 예**\n",
    "* 0이 재직자이고, 1이 퇴직자인 hr데이터를 생각해 보자. \n",
    "* 우리가 학습시킨 모델이 recall이 낮으면? 즉, FN값이 높으면\n",
    "    * 실제로 퇴직할 사람인데 모델이 재직할 사람이라고 분류\n",
    "    * 모델의 예측 결과를 믿고 아무 조치도 취하지 않으면 이 회사는 여전히 인재유출을 막을 수가 없음 "
   ]
  },
  {
   "cell_type": "markdown",
   "id": "77ca6538",
   "metadata": {},
   "source": [
    "**모델을 학습시키고 그 결과를 평가할 때는 문제에 따라 accuracy, precision, recall의 수치를 중요하게 보며 모델의 결과를 분석해야**"
   ]
  }
 ],
 "metadata": {
  "kernelspec": {
   "display_name": "Python 3 (ipykernel)",
   "language": "python",
   "name": "python3"
  },
  "language_info": {
   "codemirror_mode": {
    "name": "ipython",
    "version": 3
   },
   "file_extension": ".py",
   "mimetype": "text/x-python",
   "name": "python",
   "nbconvert_exporter": "python",
   "pygments_lexer": "ipython3",
   "version": "3.8.15"
  }
 },
 "nbformat": 4,
 "nbformat_minor": 5
}
