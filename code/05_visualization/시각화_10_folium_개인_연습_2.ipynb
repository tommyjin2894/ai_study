{
 "cells": [
  {
   "cell_type": "markdown",
   "metadata": {},
   "source": [
    "# \n",
    "1. 문제해결 과정\n",
    "2. 어플설치"
   ]
  },
  {
   "cell_type": "markdown",
   "metadata": {},
   "source": [
    "모바일 넷의 구조 (CNN)  \n",
    " squeez net ..."
   ]
  },
  {
   "cell_type": "markdown",
   "metadata": {
    "vscode": {
     "languageId": "plaintext"
    }
   },
   "source": [
    "hyper parameter\n",
    "\n",
    "- Learning Rate : 정답을 가까워 지게 할 때의 보폭\n",
    "- epochs : 훈련데이터를 몇번 반복하는지\n",
    "- Training Data Fraction : 검증데이터의 비율 0.2~0.3\n",
    "- Optimizer : Adam 을 제일 많이쓴다. 출력이 정답에 가까워지게 만드는 함수"
   ]
  },
  {
   "cell_type": "markdown",
   "metadata": {},
   "source": [
    "현업에서는 머신러닝을 더 많이 쓴다."
   ]
  },
  {
   "cell_type": "markdown",
   "metadata": {},
   "source": [
    "CNN은 색상보다 패턴을 더 잘 학습한다."
   ]
  },
  {
   "cell_type": "markdown",
   "metadata": {},
   "source": [
    "aix 의역할 personalimageclassifier"
   ]
  },
  {
   "cell_type": "markdown",
   "metadata": {},
   "source": [
    "## 시각화 해보기 목표\n",
    "- 지도 시각화\n",
    "        \n",
    "      !pip install folium\n",
    "- 데이터에서 새로운 feature를 생성\n",
    "- 데이터를 지도 시각화\n",
    "- json 데이터 다루기"
   ]
  },
  {
   "cell_type": "code",
   "execution_count": 2,
   "metadata": {},
   "outputs": [
    {
     "ename": "FileNotFoundError",
     "evalue": "[Errno 2] No such file or directory: 'busan/busan.csv'",
     "output_type": "error",
     "traceback": [
      "\u001b[1;31m---------------------------------------------------------------------------\u001b[0m",
      "\u001b[1;31mFileNotFoundError\u001b[0m                         Traceback (most recent call last)",
      "Cell \u001b[1;32mIn [2], line 6\u001b[0m\n\u001b[0;32m      3\u001b[0m \u001b[38;5;28;01mimport\u001b[39;00m \u001b[38;5;21;01mfolium\u001b[39;00m\n\u001b[0;32m      4\u001b[0m \u001b[38;5;28;01mimport\u001b[39;00m \u001b[38;5;21;01mjson\u001b[39;00m\n\u001b[1;32m----> 6\u001b[0m busan_csv \u001b[38;5;241m=\u001b[39m \u001b[43mpd\u001b[49m\u001b[38;5;241;43m.\u001b[39;49m\u001b[43mread_csv\u001b[49m\u001b[43m(\u001b[49m\u001b[38;5;124;43m\"\u001b[39;49m\u001b[38;5;124;43mbusan/busan.csv\u001b[39;49m\u001b[38;5;124;43m\"\u001b[39;49m\u001b[43m,\u001b[49m\n\u001b[0;32m      7\u001b[0m \u001b[43m                        \u001b[49m\u001b[43mencoding\u001b[49m\u001b[38;5;241;43m=\u001b[39;49m\u001b[38;5;124;43m\"\u001b[39;49m\u001b[38;5;124;43mcp949\u001b[39;49m\u001b[38;5;124;43m\"\u001b[39;49m\u001b[43m,\u001b[49m\n\u001b[0;32m      8\u001b[0m \u001b[43m                        \u001b[49m\u001b[43mindex_col\u001b[49m\u001b[43m \u001b[49m\u001b[38;5;241;43m=\u001b[39;49m\u001b[43m \u001b[49m\u001b[38;5;241;43m0\u001b[39;49m\u001b[43m)\u001b[49m\n\u001b[0;32m     10\u001b[0m busan_csv\u001b[38;5;241m.\u001b[39mhead()\n\u001b[0;32m     12\u001b[0m \u001b[38;5;66;03m# 데이터를 보고 추정해야한다.\u001b[39;00m\n\u001b[0;32m     13\u001b[0m \u001b[38;5;66;03m# price (단위: 만원)\u001b[39;00m\n\u001b[0;32m     14\u001b[0m \u001b[38;5;66;03m# population (단위: 명)\u001b[39;00m\n\u001b[0;32m     15\u001b[0m \u001b[38;5;66;03m# aera (단위: km^2)\u001b[39;00m\n",
      "File \u001b[1;32mc:\\Users\\crazy\\miniconda3\\envs\\kdt\\lib\\site-packages\\pandas\\util\\_decorators.py:211\u001b[0m, in \u001b[0;36mdeprecate_kwarg.<locals>._deprecate_kwarg.<locals>.wrapper\u001b[1;34m(*args, **kwargs)\u001b[0m\n\u001b[0;32m    209\u001b[0m     \u001b[38;5;28;01melse\u001b[39;00m:\n\u001b[0;32m    210\u001b[0m         kwargs[new_arg_name] \u001b[38;5;241m=\u001b[39m new_arg_value\n\u001b[1;32m--> 211\u001b[0m \u001b[38;5;28;01mreturn\u001b[39;00m \u001b[43mfunc\u001b[49m\u001b[43m(\u001b[49m\u001b[38;5;241;43m*\u001b[39;49m\u001b[43margs\u001b[49m\u001b[43m,\u001b[49m\u001b[43m \u001b[49m\u001b[38;5;241;43m*\u001b[39;49m\u001b[38;5;241;43m*\u001b[39;49m\u001b[43mkwargs\u001b[49m\u001b[43m)\u001b[49m\n",
      "File \u001b[1;32mc:\\Users\\crazy\\miniconda3\\envs\\kdt\\lib\\site-packages\\pandas\\util\\_decorators.py:331\u001b[0m, in \u001b[0;36mdeprecate_nonkeyword_arguments.<locals>.decorate.<locals>.wrapper\u001b[1;34m(*args, **kwargs)\u001b[0m\n\u001b[0;32m    325\u001b[0m \u001b[38;5;28;01mif\u001b[39;00m \u001b[38;5;28mlen\u001b[39m(args) \u001b[38;5;241m>\u001b[39m num_allow_args:\n\u001b[0;32m    326\u001b[0m     warnings\u001b[38;5;241m.\u001b[39mwarn(\n\u001b[0;32m    327\u001b[0m         msg\u001b[38;5;241m.\u001b[39mformat(arguments\u001b[38;5;241m=\u001b[39m_format_argument_list(allow_args)),\n\u001b[0;32m    328\u001b[0m         \u001b[38;5;167;01mFutureWarning\u001b[39;00m,\n\u001b[0;32m    329\u001b[0m         stacklevel\u001b[38;5;241m=\u001b[39mfind_stack_level(),\n\u001b[0;32m    330\u001b[0m     )\n\u001b[1;32m--> 331\u001b[0m \u001b[38;5;28;01mreturn\u001b[39;00m \u001b[43mfunc\u001b[49m\u001b[43m(\u001b[49m\u001b[38;5;241;43m*\u001b[39;49m\u001b[43margs\u001b[49m\u001b[43m,\u001b[49m\u001b[43m \u001b[49m\u001b[38;5;241;43m*\u001b[39;49m\u001b[38;5;241;43m*\u001b[39;49m\u001b[43mkwargs\u001b[49m\u001b[43m)\u001b[49m\n",
      "File \u001b[1;32mc:\\Users\\crazy\\miniconda3\\envs\\kdt\\lib\\site-packages\\pandas\\io\\parsers\\readers.py:950\u001b[0m, in \u001b[0;36mread_csv\u001b[1;34m(filepath_or_buffer, sep, delimiter, header, names, index_col, usecols, squeeze, prefix, mangle_dupe_cols, dtype, engine, converters, true_values, false_values, skipinitialspace, skiprows, skipfooter, nrows, na_values, keep_default_na, na_filter, verbose, skip_blank_lines, parse_dates, infer_datetime_format, keep_date_col, date_parser, dayfirst, cache_dates, iterator, chunksize, compression, thousands, decimal, lineterminator, quotechar, quoting, doublequote, escapechar, comment, encoding, encoding_errors, dialect, error_bad_lines, warn_bad_lines, on_bad_lines, delim_whitespace, low_memory, memory_map, float_precision, storage_options)\u001b[0m\n\u001b[0;32m    935\u001b[0m kwds_defaults \u001b[38;5;241m=\u001b[39m _refine_defaults_read(\n\u001b[0;32m    936\u001b[0m     dialect,\n\u001b[0;32m    937\u001b[0m     delimiter,\n\u001b[1;32m   (...)\u001b[0m\n\u001b[0;32m    946\u001b[0m     defaults\u001b[38;5;241m=\u001b[39m{\u001b[38;5;124m\"\u001b[39m\u001b[38;5;124mdelimiter\u001b[39m\u001b[38;5;124m\"\u001b[39m: \u001b[38;5;124m\"\u001b[39m\u001b[38;5;124m,\u001b[39m\u001b[38;5;124m\"\u001b[39m},\n\u001b[0;32m    947\u001b[0m )\n\u001b[0;32m    948\u001b[0m kwds\u001b[38;5;241m.\u001b[39mupdate(kwds_defaults)\n\u001b[1;32m--> 950\u001b[0m \u001b[38;5;28;01mreturn\u001b[39;00m \u001b[43m_read\u001b[49m\u001b[43m(\u001b[49m\u001b[43mfilepath_or_buffer\u001b[49m\u001b[43m,\u001b[49m\u001b[43m \u001b[49m\u001b[43mkwds\u001b[49m\u001b[43m)\u001b[49m\n",
      "File \u001b[1;32mc:\\Users\\crazy\\miniconda3\\envs\\kdt\\lib\\site-packages\\pandas\\io\\parsers\\readers.py:605\u001b[0m, in \u001b[0;36m_read\u001b[1;34m(filepath_or_buffer, kwds)\u001b[0m\n\u001b[0;32m    602\u001b[0m _validate_names(kwds\u001b[38;5;241m.\u001b[39mget(\u001b[38;5;124m\"\u001b[39m\u001b[38;5;124mnames\u001b[39m\u001b[38;5;124m\"\u001b[39m, \u001b[38;5;28;01mNone\u001b[39;00m))\n\u001b[0;32m    604\u001b[0m \u001b[38;5;66;03m# Create the parser.\u001b[39;00m\n\u001b[1;32m--> 605\u001b[0m parser \u001b[38;5;241m=\u001b[39m \u001b[43mTextFileReader\u001b[49m\u001b[43m(\u001b[49m\u001b[43mfilepath_or_buffer\u001b[49m\u001b[43m,\u001b[49m\u001b[43m \u001b[49m\u001b[38;5;241;43m*\u001b[39;49m\u001b[38;5;241;43m*\u001b[39;49m\u001b[43mkwds\u001b[49m\u001b[43m)\u001b[49m\n\u001b[0;32m    607\u001b[0m \u001b[38;5;28;01mif\u001b[39;00m chunksize \u001b[38;5;129;01mor\u001b[39;00m iterator:\n\u001b[0;32m    608\u001b[0m     \u001b[38;5;28;01mreturn\u001b[39;00m parser\n",
      "File \u001b[1;32mc:\\Users\\crazy\\miniconda3\\envs\\kdt\\lib\\site-packages\\pandas\\io\\parsers\\readers.py:1442\u001b[0m, in \u001b[0;36mTextFileReader.__init__\u001b[1;34m(self, f, engine, **kwds)\u001b[0m\n\u001b[0;32m   1439\u001b[0m     \u001b[38;5;28mself\u001b[39m\u001b[38;5;241m.\u001b[39moptions[\u001b[38;5;124m\"\u001b[39m\u001b[38;5;124mhas_index_names\u001b[39m\u001b[38;5;124m\"\u001b[39m] \u001b[38;5;241m=\u001b[39m kwds[\u001b[38;5;124m\"\u001b[39m\u001b[38;5;124mhas_index_names\u001b[39m\u001b[38;5;124m\"\u001b[39m]\n\u001b[0;32m   1441\u001b[0m \u001b[38;5;28mself\u001b[39m\u001b[38;5;241m.\u001b[39mhandles: IOHandles \u001b[38;5;241m|\u001b[39m \u001b[38;5;28;01mNone\u001b[39;00m \u001b[38;5;241m=\u001b[39m \u001b[38;5;28;01mNone\u001b[39;00m\n\u001b[1;32m-> 1442\u001b[0m \u001b[38;5;28mself\u001b[39m\u001b[38;5;241m.\u001b[39m_engine \u001b[38;5;241m=\u001b[39m \u001b[38;5;28;43mself\u001b[39;49m\u001b[38;5;241;43m.\u001b[39;49m\u001b[43m_make_engine\u001b[49m\u001b[43m(\u001b[49m\u001b[43mf\u001b[49m\u001b[43m,\u001b[49m\u001b[43m \u001b[49m\u001b[38;5;28;43mself\u001b[39;49m\u001b[38;5;241;43m.\u001b[39;49m\u001b[43mengine\u001b[49m\u001b[43m)\u001b[49m\n",
      "File \u001b[1;32mc:\\Users\\crazy\\miniconda3\\envs\\kdt\\lib\\site-packages\\pandas\\io\\parsers\\readers.py:1735\u001b[0m, in \u001b[0;36mTextFileReader._make_engine\u001b[1;34m(self, f, engine)\u001b[0m\n\u001b[0;32m   1733\u001b[0m     \u001b[38;5;28;01mif\u001b[39;00m \u001b[38;5;124m\"\u001b[39m\u001b[38;5;124mb\u001b[39m\u001b[38;5;124m\"\u001b[39m \u001b[38;5;129;01mnot\u001b[39;00m \u001b[38;5;129;01min\u001b[39;00m mode:\n\u001b[0;32m   1734\u001b[0m         mode \u001b[38;5;241m+\u001b[39m\u001b[38;5;241m=\u001b[39m \u001b[38;5;124m\"\u001b[39m\u001b[38;5;124mb\u001b[39m\u001b[38;5;124m\"\u001b[39m\n\u001b[1;32m-> 1735\u001b[0m \u001b[38;5;28mself\u001b[39m\u001b[38;5;241m.\u001b[39mhandles \u001b[38;5;241m=\u001b[39m \u001b[43mget_handle\u001b[49m\u001b[43m(\u001b[49m\n\u001b[0;32m   1736\u001b[0m \u001b[43m    \u001b[49m\u001b[43mf\u001b[49m\u001b[43m,\u001b[49m\n\u001b[0;32m   1737\u001b[0m \u001b[43m    \u001b[49m\u001b[43mmode\u001b[49m\u001b[43m,\u001b[49m\n\u001b[0;32m   1738\u001b[0m \u001b[43m    \u001b[49m\u001b[43mencoding\u001b[49m\u001b[38;5;241;43m=\u001b[39;49m\u001b[38;5;28;43mself\u001b[39;49m\u001b[38;5;241;43m.\u001b[39;49m\u001b[43moptions\u001b[49m\u001b[38;5;241;43m.\u001b[39;49m\u001b[43mget\u001b[49m\u001b[43m(\u001b[49m\u001b[38;5;124;43m\"\u001b[39;49m\u001b[38;5;124;43mencoding\u001b[39;49m\u001b[38;5;124;43m\"\u001b[39;49m\u001b[43m,\u001b[49m\u001b[43m \u001b[49m\u001b[38;5;28;43;01mNone\u001b[39;49;00m\u001b[43m)\u001b[49m\u001b[43m,\u001b[49m\n\u001b[0;32m   1739\u001b[0m \u001b[43m    \u001b[49m\u001b[43mcompression\u001b[49m\u001b[38;5;241;43m=\u001b[39;49m\u001b[38;5;28;43mself\u001b[39;49m\u001b[38;5;241;43m.\u001b[39;49m\u001b[43moptions\u001b[49m\u001b[38;5;241;43m.\u001b[39;49m\u001b[43mget\u001b[49m\u001b[43m(\u001b[49m\u001b[38;5;124;43m\"\u001b[39;49m\u001b[38;5;124;43mcompression\u001b[39;49m\u001b[38;5;124;43m\"\u001b[39;49m\u001b[43m,\u001b[49m\u001b[43m \u001b[49m\u001b[38;5;28;43;01mNone\u001b[39;49;00m\u001b[43m)\u001b[49m\u001b[43m,\u001b[49m\n\u001b[0;32m   1740\u001b[0m \u001b[43m    \u001b[49m\u001b[43mmemory_map\u001b[49m\u001b[38;5;241;43m=\u001b[39;49m\u001b[38;5;28;43mself\u001b[39;49m\u001b[38;5;241;43m.\u001b[39;49m\u001b[43moptions\u001b[49m\u001b[38;5;241;43m.\u001b[39;49m\u001b[43mget\u001b[49m\u001b[43m(\u001b[49m\u001b[38;5;124;43m\"\u001b[39;49m\u001b[38;5;124;43mmemory_map\u001b[39;49m\u001b[38;5;124;43m\"\u001b[39;49m\u001b[43m,\u001b[49m\u001b[43m \u001b[49m\u001b[38;5;28;43;01mFalse\u001b[39;49;00m\u001b[43m)\u001b[49m\u001b[43m,\u001b[49m\n\u001b[0;32m   1741\u001b[0m \u001b[43m    \u001b[49m\u001b[43mis_text\u001b[49m\u001b[38;5;241;43m=\u001b[39;49m\u001b[43mis_text\u001b[49m\u001b[43m,\u001b[49m\n\u001b[0;32m   1742\u001b[0m \u001b[43m    \u001b[49m\u001b[43merrors\u001b[49m\u001b[38;5;241;43m=\u001b[39;49m\u001b[38;5;28;43mself\u001b[39;49m\u001b[38;5;241;43m.\u001b[39;49m\u001b[43moptions\u001b[49m\u001b[38;5;241;43m.\u001b[39;49m\u001b[43mget\u001b[49m\u001b[43m(\u001b[49m\u001b[38;5;124;43m\"\u001b[39;49m\u001b[38;5;124;43mencoding_errors\u001b[39;49m\u001b[38;5;124;43m\"\u001b[39;49m\u001b[43m,\u001b[49m\u001b[43m \u001b[49m\u001b[38;5;124;43m\"\u001b[39;49m\u001b[38;5;124;43mstrict\u001b[39;49m\u001b[38;5;124;43m\"\u001b[39;49m\u001b[43m)\u001b[49m\u001b[43m,\u001b[49m\n\u001b[0;32m   1743\u001b[0m \u001b[43m    \u001b[49m\u001b[43mstorage_options\u001b[49m\u001b[38;5;241;43m=\u001b[39;49m\u001b[38;5;28;43mself\u001b[39;49m\u001b[38;5;241;43m.\u001b[39;49m\u001b[43moptions\u001b[49m\u001b[38;5;241;43m.\u001b[39;49m\u001b[43mget\u001b[49m\u001b[43m(\u001b[49m\u001b[38;5;124;43m\"\u001b[39;49m\u001b[38;5;124;43mstorage_options\u001b[39;49m\u001b[38;5;124;43m\"\u001b[39;49m\u001b[43m,\u001b[49m\u001b[43m \u001b[49m\u001b[38;5;28;43;01mNone\u001b[39;49;00m\u001b[43m)\u001b[49m\u001b[43m,\u001b[49m\n\u001b[0;32m   1744\u001b[0m \u001b[43m\u001b[49m\u001b[43m)\u001b[49m\n\u001b[0;32m   1745\u001b[0m \u001b[38;5;28;01massert\u001b[39;00m \u001b[38;5;28mself\u001b[39m\u001b[38;5;241m.\u001b[39mhandles \u001b[38;5;129;01mis\u001b[39;00m \u001b[38;5;129;01mnot\u001b[39;00m \u001b[38;5;28;01mNone\u001b[39;00m\n\u001b[0;32m   1746\u001b[0m f \u001b[38;5;241m=\u001b[39m \u001b[38;5;28mself\u001b[39m\u001b[38;5;241m.\u001b[39mhandles\u001b[38;5;241m.\u001b[39mhandle\n",
      "File \u001b[1;32mc:\\Users\\crazy\\miniconda3\\envs\\kdt\\lib\\site-packages\\pandas\\io\\common.py:856\u001b[0m, in \u001b[0;36mget_handle\u001b[1;34m(path_or_buf, mode, encoding, compression, memory_map, is_text, errors, storage_options)\u001b[0m\n\u001b[0;32m    851\u001b[0m \u001b[38;5;28;01melif\u001b[39;00m \u001b[38;5;28misinstance\u001b[39m(handle, \u001b[38;5;28mstr\u001b[39m):\n\u001b[0;32m    852\u001b[0m     \u001b[38;5;66;03m# Check whether the filename is to be opened in binary mode.\u001b[39;00m\n\u001b[0;32m    853\u001b[0m     \u001b[38;5;66;03m# Binary mode does not support 'encoding' and 'newline'.\u001b[39;00m\n\u001b[0;32m    854\u001b[0m     \u001b[38;5;28;01mif\u001b[39;00m ioargs\u001b[38;5;241m.\u001b[39mencoding \u001b[38;5;129;01mand\u001b[39;00m \u001b[38;5;124m\"\u001b[39m\u001b[38;5;124mb\u001b[39m\u001b[38;5;124m\"\u001b[39m \u001b[38;5;129;01mnot\u001b[39;00m \u001b[38;5;129;01min\u001b[39;00m ioargs\u001b[38;5;241m.\u001b[39mmode:\n\u001b[0;32m    855\u001b[0m         \u001b[38;5;66;03m# Encoding\u001b[39;00m\n\u001b[1;32m--> 856\u001b[0m         handle \u001b[38;5;241m=\u001b[39m \u001b[38;5;28;43mopen\u001b[39;49m\u001b[43m(\u001b[49m\n\u001b[0;32m    857\u001b[0m \u001b[43m            \u001b[49m\u001b[43mhandle\u001b[49m\u001b[43m,\u001b[49m\n\u001b[0;32m    858\u001b[0m \u001b[43m            \u001b[49m\u001b[43mioargs\u001b[49m\u001b[38;5;241;43m.\u001b[39;49m\u001b[43mmode\u001b[49m\u001b[43m,\u001b[49m\n\u001b[0;32m    859\u001b[0m \u001b[43m            \u001b[49m\u001b[43mencoding\u001b[49m\u001b[38;5;241;43m=\u001b[39;49m\u001b[43mioargs\u001b[49m\u001b[38;5;241;43m.\u001b[39;49m\u001b[43mencoding\u001b[49m\u001b[43m,\u001b[49m\n\u001b[0;32m    860\u001b[0m \u001b[43m            \u001b[49m\u001b[43merrors\u001b[49m\u001b[38;5;241;43m=\u001b[39;49m\u001b[43merrors\u001b[49m\u001b[43m,\u001b[49m\n\u001b[0;32m    861\u001b[0m \u001b[43m            \u001b[49m\u001b[43mnewline\u001b[49m\u001b[38;5;241;43m=\u001b[39;49m\u001b[38;5;124;43m\"\u001b[39;49m\u001b[38;5;124;43m\"\u001b[39;49m\u001b[43m,\u001b[49m\n\u001b[0;32m    862\u001b[0m \u001b[43m        \u001b[49m\u001b[43m)\u001b[49m\n\u001b[0;32m    863\u001b[0m     \u001b[38;5;28;01melse\u001b[39;00m:\n\u001b[0;32m    864\u001b[0m         \u001b[38;5;66;03m# Binary mode\u001b[39;00m\n\u001b[0;32m    865\u001b[0m         handle \u001b[38;5;241m=\u001b[39m \u001b[38;5;28mopen\u001b[39m(handle, ioargs\u001b[38;5;241m.\u001b[39mmode)\n",
      "\u001b[1;31mFileNotFoundError\u001b[0m: [Errno 2] No such file or directory: 'busan/busan.csv'"
     ]
    }
   ],
   "source": [
    "import pandas as pd\n",
    "import numpy as np\n",
    "import folium\n",
    "import json\n",
    "\n",
    "busan_csv = pd.read_csv(\"busan/busan.csv\",\n",
    "                        encoding=\"cp949\",\n",
    "                        index_col = 0)\n",
    "\n",
    "busan_csv.head()\n",
    "\n",
    "# 데이터를 보고 추정해야한다.\n",
    "# price (단위: 만원)\n",
    "# population (단위: 명)\n",
    "# aera (단위: km^2)"
   ]
  },
  {
   "cell_type": "code",
   "execution_count": null,
   "metadata": {},
   "outputs": [
    {
     "data": {
      "text/plain": [
       "{'type': 'Feature',\n",
       " 'id': '중구',\n",
       " 'properties': {'code': '21010',\n",
       "  'name': '중구',\n",
       "  'name_eng': 'Jung-gu',\n",
       "  'base_year': '2013'},\n",
       " 'geometry': {'type': 'Polygon',\n",
       "  'coordinates': [[[129.032, 35.116],\n",
       "    [129.038, 35.112],\n",
       "    [129.042, 35.111],\n",
       "    [129.041, 35.108],\n",
       "    [129.038, 35.104],\n",
       "    [129.038, 35.098],\n",
       "    [129.037, 35.097],\n",
       "    [129.029, 35.096],\n",
       "    [129.026, 35.096],\n",
       "    [129.024, 35.1],\n",
       "    [129.022, 35.102],\n",
       "    [129.021, 35.106],\n",
       "    [129.023, 35.109],\n",
       "    [129.024, 35.109],\n",
       "    [129.026, 35.111],\n",
       "    [129.028, 35.11],\n",
       "    [129.028, 35.115],\n",
       "    [129.032, 35.116]]]}}"
      ]
     },
     "execution_count": 14,
     "metadata": {},
     "output_type": "execute_result"
    }
   ],
   "source": [
    "with open('busan/busan_gu.json', encoding=\"utf-8\") as f:\n",
    "    geo_json = json.load(f)\n",
    "\n",
    "# 키값 확인\n",
    "geo_json.keys()\n",
    "geo_json['features'][0]"
   ]
  },
  {
   "cell_type": "code",
   "execution_count": null,
   "metadata": {},
   "outputs": [
    {
     "name": "stdout",
     "output_type": "stream",
     "text": [
      "['중구', '서구', '동구', '영도구', '부산진구', '동래구', '남구', '북구', '해운대구', '사하구', '금정구', '강서구', '연제구', '수영구', '사상구', '기장군']\n"
     ]
    }
   ],
   "source": [
    "print([item['id'] for item in (geo_json['features'])])"
   ]
  },
  {
   "cell_type": "code",
   "execution_count": null,
   "metadata": {},
   "outputs": [],
   "source": [
    "\n",
    "\n",
    "map = folium.Map(location = [35.1856505, 129.1],\n",
    "                 zoom_start = 10)\n",
    "\n",
    "folium.Choropleth(geo_data = geo_json,\n",
    "                  data = busan_csv[\"population\"],\n",
    "                  fill_color = \"PuBu\",\n",
    "                  key_on = \"feature.id\",\n",
    "                  legend_name=\"부산 인구수 (단위: 명)\").add_to(map)\n",
    "\n",
    "map"
   ]
  },
  {
   "cell_type": "code",
   "execution_count": null,
   "metadata": {},
   "outputs": [],
   "source": [
    "[item['id'] for item in (geo_json['features'])]\n",
    "\n",
    "map = folium.Map(location = [35.1856505, 129.1],\n",
    "                 zoom_start = 10)\n",
    "\n",
    "folium.Choropleth(geo_data = geo_json,\n",
    "                  data = busan_csv[\"price\"],\n",
    "                  fill_color = \"PuOr\",\n",
    "                  key_on = \"feature.id\",\n",
    "                  legend_name=\"집 값 평균 (단위: 만원)\").add_to(map)\n",
    "\n",
    "map"
   ]
  },
  {
   "cell_type": "code",
   "execution_count": null,
   "metadata": {},
   "outputs": [],
   "source": [
    "[item['id'] for item in (geo_json['features'])]\n",
    "\n",
    "map = folium.Map(location = [35.1856505, 129.1],\n",
    "                 zoom_start = 10)\n",
    "\n",
    "folium.Choropleth(geo_data = geo_json,\n",
    "                  data = busan_csv[\"area\"],\n",
    "                  fill_color = \"PuBuGn\",\n",
    "                  key_on = \"feature.id\",\n",
    "                  legend_name=\"넓이 (단위: 넓이 km^2)\").add_to(map)\n",
    "\n",
    "map"
   ]
  },
  {
   "cell_type": "code",
   "execution_count": null,
   "metadata": {},
   "outputs": [
    {
     "name": "stdout",
     "output_type": "stream",
     "text": [
      "1.26.4\n",
      "2.2.2\n",
      "0.16.0\n",
      "2.0.9\n"
     ]
    }
   ],
   "source": [
    "# version chack\n",
    "print(np.__version__)\n",
    "print(pd.__version__)\n",
    "print(folium.__version__)\n",
    "print(json.__version__)"
   ]
  },
  {
   "attachments": {
    "image.png": {
     "image/png": "[encoded data removed]"
    }
   },
   "cell_type": "markdown",
   "metadata": {},
   "source": [
    "과제.\n",
    "\n",
    "![image.png](attachment:image.png)"
   ]
  },
  {
   "cell_type": "markdown",
   "metadata": {},
   "source": [
    "과제 1)"
   ]
  },
  {
   "cell_type": "code",
   "execution_count": 3,
   "metadata": {},
   "outputs": [
    {
     "data": {
      "text/html": [
       "<div>\n",
       "<style scoped>\n",
       "    .dataframe tbody tr th:only-of-type {\n",
       "        vertical-align: middle;\n",
       "    }\n",
       "\n",
       "    .dataframe tbody tr th {\n",
       "        vertical-align: top;\n",
       "    }\n",
       "\n",
       "    .dataframe thead th {\n",
       "        text-align: right;\n",
       "    }\n",
       "</style>\n",
       "<table border=\"1\" class=\"dataframe\">\n",
       "  <thead>\n",
       "    <tr style=\"text-align: right;\">\n",
       "      <th></th>\n",
       "      <th>price</th>\n",
       "      <th>population</th>\n",
       "      <th>area</th>\n",
       "      <th>name_eng</th>\n",
       "    </tr>\n",
       "  </thead>\n",
       "  <tbody>\n",
       "    <tr>\n",
       "      <th>중구</th>\n",
       "      <td>15515</td>\n",
       "      <td>44852</td>\n",
       "      <td>2.83</td>\n",
       "      <td>Jung-gu</td>\n",
       "    </tr>\n",
       "    <tr>\n",
       "      <th>서구</th>\n",
       "      <td>28665</td>\n",
       "      <td>112621</td>\n",
       "      <td>13.98</td>\n",
       "      <td>Seo-gu</td>\n",
       "    </tr>\n",
       "    <tr>\n",
       "      <th>동구</th>\n",
       "      <td>20729</td>\n",
       "      <td>89144</td>\n",
       "      <td>9.74</td>\n",
       "      <td>Dong-gu</td>\n",
       "    </tr>\n",
       "    <tr>\n",
       "      <th>영도구</th>\n",
       "      <td>17024</td>\n",
       "      <td>121934</td>\n",
       "      <td>14.20</td>\n",
       "      <td>Youngdo-gu</td>\n",
       "    </tr>\n",
       "    <tr>\n",
       "      <th>부산진구</th>\n",
       "      <td>28781</td>\n",
       "      <td>365337</td>\n",
       "      <td>29.67</td>\n",
       "      <td>Busanjin-gu</td>\n",
       "    </tr>\n",
       "  </tbody>\n",
       "</table>\n",
       "</div>"
      ],
      "text/plain": [
       "      price  population   area     name_eng\n",
       "중구    15515       44852   2.83      Jung-gu\n",
       "서구    28665      112621  13.98       Seo-gu\n",
       "동구    20729       89144   9.74      Dong-gu\n",
       "영도구   17024      121934  14.20   Youngdo-gu\n",
       "부산진구  28781      365337  29.67  Busanjin-gu"
      ]
     },
     "execution_count": 3,
     "metadata": {},
     "output_type": "execute_result"
    }
   ],
   "source": [
    "import pandas as pd\n",
    "import numpy as np\n",
    "import folium\n",
    "import json\n",
    "\n",
    "busan_csv = pd.read_csv(\"busan/busan.csv\",\n",
    "                        encoding=\"cp949\",\n",
    "                        index_col = 0)\n",
    "\n",
    "with open('busan/busan_gu.json', encoding=\"utf-8\") as f:\n",
    "    geo_json = json.load(f)\n",
    "\n",
    "\n",
    "geo_json['features'][0]['properties']['name_eng']\n",
    "geo_json['features'][0]['id']\n",
    "\n",
    "dict_of_eng = {}\n",
    "for i in range(len(busan_csv)):\n",
    "    dict_of_eng[geo_json['features'][i]['id']]=geo_json['features'][i]['properties']['name_eng']\n",
    "\n",
    "name_eng_col = pd.Series(dict_of_eng.values(),\n",
    "                         index=dict_of_eng.keys(),\n",
    "                         name=\"name_eng\")\n",
    "\n",
    "# price (단위: 만원)\n",
    "# population (단위: 명)\n",
    "# aera (단위: km^2)\n",
    "busan_df = pd.concat([busan_csv, name_eng_col],axis=1)\n",
    "busan_df.head()"
   ]
  },
  {
   "cell_type": "markdown",
   "metadata": {},
   "source": [
    "과제 2)"
   ]
  },
  {
   "cell_type": "code",
   "execution_count": 4,
   "metadata": {},
   "outputs": [
    {
     "data": {
      "text/html": [
       "<div>\n",
       "<style scoped>\n",
       "    .dataframe tbody tr th:only-of-type {\n",
       "        vertical-align: middle;\n",
       "    }\n",
       "\n",
       "    .dataframe tbody tr th {\n",
       "        vertical-align: top;\n",
       "    }\n",
       "\n",
       "    .dataframe thead th {\n",
       "        text-align: right;\n",
       "    }\n",
       "</style>\n",
       "<table border=\"1\" class=\"dataframe\">\n",
       "  <thead>\n",
       "    <tr style=\"text-align: right;\">\n",
       "      <th></th>\n",
       "      <th>price</th>\n",
       "      <th>population</th>\n",
       "      <th>area</th>\n",
       "      <th>name_eng</th>\n",
       "      <th>density</th>\n",
       "    </tr>\n",
       "  </thead>\n",
       "  <tbody>\n",
       "    <tr>\n",
       "      <th>중구</th>\n",
       "      <td>15515</td>\n",
       "      <td>44852</td>\n",
       "      <td>2.83</td>\n",
       "      <td>Jung-gu</td>\n",
       "      <td>15848</td>\n",
       "    </tr>\n",
       "    <tr>\n",
       "      <th>서구</th>\n",
       "      <td>28665</td>\n",
       "      <td>112621</td>\n",
       "      <td>13.98</td>\n",
       "      <td>Seo-gu</td>\n",
       "      <td>8055</td>\n",
       "    </tr>\n",
       "    <tr>\n",
       "      <th>동구</th>\n",
       "      <td>20729</td>\n",
       "      <td>89144</td>\n",
       "      <td>9.74</td>\n",
       "      <td>Dong-gu</td>\n",
       "      <td>9152</td>\n",
       "    </tr>\n",
       "    <tr>\n",
       "      <th>영도구</th>\n",
       "      <td>17024</td>\n",
       "      <td>121934</td>\n",
       "      <td>14.20</td>\n",
       "      <td>Youngdo-gu</td>\n",
       "      <td>8586</td>\n",
       "    </tr>\n",
       "    <tr>\n",
       "      <th>부산진구</th>\n",
       "      <td>28781</td>\n",
       "      <td>365337</td>\n",
       "      <td>29.67</td>\n",
       "      <td>Busanjin-gu</td>\n",
       "      <td>12313</td>\n",
       "    </tr>\n",
       "  </tbody>\n",
       "</table>\n",
       "</div>"
      ],
      "text/plain": [
       "      price  population   area     name_eng  density\n",
       "중구    15515       44852   2.83      Jung-gu    15848\n",
       "서구    28665      112621  13.98       Seo-gu     8055\n",
       "동구    20729       89144   9.74      Dong-gu     9152\n",
       "영도구   17024      121934  14.20   Youngdo-gu     8586\n",
       "부산진구  28781      365337  29.67  Busanjin-gu    12313"
      ]
     },
     "execution_count": 4,
     "metadata": {},
     "output_type": "execute_result"
    }
   ],
   "source": [
    "density_of_pop = pd.Series(busan_df.population / busan_df.area,\n",
    "                           name=\"density\").astype(\"int64\")\n",
    "\n",
    "busan_df_2 = pd.concat([busan_df, density_of_pop],axis=1)\n",
    "busan_df_2.head()"
   ]
  },
  {
   "cell_type": "markdown",
   "metadata": {},
   "source": [
    "과제 3)"
   ]
  },
  {
   "cell_type": "code",
   "execution_count": 5,
   "metadata": {},
   "outputs": [
    {
     "data": {
      "text/html": [
       "<div style=\"width:100%;\"><div style=\"position:relative;width:100%;height:0;padding-bottom:60%;\"><span style=\"color:#565656\">Make this Notebook Trusted to load map: File -> Trust Notebook</span><iframe srcdoc=\"&lt;!DOCTYPE html&gt;\n",
       "&lt;html&gt;\n",
       "&lt;head&gt;\n",
       "    \n",
       "    &lt;meta http-equiv=&quot;content-type&quot; content=&quot;text/html; charset=UTF-8&quot; /&gt;\n",
       "    \n",
       "        &lt;script&gt;\n",
       "            L_NO_TOUCH = false;\n",
       "            L_DISABLE_3D = false;\n",
       "        &lt;/script&gt;\n",
       "    \n",
       "    &lt;style&gt;html, body {width: 100%;height: 100%;margin: 0;padding: 0;}&lt;/style&gt;\n",
       "    &lt;style&gt;#map {position:absolute;top:0;bottom:0;right:0;left:0;}&lt;/style&gt;\n",
       "    &lt;script src=&quot;https://cdn.jsdelivr.net/npm/leaflet@1.9.3/dist/leaflet.js&quot;&gt;&lt;/script&gt;\n",
       "    &lt;script src=&quot;https://code.jquery.com/jquery-3.7.1.min.js&quot;&gt;&lt;/script&gt;\n",
       "    &lt;script src=&quot;https://cdn.jsdelivr.net/npm/bootstrap@5.2.2/dist/js/bootstrap.bundle.min.js&quot;&gt;&lt;/script&gt;\n",
       "    &lt;script src=&quot;https://cdnjs.cloudflare.com/ajax/libs/Leaflet.awesome-markers/2.0.2/leaflet.awesome-markers.js&quot;&gt;&lt;/script&gt;\n",
       "    &lt;link rel=&quot;stylesheet&quot; href=&quot;https://cdn.jsdelivr.net/npm/leaflet@1.9.3/dist/leaflet.css&quot;/&gt;\n",
       "    &lt;link rel=&quot;stylesheet&quot; href=&quot;https://cdn.jsdelivr.net/npm/bootstrap@5.2.2/dist/css/bootstrap.min.css&quot;/&gt;\n",
       "    &lt;link rel=&quot;stylesheet&quot; href=&quot;https://netdna.bootstrapcdn.com/bootstrap/3.0.0/css/bootstrap.min.css&quot;/&gt;\n",
       "    &lt;link rel=&quot;stylesheet&quot; href=&quot;https://cdn.jsdelivr.net/npm/@fortawesome/fontawesome-free@6.2.0/css/all.min.css&quot;/&gt;\n",
       "    &lt;link rel=&quot;stylesheet&quot; href=&quot;https://cdnjs.cloudflare.com/ajax/libs/Leaflet.awesome-markers/2.0.2/leaflet.awesome-markers.css&quot;/&gt;\n",
       "    &lt;link rel=&quot;stylesheet&quot; href=&quot;https://cdn.jsdelivr.net/gh/python-visualization/folium/folium/templates/leaflet.awesome.rotate.min.css&quot;/&gt;\n",
       "    \n",
       "            &lt;meta name=&quot;viewport&quot; content=&quot;width=device-width,\n",
       "                initial-scale=1.0, maximum-scale=1.0, user-scalable=no&quot; /&gt;\n",
       "            &lt;style&gt;\n",
       "                #map_698e272133eac6f0d9f9f241b6ca6643 {\n",
       "                    position: relative;\n",
       "                    width: 100.0%;\n",
       "                    height: 100.0%;\n",
       "                    left: 0.0%;\n",
       "                    top: 0.0%;\n",
       "                }\n",
       "                .leaflet-container { font-size: 1rem; }\n",
       "            &lt;/style&gt;\n",
       "        \n",
       "    &lt;script src=&quot;https://cdnjs.cloudflare.com/ajax/libs/d3/3.5.5/d3.min.js&quot;&gt;&lt;/script&gt;\n",
       "&lt;/head&gt;\n",
       "&lt;body&gt;\n",
       "    \n",
       "    \n",
       "            &lt;div class=&quot;folium-map&quot; id=&quot;map_698e272133eac6f0d9f9f241b6ca6643&quot; &gt;&lt;/div&gt;\n",
       "        \n",
       "&lt;/body&gt;\n",
       "&lt;script&gt;\n",
       "    \n",
       "    \n",
       "            var map_698e272133eac6f0d9f9f241b6ca6643 = L.map(\n",
       "                &quot;map_698e272133eac6f0d9f9f241b6ca6643&quot;,\n",
       "                {\n",
       "                    center: [35.1856505, 129.1],\n",
       "                    crs: L.CRS.EPSG3857,\n",
       "                    zoom: 12,\n",
       "                    zoomControl: true,\n",
       "                    preferCanvas: false,\n",
       "                }\n",
       "            );\n",
       "\n",
       "            \n",
       "\n",
       "        \n",
       "    \n",
       "            var tile_layer_8b3e2acd9e90dac0a7c9ba821af15fd9 = L.tileLayer(\n",
       "                &quot;https://tile.openstreetmap.org/{z}/{x}/{y}.png&quot;,\n",
       "                {&quot;attribution&quot;: &quot;\\u0026copy; \\u003ca href=\\&quot;https://www.openstreetmap.org/copyright\\&quot;\\u003eOpenStreetMap\\u003c/a\\u003e contributors&quot;, &quot;detectRetina&quot;: false, &quot;maxNativeZoom&quot;: 19, &quot;maxZoom&quot;: 19, &quot;minZoom&quot;: 0, &quot;noWrap&quot;: false, &quot;opacity&quot;: 1, &quot;subdomains&quot;: &quot;abc&quot;, &quot;tms&quot;: false}\n",
       "            );\n",
       "        \n",
       "    \n",
       "            tile_layer_8b3e2acd9e90dac0a7c9ba821af15fd9.addTo(map_698e272133eac6f0d9f9f241b6ca6643);\n",
       "        \n",
       "    \n",
       "            var choropleth_1c302de0033ce0aaecf121b9f999f8fb = L.featureGroup(\n",
       "                {}\n",
       "            );\n",
       "        \n",
       "    \n",
       "        function geo_json_ba3f0502469d5791b22b947af0cb61de_styler(feature) {\n",
       "            switch(feature.id) {\n",
       "                case &quot;\\uc11c\\uad6c&quot;: case &quot;\\uc601\\ub3c4\\uad6c&quot;: case &quot;\\ubd81\\uad6c&quot;: case &quot;\\ud574\\uc6b4\\ub300\\uad6c&quot;: case &quot;\\uc0ac\\ud558\\uad6c&quot;: case &quot;\\uc0ac\\uc0c1\\uad6c&quot;: \n",
       "                    return {&quot;color&quot;: &quot;black&quot;, &quot;fillColor&quot;: &quot;#a6bddb&quot;, &quot;fillOpacity&quot;: 0.6, &quot;opacity&quot;: 1, &quot;weight&quot;: 1};\n",
       "                case &quot;\\ub3d9\\uad6c&quot;: case &quot;\\ub0a8\\uad6c&quot;: \n",
       "                    return {&quot;color&quot;: &quot;black&quot;, &quot;fillColor&quot;: &quot;#67a9cf&quot;, &quot;fillOpacity&quot;: 0.6, &quot;opacity&quot;: 1, &quot;weight&quot;: 1};\n",
       "                case &quot;\\ubd80\\uc0b0\\uc9c4\\uad6c&quot;: \n",
       "                    return {&quot;color&quot;: &quot;black&quot;, &quot;fillColor&quot;: &quot;#1c9099&quot;, &quot;fillOpacity&quot;: 0.6, &quot;opacity&quot;: 1, &quot;weight&quot;: 1};\n",
       "                case &quot;\\uae08\\uc815\\uad6c&quot;: \n",
       "                    return {&quot;color&quot;: &quot;black&quot;, &quot;fillColor&quot;: &quot;#d0d1e6&quot;, &quot;fillOpacity&quot;: 0.6, &quot;opacity&quot;: 1, &quot;weight&quot;: 1};\n",
       "                case &quot;\\uac15\\uc11c\\uad6c&quot;: case &quot;\\uae30\\uc7a5\\uad70&quot;: \n",
       "                    return {&quot;color&quot;: &quot;black&quot;, &quot;fillColor&quot;: &quot;#f6eff7&quot;, &quot;fillOpacity&quot;: 0.6, &quot;opacity&quot;: 1, &quot;weight&quot;: 1};\n",
       "                default:\n",
       "                    return {&quot;color&quot;: &quot;black&quot;, &quot;fillColor&quot;: &quot;#016c59&quot;, &quot;fillOpacity&quot;: 0.6, &quot;opacity&quot;: 1, &quot;weight&quot;: 1};\n",
       "            }\n",
       "        }\n",
       "\n",
       "        function geo_json_ba3f0502469d5791b22b947af0cb61de_onEachFeature(feature, layer) {\n",
       "            layer.on({\n",
       "            });\n",
       "        };\n",
       "        var geo_json_ba3f0502469d5791b22b947af0cb61de = L.geoJson(null, {\n",
       "                onEachFeature: geo_json_ba3f0502469d5791b22b947af0cb61de_onEachFeature,\n",
       "            \n",
       "                style: geo_json_ba3f0502469d5791b22b947af0cb61de_styler,\n",
       "        });\n",
       "\n",
       "        function geo_json_ba3f0502469d5791b22b947af0cb61de_add (data) {\n",
       "            geo_json_ba3f0502469d5791b22b947af0cb61de\n",
       "                .addData(data);\n",
       "        }\n",
       "            geo_json_ba3f0502469d5791b22b947af0cb61de_add({&quot;features&quot;: [{&quot;geometry&quot;: {&quot;coordinates&quot;: [[[129.032, 35.116], [129.038, 35.112], [129.042, 35.111], [129.041, 35.108], [129.038, 35.104], [129.038, 35.098], [129.037, 35.097], [129.029, 35.096], [129.026, 35.096], [129.024, 35.1], [129.022, 35.102], [129.021, 35.106], [129.023, 35.109], [129.024, 35.109], [129.026, 35.111], [129.028, 35.11], [129.028, 35.115], [129.032, 35.116]]], &quot;type&quot;: &quot;Polygon&quot;}, &quot;id&quot;: &quot;\\uc911\\uad6c&quot;, &quot;properties&quot;: {&quot;base_year&quot;: &quot;2013&quot;, &quot;code&quot;: &quot;21010&quot;, &quot;name&quot;: &quot;\\uc911\\uad6c&quot;, &quot;name_eng&quot;: &quot;Jung-gu&quot;}, &quot;type&quot;: &quot;Feature&quot;}, {&quot;geometry&quot;: {&quot;coordinates&quot;: [[[129.023, 35.076], [129.021, 35.078], [129.018, 35.077], [129.017, 35.074], [129.019, 35.07], [129.021, 35.07], [129.021, 35.066], [129.02, 35.065], [129.022, 35.062], [129.019, 35.059], [129.018, 35.058], [129.016, 35.057], [129.015, 35.053], [129.012, 35.052], [129.008, 35.063], [129.011, 35.063], [129.012, 35.065], [129.009, 35.066], [129.006, 35.071], [129.004, 35.078], [129.008, 35.079], [129.011, 35.077], [129.012, 35.08], [129.011, 35.083], [129.012, 35.084], [129.014, 35.091], [129.014, 35.094], [129.01, 35.099], [129.007, 35.1], [129.007, 35.101], [129.01, 35.106], [129.006, 35.109], [129.004, 35.111], [129.004, 35.113], [129.002, 35.114], [129.003, 35.117], [128.999, 35.119], [129, 35.124], [129.003, 35.125], [129.003, 35.131], [129.003, 35.134], [129.004, 35.136], [128.996, 35.14], [128.998, 35.141], [129.002, 35.141], [129.004, 35.139], [129.008, 35.14], [129.011, 35.139], [129.013, 35.137], [129.016, 35.136], [129.022, 35.137], [129.026, 35.136], [129.026, 35.133], [129.026, 35.126], [129.026, 35.125], [129.025, 35.122], [129.025, 35.118], [129.027, 35.116], [129.028, 35.112], [129.024, 35.109], [129.023, 35.109], [129.021, 35.106], [129.022, 35.102], [129.024, 35.1], [129.026, 35.096], [129.025, 35.094], [129.027, 35.085], [129.024, 35.076], [129.023, 35.076]]], &quot;type&quot;: &quot;Polygon&quot;}, &quot;id&quot;: &quot;\\uc11c\\uad6c&quot;, &quot;properties&quot;: {&quot;base_year&quot;: &quot;2013&quot;, &quot;code&quot;: &quot;21020&quot;, &quot;name&quot;: &quot;\\uc11c\\uad6c&quot;, &quot;name_eng&quot;: &quot;Seo-gu&quot;}, &quot;type&quot;: &quot;Feature&quot;}, {&quot;geometry&quot;: {&quot;coordinates&quot;: [[[129.043, 35.146], [129.046, 35.146], [129.048, 35.144], [129.052, 35.142], [129.059, 35.141], [129.065, 35.141], [129.066, 35.139], [129.065, 35.135], [129.066, 35.13], [129.065, 35.127], [129.056, 35.118], [129.053, 35.12], [129.055, 35.122], [129.056, 35.125], [129.055, 35.126], [129.05, 35.124], [129.049, 35.12], [129.054, 35.117], [129.053, 35.116], [129.048, 35.119], [129.047, 35.117], [129.051, 35.114], [129.05, 35.113], [129.045, 35.116], [129.042, 35.11], [129.038, 35.112], [129.032, 35.117], [129.027, 35.116], [129.024, 35.119], [129.026, 35.125], [129.026, 35.126], [129.026, 35.133], [129.026, 35.136], [129.032, 35.138], [129.035, 35.138], [129.039, 35.14], [129.039, 35.144], [129.041, 35.146], [129.043, 35.146]]], &quot;type&quot;: &quot;Polygon&quot;}, &quot;id&quot;: &quot;\\ub3d9\\uad6c&quot;, &quot;properties&quot;: {&quot;base_year&quot;: &quot;2013&quot;, &quot;code&quot;: &quot;21030&quot;, &quot;name&quot;: &quot;\\ub3d9\\uad6c&quot;, &quot;name_eng&quot;: &quot;Dong-gu&quot;}, &quot;type&quot;: &quot;Feature&quot;}, {&quot;geometry&quot;: {&quot;coordinates&quot;: [[[129.071, 35.059], [129.069, 35.061], [129.065, 35.061], [129.065, 35.062], [129.066, 35.066], [129.065, 35.069], [129.063, 35.07], [129.057, 35.071], [129.053, 35.072], [129.047, 35.076], [129.045, 35.078], [129.041, 35.081], [129.04, 35.081], [129.034, 35.085], [129.034, 35.089], [129.031, 35.092], [129.032, 35.094], [129.037, 35.092], [129.036, 35.095], [129.045, 35.097], [129.047, 35.096], [129.051, 35.1], [129.055, 35.101], [129.059, 35.101], [129.068, 35.096], [129.071, 35.094], [129.079, 35.085], [129.079, 35.082], [129.084, 35.074], [129.087, 35.077], [129.093, 35.08], [129.096, 35.08], [129.095, 35.077], [129.092, 35.076], [129.091, 35.074], [129.087, 35.073], [129.086, 35.074], [129.08, 35.071], [129.082, 35.07], [129.085, 35.07], [129.085, 35.066], [129.088, 35.063], [129.091, 35.061], [129.096, 35.06], [129.095, 35.057], [129.092, 35.054], [129.092, 35.051], [129.086, 35.049], [129.083, 35.05], [129.081, 35.053], [129.082, 35.056], [129.079, 35.059], [129.077, 35.061], [129.075, 35.061], [129.071, 35.059]]], &quot;type&quot;: &quot;Polygon&quot;}, &quot;id&quot;: &quot;\\uc601\\ub3c4\\uad6c&quot;, &quot;properties&quot;: {&quot;base_year&quot;: &quot;2013&quot;, &quot;code&quot;: &quot;21040&quot;, &quot;name&quot;: &quot;\\uc601\\ub3c4\\uad6c&quot;, &quot;name_eng&quot;: &quot;Youngdo-gu&quot;}, &quot;type&quot;: &quot;Feature&quot;}, {&quot;geometry&quot;: {&quot;coordinates&quot;: [[[129.065, 35.177], [129.067, 35.176], [129.07, 35.176], [129.073, 35.179], [129.075, 35.179], [129.076, 35.176], [129.079, 35.175], [129.079, 35.173], [129.082, 35.171], [129.081, 35.168], [129.079, 35.167], [129.078, 35.164], [129.081, 35.16], [129.083, 35.158], [129.082, 35.155], [129.08, 35.154], [129.079, 35.151], [129.075, 35.151], [129.067, 35.148], [129.066, 35.149], [129.063, 35.149], [129.063, 35.144], [129.065, 35.141], [129.059, 35.141], [129.052, 35.142], [129.048, 35.144], [129.046, 35.146], [129.041, 35.146], [129.039, 35.144], [129.039, 35.14], [129.035, 35.138], [129.032, 35.138], [129.026, 35.136], [129.022, 35.137], [129.016, 35.136], [129.012, 35.137], [129.016, 35.143], [129.014, 35.146], [129.016, 35.147], [129.016, 35.155], [129.011, 35.159], [129.011, 35.163], [129.013, 35.166], [129.013, 35.169], [129.011, 35.171], [129.011, 35.173], [129.013, 35.176], [129.014, 35.177], [129.017, 35.18], [129.02, 35.181], [129.021, 35.182], [129.021, 35.187], [129.026, 35.192], [129.026, 35.194], [129.029, 35.194], [129.032, 35.196], [129.034, 35.198], [129.04, 35.199], [129.044, 35.199], [129.048, 35.195], [129.048, 35.19], [129.051, 35.187], [129.051, 35.185], [129.055, 35.184], [129.06, 35.184], [129.062, 35.183], [129.062, 35.18], [129.063, 35.177], [129.065, 35.177]]], &quot;type&quot;: &quot;Polygon&quot;}, &quot;id&quot;: &quot;\\ubd80\\uc0b0\\uc9c4\\uad6c&quot;, &quot;properties&quot;: {&quot;base_year&quot;: &quot;2013&quot;, &quot;code&quot;: &quot;21050&quot;, &quot;name&quot;: &quot;\\ubd80\\uc0b0\\uc9c4\\uad6c&quot;, &quot;name_eng&quot;: &quot;Busanjin-gu&quot;}, &quot;type&quot;: &quot;Feature&quot;}, {&quot;geometry&quot;: {&quot;coordinates&quot;: [[[129.083, 35.224], [129.085, 35.222], [129.087, 35.222], [129.086, 35.219], [129.088, 35.218], [129.094, 35.215], [129.095, 35.215], [129.101, 35.213], [129.102, 35.211], [129.106, 35.21], [129.107, 35.211], [129.11, 35.21], [129.111, 35.204], [129.116, 35.201], [129.115, 35.198], [129.114, 35.194], [129.115, 35.188], [129.115, 35.187], [129.115, 35.184], [129.114, 35.184], [129.112, 35.189], [129.108, 35.19], [129.106, 35.19], [129.1, 35.191], [129.097, 35.193], [129.093, 35.193], [129.087, 35.194], [129.084, 35.195], [129.082, 35.198], [129.078, 35.199], [129.074, 35.198], [129.072, 35.195], [129.064, 35.194], [129.062, 35.192], [129.057, 35.193], [129.056, 35.192], [129.053, 35.192], [129.048, 35.195], [129.044, 35.199], [129.044, 35.202], [129.047, 35.202], [129.047, 35.204], [129.05, 35.207], [129.051, 35.209], [129.051, 35.213], [129.053, 35.216], [129.056, 35.218], [129.059, 35.225], [129.062, 35.226], [129.068, 35.225], [129.074, 35.225], [129.078, 35.226], [129.081, 35.223], [129.083, 35.224]]], &quot;type&quot;: &quot;Polygon&quot;}, &quot;id&quot;: &quot;\\ub3d9\\ub798\\uad6c&quot;, &quot;properties&quot;: {&quot;base_year&quot;: &quot;2013&quot;, &quot;code&quot;: &quot;21060&quot;, &quot;name&quot;: &quot;\\ub3d9\\ub798\\uad6c&quot;, &quot;name_eng&quot;: &quot;Dongnae-gu&quot;}, &quot;type&quot;: &quot;Feature&quot;}, {&quot;geometry&quot;: {&quot;coordinates&quot;: [[[129.111, 35.136], [129.11, 35.134], [129.113, 35.133], [129.116, 35.133], [129.115, 35.131], [129.117, 35.13], [129.121, 35.134], [129.122, 35.132], [129.121, 35.13], [129.123, 35.126], [129.128, 35.119], [129.127, 35.113], [129.128, 35.111], [129.125, 35.106], [129.124, 35.102], [129.123, 35.099], [129.119, 35.099], [129.116, 35.1], [129.113, 35.103], [129.11, 35.101], [129.107, 35.103], [129.105, 35.099], [129.1, 35.099], [129.099, 35.097], [129.096, 35.097], [129.095, 35.099], [129.094, 35.107], [129.093, 35.109], [129.09, 35.109], [129.09, 35.104], [129.075, 35.104], [129.067, 35.108], [129.07, 35.111], [129.068, 35.112], [129.072, 35.116], [129.074, 35.117], [129.072, 35.119], [129.073, 35.122], [129.07, 35.123], [129.069, 35.122], [129.066, 35.123], [129.067, 35.126], [129.066, 35.14], [129.063, 35.143], [129.063, 35.149], [129.066, 35.149], [129.067, 35.148], [129.075, 35.151], [129.079, 35.151], [129.08, 35.154], [129.082, 35.155], [129.082, 35.157], [129.089, 35.161], [129.093, 35.16], [129.095, 35.161], [129.099, 35.155], [129.101, 35.152], [129.102, 35.149], [129.103, 35.144], [129.102, 35.143], [129.106, 35.139], [129.111, 35.136]]], &quot;type&quot;: &quot;Polygon&quot;}, &quot;id&quot;: &quot;\\ub0a8\\uad6c&quot;, &quot;properties&quot;: {&quot;base_year&quot;: &quot;2013&quot;, &quot;code&quot;: &quot;21070&quot;, &quot;name&quot;: &quot;\\ub0a8\\uad6c&quot;, &quot;name_eng&quot;: &quot;Nam-gu&quot;}, &quot;type&quot;: &quot;Feature&quot;}, {&quot;geometry&quot;: {&quot;coordinates&quot;: [[[129.047, 35.274], [129.046, 35.271], [129.044, 35.27], [129.042, 35.263], [129.038, 35.262], [129.037, 35.261], [129.04, 35.259], [129.042, 35.257], [129.047, 35.257], [129.049, 35.255], [129.045, 35.251], [129.046, 35.249], [129.046, 35.247], [129.048, 35.246], [129.049, 35.245], [129.05, 35.241], [129.049, 35.239], [129.047, 35.238], [129.047, 35.235], [129.044, 35.233], [129.044, 35.231], [129.047, 35.23], [129.049, 35.229], [129.056, 35.228], [129.06, 35.23], [129.062, 35.226], [129.059, 35.225], [129.056, 35.218], [129.053, 35.216], [129.051, 35.213], [129.051, 35.209], [129.05, 35.207], [129.047, 35.204], [129.047, 35.202], [129.044, 35.202], [129.044, 35.199], [129.04, 35.199], [129.034, 35.198], [129.032, 35.196], [129.029, 35.194], [129.026, 35.194], [129.026, 35.192], [129.021, 35.188], [129.017, 35.189], [129.011, 35.189], [129.008, 35.188], [129.004, 35.19], [129, 35.19], [129, 35.192], [128.991, 35.196], [128.988, 35.196], [128.989, 35.2], [128.987, 35.202], [128.991, 35.204], [128.994, 35.208], [128.995, 35.213], [128.997, 35.225], [128.998, 35.233], [128.997, 35.236], [128.999, 35.238], [129.002, 35.245], [129.006, 35.252], [129.012, 35.263], [129.015, 35.271], [129.013, 35.274], [129.017, 35.275], [129.027, 35.277], [129.031, 35.277], [129.035, 35.276], [129.036, 35.275], [129.047, 35.274]]], &quot;type&quot;: &quot;Polygon&quot;}, &quot;id&quot;: &quot;\\ubd81\\uad6c&quot;, &quot;properties&quot;: {&quot;base_year&quot;: &quot;2013&quot;, &quot;code&quot;: &quot;21080&quot;, &quot;name&quot;: &quot;\\ubd81\\uad6c&quot;, &quot;name_eng&quot;: &quot;Buk-gu&quot;}, &quot;type&quot;: &quot;Feature&quot;}, {&quot;geometry&quot;: {&quot;coordinates&quot;: [[[129.127, 35.166], [129.125, 35.167], [129.125, 35.168], [129.124, 35.17], [129.123, 35.171], [129.123, 35.172], [129.121, 35.173], [129.121, 35.174], [129.118, 35.18], [129.118, 35.181], [129.115, 35.187], [129.115, 35.188], [129.114, 35.194], [129.115, 35.198], [129.116, 35.201], [129.111, 35.204], [129.11, 35.21], [129.112, 35.213], [129.116, 35.213], [129.119, 35.216], [129.117, 35.222], [129.118, 35.224], [129.121, 35.226], [129.127, 35.227], [129.13, 35.231], [129.13, 35.233], [129.131, 35.235], [129.137, 35.238], [129.142, 35.242], [129.141, 35.244], [129.144, 35.247], [129.145, 35.251], [129.149, 35.247], [129.149, 35.246], [129.156, 35.244], [129.157, 35.243], [129.155, 35.239], [129.155, 35.236], [129.161, 35.234], [129.164, 35.231], [129.167, 35.23], [129.169, 35.228], [129.169, 35.225], [129.165, 35.22], [129.165, 35.215], [129.16, 35.212], [129.16, 35.21], [129.16, 35.206], [129.163, 35.206], [129.165, 35.203], [129.17, 35.201], [129.172, 35.202], [129.176, 35.201], [129.179, 35.198], [129.183, 35.198], [129.185, 35.195], [129.183, 35.191], [129.185, 35.19], [129.188, 35.189], [129.191, 35.192], [129.193, 35.194], [129.195, 35.199], [129.199, 35.2], [129.207, 35.197], [129.207, 35.195], [129.206, 35.191], [129.207, 35.185], [129.208, 35.183], [129.205, 35.181], [129.201, 35.18], [129.197, 35.176], [129.198, 35.173], [129.196, 35.164], [129.194, 35.161], [129.187, 35.159], [129.183, 35.156], [129.181, 35.155], [129.177, 35.155], [129.174, 35.157], [129.17, 35.159], [129.166, 35.16], [129.159, 35.159], [129.155, 35.157], [129.153, 35.152], [129.15, 35.153], [129.151, 35.156], [129.149, 35.157], [129.146, 35.153], [129.143, 35.154], [129.141, 35.157], [129.142, 35.159], [129.139, 35.161], [129.137, 35.16], [129.134, 35.162], [129.128, 35.166], [129.127, 35.166]]], &quot;type&quot;: &quot;Polygon&quot;}, &quot;id&quot;: &quot;\\ud574\\uc6b4\\ub300\\uad6c&quot;, &quot;properties&quot;: {&quot;base_year&quot;: &quot;2013&quot;, &quot;code&quot;: &quot;21090&quot;, &quot;name&quot;: &quot;\\ud574\\uc6b4\\ub300\\uad6c&quot;, &quot;name_eng&quot;: &quot;Haeundae-gu&quot;}, &quot;type&quot;: &quot;Feature&quot;}, {&quot;geometry&quot;: {&quot;coordinates&quot;: [[[128.959, 35.118], [128.962, 35.12], [128.964, 35.122], [128.972, 35.119], [128.976, 35.117], [128.98, 35.117], [128.982, 35.12], [128.987, 35.124], [128.99, 35.125], [129, 35.123], [128.999, 35.119], [129.003, 35.117], [129.002, 35.114], [129.004, 35.113], [129.004, 35.111], [129.006, 35.109], [129.01, 35.106], [129.007, 35.101], [129.007, 35.1], [129.01, 35.099], [129.014, 35.094], [129.014, 35.091], [129.012, 35.084], [129.011, 35.083], [129.012, 35.08], [129.011, 35.077], [129.008, 35.079], [129.004, 35.078], [129.004, 35.081], [129.005, 35.084], [129.003, 35.085], [128.997, 35.083], [128.993, 35.084], [128.993, 35.08], [128.995, 35.076], [128.994, 35.074], [128.995, 35.071], [128.995, 35.063], [129.001, 35.048], [128.995, 35.045], [128.992, 35.045], [128.993, 35.049], [128.988, 35.058], [128.985, 35.06], [128.978, 35.057], [128.977, 35.056], [128.975, 35.057], [128.973, 35.057], [128.972, 35.054], [128.976, 35.053], [128.98, 35.053], [128.983, 35.052], [128.982, 35.049], [128.976, 35.048], [128.972, 35.049], [128.97, 35.047], [128.969, 35.045], [128.974, 35.042], [128.969, 35.037], [128.968, 35.037], [128.966, 35.034], [128.964, 35.034], [128.964, 35.037], [128.967, 35.04], [128.968, 35.043], [128.969, 35.045], [128.967, 35.048], [128.958, 35.051], [128.958, 35.053], [128.951, 35.08], [128.951, 35.082], [128.951, 35.085], [128.955, 35.092], [128.955, 35.095], [128.956, 35.106], [128.956, 35.107], [128.951, 35.107], [128.949, 35.107], [128.947, 35.102], [128.947, 35.099], [128.944, 35.088], [128.938, 35.089], [128.936, 35.086], [128.934, 35.087], [128.934, 35.093], [128.935, 35.097], [128.937, 35.101], [128.936, 35.105], [128.939, 35.109], [128.935, 35.11], [128.935, 35.112], [128.938, 35.114], [128.942, 35.119], [128.945, 35.121], [128.948, 35.123], [128.951, 35.129], [128.957, 35.135], [128.959, 35.137], [128.962, 35.135], [128.961, 35.131], [128.959, 35.128], [128.957, 35.124], [128.958, 35.119], [128.959, 35.118]]], &quot;type&quot;: &quot;Polygon&quot;}, &quot;id&quot;: &quot;\\uc0ac\\ud558\\uad6c&quot;, &quot;properties&quot;: {&quot;base_year&quot;: &quot;2013&quot;, &quot;code&quot;: &quot;21100&quot;, &quot;name&quot;: &quot;\\uc0ac\\ud558\\uad6c&quot;, &quot;name_eng&quot;: &quot;Saha-gu&quot;}, &quot;type&quot;: &quot;Feature&quot;}, {&quot;geometry&quot;: {&quot;coordinates&quot;: [[[129.109, 35.305], [129.114, 35.303], [129.116, 35.302], [129.121, 35.302], [129.123, 35.301], [129.13, 35.298], [129.131, 35.293], [129.132, 35.292], [129.128, 35.289], [129.126, 35.283], [129.124, 35.281], [129.126, 35.278], [129.125, 35.274], [129.122, 35.271], [129.121, 35.267], [129.121, 35.264], [129.123, 35.262], [129.126, 35.262], [129.129, 35.26], [129.133, 35.261], [129.134, 35.259], [129.138, 35.261], [129.14, 35.26], [129.138, 35.254], [129.142, 35.251], [129.145, 35.251], [129.144, 35.247], [129.141, 35.244], [129.142, 35.242], [129.137, 35.238], [129.131, 35.235], [129.13, 35.233], [129.13, 35.231], [129.127, 35.227], [129.121, 35.226], [129.118, 35.224], [129.117, 35.222], [129.119, 35.216], [129.116, 35.213], [129.112, 35.213], [129.11, 35.21], [129.107, 35.211], [129.106, 35.21], [129.102, 35.211], [129.101, 35.213], [129.095, 35.215], [129.094, 35.215], [129.088, 35.218], [129.086, 35.219], [129.087, 35.222], [129.085, 35.222], [129.083, 35.224], [129.081, 35.223], [129.078, 35.226], [129.074, 35.225], [129.068, 35.225], [129.062, 35.226], [129.06, 35.23], [129.056, 35.228], [129.049, 35.229], [129.047, 35.23], [129.044, 35.231], [129.044, 35.233], [129.047, 35.235], [129.047, 35.238], [129.049, 35.239], [129.05, 35.241], [129.049, 35.245], [129.048, 35.246], [129.046, 35.247], [129.046, 35.249], [129.045, 35.251], [129.049, 35.255], [129.047, 35.257], [129.042, 35.257], [129.04, 35.259], [129.037, 35.261], [129.038, 35.262], [129.042, 35.263], [129.044, 35.27], [129.046, 35.271], [129.047, 35.274], [129.047, 35.276], [129.051, 35.28], [129.053, 35.281], [129.054, 35.283], [129.052, 35.286], [129.053, 35.289], [129.056, 35.292], [129.058, 35.295], [129.059, 35.295], [129.071, 35.295], [129.074, 35.291], [129.075, 35.291], [129.081, 35.296], [129.085, 35.3], [129.086, 35.302], [129.091, 35.303], [129.093, 35.303], [129.099, 35.304], [129.106, 35.306], [129.109, 35.305]]], &quot;type&quot;: &quot;Polygon&quot;}, &quot;id&quot;: &quot;\\uae08\\uc815\\uad6c&quot;, &quot;properties&quot;: {&quot;base_year&quot;: &quot;2013&quot;, &quot;code&quot;: &quot;21110&quot;, &quot;name&quot;: &quot;\\uae08\\uc815\\uad6c&quot;, &quot;name_eng&quot;: &quot;Geumjeong-gu&quot;}, &quot;type&quot;: &quot;Feature&quot;}, {&quot;geometry&quot;: {&quot;coordinates&quot;: [[[128.829, 35.09], [128.832, 35.087], [128.835, 35.086], [128.835, 35.063], [128.833, 35.061], [128.833, 35.058], [128.834, 35.056], [128.838, 35.053], [128.842, 35.054], [128.846, 35.056], [128.851, 35.05], [128.85, 35.047], [128.85, 35.043], [128.851, 35.042], [128.849, 35.037], [128.848, 35.036], [128.844, 35.033], [128.842, 35.029], [128.843, 35.028], [128.843, 35.024], [128.838, 35.02], [128.835, 35.016], [128.834, 35.012], [128.837, 35.009], [128.84, 35.008], [128.841, 35.005], [128.839, 35.003], [128.837, 35], [128.839, 34.998], [128.836, 34.997], [128.833, 34.993], [128.829, 34.989], [128.828, 34.99], [128.83, 34.993], [128.83, 34.996], [128.825, 34.996], [128.824, 34.995], [128.822, 34.997], [128.822, 35.002], [128.82, 35.002], [128.82, 35.004], [128.823, 35.005], [128.824, 35.007], [128.821, 35.009], [128.827, 35.011], [128.827, 35.014], [128.824, 35.017], [128.821, 35.017], [128.817, 35.019], [128.813, 35.02], [128.811, 35.022], [128.806, 35.021], [128.808, 35.024], [128.812, 35.023], [128.815, 35.025], [128.816, 35.028], [128.813, 35.03], [128.81, 35.03], [128.808, 35.031], [128.809, 35.034], [128.811, 35.033], [128.813, 35.038], [128.812, 35.041], [128.807, 35.044], [128.805, 35.048], [128.8, 35.048], [128.798, 35.051], [128.797, 35.054], [128.801, 35.055], [128.805, 35.056], [128.808, 35.059], [128.812, 35.06], [128.819, 35.06], [128.822, 35.061], [128.824, 35.064], [128.821, 35.064], [128.806, 35.061], [128.805, 35.067], [128.832, 35.071], [128.832, 35.075], [128.835, 35.075], [128.835, 35.078], [128.812, 35.078], [128.812, 35.083], [128.819, 35.083], [128.819, 35.084], [128.822, 35.084], [128.822, 35.086], [128.826, 35.086], [128.826, 35.088], [128.829, 35.09], [128.836, 35.103], [128.838, 35.104], [128.842, 35.106], [128.843, 35.109], [128.843, 35.113], [128.842, 35.115], [128.838, 35.115], [128.837, 35.118], [128.836, 35.12], [128.838, 35.123], [128.835, 35.126], [128.835, 35.129], [128.833, 35.13], [128.83, 35.128], [128.827, 35.128], [128.827, 35.13], [128.818, 35.132], [128.815, 35.133], [128.811, 35.137], [128.807, 35.139], [128.807, 35.142], [128.802, 35.142], [128.802, 35.146], [128.798, 35.151], [128.794, 35.154], [128.795, 35.159], [128.797, 35.159], [128.801, 35.158], [128.802, 35.159], [128.806, 35.16], [128.809, 35.159], [128.812, 35.16], [128.813, 35.159], [128.816, 35.16], [128.822, 35.157], [128.823, 35.156], [128.828, 35.156], [128.828, 35.157], [128.834, 35.157], [128.836, 35.159], [128.841, 35.159], [128.843, 35.158], [128.844, 35.16], [128.844, 35.162], [128.846, 35.165], [128.852, 35.166], [128.858, 35.167], [128.86, 35.168], [128.865, 35.167], [128.867, 35.168], [128.872, 35.165], [128.872, 35.163], [128.87, 35.159], [128.867, 35.16], [128.865, 35.158], [128.872, 35.15], [128.877, 35.151], [128.875, 35.154], [128.875, 35.157], [128.875, 35.159], [128.881, 35.16], [128.882, 35.162], [128.879, 35.162], [128.878, 35.164], [128.876, 35.166], [128.877, 35.17], [128.872, 35.172], [128.873, 35.174], [128.88, 35.172], [128.88, 35.18], [128.881, 35.183], [128.876, 35.188], [128.876, 35.193], [128.87, 35.202], [128.874, 35.204], [128.879, 35.21], [128.882, 35.21], [128.886, 35.214], [128.889, 35.215], [128.897, 35.213], [128.905, 35.215], [128.91, 35.215], [128.905, 35.22], [128.909, 35.223], [128.913, 35.223], [128.917, 35.217], [128.92, 35.216], [128.929, 35.22], [128.935, 35.224], [128.937, 35.225], [128.94, 35.227], [128.944, 35.228], [128.949, 35.225], [128.957, 35.225], [128.967, 35.227], [128.974, 35.227], [128.984, 35.23], [128.99, 35.232], [128.994, 35.234], [128.997, 35.236], [128.998, 35.233], [128.997, 35.225], [128.995, 35.213], [128.994, 35.208], [128.991, 35.204], [128.982, 35.197], [128.977, 35.193], [128.97, 35.191], [128.966, 35.188], [128.963, 35.184], [128.963, 35.164], [128.961, 35.154], [128.96, 35.146], [128.96, 35.14], [128.96, 35.137], [128.957, 35.135], [128.951, 35.129], [128.948, 35.123], [128.945, 35.121], [128.942, 35.119], [128.938, 35.114], [128.933, 35.111], [128.933, 35.108], [128.931, 35.105], [128.93, 35.102], [128.931, 35.098], [128.93, 35.095], [128.926, 35.095], [128.926, 35.093], [128.916, 35.089], [128.912, 35.086], [128.912, 35.08], [128.911, 35.079], [128.895, 35.079], [128.895, 35.086], [128.898, 35.095], [128.9, 35.104], [128.901, 35.111], [128.902, 35.114], [128.905, 35.116], [128.906, 35.118], [128.898, 35.12], [128.894, 35.115], [128.893, 35.112], [128.889, 35.108], [128.888, 35.09], [128.883, 35.082], [128.884, 35.08], [128.88, 35.08], [128.87, 35.081], [128.868, 35.083], [128.838, 35.083], [128.835, 35.088], [128.832, 35.088], [128.825, 35.095], [128.825, 35.096], [128.822, 35.098], [128.823, 35.102], [128.825, 35.102], [128.832, 35.103], [128.834, 35.102], [128.836, 35.103]]], &quot;type&quot;: &quot;Polygon&quot;}, &quot;id&quot;: &quot;\\uac15\\uc11c\\uad6c&quot;, &quot;properties&quot;: {&quot;base_year&quot;: &quot;2013&quot;, &quot;code&quot;: &quot;21120&quot;, &quot;name&quot;: &quot;\\uac15\\uc11c\\uad6c&quot;, &quot;name_eng&quot;: &quot;Gangseo-gu&quot;}, &quot;type&quot;: &quot;Feature&quot;}, {&quot;geometry&quot;: {&quot;coordinates&quot;: [[[129.067, 35.176], [129.065, 35.177], [129.063, 35.177], [129.062, 35.18], [129.062, 35.183], [129.06, 35.184], [129.055, 35.184], [129.051, 35.185], [129.051, 35.187], [129.048, 35.19], [129.048, 35.195], [129.053, 35.192], [129.056, 35.192], [129.057, 35.193], [129.062, 35.192], [129.064, 35.194], [129.072, 35.195], [129.074, 35.198], [129.078, 35.199], [129.082, 35.198], [129.084, 35.195], [129.087, 35.194], [129.093, 35.193], [129.097, 35.193], [129.1, 35.191], [129.106, 35.19], [129.108, 35.19], [129.112, 35.189], [129.114, 35.184], [129.115, 35.184], [129.111, 35.176], [129.107, 35.178], [129.106, 35.18], [129.104, 35.181], [129.102, 35.18], [129.097, 35.179], [129.097, 35.177], [129.096, 35.173], [129.097, 35.172], [129.095, 35.168], [129.092, 35.165], [129.094, 35.162], [129.093, 35.16], [129.089, 35.161], [129.086, 35.159], [129.083, 35.158], [129.081, 35.16], [129.078, 35.164], [129.079, 35.167], [129.081, 35.168], [129.082, 35.171], [129.079, 35.173], [129.079, 35.175], [129.076, 35.176], [129.075, 35.179], [129.073, 35.179], [129.07, 35.176], [129.067, 35.176]]], &quot;type&quot;: &quot;Polygon&quot;}, &quot;id&quot;: &quot;\\uc5f0\\uc81c\\uad6c&quot;, &quot;properties&quot;: {&quot;base_year&quot;: &quot;2013&quot;, &quot;code&quot;: &quot;21130&quot;, &quot;name&quot;: &quot;\\uc5f0\\uc81c\\uad6c&quot;, &quot;name_eng&quot;: &quot;Yoenje-gu&quot;}, &quot;type&quot;: &quot;Feature&quot;}, {&quot;geometry&quot;: {&quot;coordinates&quot;: [[[129.121, 35.174], [129.121, 35.173], [129.123, 35.172], [129.123, 35.171], [129.124, 35.17], [129.125, 35.168], [129.125, 35.167], [129.127, 35.166], [129.129, 35.164], [129.135, 35.157], [129.134, 35.155], [129.124, 35.153], [129.124, 35.156], [129.12, 35.154], [129.114, 35.147], [129.118, 35.146], [129.118, 35.14], [129.116, 35.139], [129.111, 35.136], [129.106, 35.139], [129.102, 35.143], [129.103, 35.144], [129.102, 35.149], [129.101, 35.152], [129.099, 35.155], [129.095, 35.161], [129.094, 35.162], [129.092, 35.165], [129.095, 35.168], [129.097, 35.172], [129.096, 35.173], [129.097, 35.177], [129.097, 35.179], [129.102, 35.18], [129.104, 35.181], [129.106, 35.18], [129.107, 35.178], [129.111, 35.176], [129.115, 35.184], [129.115, 35.187], [129.118, 35.181], [129.118, 35.18], [129.121, 35.174]]], &quot;type&quot;: &quot;Polygon&quot;}, &quot;id&quot;: &quot;\\uc218\\uc601\\uad6c&quot;, &quot;properties&quot;: {&quot;base_year&quot;: &quot;2013&quot;, &quot;code&quot;: &quot;21140&quot;, &quot;name&quot;: &quot;\\uc218\\uc601\\uad6c&quot;, &quot;name_eng&quot;: &quot;Suyeong-gu&quot;}, &quot;type&quot;: &quot;Feature&quot;}, {&quot;geometry&quot;: {&quot;coordinates&quot;: [[[128.991, 35.194], [128.995, 35.194], [129, 35.192], [129, 35.19], [129.004, 35.19], [129.008, 35.188], [129.011, 35.189], [129.017, 35.189], [129.021, 35.188], [129.021, 35.182], [129.02, 35.181], [129.017, 35.18], [129.014, 35.177], [129.013, 35.176], [129.011, 35.173], [129.011, 35.171], [129.013, 35.169], [129.013, 35.166], [129.011, 35.163], [129.011, 35.159], [129.016, 35.155], [129.016, 35.147], [129.014, 35.146], [129.016, 35.143], [129.012, 35.137], [129.011, 35.139], [129.008, 35.14], [129.004, 35.139], [129.002, 35.141], [128.998, 35.141], [128.996, 35.14], [129.004, 35.136], [129.003, 35.134], [129.003, 35.131], [129.003, 35.125], [129, 35.123], [128.99, 35.125], [128.987, 35.124], [128.982, 35.12], [128.98, 35.117], [128.976, 35.117], [128.972, 35.119], [128.964, 35.122], [128.962, 35.12], [128.958, 35.119], [128.957, 35.124], [128.959, 35.128], [128.961, 35.131], [128.962, 35.135], [128.96, 35.137], [128.96, 35.14], [128.96, 35.146], [128.961, 35.154], [128.963, 35.164], [128.963, 35.184], [128.966, 35.188], [128.97, 35.191], [128.977, 35.193], [128.982, 35.197], [128.988, 35.201], [128.989, 35.2], [128.988, 35.196], [128.991, 35.196], [128.991, 35.194]]], &quot;type&quot;: &quot;Polygon&quot;}, &quot;id&quot;: &quot;\\uc0ac\\uc0c1\\uad6c&quot;, &quot;properties&quot;: {&quot;base_year&quot;: &quot;2013&quot;, &quot;code&quot;: &quot;21150&quot;, &quot;name&quot;: &quot;\\uc0ac\\uc0c1\\uad6c&quot;, &quot;name_eng&quot;: &quot;Sasang-gu&quot;}, &quot;type&quot;: &quot;Feature&quot;}, {&quot;geometry&quot;: {&quot;coordinates&quot;: [[[129.288, 35.321], [129.288, 35.323], [129.285, 35.324], [129.285, 35.326], [129.282, 35.327], [129.278, 35.326], [129.274, 35.323], [129.268, 35.322], [129.264, 35.319], [129.262, 35.315], [129.262, 35.314], [129.261, 35.31], [129.258, 35.306], [129.261, 35.297], [129.261, 35.294], [129.26, 35.291], [129.257, 35.289], [129.259, 35.287], [129.26, 35.283], [129.257, 35.282], [129.256, 35.281], [129.255, 35.275], [129.253, 35.272], [129.247, 35.272], [129.246, 35.272], [129.244, 35.27], [129.244, 35.268], [129.243, 35.266], [129.24, 35.265], [129.236, 35.265], [129.234, 35.263], [129.234, 35.261], [129.235, 35.258], [129.239, 35.257], [129.242, 35.259], [129.245, 35.26], [129.245, 35.258], [129.249, 35.26], [129.252, 35.259], [129.251, 35.256], [129.252, 35.252], [129.252, 35.251], [129.253, 35.247], [129.25, 35.244], [129.248, 35.246], [129.245, 35.244], [129.247, 35.242], [129.248, 35.239], [129.243, 35.237], [129.245, 35.234], [129.244, 35.232], [129.242, 35.229], [129.241, 35.229], [129.24, 35.227], [129.24, 35.225], [129.239, 35.223], [129.236, 35.22], [129.231, 35.22], [129.23, 35.224], [129.227, 35.223], [129.229, 35.218], [129.225, 35.216], [129.225, 35.215], [129.222, 35.213], [129.223, 35.21], [129.226, 35.207], [129.229, 35.204], [129.23, 35.201], [129.23, 35.198], [129.227, 35.196], [129.226, 35.197], [129.225, 35.193], [129.223, 35.19], [129.224, 35.186], [129.219, 35.184], [129.217, 35.187], [129.213, 35.186], [129.212, 35.183], [129.208, 35.183], [129.207, 35.185], [129.206, 35.191], [129.207, 35.195], [129.207, 35.197], [129.199, 35.2], [129.195, 35.199], [129.193, 35.194], [129.191, 35.192], [129.188, 35.189], [129.185, 35.19], [129.183, 35.191], [129.185, 35.195], [129.183, 35.198], [129.179, 35.198], [129.176, 35.201], [129.172, 35.202], [129.17, 35.201], [129.165, 35.203], [129.163, 35.206], [129.16, 35.206], [129.16, 35.21], [129.16, 35.212], [129.165, 35.215], [129.165, 35.22], [129.169, 35.225], [129.169, 35.228], [129.167, 35.23], [129.164, 35.231], [129.161, 35.234], [129.155, 35.236], [129.155, 35.239], [129.157, 35.243], [129.156, 35.244], [129.149, 35.246], [129.147, 35.249], [129.142, 35.251], [129.138, 35.254], [129.14, 35.26], [129.138, 35.261], [129.134, 35.259], [129.133, 35.261], [129.129, 35.26], [129.126, 35.262], [129.123, 35.262], [129.121, 35.264], [129.121, 35.267], [129.122, 35.271], [129.125, 35.274], [129.126, 35.278], [129.124, 35.281], [129.126, 35.283], [129.128, 35.289], [129.132, 35.292], [129.131, 35.293], [129.13, 35.298], [129.123, 35.301], [129.121, 35.302], [129.116, 35.302], [129.114, 35.303], [129.109, 35.305], [129.111, 35.308], [129.112, 35.31], [129.112, 35.315], [129.112, 35.317], [129.114, 35.32], [129.119, 35.323], [129.121, 35.329], [129.125, 35.331], [129.126, 35.333], [129.124, 35.338], [129.126, 35.34], [129.127, 35.342], [129.128, 35.344], [129.127, 35.346], [129.131, 35.349], [129.134, 35.35], [129.135, 35.353], [129.133, 35.356], [129.131, 35.359], [129.129, 35.36], [129.127, 35.362], [129.123, 35.363], [129.122, 35.364], [129.121, 35.367], [129.124, 35.368], [129.128, 35.368], [129.131, 35.366], [129.134, 35.366], [129.139, 35.366], [129.14, 35.365], [129.149, 35.364], [129.159, 35.36], [129.163, 35.357], [129.166, 35.355], [129.169, 35.354], [129.17, 35.354], [129.174, 35.352], [129.178, 35.352], [129.182, 35.355], [129.186, 35.359], [129.19, 35.36], [129.193, 35.361], [129.194, 35.363], [129.199, 35.366], [129.198, 35.371], [129.199, 35.376], [129.197, 35.378], [129.194, 35.382], [129.199, 35.389], [129.204, 35.386], [129.205, 35.384], [129.212, 35.381], [129.215, 35.38], [129.219, 35.379], [129.225, 35.38], [129.23, 35.381], [129.235, 35.38], [129.237, 35.384], [129.24, 35.384], [129.242, 35.383], [129.245, 35.384], [129.247, 35.383], [129.251, 35.385], [129.251, 35.387], [129.253, 35.387], [129.256, 35.385], [129.258, 35.384], [129.263, 35.386], [129.266, 35.387], [129.266, 35.384], [129.268, 35.381], [129.272, 35.377], [129.273, 35.375], [129.277, 35.371], [129.279, 35.366], [129.283, 35.365], [129.282, 35.364], [129.281, 35.356], [129.284, 35.353], [129.285, 35.351], [129.283, 35.349], [129.284, 35.346], [129.28, 35.341], [129.286, 35.339], [129.289, 35.34], [129.291, 35.338], [129.294, 35.338], [129.296, 35.336], [129.304, 35.336], [129.302, 35.334], [129.305, 35.33], [129.306, 35.325], [129.304, 35.322], [129.3, 35.322], [129.299, 35.319], [129.289, 35.319], [129.288, 35.321]]], &quot;type&quot;: &quot;Polygon&quot;}, &quot;id&quot;: &quot;\\uae30\\uc7a5\\uad70&quot;, &quot;properties&quot;: {&quot;base_year&quot;: &quot;2013&quot;, &quot;code&quot;: &quot;21310&quot;, &quot;name&quot;: &quot;\\uae30\\uc7a5\\uad70&quot;, &quot;name_eng&quot;: &quot;Gijang-gun&quot;}, &quot;type&quot;: &quot;Feature&quot;}], &quot;type&quot;: &quot;FeatureCollection&quot;});\n",
       "\n",
       "        \n",
       "    \n",
       "            geo_json_ba3f0502469d5791b22b947af0cb61de.addTo(choropleth_1c302de0033ce0aaecf121b9f999f8fb);\n",
       "        \n",
       "    \n",
       "    var color_map_2aa369454b9a6ef5989eb0c2675e8de0 = {};\n",
       "\n",
       "    \n",
       "    color_map_2aa369454b9a6ef5989eb0c2675e8de0.color = d3.scale.threshold()\n",
       "              .domain([708.0, 741.5230460921844, 775.0460921843687, 808.5691382765531, 842.0921843687374, 875.6152304609218, 909.1382765531062, 942.6613226452905, 976.1843687374749, 1009.7074148296593, 1043.2304609218436, 1076.753507014028, 1110.2765531062123, 1143.7995991983967, 1177.322645290581, 1210.8456913827656, 1244.3687374749497, 1277.891783567134, 1311.4148296593187, 1344.937875751503, 1378.4609218436874, 1411.9839679358718, 1445.5070140280561, 1479.0300601202405, 1512.5531062124248, 1546.0761523046092, 1579.5991983967936, 1613.122244488978, 1646.6452905811623, 1680.1683366733469, 1713.6913827655312, 1747.2144288577153, 1780.7374749498997, 1814.260521042084, 1847.7835671342684, 1881.306613226453, 1914.8296593186374, 1948.3527054108217, 1981.875751503006, 2015.3987975951904, 2048.921843687375, 2082.444889779559, 2115.9679358717435, 2149.490981963928, 2183.0140280561122, 2216.5370741482966, 2250.060120240481, 2283.5831663326653, 2317.1062124248497, 2350.629258517034, 2384.1523046092184, 2417.6753507014027, 2451.198396793587, 2484.7214428857715, 2518.244488977956, 2551.76753507014, 2585.2905811623245, 2618.813627254509, 2652.3366733466937, 2685.8597194388776, 2719.3827655310624, 2752.9058116232463, 2786.4288577154307, 2819.951903807615, 2853.4749498997994, 2886.9979959919838, 2920.521042084168, 2954.0440881763525, 2987.567134268537, 3021.0901803607217, 3054.613226452906, 3088.1362725450904, 3121.6593186372747, 3155.182364729459, 3188.7054108216435, 3222.228456913828, 3255.751503006012, 3289.2745490981965, 3322.797595190381, 3356.3206412825652, 3389.8436873747496, 3423.366733466934, 3456.8897795591183, 3490.4128256513027, 3523.935871743487, 3557.4589178356714, 3590.9819639278558, 3624.50501002004, 3658.0280561122245, 3691.551102204409, 3725.074148296593, 3758.5971943887776, 3792.120240480962, 3825.6432865731463, 3859.1663326653306, 3892.689378757515, 3926.2124248496993, 3959.7354709418837, 3993.258517034068, 4026.7815631262524, 4060.304609218437, 4093.827655310621, 4127.3507014028055, 4160.87374749499, 4194.396793587174, 4227.919839679358, 4261.442885771543, 4294.965931863728, 4328.488977955912, 4362.012024048096, 4395.53507014028, 4429.058116232465, 4462.581162324649, 4496.104208416833, 4529.627254509018, 4563.150300601203, 4596.673346693387, 4630.196392785571, 4663.719438877755, 4697.24248496994, 4730.765531062125, 4764.288577154309, 4797.811623246493, 4831.3346693386775, 4864.857715430861, 4898.380761523046, 4931.90380761523, 4965.426853707415, 4998.949899799599, 5032.472945891784, 5065.9959919839675, 5099.519038076152, 5133.042084168336, 5166.565130260521, 5200.088176352705, 5233.61122244489, 5267.134268537074, 5300.6573146292585, 5334.180360721443, 5367.703406813627, 5401.226452905812, 5434.749498997996, 5468.272545090181, 5501.795591182365, 5535.3186372745495, 5568.841683366733, 5602.364729458918, 5635.887775551102, 5669.410821643287, 5702.933867735471, 5736.456913827656, 5769.9799599198395, 5803.503006012024, 5837.026052104208, 5870.549098196393, 5904.072144288577, 5937.595190380762, 5971.118236472946, 6004.6412825651305, 6038.164328657314, 6071.687374749499, 6105.210420841683, 6138.733466933868, 6172.256513026052, 6205.779559118237, 6239.302605210421, 6272.825651302605, 6306.348697394789, 6339.871743486974, 6373.394789579158, 6406.917835671343, 6440.440881763527, 6473.9639278557115, 6507.486973947895, 6541.01002004008, 6574.533066132264, 6608.056112224449, 6641.579158316633, 6675.102204408818, 6708.625250501002, 6742.148296593186, 6775.67134268537, 6809.194388777555, 6842.71743486974, 6876.240480961924, 6909.763527054109, 6943.2865731462925, 6976.809619238477, 7010.332665330661, 7043.855711422846, 7077.37875751503, 7110.901803607215, 7144.424849699399, 7177.9478957915835, 7211.470941883767, 7244.993987975952, 7278.517034068136, 7312.040080160321, 7345.563126252505, 7379.08617234469, 7412.609218436874, 7446.132264529058, 7479.655310621242, 7513.178356713427, 7546.701402805611, 7580.224448897796, 7613.74749498998, 7647.2705410821645, 7680.793587174348, 7714.316633266533, 7747.839679358717, 7781.362725450902, 7814.885771543086, 7848.408817635271, 7881.931863727455, 7915.454909819639, 7948.977955911823, 7982.501002004008, 8016.024048096192, 8049.547094188377, 8083.070140280561, 8116.593186372746, 8150.116232464929, 8183.639278557114, 8217.162324649298, 8250.685370741483, 8284.208416833666, 8317.73146292585, 8351.254509018036, 8384.77755511022, 8418.300601202405, 8451.82364729459, 8485.346693386775, 8518.869739478958, 8552.392785571143, 8585.915831663326, 8619.43887775551, 8652.961923847695, 8686.48496993988, 8720.008016032065, 8753.53106212425, 8787.054108216433, 8820.577154308618, 8854.1002004008, 8887.623246492985, 8921.14629258517, 8954.669338677355, 8988.19238476954, 9021.715430861723, 9055.238476953908, 9088.761523046092, 9122.284569138277, 9155.80761523046, 9189.330661322645, 9222.85370741483, 9256.376753507015, 9289.899799599198, 9323.422845691382, 9356.945891783567, 9390.468937875752, 9423.991983967935, 9457.51503006012, 9491.038076152305, 9524.56112224449, 9558.084168336673, 9591.607214428857, 9625.130260521042, 9658.653306613227, 9692.17635270541, 9725.699398797595, 9759.22244488978, 9792.745490981964, 9826.268537074147, 9859.791583166332, 9893.314629258517, 9926.837675350702, 9960.360721442887, 9993.88376753507, 10027.406813627254, 10060.92985971944, 10094.452905811624, 10127.975951903807, 10161.498997995992, 10195.022044088177, 10228.545090180362, 10262.068136272545, 10295.59118236473, 10329.114228456914, 10362.637274549099, 10396.160320641282, 10429.683366733467, 10463.206412825652, 10496.729458917836, 10530.25250501002, 10563.775551102204, 10597.298597194389, 10630.821643286574, 10664.344689378757, 10697.867735470942, 10731.390781563126, 10764.913827655311, 10798.436873747494, 10831.959919839679, 10865.482965931864, 10899.006012024049, 10932.529058116232, 10966.052104208416, 10999.575150300601, 11033.098196392786, 11066.62124248497, 11100.144288577154, 11133.667334669339, 11167.190380761524, 11200.713426853707, 11234.236472945891, 11267.759519038076, 11301.282565130261, 11334.805611222444, 11368.328657314629, 11401.851703406814, 11435.374749498998, 11468.897795591183, 11502.420841683366, 11535.943887775551, 11569.466933867736, 11602.98997995992, 11636.513026052104, 11670.036072144288, 11703.559118236473, 11737.082164328658, 11770.605210420841, 11804.128256513026, 11837.65130260521, 11871.174348697396, 11904.697394789579, 11938.220440881763, 11971.743486973948, 12005.266533066133, 12038.789579158316, 12072.3126252505, 12105.835671342686, 12139.35871743487, 12172.881763527053, 12206.404809619238, 12239.927855711423, 12273.450901803608, 12306.97394789579, 12340.496993987976, 12374.02004008016, 12407.543086172345, 12441.066132264528, 12474.589178356713, 12508.112224448898, 12541.635270541083, 12575.158316633266, 12608.68136272545, 12642.204408817635, 12675.72745490982, 12709.250501002003, 12742.773547094188, 12776.296593186373, 12809.819639278558, 12843.34268537074, 12876.865731462925, 12910.38877755511, 12943.911823647295, 12977.43486973948, 13010.957915831663, 13044.480961923848, 13078.004008016032, 13111.527054108217, 13145.0501002004, 13178.573146292585, 13212.09619238477, 13245.619238476955, 13279.142284569138, 13312.665330661323, 13346.188376753507, 13379.711422845692, 13413.234468937875, 13446.75751503006, 13480.280561122245, 13513.80360721443, 13547.326653306613, 13580.849699398797, 13614.372745490982, 13647.895791583167, 13681.41883767535, 13714.941883767535, 13748.46492985972, 13781.987975951904, 13815.511022044087, 13849.034068136272, 13882.557114228457, 13916.080160320642, 13949.603206412825, 13983.12625250501, 14016.649298597195, 14050.17234468938, 14083.695390781562, 14117.218436873747, 14150.741482965932, 14184.264529058117, 14217.7875751503, 14251.310621242485, 14284.83366733467, 14318.356713426854, 14351.879759519037, 14385.402805611222, 14418.925851703407, 14452.448897795592, 14485.971943887776, 14519.49498997996, 14553.018036072144, 14586.541082164329, 14620.064128256514, 14653.587174348697, 14687.110220440882, 14720.633266533066, 14754.156312625251, 14787.679358717434, 14821.20240480962, 14854.725450901804, 14888.248496993989, 14921.771543086172, 14955.294589178357, 14988.817635270541, 15022.340681362726, 15055.86372745491, 15089.386773547094, 15122.909819639279, 15156.432865731464, 15189.955911823647, 15223.478957915831, 15257.002004008016, 15290.525050100201, 15324.048096192384, 15357.571142284569, 15391.094188376754, 15424.617234468938, 15458.140280561121, 15491.663326653306, 15525.186372745491, 15558.709418837676, 15592.232464929859, 15625.755511022044, 15659.278557114229, 15692.801603206413, 15726.324649298596, 15759.847695390781, 15793.370741482966, 15826.89378757515, 15860.416833667334, 15893.939879759519, 15927.462925851703, 15960.985971943888, 15994.509018036073, 16028.032064128256, 16061.55511022044, 16095.078156312626, 16128.60120240481, 16162.124248496993, 16195.647294589178, 16229.170340681363, 16262.693386773548, 16296.21643286573, 16329.739478957916, 16363.2625250501, 16396.785571142285, 16430.30861723447, 16463.83166332665, 16497.35470941884, 16530.87775551102, 16564.400801603206, 16597.92384769539, 16631.446893787575, 16664.96993987976, 16698.49298597194, 16732.01603206413, 16765.53907815631, 16799.0621242485, 16832.58517034068, 16866.108216432865, 16899.63126252505, 16933.154308617235, 16966.67735470942, 17000.2004008016, 17033.72344689379, 17067.24649298597, 17100.769539078156, 17134.29258517034, 17167.815631262525, 17201.33867735471, 17234.861723446895, 17268.38476953908, 17301.90781563126, 17335.430861723446, 17368.95390781563, 17402.476953907815, 17436.0])\n",
       "              .range([&#x27;#f6eff7ff&#x27;, &#x27;#f6eff7ff&#x27;, &#x27;#f6eff7ff&#x27;, &#x27;#f6eff7ff&#x27;, &#x27;#f6eff7ff&#x27;, &#x27;#f6eff7ff&#x27;, &#x27;#f6eff7ff&#x27;, &#x27;#f6eff7ff&#x27;, &#x27;#f6eff7ff&#x27;, &#x27;#f6eff7ff&#x27;, &#x27;#f6eff7ff&#x27;, &#x27;#f6eff7ff&#x27;, &#x27;#f6eff7ff&#x27;, &#x27;#f6eff7ff&#x27;, &#x27;#f6eff7ff&#x27;, &#x27;#f6eff7ff&#x27;, &#x27;#f6eff7ff&#x27;, &#x27;#f6eff7ff&#x27;, &#x27;#f6eff7ff&#x27;, &#x27;#f6eff7ff&#x27;, &#x27;#f6eff7ff&#x27;, &#x27;#f6eff7ff&#x27;, &#x27;#f6eff7ff&#x27;, &#x27;#f6eff7ff&#x27;, &#x27;#f6eff7ff&#x27;, &#x27;#f6eff7ff&#x27;, &#x27;#f6eff7ff&#x27;, &#x27;#f6eff7ff&#x27;, &#x27;#f6eff7ff&#x27;, &#x27;#f6eff7ff&#x27;, &#x27;#f6eff7ff&#x27;, &#x27;#f6eff7ff&#x27;, &#x27;#f6eff7ff&#x27;, &#x27;#f6eff7ff&#x27;, &#x27;#f6eff7ff&#x27;, &#x27;#f6eff7ff&#x27;, &#x27;#f6eff7ff&#x27;, &#x27;#f6eff7ff&#x27;, &#x27;#f6eff7ff&#x27;, &#x27;#f6eff7ff&#x27;, &#x27;#f6eff7ff&#x27;, &#x27;#f6eff7ff&#x27;, &#x27;#f6eff7ff&#x27;, &#x27;#f6eff7ff&#x27;, &#x27;#f6eff7ff&#x27;, &#x27;#f6eff7ff&#x27;, &#x27;#f6eff7ff&#x27;, &#x27;#f6eff7ff&#x27;, &#x27;#f6eff7ff&#x27;, &#x27;#f6eff7ff&#x27;, &#x27;#f6eff7ff&#x27;, &#x27;#f6eff7ff&#x27;, &#x27;#f6eff7ff&#x27;, &#x27;#f6eff7ff&#x27;, &#x27;#f6eff7ff&#x27;, &#x27;#f6eff7ff&#x27;, &#x27;#f6eff7ff&#x27;, &#x27;#f6eff7ff&#x27;, &#x27;#f6eff7ff&#x27;, &#x27;#f6eff7ff&#x27;, &#x27;#f6eff7ff&#x27;, &#x27;#f6eff7ff&#x27;, &#x27;#f6eff7ff&#x27;, &#x27;#f6eff7ff&#x27;, &#x27;#f6eff7ff&#x27;, &#x27;#f6eff7ff&#x27;, &#x27;#f6eff7ff&#x27;, &#x27;#f6eff7ff&#x27;, &#x27;#f6eff7ff&#x27;, &#x27;#f6eff7ff&#x27;, &#x27;#f6eff7ff&#x27;, &#x27;#f6eff7ff&#x27;, &#x27;#f6eff7ff&#x27;, &#x27;#f6eff7ff&#x27;, &#x27;#f6eff7ff&#x27;, &#x27;#f6eff7ff&#x27;, &#x27;#f6eff7ff&#x27;, &#x27;#f6eff7ff&#x27;, &#x27;#f6eff7ff&#x27;, &#x27;#f6eff7ff&#x27;, &#x27;#f6eff7ff&#x27;, &#x27;#f6eff7ff&#x27;, &#x27;#f6eff7ff&#x27;, &#x27;#f6eff7ff&#x27;, &#x27;#d0d1e6ff&#x27;, &#x27;#d0d1e6ff&#x27;, &#x27;#d0d1e6ff&#x27;, &#x27;#d0d1e6ff&#x27;, &#x27;#d0d1e6ff&#x27;, &#x27;#d0d1e6ff&#x27;, &#x27;#d0d1e6ff&#x27;, &#x27;#d0d1e6ff&#x27;, &#x27;#d0d1e6ff&#x27;, &#x27;#d0d1e6ff&#x27;, &#x27;#d0d1e6ff&#x27;, &#x27;#d0d1e6ff&#x27;, &#x27;#d0d1e6ff&#x27;, &#x27;#d0d1e6ff&#x27;, &#x27;#d0d1e6ff&#x27;, &#x27;#d0d1e6ff&#x27;, &#x27;#d0d1e6ff&#x27;, &#x27;#d0d1e6ff&#x27;, &#x27;#d0d1e6ff&#x27;, &#x27;#d0d1e6ff&#x27;, &#x27;#d0d1e6ff&#x27;, &#x27;#d0d1e6ff&#x27;, &#x27;#d0d1e6ff&#x27;, &#x27;#d0d1e6ff&#x27;, &#x27;#d0d1e6ff&#x27;, &#x27;#d0d1e6ff&#x27;, &#x27;#d0d1e6ff&#x27;, &#x27;#d0d1e6ff&#x27;, &#x27;#d0d1e6ff&#x27;, &#x27;#d0d1e6ff&#x27;, &#x27;#d0d1e6ff&#x27;, &#x27;#d0d1e6ff&#x27;, &#x27;#d0d1e6ff&#x27;, &#x27;#d0d1e6ff&#x27;, &#x27;#d0d1e6ff&#x27;, &#x27;#d0d1e6ff&#x27;, &#x27;#d0d1e6ff&#x27;, &#x27;#d0d1e6ff&#x27;, &#x27;#d0d1e6ff&#x27;, &#x27;#d0d1e6ff&#x27;, &#x27;#d0d1e6ff&#x27;, &#x27;#d0d1e6ff&#x27;, &#x27;#d0d1e6ff&#x27;, &#x27;#d0d1e6ff&#x27;, &#x27;#d0d1e6ff&#x27;, &#x27;#d0d1e6ff&#x27;, &#x27;#d0d1e6ff&#x27;, &#x27;#d0d1e6ff&#x27;, &#x27;#d0d1e6ff&#x27;, &#x27;#d0d1e6ff&#x27;, &#x27;#d0d1e6ff&#x27;, &#x27;#d0d1e6ff&#x27;, &#x27;#d0d1e6ff&#x27;, &#x27;#d0d1e6ff&#x27;, &#x27;#d0d1e6ff&#x27;, &#x27;#d0d1e6ff&#x27;, &#x27;#d0d1e6ff&#x27;, &#x27;#d0d1e6ff&#x27;, &#x27;#d0d1e6ff&#x27;, &#x27;#d0d1e6ff&#x27;, &#x27;#d0d1e6ff&#x27;, &#x27;#d0d1e6ff&#x27;, &#x27;#d0d1e6ff&#x27;, &#x27;#d0d1e6ff&#x27;, &#x27;#d0d1e6ff&#x27;, &#x27;#d0d1e6ff&#x27;, &#x27;#d0d1e6ff&#x27;, &#x27;#d0d1e6ff&#x27;, &#x27;#d0d1e6ff&#x27;, &#x27;#d0d1e6ff&#x27;, &#x27;#d0d1e6ff&#x27;, &#x27;#d0d1e6ff&#x27;, &#x27;#d0d1e6ff&#x27;, &#x27;#d0d1e6ff&#x27;, &#x27;#d0d1e6ff&#x27;, &#x27;#d0d1e6ff&#x27;, &#x27;#d0d1e6ff&#x27;, &#x27;#d0d1e6ff&#x27;, &#x27;#d0d1e6ff&#x27;, &#x27;#d0d1e6ff&#x27;, &#x27;#d0d1e6ff&#x27;, &#x27;#d0d1e6ff&#x27;, &#x27;#d0d1e6ff&#x27;, &#x27;#a6bddbff&#x27;, &#x27;#a6bddbff&#x27;, &#x27;#a6bddbff&#x27;, &#x27;#a6bddbff&#x27;, &#x27;#a6bddbff&#x27;, &#x27;#a6bddbff&#x27;, &#x27;#a6bddbff&#x27;, &#x27;#a6bddbff&#x27;, &#x27;#a6bddbff&#x27;, &#x27;#a6bddbff&#x27;, &#x27;#a6bddbff&#x27;, &#x27;#a6bddbff&#x27;, &#x27;#a6bddbff&#x27;, &#x27;#a6bddbff&#x27;, &#x27;#a6bddbff&#x27;, &#x27;#a6bddbff&#x27;, &#x27;#a6bddbff&#x27;, &#x27;#a6bddbff&#x27;, &#x27;#a6bddbff&#x27;, &#x27;#a6bddbff&#x27;, &#x27;#a6bddbff&#x27;, &#x27;#a6bddbff&#x27;, &#x27;#a6bddbff&#x27;, &#x27;#a6bddbff&#x27;, &#x27;#a6bddbff&#x27;, &#x27;#a6bddbff&#x27;, &#x27;#a6bddbff&#x27;, &#x27;#a6bddbff&#x27;, &#x27;#a6bddbff&#x27;, &#x27;#a6bddbff&#x27;, &#x27;#a6bddbff&#x27;, &#x27;#a6bddbff&#x27;, &#x27;#a6bddbff&#x27;, &#x27;#a6bddbff&#x27;, &#x27;#a6bddbff&#x27;, &#x27;#a6bddbff&#x27;, &#x27;#a6bddbff&#x27;, &#x27;#a6bddbff&#x27;, &#x27;#a6bddbff&#x27;, &#x27;#a6bddbff&#x27;, &#x27;#a6bddbff&#x27;, &#x27;#a6bddbff&#x27;, &#x27;#a6bddbff&#x27;, &#x27;#a6bddbff&#x27;, &#x27;#a6bddbff&#x27;, &#x27;#a6bddbff&#x27;, &#x27;#a6bddbff&#x27;, &#x27;#a6bddbff&#x27;, &#x27;#a6bddbff&#x27;, &#x27;#a6bddbff&#x27;, &#x27;#a6bddbff&#x27;, &#x27;#a6bddbff&#x27;, &#x27;#a6bddbff&#x27;, &#x27;#a6bddbff&#x27;, &#x27;#a6bddbff&#x27;, &#x27;#a6bddbff&#x27;, &#x27;#a6bddbff&#x27;, &#x27;#a6bddbff&#x27;, &#x27;#a6bddbff&#x27;, &#x27;#a6bddbff&#x27;, &#x27;#a6bddbff&#x27;, &#x27;#a6bddbff&#x27;, &#x27;#a6bddbff&#x27;, &#x27;#a6bddbff&#x27;, &#x27;#a6bddbff&#x27;, &#x27;#a6bddbff&#x27;, &#x27;#a6bddbff&#x27;, &#x27;#a6bddbff&#x27;, &#x27;#a6bddbff&#x27;, &#x27;#a6bddbff&#x27;, &#x27;#a6bddbff&#x27;, &#x27;#a6bddbff&#x27;, &#x27;#a6bddbff&#x27;, &#x27;#a6bddbff&#x27;, &#x27;#a6bddbff&#x27;, &#x27;#a6bddbff&#x27;, &#x27;#a6bddbff&#x27;, &#x27;#a6bddbff&#x27;, &#x27;#a6bddbff&#x27;, &#x27;#a6bddbff&#x27;, &#x27;#a6bddbff&#x27;, &#x27;#a6bddbff&#x27;, &#x27;#a6bddbff&#x27;, &#x27;#67a9cfff&#x27;, &#x27;#67a9cfff&#x27;, &#x27;#67a9cfff&#x27;, &#x27;#67a9cfff&#x27;, &#x27;#67a9cfff&#x27;, &#x27;#67a9cfff&#x27;, &#x27;#67a9cfff&#x27;, &#x27;#67a9cfff&#x27;, &#x27;#67a9cfff&#x27;, &#x27;#67a9cfff&#x27;, &#x27;#67a9cfff&#x27;, &#x27;#67a9cfff&#x27;, &#x27;#67a9cfff&#x27;, &#x27;#67a9cfff&#x27;, &#x27;#67a9cfff&#x27;, &#x27;#67a9cfff&#x27;, &#x27;#67a9cfff&#x27;, &#x27;#67a9cfff&#x27;, &#x27;#67a9cfff&#x27;, &#x27;#67a9cfff&#x27;, &#x27;#67a9cfff&#x27;, &#x27;#67a9cfff&#x27;, &#x27;#67a9cfff&#x27;, &#x27;#67a9cfff&#x27;, &#x27;#67a9cfff&#x27;, &#x27;#67a9cfff&#x27;, &#x27;#67a9cfff&#x27;, &#x27;#67a9cfff&#x27;, &#x27;#67a9cfff&#x27;, &#x27;#67a9cfff&#x27;, &#x27;#67a9cfff&#x27;, &#x27;#67a9cfff&#x27;, &#x27;#67a9cfff&#x27;, &#x27;#67a9cfff&#x27;, &#x27;#67a9cfff&#x27;, &#x27;#67a9cfff&#x27;, &#x27;#67a9cfff&#x27;, &#x27;#67a9cfff&#x27;, &#x27;#67a9cfff&#x27;, &#x27;#67a9cfff&#x27;, &#x27;#67a9cfff&#x27;, &#x27;#67a9cfff&#x27;, &#x27;#67a9cfff&#x27;, &#x27;#67a9cfff&#x27;, &#x27;#67a9cfff&#x27;, &#x27;#67a9cfff&#x27;, &#x27;#67a9cfff&#x27;, &#x27;#67a9cfff&#x27;, &#x27;#67a9cfff&#x27;, &#x27;#67a9cfff&#x27;, &#x27;#67a9cfff&#x27;, &#x27;#67a9cfff&#x27;, &#x27;#67a9cfff&#x27;, &#x27;#67a9cfff&#x27;, &#x27;#67a9cfff&#x27;, &#x27;#67a9cfff&#x27;, &#x27;#67a9cfff&#x27;, &#x27;#67a9cfff&#x27;, &#x27;#67a9cfff&#x27;, &#x27;#67a9cfff&#x27;, &#x27;#67a9cfff&#x27;, &#x27;#67a9cfff&#x27;, &#x27;#67a9cfff&#x27;, &#x27;#67a9cfff&#x27;, &#x27;#67a9cfff&#x27;, &#x27;#67a9cfff&#x27;, &#x27;#67a9cfff&#x27;, &#x27;#67a9cfff&#x27;, &#x27;#67a9cfff&#x27;, &#x27;#67a9cfff&#x27;, &#x27;#67a9cfff&#x27;, &#x27;#67a9cfff&#x27;, &#x27;#67a9cfff&#x27;, &#x27;#67a9cfff&#x27;, &#x27;#67a9cfff&#x27;, &#x27;#67a9cfff&#x27;, &#x27;#67a9cfff&#x27;, &#x27;#67a9cfff&#x27;, &#x27;#67a9cfff&#x27;, &#x27;#67a9cfff&#x27;, &#x27;#67a9cfff&#x27;, &#x27;#67a9cfff&#x27;, &#x27;#67a9cfff&#x27;, &#x27;#1c9099ff&#x27;, &#x27;#1c9099ff&#x27;, &#x27;#1c9099ff&#x27;, &#x27;#1c9099ff&#x27;, &#x27;#1c9099ff&#x27;, &#x27;#1c9099ff&#x27;, &#x27;#1c9099ff&#x27;, &#x27;#1c9099ff&#x27;, &#x27;#1c9099ff&#x27;, &#x27;#1c9099ff&#x27;, &#x27;#1c9099ff&#x27;, &#x27;#1c9099ff&#x27;, &#x27;#1c9099ff&#x27;, &#x27;#1c9099ff&#x27;, &#x27;#1c9099ff&#x27;, &#x27;#1c9099ff&#x27;, &#x27;#1c9099ff&#x27;, &#x27;#1c9099ff&#x27;, &#x27;#1c9099ff&#x27;, &#x27;#1c9099ff&#x27;, &#x27;#1c9099ff&#x27;, &#x27;#1c9099ff&#x27;, &#x27;#1c9099ff&#x27;, &#x27;#1c9099ff&#x27;, &#x27;#1c9099ff&#x27;, &#x27;#1c9099ff&#x27;, &#x27;#1c9099ff&#x27;, &#x27;#1c9099ff&#x27;, &#x27;#1c9099ff&#x27;, &#x27;#1c9099ff&#x27;, &#x27;#1c9099ff&#x27;, &#x27;#1c9099ff&#x27;, &#x27;#1c9099ff&#x27;, &#x27;#1c9099ff&#x27;, &#x27;#1c9099ff&#x27;, &#x27;#1c9099ff&#x27;, &#x27;#1c9099ff&#x27;, &#x27;#1c9099ff&#x27;, &#x27;#1c9099ff&#x27;, &#x27;#1c9099ff&#x27;, &#x27;#1c9099ff&#x27;, &#x27;#1c9099ff&#x27;, &#x27;#1c9099ff&#x27;, &#x27;#1c9099ff&#x27;, &#x27;#1c9099ff&#x27;, &#x27;#1c9099ff&#x27;, &#x27;#1c9099ff&#x27;, &#x27;#1c9099ff&#x27;, &#x27;#1c9099ff&#x27;, &#x27;#1c9099ff&#x27;, &#x27;#1c9099ff&#x27;, &#x27;#1c9099ff&#x27;, &#x27;#1c9099ff&#x27;, &#x27;#1c9099ff&#x27;, &#x27;#1c9099ff&#x27;, &#x27;#1c9099ff&#x27;, &#x27;#1c9099ff&#x27;, &#x27;#1c9099ff&#x27;, &#x27;#1c9099ff&#x27;, &#x27;#1c9099ff&#x27;, &#x27;#1c9099ff&#x27;, &#x27;#1c9099ff&#x27;, &#x27;#1c9099ff&#x27;, &#x27;#1c9099ff&#x27;, &#x27;#1c9099ff&#x27;, &#x27;#1c9099ff&#x27;, &#x27;#1c9099ff&#x27;, &#x27;#1c9099ff&#x27;, &#x27;#1c9099ff&#x27;, &#x27;#1c9099ff&#x27;, &#x27;#1c9099ff&#x27;, &#x27;#1c9099ff&#x27;, &#x27;#1c9099ff&#x27;, &#x27;#1c9099ff&#x27;, &#x27;#1c9099ff&#x27;, &#x27;#1c9099ff&#x27;, &#x27;#1c9099ff&#x27;, &#x27;#1c9099ff&#x27;, &#x27;#1c9099ff&#x27;, &#x27;#1c9099ff&#x27;, &#x27;#1c9099ff&#x27;, &#x27;#1c9099ff&#x27;, &#x27;#1c9099ff&#x27;, &#x27;#016c59ff&#x27;, &#x27;#016c59ff&#x27;, &#x27;#016c59ff&#x27;, &#x27;#016c59ff&#x27;, &#x27;#016c59ff&#x27;, &#x27;#016c59ff&#x27;, &#x27;#016c59ff&#x27;, &#x27;#016c59ff&#x27;, &#x27;#016c59ff&#x27;, &#x27;#016c59ff&#x27;, &#x27;#016c59ff&#x27;, &#x27;#016c59ff&#x27;, &#x27;#016c59ff&#x27;, &#x27;#016c59ff&#x27;, &#x27;#016c59ff&#x27;, &#x27;#016c59ff&#x27;, &#x27;#016c59ff&#x27;, &#x27;#016c59ff&#x27;, &#x27;#016c59ff&#x27;, &#x27;#016c59ff&#x27;, &#x27;#016c59ff&#x27;, &#x27;#016c59ff&#x27;, &#x27;#016c59ff&#x27;, &#x27;#016c59ff&#x27;, &#x27;#016c59ff&#x27;, &#x27;#016c59ff&#x27;, &#x27;#016c59ff&#x27;, &#x27;#016c59ff&#x27;, &#x27;#016c59ff&#x27;, &#x27;#016c59ff&#x27;, &#x27;#016c59ff&#x27;, &#x27;#016c59ff&#x27;, &#x27;#016c59ff&#x27;, &#x27;#016c59ff&#x27;, &#x27;#016c59ff&#x27;, &#x27;#016c59ff&#x27;, &#x27;#016c59ff&#x27;, &#x27;#016c59ff&#x27;, &#x27;#016c59ff&#x27;, &#x27;#016c59ff&#x27;, &#x27;#016c59ff&#x27;, &#x27;#016c59ff&#x27;, &#x27;#016c59ff&#x27;, &#x27;#016c59ff&#x27;, &#x27;#016c59ff&#x27;, &#x27;#016c59ff&#x27;, &#x27;#016c59ff&#x27;, &#x27;#016c59ff&#x27;, &#x27;#016c59ff&#x27;, &#x27;#016c59ff&#x27;, &#x27;#016c59ff&#x27;, &#x27;#016c59ff&#x27;, &#x27;#016c59ff&#x27;, &#x27;#016c59ff&#x27;, &#x27;#016c59ff&#x27;, &#x27;#016c59ff&#x27;, &#x27;#016c59ff&#x27;, &#x27;#016c59ff&#x27;, &#x27;#016c59ff&#x27;, &#x27;#016c59ff&#x27;, &#x27;#016c59ff&#x27;, &#x27;#016c59ff&#x27;, &#x27;#016c59ff&#x27;, &#x27;#016c59ff&#x27;, &#x27;#016c59ff&#x27;, &#x27;#016c59ff&#x27;, &#x27;#016c59ff&#x27;, &#x27;#016c59ff&#x27;, &#x27;#016c59ff&#x27;, &#x27;#016c59ff&#x27;, &#x27;#016c59ff&#x27;, &#x27;#016c59ff&#x27;, &#x27;#016c59ff&#x27;, &#x27;#016c59ff&#x27;, &#x27;#016c59ff&#x27;, &#x27;#016c59ff&#x27;, &#x27;#016c59ff&#x27;, &#x27;#016c59ff&#x27;, &#x27;#016c59ff&#x27;, &#x27;#016c59ff&#x27;, &#x27;#016c59ff&#x27;, &#x27;#016c59ff&#x27;, &#x27;#016c59ff&#x27;, &#x27;#016c59ff&#x27;]);\n",
       "    \n",
       "\n",
       "    color_map_2aa369454b9a6ef5989eb0c2675e8de0.x = d3.scale.linear()\n",
       "              .domain([708.0, 17436.0])\n",
       "              .range([0, 450 - 50]);\n",
       "\n",
       "    color_map_2aa369454b9a6ef5989eb0c2675e8de0.legend = L.control({position: &#x27;topright&#x27;});\n",
       "    color_map_2aa369454b9a6ef5989eb0c2675e8de0.legend.onAdd = function (map) {var div = L.DomUtil.create(&#x27;div&#x27;, &#x27;legend&#x27;); return div};\n",
       "    color_map_2aa369454b9a6ef5989eb0c2675e8de0.legend.addTo(map_698e272133eac6f0d9f9f241b6ca6643);\n",
       "\n",
       "    color_map_2aa369454b9a6ef5989eb0c2675e8de0.xAxis = d3.svg.axis()\n",
       "        .scale(color_map_2aa369454b9a6ef5989eb0c2675e8de0.x)\n",
       "        .orient(&quot;top&quot;)\n",
       "        .tickSize(1)\n",
       "        .tickValues([708.0, 3496.0, 6284.0, 9072.0, 11860.0, 14648.0, 17436.0]);\n",
       "\n",
       "    color_map_2aa369454b9a6ef5989eb0c2675e8de0.svg = d3.select(&quot;.legend.leaflet-control&quot;).append(&quot;svg&quot;)\n",
       "        .attr(&quot;id&quot;, &#x27;legend&#x27;)\n",
       "        .attr(&quot;width&quot;, 450)\n",
       "        .attr(&quot;height&quot;, 40);\n",
       "\n",
       "    color_map_2aa369454b9a6ef5989eb0c2675e8de0.g = color_map_2aa369454b9a6ef5989eb0c2675e8de0.svg.append(&quot;g&quot;)\n",
       "        .attr(&quot;class&quot;, &quot;key&quot;)\n",
       "        .attr(&quot;transform&quot;, &quot;translate(25,16)&quot;);\n",
       "\n",
       "    color_map_2aa369454b9a6ef5989eb0c2675e8de0.g.selectAll(&quot;rect&quot;)\n",
       "        .data(color_map_2aa369454b9a6ef5989eb0c2675e8de0.color.range().map(function(d, i) {\n",
       "          return {\n",
       "            x0: i ? color_map_2aa369454b9a6ef5989eb0c2675e8de0.x(color_map_2aa369454b9a6ef5989eb0c2675e8de0.color.domain()[i - 1]) : color_map_2aa369454b9a6ef5989eb0c2675e8de0.x.range()[0],\n",
       "            x1: i &lt; color_map_2aa369454b9a6ef5989eb0c2675e8de0.color.domain().length ? color_map_2aa369454b9a6ef5989eb0c2675e8de0.x(color_map_2aa369454b9a6ef5989eb0c2675e8de0.color.domain()[i]) : color_map_2aa369454b9a6ef5989eb0c2675e8de0.x.range()[1],\n",
       "            z: d\n",
       "          };\n",
       "        }))\n",
       "      .enter().append(&quot;rect&quot;)\n",
       "        .attr(&quot;height&quot;, 40 - 30)\n",
       "        .attr(&quot;x&quot;, function(d) { return d.x0; })\n",
       "        .attr(&quot;width&quot;, function(d) { return d.x1 - d.x0; })\n",
       "        .style(&quot;fill&quot;, function(d) { return d.z; });\n",
       "\n",
       "    color_map_2aa369454b9a6ef5989eb0c2675e8de0.g.call(color_map_2aa369454b9a6ef5989eb0c2675e8de0.xAxis).append(&quot;text&quot;)\n",
       "        .attr(&quot;class&quot;, &quot;caption&quot;)\n",
       "        .attr(&quot;y&quot;, 21)\n",
       "        .text(&quot;\\ubc00\\ub3c4 (\\ub2e8\\uc704: \\uc778\\uad6c\\uc218 / \\ub113\\uc774 \\uba85/km^2)&quot;);\n",
       "    \n",
       "            choropleth_1c302de0033ce0aaecf121b9f999f8fb.addTo(map_698e272133eac6f0d9f9f241b6ca6643);\n",
       "        \n",
       "&lt;/script&gt;\n",
       "&lt;/html&gt;\" style=\"position:absolute;width:100%;height:100%;left:0;top:0;border:none !important;\" allowfullscreen webkitallowfullscreen mozallowfullscreen></iframe></div></div>"
      ],
      "text/plain": [
       "<folium.folium.Map at 0x17844c8ccd0>"
      ]
     },
     "execution_count": 5,
     "metadata": {},
     "output_type": "execute_result"
    }
   ],
   "source": [
    "map = folium.Map(location = [35.1856505, 129.1],\n",
    "                 zoom_start = 12)\n",
    "\n",
    "folium.Choropleth(geo_data = geo_json,\n",
    "                  data = busan_df_2[\"density\"],\n",
    "                  fill_color = \"PuBuGn\",\n",
    "                  key_on = \"feature.id\",\n",
    "                  legend_name=\"밀도 (단위: 인구수 / 넓이 명/km^2)\").add_to(map)\n",
    "\n",
    "map"
   ]
  }
 ],
 "metadata": {
  "kernelspec": {
   "display_name": "Python 3",
   "language": "python",
   "name": "python3"
  },
  "language_info": {
   "codemirror_mode": {
    "name": "ipython",
    "version": 3
   },
   "file_extension": ".py",
   "mimetype": "text/x-python",
   "name": "python",
   "nbconvert_exporter": "python",
   "pygments_lexer": "ipython3",
   "version": "3.8.15"
  }
 },
 "nbformat": 4,
 "nbformat_minor": 2
}
