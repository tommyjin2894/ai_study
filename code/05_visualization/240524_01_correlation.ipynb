{
 "cells": [
  {
   "cell_type": "markdown",
   "id": "3660ee53",
   "metadata": {},
   "source": [
    "# 1. 통계적 수치 이해하기"
   ]
  },
  {
   "cell_type": "code",
   "execution_count": 1,
   "id": "89063f27",
   "metadata": {},
   "outputs": [],
   "source": [
    "import numpy as np\n",
    "import pandas as pd\n",
    "import seaborn as sns\n",
    "\n",
    "import matplotlib as mpl\n",
    "import matplotlib.pyplot as plt\n",
    "import matplotlib_inline.backend_inline\n",
    "\n",
    "# 그래프의 폰트 출력을 선명하게 (svg, retina 등이 있음)\n",
    "matplotlib_inline.backend_inline.set_matplotlib_formats(\"png2x\")\n",
    "# 테마 설정: \"default\", \"classic\", \"dark_background\", \"fivethirtyeight\", \"seaborn\"\n",
    "mpl.style.use(\"default\")\n",
    "# 이미지가 레이아웃 안으로 들어오도록 함\n",
    "# https://matplotlib.org/stable/users/explain/axes/constrainedlayout_guide.html\n",
    "mpl.rcParams.update({\"figure.constrained_layout.use\": True})\n",
    "\n",
    "#font, line, marker 등의 배율 설정: paper, notebook, talk, poster\n",
    "sns.set_context(\"paper\") \n",
    "#배색 설정: tab10, Set2, Accent, husl\n",
    "sns.set_palette(\"Set2\") \n",
    "#눈금, 배경, 격자 설정: ticks, white, whitegrid, dark, darkgrid\n",
    "# withegrid: 눈금을 그리고, 각 축의 눈금을 제거\n",
    "sns.set_style(\"whitegrid\") "
   ]
  },
  {
   "cell_type": "code",
   "execution_count": 2,
   "id": "77403480",
   "metadata": {},
   "outputs": [],
   "source": [
    "data = {\"math\": [89, 76, 72, 95], \n",
    "     \"english\": [76, 75, 89, 76],\n",
    "     \"science\": [95, 90, 79, 88]}"
   ]
  },
  {
   "cell_type": "code",
   "execution_count": 3,
   "id": "aaad774e",
   "metadata": {},
   "outputs": [
    {
     "data": {
      "text/html": [
       "<div>\n",
       "<style scoped>\n",
       "    .dataframe tbody tr th:only-of-type {\n",
       "        vertical-align: middle;\n",
       "    }\n",
       "\n",
       "    .dataframe tbody tr th {\n",
       "        vertical-align: top;\n",
       "    }\n",
       "\n",
       "    .dataframe thead th {\n",
       "        text-align: right;\n",
       "    }\n",
       "</style>\n",
       "<table border=\"1\" class=\"dataframe\">\n",
       "  <thead>\n",
       "    <tr style=\"text-align: right;\">\n",
       "      <th></th>\n",
       "      <th>math</th>\n",
       "      <th>english</th>\n",
       "      <th>science</th>\n",
       "    </tr>\n",
       "  </thead>\n",
       "  <tbody>\n",
       "    <tr>\n",
       "      <th>Ha</th>\n",
       "      <td>89</td>\n",
       "      <td>76</td>\n",
       "      <td>95</td>\n",
       "    </tr>\n",
       "    <tr>\n",
       "      <th>Heo</th>\n",
       "      <td>76</td>\n",
       "      <td>75</td>\n",
       "      <td>90</td>\n",
       "    </tr>\n",
       "    <tr>\n",
       "      <th>Na</th>\n",
       "      <td>72</td>\n",
       "      <td>89</td>\n",
       "      <td>79</td>\n",
       "    </tr>\n",
       "    <tr>\n",
       "      <th>Park</th>\n",
       "      <td>95</td>\n",
       "      <td>76</td>\n",
       "      <td>88</td>\n",
       "    </tr>\n",
       "  </tbody>\n",
       "</table>\n",
       "</div>"
      ],
      "text/plain": [
       "      math  english  science\n",
       "Ha      89       76       95\n",
       "Heo     76       75       90\n",
       "Na      72       89       79\n",
       "Park    95       76       88"
      ]
     },
     "execution_count": 3,
     "metadata": {},
     "output_type": "execute_result"
    }
   ],
   "source": [
    "df = pd.DataFrame(data = data, index=[\"Ha\", \"Heo\", \"Na\", \"Park\"])\n",
    "df"
   ]
  },
  {
   "cell_type": "markdown",
   "id": "69b1e3df",
   "metadata": {},
   "source": [
    "## 1.1 표준편차(standard deviation, std)\n",
    "\n",
    "* 집단의 분산의 정도 또는 자료의 산포도를 나타내는 수치\n",
    "* 표준편차가 작다는 것은 평균값에서 변량들의 거리가 가깝다는 의미"
   ]
  },
  {
   "cell_type": "markdown",
   "id": "b1179c90",
   "metadata": {},
   "source": [
    "* 모집단 $\\mathbf{x}$가 다음의 값을 갖는다고 하자: $\\mathbf{x} = (x_1, x_2, \\ldots, x_N)$\n",
    "\n",
    "* 모집단의 평균, 분산, 표준편차는 다음과 같다:\n",
    "\n",
    "$$\\text{mean}({\\bf{x}}) =\\mu =\\frac{\\sum_{i=1}^{N}x_i}{N}$$\n",
    "    \n",
    "$$\\text{var}({\\bf{x}}) =\\sigma^2 = \\frac{\\sum_{i=1}^{N}(x_i-\\mu)^2}{N}$$\n",
    "    \n",
    "$$\\text{std}({\\bf{x}}) = \\sigma = \\sqrt{\\sigma^2}$$\n"
   ]
  },
  {
   "cell_type": "code",
   "execution_count": 7,
   "id": "de05e0fe",
   "metadata": {},
   "outputs": [
    {
     "name": "stdout",
     "output_type": "stream",
     "text": [
      "직접계산한 값:  83.0 / pandas가 계산한 값:  83.0\n"
     ]
    }
   ],
   "source": [
    "# df[\"math\"].mean()\n",
    "math_mean = np.sum(df[\"math\"])/len(df)\n",
    "\n",
    "print(\"직접계산한 값: \", math_mean, \"/\", \"pandas가 계산한 값: \", df[\"math\"].mean())"
   ]
  },
  {
   "cell_type": "code",
   "execution_count": 8,
   "id": "2abbe142",
   "metadata": {},
   "outputs": [
    {
     "name": "stdout",
     "output_type": "stream",
     "text": [
      "직접계산한 값:  9.354143466934854 / pandas가 계산한 값:  10.801234497346433\n"
     ]
    }
   ],
   "source": [
    "## df[\"math\"].std()를 직접 계산해 보자\n",
    "\n",
    "math_var = np.sum((df[\"math\"] - math_mean)**2)/len(df)\n",
    "math_std = np.sqrt(math_var)\n",
    "\n",
    "print(\"직접계산한 값: \", math_std, \"/\", \"pandas가 계산한 값: \", df[\"math\"].std())"
   ]
  },
  {
   "cell_type": "code",
   "execution_count": 9,
   "id": "94d671d8",
   "metadata": {},
   "outputs": [
    {
     "data": {
      "text/plain": [
       "10.801234497346433"
      ]
     },
     "execution_count": 9,
     "metadata": {},
     "output_type": "execute_result"
    }
   ],
   "source": [
    "np.sqrt(np.sum((df[\"math\"] - math_mean)**2)/(len(df)-1))"
   ]
  },
  {
   "cell_type": "markdown",
   "id": "bbf09527",
   "metadata": {},
   "source": [
    "* `describe()`와 다른데? `10.801234`\t"
   ]
  },
  {
   "cell_type": "markdown",
   "id": "c0696575",
   "metadata": {},
   "source": [
    "## 1.2 분산을 $n-1$로 나누는 이유\n",
    "\n",
    "* 표본집단($X$)을 통해서 모집단의 평균($\\mu$)과 분산($\\sigma^2$)을 추정하고 싶다. \n",
    "* 즉, 표본집단의 평균($\\bar{X}$)과 분산($S^2$)의 기대값이 모집단의 평균, 분산과 같도록 하고 싶다. \n",
    "* 수식으로 설명하자면\n",
    "    * 평균 $\\mu$, 분산이 $\\sigma^2$인 모집단에서 $n$개의 샘플을 독립 항등 분포가 되도록 표본집단($X$)을 추출했다고 가정하자. \n",
    "    * 그러면 $E(\\bar{X}) = \\mu$, $E(S^2) = \\sigma^2$임을 증명하면 충분하다.\n",
    "    * 그런데 $E(S^2) = \\sigma^2$는 $S^2 = \\frac{1}{n-1}\\sum_{i=1}^n(x_i-\\bar{X})^2$일 때 성립한다. \n",
    "    * 따라서 표본집단의 분산을 계산할 때는 $n-1$로 나눠준다. "
   ]
  },
  {
   "cell_type": "markdown",
   "id": "b26392f7",
   "metadata": {},
   "source": [
    "## 1.3 correlation\n",
    "\n",
    "* 두 변수의 관계를 수치화 한 것\n",
    "* 상관계수는 -1과 1사이의 값을 가짐\n",
    "* 1이면 양의 상관관계, -1이면 음의 상관관계\n",
    "* 0에 가까울수록 선형적인 관계가 아님\n",
    "\n",
    "* numerical 데이터 일 때는 Pearson 상관계수로, numerical or categorical 일 때는 Spearman 상관계수로 두 데이터의 관계를 알아 볼 수 있음\n",
    "* `df.corr()`에서 `method=pearson`"
   ]
  },
  {
   "cell_type": "markdown",
   "id": "c3f98897",
   "metadata": {},
   "source": [
    "**피어슨 상관계수**\n",
    "\n",
    "* 두 수치 데이터의 공분산을 각각의 표준편차로 나눈 것\n",
    "* 공분산: 두 수치 데이터의 선형관계를 수치화하여 알려주는 값\n",
    "\n",
    "\n",
    "두 수치 데이터 $\\mathbf{x} = (x_1, x_2, \\ldots, x_n)$, $\\mathbf{y} = (y_1, y_2, \\ldots, y_n)$에 대해서 Pearson 상관계수를 다음과 같이 정의한다:\n",
    "\n",
    "\\begin{align*}\n",
    "r_{\\mathbf{x}\\mathbf{y}} &= \n",
    "\\frac{\\text{Cov}(\\mathbf{x},\\mathbf{y})}{\\sigma_{\\mathbf{x}}\\sigma_{\\mathbf{y}}}\\\\\n",
    "& = \\frac{\\sum_{i=1}^n(x_i-\\overline{\\mathbf{x}})(y_i-\\overline{\\mathbf{y}})}{\\sqrt{\\sum_{i=1}^n(x_i-\\overline{\\mathbf{x}})^2}\\sqrt{{\\sum_{i=1}^n(y_i-\\overline{\\mathbf{y}})^2}}}.\n",
    "\\end{align*}\n",
    "여기서\n",
    "\\begin{equation*}\n",
    "\\overline{\\mathbf{x}} = \\frac{\\sum_{i=1}^nx_i}{n},\n",
    "\\end{equation*}\n",
    "\n",
    "\\begin{equation*}\n",
    "\\overline{\\mathbf{y}} = \\frac{\\sum_{i=1}^ny_i}{n}\n",
    "\\end{equation*}\n",
    "이다."
   ]
  },
  {
   "cell_type": "markdown",
   "id": "01481e07",
   "metadata": {},
   "source": [
    "**피어슨 상관계수의 해석**\n",
    "\n",
    "![피어슨 상관계수의 해석](https://upload.wikimedia.org/wikipedia/commons/thumb/3/34/Correlation_coefficient.png/600px-Correlation_coefficient.png)"
   ]
  },
  {
   "cell_type": "markdown",
   "id": "7614fdfb",
   "metadata": {},
   "source": [
    "**피어슨 상관계수는 기울기를 반영한 것이 아니다!**\n",
    "\n",
    "![](https://upload.wikimedia.org/wikipedia/commons/thumb/d/d4/Correlation_examples2.svg/600px-Correlation_examples2.svg.png)"
   ]
  },
  {
   "cell_type": "code",
   "execution_count": 10,
   "id": "cfaac17d",
   "metadata": {},
   "outputs": [
    {
     "data": {
      "text/html": [
       "<div>\n",
       "<style scoped>\n",
       "    .dataframe tbody tr th:only-of-type {\n",
       "        vertical-align: middle;\n",
       "    }\n",
       "\n",
       "    .dataframe tbody tr th {\n",
       "        vertical-align: top;\n",
       "    }\n",
       "\n",
       "    .dataframe thead th {\n",
       "        text-align: right;\n",
       "    }\n",
       "</style>\n",
       "<table border=\"1\" class=\"dataframe\">\n",
       "  <thead>\n",
       "    <tr style=\"text-align: right;\">\n",
       "      <th></th>\n",
       "      <th>math</th>\n",
       "      <th>english</th>\n",
       "      <th>science</th>\n",
       "    </tr>\n",
       "  </thead>\n",
       "  <tbody>\n",
       "    <tr>\n",
       "      <th>Ha</th>\n",
       "      <td>89</td>\n",
       "      <td>76</td>\n",
       "      <td>95</td>\n",
       "    </tr>\n",
       "    <tr>\n",
       "      <th>Heo</th>\n",
       "      <td>76</td>\n",
       "      <td>75</td>\n",
       "      <td>90</td>\n",
       "    </tr>\n",
       "    <tr>\n",
       "      <th>Na</th>\n",
       "      <td>72</td>\n",
       "      <td>89</td>\n",
       "      <td>79</td>\n",
       "    </tr>\n",
       "    <tr>\n",
       "      <th>Park</th>\n",
       "      <td>95</td>\n",
       "      <td>76</td>\n",
       "      <td>88</td>\n",
       "    </tr>\n",
       "  </tbody>\n",
       "</table>\n",
       "</div>"
      ],
      "text/plain": [
       "      math  english  science\n",
       "Ha      89       76       95\n",
       "Heo     76       75       90\n",
       "Na      72       89       79\n",
       "Park    95       76       88"
      ]
     },
     "execution_count": 10,
     "metadata": {},
     "output_type": "execute_result"
    }
   ],
   "source": [
    "df"
   ]
  },
  {
   "cell_type": "code",
   "execution_count": 11,
   "id": "544b296e",
   "metadata": {},
   "outputs": [
    {
     "data": {
      "text/html": [
       "<div>\n",
       "<style scoped>\n",
       "    .dataframe tbody tr th:only-of-type {\n",
       "        vertical-align: middle;\n",
       "    }\n",
       "\n",
       "    .dataframe tbody tr th {\n",
       "        vertical-align: top;\n",
       "    }\n",
       "\n",
       "    .dataframe thead th {\n",
       "        text-align: right;\n",
       "    }\n",
       "</style>\n",
       "<table border=\"1\" class=\"dataframe\">\n",
       "  <thead>\n",
       "    <tr style=\"text-align: right;\">\n",
       "      <th></th>\n",
       "      <th>math</th>\n",
       "      <th>english</th>\n",
       "      <th>science</th>\n",
       "    </tr>\n",
       "  </thead>\n",
       "  <tbody>\n",
       "    <tr>\n",
       "      <th>math</th>\n",
       "      <td>1.000000</td>\n",
       "      <td>-0.62799</td>\n",
       "      <td>0.586432</td>\n",
       "    </tr>\n",
       "    <tr>\n",
       "      <th>english</th>\n",
       "      <td>-0.627990</td>\n",
       "      <td>1.00000</td>\n",
       "      <td>-0.888060</td>\n",
       "    </tr>\n",
       "    <tr>\n",
       "      <th>science</th>\n",
       "      <td>0.586432</td>\n",
       "      <td>-0.88806</td>\n",
       "      <td>1.000000</td>\n",
       "    </tr>\n",
       "  </tbody>\n",
       "</table>\n",
       "</div>"
      ],
      "text/plain": [
       "             math  english   science\n",
       "math     1.000000 -0.62799  0.586432\n",
       "english -0.627990  1.00000 -0.888060\n",
       "science  0.586432 -0.88806  1.000000"
      ]
     },
     "execution_count": 11,
     "metadata": {},
     "output_type": "execute_result"
    }
   ],
   "source": [
    "df.corr(method = 'pearson')"
   ]
  },
  {
   "cell_type": "code",
   "execution_count": 12,
   "id": "fcb13699",
   "metadata": {},
   "outputs": [
    {
     "data": {
      "image/png": "[encoded data removed]",
      "text/plain": [
       "<Figure size 500x200 with 2 Axes>"
      ]
     },
     "metadata": {
      "image/png": {
       "height": 211,
       "width": 511
      }
     },
     "output_type": "display_data"
    }
   ],
   "source": [
    "fig, (ax1, ax2) = plt.subplots(1, 2, figsize=(5,2))\n",
    "\n",
    "df.plot(kind=\"scatter\",\n",
    "       x = \"science\",\n",
    "       y = \"math\",\n",
    "       color = \"tab:blue\",\n",
    "       alpha = 0.7,\n",
    "       ax = ax1);\n",
    "\n",
    "df.plot(kind=\"scatter\",\n",
    "       x = \"english\",\n",
    "       y = \"science\",\n",
    "       color = \"tab:red\",\n",
    "       alpha = 0.7,\n",
    "       ax = ax2);"
   ]
  },
  {
   "cell_type": "markdown",
   "id": "db3ad2df",
   "metadata": {},
   "source": [
    "두 수치 데이터 $\\mathbf{x} = (x_1, x_2, \\ldots, x_n)$, $\\mathbf{y} = (y_1, y_2, \\ldots, y_n)$에 대해서 Pearson 상관계수를 다음과 같이 정의한다:\n",
    "\n",
    "\\begin{align*}\n",
    "r_{\\mathbf{x}\\mathbf{y}} &= \n",
    "\\frac{\\text{Cov}(\\mathbf{x},\\mathbf{y})}{\\sigma_{\\mathbf{x}}\\sigma_{\\mathbf{y}}}\\\\\n",
    "& = \\frac{\\sum_{i=1}^n(x_i-\\overline{\\mathbf{x}})(y_i-\\overline{\\mathbf{y}})}{\\sqrt{\\sum_{i=1}^n(x_i-\\overline{\\mathbf{x}})^2}\\sqrt{{\\sum_{i=1}^n(y_i-\\overline{\\mathbf{y}})^2}}}.\n",
    "\\end{align*}\n",
    "여기서\n",
    "\\begin{equation*}\n",
    "\\overline{\\mathbf{x}} = \\frac{\\sum_{i=1}^nx_i}{n},\n",
    "\\end{equation*}\n",
    "\n",
    "\\begin{equation*}\n",
    "\\overline{\\mathbf{y}} = \\frac{\\sum_{i=1}^ny_i}{n}\n",
    "\\end{equation*}\n",
    "이다."
   ]
  },
  {
   "cell_type": "code",
   "execution_count": 13,
   "id": "fca7623c",
   "metadata": {},
   "outputs": [
    {
     "data": {
      "text/html": [
       "<div>\n",
       "<style scoped>\n",
       "    .dataframe tbody tr th:only-of-type {\n",
       "        vertical-align: middle;\n",
       "    }\n",
       "\n",
       "    .dataframe tbody tr th {\n",
       "        vertical-align: top;\n",
       "    }\n",
       "\n",
       "    .dataframe thead th {\n",
       "        text-align: right;\n",
       "    }\n",
       "</style>\n",
       "<table border=\"1\" class=\"dataframe\">\n",
       "  <thead>\n",
       "    <tr style=\"text-align: right;\">\n",
       "      <th></th>\n",
       "      <th>math</th>\n",
       "      <th>english</th>\n",
       "      <th>science</th>\n",
       "    </tr>\n",
       "  </thead>\n",
       "  <tbody>\n",
       "    <tr>\n",
       "      <th>math</th>\n",
       "      <td>1.000000</td>\n",
       "      <td>-0.62799</td>\n",
       "      <td>0.586432</td>\n",
       "    </tr>\n",
       "    <tr>\n",
       "      <th>english</th>\n",
       "      <td>-0.627990</td>\n",
       "      <td>1.00000</td>\n",
       "      <td>-0.888060</td>\n",
       "    </tr>\n",
       "    <tr>\n",
       "      <th>science</th>\n",
       "      <td>0.586432</td>\n",
       "      <td>-0.88806</td>\n",
       "      <td>1.000000</td>\n",
       "    </tr>\n",
       "  </tbody>\n",
       "</table>\n",
       "</div>"
      ],
      "text/plain": [
       "             math  english   science\n",
       "math     1.000000 -0.62799  0.586432\n",
       "english -0.627990  1.00000 -0.888060\n",
       "science  0.586432 -0.88806  1.000000"
      ]
     },
     "execution_count": 13,
     "metadata": {},
     "output_type": "execute_result"
    }
   ],
   "source": [
    "df.corr()"
   ]
  },
  {
   "cell_type": "code",
   "execution_count": 14,
   "id": "4a41c8f5",
   "metadata": {},
   "outputs": [
    {
     "name": "stdout",
     "output_type": "stream",
     "text": [
      "수학과 과학 과목의 상관계수 직접 계산한 값:  0.5864315126053049\n",
      "pandas가 계산한 값:  0.5864315126053049\n"
     ]
    }
   ],
   "source": [
    "## 수학과 과학의 Pearson's correlation을 계산하시오.\n",
    "\n",
    "# 수학평균\n",
    "math_mean = np.sum(df[\"math\"])/len(df)\n",
    "\n",
    "#수학 표준편차\n",
    "math_std = np.sqrt(np.sum((df[\"math\"] - math_mean)**2))\n",
    "\n",
    "\n",
    "# 과학평균\n",
    "science_mean = np.sum(df[\"science\"])/len(df)\n",
    "\n",
    "# 과학 표준편차\n",
    "science_std = np.sqrt(np.sum((df[\"science\"] - science_mean)**2))\n",
    "\n",
    "# 공분산\n",
    "cov = np.sum((df[\"math\"] - math_mean)*(df[\"science\"] - science_mean))\n",
    "\n",
    "print(\"수학과 과학 과목의 상관계수 직접 계산한 값: \", cov/(math_std*science_std))\n",
    "print(\"pandas가 계산한 값: \", df.corr().loc[\"math\"][\"science\"])"
   ]
  },
  {
   "cell_type": "markdown",
   "id": "ddd9c494",
   "metadata": {},
   "source": [
    "**스피어만 상관계수**\n",
    "\n",
    "* 두 데이터 사이의 순위(rank)에 대한 상관 계수\n",
    "* numerical이나 ordinal 데이터에 대한 상관 관계를 분석할 수 있다.\n",
    "* 스피어만 상관계수의 해석은 피어슨 상관계수와 같다.\n",
    "* 스피어만 상관 계수는 피어슨 상관 계수에 비해 이상치에 덜 민감하다.\n",
    "\n",
    "두 수치 데이터 $\\mathbf{x} = (x_1, x_2, \\ldots, x_n)$, $\\mathbf{y} = (y_1, y_2, \\ldots, y_n)$에 대해서 $R(x_i)$를 $\\mathbf{x}$에서 $x_i$의 순서, $R(y_i)$를 $\\mathbf{y}$에서 $y_i$의 순서라고 하자.\n",
    "\n",
    "Spearman 상관계수를 다음과 같이 정의한다:\n",
    "\n",
    "\\begin{align*}\n",
    "r_{R(\\mathbf{x})R(\\mathbf{y})} &= \n",
    "\\frac{\\text{Cov}(R(\\mathbf{x}),R(\\mathbf{y}))}{\\sigma_{R(\\mathbf{x})}\\sigma_{R(\\mathbf{x})}}\n",
    "\\end{align*}\n",
    "만약 데이터의 순서가 단조증가라면 다음과 같이 계산할 수 있다:\n",
    "$$\n",
    "r_{R(\\mathbf{x})R(\\mathbf{y})} = 1-\\frac{6\\cdot\\sum_{i=1}^nd_i^2}{n(n^2-1)}.\n",
    "$$\n",
    "여기서\n",
    "$d_i = R(x_i) - R(y_i)$이다."
   ]
  },
  {
   "cell_type": "code",
   "execution_count": 15,
   "id": "ac6bc838",
   "metadata": {
    "scrolled": true
   },
   "outputs": [
    {
     "data": {
      "text/html": [
       "<div>\n",
       "<style scoped>\n",
       "    .dataframe tbody tr th:only-of-type {\n",
       "        vertical-align: middle;\n",
       "    }\n",
       "\n",
       "    .dataframe tbody tr th {\n",
       "        vertical-align: top;\n",
       "    }\n",
       "\n",
       "    .dataframe thead th {\n",
       "        text-align: right;\n",
       "    }\n",
       "</style>\n",
       "<table border=\"1\" class=\"dataframe\">\n",
       "  <thead>\n",
       "    <tr style=\"text-align: right;\">\n",
       "      <th></th>\n",
       "      <th>math</th>\n",
       "      <th>english</th>\n",
       "      <th>science</th>\n",
       "    </tr>\n",
       "  </thead>\n",
       "  <tbody>\n",
       "    <tr>\n",
       "      <th>Ha</th>\n",
       "      <td>89</td>\n",
       "      <td>76</td>\n",
       "      <td>95</td>\n",
       "    </tr>\n",
       "    <tr>\n",
       "      <th>Heo</th>\n",
       "      <td>76</td>\n",
       "      <td>75</td>\n",
       "      <td>90</td>\n",
       "    </tr>\n",
       "    <tr>\n",
       "      <th>Na</th>\n",
       "      <td>72</td>\n",
       "      <td>89</td>\n",
       "      <td>79</td>\n",
       "    </tr>\n",
       "    <tr>\n",
       "      <th>Park</th>\n",
       "      <td>95</td>\n",
       "      <td>76</td>\n",
       "      <td>88</td>\n",
       "    </tr>\n",
       "  </tbody>\n",
       "</table>\n",
       "</div>"
      ],
      "text/plain": [
       "      math  english  science\n",
       "Ha      89       76       95\n",
       "Heo     76       75       90\n",
       "Na      72       89       79\n",
       "Park    95       76       88"
      ]
     },
     "execution_count": 15,
     "metadata": {},
     "output_type": "execute_result"
    }
   ],
   "source": [
    "df"
   ]
  },
  {
   "cell_type": "code",
   "execution_count": 16,
   "id": "abad1c7b",
   "metadata": {},
   "outputs": [
    {
     "data": {
      "text/html": [
       "<div>\n",
       "<style scoped>\n",
       "    .dataframe tbody tr th:only-of-type {\n",
       "        vertical-align: middle;\n",
       "    }\n",
       "\n",
       "    .dataframe tbody tr th {\n",
       "        vertical-align: top;\n",
       "    }\n",
       "\n",
       "    .dataframe thead th {\n",
       "        text-align: right;\n",
       "    }\n",
       "</style>\n",
       "<table border=\"1\" class=\"dataframe\">\n",
       "  <thead>\n",
       "    <tr style=\"text-align: right;\">\n",
       "      <th></th>\n",
       "      <th>math</th>\n",
       "      <th>english</th>\n",
       "      <th>science</th>\n",
       "    </tr>\n",
       "  </thead>\n",
       "  <tbody>\n",
       "    <tr>\n",
       "      <th>math</th>\n",
       "      <td>1.000000</td>\n",
       "      <td>-0.62799</td>\n",
       "      <td>0.586432</td>\n",
       "    </tr>\n",
       "    <tr>\n",
       "      <th>english</th>\n",
       "      <td>-0.627990</td>\n",
       "      <td>1.00000</td>\n",
       "      <td>-0.888060</td>\n",
       "    </tr>\n",
       "    <tr>\n",
       "      <th>science</th>\n",
       "      <td>0.586432</td>\n",
       "      <td>-0.88806</td>\n",
       "      <td>1.000000</td>\n",
       "    </tr>\n",
       "  </tbody>\n",
       "</table>\n",
       "</div>"
      ],
      "text/plain": [
       "             math  english   science\n",
       "math     1.000000 -0.62799  0.586432\n",
       "english -0.627990  1.00000 -0.888060\n",
       "science  0.586432 -0.88806  1.000000"
      ]
     },
     "execution_count": 16,
     "metadata": {},
     "output_type": "execute_result"
    }
   ],
   "source": [
    "df.corr(method = \"pearson\")"
   ]
  },
  {
   "cell_type": "code",
   "execution_count": 17,
   "id": "fbfaae95",
   "metadata": {},
   "outputs": [
    {
     "data": {
      "text/html": [
       "<div>\n",
       "<style scoped>\n",
       "    .dataframe tbody tr th:only-of-type {\n",
       "        vertical-align: middle;\n",
       "    }\n",
       "\n",
       "    .dataframe tbody tr th {\n",
       "        vertical-align: top;\n",
       "    }\n",
       "\n",
       "    .dataframe thead th {\n",
       "        text-align: right;\n",
       "    }\n",
       "</style>\n",
       "<table border=\"1\" class=\"dataframe\">\n",
       "  <thead>\n",
       "    <tr style=\"text-align: right;\">\n",
       "      <th></th>\n",
       "      <th>math</th>\n",
       "      <th>english</th>\n",
       "      <th>science</th>\n",
       "    </tr>\n",
       "  </thead>\n",
       "  <tbody>\n",
       "    <tr>\n",
       "      <th>math</th>\n",
       "      <td>1.000000</td>\n",
       "      <td>-0.316228</td>\n",
       "      <td>0.400000</td>\n",
       "    </tr>\n",
       "    <tr>\n",
       "      <th>english</th>\n",
       "      <td>-0.316228</td>\n",
       "      <td>1.000000</td>\n",
       "      <td>-0.632456</td>\n",
       "    </tr>\n",
       "    <tr>\n",
       "      <th>science</th>\n",
       "      <td>0.400000</td>\n",
       "      <td>-0.632456</td>\n",
       "      <td>1.000000</td>\n",
       "    </tr>\n",
       "  </tbody>\n",
       "</table>\n",
       "</div>"
      ],
      "text/plain": [
       "             math   english   science\n",
       "math     1.000000 -0.316228  0.400000\n",
       "english -0.316228  1.000000 -0.632456\n",
       "science  0.400000 -0.632456  1.000000"
      ]
     },
     "execution_count": 17,
     "metadata": {},
     "output_type": "execute_result"
    }
   ],
   "source": [
    "df.corr(method=\"spearman\")"
   ]
  },
  {
   "cell_type": "code",
   "execution_count": null,
   "id": "17b4d24b",
   "metadata": {},
   "outputs": [],
   "source": []
  }
 ],
 "metadata": {
  "kernelspec": {
   "display_name": "Python 3 (ipykernel)",
   "language": "python",
   "name": "python3"
  },
  "language_info": {
   "codemirror_mode": {
    "name": "ipython",
    "version": 3
   },
   "file_extension": ".py",
   "mimetype": "text/x-python",
   "name": "python",
   "nbconvert_exporter": "python",
   "pygments_lexer": "ipython3",
   "version": "3.8.15"
  }
 },
 "nbformat": 4,
 "nbformat_minor": 5
}
