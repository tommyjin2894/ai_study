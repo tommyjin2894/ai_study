{
 "cells": [
  {
   "cell_type": "code",
   "execution_count": 68,
   "metadata": {},
   "outputs": [],
   "source": [
    "# 기본 패키지 불러오기\n",
    "import pandas as pd\n",
    "import numpy as np\n",
    "import matplotlib.pyplot as plt\n",
    "import seaborn as sns"
   ]
  },
  {
   "cell_type": "code",
   "execution_count": 69,
   "metadata": {},
   "outputs": [],
   "source": [
    "df = pd.read_csv('book.csv', encoding='euc-kr')"
   ]
  },
  {
   "cell_type": "code",
   "execution_count": 70,
   "metadata": {},
   "outputs": [],
   "source": [
    "df_droped = df.dropna(subset=['Title'])\n",
    "df_droped = df_droped[df_droped['Title'].str.strip() != '']"
   ]
  },
  {
   "cell_type": "code",
   "execution_count": 71,
   "metadata": {},
   "outputs": [],
   "source": [
    "df_droped['Price'] = df_droped['Price'].str.replace(',','')"
   ]
  },
  {
   "cell_type": "code",
   "execution_count": 72,
   "metadata": {},
   "outputs": [],
   "source": [
    "import re\n",
    "\n",
    "# 영어 제목만\n",
    "def is_english_title(text):\n",
    "    # 영어 알파벳, 공백, 일부 특수문자(예: ',!?.)만 허용\n",
    "    return bool(re.match(r'^[a-zA-Z0-9 .,\\-\\'!?]+$', text))\n",
    "\n",
    "# 영어로만 구성된 책 제목만 가져옴\n",
    "final_e = df_droped[df_droped['Title'].apply(is_english_title)]\n",
    "\n",
    "# 한국 제목만\n",
    "def is_korean_title(text):\n",
    "    # 영어 알파벳, 공백, 일부 특수문자(예: ',!?.)만 허용\n",
    "    return bool(re.match(r'^[가-힣0-9 .,\\-\\'!?]+$', text))\n",
    "\n",
    "# 한국어로만 구성된 책 제목만 가져옴\n",
    "final_k = df_droped[df_droped['Title'].apply(is_korean_title)]"
   ]
  },
  {
   "cell_type": "code",
   "execution_count": 73,
   "metadata": {},
   "outputs": [],
   "source": [
    "from sklearn.feature_extraction.text import TfidfVectorizer\n",
    "from sklearn.cluster import KMeans"
   ]
  },
  {
   "cell_type": "code",
   "execution_count": 74,
   "metadata": {},
   "outputs": [],
   "source": [
    "tfidf_vectorizer_e= TfidfVectorizer(max_features=20000)\n",
    "tfidf_vectorizer_k= TfidfVectorizer(max_features=20000)\n",
    "X_tfidf_e = tfidf_vectorizer_e.fit_transform(final_e)\n",
    "X_tfidf_k = tfidf_vectorizer_k.fit_transform(final_k)"
   ]
  },
  {
   "cell_type": "code",
   "execution_count": 76,
   "metadata": {},
   "outputs": [
    {
     "data": {
      "text/html": [
       "<style>#sk-container-id-5 {color: black;background-color: white;}#sk-container-id-5 pre{padding: 0;}#sk-container-id-5 div.sk-toggleable {background-color: white;}#sk-container-id-5 label.sk-toggleable__label {cursor: pointer;display: block;width: 100%;margin-bottom: 0;padding: 0.3em;box-sizing: border-box;text-align: center;}#sk-container-id-5 label.sk-toggleable__label-arrow:before {content: \"▸\";float: left;margin-right: 0.25em;color: #696969;}#sk-container-id-5 label.sk-toggleable__label-arrow:hover:before {color: black;}#sk-container-id-5 div.sk-estimator:hover label.sk-toggleable__label-arrow:before {color: black;}#sk-container-id-5 div.sk-toggleable__content {max-height: 0;max-width: 0;overflow: hidden;text-align: left;background-color: #f0f8ff;}#sk-container-id-5 div.sk-toggleable__content pre {margin: 0.2em;color: black;border-radius: 0.25em;background-color: #f0f8ff;}#sk-container-id-5 input.sk-toggleable__control:checked~div.sk-toggleable__content {max-height: 200px;max-width: 100%;overflow: auto;}#sk-container-id-5 input.sk-toggleable__control:checked~label.sk-toggleable__label-arrow:before {content: \"▾\";}#sk-container-id-5 div.sk-estimator input.sk-toggleable__control:checked~label.sk-toggleable__label {background-color: #d4ebff;}#sk-container-id-5 div.sk-label input.sk-toggleable__control:checked~label.sk-toggleable__label {background-color: #d4ebff;}#sk-container-id-5 input.sk-hidden--visually {border: 0;clip: rect(1px 1px 1px 1px);clip: rect(1px, 1px, 1px, 1px);height: 1px;margin: -1px;overflow: hidden;padding: 0;position: absolute;width: 1px;}#sk-container-id-5 div.sk-estimator {font-family: monospace;background-color: #f0f8ff;border: 1px dotted black;border-radius: 0.25em;box-sizing: border-box;margin-bottom: 0.5em;}#sk-container-id-5 div.sk-estimator:hover {background-color: #d4ebff;}#sk-container-id-5 div.sk-parallel-item::after {content: \"\";width: 100%;border-bottom: 1px solid gray;flex-grow: 1;}#sk-container-id-5 div.sk-label:hover label.sk-toggleable__label {background-color: #d4ebff;}#sk-container-id-5 div.sk-serial::before {content: \"\";position: absolute;border-left: 1px solid gray;box-sizing: border-box;top: 0;bottom: 0;left: 50%;z-index: 0;}#sk-container-id-5 div.sk-serial {display: flex;flex-direction: column;align-items: center;background-color: white;padding-right: 0.2em;padding-left: 0.2em;position: relative;}#sk-container-id-5 div.sk-item {position: relative;z-index: 1;}#sk-container-id-5 div.sk-parallel {display: flex;align-items: stretch;justify-content: center;background-color: white;position: relative;}#sk-container-id-5 div.sk-item::before, #sk-container-id-5 div.sk-parallel-item::before {content: \"\";position: absolute;border-left: 1px solid gray;box-sizing: border-box;top: 0;bottom: 0;left: 50%;z-index: -1;}#sk-container-id-5 div.sk-parallel-item {display: flex;flex-direction: column;z-index: 1;position: relative;background-color: white;}#sk-container-id-5 div.sk-parallel-item:first-child::after {align-self: flex-end;width: 50%;}#sk-container-id-5 div.sk-parallel-item:last-child::after {align-self: flex-start;width: 50%;}#sk-container-id-5 div.sk-parallel-item:only-child::after {width: 0;}#sk-container-id-5 div.sk-dashed-wrapped {border: 1px dashed gray;margin: 0 0.4em 0.5em 0.4em;box-sizing: border-box;padding-bottom: 0.4em;background-color: white;}#sk-container-id-5 div.sk-label label {font-family: monospace;font-weight: bold;display: inline-block;line-height: 1.2em;}#sk-container-id-5 div.sk-label-container {text-align: center;}#sk-container-id-5 div.sk-container {/* jupyter's `normalize.less` sets `[hidden] { display: none; }` but bootstrap.min.css set `[hidden] { display: none !important; }` so we also need the `!important` here to be able to override the default hidden behavior on the sphinx rendered scikit-learn.org. See: https://github.com/scikit-learn/scikit-learn/issues/21755 */display: inline-block !important;position: relative;}#sk-container-id-5 div.sk-text-repr-fallback {display: none;}</style><div id=\"sk-container-id-5\" class=\"sk-top-container\"><div class=\"sk-text-repr-fallback\"><pre>KMeans(n_clusters=10, random_state=42)</pre><b>In a Jupyter environment, please rerun this cell to show the HTML representation or trust the notebook. <br />On GitHub, the HTML representation is unable to render, please try loading this page with nbviewer.org.</b></div><div class=\"sk-container\" hidden><div class=\"sk-item\"><div class=\"sk-estimator sk-toggleable\"><input class=\"sk-toggleable__control sk-hidden--visually\" id=\"sk-estimator-id-5\" type=\"checkbox\" checked><label for=\"sk-estimator-id-5\" class=\"sk-toggleable__label sk-toggleable__label-arrow\">KMeans</label><div class=\"sk-toggleable__content\"><pre>KMeans(n_clusters=10, random_state=42)</pre></div></div></div></div></div>"
      ],
      "text/plain": [
       "KMeans(n_clusters=10, random_state=42)"
      ]
     },
     "execution_count": 76,
     "metadata": {},
     "output_type": "execute_result"
    }
   ],
   "source": [
    "# 클러스터링 수행\n",
    "kmeans_e = KMeans(n_clusters=10, random_state=42)\n",
    "kmeans_k = KMeans(n_clusters=10, random_state=42)\n",
    "kmeans_e.fit(X_tfidf_e)\n",
    "kmeans_k.fit(X_tfidf_k)"
   ]
  },
  {
   "cell_type": "code",
   "execution_count": 77,
   "metadata": {},
   "outputs": [],
   "source": [
    "################# Word2Vec  #################\n",
    "from gensim.models import Word2Vec ,FastText\n",
    "from sklearn.cluster import KMeans\n",
    "\n",
    "import pandas as pd\n",
    "import numpy as np\n",
    "\n",
    "def vectorize_w_word2vec(text):\n",
    "    words = text.split()\n",
    "    word_vectors = [word2vec_model.wv[word] for word in words if word in word2vec_model.wv]\n",
    "    if len(word_vectors) == 0:\n",
    "        return np.zeros(word2vec_model.vector_size)\n",
    "    return np.mean(word_vectors, axis=0)\n",
    "\n",
    "def vectorize_w_fasttext(text):\n",
    "    words = text.split()\n",
    "    word_vectors = [fasttext_model.wv[word] for word in words if word in fasttext_model.wv]\n",
    "    if len(word_vectors) == 0:\n",
    "        return np.zeros(fasttext_model.vector_size)\n",
    "    return np.mean(word_vectors, axis=0)\n",
    "\n",
    "sentences = [title.split() for title in df_k['Title']]\n",
    "\n",
    "word2vec_model = Word2Vec(sentences, vector_size=64, window=5, min_count=1) # 워드 투 벡터 : 주변 단어들을 학습에 사용 \n",
    "fasttext_model = FastText(sentences, vector_size=64, window=5, min_count=1) # fast 텍스트 : 서브 워드 이용\n",
    "\n",
    "title_vectors_k = np.array([vectorize_w_word2vec(title) for title in df_k['Title']])"
   ]
  },
  {
   "cell_type": "markdown",
   "metadata": {},
   "source": [
    "## 클러스터링"
   ]
  },
  {
   "cell_type": "code",
   "execution_count": 83,
   "metadata": {},
   "outputs": [
    {
     "name": "stdout",
     "output_type": "stream",
     "text": [
      "Cluster 0:\n",
      "409    묻고 답하는 한국사카페 1\n",
      "442        두근두근 중국어 1\n",
      "476         런웨이의 연인 1\n",
      "Name: Title, dtype: object \n",
      "\n",
      "Cluster 1:\n",
      "94      건축견적이야기 3 \n",
      "467           마기 3\n",
      "469    주문배달의 왕자님 3\n",
      "Name: Title, dtype: object \n",
      "\n",
      "Cluster 2:\n",
      "1024           한국사 편지 세트\n",
      "1724      설민석의 한국사 대모험 5\n",
      "1819    특종! 70명으로 읽는 한국사\n",
      "Name: Title, dtype: object \n",
      "\n"
     ]
    },
    {
     "name": "stderr",
     "output_type": "stream",
     "text": [
      "C:\\Users\\crazy\\AppData\\Local\\Temp\\ipykernel_7376\\3850645773.py:5: SettingWithCopyWarning: \n",
      "A value is trying to be set on a copy of a slice from a DataFrame.\n",
      "Try using .loc[row_indexer,col_indexer] = value instead\n",
      "\n",
      "See the caveats in the documentation: https://pandas.pydata.org/pandas-docs/stable/user_guide/indexing.html#returning-a-view-versus-a-copy\n",
      "  df_k['Cluster'] = kmeans.labels_\n"
     ]
    }
   ],
   "source": [
    "kmeans = KMeans(n_clusters=10, random_state=42)\n",
    "kmeans.fit(title_vectors_k)\n",
    "\n",
    "# 각 인덱스의 클러스터 할당하기\n",
    "df_k['Cluster'] = kmeans.labels_\n",
    "\n",
    "for cluster in range(3): # 클러스터의 수에 따라 범위 조정\n",
    "    print(f\"Cluster {cluster}:\")\n",
    "    print(df_k[df_k['Cluster'] == cluster]['Title'].head(3), '\\n') # 각 클러스터에 속한 책 제목 출력"
   ]
  },
  {
   "cell_type": "code",
   "execution_count": 145,
   "metadata": {},
   "outputs": [
    {
     "name": "stdout",
     "output_type": "stream",
     "text": [
      "Word2Vec의 결과\n",
      "Word: 털털털  , similarity: 0.50\n",
      "Word: 전산회계 , similarity: 0.47\n",
      "Word: 이대로가 , similarity: 0.45\n",
      "Word: 알리는  , similarity: 0.44\n",
      "Word: 마흔   , similarity: 0.44\n",
      "Word: 책    , similarity: 0.43\n",
      "Word: 그들에게 , similarity: 0.43\n",
      "Word: 카메라  , similarity: 0.43\n",
      "Word: 알았더라면, similarity: 0.42\n",
      "Word: 애장판  , similarity: 0.41\n",
      "\n",
      "FastText의 결과\n",
      "Word: 에밀   , similarity: 0.46\n",
      "Word: 시대가  , similarity: 0.45\n",
      "Word: 사들인  , similarity: 0.44\n",
      "Word: 핵을   , similarity: 0.43\n",
      "Word: 너한테도 , similarity: 0.43\n",
      "Word: 10주년 , similarity: 0.43\n",
      "Word: 확대방안 , similarity: 0.42\n",
      "Word: 도전,  , similarity: 0.42\n",
      "Word: 78층  , similarity: 0.42\n",
      "Word: 절반쯤  , similarity: 0.41\n"
     ]
    }
   ],
   "source": [
    "print(\"Word2Vec의 결과\")\n",
    "for word, sim in word2vec_model.wv.most_similar('투자'):\n",
    "    print(f\"Word: {word:<5}, similarity: {sim:.2f}\")\n",
    "\n",
    "print(\"\\nFastText의 결과\")\n",
    "for word, sim in fasttext_model.wv.most_similar('투자'):\n",
    "    print(f\"Word: {word:<5}, similarity: {sim:.2f}\")\n"
   ]
  }
 ],
 "metadata": {
  "kernelspec": {
   "display_name": "kdt",
   "language": "python",
   "name": "python3"
  },
  "language_info": {
   "codemirror_mode": {
    "name": "ipython",
    "version": 3
   },
   "file_extension": ".py",
   "mimetype": "text/x-python",
   "name": "python",
   "nbconvert_exporter": "python",
   "pygments_lexer": "ipython3",
   "version": "3.8.15"
  }
 },
 "nbformat": 4,
 "nbformat_minor": 2
}
