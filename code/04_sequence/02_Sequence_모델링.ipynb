{
  "cells": [
    {
      "cell_type": "markdown",
      "metadata": {
        "id": "bVTCfm-30V58"
      },
      "source": [
        "![image.png](data:image/png;base64,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)"
      ]
    },
    {
      "cell_type": "code",
      "execution_count": 1,
      "metadata": {
        "id": "3n-gf7GNo-GD"
      },
      "outputs": [],
      "source": [
        "# 필요한 패키지 불러오지\n",
        "import pandas as pd\n",
        "import numpy as np\n",
        "import matplotlib.pyplot as plt\n",
        "import seaborn as sns"
      ]
    },
    {
      "cell_type": "code",
      "execution_count": 2,
      "metadata": {
        "colab": {
          "base_uri": "https://localhost:8080/",
          "height": 521
        },
        "id": "joolGK-upKrb",
        "outputId": "29eb9d8f-37ac-4d6e-b522-13efb07f2270"
      },
      "outputs": [
        {
          "data": {
            "text/html": [
              "<div>\n",
              "<style scoped>\n",
              "    .dataframe tbody tr th:only-of-type {\n",
              "        vertical-align: middle;\n",
              "    }\n",
              "\n",
              "    .dataframe tbody tr th {\n",
              "        vertical-align: top;\n",
              "    }\n",
              "\n",
              "    .dataframe thead th {\n",
              "        text-align: right;\n",
              "    }\n",
              "</style>\n",
              "<table border=\"1\" class=\"dataframe\">\n",
              "  <thead>\n",
              "    <tr style=\"text-align: right;\">\n",
              "      <th></th>\n",
              "      <th>Unnamed: 0</th>\n",
              "      <th>ID</th>\n",
              "      <th>Title</th>\n",
              "      <th>Rating</th>\n",
              "      <th>Author</th>\n",
              "      <th>Price</th>\n",
              "      <th>Pdate</th>\n",
              "      <th>Publisher</th>\n",
              "      <th>Btype</th>\n",
              "      <th>Salseindex</th>\n",
              "    </tr>\n",
              "  </thead>\n",
              "  <tbody>\n",
              "    <tr>\n",
              "      <th>9996</th>\n",
              "      <td>9996</td>\n",
              "      <td>97053281</td>\n",
              "      <td>인류사를 가로지른 스마트한 발명들 50</td>\n",
              "      <td>NaN</td>\n",
              "      <td>알프리트 슈미츠</td>\n",
              "      <td>6,700</td>\n",
              "      <td>2014년 06월 10일</td>\n",
              "      <td>서해문집</td>\n",
              "      <td>old</td>\n",
              "      <td>NaN</td>\n",
              "    </tr>\n",
              "    <tr>\n",
              "      <th>9997</th>\n",
              "      <td>9997</td>\n",
              "      <td>97053282</td>\n",
              "      <td>NaN</td>\n",
              "      <td>NaN</td>\n",
              "      <td>NaN</td>\n",
              "      <td>NaN</td>\n",
              "      <td>NaN</td>\n",
              "      <td>NaN</td>\n",
              "      <td>new</td>\n",
              "      <td>NaN</td>\n",
              "    </tr>\n",
              "    <tr>\n",
              "      <th>9998</th>\n",
              "      <td>9998</td>\n",
              "      <td>97053283</td>\n",
              "      <td>NaN</td>\n",
              "      <td>NaN</td>\n",
              "      <td>NaN</td>\n",
              "      <td>NaN</td>\n",
              "      <td>NaN</td>\n",
              "      <td>NaN</td>\n",
              "      <td>new</td>\n",
              "      <td>NaN</td>\n",
              "    </tr>\n",
              "    <tr>\n",
              "      <th>9999</th>\n",
              "      <td>9999</td>\n",
              "      <td>97053284</td>\n",
              "      <td>행복의 기원</td>\n",
              "      <td>NaN</td>\n",
              "      <td>서은국</td>\n",
              "      <td>10,500</td>\n",
              "      <td>2014년 05월 22일</td>\n",
              "      <td>21세기북스</td>\n",
              "      <td>old</td>\n",
              "      <td>NaN</td>\n",
              "    </tr>\n",
              "    <tr>\n",
              "      <th>10000</th>\n",
              "      <td>10000</td>\n",
              "      <td>97053285</td>\n",
              "      <td>NaN</td>\n",
              "      <td>NaN</td>\n",
              "      <td>NaN</td>\n",
              "      <td>NaN</td>\n",
              "      <td>NaN</td>\n",
              "      <td>NaN</td>\n",
              "      <td>new</td>\n",
              "      <td>NaN</td>\n",
              "    </tr>\n",
              "  </tbody>\n",
              "</table>\n",
              "</div>"
            ],
            "text/plain": [
              "       Unnamed: 0        ID                  Title  Rating    Author   Price  \\\n",
              "9996         9996  97053281  인류사를 가로지른 스마트한 발명들 50     NaN  알프리트 슈미츠   6,700   \n",
              "9997         9997  97053282                    NaN     NaN       NaN     NaN   \n",
              "9998         9998  97053283                    NaN     NaN       NaN     NaN   \n",
              "9999         9999  97053284                 행복의 기원     NaN       서은국  10,500   \n",
              "10000       10000  97053285                    NaN     NaN       NaN     NaN   \n",
              "\n",
              "               Pdate Publisher Btype  Salseindex  \n",
              "9996   2014년 06월 10일      서해문집   old         NaN  \n",
              "9997             NaN       NaN   new         NaN  \n",
              "9998             NaN       NaN   new         NaN  \n",
              "9999   2014년 05월 22일    21세기북스   old         NaN  \n",
              "10000            NaN       NaN   new         NaN  "
            ]
          },
          "execution_count": 2,
          "metadata": {},
          "output_type": "execute_result"
        }
      ],
      "source": [
        "df_1 = pd.read_csv('book.csv')\n",
        "\n",
        "df_1.tail()"
      ]
    },
    {
      "cell_type": "code",
      "execution_count": 3,
      "metadata": {
        "colab": {
          "base_uri": "https://localhost:8080/"
        },
        "id": "-BZiQHQ0pK89",
        "outputId": "e4573ac3-40ab-4130-8b7e-9823aa0e918a"
      },
      "outputs": [],
      "source": [
        "# 결측치 제거 (제목과 가격이 있는 행만 유지)\n",
        "df_1.dropna(subset=['Title','Publisher','Btype','Price'], inplace=True)\n",
        "\n",
        "# price  object => 수치형\n",
        "df_1['Price'] = pd.to_numeric(df_1['Price'].str.replace('[^\\d.]', ''), errors='coerce')"
      ]
    },
    {
      "cell_type": "code",
      "execution_count": 4,
      "metadata": {},
      "outputs": [],
      "source": [
        "df_1['Price'].dropna(inplace=True)"
      ]
    },
    {
      "cell_type": "code",
      "execution_count": 5,
      "metadata": {
        "id": "ahZM6dTVqTTD"
      },
      "outputs": [],
      "source": [
        "df = df_1[df_1['Title'].str.contains('[가-힣]', regex=True)]"
      ]
    },
    {
      "cell_type": "code",
      "execution_count": 49,
      "metadata": {},
      "outputs": [],
      "source": [
        "df=df_1[[\"Price\",\"Title\"]].dropna()"
      ]
    },
    {
      "cell_type": "code",
      "execution_count": 50,
      "metadata": {
        "id": "z9ixmgLxpLFI"
      },
      "outputs": [],
      "source": [
        "X = df['Title']\n",
        "y = df['Price'] # 목표, 타겟, 정답, 레이블"
      ]
    },
    {
      "cell_type": "code",
      "execution_count": 51,
      "metadata": {
        "colab": {
          "base_uri": "https://localhost:8080/"
        },
        "id": "Ggmter8zuYIV",
        "outputId": "0a54499b-e868-4679-a613-7fe1d6d5a019"
      },
      "outputs": [
        {
          "data": {
            "text/plain": [
              "645.4022988505748"
            ]
          },
          "execution_count": 51,
          "metadata": {},
          "output_type": "execute_result"
        }
      ],
      "source": [
        "df['Price'].mean()"
      ]
    },
    {
      "cell_type": "code",
      "execution_count": 52,
      "metadata": {},
      "outputs": [
        {
          "name": "stdout",
          "output_type": "stream",
          "text": [
            "책 최대 길이 :  11\n"
          ]
        }
      ],
      "source": [
        "lens = []\n",
        "for i in df.Title.str.split(\" \"):\n",
        "    lens.append(len(i))\n",
        "print(\"책 최대 길이 : \", max(lens))\n",
        "\n",
        "name_len = 24"
      ]
    },
    {
      "cell_type": "code",
      "execution_count": 53,
      "metadata": {
        "id": "mhpOmFoPtC5A"
      },
      "outputs": [],
      "source": [
        "from tensorflow.keras.models import Sequential\n",
        "from tensorflow.keras.layers import Dense, Embedding, Flatten\n",
        "from tensorflow.keras.preprocessing.text import Tokenizer\n",
        "from tensorflow.keras.preprocessing.sequence import pad_sequences\n",
        "from sklearn.model_selection import train_test_split"
      ]
    },
    {
      "cell_type": "code",
      "execution_count": 54,
      "metadata": {
        "id": "IgxFxwbDpLH1"
      },
      "outputs": [],
      "source": [
        "# 텍스트 토큰화 및 시퀀스 변환\n",
        "tokenizer = Tokenizer()\n",
        "# Tokenizer 객체를 사용하여 텍스트를 토큰화, 각 토큰(단어)에 고유한 정수 인덱스 할당\n",
        "tokenizer.fit_on_texts(X)\n",
        "X_seq = tokenizer.texts_to_sequences(X)"
      ]
    },
    {
      "cell_type": "code",
      "execution_count": 55,
      "metadata": {
        "colab": {
          "base_uri": "https://localhost:8080/"
        },
        "id": "Y15rY8jaRKvT",
        "outputId": "c34b8123-de0d-4cc0-ab54-62cb72e15220"
      },
      "outputs": [
        {
          "data": {
            "text/plain": [
              "599"
            ]
          },
          "execution_count": 55,
          "metadata": {},
          "output_type": "execute_result"
        }
      ],
      "source": [
        "len(tokenizer.word_index)"
      ]
    },
    {
      "cell_type": "code",
      "execution_count": 56,
      "metadata": {
        "colab": {
          "base_uri": "https://localhost:8080/"
        },
        "id": "MPTS5Q2xOPyX",
        "outputId": "4d98fe49-d68a-44ca-c96f-0dde44b362f9"
      },
      "outputs": [
        {
          "name": "stdout",
          "output_type": "stream",
          "text": [
            "삼국지 (상)\n"
          ]
        }
      ],
      "source": [
        "print(X.iloc[1])\n"
      ]
    },
    {
      "cell_type": "code",
      "execution_count": 57,
      "metadata": {
        "colab": {
          "base_uri": "https://localhost:8080/"
        },
        "id": "XFfhqSQjOKJc",
        "outputId": "00d81bf2-19b0-44df-f4da-c17cd08a0e3a"
      },
      "outputs": [
        {
          "data": {
            "text/plain": [
              "[31, 179, 180, 181, 182, 9]"
            ]
          },
          "execution_count": 57,
          "metadata": {},
          "output_type": "execute_result"
        }
      ],
      "source": [
        "X_seq[0]"
      ]
    },
    {
      "cell_type": "code",
      "execution_count": 58,
      "metadata": {
        "id": "itGJFGvqpLKk"
      },
      "outputs": [],
      "source": [
        "# 패딩으로 시퀀스 길이 맞추기\n",
        "X_pad = pad_sequences(X_seq, maxlen=name_len)"
      ]
    },
    {
      "cell_type": "code",
      "execution_count": 59,
      "metadata": {
        "colab": {
          "base_uri": "https://localhost:8080/"
        },
        "id": "Nm61con2tW8V",
        "outputId": "8e3235aa-780d-4332-93b6-32f7249d48c9"
      },
      "outputs": [
        {
          "data": {
            "text/plain": [
              "array([  0,   0,   0,   0,   0,   0,   0,   0,   0,   0,   0,   0,   0,\n",
              "         0,   0,   0,   0,   0,  31, 179, 180, 181, 182,   9], dtype=int32)"
            ]
          },
          "execution_count": 59,
          "metadata": {},
          "output_type": "execute_result"
        }
      ],
      "source": [
        "X_pad[0]"
      ]
    },
    {
      "cell_type": "code",
      "execution_count": 60,
      "metadata": {
        "id": "Fz-6v2Amw7Or"
      },
      "outputs": [],
      "source": [
        "# 훈련 데이터와 검증 데이터 분리\n",
        "X_train, X_test, y_train, y_test = train_test_split(X_pad, y, test_size=0.2, random_state=42)"
      ]
    },
    {
      "cell_type": "code",
      "execution_count": 61,
      "metadata": {
        "colab": {
          "base_uri": "https://localhost:8080/"
        },
        "id": "PqYKfcFbLTAe",
        "outputId": "fb40af8c-510a-4598-a280-8184eba6d5a4"
      },
      "outputs": [
        {
          "data": {
            "text/plain": [
              "array([  0,   0,   0,   0,   0,   0,   0,   0,   0,   0,   0,   0,   0,\n",
              "         0,   0,   0,   0,   0,   0,   0,   2, 156, 157, 158], dtype=int32)"
            ]
          },
          "execution_count": 61,
          "metadata": {},
          "output_type": "execute_result"
        }
      ],
      "source": [
        "X_train[0]"
      ]
    },
    {
      "cell_type": "code",
      "execution_count": 62,
      "metadata": {
        "id": "yeYpsGlExFqG"
      },
      "outputs": [
        {
          "name": "stderr",
          "output_type": "stream",
          "text": [
            "/home/tommy/miniconda3/envs/311/lib/python3.11/site-packages/keras/src/layers/core/embedding.py:90: UserWarning: Argument `input_length` is deprecated. Just remove it.\n",
            "  warnings.warn(\n",
            "WARNING: All log messages before absl::InitializeLog() is called are written to STDERR\n",
            "I0000 00:00:1729859409.914864  278839 cuda_executor.cc:1015] successful NUMA node read from SysFS had negative value (-1), but there must be at least one NUMA node, so returning NUMA node zero. See more at https://github.com/torvalds/linux/blob/v6.0/Documentation/ABI/testing/sysfs-bus-pci#L344-L355\n",
            "I0000 00:00:1729859409.965340  278839 cuda_executor.cc:1015] successful NUMA node read from SysFS had negative value (-1), but there must be at least one NUMA node, so returning NUMA node zero. See more at https://github.com/torvalds/linux/blob/v6.0/Documentation/ABI/testing/sysfs-bus-pci#L344-L355\n",
            "I0000 00:00:1729859409.969280  278839 cuda_executor.cc:1015] successful NUMA node read from SysFS had negative value (-1), but there must be at least one NUMA node, so returning NUMA node zero. See more at https://github.com/torvalds/linux/blob/v6.0/Documentation/ABI/testing/sysfs-bus-pci#L344-L355\n",
            "I0000 00:00:1729859409.977973  278839 cuda_executor.cc:1015] successful NUMA node read from SysFS had negative value (-1), but there must be at least one NUMA node, so returning NUMA node zero. See more at https://github.com/torvalds/linux/blob/v6.0/Documentation/ABI/testing/sysfs-bus-pci#L344-L355\n",
            "I0000 00:00:1729859409.981464  278839 cuda_executor.cc:1015] successful NUMA node read from SysFS had negative value (-1), but there must be at least one NUMA node, so returning NUMA node zero. See more at https://github.com/torvalds/linux/blob/v6.0/Documentation/ABI/testing/sysfs-bus-pci#L344-L355\n",
            "I0000 00:00:1729859409.987041  278839 cuda_executor.cc:1015] successful NUMA node read from SysFS had negative value (-1), but there must be at least one NUMA node, so returning NUMA node zero. See more at https://github.com/torvalds/linux/blob/v6.0/Documentation/ABI/testing/sysfs-bus-pci#L344-L355\n",
            "I0000 00:00:1729859410.109711  278839 cuda_executor.cc:1015] successful NUMA node read from SysFS had negative value (-1), but there must be at least one NUMA node, so returning NUMA node zero. See more at https://github.com/torvalds/linux/blob/v6.0/Documentation/ABI/testing/sysfs-bus-pci#L344-L355\n",
            "I0000 00:00:1729859410.111327  278839 cuda_executor.cc:1015] successful NUMA node read from SysFS had negative value (-1), but there must be at least one NUMA node, so returning NUMA node zero. See more at https://github.com/torvalds/linux/blob/v6.0/Documentation/ABI/testing/sysfs-bus-pci#L344-L355\n",
            "I0000 00:00:1729859410.113174  278839 cuda_executor.cc:1015] successful NUMA node read from SysFS had negative value (-1), but there must be at least one NUMA node, so returning NUMA node zero. See more at https://github.com/torvalds/linux/blob/v6.0/Documentation/ABI/testing/sysfs-bus-pci#L344-L355\n",
            "2024-10-25 21:30:10.114646: I tensorflow/core/common_runtime/gpu/gpu_device.cc:2021] Created device /job:localhost/replica:0/task:0/device:GPU:0 with 9813 MB memory:  -> device: 0, name: NVIDIA GeForce RTX 3060, pci bus id: 0000:07:00.0, compute capability: 8.6\n"
          ]
        },
        {
          "data": {
            "text/html": [
              "<pre style=\"white-space:pre;overflow-x:auto;line-height:normal;font-family:Menlo,'DejaVu Sans Mono',consolas,'Courier New',monospace\"><span style=\"font-weight: bold\">Model: \"sequential\"</span>\n",
              "</pre>\n"
            ],
            "text/plain": [
              "\u001b[1mModel: \"sequential\"\u001b[0m\n"
            ]
          },
          "metadata": {},
          "output_type": "display_data"
        },
        {
          "data": {
            "text/html": [
              "<pre style=\"white-space:pre;overflow-x:auto;line-height:normal;font-family:Menlo,'DejaVu Sans Mono',consolas,'Courier New',monospace\">┏━━━━━━━━━━━━━━━━━━━━━━━━━━━━━━━━━┳━━━━━━━━━━━━━━━━━━━━━━━━┳━━━━━━━━━━━━━━━┓\n",
              "┃<span style=\"font-weight: bold\"> Layer (type)                    </span>┃<span style=\"font-weight: bold\"> Output Shape           </span>┃<span style=\"font-weight: bold\">       Param # </span>┃\n",
              "┡━━━━━━━━━━━━━━━━━━━━━━━━━━━━━━━━━╇━━━━━━━━━━━━━━━━━━━━━━━━╇━━━━━━━━━━━━━━━┩\n",
              "│ embedding (<span style=\"color: #0087ff; text-decoration-color: #0087ff\">Embedding</span>)           │ (<span style=\"color: #00d7ff; text-decoration-color: #00d7ff\">None</span>, <span style=\"color: #00af00; text-decoration-color: #00af00\">24</span>, <span style=\"color: #00af00; text-decoration-color: #00af00\">128</span>)        │        <span style=\"color: #00af00; text-decoration-color: #00af00\">76,800</span> │\n",
              "├─────────────────────────────────┼────────────────────────┼───────────────┤\n",
              "│ lstm (<span style=\"color: #0087ff; text-decoration-color: #0087ff\">LSTM</span>)                     │ (<span style=\"color: #00d7ff; text-decoration-color: #00d7ff\">None</span>, <span style=\"color: #00af00; text-decoration-color: #00af00\">64</span>)             │        <span style=\"color: #00af00; text-decoration-color: #00af00\">49,408</span> │\n",
              "├─────────────────────────────────┼────────────────────────┼───────────────┤\n",
              "│ dropout (<span style=\"color: #0087ff; text-decoration-color: #0087ff\">Dropout</span>)               │ (<span style=\"color: #00d7ff; text-decoration-color: #00d7ff\">None</span>, <span style=\"color: #00af00; text-decoration-color: #00af00\">64</span>)             │             <span style=\"color: #00af00; text-decoration-color: #00af00\">0</span> │\n",
              "├─────────────────────────────────┼────────────────────────┼───────────────┤\n",
              "│ dense (<span style=\"color: #0087ff; text-decoration-color: #0087ff\">Dense</span>)                   │ (<span style=\"color: #00d7ff; text-decoration-color: #00d7ff\">None</span>, <span style=\"color: #00af00; text-decoration-color: #00af00\">32</span>)             │         <span style=\"color: #00af00; text-decoration-color: #00af00\">2,080</span> │\n",
              "├─────────────────────────────────┼────────────────────────┼───────────────┤\n",
              "│ dropout_1 (<span style=\"color: #0087ff; text-decoration-color: #0087ff\">Dropout</span>)             │ (<span style=\"color: #00d7ff; text-decoration-color: #00d7ff\">None</span>, <span style=\"color: #00af00; text-decoration-color: #00af00\">32</span>)             │             <span style=\"color: #00af00; text-decoration-color: #00af00\">0</span> │\n",
              "├─────────────────────────────────┼────────────────────────┼───────────────┤\n",
              "│ dense_1 (<span style=\"color: #0087ff; text-decoration-color: #0087ff\">Dense</span>)                 │ (<span style=\"color: #00d7ff; text-decoration-color: #00d7ff\">None</span>, <span style=\"color: #00af00; text-decoration-color: #00af00\">1</span>)              │            <span style=\"color: #00af00; text-decoration-color: #00af00\">33</span> │\n",
              "└─────────────────────────────────┴────────────────────────┴───────────────┘\n",
              "</pre>\n"
            ],
            "text/plain": [
              "┏━━━━━━━━━━━━━━━━━━━━━━━━━━━━━━━━━┳━━━━━━━━━━━━━━━━━━━━━━━━┳━━━━━━━━━━━━━━━┓\n",
              "┃\u001b[1m \u001b[0m\u001b[1mLayer (type)                   \u001b[0m\u001b[1m \u001b[0m┃\u001b[1m \u001b[0m\u001b[1mOutput Shape          \u001b[0m\u001b[1m \u001b[0m┃\u001b[1m \u001b[0m\u001b[1m      Param #\u001b[0m\u001b[1m \u001b[0m┃\n",
              "┡━━━━━━━━━━━━━━━━━━━━━━━━━━━━━━━━━╇━━━━━━━━━━━━━━━━━━━━━━━━╇━━━━━━━━━━━━━━━┩\n",
              "│ embedding (\u001b[38;5;33mEmbedding\u001b[0m)           │ (\u001b[38;5;45mNone\u001b[0m, \u001b[38;5;34m24\u001b[0m, \u001b[38;5;34m128\u001b[0m)        │        \u001b[38;5;34m76,800\u001b[0m │\n",
              "├─────────────────────────────────┼────────────────────────┼───────────────┤\n",
              "│ lstm (\u001b[38;5;33mLSTM\u001b[0m)                     │ (\u001b[38;5;45mNone\u001b[0m, \u001b[38;5;34m64\u001b[0m)             │        \u001b[38;5;34m49,408\u001b[0m │\n",
              "├─────────────────────────────────┼────────────────────────┼───────────────┤\n",
              "│ dropout (\u001b[38;5;33mDropout\u001b[0m)               │ (\u001b[38;5;45mNone\u001b[0m, \u001b[38;5;34m64\u001b[0m)             │             \u001b[38;5;34m0\u001b[0m │\n",
              "├─────────────────────────────────┼────────────────────────┼───────────────┤\n",
              "│ dense (\u001b[38;5;33mDense\u001b[0m)                   │ (\u001b[38;5;45mNone\u001b[0m, \u001b[38;5;34m32\u001b[0m)             │         \u001b[38;5;34m2,080\u001b[0m │\n",
              "├─────────────────────────────────┼────────────────────────┼───────────────┤\n",
              "│ dropout_1 (\u001b[38;5;33mDropout\u001b[0m)             │ (\u001b[38;5;45mNone\u001b[0m, \u001b[38;5;34m32\u001b[0m)             │             \u001b[38;5;34m0\u001b[0m │\n",
              "├─────────────────────────────────┼────────────────────────┼───────────────┤\n",
              "│ dense_1 (\u001b[38;5;33mDense\u001b[0m)                 │ (\u001b[38;5;45mNone\u001b[0m, \u001b[38;5;34m1\u001b[0m)              │            \u001b[38;5;34m33\u001b[0m │\n",
              "└─────────────────────────────────┴────────────────────────┴───────────────┘\n"
            ]
          },
          "metadata": {},
          "output_type": "display_data"
        },
        {
          "data": {
            "text/html": [
              "<pre style=\"white-space:pre;overflow-x:auto;line-height:normal;font-family:Menlo,'DejaVu Sans Mono',consolas,'Courier New',monospace\"><span style=\"font-weight: bold\"> Total params: </span><span style=\"color: #00af00; text-decoration-color: #00af00\">128,321</span> (501.25 KB)\n",
              "</pre>\n"
            ],
            "text/plain": [
              "\u001b[1m Total params: \u001b[0m\u001b[38;5;34m128,321\u001b[0m (501.25 KB)\n"
            ]
          },
          "metadata": {},
          "output_type": "display_data"
        },
        {
          "data": {
            "text/html": [
              "<pre style=\"white-space:pre;overflow-x:auto;line-height:normal;font-family:Menlo,'DejaVu Sans Mono',consolas,'Courier New',monospace\"><span style=\"font-weight: bold\"> Trainable params: </span><span style=\"color: #00af00; text-decoration-color: #00af00\">128,321</span> (501.25 KB)\n",
              "</pre>\n"
            ],
            "text/plain": [
              "\u001b[1m Trainable params: \u001b[0m\u001b[38;5;34m128,321\u001b[0m (501.25 KB)\n"
            ]
          },
          "metadata": {},
          "output_type": "display_data"
        },
        {
          "data": {
            "text/html": [
              "<pre style=\"white-space:pre;overflow-x:auto;line-height:normal;font-family:Menlo,'DejaVu Sans Mono',consolas,'Courier New',monospace\"><span style=\"font-weight: bold\"> Non-trainable params: </span><span style=\"color: #00af00; text-decoration-color: #00af00\">0</span> (0.00 B)\n",
              "</pre>\n"
            ],
            "text/plain": [
              "\u001b[1m Non-trainable params: \u001b[0m\u001b[38;5;34m0\u001b[0m (0.00 B)\n"
            ]
          },
          "metadata": {},
          "output_type": "display_data"
        }
      ],
      "source": [
        "from tensorflow.keras.layers import LSTM, Dropout\n",
        "\n",
        "# 모델 설계, 구축\n",
        "model_fnn = Sequential()\n",
        "\n",
        "model_fnn.add(Embedding(input_dim=len(tokenizer.word_index)+1, output_dim=128, input_length=name_len))\n",
        "model_fnn.add(LSTM(64))\n",
        "model_fnn.add(Dropout(0.5))\n",
        "model_fnn.add(Dense(32, activation='relu'))\n",
        "model_fnn.add(Dropout(0.5))\n",
        "model_fnn.add(Dense(1, activation='linear'))\n",
        "\n",
        "model_fnn.build(input_shape=(None, name_len))\n",
        "model_fnn.summary()"
      ]
    },
    {
      "cell_type": "code",
      "execution_count": 63,
      "metadata": {
        "colab": {
          "base_uri": "https://localhost:8080/"
        },
        "id": "SDbtw649QYLl",
        "outputId": "96e77d3b-f187-4d92-c972-340debfcbf77"
      },
      "outputs": [
        {
          "name": "stdout",
          "output_type": "stream",
          "text": [
            "Embedding layer weights shape: (600, 128)\n",
            "Initial vector for the first word:\n",
            " (600, 128)\n"
          ]
        }
      ],
      "source": [
        "# 임베딩 된 벡터 값 확인\n",
        "# 모델의 임베딩 층 가중치 추출\n",
        "embedding_layer_weights = model_fnn.layers[0].get_weights()[0]\n",
        "\n",
        "# 가중치 배열의 형태 확인\n",
        "print(\"Embedding layer weights shape:\", embedding_layer_weights.shape)\n",
        "\n",
        "# 예를 들어, 사전에 정의된 첫 번째 단어의 초기 밀집 벡터 값 확인\n",
        "print(\"Initial vector for the first word:\\n\", (embedding_layer_weights.shape))"
      ]
    },
    {
      "cell_type": "code",
      "execution_count": 64,
      "metadata": {
        "id": "yNLkv_CpzKdR"
      },
      "outputs": [],
      "source": [
        "# 모델 컴파일\n",
        "model_fnn.compile(optimizer='adam', loss='mean_squared_error')"
      ]
    },
    {
      "cell_type": "code",
      "execution_count": 65,
      "metadata": {},
      "outputs": [
        {
          "data": {
            "text/plain": [
              "4293    400.0\n",
              "2300    500.0\n",
              "1021    900.0\n",
              "2192    500.0\n",
              "5843    900.0\n",
              "        ...  \n",
              "1165    900.0\n",
              "4214    300.0\n",
              "2310    800.0\n",
              "2488    500.0\n",
              "2453    900.0\n",
              "Name: Price, Length: 208, dtype: float64"
            ]
          },
          "execution_count": 65,
          "metadata": {},
          "output_type": "execute_result"
        }
      ],
      "source": [
        "y_train"
      ]
    },
    {
      "cell_type": "code",
      "execution_count": 69,
      "metadata": {
        "colab": {
          "base_uri": "https://localhost:8080/"
        },
        "id": "iEWN5EX4w7mX",
        "outputId": "129e5d26-238c-4ab9-886c-b3ab36d34547"
      },
      "outputs": [
        {
          "name": "stdout",
          "output_type": "stream",
          "text": [
            "Epoch 1/100000\n",
            "\u001b[1m6/6\u001b[0m \u001b[32m━━━━━━━━━━━━━━━━━━━━\u001b[0m\u001b[37m\u001b[0m \u001b[1m0s\u001b[0m 12ms/step - loss: 68915.5000 - val_loss: 121159.1641\n",
            "Epoch 2/100000\n",
            "\u001b[1m6/6\u001b[0m \u001b[32m━━━━━━━━━━━━━━━━━━━━\u001b[0m\u001b[37m\u001b[0m \u001b[1m0s\u001b[0m 7ms/step - loss: 72264.3594 - val_loss: 120194.8906\n",
            "Epoch 3/100000\n",
            "\u001b[1m6/6\u001b[0m \u001b[32m━━━━━━━━━━━━━━━━━━━━\u001b[0m\u001b[37m\u001b[0m \u001b[1m0s\u001b[0m 7ms/step - loss: 64310.4531 - val_loss: 116815.2891\n",
            "Epoch 4/100000\n",
            "\u001b[1m6/6\u001b[0m \u001b[32m━━━━━━━━━━━━━━━━━━━━\u001b[0m\u001b[37m\u001b[0m \u001b[1m0s\u001b[0m 7ms/step - loss: 74803.9766 - val_loss: 116335.0703\n",
            "Epoch 5/100000\n",
            "\u001b[1m6/6\u001b[0m \u001b[32m━━━━━━━━━━━━━━━━━━━━\u001b[0m\u001b[37m\u001b[0m \u001b[1m0s\u001b[0m 7ms/step - loss: 66535.0547 - val_loss: 124292.6562\n",
            "Epoch 6/100000\n",
            "\u001b[1m6/6\u001b[0m \u001b[32m━━━━━━━━━━━━━━━━━━━━\u001b[0m\u001b[37m\u001b[0m \u001b[1m0s\u001b[0m 7ms/step - loss: 78213.2344 - val_loss: 120115.1172\n",
            "Epoch 7/100000\n",
            "\u001b[1m6/6\u001b[0m \u001b[32m━━━━━━━━━━━━━━━━━━━━\u001b[0m\u001b[37m\u001b[0m \u001b[1m0s\u001b[0m 7ms/step - loss: 54644.0312 - val_loss: 113220.5156\n",
            "Epoch 8/100000\n",
            "\u001b[1m6/6\u001b[0m \u001b[32m━━━━━━━━━━━━━━━━━━━━\u001b[0m\u001b[37m\u001b[0m \u001b[1m0s\u001b[0m 7ms/step - loss: 69053.8281 - val_loss: 108775.9141\n",
            "Epoch 9/100000\n",
            "\u001b[1m6/6\u001b[0m \u001b[32m━━━━━━━━━━━━━━━━━━━━\u001b[0m\u001b[37m\u001b[0m \u001b[1m0s\u001b[0m 7ms/step - loss: 66763.0625 - val_loss: 107994.4375\n",
            "Epoch 10/100000\n",
            "\u001b[1m6/6\u001b[0m \u001b[32m━━━━━━━━━━━━━━━━━━━━\u001b[0m\u001b[37m\u001b[0m \u001b[1m0s\u001b[0m 7ms/step - loss: 52680.2266 - val_loss: 101800.6562\n",
            "Epoch 11/100000\n",
            "\u001b[1m6/6\u001b[0m \u001b[32m━━━━━━━━━━━━━━━━━━━━\u001b[0m\u001b[37m\u001b[0m \u001b[1m0s\u001b[0m 7ms/step - loss: 57539.7930 - val_loss: 95222.4062\n",
            "Epoch 12/100000\n",
            "\u001b[1m6/6\u001b[0m \u001b[32m━━━━━━━━━━━━━━━━━━━━\u001b[0m\u001b[37m\u001b[0m \u001b[1m0s\u001b[0m 8ms/step - loss: 74963.7969 - val_loss: 104267.8203\n",
            "Epoch 13/100000\n",
            "\u001b[1m6/6\u001b[0m \u001b[32m━━━━━━━━━━━━━━━━━━━━\u001b[0m\u001b[37m\u001b[0m \u001b[1m0s\u001b[0m 7ms/step - loss: 59076.6680 - val_loss: 101643.0938\n",
            "Epoch 14/100000\n",
            "\u001b[1m6/6\u001b[0m \u001b[32m━━━━━━━━━━━━━━━━━━━━\u001b[0m\u001b[37m\u001b[0m \u001b[1m0s\u001b[0m 7ms/step - loss: 58594.4023 - val_loss: 106029.0000\n",
            "Epoch 15/100000\n",
            "\u001b[1m6/6\u001b[0m \u001b[32m━━━━━━━━━━━━━━━━━━━━\u001b[0m\u001b[37m\u001b[0m \u001b[1m0s\u001b[0m 7ms/step - loss: 54528.1211 - val_loss: 100777.2031\n",
            "Epoch 16/100000\n",
            "\u001b[1m6/6\u001b[0m \u001b[32m━━━━━━━━━━━━━━━━━━━━\u001b[0m\u001b[37m\u001b[0m \u001b[1m0s\u001b[0m 7ms/step - loss: 58565.0273 - val_loss: 89971.2500\n",
            "Epoch 17/100000\n",
            "\u001b[1m6/6\u001b[0m \u001b[32m━━━━━━━━━━━━━━━━━━━━\u001b[0m\u001b[37m\u001b[0m \u001b[1m0s\u001b[0m 10ms/step - loss: 64732.5273 - val_loss: 106708.6328\n",
            "Epoch 18/100000\n",
            "\u001b[1m6/6\u001b[0m \u001b[32m━━━━━━━━━━━━━━━━━━━━\u001b[0m\u001b[37m\u001b[0m \u001b[1m0s\u001b[0m 7ms/step - loss: 43806.1016 - val_loss: 99237.0234\n",
            "Epoch 19/100000\n",
            "\u001b[1m6/6\u001b[0m \u001b[32m━━━━━━━━━━━━━━━━━━━━\u001b[0m\u001b[37m\u001b[0m \u001b[1m0s\u001b[0m 7ms/step - loss: 67424.2812 - val_loss: 103224.3203\n",
            "Epoch 20/100000\n",
            "\u001b[1m6/6\u001b[0m \u001b[32m━━━━━━━━━━━━━━━━━━━━\u001b[0m\u001b[37m\u001b[0m \u001b[1m0s\u001b[0m 7ms/step - loss: 49319.4766 - val_loss: 97425.0156\n",
            "Epoch 21/100000\n",
            "\u001b[1m6/6\u001b[0m \u001b[32m━━━━━━━━━━━━━━━━━━━━\u001b[0m\u001b[37m\u001b[0m \u001b[1m0s\u001b[0m 7ms/step - loss: 56382.2734 - val_loss: 94061.7500\n",
            "Epoch 22/100000\n",
            "\u001b[1m6/6\u001b[0m \u001b[32m━━━━━━━━━━━━━━━━━━━━\u001b[0m\u001b[37m\u001b[0m \u001b[1m0s\u001b[0m 7ms/step - loss: 51818.8320 - val_loss: 96103.3594\n",
            "Epoch 23/100000\n",
            "\u001b[1m6/6\u001b[0m \u001b[32m━━━━━━━━━━━━━━━━━━━━\u001b[0m\u001b[37m\u001b[0m \u001b[1m0s\u001b[0m 7ms/step - loss: 60217.0000 - val_loss: 92796.3359\n",
            "Epoch 24/100000\n",
            "\u001b[1m6/6\u001b[0m \u001b[32m━━━━━━━━━━━━━━━━━━━━\u001b[0m\u001b[37m\u001b[0m \u001b[1m0s\u001b[0m 7ms/step - loss: 41069.0117 - val_loss: 86595.7812\n",
            "Epoch 25/100000\n",
            "\u001b[1m6/6\u001b[0m \u001b[32m━━━━━━━━━━━━━━━━━━━━\u001b[0m\u001b[37m\u001b[0m \u001b[1m0s\u001b[0m 7ms/step - loss: 52011.7383 - val_loss: 92231.3438\n",
            "Epoch 26/100000\n",
            "\u001b[1m6/6\u001b[0m \u001b[32m━━━━━━━━━━━━━━━━━━━━\u001b[0m\u001b[37m\u001b[0m \u001b[1m0s\u001b[0m 7ms/step - loss: 52379.8867 - val_loss: 103127.7344\n",
            "Epoch 27/100000\n",
            "\u001b[1m6/6\u001b[0m \u001b[32m━━━━━━━━━━━━━━━━━━━━\u001b[0m\u001b[37m\u001b[0m \u001b[1m0s\u001b[0m 7ms/step - loss: 51870.6523 - val_loss: 100388.6172\n",
            "Epoch 28/100000\n",
            "\u001b[1m6/6\u001b[0m \u001b[32m━━━━━━━━━━━━━━━━━━━━\u001b[0m\u001b[37m\u001b[0m \u001b[1m0s\u001b[0m 7ms/step - loss: 40497.9414 - val_loss: 104372.7500\n",
            "Epoch 29/100000\n",
            "\u001b[1m6/6\u001b[0m \u001b[32m━━━━━━━━━━━━━━━━━━━━\u001b[0m\u001b[37m\u001b[0m \u001b[1m0s\u001b[0m 7ms/step - loss: 41967.6367 - val_loss: 99512.6406\n",
            "Epoch 30/100000\n",
            "\u001b[1m6/6\u001b[0m \u001b[32m━━━━━━━━━━━━━━━━━━━━\u001b[0m\u001b[37m\u001b[0m \u001b[1m0s\u001b[0m 7ms/step - loss: 50357.0508 - val_loss: 92345.5156\n",
            "Epoch 31/100000\n",
            "\u001b[1m6/6\u001b[0m \u001b[32m━━━━━━━━━━━━━━━━━━━━\u001b[0m\u001b[37m\u001b[0m \u001b[1m0s\u001b[0m 7ms/step - loss: 42156.0820 - val_loss: 88455.9297\n",
            "Epoch 32/100000\n",
            "\u001b[1m6/6\u001b[0m \u001b[32m━━━━━━━━━━━━━━━━━━━━\u001b[0m\u001b[37m\u001b[0m \u001b[1m0s\u001b[0m 7ms/step - loss: 50106.3828 - val_loss: 89034.1562\n",
            "Epoch 33/100000\n",
            "\u001b[1m6/6\u001b[0m \u001b[32m━━━━━━━━━━━━━━━━━━━━\u001b[0m\u001b[37m\u001b[0m \u001b[1m0s\u001b[0m 7ms/step - loss: 50288.2031 - val_loss: 88685.4766\n",
            "Epoch 34/100000\n",
            "\u001b[1m6/6\u001b[0m \u001b[32m━━━━━━━━━━━━━━━━━━━━\u001b[0m\u001b[37m\u001b[0m \u001b[1m0s\u001b[0m 7ms/step - loss: 40203.5664 - val_loss: 89565.2578\n"
          ]
        }
      ],
      "source": [
        "from tensorflow.keras.callbacks import EarlyStopping\n",
        "\n",
        "EarlyStopping_ = EarlyStopping(patience=10)\n",
        "\n",
        "# 모델 훈련\n",
        "history = model_fnn.fit(X_train, y_train, epochs=100000, batch_size=32, validation_split=0.2, callbacks=[EarlyStopping_])"
      ]
    },
    {
      "cell_type": "code",
      "execution_count": 67,
      "metadata": {
        "colab": {
          "base_uri": "https://localhost:8080/"
        },
        "id": "Ii8aXV31w7pS",
        "outputId": "c4f2d305-2e6f-41d1-deb3-c07c2b7bb7d0"
      },
      "outputs": [
        {
          "name": "stdout",
          "output_type": "stream",
          "text": [
            "Test Loss: 115409.46875\n"
          ]
        }
      ],
      "source": [
        "loss = model_fnn.evaluate(X_test, y_test, verbose=0)\n",
        "print(f'Test Loss: {loss}')"
      ]
    },
    {
      "cell_type": "code",
      "execution_count": 68,
      "metadata": {
        "colab": {
          "base_uri": "https://localhost:8080/"
        },
        "id": "tAhhGvaW1T7V",
        "outputId": "1b856b96-0c36-4818-c14b-34b306dfd7a2"
      },
      "outputs": [
        {
          "name": "stdout",
          "output_type": "stream",
          "text": [
            "Test Loss: 115409.46875\n",
            "\u001b[1m2/2\u001b[0m \u001b[32m━━━━━━━━━━━━━━━━━━━━\u001b[0m\u001b[37m\u001b[0m \u001b[1m0s\u001b[0m 71ms/step\n",
            "Mean Squared Error (MSE): 115409.46921770951\n",
            "Root Mean Squared Error (RMSE): 339.7196921253013\n",
            "Mean Absolute Error (MAE): 299.1862030029297\n",
            "R-squared (R²): -0.31450981399179967\n"
          ]
        }
      ],
      "source": [
        "# 예측 및 평가\n",
        "\n",
        "from sklearn.metrics import mean_squared_error, mean_absolute_error, r2_score\n",
        "import numpy as np\n",
        "\n",
        "# 모델 평가: Keras에서 반환하는 손실값\n",
        "loss = model_fnn.evaluate(X_test, y_test, verbose=0)\n",
        "print(f'Test Loss: {loss}')\n",
        "\n",
        "# 예측값 생성\n",
        "y_pred = model_fnn.predict(X_test).flatten()\n",
        "\n",
        "# MSE 계산\n",
        "mse = mean_squared_error(y_test, y_pred)\n",
        "print(f'Mean Squared Error (MSE): {mse}')\n",
        "\n",
        "# RMSE 계산\n",
        "rmse = np.sqrt(mse)\n",
        "print(f'Root Mean Squared Error (RMSE): {rmse}')\n",
        "\n",
        "# MAE 계산\n",
        "mae = mean_absolute_error(y_test, y_pred)\n",
        "print(f'Mean Absolute Error (MAE): {mae}')\n",
        "\n",
        "# R² 계산\n",
        "r2 = r2_score(y_test, y_pred)\n",
        "print(f'R-squared (R²): {r2}')"
      ]
    },
    {
      "attachments": {
        "image.png": {
          "image/png": "[encoded data removed]"
        }
      },
      "cell_type": "markdown",
      "metadata": {},
      "source": [
        "![image.png](attachment:image.png)"
      ]
    },
    {
      "cell_type": "markdown",
      "metadata": {
        "id": "tA9zDN3j2Uot"
      },
      "source": [
        "평균 가격 : 10204"
      ]
    }
  ],
  "metadata": {
    "colab": {
      "provenance": []
    },
    "kernelspec": {
      "display_name": "311",
      "language": "python",
      "name": "python3"
    },
    "language_info": {
      "codemirror_mode": {
        "name": "ipython",
        "version": 3
      },
      "file_extension": ".py",
      "mimetype": "text/x-python",
      "name": "python",
      "nbconvert_exporter": "python",
      "pygments_lexer": "ipython3",
      "version": "3.11.10"
    }
  },
  "nbformat": 4,
  "nbformat_minor": 0
}
