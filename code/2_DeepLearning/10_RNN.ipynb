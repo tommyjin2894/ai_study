{
 "cells": [
  {
   "cell_type": "markdown",
   "metadata": {
    "vscode": {
     "languageId": "plaintext"
    }
   },
   "source": [
    "### RNN(Reccurent Neural Networks)\n",
    "<div style=\"text-align: center;\">\n",
    "    <img src=\"https://miro.medium.com/v2/resize:fit:720/format:webp/1*EeRwi4cBjHyBuhmoR7IGYw.png\" width=\"500\" alt=\"Example Image\"/>\n",
    "    <p>이미지 출처: <a href=\"https://medium.com\">medium</a></p>\n",
    "</div>\n",
    "\n",
    "- 시계열, 자연어, 순서가 있는 경우 이전의 정보를 다음 입력으로 사용\n",
    "- 시퀀스 데이터 처리에 특화\n",
    "- 순서(Sequence) 정보가 중요하다\n",
    "- 음성, 자연어, 시간 순서 데이터 등이 있다\n",
    "- 하나의 은닉층이 순차적으로 여러번 반복해서 사용된다.\n"
   ]
  },
  {
   "cell_type": "markdown",
   "metadata": {},
   "source": [
    "### 시퀀스 데이터\n",
    "- 텍스트 : 단어들의 시퀀스\n",
    "    - 단어들의 문맥\n",
    "    - 단어간의 관계 정보\n",
    "    - 어떤 단어로 어떤 순서로 언제 사용되었는지에 대한 정보 추출 용이\n",
    "- 비디오 : 이미지의 시퀀스"
   ]
  },
  {
   "cell_type": "markdown",
   "metadata": {},
   "source": [
    "### RNN과 FNN 모델의 차이점\n",
    "- 정보의 흐름\n",
    "    - FNN\n",
    "        - 각 입력이 독립적\n",
    "        - 입력간의 시간적 순서가 고려되지 않음\n",
    "    - RNN\n",
    "        - 입력 데이터들 끼리의 **시간적 순서**를 내부적으로 모델링\n",
    "        - 시퀀스 **전체 정보**를 고려한 처리\n",
    "- 상태의 보존\n",
    "    - FNN : 상태 보존 없음\n",
    "    - RNN : 시간에 따른 상태(**hidden state**)를 보존 하여 이전 정보 참조"
   ]
  },
  {
   "cell_type": "markdown",
   "metadata": {},
   "source": [
    "### RNN을 사용한 텍스트 분석\n",
    "\n",
    "- 언어 모형 : LM (Language Model), 분류(감성 분석), 기계 번역 등에 사용 <br>\n",
    "    여러 개의 단어들이 동시 출현 확률, 특정 단어가 주어질 때 그 다음 단어가 무엇인지 예측<br>\n",
    "    일련의 **단어들의 확률 분포(Softmax Function)** <br>\n",
    "    문장에서의 단어 시퀀스 (빈칸 채우기) <br>\n",
    "    \n",
    "- I **like** the movie, the movie is _____. 에서 RNN 사용. 빈칸의 단어를 유추한다"
   ]
  },
  {
   "cell_type": "markdown",
   "metadata": {},
   "source": [
    "### 시작 토큰 및 종료 토큰\n",
    "\n",
    "- 시작 토큰 : 각 시퀀스의 시작점을 알림\n",
    "- 종료 토큰 : 각 시퀀스의 종료점을 알림"
   ]
  },
  {
   "cell_type": "markdown",
   "metadata": {},
   "source": [
    "### RNN 순서"
   ]
  },
  {
   "cell_type": "markdown",
   "metadata": {},
   "source": [
    "1. 각 단어를 임베딩 벡터로 변환<br>\n",
    "    `model.add(layers.Embedding(max_features, 64, input_length=max_len))`\n",
    "2. RNN 층<br>\n",
    "    `model.add(layers.SimpleRNN(32, activation='tanh', return_sequences=False))`\n",
    "    - timestep 0 \n",
    "    ![time step 1](https://img.notionusercontent.com/s3/prod-files-secure%2Fe8f11927-b70c-4524-9227-a3efac08e7aa%2F0a5edad9-b7f5-470a-bfb3-f72a225cf083%2FUntitled.png/size/w=2000?exp=1729409127&sig=6viU4yksmEXlApJ-lTehpxHBnBUiyLPemVrIaWCv6-Q)\n",
    "\n",
    "        1. 임베딩 으로 변환된 0 번째 단어를 RNN 층으로 연산\n",
    "            1. RNN층의 각 노드와 연산한다. $h_0, h_1 … h_j$\n",
    "        2. 각 임베딩 벡터와 연산 된 결과를 hidden state 0 벡터안의 요소로 넣는다\n",
    "            \n",
    "            $$\n",
    "            h_{\\{time \\space step\\}, \\{node \\space number \\}}\n",
    "            $$\n",
    "            \n",
    "            $\\text{hidden state vec}_0 = (h_{0,1}, h_{0,1}, … h_{0,j})$ - 0 번째 time step 의 히든 스테이트 벡터\n",
    "\n",
    "    - time step 1 의 단계\n",
    "\n",
    "        ![time step 1](https://img.notionusercontent.com/s3/prod-files-secure%2Fe8f11927-b70c-4524-9227-a3efac08e7aa%2F926496ba-b643-4afb-8277-04bbe7e22056%2FUntitled.png/size/w=2000?exp=1729409298&sig=ewf9oPX2yuOWl00mZNTnaqkWng71pZJk-Dan5kjSa10)\n",
    "\n",
    "        1. 다음 인덱스의 단어 임베딩과 이전 층의 hidden state 를 concat 한다.\n",
    "        2. 만약 movie 의 임베딩(64 차원)이 $[e_{movie0},e_{movie1},e_{movie2}...e_{movie63}]$ 라면<br>\n",
    "            RNN 에 입력값은 아래와 같다. 즉 입력값의 차원은 (64 + j) 가 된다.\n",
    "            $$\n",
    "            [e_{movie0},e_{movie1},e_{movie2}...e_{movie63},h_{0,1}, h_{0,1}, … h_{0,j} ]\n",
    "            $$\n",
    "\n",
    "    - time step 2 이상부터는 time step 1 과정과 동일하다 그리고 마지막 step 에서 종결되고, 그 후 dense layer 쪽으로 출력된다 (FNN)\n",
    "    - 이후 문제에 따라 정답 라벨을 예측한다\n",
    "    - 주의 할 점 : 단어 하나가 들어가는 것이 아니라 시퀀스 단위로 입력된다."
   ]
  },
  {
   "cell_type": "markdown",
   "metadata": {},
   "source": [
    "### Return Sequence True 파라미터\n",
    "- True : 모든 hidden state를 넘겨준다.\n",
    "- False : 마지막 hidden state 벡터만을 다음층에 넘겨준다.\n",
    "- 출력 형태 :\n",
    "    - False = `(batch_size, output_dim)`\n",
    "    - True = `(batch_size, time steps,output_dim)`"
   ]
  },
  {
   "cell_type": "code",
   "execution_count": 3,
   "metadata": {},
   "outputs": [
    {
     "name": "stdout",
     "output_type": "stream",
     "text": [
      "마지막 층의 hidden state vector를 보여준다\n",
      "tf.Tensor([[-0.629878    0.99993676  0.82912433]], shape=(1, 3), dtype=float32)\n",
      "\n",
      "모든 층의 hiddne state vector를 보여준다\n",
      "tf.Tensor(\n",
      "[[[-0.86835545  0.45163512  0.671799  ]\n",
      "  [-0.67421705  0.83637017 -0.65464187]\n",
      "  [-0.9896213  -0.17951797  0.1286124 ]\n",
      "  [ 0.6252765   0.84835863 -0.33315915]]], shape=(1, 4, 3), dtype=float32)\n"
     ]
    }
   ],
   "source": [
    "import numpy as np\n",
    "from tensorflow.keras import layers\n",
    "\n",
    "embeded_sequence = np.array([\n",
    "    [ # 시퀀스의 예시\n",
    "        [0.1, 4.2, 1.5, 1.1, 2.8], # the\n",
    "        [1.0, 3.1, 2.5, 0.7, 1.1], # movie\n",
    "        [0.3, 2.1, 1.5, 2.1, 0.1], # is\n",
    "        [2.2, 1.4, 0.5, 0.9, 1.1]  # fun\n",
    "    ]], dtype=np.float32)\n",
    "\n",
    "rnn_rs_true = layers.SimpleRNN(3, return_sequences=True, return_state=True)\n",
    "rnn_rs_false = layers.SimpleRNN(3, return_sequences=False, return_state=True)\n",
    "\n",
    "print(\"마지막 층의 hidden state vector를 보여준다\")\n",
    "hidden_state, _ = rnn_rs_false(embeded_sequence)\n",
    "print(hidden_state, end=\"\\n\\n\")\n",
    "\n",
    "hidden_states, _ = rnn_rs_true(embeded_sequence)\n",
    "print(\"모든 층의 hiddne state vector를 보여준다\")\n",
    "print(hidden_states)"
   ]
  },
  {
   "cell_type": "markdown",
   "metadata": {},
   "source": [
    "### imdb data 실습(return_seq_true with concat)"
   ]
  },
  {
   "cell_type": "code",
   "execution_count": null,
   "metadata": {},
   "outputs": [],
   "source": [
    "import tensorflow as tf\n",
    "from tensorflow.keras.datasets import imdb\n",
    "from tensorflow.keras.preprocessing import sequence\n",
    "from tensorflow.keras.utils import to_categorical\n",
    "from tensorflow.keras import layers\n",
    "from tensorflow.keras import models\n",
    "from tensorflow.keras.optimizers import RMSprop\n",
    "\n",
    "max_features = 10000\n",
    "(x_train, y_train), (x_test, y_test) = imdb.load_data(num_words=max_features)\n",
    "max_len = 100\n",
    "\n",
    "x_train = sequence.pad_sequences(x_train, maxlen=max_len)\n",
    "x_test = sequence.pad_sequences(x_test, maxlen=max_len)\n",
    "y_train_one_hot = to_categorical(y_train)\n",
    "y_test_one_hot = to_categorical(y_test)"
   ]
  },
  {
   "cell_type": "code",
   "execution_count": null,
   "metadata": {},
   "outputs": [
    {
     "name": "stdout",
     "output_type": "stream",
     "text": [
      "Model: \"sequential_4\"\n",
      "_________________________________________________________________\n",
      " Layer (type)                Output Shape              Param #   \n",
      "=================================================================\n",
      " embedding_4 (Embedding)     (None, 100, 64)           640000    \n",
      "                                                                 \n",
      " simple_rnn_4 (SimpleRNN)    (None, 100, 32)           3104      \n",
      "                                                                 \n",
      " flatten_3 (Flatten)         (None, 3200)              0         \n",
      "                                                                 \n",
      " dense_6 (Dense)             (None, 16)                51216     \n",
      "                                                                 \n",
      " dense_7 (Dense)             (None, 2)                 34        \n",
      "                                                                 \n",
      "=================================================================\n",
      "Total params: 694,354\n",
      "Trainable params: 694,354\n",
      "Non-trainable params: 0\n",
      "_________________________________________________________________\n"
     ]
    }
   ],
   "source": [
    "model = models.Sequential()\n",
    "model.add(layers.Embedding(max_features, 64, input_length=max_len))\n",
    "model.add(layers.SimpleRNN(32, return_sequences=True))\n",
    "model.add(layers.Flatten())\n",
    "model.add(layers.Dense(16, activation='tanh'))\n",
    "model.add(layers.Dense(2, activation = 'softmax'))\n",
    "model.summary()"
   ]
  },
  {
   "cell_type": "code",
   "execution_count": null,
   "metadata": {},
   "outputs": [
    {
     "name": "stdout",
     "output_type": "stream",
     "text": [
      "Epoch 1/10\n",
      "157/157 [==============================] - 21s 117ms/step - loss: 0.4992 - acc: 0.7433 - val_loss: 0.4754 - val_acc: 0.7712\n",
      "Epoch 2/10\n",
      "157/157 [==============================] - 18s 112ms/step - loss: 0.2788 - acc: 0.8862 - val_loss: 0.3933 - val_acc: 0.8336\n",
      "Epoch 3/10\n",
      "157/157 [==============================] - 18s 114ms/step - loss: 0.1320 - acc: 0.9535 - val_loss: 0.4922 - val_acc: 0.8094\n",
      "Epoch 4/10\n",
      "157/157 [==============================] - 19s 123ms/step - loss: 0.0377 - acc: 0.9900 - val_loss: 0.7111 - val_acc: 0.8020\n",
      "Epoch 5/10\n",
      "157/157 [==============================] - 17s 111ms/step - loss: 0.0110 - acc: 0.9969 - val_loss: 0.8678 - val_acc: 0.7948\n",
      "Epoch 6/10\n",
      "157/157 [==============================] - 18s 112ms/step - loss: 0.0053 - acc: 0.9984 - val_loss: 1.0049 - val_acc: 0.7894\n",
      "Epoch 7/10\n",
      "157/157 [==============================] - 18s 113ms/step - loss: 0.0013 - acc: 0.9997 - val_loss: 1.1367 - val_acc: 0.7994\n",
      "Epoch 8/10\n",
      "157/157 [==============================] - 18s 115ms/step - loss: 5.6184e-04 - acc: 0.9999 - val_loss: 1.3147 - val_acc: 0.7994\n",
      "Epoch 9/10\n",
      "157/157 [==============================] - 18s 115ms/step - loss: 1.1355e-05 - acc: 1.0000 - val_loss: 1.7454 - val_acc: 0.7950\n",
      "Epoch 10/10\n",
      "157/157 [==============================] - 18s 115ms/step - loss: 1.6018e-04 - acc: 0.9999 - val_loss: 2.0193 - val_acc: 0.7800\n"
     ]
    }
   ],
   "source": [
    "model.compile(optimizer=RMSprop(learning_rate=0.001), loss='binary_crossentropy', metrics=['acc'])\n",
    "history = model.fit(x_train, y_train_one_hot, epochs=10, batch_size=128, validation_split=0.2)"
   ]
  },
  {
   "cell_type": "code",
   "execution_count": null,
   "metadata": {},
   "outputs": [
    {
     "data": {
      "image/png": "[encoded data removed]",
      "text/plain": [
       "<Figure size 640x480 with 1 Axes>"
      ]
     },
     "metadata": {},
     "output_type": "display_data"
    }
   ],
   "source": [
    "import matplotlib.pyplot as plt\n",
    "plt.plot(history.history['loss'])\n",
    "plt.plot(history.history['val_loss'])\n",
    "plt.xlabel('epoch')\n",
    "plt.ylabel('loss')\n",
    "plt.legend(['train','val'])\n",
    "plt.show()"
   ]
  },
  {
   "cell_type": "code",
   "execution_count": null,
   "metadata": {},
   "outputs": [
    {
     "data": {
      "image/png": "[encoded data removed]",
      "text/plain": [
       "<Figure size 640x480 with 1 Axes>"
      ]
     },
     "metadata": {},
     "output_type": "display_data"
    }
   ],
   "source": [
    "plt.plot(history.history['acc'])\n",
    "plt.plot(history.history['val_acc'])\n",
    "plt.xlabel('epoch')\n",
    "plt.ylabel('accuracy')\n",
    "plt.legend(['train','val'])\n",
    "plt.show()"
   ]
  },
  {
   "cell_type": "code",
   "execution_count": null,
   "metadata": {},
   "outputs": [
    {
     "name": "stdout",
     "output_type": "stream",
     "text": [
      "782/782 [==============================] - 14s 18ms/step - loss: 1.9559 - acc: 0.7840\n"
     ]
    }
   ],
   "source": [
    "test_loss, test_acc = model.evaluate(x_test,y_test_one_hot)"
   ]
  },
  {
   "cell_type": "code",
   "execution_count": null,
   "metadata": {},
   "outputs": [
    {
     "name": "stdout",
     "output_type": "stream",
     "text": [
      "test_acc: 0.7839999794960022\n"
     ]
    }
   ],
   "source": [
    "print('test_acc:', test_acc)"
   ]
  },
  {
   "cell_type": "markdown",
   "metadata": {},
   "source": [
    "### imdb data 실습(return_seq_true with mean)"
   ]
  },
  {
   "cell_type": "code",
   "execution_count": null,
   "metadata": {},
   "outputs": [],
   "source": [
    "import tensorflow as tf\n",
    "from tensorflow.keras.datasets import imdb\n",
    "from tensorflow.keras.preprocessing import sequence\n",
    "from tensorflow.keras.utils import to_categorical\n",
    "from tensorflow.keras.layers import Input, Embedding, LSTM, SimpleRNN, Dense, Lambda\n",
    "from tensorflow.keras.models import Model"
   ]
  },
  {
   "cell_type": "code",
   "execution_count": null,
   "metadata": {},
   "outputs": [],
   "source": [
    "# 데이터의 전처리\n",
    "max_features = 10000\n",
    "(x_train, y_train), (x_test, y_test) = imdb.load_data(num_words=max_features)\n",
    "\n",
    "max_len = 100\n",
    "x_train = sequence.pad_sequences(x_train, maxlen=max_len)\n",
    "x_test = sequence.pad_sequences(x_test, maxlen=max_len)\n",
    "\n",
    "y_train_one_hot = to_categorical(y_train)\n",
    "y_test_one_hot = to_categorical(y_test)"
   ]
  },
  {
   "cell_type": "markdown",
   "metadata": {},
   "source": [
    "```py\n",
    "return_sequences=True\n",
    "tf.math.reduce_mean(x, axis=1)\n",
    "\n",
    "# ex\n",
    "tf.math.reduce_mean([[1.,2.,2.],[2.,2.,3.]], axis=1)\n",
    ">>>1.6666666, 2.3333333\n",
    "```"
   ]
  },
  {
   "cell_type": "code",
   "execution_count": null,
   "metadata": {},
   "outputs": [],
   "source": [
    "main_input = Input(shape=(max_len,), dtype='int32')\n",
    "# 단어의 임베딩 64차원\n",
    "x = Embedding(output_dim=64, input_dim=max_features, input_length=max_len)(main_input)\n",
    "\n",
    "# RNN 을 거치면서 32차원으로 줄어든다.\n",
    "# True 로 줬기 때문에 모든 히든스테이트를 다음층으로 보낸다.\n",
    "RNN_out = SimpleRNN(32, return_sequences=True)(x)\n",
    "# 여기서의 출력은 (batchsize, hidden State ,32)\n",
    "\n",
    "# 각 hidden state 별 32 개의 값의 평균을 구해 넣는다\n",
    "# 즉, 각 단어의 32 개의 히든 스테이트의 평균\n",
    "\n",
    "out = Lambda(lambda x: tf.math.reduce_mean(x, axis=1))(RNN_out)\n",
    "# 출력 겂은 (batch size, 32)"
   ]
  },
  {
   "cell_type": "code",
   "execution_count": null,
   "metadata": {},
   "outputs": [
    {
     "name": "stdout",
     "output_type": "stream",
     "text": [
      "Model: \"model\"\n",
      "_________________________________________________________________\n",
      " Layer (type)                Output Shape              Param #   \n",
      "=================================================================\n",
      " input_4 (InputLayer)        [(None, 100)]             0         \n",
      "                                                                 \n",
      " embedding_1 (Embedding)     (None, 100, 64)           640000    \n",
      "                                                                 \n",
      " simple_rnn_1 (SimpleRNN)    (None, 100, 32)           3104      \n",
      "                                                                 \n",
      " lambda_1 (Lambda)           (None, 32)                0         \n",
      "                                                                 \n",
      " dense (Dense)               (None, 16)                528       \n",
      "                                                                 \n",
      " dense_1 (Dense)             (None, 2)                 34        \n",
      "                                                                 \n",
      "=================================================================\n",
      "Total params: 643,666\n",
      "Trainable params: 643,666\n",
      "Non-trainable params: 0\n",
      "_________________________________________________________________\n"
     ]
    }
   ],
   "source": [
    "x = Dense(16, activation='relu')(out)\n",
    "main_output = Dense(2, activation='softmax')(x)\n",
    "model = Model(inputs=main_input,outputs=main_output)\n",
    "model.summary()"
   ]
  },
  {
   "cell_type": "code",
   "execution_count": null,
   "metadata": {},
   "outputs": [],
   "source": [
    "from tensorflow.keras.optimizers import RMSprop\n",
    "model.compile(optimizer=RMSprop(learning_rate=0.001), loss='binary_crossentropy', metrics=['acc'])"
   ]
  },
  {
   "cell_type": "code",
   "execution_count": null,
   "metadata": {},
   "outputs": [
    {
     "name": "stdout",
     "output_type": "stream",
     "text": [
      "Epoch 1/10\n",
      "157/157 [==============================] - 6s 31ms/step - loss: 0.5251 - acc: 0.7483 - val_loss: 0.4280 - val_acc: 0.8040\n",
      "Epoch 2/10\n",
      "157/157 [==============================] - 5s 31ms/step - loss: 0.3335 - acc: 0.8622 - val_loss: 0.3779 - val_acc: 0.8332\n",
      "Epoch 3/10\n",
      "157/157 [==============================] - 5s 30ms/step - loss: 0.2702 - acc: 0.8942 - val_loss: 0.4058 - val_acc: 0.8346\n",
      "Epoch 4/10\n",
      "157/157 [==============================] - 5s 29ms/step - loss: 0.2361 - acc: 0.9088 - val_loss: 0.3821 - val_acc: 0.8336\n",
      "Epoch 5/10\n",
      "157/157 [==============================] - 5s 30ms/step - loss: 0.2091 - acc: 0.9207 - val_loss: 0.4396 - val_acc: 0.8222\n",
      "Epoch 6/10\n",
      "157/157 [==============================] - 5s 32ms/step - loss: 0.1851 - acc: 0.9327 - val_loss: 0.4594 - val_acc: 0.8288\n",
      "Epoch 7/10\n",
      "157/157 [==============================] - 5s 30ms/step - loss: 0.1647 - acc: 0.9408 - val_loss: 0.4827 - val_acc: 0.8156\n",
      "Epoch 8/10\n",
      "157/157 [==============================] - 4s 28ms/step - loss: 0.1427 - acc: 0.9505 - val_loss: 0.4250 - val_acc: 0.8272\n",
      "Epoch 9/10\n",
      "157/157 [==============================] - 4s 28ms/step - loss: 0.1202 - acc: 0.9599 - val_loss: 0.5078 - val_acc: 0.8284\n",
      "Epoch 10/10\n",
      "157/157 [==============================] - 4s 28ms/step - loss: 0.0978 - acc: 0.9675 - val_loss: 0.5389 - val_acc: 0.8278\n"
     ]
    }
   ],
   "source": [
    "history = model.fit(x_train, y_train_one_hot, epochs=10, batch_size=128, validation_split=0.2)"
   ]
  },
  {
   "cell_type": "code",
   "execution_count": null,
   "metadata": {},
   "outputs": [
    {
     "data": {
      "image/png": "[encoded data removed]",
      "text/plain": [
       "<Figure size 432x288 with 1 Axes>"
      ]
     },
     "metadata": {},
     "output_type": "display_data"
    }
   ],
   "source": [
    "import matplotlib.pyplot as plt\n",
    "plt.plot(history.history['loss'])\n",
    "plt.plot(history.history['val_loss'])\n",
    "plt.xlabel('epoch')\n",
    "plt.ylabel('loss')\n",
    "plt.legend(['train','val'])\n",
    "plt.show()"
   ]
  },
  {
   "cell_type": "code",
   "execution_count": null,
   "metadata": {},
   "outputs": [
    {
     "data": {
      "image/png": "[encoded data removed]",
      "text/plain": [
       "<Figure size 432x288 with 1 Axes>"
      ]
     },
     "metadata": {},
     "output_type": "display_data"
    }
   ],
   "source": [
    "plt.plot(history.history['acc'])\n",
    "plt.plot(history.history['val_acc'])\n",
    "plt.xlabel('epoch')\n",
    "plt.ylabel('accuracy')\n",
    "plt.legend(['train','val'])\n",
    "plt.show()"
   ]
  },
  {
   "cell_type": "code",
   "execution_count": null,
   "metadata": {},
   "outputs": [
    {
     "name": "stdout",
     "output_type": "stream",
     "text": [
      "782/782 [==============================] - 4s 5ms/step - loss: 0.5652 - acc: 0.8179\n"
     ]
    }
   ],
   "source": [
    "test_loss, test_acc = model.evaluate(x_test,y_test_one_hot)"
   ]
  },
  {
   "cell_type": "code",
   "execution_count": null,
   "metadata": {},
   "outputs": [
    {
     "name": "stdout",
     "output_type": "stream",
     "text": [
      "test_acc: 0.8178799748420715\n"
     ]
    }
   ],
   "source": [
    "print('test_acc:', test_acc)"
   ]
  },
  {
   "cell_type": "code",
   "execution_count": null,
   "metadata": {},
   "outputs": [],
   "source": []
  }
 ],
 "metadata": {
  "kernelspec": {
   "display_name": "311",
   "language": "python",
   "name": "python3"
  },
  "language_info": {
   "codemirror_mode": {
    "name": "ipython",
    "version": 3
   },
   "file_extension": ".py",
   "mimetype": "text/x-python",
   "name": "python",
   "nbconvert_exporter": "python",
   "pygments_lexer": "ipython3",
   "version": "3.11.10"
  }
 },
 "nbformat": 4,
 "nbformat_minor": 2
}
