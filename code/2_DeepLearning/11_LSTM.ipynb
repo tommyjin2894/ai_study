{
 "cells": [
  {
   "cell_type": "markdown",
   "metadata": {},
   "source": [
    "### LSTM\n",
    "\n",
    "- RNN 에서의 단점인 오래된 단어 정보에 대하여 희미해 지는 문제를  완화 시킨다.\n",
    "- GRU 보다 LSTM 더 우수하지만 복잡하다 (GRU : RNN의 간단한 버전)\n",
    "- **Gate** 를 이용한다\n",
    "\n",
    "<img src=\"https://img.notionusercontent.com/s3/prod-files-secure%2Fe8f11927-b70c-4524-9227-a3efac08e7aa%2Fd095f1c5-2b1e-4fd0-8194-982ed7049724%2FUntitled.png/size/w=2000?exp=1729411327&sig=7K_7dOOPtALQiJx8rjTPoKzm-0_FO8pQ5bFo_80Ja8o\" width=\"500\">\n",
    "\n",
    "### 기억 셀 ($C_t$)\n",
    "\n",
    "- 오래된 단어를 보다 잘 기억\n",
    "- 게이트가 이 역할을 한다.\n",
    "- **기억 셀은 하나의 벡터!**\n",
    "- 차원 수 : hidden state의 원소 = $c_t$ 벡터의 원소 = LSTM 층의 은닉 노드의 수\n",
    "\n",
    "### 기억 셀의 업데이트\n",
    "\n",
    "- 이전 정보를 삭제(기억) 하거나 , 새로운 정보를 추가\n",
    "- 필요 없는 정보를 잊어 버리고 중요한 정보를 추가한다.\n",
    "- 종류 : forget, input, output 게이트가 있다.\n",
    "- 역할 : **$c_{t-1}$  을 새로** 업데이트 하여 **$c_t$ 계산**\n",
    "    - 이후 $c_t$, 단어 임베딩 벡터 $t$, $h_{t-1}$ 을 이용하여 $h_t$  를 계산하고 다음층으로 넘긴다."
   ]
  },
  {
   "cell_type": "markdown",
   "metadata": {},
   "source": [
    "### 기억 셀(Memory Cell)\n",
    "\n",
    "- 오래된 내용을 보다 더 잘 기억한다\n",
    "- 3 개의 게이트( input, forget, output)\n",
    "\n",
    "### Gate\n",
    "\n",
    "<img src=\"https://img.notionusercontent.com/s3/prod-files-secure%2Fe8f11927-b70c-4524-9227-a3efac08e7aa%2F2e55fde0-4ecf-49be-aab6-6325e7b4b706%2FUntitled.png/size/w=2000?exp=1729412028&sig=uz0PK93eT_CLiiP2mK69BXTWET3CjL_rDcBlzjVwb3w\" width=600/>\n",
    "\n",
    "- **Forget Gate**\n",
    "    - **$f_{t} = \\sigma (W_{x_f} \\cdot x_t + W_{h_f} \\cdot h_{t-1} + b_f)$**\n",
    "    1. Sigmoid : 0 에서 1 사이로 반환 (이전 내용을 얼마나 기억할 것인지)\n",
    "        - 1에 가까울 수록 더 기억을 한다.\n",
    "    2. forget gate의 출력 값: ${c_{t-1}}' = f_t \\odot c_{t-1}$\n",
    "\n",
    "- **Input Gate**\n",
    "    - **$i_{t} = \\sigma (W_{x_i} \\cdot x_t + W_{h_i} \\cdot h_{t-1} + b_i)$**\n",
    "    - **$g_t = \\tanh (W_{x_g} \\cdot x_t + W_{h_g} \\cdot h_{t-1} + b_g)$**\n",
    "\n",
    "- **Cell State(Memory cell : 기억 셀) Update**\n",
    "    - **$c_t = f_t \\odot c_{t-1} + i_t \\odot g_t \\\\ c_t = {c_{t-1}}' + i_t \\odot g_t$**\n",
    "\n",
    "- **Output Gate**\n",
    "    - $o_{t} = \\sigma (W_{x_o} \\cdot x_t + W_{h_o} \\cdot h_{t-1} + b_o)$\n",
    "    - $h_t = o_t \\odot \\tanh(c_t)$\n",
    "\n",
    "### GRU(Gated Recurrent Unit)\n",
    "\n",
    "<img src=\"https://img.notionusercontent.com/s3/prod-files-secure%2Fe8f11927-b70c-4524-9227-a3efac08e7aa%2Fb172a50c-f22b-47d0-a5f8-2ba26d8323dd%2FUntitled.png/size/w=2000?exp=1729412079&sig=Vc95XErtv0Te5MKOpjJyDfe2uyEUis0noheVRQ1sqbw\" width=600/>\n",
    "\n",
    "- 게이트(reset, update), $h_t$ 업데이트\n",
    "- 기억 셀 이 없다.\n",
    "- LSTM 과 RNN 의 사이 (LSTM 보다 빠르고, 정확도는 안 좋다)\n"
   ]
  },
  {
   "cell_type": "markdown",
   "metadata": {},
   "source": [
    "### imdb 실습"
   ]
  },
  {
   "cell_type": "code",
   "execution_count": 1,
   "metadata": {},
   "outputs": [
    {
     "name": "stderr",
     "output_type": "stream",
     "text": [
      "2024-10-20 17:04:32.644462: E external/local_xla/xla/stream_executor/cuda/cuda_fft.cc:485] Unable to register cuFFT factory: Attempting to register factory for plugin cuFFT when one has already been registered\n",
      "2024-10-20 17:04:32.746696: E external/local_xla/xla/stream_executor/cuda/cuda_dnn.cc:8454] Unable to register cuDNN factory: Attempting to register factory for plugin cuDNN when one has already been registered\n",
      "2024-10-20 17:04:32.775928: E external/local_xla/xla/stream_executor/cuda/cuda_blas.cc:1452] Unable to register cuBLAS factory: Attempting to register factory for plugin cuBLAS when one has already been registered\n",
      "2024-10-20 17:04:32.969450: I tensorflow/core/platform/cpu_feature_guard.cc:210] This TensorFlow binary is optimized to use available CPU instructions in performance-critical operations.\n",
      "To enable the following instructions: AVX2 FMA, in other operations, rebuild TensorFlow with the appropriate compiler flags.\n",
      "2024-10-20 17:04:34.118343: W tensorflow/compiler/tf2tensorrt/utils/py_utils.cc:38] TF-TRT Warning: Could not find TensorRT\n"
     ]
    },
    {
     "name": "stdout",
     "output_type": "stream",
     "text": [
      "Downloading data from https://storage.googleapis.com/tensorflow/tf-keras-datasets/imdb.npz\n",
      "\u001b[1m17464789/17464789\u001b[0m \u001b[32m━━━━━━━━━━━━━━━━━━━━\u001b[0m\u001b[37m\u001b[0m \u001b[1m1s\u001b[0m 0us/step\n"
     ]
    }
   ],
   "source": [
    "from tensorflow.keras.datasets import imdb\n",
    "max_features = 20000\n",
    "(x_train, y_train), (x_test, y_test) = imdb.load_data(num_words=max_features)\n",
    "        \n",
    "from tensorflow.keras.preprocessing import sequence\n",
    "max_len = 400\n",
    "x_train = sequence.pad_sequences(x_train, maxlen=max_len)\n",
    "x_test = sequence.pad_sequences(x_test, maxlen=max_len)\n",
    "        \n",
    "from tensorflow.keras.utils import to_categorical\n",
    "y_train_one_hot = to_categorical(y_train)\n",
    "y_test_one_hot = to_categorical(y_test)"
   ]
  },
  {
   "cell_type": "code",
   "execution_count": 3,
   "metadata": {},
   "outputs": [
    {
     "data": {
      "text/html": [
       "<pre style=\"white-space:pre;overflow-x:auto;line-height:normal;font-family:Menlo,'DejaVu Sans Mono',consolas,'Courier New',monospace\"><span style=\"font-weight: bold\">Model: \"sequential_1\"</span>\n",
       "</pre>\n"
      ],
      "text/plain": [
       "\u001b[1mModel: \"sequential_1\"\u001b[0m\n"
      ]
     },
     "metadata": {},
     "output_type": "display_data"
    },
    {
     "data": {
      "text/html": [
       "<pre style=\"white-space:pre;overflow-x:auto;line-height:normal;font-family:Menlo,'DejaVu Sans Mono',consolas,'Courier New',monospace\">┏━━━━━━━━━━━━━━━━━━━━━━━━━━━━━━━━━┳━━━━━━━━━━━━━━━━━━━━━━━━┳━━━━━━━━━━━━━━━┓\n",
       "┃<span style=\"font-weight: bold\"> Layer (type)                    </span>┃<span style=\"font-weight: bold\"> Output Shape           </span>┃<span style=\"font-weight: bold\">       Param # </span>┃\n",
       "┡━━━━━━━━━━━━━━━━━━━━━━━━━━━━━━━━━╇━━━━━━━━━━━━━━━━━━━━━━━━╇━━━━━━━━━━━━━━━┩\n",
       "│ embedding_1 (<span style=\"color: #0087ff; text-decoration-color: #0087ff\">Embedding</span>)         │ ?                      │   <span style=\"color: #00af00; text-decoration-color: #00af00\">0</span> (unbuilt) │\n",
       "├─────────────────────────────────┼────────────────────────┼───────────────┤\n",
       "│ lstm_1 (<span style=\"color: #0087ff; text-decoration-color: #0087ff\">LSTM</span>)                   │ ?                      │   <span style=\"color: #00af00; text-decoration-color: #00af00\">0</span> (unbuilt) │\n",
       "├─────────────────────────────────┼────────────────────────┼───────────────┤\n",
       "│ dense_2 (<span style=\"color: #0087ff; text-decoration-color: #0087ff\">Dense</span>)                 │ ?                      │   <span style=\"color: #00af00; text-decoration-color: #00af00\">0</span> (unbuilt) │\n",
       "├─────────────────────────────────┼────────────────────────┼───────────────┤\n",
       "│ dense_3 (<span style=\"color: #0087ff; text-decoration-color: #0087ff\">Dense</span>)                 │ ?                      │   <span style=\"color: #00af00; text-decoration-color: #00af00\">0</span> (unbuilt) │\n",
       "└─────────────────────────────────┴────────────────────────┴───────────────┘\n",
       "</pre>\n"
      ],
      "text/plain": [
       "┏━━━━━━━━━━━━━━━━━━━━━━━━━━━━━━━━━┳━━━━━━━━━━━━━━━━━━━━━━━━┳━━━━━━━━━━━━━━━┓\n",
       "┃\u001b[1m \u001b[0m\u001b[1mLayer (type)                   \u001b[0m\u001b[1m \u001b[0m┃\u001b[1m \u001b[0m\u001b[1mOutput Shape          \u001b[0m\u001b[1m \u001b[0m┃\u001b[1m \u001b[0m\u001b[1m      Param #\u001b[0m\u001b[1m \u001b[0m┃\n",
       "┡━━━━━━━━━━━━━━━━━━━━━━━━━━━━━━━━━╇━━━━━━━━━━━━━━━━━━━━━━━━╇━━━━━━━━━━━━━━━┩\n",
       "│ embedding_1 (\u001b[38;5;33mEmbedding\u001b[0m)         │ ?                      │   \u001b[38;5;34m0\u001b[0m (unbuilt) │\n",
       "├─────────────────────────────────┼────────────────────────┼───────────────┤\n",
       "│ lstm_1 (\u001b[38;5;33mLSTM\u001b[0m)                   │ ?                      │   \u001b[38;5;34m0\u001b[0m (unbuilt) │\n",
       "├─────────────────────────────────┼────────────────────────┼───────────────┤\n",
       "│ dense_2 (\u001b[38;5;33mDense\u001b[0m)                 │ ?                      │   \u001b[38;5;34m0\u001b[0m (unbuilt) │\n",
       "├─────────────────────────────────┼────────────────────────┼───────────────┤\n",
       "│ dense_3 (\u001b[38;5;33mDense\u001b[0m)                 │ ?                      │   \u001b[38;5;34m0\u001b[0m (unbuilt) │\n",
       "└─────────────────────────────────┴────────────────────────┴───────────────┘\n"
      ]
     },
     "metadata": {},
     "output_type": "display_data"
    },
    {
     "data": {
      "text/html": [
       "<pre style=\"white-space:pre;overflow-x:auto;line-height:normal;font-family:Menlo,'DejaVu Sans Mono',consolas,'Courier New',monospace\"><span style=\"font-weight: bold\"> Total params: </span><span style=\"color: #00af00; text-decoration-color: #00af00\">0</span> (0.00 B)\n",
       "</pre>\n"
      ],
      "text/plain": [
       "\u001b[1m Total params: \u001b[0m\u001b[38;5;34m0\u001b[0m (0.00 B)\n"
      ]
     },
     "metadata": {},
     "output_type": "display_data"
    },
    {
     "data": {
      "text/html": [
       "<pre style=\"white-space:pre;overflow-x:auto;line-height:normal;font-family:Menlo,'DejaVu Sans Mono',consolas,'Courier New',monospace\"><span style=\"font-weight: bold\"> Trainable params: </span><span style=\"color: #00af00; text-decoration-color: #00af00\">0</span> (0.00 B)\n",
       "</pre>\n"
      ],
      "text/plain": [
       "\u001b[1m Trainable params: \u001b[0m\u001b[38;5;34m0\u001b[0m (0.00 B)\n"
      ]
     },
     "metadata": {},
     "output_type": "display_data"
    },
    {
     "data": {
      "text/html": [
       "<pre style=\"white-space:pre;overflow-x:auto;line-height:normal;font-family:Menlo,'DejaVu Sans Mono',consolas,'Courier New',monospace\"><span style=\"font-weight: bold\"> Non-trainable params: </span><span style=\"color: #00af00; text-decoration-color: #00af00\">0</span> (0.00 B)\n",
       "</pre>\n"
      ],
      "text/plain": [
       "\u001b[1m Non-trainable params: \u001b[0m\u001b[38;5;34m0\u001b[0m (0.00 B)\n"
      ]
     },
     "metadata": {},
     "output_type": "display_data"
    },
    {
     "name": "stdout",
     "output_type": "stream",
     "text": [
      "Epoch 1/5\n",
      "\u001b[1m176/176\u001b[0m \u001b[32m━━━━━━━━━━━━━━━━━━━━\u001b[0m\u001b[37m\u001b[0m \u001b[1m4s\u001b[0m 18ms/step - accuracy: 0.5570 - loss: 0.6817 - val_accuracy: 0.7952 - val_loss: 0.4655\n",
      "Epoch 2/5\n",
      "\u001b[1m176/176\u001b[0m \u001b[32m━━━━━━━━━━━━━━━━━━━━\u001b[0m\u001b[37m\u001b[0m \u001b[1m3s\u001b[0m 17ms/step - accuracy: 0.8133 - loss: 0.4260 - val_accuracy: 0.8584 - val_loss: 0.3442\n",
      "Epoch 3/5\n",
      "\u001b[1m176/176\u001b[0m \u001b[32m━━━━━━━━━━━━━━━━━━━━\u001b[0m\u001b[37m\u001b[0m \u001b[1m3s\u001b[0m 17ms/step - accuracy: 0.8723 - loss: 0.3175 - val_accuracy: 0.8328 - val_loss: 0.4200\n",
      "Epoch 4/5\n",
      "\u001b[1m176/176\u001b[0m \u001b[32m━━━━━━━━━━━━━━━━━━━━\u001b[0m\u001b[37m\u001b[0m \u001b[1m3s\u001b[0m 17ms/step - accuracy: 0.8968 - loss: 0.2637 - val_accuracy: 0.8864 - val_loss: 0.2900\n",
      "Epoch 5/5\n",
      "\u001b[1m176/176\u001b[0m \u001b[32m━━━━━━━━━━━━━━━━━━━━\u001b[0m\u001b[37m\u001b[0m \u001b[1m3s\u001b[0m 17ms/step - accuracy: 0.9058 - loss: 0.2382 - val_accuracy: 0.8912 - val_loss: 0.2884\n"
     ]
    },
    {
     "data": {
      "image/png": "[encoded data removed]",
      "text/plain": [
       "<Figure size 640x480 with 1 Axes>"
      ]
     },
     "metadata": {},
     "output_type": "display_data"
    }
   ],
   "source": [
    "from tensorflow.keras import layers\n",
    "from tensorflow.keras import models\n",
    "        \n",
    "model = models.Sequential()\n",
    "model.add(layers.Embedding(max_features, 64))\n",
    "model.add(layers.LSTM(32))\n",
    "        \n",
    "################## lstm ######################################\n",
    "# 8320 = (3232   +  3232       +32)  *  4\n",
    "################## lstm ######################################\n",
    "        \n",
    "model.add(layers.Dense(16, activation='tanh'))\n",
    "model.add(layers.Dense(2, activation = 'softmax'))\n",
    "model.summary()\n",
    "        \n",
    "from tensorflow.keras.optimizers import RMSprop\n",
    "model.compile(optimizer=RMSprop(learning_rate=0.0005), loss='binary_crossentropy', metrics=['accuracy'])\n",
    "        \n",
    "history = model.fit(x_train, y_train_one_hot, epochs=5, batch_size=128, validation_split=0.1)\n",
    "        \n",
    "import matplotlib.pyplot as plt\n",
    "plt.plot(history.history['loss'])\n",
    "plt.plot(history.history['val_loss'])\n",
    "plt.xlabel('epoch')\n",
    "plt.ylabel('loss')\n",
    "plt.legend(['train','val'])\n",
    "plt.show()"
   ]
  },
  {
   "cell_type": "markdown",
   "metadata": {},
   "source": [
    "### bidirectional 및 stacked bidirectional"
   ]
  },
  {
   "cell_type": "markdown",
   "metadata": {},
   "source": [
    "- bi direct\n",
    "    ```py\n",
    "    model = models.Sequential()\n",
    "    model.add(layers.Embedding(max_features, 128, input_length=maxlen))\n",
    "    model.add(layers.Bidirectional(layers.LSTM(64)))\n",
    "    model.add(layers.Dense(2, activation = 'softmax'))\n",
    "    ```\n",
    "- stacked bi direct : `return_sequences=True` 로 설정\n",
    "    ```py\n",
    "    model1 = models.Sequential()\n",
    "    model1.add(layers.Embedding(max_features, 128, input_length=maxlen))\n",
    "    model1.add(layers.Bidirectional(layers.LSTM(64, return_sequences=True)))\n",
    "    model1.add(layers.Bidirectional(layers.LSTM(64)))\n",
    "    model1.add(layers.Dense(2, activation = 'softmax'))\n",
    "    ```"
   ]
  },
  {
   "cell_type": "code",
   "execution_count": null,
   "metadata": {},
   "outputs": [],
   "source": [
    "import numpy as np\n",
    "from tensorflow import keras\n",
    "\n",
    "max_features = 20000  # Only consider the top 20k words\n",
    "maxlen = 200  # Only consider the first 200 words of each movie review"
   ]
  },
  {
   "cell_type": "code",
   "execution_count": null,
   "metadata": {},
   "outputs": [],
   "source": [
    "(x_train, y_train), (x_test, y_test) = keras.datasets.imdb.load_data(num_words=max_features)\n",
    "x_train = keras.preprocessing.sequence.pad_sequences(x_train, maxlen=maxlen)\n",
    "x_test = keras.preprocessing.sequence.pad_sequences(x_test, maxlen=maxlen)"
   ]
  },
  {
   "cell_type": "code",
   "execution_count": null,
   "metadata": {},
   "outputs": [],
   "source": [
    "from tensorflow.keras.utils import to_categorical\n",
    "y_train_one_hot = to_categorical(y_train)\n",
    "y_test_one_hot = to_categorical(y_test)"
   ]
  },
  {
   "cell_type": "code",
   "execution_count": null,
   "metadata": {},
   "outputs": [],
   "source": [
    "from tensorflow.keras import layers\n",
    "from tensorflow.keras import models"
   ]
  },
  {
   "cell_type": "code",
   "execution_count": null,
   "metadata": {},
   "outputs": [
    {
     "name": "stdout",
     "output_type": "stream",
     "text": [
      "Model: \"sequential\"\n",
      "_________________________________________________________________\n",
      " Layer (type)                Output Shape              Param #   \n",
      "=================================================================\n",
      " embedding (Embedding)       (None, 200, 128)          2560000   \n",
      "                                                                 \n",
      " bidirectional (Bidirectiona  (None, 128)              98816     \n",
      " l)                                                              \n",
      "                                                                 \n",
      " dense (Dense)               (None, 2)                 258       \n",
      "                                                                 \n",
      "=================================================================\n",
      "Total params: 2,659,074\n",
      "Trainable params: 2,659,074\n",
      "Non-trainable params: 0\n",
      "_________________________________________________________________\n"
     ]
    }
   ],
   "source": [
    "model = models.Sequential()\n",
    "model.add(layers.Embedding(max_features, 128, input_length=maxlen))\n",
    "model.add(layers.Bidirectional(layers.LSTM(64)))\n",
    "model.add(layers.Dense(2, activation = 'softmax'))\n",
    "model.summary()"
   ]
  },
  {
   "cell_type": "code",
   "execution_count": null,
   "metadata": {},
   "outputs": [
    {
     "name": "stdout",
     "output_type": "stream",
     "text": [
      "Epoch 1/2\n",
      "625/625 [==============================] - 23s 30ms/step - loss: 0.4331 - accuracy: 0.7985 - val_loss: 0.3633 - val_accuracy: 0.8578\n",
      "Epoch 2/2\n",
      "625/625 [==============================] - 17s 28ms/step - loss: 0.2407 - accuracy: 0.9088 - val_loss: 0.3447 - val_accuracy: 0.8478\n"
     ]
    },
    {
     "data": {
      "text/plain": [
       "<keras.callbacks.History at 0x20ec9559fa0>"
      ]
     },
     "metadata": {},
     "output_type": "display_data"
    }
   ],
   "source": [
    "model.compile(\"adam\", \"binary_crossentropy\", metrics=[\"accuracy\"])\n",
    "model.fit(x_train, y_train_one_hot, batch_size=32, epochs=2, validation_split=0.2)"
   ]
  },
  {
   "cell_type": "code",
   "execution_count": null,
   "metadata": {},
   "outputs": [
    {
     "name": "stdout",
     "output_type": "stream",
     "text": [
      "782/782 [==============================] - 10s 12ms/step - loss: 0.3460 - accuracy: 0.8524\n"
     ]
    },
    {
     "data": {
      "text/plain": [
       "[0.34597256779670715, 0.8524399995803833]"
      ]
     },
     "metadata": {},
     "output_type": "display_data"
    }
   ],
   "source": [
    "model.evaluate(x_test, y_test_one_hot)"
   ]
  },
  {
   "cell_type": "markdown",
   "metadata": {},
   "source": [
    "stacked bidirectional LSTM. <br>\n",
    "return_sequences=True로 설정"
   ]
  },
  {
   "cell_type": "code",
   "execution_count": null,
   "metadata": {},
   "outputs": [
    {
     "name": "stdout",
     "output_type": "stream",
     "text": [
      "Model: \"sequential_1\"\n",
      "_________________________________________________________________\n",
      " Layer (type)                Output Shape              Param #   \n",
      "=================================================================\n",
      " embedding_1 (Embedding)     (None, 200, 128)          2560000   \n",
      "                                                                 \n",
      " bidirectional_1 (Bidirectio  (None, 200, 128)         98816     \n",
      " nal)                                                            \n",
      "                                                                 \n",
      " bidirectional_2 (Bidirectio  (None, 128)              98816     \n",
      " nal)                                                            \n",
      "                                                                 \n",
      " dense_1 (Dense)             (None, 2)                 258       \n",
      "                                                                 \n",
      "=================================================================\n",
      "Total params: 2,757,890\n",
      "Trainable params: 2,757,890\n",
      "Non-trainable params: 0\n",
      "_________________________________________________________________\n"
     ]
    }
   ],
   "source": [
    "model1 = models.Sequential()\n",
    "model1.add(layers.Embedding(max_features, 128, input_length=maxlen))\n",
    "model1.add(layers.Bidirectional(layers.LSTM(64, return_sequences=True)))\n",
    "model1.add(layers.Bidirectional(layers.LSTM(64)))\n",
    "model1.add(layers.Dense(2, activation = 'softmax'))\n",
    "model1.summary()"
   ]
  },
  {
   "cell_type": "code",
   "execution_count": null,
   "metadata": {},
   "outputs": [
    {
     "name": "stdout",
     "output_type": "stream",
     "text": [
      "Epoch 1/2\n",
      "625/625 [==============================] - 36s 52ms/step - loss: 0.4049 - accuracy: 0.8171 - val_loss: 0.3107 - val_accuracy: 0.8744\n",
      "Epoch 2/2\n",
      "625/625 [==============================] - 31s 49ms/step - loss: 0.2111 - accuracy: 0.9207 - val_loss: 0.3434 - val_accuracy: 0.8664\n"
     ]
    },
    {
     "data": {
      "text/plain": [
       "<keras.callbacks.History at 0x20ec231ef10>"
      ]
     },
     "metadata": {},
     "output_type": "display_data"
    }
   ],
   "source": [
    "model1.compile(\"adam\", \"binary_crossentropy\", metrics=[\"accuracy\"])\n",
    "model1.fit(x_train, y_train_one_hot, batch_size=32, epochs=2, validation_split=0.2)"
   ]
  },
  {
   "cell_type": "code",
   "execution_count": null,
   "metadata": {},
   "outputs": [
    {
     "name": "stdout",
     "output_type": "stream",
     "text": [
      "782/782 [==============================] - 18s 23ms/step - loss: 0.3812 - accuracy: 0.8535\n"
     ]
    },
    {
     "data": {
      "text/plain": [
       "[0.3811994194984436, 0.8534799814224243]"
      ]
     },
     "metadata": {},
     "output_type": "display_data"
    }
   ],
   "source": [
    "model1.evaluate(x_test, y_test_one_hot)"
   ]
  }
 ],
 "metadata": {
  "kernelspec": {
   "display_name": "311",
   "language": "python",
   "name": "python3"
  },
  "language_info": {
   "codemirror_mode": {
    "name": "ipython",
    "version": 3
   },
   "file_extension": ".py",
   "mimetype": "text/x-python",
   "name": "python",
   "nbconvert_exporter": "python",
   "pygments_lexer": "ipython3",
   "version": "3.11.10"
  }
 },
 "nbformat": 4,
 "nbformat_minor": 2
}
