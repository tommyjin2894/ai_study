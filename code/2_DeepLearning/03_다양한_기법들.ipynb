{
 "cells": [
  {
   "cell_type": "markdown",
   "metadata": {},
   "source": [
    "### 콜백\n",
    "* 학습 과정 중 어떤 작업(모델 저장이나 조기 종료)을 할 수 있도록 하는 클래스들\n",
    "\n",
    "- **ModelCheckpoint**\n",
    "    * 기본적으로 에포크마다 모델을 저장\n",
    "    * save_best_only = True를 통해 검증 데이터에 대해서 가장 정확도가 높은 모델 저장"
   ]
  },
  {
   "cell_type": "markdown",
   "metadata": {},
   "source": [
    "### EarlyStopping\n",
    "\n",
    "* validataion loss가 상승하면 모델이 과대적합(학습 데이터에는 정확도가 높지만 검증이나 테스트에서 정확도가 낮음)되고 있다는 의미\n",
    "* validation loss가 상승하기 시작하면 더이상 학습을 진행하는 것은 의미가 없음\n",
    "* validation loss가 상승하면 학습을 멈추도록 설정할 수 있음\n",
    "\n",
    "* patience = 2: 연속 2번 validation loss가 줄지 않으면 학습을 멈춤\n",
    "* restore_best_weights = True면가장 낮은 validation loss가 되었던 모델 파라미터로 되돌림"
   ]
  }
 ],
 "metadata": {
  "language_info": {
   "name": "python"
  }
 },
 "nbformat": 4,
 "nbformat_minor": 2
}
