{
 "cells": [
  {
   "cell_type": "markdown",
   "metadata": {},
   "source": [
    "### AutoEncoder\n",
    "\n",
    "입력 데이터를 효율적으로 **압축, 복원** 하여 학습에 용이하게 하거나 노이즈를 제거.\n",
    "\n",
    "<img src=\"https://miro.medium.com/v2/resize:fit:720/format:webp/1*44eDEuZBEsmG_TCAKRI3Kw@2x.png\" height=\"400\">\n",
    "\n",
    "- AE의 구조\n",
    "    - Encoder\n",
    "        1. 입력 데이터를 저차원의 벡터로 매핑\n",
    "        2. 특성의 추출 구간\n",
    "    - Latent Space(잠재 공간) : 입력 데이터를 축약하고 있는 특성 벡터\n",
    "    - Decoder\n",
    "        1. 인코더와 대칭\n",
    "        2. 복원하는 구간\n",
    "\n",
    "- AE의 특징 : \n",
    "    - 기본적으로 RNN과 같이 Dense층으로 구성 되어져 있다.\n",
    "    - 하지만 구조상 일반적으로(아닐 수도 있음) 대칭이고, 잠재 공간(z or **code**) 이라는 층이 존재 한다.\n",
    "    - 잠재 공간 벡터를 복구하는 구간이 있다.\n"
   ]
  },
  {
   "cell_type": "markdown",
   "metadata": {},
   "source": [
    "### Encoder\n",
    "- 차원 축소\n",
    "- 일종의 Trade Off 가 있다. (잠재공간의 차원을 높일 것인가, 특성을 얼마나 압축할 것인가.)\n",
    "\n",
    "### Latent Space(Code or z)\n",
    "- 입력데이터의 중요한 특성을 반영하고 있다.\n",
    "- 입력 데이터에 대한 압축 표현(**벡터**) : 차원의 저주를 완화시킨다.\n",
    "\n",
    "### Decoder\n",
    "- 생성형 모델(잠재공간을 다시 복구하는 과정에서 이미지가 생성)\n",
    "\n",
    "### Loss\n",
    "$$\\mathscr{L} = \\frac{1}{n} \\sum({x_i - \\hat{x_i})^2}$$\n",
    "\n",
    "- 재 구성과정의 오차의 최소화\n",
    "- MSE 또는 CEE 등이 쓰인다.\n",
    "- 여기서 $x_i$  는 입력 값이지만 예측에 대한 정답 라벨이기도 하다.\n",
    "\n",
    "### AE 응용\n",
    "\n",
    "1. $z = f(x)$ : 인코더 부분\n",
    "2. $\\hat x = g(z)$ : 디코더 부분\n",
    "3. $\\mathscr{L} = \\frac{1}{n} \\sum({x_i - \\hat{x_i})^2}$ : MSE or CEE\n",
    "\n",
    "- 응용\n",
    "    - 입력 데이터의 압축 및 복원 → 효율적인 데이터 저장 및 전송\n",
    "    - **차원의 축소** (PCA 와 비슷하나, 좀더 비선형적이다)\n",
    "\n",
    "\n",
    "        | 특징 | PCA | AE |\n",
    "        | --- | --- | --- |\n",
    "        | 변환 | 선형 | 비선형 |\n",
    "        | 구현 | 공분산, 행렬의 고유벡터 | NN기반 Encoder, Decoder |\n",
    "        | 계산 복잡 | 낮음 | 복잡 |\n",
    "        | 해석 | 용이 | 어려움 |\n",
    "        | 유연성  | 낮다  | 높다 |\n",
    "        <br>\n",
    "    - **노이즈 제거** → 중요 특성을 추출 하여 노이즈를 제거한다.\n",
    "        1. 입력 값에 노이즈를 추가해 AE의 입력 값으로 넣는다\n",
    "        2. 출력 과 비교할 정답 라벨로 노이즈가 추가되기 전의 입력 데이터로 넣는다\n",
    "\n",
    "        $x_i$ : 원래의 입력\n",
    "\n",
    "        $x'_i$ : 노이즈 된 입력\n",
    "\n",
    "        순 전파 시 입력 데이터를 $x'_i$ 이용,\n",
    "\n",
    "        정답 라벨과 Loss 값을 구할 때 $x_i$ 이용.\n",
    "\n",
    "        - 새로운 데이터가 들어올 때 노이즈가 제거 된다.\n",
    "    - **추천 시스템** (수천가지의 특성 들을 잠재공간에 넘기는 과정)\n",
    "    - **이상치 탐지**\n",
    "        1. 일반 적인 방법으로 AE학습\n",
    "        2. 새로운 데이터를 넣어 재구성손실을 이용하여 이상치를 탐지한다"
   ]
  },
  {
   "cell_type": "markdown",
   "metadata": {},
   "source": [
    "### Mnist data를 이용한 AE"
   ]
  },
  {
   "cell_type": "markdown",
   "metadata": {},
   "source": [
    "- 인코더 디코더 모델"
   ]
  },
  {
   "cell_type": "code",
   "execution_count": 12,
   "metadata": {},
   "outputs": [],
   "source": [
    "import tensorflow.keras as keras\n",
    "from tensorflow.keras import layers\n",
    "from tensorflow.keras.models import Model\n",
    "from tensorflow.keras.layers import Dense, Input, Embedding, Flatten ### Input 모델의 입력을 정의할 때 \n",
    "from tensorflow.keras.datasets import mnist\n",
    "from tensorflow.keras.regularizers import l1 ### 정규화 과적합 방지\n",
    "from tensorflow.keras.optimizers import Adam\n",
    "\n",
    "import matplotlib.pyplot as plt\n",
    "import numpy as np\n",
    "import pandas as pd\n",
    "\n",
    "(x_train, y_train), (x_test, y_test) = mnist.load_data()\n",
    "\n",
    "# 인풋 스케일링\n",
    "x_train1 = x_train.astype('float32')/255\n",
    "x_test1 = x_test.astype('float32')/255\n",
    "\n",
    "x_train = x_train1.reshape((60000, 28*28))\n",
    "x_test = x_test1.reshape((10000, 28*28))"
   ]
  },
  {
   "cell_type": "code",
   "execution_count": 7,
   "metadata": {},
   "outputs": [
    {
     "name": "stderr",
     "output_type": "stream",
     "text": [
      "WARNING: All log messages before absl::InitializeLog() is called are written to STDERR\n",
      "I0000 00:00:1729413312.562628   22469 cuda_executor.cc:1015] successful NUMA node read from SysFS had negative value (-1), but there must be at least one NUMA node, so returning NUMA node zero. See more at https://github.com/torvalds/linux/blob/v6.0/Documentation/ABI/testing/sysfs-bus-pci#L344-L355\n",
      "I0000 00:00:1729413312.611162   22469 cuda_executor.cc:1015] successful NUMA node read from SysFS had negative value (-1), but there must be at least one NUMA node, so returning NUMA node zero. See more at https://github.com/torvalds/linux/blob/v6.0/Documentation/ABI/testing/sysfs-bus-pci#L344-L355\n",
      "I0000 00:00:1729413312.616174   22469 cuda_executor.cc:1015] successful NUMA node read from SysFS had negative value (-1), but there must be at least one NUMA node, so returning NUMA node zero. See more at https://github.com/torvalds/linux/blob/v6.0/Documentation/ABI/testing/sysfs-bus-pci#L344-L355\n",
      "I0000 00:00:1729413312.623034   22469 cuda_executor.cc:1015] successful NUMA node read from SysFS had negative value (-1), but there must be at least one NUMA node, so returning NUMA node zero. See more at https://github.com/torvalds/linux/blob/v6.0/Documentation/ABI/testing/sysfs-bus-pci#L344-L355\n",
      "I0000 00:00:1729413312.628389   22469 cuda_executor.cc:1015] successful NUMA node read from SysFS had negative value (-1), but there must be at least one NUMA node, so returning NUMA node zero. See more at https://github.com/torvalds/linux/blob/v6.0/Documentation/ABI/testing/sysfs-bus-pci#L344-L355\n",
      "I0000 00:00:1729413312.631746   22469 cuda_executor.cc:1015] successful NUMA node read from SysFS had negative value (-1), but there must be at least one NUMA node, so returning NUMA node zero. See more at https://github.com/torvalds/linux/blob/v6.0/Documentation/ABI/testing/sysfs-bus-pci#L344-L355\n",
      "I0000 00:00:1729413312.759092   22469 cuda_executor.cc:1015] successful NUMA node read from SysFS had negative value (-1), but there must be at least one NUMA node, so returning NUMA node zero. See more at https://github.com/torvalds/linux/blob/v6.0/Documentation/ABI/testing/sysfs-bus-pci#L344-L355\n",
      "I0000 00:00:1729413312.760805   22469 cuda_executor.cc:1015] successful NUMA node read from SysFS had negative value (-1), but there must be at least one NUMA node, so returning NUMA node zero. See more at https://github.com/torvalds/linux/blob/v6.0/Documentation/ABI/testing/sysfs-bus-pci#L344-L355\n",
      "I0000 00:00:1729413312.762437   22469 cuda_executor.cc:1015] successful NUMA node read from SysFS had negative value (-1), but there must be at least one NUMA node, so returning NUMA node zero. See more at https://github.com/torvalds/linux/blob/v6.0/Documentation/ABI/testing/sysfs-bus-pci#L344-L355\n",
      "2024-10-20 17:35:12.764114: I tensorflow/core/common_runtime/gpu/gpu_device.cc:2021] Created device /job:localhost/replica:0/task:0/device:GPU:0 with 9593 MB memory:  -> device: 0, name: NVIDIA GeForce RTX 3060, pci bus id: 0000:07:00.0, compute capability: 8.6\n"
     ]
    }
   ],
   "source": [
    "input_size = 784\n",
    "hidden_size = 128\n",
    "# z 의 크기\n",
    "code_size = 32\n",
    "\n",
    "input_img = Input(shape=(input_size,))\n",
    "hidden_1 = Dense(hidden_size, activation='relu')(input_img)\n",
    "code = Dense(code_size, activation='relu')(hidden_1) # 잠재 공간\n",
    "\n",
    "hidden_2 = Dense(hidden_size, activation='relu')(code)\n",
    "output_img = Dense(input_size, activation='sigmoid')(hidden_2)\n",
    "\n",
    "autoencoder = Model(input_img, output_img)"
   ]
  },
  {
   "cell_type": "code",
   "execution_count": 8,
   "metadata": {},
   "outputs": [
    {
     "name": "stdout",
     "output_type": "stream",
     "text": [
      "Epoch 1/5\n"
     ]
    },
    {
     "name": "stderr",
     "output_type": "stream",
     "text": [
      "WARNING: All log messages before absl::InitializeLog() is called are written to STDERR\n",
      "I0000 00:00:1729413314.557410   27121 service.cc:146] XLA service 0x72a1f0004ca0 initialized for platform CUDA (this does not guarantee that XLA will be used). Devices:\n",
      "I0000 00:00:1729413314.557430   27121 service.cc:154]   StreamExecutor device (0): NVIDIA GeForce RTX 3060, Compute Capability 8.6\n",
      "2024-10-20 17:35:14.587010: I tensorflow/compiler/mlir/tensorflow/utils/dump_mlir_util.cc:268] disabling MLIR crash reproducer, set env var `MLIR_CRASH_REPRODUCER_DIRECTORY` to enable.\n",
      "2024-10-20 17:35:14.703746: I external/local_xla/xla/stream_executor/cuda/cuda_dnn.cc:531] Loaded cuDNN version 8907\n"
     ]
    },
    {
     "name": "stdout",
     "output_type": "stream",
     "text": [
      "\u001b[1m 208/1875\u001b[0m \u001b[32m━━\u001b[0m\u001b[37m━━━━━━━━━━━━━━━━━━\u001b[0m \u001b[1m1s\u001b[0m 764us/step - loss: 0.0999"
     ]
    },
    {
     "name": "stderr",
     "output_type": "stream",
     "text": [
      "I0000 00:00:1729413317.574623   27121 device_compiler.h:188] Compiled cluster using XLA!  This line is logged at most once for the lifetime of the process.\n"
     ]
    },
    {
     "name": "stdout",
     "output_type": "stream",
     "text": [
      "\u001b[1m1875/1875\u001b[0m \u001b[32m━━━━━━━━━━━━━━━━━━━━\u001b[0m\u001b[37m\u001b[0m \u001b[1m5s\u001b[0m 689us/step - loss: 0.0433\n",
      "Epoch 2/5\n",
      "\u001b[1m1875/1875\u001b[0m \u001b[32m━━━━━━━━━━━━━━━━━━━━\u001b[0m\u001b[37m\u001b[0m \u001b[1m1s\u001b[0m 651us/step - loss: 0.0130\n",
      "Epoch 3/5\n",
      "\u001b[1m1875/1875\u001b[0m \u001b[32m━━━━━━━━━━━━━━━━━━━━\u001b[0m\u001b[37m\u001b[0m \u001b[1m1s\u001b[0m 662us/step - loss: 0.0110\n",
      "Epoch 4/5\n",
      "\u001b[1m1875/1875\u001b[0m \u001b[32m━━━━━━━━━━━━━━━━━━━━\u001b[0m\u001b[37m\u001b[0m \u001b[1m1s\u001b[0m 647us/step - loss: 0.0100\n",
      "Epoch 5/5\n",
      "\u001b[1m1875/1875\u001b[0m \u001b[32m━━━━━━━━━━━━━━━━━━━━\u001b[0m\u001b[37m\u001b[0m \u001b[1m1s\u001b[0m 668us/step - loss: 0.0094\n",
      "\u001b[1m313/313\u001b[0m \u001b[32m━━━━━━━━━━━━━━━━━━━━\u001b[0m\u001b[37m\u001b[0m \u001b[1m2s\u001b[0m 4ms/step - loss: 0.0094 \n",
      "Test loss: 0.009063614532351494\n"
     ]
    }
   ],
   "source": [
    "autoencoder.compile(optimizer='adam', loss='mse')\n",
    "autoencoder.fit(x_train, x_train, epochs=5)\n",
    "test_loss = autoencoder.evaluate(x_test, x_test)\n",
    "print(\"Test loss:\", test_loss)"
   ]
  },
  {
   "cell_type": "markdown",
   "metadata": {},
   "source": [
    "- 인코더 모델(잠재공간 벡터만 이용)"
   ]
  },
  {
   "cell_type": "code",
   "execution_count": 13,
   "metadata": {},
   "outputs": [
    {
     "name": "stdout",
     "output_type": "stream",
     "text": [
      "\u001b[1m1875/1875\u001b[0m \u001b[32m━━━━━━━━━━━━━━━━━━━━\u001b[0m\u001b[37m\u001b[0m \u001b[1m1s\u001b[0m 576us/step\n",
      "\u001b[1m313/313\u001b[0m \u001b[32m━━━━━━━━━━━━━━━━━━━━\u001b[0m\u001b[37m\u001b[0m \u001b[1m0s\u001b[0m 927us/step\n"
     ]
    },
    {
     "name": "stderr",
     "output_type": "stream",
     "text": [
      "/home/tommy/miniconda3/envs/311/lib/python3.11/site-packages/keras/src/layers/core/dense.py:87: UserWarning: Do not pass an `input_shape`/`input_dim` argument to a layer. When using Sequential models, prefer using an `Input(shape)` object as the first layer in the model instead.\n",
      "  super().__init__(activity_regularizer=activity_regularizer, **kwargs)\n"
     ]
    }
   ],
   "source": [
    "from tensorflow.keras.utils import to_categorical\n",
    "from tensorflow.keras import optimizers\n",
    "\n",
    "encoder = Model(inputs=input_img, outputs=code)\n",
    "\n",
    "### encode 훈련셋\n",
    "X_train_encode = encoder.predict(x_train)  ### 32차원의 저차원 벡터 생성\n",
    "### encode 검증셋\n",
    "X_test_encode = encoder.predict(x_test)\n",
    "\n",
    "### 단순히 시퀀셜한 구성으로 사용\n",
    "model = keras.Sequential()\n",
    "model.add(layers.Dense(128, activation = 'relu', input_shape=(X_train_encode.shape[1],)))\n",
    "model.add(layers.Dense(10, activation = 'softmax'))"
   ]
  },
  {
   "cell_type": "code",
   "execution_count": 14,
   "metadata": {},
   "outputs": [],
   "source": [
    "y_train_one_hot = to_categorical(y_train)\n",
    "y_test_one_hot = to_categorical(y_test)"
   ]
  },
  {
   "cell_type": "code",
   "execution_count": 15,
   "metadata": {},
   "outputs": [
    {
     "name": "stdout",
     "output_type": "stream",
     "text": [
      "Epoch 1/20\n",
      "\u001b[1m375/375\u001b[0m \u001b[32m━━━━━━━━━━━━━━━━━━━━\u001b[0m\u001b[37m\u001b[0m \u001b[1m4s\u001b[0m 4ms/step - accuracy: 0.6343 - loss: 1.3541 - val_accuracy: 0.8958 - val_loss: 0.3717\n",
      "Epoch 2/20\n",
      "\u001b[1m375/375\u001b[0m \u001b[32m━━━━━━━━━━━━━━━━━━━━\u001b[0m\u001b[37m\u001b[0m \u001b[1m0s\u001b[0m 731us/step - accuracy: 0.8802 - loss: 0.3876 - val_accuracy: 0.9165 - val_loss: 0.2874\n",
      "Epoch 3/20\n",
      "\u001b[1m375/375\u001b[0m \u001b[32m━━━━━━━━━━━━━━━━━━━━\u001b[0m\u001b[37m\u001b[0m \u001b[1m0s\u001b[0m 701us/step - accuracy: 0.9020 - loss: 0.3163 - val_accuracy: 0.9259 - val_loss: 0.2506\n",
      "Epoch 4/20\n",
      "\u001b[1m375/375\u001b[0m \u001b[32m━━━━━━━━━━━━━━━━━━━━\u001b[0m\u001b[37m\u001b[0m \u001b[1m0s\u001b[0m 696us/step - accuracy: 0.9210 - loss: 0.2612 - val_accuracy: 0.9359 - val_loss: 0.2158\n",
      "Epoch 5/20\n",
      "\u001b[1m375/375\u001b[0m \u001b[32m━━━━━━━━━━━━━━━━━━━━\u001b[0m\u001b[37m\u001b[0m \u001b[1m0s\u001b[0m 708us/step - accuracy: 0.9330 - loss: 0.2224 - val_accuracy: 0.9237 - val_loss: 0.2345\n",
      "Epoch 6/20\n",
      "\u001b[1m375/375\u001b[0m \u001b[32m━━━━━━━━━━━━━━━━━━━━\u001b[0m\u001b[37m\u001b[0m \u001b[1m0s\u001b[0m 705us/step - accuracy: 0.9407 - loss: 0.1972 - val_accuracy: 0.9458 - val_loss: 0.1785\n",
      "Epoch 7/20\n",
      "\u001b[1m375/375\u001b[0m \u001b[32m━━━━━━━━━━━━━━━━━━━━\u001b[0m\u001b[37m\u001b[0m \u001b[1m0s\u001b[0m 713us/step - accuracy: 0.9470 - loss: 0.1717 - val_accuracy: 0.9404 - val_loss: 0.1862\n",
      "Epoch 8/20\n",
      "\u001b[1m375/375\u001b[0m \u001b[32m━━━━━━━━━━━━━━━━━━━━\u001b[0m\u001b[37m\u001b[0m \u001b[1m0s\u001b[0m 677us/step - accuracy: 0.9495 - loss: 0.1695 - val_accuracy: 0.9553 - val_loss: 0.1486\n",
      "Epoch 9/20\n",
      "\u001b[1m375/375\u001b[0m \u001b[32m━━━━━━━━━━━━━━━━━━━━\u001b[0m\u001b[37m\u001b[0m \u001b[1m0s\u001b[0m 750us/step - accuracy: 0.9543 - loss: 0.1474 - val_accuracy: 0.9572 - val_loss: 0.1433\n",
      "Epoch 10/20\n",
      "\u001b[1m375/375\u001b[0m \u001b[32m━━━━━━━━━━━━━━━━━━━━\u001b[0m\u001b[37m\u001b[0m \u001b[1m0s\u001b[0m 700us/step - accuracy: 0.9557 - loss: 0.1436 - val_accuracy: 0.9549 - val_loss: 0.1495\n",
      "Epoch 11/20\n",
      "\u001b[1m375/375\u001b[0m \u001b[32m━━━━━━━━━━━━━━━━━━━━\u001b[0m\u001b[37m\u001b[0m \u001b[1m0s\u001b[0m 692us/step - accuracy: 0.9584 - loss: 0.1332 - val_accuracy: 0.9611 - val_loss: 0.1298\n",
      "Epoch 12/20\n",
      "\u001b[1m375/375\u001b[0m \u001b[32m━━━━━━━━━━━━━━━━━━━━\u001b[0m\u001b[37m\u001b[0m \u001b[1m0s\u001b[0m 697us/step - accuracy: 0.9617 - loss: 0.1246 - val_accuracy: 0.9605 - val_loss: 0.1344\n",
      "Epoch 13/20\n",
      "\u001b[1m375/375\u001b[0m \u001b[32m━━━━━━━━━━━━━━━━━━━━\u001b[0m\u001b[37m\u001b[0m \u001b[1m0s\u001b[0m 700us/step - accuracy: 0.9616 - loss: 0.1250 - val_accuracy: 0.9588 - val_loss: 0.1324\n",
      "Epoch 14/20\n",
      "\u001b[1m375/375\u001b[0m \u001b[32m━━━━━━━━━━━━━━━━━━━━\u001b[0m\u001b[37m\u001b[0m \u001b[1m0s\u001b[0m 781us/step - accuracy: 0.9645 - loss: 0.1171 - val_accuracy: 0.9615 - val_loss: 0.1248\n",
      "Epoch 15/20\n",
      "\u001b[1m375/375\u001b[0m \u001b[32m━━━━━━━━━━━━━━━━━━━━\u001b[0m\u001b[37m\u001b[0m \u001b[1m0s\u001b[0m 687us/step - accuracy: 0.9653 - loss: 0.1102 - val_accuracy: 0.9638 - val_loss: 0.1208\n",
      "Epoch 16/20\n",
      "\u001b[1m375/375\u001b[0m \u001b[32m━━━━━━━━━━━━━━━━━━━━\u001b[0m\u001b[37m\u001b[0m \u001b[1m0s\u001b[0m 696us/step - accuracy: 0.9665 - loss: 0.1096 - val_accuracy: 0.9645 - val_loss: 0.1224\n",
      "Epoch 17/20\n",
      "\u001b[1m375/375\u001b[0m \u001b[32m━━━━━━━━━━━━━━━━━━━━\u001b[0m\u001b[37m\u001b[0m \u001b[1m0s\u001b[0m 703us/step - accuracy: 0.9687 - loss: 0.1018 - val_accuracy: 0.9612 - val_loss: 0.1332\n",
      "Epoch 18/20\n",
      "\u001b[1m375/375\u001b[0m \u001b[32m━━━━━━━━━━━━━━━━━━━━\u001b[0m\u001b[37m\u001b[0m \u001b[1m0s\u001b[0m 677us/step - accuracy: 0.9683 - loss: 0.0984 - val_accuracy: 0.9552 - val_loss: 0.1475\n",
      "Epoch 19/20\n",
      "\u001b[1m375/375\u001b[0m \u001b[32m━━━━━━━━━━━━━━━━━━━━\u001b[0m\u001b[37m\u001b[0m \u001b[1m0s\u001b[0m 683us/step - accuracy: 0.9689 - loss: 0.0986 - val_accuracy: 0.9624 - val_loss: 0.1252\n",
      "Epoch 20/20\n",
      "\u001b[1m375/375\u001b[0m \u001b[32m━━━━━━━━━━━━━━━━━━━━\u001b[0m\u001b[37m\u001b[0m \u001b[1m0s\u001b[0m 712us/step - accuracy: 0.9701 - loss: 0.0973 - val_accuracy: 0.9662 - val_loss: 0.1154\n"
     ]
    }
   ],
   "source": [
    "rmsprop = optimizers.RMSprop(learning_rate=0.001)\n",
    "model.compile(optimizer=rmsprop,\n",
    "              loss='categorical_crossentropy',\n",
    "              metrics=['accuracy'])\n",
    "history = model.fit(X_train_encode, y_train_one_hot,\n",
    "\t\t\t\t\t\t\t\t\t\tepochs=20, batch_size=128, validation_split = 0.2)"
   ]
  },
  {
   "cell_type": "markdown",
   "metadata": {},
   "source": [
    "### AE 를 이용한 데이터 증강"
   ]
  },
  {
   "cell_type": "markdown",
   "metadata": {},
   "source": [
    "\n",
    "1. 이미지 로딩 및 전처리: 지정된 폴더에서 이미지를 로드, 모델에 적합한 형태로  전처리\n",
    "2. 오토인코더 모델 구성 및 훈련: 간단한 오토인코더 모델을 구성하고 훈련\n",
    "3. 이미지 증강: 훈련된 모델을 사용하여 이미지를 증강, 결과 저장\n",
    "![image.png](data:image/png;base64,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)"
   ]
  },
  {
   "cell_type": "code",
   "execution_count": null,
   "metadata": {},
   "outputs": [],
   "source": [
    "# 이미지 로드\n",
    "def load_images_local(folder_path, target_size=(128, 128)):\n",
    "    images = []\n",
    "    filenames = os.listdir(folder_path)\n",
    "    for filename in filenames:\n",
    "        try:\n",
    "            img_path = os.path.join(folder_path, filename)\n",
    "            img = load_img(img_path, target_size=target_size)\n",
    "            img = img_to_array(img) / 255.0\n",
    "            images.append(img)\n",
    "        except:\n",
    "            pass\n",
    "    return np.array(images)\n",
    "\n",
    "# 오토인코더 : 이미지 차원 축소 -> 복원\n",
    "def build_autoencoder(input_shape): # input_shape=(128, 128, 3) 입력 이미지 형태(height, width, channels)\n",
    "    input_img = Input(shape=input_shape) # Input : 입력 레이어 정의\n",
    "    # Encoder 입력 이미지를 저차원의 표현으로 압축\n",
    "    x = Conv2D(32, (3, 3), activation='relu', padding='same')(input_img)\n",
    "       # 이미지 특징 추출, #3*3 필더 32개\n",
    "    x = MaxPooling2D((2, 2), padding='same')(x)  # 이미지 차원 축소\n",
    "    x = Conv2D(16, (3, 3), activation='relu', padding='same')(x)\n",
    "       # # 이미지 특징 추출, #3*3 필더 16개\n",
    "    encoded = MaxPooling2D((2, 2), padding='same')(x)\n",
    "\n",
    "    # Decoder 원본 이미지 (유사한 이미지로) 복원\n",
    "    x = Conv2D(16, (3, 3), activation='relu', padding='same')(encoded)\n",
    "    x = UpSampling2D((2, 2))(x) # 이미지의 차원 확장, MaxPooling2D의 반대 과정\n",
    "       # 입력된 데이터의 각 차원(가로와 세로)을 지정된 배수만큼 확대\n",
    "       # UpSampling2D(size=(2,2)) :  입력 이미지의 각 픽셀을 가로 세로 2배 증가\n",
    "    x = Conv2D(32, (3, 3), activation='relu', padding='same')(x)\n",
    "    x = UpSampling2D((2, 2))(x)\n",
    "    decoded = Conv2D(3, (3, 3), activation='sigmoid', padding='same')(x) # sigmoid' 출력 이미지의 픽셀 값을 0과 1 사이로\n",
    "\n",
    "    autoencoder = Model(input_img, decoded) # Model 객체 생성, 입력과 출력을 연결\n",
    "    autoencoder.compile(optimizer='adam', loss='binary_crossentropy')\n",
    "    return autoencoder\n",
    "\n",
    "# 이미지 증강 및 저장\n",
    "def augment_images(autoencoder, images, save_dir):\n",
    "    decoded_images = autoencoder.predict(images)\n",
    "    if not os.path.exists(save_dir):\n",
    "        os.makedirs(save_dir)\n",
    "    for i, img_array in enumerate(decoded_images):\n",
    "        img = array_to_img(img_array)\n",
    "        img.save(os.path.join(save_dir, f'augmented_image_{i}.png'))\n",
    "\n",
    "# 메인 실행 부분\n",
    "if __name__ == \"__main__\":\n",
    "    # 설정\n",
    "    data_folder = '../data/data_mw/woman'  # 이미지가 저장된 폴더 경로\n",
    "    save_folder = '../data/data_mw_add/woman_new'  # 증강된 이미지를 저장할 폴더 경로\n",
    "    # save_folder = '/content/drive/MyDrive/CNN/Aug_Result/'\n",
    "\n",
    "    # 이미지 로드 - 로컬\n",
    "    images = load_images_local(data_folder)\n",
    "\n",
    "    # 오토인코더 모델 구성 및 훈련\n",
    "    autoencoder = build_autoencoder(input_shape=(128, 128, 3))\n",
    "    autoencoder.fit(images, images, epochs=20, batch_size=20)\n",
    "\n",
    "    # 이미지 증강 및 저장\n",
    "    augment_images(autoencoder, images, save_folder)\n",
    "\n"
   ]
  }
 ],
 "metadata": {
  "kernelspec": {
   "display_name": "311",
   "language": "python",
   "name": "python3"
  },
  "language_info": {
   "codemirror_mode": {
    "name": "ipython",
    "version": 3
   },
   "file_extension": ".py",
   "mimetype": "text/x-python",
   "name": "python",
   "nbconvert_exporter": "python",
   "pygments_lexer": "ipython3",
   "version": "3.11.10"
  }
 },
 "nbformat": 4,
 "nbformat_minor": 2
}
