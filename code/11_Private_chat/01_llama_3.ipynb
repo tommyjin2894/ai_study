{
 "cells": [
  {
   "cell_type": "markdown",
   "metadata": {},
   "source": [
    "### Llama 3\n",
    "- Meta에서 만든 오픈소스 대규모 언어 모델(LLM)"
   ]
  },
  {
   "cell_type": "code",
   "execution_count": 52,
   "metadata": {},
   "outputs": [],
   "source": [
    "# !pip install torch transformers==4.40.0 accelerate"
   ]
  },
  {
   "cell_type": "code",
   "execution_count": 14,
   "metadata": {},
   "outputs": [
    {
     "name": "stdout",
     "output_type": "stream",
     "text": [
      "Requirement already satisfied: transformers in /home/tommy/miniconda3/envs/py311/lib/python3.11/site-packages (4.37.1)\n",
      "Collecting transformers\n",
      "  Using cached transformers-4.44.0-py3-none-any.whl.metadata (43 kB)\n",
      "Requirement already satisfied: filelock in /home/tommy/miniconda3/envs/py311/lib/python3.11/site-packages (from transformers) (3.15.4)\n",
      "Requirement already satisfied: huggingface-hub<1.0,>=0.23.2 in /home/tommy/miniconda3/envs/py311/lib/python3.11/site-packages (from transformers) (0.24.5)\n",
      "Requirement already satisfied: numpy>=1.17 in /home/tommy/miniconda3/envs/py311/lib/python3.11/site-packages (from transformers) (1.26.4)\n",
      "Requirement already satisfied: packaging>=20.0 in /home/tommy/miniconda3/envs/py311/lib/python3.11/site-packages (from transformers) (24.1)\n",
      "Requirement already satisfied: pyyaml>=5.1 in /home/tommy/miniconda3/envs/py311/lib/python3.11/site-packages (from transformers) (6.0.1)\n",
      "Requirement already satisfied: regex!=2019.12.17 in /home/tommy/miniconda3/envs/py311/lib/python3.11/site-packages (from transformers) (2024.7.24)\n",
      "Requirement already satisfied: requests in /home/tommy/miniconda3/envs/py311/lib/python3.11/site-packages (from transformers) (2.32.3)\n",
      "Collecting safetensors>=0.4.1 (from transformers)\n",
      "  Using cached safetensors-0.4.4-cp311-cp311-manylinux_2_17_x86_64.manylinux2014_x86_64.whl.metadata (3.8 kB)\n",
      "Collecting tokenizers<0.20,>=0.19 (from transformers)\n",
      "  Using cached tokenizers-0.19.1-cp311-cp311-manylinux_2_17_x86_64.manylinux2014_x86_64.whl.metadata (6.7 kB)\n",
      "Requirement already satisfied: tqdm>=4.27 in /home/tommy/miniconda3/envs/py311/lib/python3.11/site-packages (from transformers) (4.66.5)\n",
      "Requirement already satisfied: fsspec>=2023.5.0 in /home/tommy/miniconda3/envs/py311/lib/python3.11/site-packages (from huggingface-hub<1.0,>=0.23.2->transformers) (2024.6.1)\n",
      "Requirement already satisfied: typing-extensions>=3.7.4.3 in /home/tommy/miniconda3/envs/py311/lib/python3.11/site-packages (from huggingface-hub<1.0,>=0.23.2->transformers) (4.12.2)\n",
      "Requirement already satisfied: charset-normalizer<4,>=2 in /home/tommy/miniconda3/envs/py311/lib/python3.11/site-packages (from requests->transformers) (3.3.2)\n",
      "Requirement already satisfied: idna<4,>=2.5 in /home/tommy/miniconda3/envs/py311/lib/python3.11/site-packages (from requests->transformers) (3.7)\n",
      "Requirement already satisfied: urllib3<3,>=1.21.1 in /home/tommy/miniconda3/envs/py311/lib/python3.11/site-packages (from requests->transformers) (2.2.2)\n",
      "Requirement already satisfied: certifi>=2017.4.17 in /home/tommy/miniconda3/envs/py311/lib/python3.11/site-packages (from requests->transformers) (2024.7.4)\n",
      "Using cached transformers-4.44.0-py3-none-any.whl (9.5 MB)\n",
      "Using cached safetensors-0.4.4-cp311-cp311-manylinux_2_17_x86_64.manylinux2014_x86_64.whl (435 kB)\n",
      "Using cached tokenizers-0.19.1-cp311-cp311-manylinux_2_17_x86_64.manylinux2014_x86_64.whl (3.6 MB)\n",
      "Installing collected packages: safetensors, tokenizers, transformers\n",
      "  Attempting uninstall: safetensors\n",
      "    Found existing installation: safetensors 0.3.1\n",
      "    Uninstalling safetensors-0.3.1:\n",
      "      Successfully uninstalled safetensors-0.3.1\n",
      "  Attempting uninstall: tokenizers\n",
      "    Found existing installation: tokenizers 0.15.2\n",
      "    Uninstalling tokenizers-0.15.2:\n",
      "      Successfully uninstalled tokenizers-0.15.2\n",
      "  Attempting uninstall: transformers\n",
      "    Found existing installation: transformers 4.37.1\n",
      "    Uninstalling transformers-4.37.1:\n",
      "      Successfully uninstalled transformers-4.37.1\n",
      "\u001b[31mERROR: pip's dependency resolver does not currently take into account all the packages that are installed. This behaviour is the source of the following dependency conflicts.\n",
      "exllama 0.1.0 requires safetensors==0.3.1, but you have safetensors 0.4.4 which is incompatible.\u001b[0m\u001b[31m\n",
      "\u001b[0mSuccessfully installed safetensors-0.4.4 tokenizers-0.19.1 transformers-4.44.0\n",
      "Requirement already satisfied: trl in /home/tommy/miniconda3/envs/py311/lib/python3.11/site-packages (0.9.6)\n",
      "Requirement already satisfied: torch>=1.4.0 in /home/tommy/miniconda3/envs/py311/lib/python3.11/site-packages (from trl) (2.4.0)\n",
      "Requirement already satisfied: transformers>=4.31.0 in /home/tommy/miniconda3/envs/py311/lib/python3.11/site-packages (from trl) (4.44.0)\n",
      "Requirement already satisfied: numpy<2.0.0,>=1.18.2 in /home/tommy/miniconda3/envs/py311/lib/python3.11/site-packages (from trl) (1.26.4)\n",
      "Requirement already satisfied: accelerate in /home/tommy/miniconda3/envs/py311/lib/python3.11/site-packages (from trl) (0.33.0)\n",
      "Requirement already satisfied: datasets in /home/tommy/miniconda3/envs/py311/lib/python3.11/site-packages (from trl) (2.21.0)\n",
      "Requirement already satisfied: tyro>=0.5.11 in /home/tommy/miniconda3/envs/py311/lib/python3.11/site-packages (from trl) (0.8.6)\n",
      "Requirement already satisfied: filelock in /home/tommy/miniconda3/envs/py311/lib/python3.11/site-packages (from torch>=1.4.0->trl) (3.15.4)\n",
      "Requirement already satisfied: typing-extensions>=4.8.0 in /home/tommy/miniconda3/envs/py311/lib/python3.11/site-packages (from torch>=1.4.0->trl) (4.12.2)\n",
      "Requirement already satisfied: sympy in /home/tommy/miniconda3/envs/py311/lib/python3.11/site-packages (from torch>=1.4.0->trl) (1.13.1)\n",
      "Requirement already satisfied: networkx in /home/tommy/miniconda3/envs/py311/lib/python3.11/site-packages (from torch>=1.4.0->trl) (3.3)\n",
      "Requirement already satisfied: jinja2 in /home/tommy/miniconda3/envs/py311/lib/python3.11/site-packages (from torch>=1.4.0->trl) (3.1.4)\n",
      "Requirement already satisfied: fsspec in /home/tommy/miniconda3/envs/py311/lib/python3.11/site-packages (from torch>=1.4.0->trl) (2024.6.1)\n",
      "Requirement already satisfied: nvidia-cuda-nvrtc-cu12==12.1.105 in /home/tommy/miniconda3/envs/py311/lib/python3.11/site-packages (from torch>=1.4.0->trl) (12.1.105)\n",
      "Requirement already satisfied: nvidia-cuda-runtime-cu12==12.1.105 in /home/tommy/miniconda3/envs/py311/lib/python3.11/site-packages (from torch>=1.4.0->trl) (12.1.105)\n",
      "Requirement already satisfied: nvidia-cuda-cupti-cu12==12.1.105 in /home/tommy/miniconda3/envs/py311/lib/python3.11/site-packages (from torch>=1.4.0->trl) (12.1.105)\n",
      "Requirement already satisfied: nvidia-cudnn-cu12==9.1.0.70 in /home/tommy/miniconda3/envs/py311/lib/python3.11/site-packages (from torch>=1.4.0->trl) (9.1.0.70)\n",
      "Requirement already satisfied: nvidia-cublas-cu12==12.1.3.1 in /home/tommy/miniconda3/envs/py311/lib/python3.11/site-packages (from torch>=1.4.0->trl) (12.1.3.1)\n",
      "Requirement already satisfied: nvidia-cufft-cu12==11.0.2.54 in /home/tommy/miniconda3/envs/py311/lib/python3.11/site-packages (from torch>=1.4.0->trl) (11.0.2.54)\n",
      "Requirement already satisfied: nvidia-curand-cu12==10.3.2.106 in /home/tommy/miniconda3/envs/py311/lib/python3.11/site-packages (from torch>=1.4.0->trl) (10.3.2.106)\n",
      "Requirement already satisfied: nvidia-cusolver-cu12==11.4.5.107 in /home/tommy/miniconda3/envs/py311/lib/python3.11/site-packages (from torch>=1.4.0->trl) (11.4.5.107)\n",
      "Requirement already satisfied: nvidia-cusparse-cu12==12.1.0.106 in /home/tommy/miniconda3/envs/py311/lib/python3.11/site-packages (from torch>=1.4.0->trl) (12.1.0.106)\n",
      "Requirement already satisfied: nvidia-nccl-cu12==2.20.5 in /home/tommy/miniconda3/envs/py311/lib/python3.11/site-packages (from torch>=1.4.0->trl) (2.20.5)\n",
      "Requirement already satisfied: nvidia-nvtx-cu12==12.1.105 in /home/tommy/miniconda3/envs/py311/lib/python3.11/site-packages (from torch>=1.4.0->trl) (12.1.105)\n",
      "Requirement already satisfied: triton==3.0.0 in /home/tommy/miniconda3/envs/py311/lib/python3.11/site-packages (from torch>=1.4.0->trl) (3.0.0)\n",
      "Requirement already satisfied: nvidia-nvjitlink-cu12 in /home/tommy/miniconda3/envs/py311/lib/python3.11/site-packages (from nvidia-cusolver-cu12==11.4.5.107->torch>=1.4.0->trl) (12.6.20)\n",
      "Requirement already satisfied: huggingface-hub<1.0,>=0.23.2 in /home/tommy/miniconda3/envs/py311/lib/python3.11/site-packages (from transformers>=4.31.0->trl) (0.24.5)\n",
      "Requirement already satisfied: packaging>=20.0 in /home/tommy/miniconda3/envs/py311/lib/python3.11/site-packages (from transformers>=4.31.0->trl) (24.1)\n",
      "Requirement already satisfied: pyyaml>=5.1 in /home/tommy/miniconda3/envs/py311/lib/python3.11/site-packages (from transformers>=4.31.0->trl) (6.0.1)\n",
      "Requirement already satisfied: regex!=2019.12.17 in /home/tommy/miniconda3/envs/py311/lib/python3.11/site-packages (from transformers>=4.31.0->trl) (2024.7.24)\n",
      "Requirement already satisfied: requests in /home/tommy/miniconda3/envs/py311/lib/python3.11/site-packages (from transformers>=4.31.0->trl) (2.32.3)\n",
      "Requirement already satisfied: safetensors>=0.4.1 in /home/tommy/miniconda3/envs/py311/lib/python3.11/site-packages (from transformers>=4.31.0->trl) (0.4.4)\n",
      "Requirement already satisfied: tokenizers<0.20,>=0.19 in /home/tommy/miniconda3/envs/py311/lib/python3.11/site-packages (from transformers>=4.31.0->trl) (0.19.1)\n",
      "Requirement already satisfied: tqdm>=4.27 in /home/tommy/miniconda3/envs/py311/lib/python3.11/site-packages (from transformers>=4.31.0->trl) (4.66.5)\n",
      "Requirement already satisfied: docstring-parser>=0.16 in /home/tommy/miniconda3/envs/py311/lib/python3.11/site-packages (from tyro>=0.5.11->trl) (0.16)\n",
      "Requirement already satisfied: rich>=11.1.0 in /home/tommy/miniconda3/envs/py311/lib/python3.11/site-packages (from tyro>=0.5.11->trl) (13.7.1)\n",
      "Requirement already satisfied: shtab>=1.5.6 in /home/tommy/miniconda3/envs/py311/lib/python3.11/site-packages (from tyro>=0.5.11->trl) (1.7.1)\n",
      "Requirement already satisfied: psutil in /home/tommy/miniconda3/envs/py311/lib/python3.11/site-packages (from accelerate->trl) (6.0.0)\n",
      "Requirement already satisfied: pyarrow>=15.0.0 in /home/tommy/miniconda3/envs/py311/lib/python3.11/site-packages (from datasets->trl) (17.0.0)\n",
      "Requirement already satisfied: dill<0.3.9,>=0.3.0 in /home/tommy/miniconda3/envs/py311/lib/python3.11/site-packages (from datasets->trl) (0.3.8)\n",
      "Requirement already satisfied: pandas in /home/tommy/miniconda3/envs/py311/lib/python3.11/site-packages (from datasets->trl) (2.2.2)\n",
      "Requirement already satisfied: xxhash in /home/tommy/miniconda3/envs/py311/lib/python3.11/site-packages (from datasets->trl) (3.4.1)\n",
      "Requirement already satisfied: multiprocess in /home/tommy/miniconda3/envs/py311/lib/python3.11/site-packages (from datasets->trl) (0.70.16)\n",
      "Requirement already satisfied: aiohttp in /home/tommy/miniconda3/envs/py311/lib/python3.11/site-packages (from datasets->trl) (3.10.3)\n",
      "Requirement already satisfied: aiohappyeyeballs>=2.3.0 in /home/tommy/miniconda3/envs/py311/lib/python3.11/site-packages (from aiohttp->datasets->trl) (2.3.5)\n",
      "Requirement already satisfied: aiosignal>=1.1.2 in /home/tommy/miniconda3/envs/py311/lib/python3.11/site-packages (from aiohttp->datasets->trl) (1.3.1)\n",
      "Requirement already satisfied: attrs>=17.3.0 in /home/tommy/miniconda3/envs/py311/lib/python3.11/site-packages (from aiohttp->datasets->trl) (24.1.0)\n",
      "Requirement already satisfied: frozenlist>=1.1.1 in /home/tommy/miniconda3/envs/py311/lib/python3.11/site-packages (from aiohttp->datasets->trl) (1.4.1)\n",
      "Requirement already satisfied: multidict<7.0,>=4.5 in /home/tommy/miniconda3/envs/py311/lib/python3.11/site-packages (from aiohttp->datasets->trl) (6.0.5)\n",
      "Requirement already satisfied: yarl<2.0,>=1.0 in /home/tommy/miniconda3/envs/py311/lib/python3.11/site-packages (from aiohttp->datasets->trl) (1.9.4)\n",
      "Requirement already satisfied: charset-normalizer<4,>=2 in /home/tommy/miniconda3/envs/py311/lib/python3.11/site-packages (from requests->transformers>=4.31.0->trl) (3.3.2)\n",
      "Requirement already satisfied: idna<4,>=2.5 in /home/tommy/miniconda3/envs/py311/lib/python3.11/site-packages (from requests->transformers>=4.31.0->trl) (3.7)\n",
      "Requirement already satisfied: urllib3<3,>=1.21.1 in /home/tommy/miniconda3/envs/py311/lib/python3.11/site-packages (from requests->transformers>=4.31.0->trl) (2.2.2)\n",
      "Requirement already satisfied: certifi>=2017.4.17 in /home/tommy/miniconda3/envs/py311/lib/python3.11/site-packages (from requests->transformers>=4.31.0->trl) (2024.7.4)\n",
      "Requirement already satisfied: markdown-it-py>=2.2.0 in /home/tommy/miniconda3/envs/py311/lib/python3.11/site-packages (from rich>=11.1.0->tyro>=0.5.11->trl) (3.0.0)\n",
      "Requirement already satisfied: pygments<3.0.0,>=2.13.0 in /home/tommy/miniconda3/envs/py311/lib/python3.11/site-packages (from rich>=11.1.0->tyro>=0.5.11->trl) (2.18.0)\n",
      "Requirement already satisfied: MarkupSafe>=2.0 in /home/tommy/miniconda3/envs/py311/lib/python3.11/site-packages (from jinja2->torch>=1.4.0->trl) (2.1.5)\n",
      "Requirement already satisfied: python-dateutil>=2.8.2 in /home/tommy/miniconda3/envs/py311/lib/python3.11/site-packages (from pandas->datasets->trl) (2.9.0.post0)\n",
      "Requirement already satisfied: pytz>=2020.1 in /home/tommy/miniconda3/envs/py311/lib/python3.11/site-packages (from pandas->datasets->trl) (2024.1)\n",
      "Requirement already satisfied: tzdata>=2022.7 in /home/tommy/miniconda3/envs/py311/lib/python3.11/site-packages (from pandas->datasets->trl) (2024.1)\n",
      "Requirement already satisfied: mpmath<1.4,>=1.1.0 in /home/tommy/miniconda3/envs/py311/lib/python3.11/site-packages (from sympy->torch>=1.4.0->trl) (1.3.0)\n",
      "Requirement already satisfied: mdurl~=0.1 in /home/tommy/miniconda3/envs/py311/lib/python3.11/site-packages (from markdown-it-py>=2.2.0->rich>=11.1.0->tyro>=0.5.11->trl) (0.1.2)\n",
      "Requirement already satisfied: six>=1.5 in /home/tommy/miniconda3/envs/py311/lib/python3.11/site-packages (from python-dateutil>=2.8.2->pandas->datasets->trl) (1.16.0)\n",
      "Requirement already satisfied: transformers in /home/tommy/miniconda3/envs/py311/lib/python3.11/site-packages (4.44.0)\n",
      "Requirement already satisfied: filelock in /home/tommy/miniconda3/envs/py311/lib/python3.11/site-packages (from transformers) (3.15.4)\n",
      "Requirement already satisfied: huggingface-hub<1.0,>=0.23.2 in /home/tommy/miniconda3/envs/py311/lib/python3.11/site-packages (from transformers) (0.24.5)\n",
      "Requirement already satisfied: numpy>=1.17 in /home/tommy/miniconda3/envs/py311/lib/python3.11/site-packages (from transformers) (1.26.4)\n",
      "Requirement already satisfied: packaging>=20.0 in /home/tommy/miniconda3/envs/py311/lib/python3.11/site-packages (from transformers) (24.1)\n",
      "Requirement already satisfied: pyyaml>=5.1 in /home/tommy/miniconda3/envs/py311/lib/python3.11/site-packages (from transformers) (6.0.1)\n",
      "Requirement already satisfied: regex!=2019.12.17 in /home/tommy/miniconda3/envs/py311/lib/python3.11/site-packages (from transformers) (2024.7.24)\n",
      "Requirement already satisfied: requests in /home/tommy/miniconda3/envs/py311/lib/python3.11/site-packages (from transformers) (2.32.3)\n",
      "Requirement already satisfied: safetensors>=0.4.1 in /home/tommy/miniconda3/envs/py311/lib/python3.11/site-packages (from transformers) (0.4.4)\n",
      "Requirement already satisfied: tokenizers<0.20,>=0.19 in /home/tommy/miniconda3/envs/py311/lib/python3.11/site-packages (from transformers) (0.19.1)\n",
      "Requirement already satisfied: tqdm>=4.27 in /home/tommy/miniconda3/envs/py311/lib/python3.11/site-packages (from transformers) (4.66.5)\n",
      "Requirement already satisfied: fsspec>=2023.5.0 in /home/tommy/miniconda3/envs/py311/lib/python3.11/site-packages (from huggingface-hub<1.0,>=0.23.2->transformers) (2024.6.1)\n",
      "Requirement already satisfied: typing-extensions>=3.7.4.3 in /home/tommy/miniconda3/envs/py311/lib/python3.11/site-packages (from huggingface-hub<1.0,>=0.23.2->transformers) (4.12.2)\n",
      "Requirement already satisfied: charset-normalizer<4,>=2 in /home/tommy/miniconda3/envs/py311/lib/python3.11/site-packages (from requests->transformers) (3.3.2)\n",
      "Requirement already satisfied: idna<4,>=2.5 in /home/tommy/miniconda3/envs/py311/lib/python3.11/site-packages (from requests->transformers) (3.7)\n",
      "Requirement already satisfied: urllib3<3,>=1.21.1 in /home/tommy/miniconda3/envs/py311/lib/python3.11/site-packages (from requests->transformers) (2.2.2)\n",
      "Requirement already satisfied: certifi>=2017.4.17 in /home/tommy/miniconda3/envs/py311/lib/python3.11/site-packages (from requests->transformers) (2024.7.4)\n",
      "Requirement already satisfied: vllm in /home/tommy/miniconda3/envs/py311/lib/python3.11/site-packages (0.5.4)\n",
      "Requirement already satisfied: cmake>=3.21 in /home/tommy/miniconda3/envs/py311/lib/python3.11/site-packages (from vllm) (3.30.2)\n",
      "Requirement already satisfied: ninja in /home/tommy/miniconda3/envs/py311/lib/python3.11/site-packages (from vllm) (1.11.1)\n",
      "Requirement already satisfied: psutil in /home/tommy/miniconda3/envs/py311/lib/python3.11/site-packages (from vllm) (6.0.0)\n",
      "Requirement already satisfied: sentencepiece in /home/tommy/miniconda3/envs/py311/lib/python3.11/site-packages (from vllm) (0.2.0)\n",
      "Requirement already satisfied: numpy<2.0.0 in /home/tommy/miniconda3/envs/py311/lib/python3.11/site-packages (from vllm) (1.26.4)\n",
      "Requirement already satisfied: requests in /home/tommy/miniconda3/envs/py311/lib/python3.11/site-packages (from vllm) (2.32.3)\n",
      "Requirement already satisfied: tqdm in /home/tommy/miniconda3/envs/py311/lib/python3.11/site-packages (from vllm) (4.66.5)\n",
      "Requirement already satisfied: py-cpuinfo in /home/tommy/miniconda3/envs/py311/lib/python3.11/site-packages (from vllm) (9.0.0)\n",
      "Requirement already satisfied: transformers>=4.43.2 in /home/tommy/miniconda3/envs/py311/lib/python3.11/site-packages (from vllm) (4.44.0)\n",
      "Requirement already satisfied: tokenizers>=0.19.1 in /home/tommy/miniconda3/envs/py311/lib/python3.11/site-packages (from vllm) (0.19.1)\n",
      "Requirement already satisfied: fastapi in /home/tommy/miniconda3/envs/py311/lib/python3.11/site-packages (from vllm) (0.112.0)\n",
      "Requirement already satisfied: aiohttp in /home/tommy/miniconda3/envs/py311/lib/python3.11/site-packages (from vllm) (3.10.3)\n",
      "Requirement already satisfied: openai in /home/tommy/miniconda3/envs/py311/lib/python3.11/site-packages (from vllm) (0.28.0)\n",
      "Requirement already satisfied: uvicorn[standard] in /home/tommy/miniconda3/envs/py311/lib/python3.11/site-packages (from vllm) (0.30.6)\n",
      "Requirement already satisfied: pydantic>=2.0 in /home/tommy/miniconda3/envs/py311/lib/python3.11/site-packages (from vllm) (2.8.2)\n",
      "Requirement already satisfied: pillow in /home/tommy/miniconda3/envs/py311/lib/python3.11/site-packages (from vllm) (10.4.0)\n",
      "Requirement already satisfied: prometheus-client>=0.18.0 in /home/tommy/miniconda3/envs/py311/lib/python3.11/site-packages (from vllm) (0.20.0)\n",
      "Requirement already satisfied: prometheus-fastapi-instrumentator>=7.0.0 in /home/tommy/miniconda3/envs/py311/lib/python3.11/site-packages (from vllm) (7.0.0)\n",
      "Requirement already satisfied: tiktoken>=0.6.0 in /home/tommy/miniconda3/envs/py311/lib/python3.11/site-packages (from vllm) (0.7.0)\n",
      "Requirement already satisfied: lm-format-enforcer==0.10.3 in /home/tommy/miniconda3/envs/py311/lib/python3.11/site-packages (from vllm) (0.10.3)\n",
      "Requirement already satisfied: outlines<0.1,>=0.0.43 in /home/tommy/miniconda3/envs/py311/lib/python3.11/site-packages (from vllm) (0.0.46)\n",
      "Requirement already satisfied: typing-extensions in /home/tommy/miniconda3/envs/py311/lib/python3.11/site-packages (from vllm) (4.12.2)\n",
      "Requirement already satisfied: filelock>=3.10.4 in /home/tommy/miniconda3/envs/py311/lib/python3.11/site-packages (from vllm) (3.15.4)\n",
      "Requirement already satisfied: pyzmq in /home/tommy/miniconda3/envs/py311/lib/python3.11/site-packages (from vllm) (26.1.0)\n",
      "Requirement already satisfied: ray>=2.9 in /home/tommy/miniconda3/envs/py311/lib/python3.11/site-packages (from vllm) (2.34.0)\n",
      "Requirement already satisfied: nvidia-ml-py in /home/tommy/miniconda3/envs/py311/lib/python3.11/site-packages (from vllm) (12.555.43)\n",
      "Requirement already satisfied: torch==2.4.0 in /home/tommy/miniconda3/envs/py311/lib/python3.11/site-packages (from vllm) (2.4.0)\n",
      "Requirement already satisfied: torchvision==0.19 in /home/tommy/miniconda3/envs/py311/lib/python3.11/site-packages (from vllm) (0.19.0)\n",
      "Requirement already satisfied: xformers==0.0.27.post2 in /home/tommy/miniconda3/envs/py311/lib/python3.11/site-packages (from vllm) (0.0.27.post2)\n",
      "Requirement already satisfied: vllm-flash-attn==2.6.1 in /home/tommy/miniconda3/envs/py311/lib/python3.11/site-packages (from vllm) (2.6.1)\n",
      "Requirement already satisfied: interegular>=0.3.2 in /home/tommy/miniconda3/envs/py311/lib/python3.11/site-packages (from lm-format-enforcer==0.10.3->vllm) (0.3.3)\n",
      "Requirement already satisfied: packaging in /home/tommy/miniconda3/envs/py311/lib/python3.11/site-packages (from lm-format-enforcer==0.10.3->vllm) (24.1)\n",
      "Requirement already satisfied: pyyaml in /home/tommy/miniconda3/envs/py311/lib/python3.11/site-packages (from lm-format-enforcer==0.10.3->vllm) (6.0.1)\n",
      "Requirement already satisfied: sympy in /home/tommy/miniconda3/envs/py311/lib/python3.11/site-packages (from torch==2.4.0->vllm) (1.13.1)\n",
      "Requirement already satisfied: networkx in /home/tommy/miniconda3/envs/py311/lib/python3.11/site-packages (from torch==2.4.0->vllm) (3.3)\n",
      "Requirement already satisfied: jinja2 in /home/tommy/miniconda3/envs/py311/lib/python3.11/site-packages (from torch==2.4.0->vllm) (3.1.4)\n",
      "Requirement already satisfied: fsspec in /home/tommy/miniconda3/envs/py311/lib/python3.11/site-packages (from torch==2.4.0->vllm) (2024.6.1)\n",
      "Requirement already satisfied: nvidia-cuda-nvrtc-cu12==12.1.105 in /home/tommy/miniconda3/envs/py311/lib/python3.11/site-packages (from torch==2.4.0->vllm) (12.1.105)\n",
      "Requirement already satisfied: nvidia-cuda-runtime-cu12==12.1.105 in /home/tommy/miniconda3/envs/py311/lib/python3.11/site-packages (from torch==2.4.0->vllm) (12.1.105)\n",
      "Requirement already satisfied: nvidia-cuda-cupti-cu12==12.1.105 in /home/tommy/miniconda3/envs/py311/lib/python3.11/site-packages (from torch==2.4.0->vllm) (12.1.105)\n",
      "Requirement already satisfied: nvidia-cudnn-cu12==9.1.0.70 in /home/tommy/miniconda3/envs/py311/lib/python3.11/site-packages (from torch==2.4.0->vllm) (9.1.0.70)\n",
      "Requirement already satisfied: nvidia-cublas-cu12==12.1.3.1 in /home/tommy/miniconda3/envs/py311/lib/python3.11/site-packages (from torch==2.4.0->vllm) (12.1.3.1)\n",
      "Requirement already satisfied: nvidia-cufft-cu12==11.0.2.54 in /home/tommy/miniconda3/envs/py311/lib/python3.11/site-packages (from torch==2.4.0->vllm) (11.0.2.54)\n",
      "Requirement already satisfied: nvidia-curand-cu12==10.3.2.106 in /home/tommy/miniconda3/envs/py311/lib/python3.11/site-packages (from torch==2.4.0->vllm) (10.3.2.106)\n",
      "Requirement already satisfied: nvidia-cusolver-cu12==11.4.5.107 in /home/tommy/miniconda3/envs/py311/lib/python3.11/site-packages (from torch==2.4.0->vllm) (11.4.5.107)\n",
      "Requirement already satisfied: nvidia-cusparse-cu12==12.1.0.106 in /home/tommy/miniconda3/envs/py311/lib/python3.11/site-packages (from torch==2.4.0->vllm) (12.1.0.106)\n",
      "Requirement already satisfied: nvidia-nccl-cu12==2.20.5 in /home/tommy/miniconda3/envs/py311/lib/python3.11/site-packages (from torch==2.4.0->vllm) (2.20.5)\n",
      "Requirement already satisfied: nvidia-nvtx-cu12==12.1.105 in /home/tommy/miniconda3/envs/py311/lib/python3.11/site-packages (from torch==2.4.0->vllm) (12.1.105)\n",
      "Requirement already satisfied: triton==3.0.0 in /home/tommy/miniconda3/envs/py311/lib/python3.11/site-packages (from torch==2.4.0->vllm) (3.0.0)\n",
      "Requirement already satisfied: nvidia-nvjitlink-cu12 in /home/tommy/miniconda3/envs/py311/lib/python3.11/site-packages (from nvidia-cusolver-cu12==11.4.5.107->torch==2.4.0->vllm) (12.6.20)\n",
      "Requirement already satisfied: lark in /home/tommy/miniconda3/envs/py311/lib/python3.11/site-packages (from outlines<0.1,>=0.0.43->vllm) (1.2.2)\n",
      "Requirement already satisfied: nest-asyncio in /home/tommy/miniconda3/envs/py311/lib/python3.11/site-packages (from outlines<0.1,>=0.0.43->vllm) (1.6.0)\n",
      "Requirement already satisfied: cloudpickle in /home/tommy/miniconda3/envs/py311/lib/python3.11/site-packages (from outlines<0.1,>=0.0.43->vllm) (3.0.0)\n",
      "Requirement already satisfied: diskcache in /home/tommy/miniconda3/envs/py311/lib/python3.11/site-packages (from outlines<0.1,>=0.0.43->vllm) (5.6.3)\n",
      "Requirement already satisfied: numba in /home/tommy/miniconda3/envs/py311/lib/python3.11/site-packages (from outlines<0.1,>=0.0.43->vllm) (0.60.0)\n",
      "Requirement already satisfied: referencing in /home/tommy/miniconda3/envs/py311/lib/python3.11/site-packages (from outlines<0.1,>=0.0.43->vllm) (0.35.1)\n",
      "Requirement already satisfied: jsonschema in /home/tommy/miniconda3/envs/py311/lib/python3.11/site-packages (from outlines<0.1,>=0.0.43->vllm) (4.23.0)\n",
      "Requirement already satisfied: datasets in /home/tommy/miniconda3/envs/py311/lib/python3.11/site-packages (from outlines<0.1,>=0.0.43->vllm) (2.21.0)\n",
      "Requirement already satisfied: pycountry in /home/tommy/miniconda3/envs/py311/lib/python3.11/site-packages (from outlines<0.1,>=0.0.43->vllm) (24.6.1)\n",
      "Requirement already satisfied: pyairports in /home/tommy/miniconda3/envs/py311/lib/python3.11/site-packages (from outlines<0.1,>=0.0.43->vllm) (2.1.1)\n",
      "Requirement already satisfied: starlette<1.0.0,>=0.30.0 in /home/tommy/miniconda3/envs/py311/lib/python3.11/site-packages (from prometheus-fastapi-instrumentator>=7.0.0->vllm) (0.37.2)\n",
      "Requirement already satisfied: annotated-types>=0.4.0 in /home/tommy/miniconda3/envs/py311/lib/python3.11/site-packages (from pydantic>=2.0->vllm) (0.7.0)\n",
      "Requirement already satisfied: pydantic-core==2.20.1 in /home/tommy/miniconda3/envs/py311/lib/python3.11/site-packages (from pydantic>=2.0->vllm) (2.20.1)\n",
      "Requirement already satisfied: click>=7.0 in /home/tommy/miniconda3/envs/py311/lib/python3.11/site-packages (from ray>=2.9->vllm) (8.1.7)\n",
      "Requirement already satisfied: msgpack<2.0.0,>=1.0.0 in /home/tommy/miniconda3/envs/py311/lib/python3.11/site-packages (from ray>=2.9->vllm) (1.0.8)\n",
      "Requirement already satisfied: protobuf!=3.19.5,>=3.15.3 in /home/tommy/miniconda3/envs/py311/lib/python3.11/site-packages (from ray>=2.9->vllm) (4.25.4)\n",
      "Requirement already satisfied: aiosignal in /home/tommy/miniconda3/envs/py311/lib/python3.11/site-packages (from ray>=2.9->vllm) (1.3.1)\n",
      "Requirement already satisfied: frozenlist in /home/tommy/miniconda3/envs/py311/lib/python3.11/site-packages (from ray>=2.9->vllm) (1.4.1)\n",
      "Requirement already satisfied: regex>=2022.1.18 in /home/tommy/miniconda3/envs/py311/lib/python3.11/site-packages (from tiktoken>=0.6.0->vllm) (2024.7.24)\n",
      "Requirement already satisfied: charset-normalizer<4,>=2 in /home/tommy/miniconda3/envs/py311/lib/python3.11/site-packages (from requests->vllm) (3.3.2)\n",
      "Requirement already satisfied: idna<4,>=2.5 in /home/tommy/miniconda3/envs/py311/lib/python3.11/site-packages (from requests->vllm) (3.7)\n",
      "Requirement already satisfied: urllib3<3,>=1.21.1 in /home/tommy/miniconda3/envs/py311/lib/python3.11/site-packages (from requests->vllm) (2.2.2)\n",
      "Requirement already satisfied: certifi>=2017.4.17 in /home/tommy/miniconda3/envs/py311/lib/python3.11/site-packages (from requests->vllm) (2024.7.4)\n",
      "Requirement already satisfied: huggingface-hub<1.0,>=0.16.4 in /home/tommy/miniconda3/envs/py311/lib/python3.11/site-packages (from tokenizers>=0.19.1->vllm) (0.24.5)\n",
      "Requirement already satisfied: safetensors>=0.4.1 in /home/tommy/miniconda3/envs/py311/lib/python3.11/site-packages (from transformers>=4.43.2->vllm) (0.4.4)\n",
      "Requirement already satisfied: aiohappyeyeballs>=2.3.0 in /home/tommy/miniconda3/envs/py311/lib/python3.11/site-packages (from aiohttp->vllm) (2.3.5)\n",
      "Requirement already satisfied: attrs>=17.3.0 in /home/tommy/miniconda3/envs/py311/lib/python3.11/site-packages (from aiohttp->vllm) (24.1.0)\n",
      "Requirement already satisfied: multidict<7.0,>=4.5 in /home/tommy/miniconda3/envs/py311/lib/python3.11/site-packages (from aiohttp->vllm) (6.0.5)\n",
      "Requirement already satisfied: yarl<2.0,>=1.0 in /home/tommy/miniconda3/envs/py311/lib/python3.11/site-packages (from aiohttp->vllm) (1.9.4)\n",
      "Requirement already satisfied: h11>=0.8 in /home/tommy/miniconda3/envs/py311/lib/python3.11/site-packages (from uvicorn[standard]->vllm) (0.14.0)\n",
      "Requirement already satisfied: httptools>=0.5.0 in /home/tommy/miniconda3/envs/py311/lib/python3.11/site-packages (from uvicorn[standard]->vllm) (0.6.1)\n",
      "Requirement already satisfied: python-dotenv>=0.13 in /home/tommy/miniconda3/envs/py311/lib/python3.11/site-packages (from uvicorn[standard]->vllm) (1.0.1)\n",
      "Requirement already satisfied: uvloop!=0.15.0,!=0.15.1,>=0.14.0 in /home/tommy/miniconda3/envs/py311/lib/python3.11/site-packages (from uvicorn[standard]->vllm) (0.19.0)\n",
      "Requirement already satisfied: watchfiles>=0.13 in /home/tommy/miniconda3/envs/py311/lib/python3.11/site-packages (from uvicorn[standard]->vllm) (0.23.0)\n",
      "Requirement already satisfied: websockets>=10.4 in /home/tommy/miniconda3/envs/py311/lib/python3.11/site-packages (from uvicorn[standard]->vllm) (12.0)\n",
      "Requirement already satisfied: anyio<5,>=3.4.0 in /home/tommy/miniconda3/envs/py311/lib/python3.11/site-packages (from starlette<1.0.0,>=0.30.0->prometheus-fastapi-instrumentator>=7.0.0->vllm) (4.4.0)\n",
      "Requirement already satisfied: pyarrow>=15.0.0 in /home/tommy/miniconda3/envs/py311/lib/python3.11/site-packages (from datasets->outlines<0.1,>=0.0.43->vllm) (17.0.0)\n",
      "Requirement already satisfied: dill<0.3.9,>=0.3.0 in /home/tommy/miniconda3/envs/py311/lib/python3.11/site-packages (from datasets->outlines<0.1,>=0.0.43->vllm) (0.3.8)\n",
      "Requirement already satisfied: pandas in /home/tommy/miniconda3/envs/py311/lib/python3.11/site-packages (from datasets->outlines<0.1,>=0.0.43->vllm) (2.2.2)\n",
      "Requirement already satisfied: xxhash in /home/tommy/miniconda3/envs/py311/lib/python3.11/site-packages (from datasets->outlines<0.1,>=0.0.43->vllm) (3.4.1)\n",
      "Requirement already satisfied: multiprocess in /home/tommy/miniconda3/envs/py311/lib/python3.11/site-packages (from datasets->outlines<0.1,>=0.0.43->vllm) (0.70.16)\n",
      "Requirement already satisfied: MarkupSafe>=2.0 in /home/tommy/miniconda3/envs/py311/lib/python3.11/site-packages (from jinja2->torch==2.4.0->vllm) (2.1.5)\n",
      "Requirement already satisfied: jsonschema-specifications>=2023.03.6 in /home/tommy/miniconda3/envs/py311/lib/python3.11/site-packages (from jsonschema->outlines<0.1,>=0.0.43->vllm) (2023.12.1)\n",
      "Requirement already satisfied: rpds-py>=0.7.1 in /home/tommy/miniconda3/envs/py311/lib/python3.11/site-packages (from jsonschema->outlines<0.1,>=0.0.43->vllm) (0.19.1)\n",
      "Requirement already satisfied: llvmlite<0.44,>=0.43.0dev0 in /home/tommy/miniconda3/envs/py311/lib/python3.11/site-packages (from numba->outlines<0.1,>=0.0.43->vllm) (0.43.0)\n",
      "Requirement already satisfied: mpmath<1.4,>=1.1.0 in /home/tommy/miniconda3/envs/py311/lib/python3.11/site-packages (from sympy->torch==2.4.0->vllm) (1.3.0)\n",
      "Requirement already satisfied: sniffio>=1.1 in /home/tommy/miniconda3/envs/py311/lib/python3.11/site-packages (from anyio<5,>=3.4.0->starlette<1.0.0,>=0.30.0->prometheus-fastapi-instrumentator>=7.0.0->vllm) (1.3.1)\n",
      "Requirement already satisfied: python-dateutil>=2.8.2 in /home/tommy/miniconda3/envs/py311/lib/python3.11/site-packages (from pandas->datasets->outlines<0.1,>=0.0.43->vllm) (2.9.0.post0)\n",
      "Requirement already satisfied: pytz>=2020.1 in /home/tommy/miniconda3/envs/py311/lib/python3.11/site-packages (from pandas->datasets->outlines<0.1,>=0.0.43->vllm) (2024.1)\n",
      "Requirement already satisfied: tzdata>=2022.7 in /home/tommy/miniconda3/envs/py311/lib/python3.11/site-packages (from pandas->datasets->outlines<0.1,>=0.0.43->vllm) (2024.1)\n",
      "Requirement already satisfied: six>=1.5 in /home/tommy/miniconda3/envs/py311/lib/python3.11/site-packages (from python-dateutil>=2.8.2->pandas->datasets->outlines<0.1,>=0.0.43->vllm) (1.16.0)\n"
     ]
    }
   ],
   "source": [
    "!pip install --upgrade transformers\n",
    "!pip install --upgrade trl\n",
    "!pip install --upgrade transformers # ==4.43.1\n",
    "!pip install --upgrade vllm # ==0.5.3.post1\n"
   ]
  },
  {
   "cell_type": "code",
   "execution_count": 54,
   "metadata": {},
   "outputs": [
    {
     "name": "stderr",
     "output_type": "stream",
     "text": [
      "huggingface/tokenizers: The current process just got forked, after parallelism has already been used. Disabling parallelism to avoid deadlocks...\n",
      "To disable this warning, you can either:\n",
      "\t- Avoid using `tokenizers` before the fork if possible\n",
      "\t- Explicitly set the environment variable TOKENIZERS_PARALLELISM=(true | false)\n"
     ]
    },
    {
     "name": "stdout",
     "output_type": "stream",
     "text": [
      "Requirement already satisfied: gguf in /home/tommy/miniconda3/envs/py311/lib/python3.11/site-packages (0.9.1)\n",
      "Requirement already satisfied: numpy>=1.17 in /home/tommy/miniconda3/envs/py311/lib/python3.11/site-packages (from gguf) (1.26.4)\n",
      "Requirement already satisfied: tqdm>=4.27 in /home/tommy/miniconda3/envs/py311/lib/python3.11/site-packages (from gguf) (4.66.5)\n"
     ]
    },
    {
     "ename": "",
     "evalue": "",
     "output_type": "error",
     "traceback": [
      "\u001b[1;31mThe Kernel crashed while executing code in the current cell or a previous cell. \n",
      "\u001b[1;31mPlease review the code in the cell(s) to identify a possible cause of the failure. \n",
      "\u001b[1;31mClick <a href='https://aka.ms/vscodeJupyterKernelCrash'>here</a> for more info. \n",
      "\u001b[1;31mView Jupyter <a href='command:jupyter.viewOutput'>log</a> for further details."
     ]
    }
   ],
   "source": [
    "!pip install gguf"
   ]
  },
  {
   "cell_type": "code",
   "execution_count": 55,
   "metadata": {},
   "outputs": [
    {
     "data": {
      "application/vnd.jupyter.widget-view+json": {
       "model_id": "35c74dd36bd44329829837ae583d55a2",
       "version_major": 2,
       "version_minor": 0
      },
      "text/plain": [
       "tokenizer_config.json:   0%|          | 0.00/55.4k [00:00<?, ?B/s]"
      ]
     },
     "metadata": {},
     "output_type": "display_data"
    },
    {
     "data": {
      "application/vnd.jupyter.widget-view+json": {
       "model_id": "2c2b851813e54dfebabe46d3465707a4",
       "version_major": 2,
       "version_minor": 0
      },
      "text/plain": [
       "ggml-model-q4_k_m.gguf:   0%|          | 0.00/4.92G [00:00<?, ?B/s]"
      ]
     },
     "metadata": {},
     "output_type": "display_data"
    },
    {
     "data": {
      "application/vnd.jupyter.widget-view+json": {
       "model_id": "0cb1d182866c43e2ad656ca8274ddf51",
       "version_major": 2,
       "version_minor": 0
      },
      "text/plain": [
       "config.json:   0%|          | 0.00/915 [00:00<?, ?B/s]"
      ]
     },
     "metadata": {},
     "output_type": "display_data"
    },
    {
     "name": "stderr",
     "output_type": "stream",
     "text": [
      "The tokenizer class you load from this checkpoint is not the same type as the class this function is called from. It may result in unexpected tokenization. \n",
      "The tokenizer class you load from this checkpoint is 'LlamaTokenizer'. \n",
      "The class this function is called from is 'PreTrainedTokenizerFast'.\n",
      "Converting and de-quantizing GGUF tensors...:  47%|████████████████▌                  | 138/291 [00:52<01:14,  2.04it/s]"
     ]
    },
    {
     "ename": "",
     "evalue": "",
     "output_type": "error",
     "traceback": [
      "\u001b[1;31mCanceled future for execute_request message before replies were done"
     ]
    },
    {
     "ename": "",
     "evalue": "",
     "output_type": "error",
     "traceback": [
      "\u001b[1;31mCanceled future for execute_request message before replies were done. \n",
      "\u001b[1;31mView Jupyter <a href='command:jupyter.viewOutput'>log</a> for further details."
     ]
    }
   ],
   "source": [
    "from transformers import AutoTokenizer, AutoModelForCausalLM, AutoConfig\n",
    "import gguf\n",
    "\n",
    "model_id = \"Saxo/Linkbricks-Horizon-AI-Korean-llama-3.1-sft-dpo-8B\"\n",
    "file_name = \"ggml-model-q4_k_m.gguf\"\n",
    "\n",
    "tokenizer = AutoTokenizer.from_pretrained(model_id, gguf_file=file_name)\n",
    "model = AutoModelForCausalLM.from_pretrained(model_id, gguf_file=file_name)"
   ]
  },
  {
   "cell_type": "code",
   "execution_count": null,
   "metadata": {},
   "outputs": [],
   "source": [
    "import torch\n",
    "\n",
    "# 입력 텍스트를 토크나이즈합니다.\n",
    "input_text = \"안녕하세요, 오늘 기분이 어떠신가요?\"\n",
    "inputs = tokenizer(input_text, return_tensors=\"pt\")\n",
    "\n",
    "# 모델을 통해 텍스트를 생성합니다.\n",
    "with torch.no_grad():\n",
    "    outputs = model.generate(**inputs)\n",
    "\n",
    "# 생성된 텍스트를 디코드하여 출력합니다.\n",
    "generated_text = tokenizer.decode(outputs[0], skip_special_tokens=True)\n",
    "print(generated_text)"
   ]
  },
  {
   "cell_type": "code",
   "execution_count": null,
   "metadata": {},
   "outputs": [
    {
     "ename": "",
     "evalue": "",
     "output_type": "error",
     "traceback": [
      "\u001b[1;31mRunning cells with 'base (Python 3.12.4)' requires the ipykernel package.\n",
      "\u001b[1;31mRun the following command to install 'ipykernel' into the Python environment. \n",
      "\u001b[1;31mCommand: 'conda install -n base ipykernel --update-deps --force-reinstall'"
     ]
    }
   ],
   "source": []
  }
 ],
 "metadata": {
  "kernelspec": {
   "display_name": "Python 3 (ipykernel)",
   "language": "python",
   "name": "python3"
  },
  "language_info": {
   "codemirror_mode": {
    "name": "ipython",
    "version": 3
   },
   "file_extension": ".py",
   "mimetype": "text/x-python",
   "name": "python",
   "nbconvert_exporter": "python",
   "pygments_lexer": "ipython3",
   "version": "3.11.0"
  }
 },
 "nbformat": 4,
 "nbformat_minor": 2
}
